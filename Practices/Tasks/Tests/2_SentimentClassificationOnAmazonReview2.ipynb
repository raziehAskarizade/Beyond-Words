{
 "cells": [
  {
   "cell_type": "markdown",
   "metadata": {},
   "source": [
    "#### Fardin Rastakhiz @2023"
   ]
  },
  {
   "cell_type": "markdown",
   "metadata": {},
   "source": [
    "# Test Sentiment Classification\n",
    "### On SnapFood, Full Heterogeneous Graph"
   ]
  },
  {
   "cell_type": "code",
   "execution_count": 1,
   "metadata": {},
   "outputs": [
    {
     "name": "stderr",
     "output_type": "stream",
     "text": [
      "c:\\Users\\fardin\\AppData\\Local\\Programs\\Python\\Python310\\lib\\site-packages\\torchaudio\\backend\\utils.py:74: UserWarning: No audio backend is available.\n",
      "  warnings.warn(\"No audio backend is available.\")\n"
     ]
    }
   ],
   "source": [
    "import numpy as np\n",
    "from Scripts.Configs.ConfigClass import Config\n",
    "from Scripts.DataManager.GraphConstructor.GraphConstructor import TextGraphType\n",
    "from lightning.pytorch.loggers import CSVLogger\n",
    "import os\n",
    "from Scripts.DataManager.GraphLoader.AmazonReviewGraphDataModule import AmazonReviewGraphDataModule\n",
    "import time\n",
    "import torch"
   ]
  },
  {
   "cell_type": "code",
   "execution_count": 2,
   "metadata": {},
   "outputs": [],
   "source": [
    "config = Config(r'C:\\Users\\fardin\\Projects\\ColorIntelligence')\n",
    "os.environ['CUDA_LAUNCH_BLOCKING'] = \"1\"\n",
    "device = 'cuda'\n",
    "batch_size = 256"
   ]
  },
  {
   "cell_type": "code",
   "execution_count": 3,
   "metadata": {},
   "outputs": [
    {
     "name": "stdout",
     "output_type": "stream",
     "text": [
      "filename: C:\\Users\\fardin\\Projects\\ColorIntelligence\\data/GraphData/AmazonReview\\sentiment\\graph_var.txt\n"
     ]
    },
    {
     "name": "stderr",
     "output_type": "stream",
     "text": [
      " Loding Graphs From File : 100%|██████████| 2/2 [00:23<00:00, 11.93s/it]"
     ]
    },
    {
     "name": "stdout",
     "output_type": "stream",
     "text": [
      "self.shuffle: False\n"
     ]
    },
    {
     "name": "stderr",
     "output_type": "stream",
     "text": [
      "\n"
     ]
    }
   ],
   "source": [
    "# tag_dep_seq_sent = TextGraphType.TAGS | TextGraphType.DEPENDENCY | TextGraphType.SEQUENTIAL | TextGraphType.SENTENCE | TextGraphType.SENTIMENT\n",
    "tag_dep_seq_sent = TextGraphType.SENTIMENT\n",
    "data_manager = AmazonReviewGraphDataModule(config, True, True, shuffle=False, start_data_load=0 , end_data_load = 2000, device='cpu', batch_size=batch_size, graph_type=tag_dep_seq_sent, load_preprocessed_data = True)\n",
    "data_manager.load_labels()\n",
    "data_manager.load_graphs()"
   ]
  },
  {
   "cell_type": "code",
   "execution_count": 2,
   "metadata": {},
   "outputs": [
    {
     "ename": "NameError",
     "evalue": "name 'data_manager' is not defined",
     "output_type": "error",
     "traceback": [
      "\u001b[1;31m---------------------------------------------------------------------------\u001b[0m",
      "\u001b[1;31mNameError\u001b[0m                                 Traceback (most recent call last)",
      "\u001b[1;32mc:\\Users\\fardin\\Projects\\ColorIntelligence\\Practices\\Tasks\\Tests\\2_SentimentClassificationOnAmazonReview2.ipynb Cell 5\u001b[0m line \u001b[0;36m1\n\u001b[1;32m----> <a href='vscode-notebook-cell:/c%3A/Users/fardin/Projects/ColorIntelligence/Practices/Tasks/Tests/2_SentimentClassificationOnAmazonReview2.ipynb#X53sZmlsZQ%3D%3D?line=0'>1</a>\u001b[0m data_manager\n",
      "\u001b[1;31mNameError\u001b[0m: name 'data_manager' is not defined"
     ]
    }
   ],
   "source": [
    "data_manager"
   ]
  },
  {
   "cell_type": "code",
   "execution_count": 1,
   "metadata": {},
   "outputs": [
    {
     "ename": "NameError",
     "evalue": "name 'data_manager' is not defined",
     "output_type": "error",
     "traceback": [
      "\u001b[1;31m---------------------------------------------------------------------------\u001b[0m",
      "\u001b[1;31mNameError\u001b[0m                                 Traceback (most recent call last)",
      "\u001b[1;32mc:\\Users\\fardin\\Projects\\ColorIntelligence\\Practices\\Tasks\\Tests\\2_SentimentClassificationOnAmazonReview2.ipynb Cell 5\u001b[0m line \u001b[0;36m2\n\u001b[0;32m      <a href='vscode-notebook-cell:/c%3A/Users/fardin/Projects/ColorIntelligence/Practices/Tasks/Tests/2_SentimentClassificationOnAmazonReview2.ipynb#W4sZmlsZQ%3D%3D?line=0'>1</a>\u001b[0m \u001b[39m# data_manager.update_batch_size(128)\u001b[39;00m\n\u001b[1;32m----> <a href='vscode-notebook-cell:/c%3A/Users/fardin/Projects/ColorIntelligence/Practices/Tasks/Tests/2_SentimentClassificationOnAmazonReview2.ipynb#W4sZmlsZQ%3D%3D?line=1'>2</a>\u001b[0m t_dataloader \u001b[39m=\u001b[39m data_manager\u001b[39m.\u001b[39mtrain_dataloader()\n\u001b[0;32m      <a href='vscode-notebook-cell:/c%3A/Users/fardin/Projects/ColorIntelligence/Practices/Tasks/Tests/2_SentimentClassificationOnAmazonReview2.ipynb#W4sZmlsZQ%3D%3D?line=2'>3</a>\u001b[0m v_dataloader \u001b[39m=\u001b[39m data_manager\u001b[39m.\u001b[39mval_dataloader()\n\u001b[0;32m      <a href='vscode-notebook-cell:/c%3A/Users/fardin/Projects/ColorIntelligence/Practices/Tasks/Tests/2_SentimentClassificationOnAmazonReview2.ipynb#W4sZmlsZQ%3D%3D?line=3'>4</a>\u001b[0m X1, y1 \u001b[39m=\u001b[39m \u001b[39mnext\u001b[39m(\u001b[39miter\u001b[39m(t_dataloader))\n",
      "\u001b[1;31mNameError\u001b[0m: name 'data_manager' is not defined"
     ]
    }
   ],
   "source": [
    "# data_manager.update_batch_size(128)\n",
    "t_dataloader = data_manager.train_dataloader()\n",
    "v_dataloader = data_manager.val_dataloader()\n",
    "X1, y1 = next(iter(t_dataloader))\n",
    "X2, y2 = next(iter(v_dataloader))\n",
    "# X1.metadata()\n",
    "len(X1)"
   ]
  },
  {
   "cell_type": "code",
   "execution_count": 8,
   "metadata": {},
   "outputs": [],
   "source": [
    "from Scripts.Models.LightningModels.LightningModels import HeteroBinaryLightningModel\n",
    "from Scripts.Models.LossFunctions.HeteroLossFunctions import HeteroLossArgs, HeteroLoss1, HeteroLoss2\n",
    "from lightning.pytorch.callbacks import EarlyStopping, ModelCheckpoint\n",
    "from Scripts.Models.ModelsManager.ClassifierModelManager import ClassifierModelManager\n",
    "from Scripts.Models.GraphEmbedding.HeteroDeepGraphEmbedding2 import HeteroDeepGraphEmbedding2"
   ]
  },
  {
   "cell_type": "code",
   "execution_count": 15,
   "metadata": {},
   "outputs": [
    {
     "data": {
      "text/plain": [
       "torch.Size([256, 256])"
      ]
     },
     "execution_count": 15,
     "metadata": {},
     "output_type": "execute_result"
    }
   ],
   "source": [
    "a = torch.ones(256, 1, 128).view(256, -1)\n",
    "b = torch.zeros(256, 1, 128).view(256, -1)\n",
    "torch.concat([a,b], dim=1).shape"
   ]
  },
  {
   "cell_type": "code",
   "execution_count": 9,
   "metadata": {},
   "outputs": [
    {
     "name": "stdout",
     "output_type": "stream",
     "text": [
      "x_pooled.shape: torch.Size([256, 1, 128])\n"
     ]
    },
    {
     "data": {
      "text/plain": [
       "(tensor([[ 0.0757],\n",
       "         [ 0.3828],\n",
       "         [ 0.2449],\n",
       "         [-0.0807],\n",
       "         [ 0.1306],\n",
       "         [-0.0735],\n",
       "         [ 0.0521],\n",
       "         [-0.0205],\n",
       "         [ 0.1598],\n",
       "         [-0.0007],\n",
       "         [ 0.0881],\n",
       "         [-0.0542],\n",
       "         [-0.0283],\n",
       "         [ 0.0890],\n",
       "         [-0.0888],\n",
       "         [ 0.0227],\n",
       "         [ 0.0175],\n",
       "         [ 0.0646],\n",
       "         [ 0.0634],\n",
       "         [ 0.2178],\n",
       "         [-0.0034],\n",
       "         [ 0.0840],\n",
       "         [ 0.3211],\n",
       "         [-0.0286],\n",
       "         [ 0.1543],\n",
       "         [ 0.0766],\n",
       "         [-0.0092],\n",
       "         [ 0.0180],\n",
       "         [ 0.1093],\n",
       "         [ 0.0674],\n",
       "         [ 0.0515],\n",
       "         [ 0.1788],\n",
       "         [-0.0641],\n",
       "         [ 0.0468],\n",
       "         [-0.1016],\n",
       "         [-0.1945],\n",
       "         [ 0.1082],\n",
       "         [ 0.0041],\n",
       "         [ 0.1040],\n",
       "         [ 0.0304],\n",
       "         [ 0.0255],\n",
       "         [-0.1098],\n",
       "         [ 0.0606],\n",
       "         [ 0.0846],\n",
       "         [ 0.0499],\n",
       "         [ 0.0491],\n",
       "         [ 0.0492],\n",
       "         [-0.0876],\n",
       "         [ 0.5844],\n",
       "         [ 0.0366],\n",
       "         [-0.0456],\n",
       "         [ 0.0064],\n",
       "         [ 0.1581],\n",
       "         [ 0.1093],\n",
       "         [ 0.0612],\n",
       "         [ 0.1111],\n",
       "         [ 0.1014],\n",
       "         [ 0.0083],\n",
       "         [-0.0834],\n",
       "         [ 0.2043],\n",
       "         [ 0.0455],\n",
       "         [-0.0194],\n",
       "         [ 0.0566],\n",
       "         [-0.0087],\n",
       "         [ 0.1932],\n",
       "         [ 0.0487],\n",
       "         [ 0.0943],\n",
       "         [-0.0563],\n",
       "         [ 0.0857],\n",
       "         [-0.0701],\n",
       "         [-0.0351],\n",
       "         [ 0.0450],\n",
       "         [ 0.0497],\n",
       "         [ 0.0573],\n",
       "         [ 0.2500],\n",
       "         [ 0.1616],\n",
       "         [ 0.0973],\n",
       "         [-0.0232],\n",
       "         [ 0.0455],\n",
       "         [ 0.2133],\n",
       "         [-0.0627],\n",
       "         [ 0.1117],\n",
       "         [-0.0503],\n",
       "         [-0.0608],\n",
       "         [ 0.0199],\n",
       "         [-0.0829],\n",
       "         [ 0.1082],\n",
       "         [ 0.1029],\n",
       "         [ 0.1100],\n",
       "         [ 0.0950],\n",
       "         [ 0.2711],\n",
       "         [ 0.0592],\n",
       "         [ 0.1044],\n",
       "         [-0.0181],\n",
       "         [-0.0532],\n",
       "         [-0.0148],\n",
       "         [-0.0289],\n",
       "         [ 0.0829],\n",
       "         [ 0.1501],\n",
       "         [-0.1029],\n",
       "         [ 0.0420],\n",
       "         [ 0.1296],\n",
       "         [ 0.1804],\n",
       "         [ 0.1733],\n",
       "         [-0.1081],\n",
       "         [-0.1536],\n",
       "         [ 0.0526],\n",
       "         [ 0.0720],\n",
       "         [-0.0602],\n",
       "         [-0.0389],\n",
       "         [ 0.0006],\n",
       "         [ 0.1282],\n",
       "         [ 0.0220],\n",
       "         [ 0.0494],\n",
       "         [-0.0705],\n",
       "         [-0.0271],\n",
       "         [-0.0319],\n",
       "         [-0.0553],\n",
       "         [ 0.0055],\n",
       "         [ 0.3003],\n",
       "         [-0.0330],\n",
       "         [-0.0090],\n",
       "         [-0.0283],\n",
       "         [-0.1302],\n",
       "         [ 0.0565],\n",
       "         [ 0.0085],\n",
       "         [-0.0180],\n",
       "         [ 0.0901],\n",
       "         [ 0.2321],\n",
       "         [-0.0575],\n",
       "         [-0.0113],\n",
       "         [ 0.0843],\n",
       "         [-0.0772],\n",
       "         [ 0.2829],\n",
       "         [ 0.1603],\n",
       "         [ 0.0622],\n",
       "         [ 0.0438],\n",
       "         [-0.0371],\n",
       "         [ 0.2877],\n",
       "         [ 0.0375],\n",
       "         [-0.0699],\n",
       "         [ 0.0447],\n",
       "         [-0.0418],\n",
       "         [-0.0672],\n",
       "         [-0.0009],\n",
       "         [ 0.2576],\n",
       "         [ 0.0949],\n",
       "         [ 0.0299],\n",
       "         [ 0.0065],\n",
       "         [-0.0450],\n",
       "         [-0.1062],\n",
       "         [ 0.2088],\n",
       "         [ 0.0547],\n",
       "         [ 0.0427],\n",
       "         [ 0.0299],\n",
       "         [-0.0348],\n",
       "         [-0.0757],\n",
       "         [ 0.0863],\n",
       "         [ 0.0728],\n",
       "         [ 0.0319],\n",
       "         [ 0.0375],\n",
       "         [-0.0931],\n",
       "         [ 0.0466],\n",
       "         [ 0.1097],\n",
       "         [ 0.0543],\n",
       "         [ 0.0582],\n",
       "         [ 0.0387],\n",
       "         [ 0.0795],\n",
       "         [ 0.0799],\n",
       "         [-0.0272],\n",
       "         [ 0.0817],\n",
       "         [ 0.0240],\n",
       "         [-0.0887],\n",
       "         [ 0.1045],\n",
       "         [ 0.1322],\n",
       "         [ 0.1191],\n",
       "         [ 0.0586],\n",
       "         [-0.0920],\n",
       "         [-0.0354],\n",
       "         [ 0.3440],\n",
       "         [ 0.0467],\n",
       "         [ 0.0339],\n",
       "         [ 0.1801],\n",
       "         [-0.0562],\n",
       "         [ 0.0171],\n",
       "         [ 0.1427],\n",
       "         [-0.0171],\n",
       "         [ 0.0272],\n",
       "         [ 0.1113],\n",
       "         [-0.0466],\n",
       "         [ 0.3798],\n",
       "         [ 0.1062],\n",
       "         [ 0.0920],\n",
       "         [-0.0677],\n",
       "         [-0.0351],\n",
       "         [ 0.0494],\n",
       "         [-0.0238],\n",
       "         [-0.0200],\n",
       "         [ 0.2195],\n",
       "         [-0.2384],\n",
       "         [ 0.0252],\n",
       "         [ 0.0090],\n",
       "         [-0.0504],\n",
       "         [ 0.0801],\n",
       "         [ 0.0264],\n",
       "         [ 0.1119],\n",
       "         [ 0.0739],\n",
       "         [ 0.1001],\n",
       "         [-0.0546],\n",
       "         [ 0.1328],\n",
       "         [ 0.1959],\n",
       "         [ 0.0852],\n",
       "         [ 0.4458],\n",
       "         [-0.0430],\n",
       "         [-0.1328],\n",
       "         [ 0.0373],\n",
       "         [-0.0238],\n",
       "         [ 0.1371],\n",
       "         [ 0.0580],\n",
       "         [ 0.0756],\n",
       "         [ 0.1386],\n",
       "         [ 0.0191],\n",
       "         [ 0.0172],\n",
       "         [-0.0203],\n",
       "         [-0.0565],\n",
       "         [ 0.0727],\n",
       "         [ 0.0170],\n",
       "         [ 0.2459],\n",
       "         [-0.0398],\n",
       "         [ 0.0848],\n",
       "         [ 0.1732],\n",
       "         [ 0.0654],\n",
       "         [ 0.1228],\n",
       "         [-0.0363],\n",
       "         [-0.0365],\n",
       "         [-0.0627],\n",
       "         [-0.0497],\n",
       "         [-0.0214],\n",
       "         [ 0.1700],\n",
       "         [ 0.0815],\n",
       "         [ 0.0804],\n",
       "         [-0.1039],\n",
       "         [-0.0442],\n",
       "         [-0.0518],\n",
       "         [-0.1529],\n",
       "         [-0.0136],\n",
       "         [-0.0209],\n",
       "         [-0.1188],\n",
       "         [-0.2809],\n",
       "         [-0.0492],\n",
       "         [ 0.0534],\n",
       "         [ 0.0604],\n",
       "         [ 0.0251],\n",
       "         [-0.0803],\n",
       "         [ 0.1103],\n",
       "         [-0.1302]], grad_fn=<AddmmBackward0>),\n",
       " {'dep': tensor([[-0.1446,  0.0315, -0.1302,  ...,  0.0431, -0.0851, -0.0040],\n",
       "          [-0.2747,  0.1992, -0.2838,  ..., -0.1287, -0.9304, -0.1918],\n",
       "          [-0.2250, -0.0647,  0.0243,  ...,  0.3591, -0.2355, -0.3090],\n",
       "          ...,\n",
       "          [-0.1891,  0.0489, -0.1154,  ...,  0.0626, -0.0942, -0.1502],\n",
       "          [-0.1420,  0.0589, -0.1208,  ...,  0.0812, -0.1613,  0.0208],\n",
       "          [-0.1748,  0.0690, -0.1780,  ...,  0.0510, -0.0189, -0.0466]],\n",
       "         grad_fn=<AddmmBackward0>),\n",
       "  'tag': tensor([[-0.0013,  0.0235, -0.0180,  ...,  0.0096,  0.0488, -0.1126],\n",
       "          [ 0.1997, -0.0576, -0.2752,  ..., -0.5544, -0.0528, -0.2145],\n",
       "          [ 0.1798, -0.0692,  0.1441,  ..., -0.2570, -0.1852,  0.0695],\n",
       "          ...,\n",
       "          [ 0.0068,  0.0228, -0.0126,  ..., -0.0212,  0.0483, -0.0090],\n",
       "          [ 0.0635,  0.0343, -0.0567,  ..., -0.0628,  0.0633,  0.0105],\n",
       "          [ 0.0687, -0.0360, -0.0021,  ..., -0.0937,  0.0082, -0.0471]],\n",
       "         grad_fn=<AddmmBackward0>),\n",
       "  'word': tensor([[ 1.1007e-01,  9.3340e-02, -2.2899e-03,  ..., -4.1853e-03,\n",
       "            1.0559e-01,  2.7488e-01],\n",
       "          [ 5.7568e-01,  7.2679e-02, -2.1647e-04,  ...,  8.0008e-01,\n",
       "           -5.5055e-03,  1.2704e-01],\n",
       "          [ 3.1369e-01,  1.4642e-01,  2.2005e-01,  ..., -2.9762e-03,\n",
       "           -9.3288e-04, -1.8409e-03],\n",
       "          ...,\n",
       "          [ 4.3770e-02, -6.6774e-03, -1.7803e-03,  ..., -7.4452e-03,\n",
       "            4.2688e-01, -4.7270e-03],\n",
       "          [-1.1160e-02,  1.4375e+00,  6.7004e-01,  ...,  3.5291e-01,\n",
       "            1.7242e-02, -4.5099e-03],\n",
       "          [-4.7101e-03, -9.1437e-03, -7.1511e-03,  ...,  6.1285e-01,\n",
       "           -3.4442e-03,  2.6373e-01]], grad_fn=<LeakyReluBackward0>),\n",
       "  'sentence': tensor([[ 4.9864e-01, -7.9222e-03,  4.4450e-01,  ...,  4.0174e-01,\n",
       "           -3.4254e-03, -7.1631e-04],\n",
       "          [ 2.2574e-01, -2.7333e-03,  4.8755e-01,  ...,  1.3856e-01,\n",
       "           -1.1876e-04, -2.7480e-03],\n",
       "          [ 3.8495e-02, -6.8968e-03,  5.1507e-01,  ...,  5.2190e-01,\n",
       "           -5.5127e-03, -5.2114e-03],\n",
       "          ...,\n",
       "          [-1.2948e-03, -4.3138e-03, -4.7925e-03,  ..., -5.0324e-03,\n",
       "           -1.5942e-02, -2.1687e-03],\n",
       "          [-7.3776e-03, -5.9293e-03, -4.4127e-03,  ..., -2.3773e-03,\n",
       "           -4.7142e-03, -1.1725e-03],\n",
       "          [-1.6816e-04, -1.2051e-02, -3.0896e-03,  ..., -9.6195e-03,\n",
       "           -9.2850e-03,  8.4853e-02]], grad_fn=<LeakyReluBackward0>),\n",
       "  'general': tensor([[-1.1889e-03, -3.9329e-03,  6.7078e-03,  ..., -4.2403e-03,\n",
       "            2.0705e-01,  3.1428e-01],\n",
       "          [-7.0660e-03, -1.4662e-03,  6.3483e-02,  ..., -1.8894e-03,\n",
       "            6.0090e-02,  1.4364e-01],\n",
       "          [-6.2134e-04, -2.6664e-03, -4.0960e-03,  ..., -6.7185e-03,\n",
       "            5.7063e-02,  6.1672e-01],\n",
       "          ...,\n",
       "          [ 1.5346e-01,  3.8600e-02,  1.1105e-01,  ..., -2.6229e-03,\n",
       "            2.2054e-01, -1.5865e-03],\n",
       "          [-7.0858e-03,  1.3494e-01, -1.7337e-03,  ..., -3.6025e-04,\n",
       "            2.2785e-01, -3.7564e-03],\n",
       "          [ 2.5670e-01,  2.1015e-01,  9.7938e-01,  ..., -4.7898e-03,\n",
       "            8.9157e-01,  1.1234e+00]], grad_fn=<LeakyReluBackward0>),\n",
       "  'sentiment': tensor([[-6.9269e-03,  1.1949e+00, -7.0158e-03,  ..., -1.2811e-02,\n",
       "           -8.7193e-03, -5.8118e-03],\n",
       "          [-2.8797e-03,  1.8391e-01, -9.4443e-04,  ..., -1.8613e-03,\n",
       "            1.0733e-01, -1.1043e-03],\n",
       "          [-2.6371e-03, -1.2704e-03, -2.0704e-03,  ..., -1.0096e-02,\n",
       "            3.5752e-02,  5.1017e-01],\n",
       "          ...,\n",
       "          [ 3.0322e-02, -2.7526e-03, -5.6927e-04,  ..., -1.5780e-03,\n",
       "            2.5022e-01, -9.9201e-04],\n",
       "          [ 5.5437e-01,  1.1885e-01, -2.7210e-03,  ..., -4.4533e-03,\n",
       "            1.4268e-01,  4.8255e-01],\n",
       "          [-7.6172e-05, -6.6338e-05, -1.2894e-03,  ..., -1.8446e-03,\n",
       "           -1.1401e-03, -5.8818e-03]], grad_fn=<LeakyReluBackward0>)})"
      ]
     },
     "execution_count": 9,
     "metadata": {},
     "output_type": "execute_result"
    }
   ],
   "source": [
    "\n",
    "graph_embedding = HeteroDeepGraphEmbedding2(300, 1, X1.metadata(), 128, dropout=0.2, edge_type_count=11)\n",
    "graph_embedding(X1)"
   ]
  },
  {
   "cell_type": "code",
   "execution_count": 6,
   "metadata": {},
   "outputs": [
    {
     "data": {
      "text/plain": [
       "(['dep', 'tag', 'word', 'sentence', 'general', 'sentiment'],\n",
       " [('dep', 'dep_word', 'word'),\n",
       "  ('word', 'word_dep', 'dep'),\n",
       "  ('tag', 'tag_word', 'word'),\n",
       "  ('word', 'word_tag', 'tag'),\n",
       "  ('word', 'seq', 'word'),\n",
       "  ('general', 'general_sentence', 'sentence'),\n",
       "  ('sentence', 'sentence_general', 'general'),\n",
       "  ('word', 'word_sentence', 'sentence'),\n",
       "  ('sentence', 'sentence_word', 'word'),\n",
       "  ('word', 'word_sentiment', 'sentiment'),\n",
       "  ('sentiment', 'sentiment_word', 'word')])"
      ]
     },
     "execution_count": 6,
     "metadata": {},
     "output_type": "execute_result"
    }
   ],
   "source": [
    "X1.metadata()"
   ]
  },
  {
   "cell_type": "code",
   "execution_count": 7,
   "metadata": {},
   "outputs": [],
   "source": [
    "edge_type_weights = {\n",
    "    'full': [1., 1., 1., 1., 1., 1., 1., 1., 1., 1., 1.],\n",
    "    'seq': [0., 0., 0., 0., 1., 0., 0., 0., 0., 0., 0.],\n",
    "    'dep': [1., 1., 0., 0., 1., 0., 0., 0., 0., 0., 0.],\n",
    "    'tag': [0., 0., 1., 1., 1., 0., 0., 0., 0., 0., 0.],\n",
    "    'general_sentence': [0., 0., 0., 0., 1., 1., 1., 1., 1., 0., 0.],\n",
    "    'sentence': [0., 0., 0., 0., 1., 0., 0., 1., 1., 0., 0.],\n",
    "    'sentiment': [0., 0., 0., 0., 1., 0., 0., 0., 0., 1., 1.],\n",
    "}"
   ]
  },
  {
   "cell_type": "code",
   "execution_count": 27,
   "metadata": {},
   "outputs": [
    {
     "name": "stderr",
     "output_type": "stream",
     "text": [
      "GPU available: True (cuda), used: True\n",
      "TPU available: False, using: 0 TPU cores\n",
      "IPU available: False, using: 0 IPUs\n",
      "HPU available: False, using: 0 HPUs\n"
     ]
    },
    {
     "name": "stdout",
     "output_type": "stream",
     "text": [
      "bbbb\n"
     ]
    },
    {
     "name": "stderr",
     "output_type": "stream",
     "text": [
      "LOCAL_RANK: 0 - CUDA_VISIBLE_DEVICES: [0]\n",
      "\n",
      "  | Name      | Type                      | Params\n",
      "--------------------------------------------------------\n",
      "0 | model     | HeteroDeepGraphEmbedding2 | 2.2 M \n",
      "1 | loss_func | HeteroLoss1               | 0     \n",
      "2 | train_acc | BinaryAccuracy            | 0     \n",
      "3 | val_acc   | BinaryAccuracy            | 0     \n",
      "4 | test_acc  | BinaryAccuracy            | 0     \n",
      "--------------------------------------------------------\n",
      "2.2 M     Trainable params\n",
      "22        Non-trainable params\n",
      "2.2 M     Total params\n",
      "8.829     Total estimated model params size (MB)\n"
     ]
    },
    {
     "data": {
      "application/vnd.jupyter.widget-view+json": {
       "model_id": "aa3a3aeea6e94557b366e32ea77a8041",
       "version_major": 2,
       "version_minor": 0
      },
      "text/plain": [
       "Training: |          | 0/? [00:00<?, ?it/s]"
      ]
     },
     "metadata": {},
     "output_type": "display_data"
    },
    {
     "data": {
      "application/vnd.jupyter.widget-view+json": {
       "model_id": "35ace2c43e91403a9139a5226715016d",
       "version_major": 2,
       "version_minor": 0
      },
      "text/plain": [
       "Validation: |          | 0/? [00:00<?, ?it/s]"
      ]
     },
     "metadata": {},
     "output_type": "display_data"
    }
   ],
   "source": [
    "for k in edge_type_weights:\n",
    "    graph_embedding = HeteroDeepGraphEmbedding2(300, 1, X1.metadata(), 128, dropout=0.2, edge_type_count=11, edge_type_weights=edge_type_weights[k])\n",
    "    graph_embedding = graph_embedding.to(device)\n",
    "    callbacks = [\n",
    "    ModelCheckpoint(save_top_k=5, mode='max', monitor='val_acc', save_last=True)\n",
    "    ]\n",
    "    lightning_model = HeteroBinaryLightningModel(graph_embedding,\n",
    "                                    torch.optim.Adam(graph_embedding.parameters(), lr=0.0045, weight_decay=0.001),\n",
    "                                        loss_func=HeteroLoss1(exception_keys=['word'], enc_factor=0.005),\n",
    "                                        learning_rate=0.0045,\n",
    "                                        batch_size=batch_size,\n",
    "                                        user_lr_scheduler=True,\n",
    "                                        min_lr=0.0003\n",
    "                                        ).to(device)\n",
    "    model_manager = ClassifierModelManager(graph_embedding, lightning_model, log_name='hetero_model_7', model_save_dir=r'C:\\Users\\fardin\\Projects\\ColorIntelligence\\Practices\\Tasks\\HeterogeneousGraphs\\hetero_model_7',device=device, num_train_epoch=1)\n",
    "    model_manager.fit(datamodule=data_manager)\n",
    "    model_manager.save_plot_csv_logger(loss_names=['train_loss', 'val_loss'], eval_names=['train_acc_epoch', 'val_acc_epoch'], name_prepend=f'tests_{k}')\n",
    "    model_manager.torch_model = model_manager.torch_model.to('cuda')\n",
    "    model_manager.save_evaluation(data_manager.test_dataloader(), f'{k}',True, True, True, True, True, True, True)"
   ]
  },
  {
   "cell_type": "code",
   "execution_count": 11,
   "metadata": {},
   "outputs": [
    {
     "data": {
      "text/plain": [
       "tensor([1., 1., 1.,  ..., 1., 1., 1.])"
      ]
     },
     "execution_count": 11,
     "metadata": {},
     "output_type": "execute_result"
    }
   ],
   "source": [
    "X1, y1 = next(iter(data_manager.test_dataloader()))\n",
    "X1.edge_attr_dict[('dep',  'dep_word',  'word')]"
   ]
  },
  {
   "cell_type": "code",
   "execution_count": 12,
   "metadata": {},
   "outputs": [
    {
     "name": "stderr",
     "output_type": "stream",
     "text": [
      "c:\\Users\\fardin\\AppData\\Local\\Programs\\Python\\Python310\\lib\\site-packages\\lightning\\pytorch\\utilities\\parsing.py:198: Attribute 'model' is an instance of `nn.Module` and is already saved during checkpointing. It is recommended to ignore them using `self.save_hyperparameters(ignore=['model'])`.\n",
      "GPU available: True (cuda), used: True\n",
      "TPU available: False, using: 0 TPU cores\n",
      "IPU available: False, using: 0 IPUs\n",
      "HPU available: False, using: 0 HPUs\n"
     ]
    }
   ],
   "source": [
    "\n",
    "callbacks = [\n",
    "    ModelCheckpoint(save_top_k=5, mode='max', monitor='val_acc', save_last=True)\n",
    "    ]\n",
    "lightning_model = HeteroBinaryLightningModel(graph_embedding,\n",
    "                                 torch.optim.Adam(graph_embedding.parameters(), lr=0.0045, weight_decay=0.001),\n",
    "                                       loss_func=HeteroLoss1(exception_keys=['word'], enc_factor=0.005),\n",
    "                                       learning_rate=0.0045,\n",
    "                                       batch_size=batch_size,\n",
    "                                       user_lr_scheduler=True,\n",
    "                                       min_lr=0.0003\n",
    "                                       ).to(device)\n",
    "\n",
    "# lightning_model = HeteroBinaryLightningModel.load_from_checkpoint(r'logs\\hetero_model_6\\version_17\\checkpoints\\epoch=1-step=541.ckpt', model=graph_embedding)\n",
    "\n",
    "# lightning_model.loss_func = HeteroLoss1(exception_keys=['word'], enc_factor=0)\n",
    "# lightning_model.learning_rate = 0.0003\n",
    "# lightning_model.optimizer = torch.optim.SGD(graph_embedding.parameters(), lr=0.0003, weight_decay=0.0001)\n",
    "# lightning_model.batch_size = batch_size\n",
    "# lightning_model.min_lr = 0.00003\n",
    "\n",
    "model_manager = ClassifierModelManager(graph_embedding, lightning_model, log_name='hetero_model_6', model_save_dir=r'C:\\Users\\fardin\\Projects\\ColorIntelligence\\Practices\\Tasks\\HeterogeneousGraphs\\hetero_model_3',device=device, num_train_epoch=150)"
   ]
  },
  {
   "cell_type": "code",
   "execution_count": null,
   "metadata": {},
   "outputs": [
    {
     "data": {
      "text/plain": [
       "Parameter containing:\n",
       "tensor([0., 0., 0., 0., 1., 0., 0., 0., 0., 0., 0.], device='cuda:0')"
      ]
     },
     "execution_count": 19,
     "metadata": {},
     "output_type": "execute_result"
    }
   ],
   "source": [
    "model_manager.lightning_model.model.pw1"
   ]
  },
  {
   "cell_type": "code",
   "execution_count": null,
   "metadata": {},
   "outputs": [
    {
     "data": {
      "text/plain": [
       "tensor([-0.3162, -0.3162, -0.3162, -0.3162,  3.1621, -0.3162, -0.3162, -0.3162,\n",
       "        -0.3162, -0.3162, -0.3162], device='cuda:0',\n",
       "       grad_fn=<NativeLayerNormBackward0>)"
      ]
     },
     "execution_count": 20,
     "metadata": {},
     "output_type": "execute_result"
    }
   ],
   "source": [
    "part_weight_norm = torch.nn.LayerNorm((11, )).to(device)\n",
    "part_weight_norm(model_manager.lightning_model.model.pw2)"
   ]
  },
  {
   "cell_type": "code",
   "execution_count": 41,
   "metadata": {},
   "outputs": [],
   "source": [
    "parameters = dict(lightning_model.model.named_parameters())"
   ]
  },
  {
   "cell_type": "code",
   "execution_count": 21,
   "metadata": {},
   "outputs": [
    {
     "data": {
      "text/plain": [
       "(['dep', 'tag', 'word', 'sentence', 'general', 'sentiment'],\n",
       " [('dep', 'dep_word', 'word'),\n",
       "  ('word', 'word_dep', 'dep'),\n",
       "  ('tag', 'tag_word', 'word'),\n",
       "  ('word', 'word_tag', 'tag'),\n",
       "  ('word', 'seq', 'word'),\n",
       "  ('general', 'general_sentence', 'sentence'),\n",
       "  ('sentence', 'sentence_general', 'general'),\n",
       "  ('word', 'word_sentence', 'sentence'),\n",
       "  ('sentence', 'sentence_word', 'word'),\n",
       "  ('word', 'word_sentiment', 'sentiment'),\n",
       "  ('sentiment', 'sentiment_word', 'word')])"
      ]
     },
     "execution_count": 21,
     "metadata": {},
     "output_type": "execute_result"
    }
   ],
   "source": [
    "X1.metadata()"
   ]
  },
  {
   "cell_type": "code",
   "execution_count": 22,
   "metadata": {},
   "outputs": [],
   "source": [
    "# data_manager.shuffle = True\n",
    "# data_manager.update_batch_size(256)"
   ]
  },
  {
   "cell_type": "code",
   "execution_count": 23,
   "metadata": {},
   "outputs": [],
   "source": [
    "# lightning_model.loss_func = HeteroLoss1(exception_keys=['word'], enc_factor=0.01)\n",
    "# lightning_model.learning_rate = 0.00015\n",
    "# lightning_model.optimizer = torch.optim.SGD(graph_embedding.parameters(), lr=0.00015)\n",
    "# lightning_model.batch_size = batch_size\n",
    "# lightning_model.min_lr = 0.00001"
   ]
  },
  {
   "cell_type": "code",
   "execution_count": 52,
   "metadata": {},
   "outputs": [],
   "source": [
    "parameters  =dict(model_manager.lightning_model.model.named_parameters())"
   ]
  },
  {
   "cell_type": "code",
   "execution_count": 13,
   "metadata": {},
   "outputs": [],
   "source": [
    "# print(parameters)"
   ]
  },
  {
   "cell_type": "code",
   "execution_count": 27,
   "metadata": {},
   "outputs": [
    {
     "name": "stdout",
     "output_type": "stream",
     "text": [
      "Parameter containing:\n",
      "tensor([1., 1., 0., 0., 1., 0., 0., 0., 0., 0., 0.], device='cuda:0')\n",
      "Parameter containing:\n",
      "tensor([1., 1., 0., 0., 1., 0., 0., 0., 0., 0., 0.], device='cuda:0')\n"
     ]
    }
   ],
   "source": [
    "model_manager.lightning_model.model.pw1[0] += 1\n",
    "model_manager.lightning_model.model.pw1[1] += 1\n",
    "model_manager.lightning_model.model.pw2[0] += 1\n",
    "model_manager.lightning_model.model.pw2[1] += 1\n",
    "print(model_manager.lightning_model.model.pw1)\n",
    "print(model_manager.lightning_model.model.pw2)"
   ]
  },
  {
   "cell_type": "code",
   "execution_count": null,
   "metadata": {},
   "outputs": [],
   "source": [
    "model_manager.trainer.fit_loop.max_epochs=1000\n",
    "# model_manager.trainer.fit_loop.max_steps=-1"
   ]
  },
  {
   "cell_type": "code",
   "execution_count": 48,
   "metadata": {},
   "outputs": [],
   "source": [
    "model_manager.lightning_model.loss_func.enc_factor = 0.1"
   ]
  },
  {
   "cell_type": "code",
   "execution_count": 14,
   "metadata": {},
   "outputs": [
    {
     "name": "stderr",
     "output_type": "stream",
     "text": [
      "You are using a CUDA device ('NVIDIA GeForce RTX 3080') that has Tensor Cores. To properly utilize them, you should set `torch.set_float32_matmul_precision('medium' | 'high')` which will trade-off precision for performance. For more details, read https://pytorch.org/docs/stable/generated/torch.set_float32_matmul_precision.html#torch.set_float32_matmul_precision\n",
      "LOCAL_RANK: 0 - CUDA_VISIBLE_DEVICES: [0]\n"
     ]
    },
    {
     "name": "stdout",
     "output_type": "stream",
     "text": [
      "bbbb\n"
     ]
    },
    {
     "name": "stderr",
     "output_type": "stream",
     "text": [
      "\n",
      "  | Name      | Type                      | Params\n",
      "--------------------------------------------------------\n",
      "0 | model     | HeteroDeepGraphEmbedding2 | 2.2 M \n",
      "1 | loss_func | HeteroLoss1               | 0     \n",
      "2 | train_acc | BinaryAccuracy            | 0     \n",
      "3 | val_acc   | BinaryAccuracy            | 0     \n",
      "4 | test_acc  | BinaryAccuracy            | 0     \n",
      "--------------------------------------------------------\n",
      "2.2 M     Trainable params\n",
      "22        Non-trainable params\n",
      "2.2 M     Total params\n",
      "8.829     Total estimated model params size (MB)\n",
      "c:\\Users\\fardin\\AppData\\Local\\Programs\\Python\\Python310\\lib\\site-packages\\lightning\\pytorch\\trainer\\connectors\\data_connector.py:441: The 'train_dataloader' does not have many workers which may be a bottleneck. Consider increasing the value of the `num_workers` argument` to `num_workers=7` in the `DataLoader` to improve performance.\n",
      "c:\\Users\\fardin\\AppData\\Local\\Programs\\Python\\Python310\\lib\\site-packages\\lightning\\pytorch\\loops\\fit_loop.py:293: The number of training batches (4) is smaller than the logging interval Trainer(log_every_n_steps=50). Set a lower value for log_every_n_steps if you want to see logs for the training epoch.\n",
      "c:\\Users\\fardin\\AppData\\Local\\Programs\\Python\\Python310\\lib\\site-packages\\lightning\\pytorch\\trainer\\connectors\\data_connector.py:441: The 'val_dataloader' does not have many workers which may be a bottleneck. Consider increasing the value of the `num_workers` argument` to `num_workers=7` in the `DataLoader` to improve performance.\n"
     ]
    },
    {
     "data": {
      "application/vnd.jupyter.widget-view+json": {
       "model_id": "5d17d68f58894f459ae510821c8ff5c2",
       "version_major": 2,
       "version_minor": 0
      },
      "text/plain": [
       "Training: |          | 0/? [00:00<?, ?it/s]"
      ]
     },
     "metadata": {},
     "output_type": "display_data"
    },
    {
     "data": {
      "application/vnd.jupyter.widget-view+json": {
       "model_id": "025cf725f8cf41b8aa3f5a30650ebab7",
       "version_major": 2,
       "version_minor": 0
      },
      "text/plain": [
       "Validation: |          | 0/? [00:00<?, ?it/s]"
      ]
     },
     "metadata": {},
     "output_type": "display_data"
    },
    {
     "data": {
      "application/vnd.jupyter.widget-view+json": {
       "model_id": "f87c9a1e1b8f4af48abdec7cfeedddb3",
       "version_major": 2,
       "version_minor": 0
      },
      "text/plain": [
       "Validation: |          | 0/? [00:00<?, ?it/s]"
      ]
     },
     "metadata": {},
     "output_type": "display_data"
    },
    {
     "data": {
      "application/vnd.jupyter.widget-view+json": {
       "model_id": "f884a6cfc2de47039240805f4c7f381a",
       "version_major": 2,
       "version_minor": 0
      },
      "text/plain": [
       "Validation: |          | 0/? [00:00<?, ?it/s]"
      ]
     },
     "metadata": {},
     "output_type": "display_data"
    },
    {
     "data": {
      "application/vnd.jupyter.widget-view+json": {
       "model_id": "92f9c4c5b90747da98cd9c9e77f1949a",
       "version_major": 2,
       "version_minor": 0
      },
      "text/plain": [
       "Validation: |          | 0/? [00:00<?, ?it/s]"
      ]
     },
     "metadata": {},
     "output_type": "display_data"
    },
    {
     "data": {
      "application/vnd.jupyter.widget-view+json": {
       "model_id": "981426fc7fbf4dcfa6ceb1ab2cf32a64",
       "version_major": 2,
       "version_minor": 0
      },
      "text/plain": [
       "Validation: |          | 0/? [00:00<?, ?it/s]"
      ]
     },
     "metadata": {},
     "output_type": "display_data"
    },
    {
     "data": {
      "application/vnd.jupyter.widget-view+json": {
       "model_id": "35db9ca9b32a45528fec37443c95024d",
       "version_major": 2,
       "version_minor": 0
      },
      "text/plain": [
       "Validation: |          | 0/? [00:00<?, ?it/s]"
      ]
     },
     "metadata": {},
     "output_type": "display_data"
    },
    {
     "data": {
      "application/vnd.jupyter.widget-view+json": {
       "model_id": "cb35509c2d234c87981889b33e6672ec",
       "version_major": 2,
       "version_minor": 0
      },
      "text/plain": [
       "Validation: |          | 0/? [00:00<?, ?it/s]"
      ]
     },
     "metadata": {},
     "output_type": "display_data"
    },
    {
     "data": {
      "application/vnd.jupyter.widget-view+json": {
       "model_id": "525a1a37c1f24633812dc97d4307eaea",
       "version_major": 2,
       "version_minor": 0
      },
      "text/plain": [
       "Validation: |          | 0/? [00:00<?, ?it/s]"
      ]
     },
     "metadata": {},
     "output_type": "display_data"
    },
    {
     "data": {
      "application/vnd.jupyter.widget-view+json": {
       "model_id": "1927122c329646b2a06a8d29f2cdf6b7",
       "version_major": 2,
       "version_minor": 0
      },
      "text/plain": [
       "Validation: |          | 0/? [00:00<?, ?it/s]"
      ]
     },
     "metadata": {},
     "output_type": "display_data"
    },
    {
     "data": {
      "application/vnd.jupyter.widget-view+json": {
       "model_id": "52ab519ac7e2483f9256db3e66f51779",
       "version_major": 2,
       "version_minor": 0
      },
      "text/plain": [
       "Validation: |          | 0/? [00:00<?, ?it/s]"
      ]
     },
     "metadata": {},
     "output_type": "display_data"
    },
    {
     "data": {
      "application/vnd.jupyter.widget-view+json": {
       "model_id": "765d6ce2dd1e4ccabc20f7f1ac35eb86",
       "version_major": 2,
       "version_minor": 0
      },
      "text/plain": [
       "Validation: |          | 0/? [00:00<?, ?it/s]"
      ]
     },
     "metadata": {},
     "output_type": "display_data"
    },
    {
     "data": {
      "application/vnd.jupyter.widget-view+json": {
       "model_id": "38d9976c1c414da68b098c1fedf1c3c4",
       "version_major": 2,
       "version_minor": 0
      },
      "text/plain": [
       "Validation: |          | 0/? [00:00<?, ?it/s]"
      ]
     },
     "metadata": {},
     "output_type": "display_data"
    },
    {
     "data": {
      "application/vnd.jupyter.widget-view+json": {
       "model_id": "d48d1c7718c642d99b543ee675cad04b",
       "version_major": 2,
       "version_minor": 0
      },
      "text/plain": [
       "Validation: |          | 0/? [00:00<?, ?it/s]"
      ]
     },
     "metadata": {},
     "output_type": "display_data"
    },
    {
     "data": {
      "application/vnd.jupyter.widget-view+json": {
       "model_id": "189e054f62514c42ae89b18bedf5c334",
       "version_major": 2,
       "version_minor": 0
      },
      "text/plain": [
       "Validation: |          | 0/? [00:00<?, ?it/s]"
      ]
     },
     "metadata": {},
     "output_type": "display_data"
    },
    {
     "data": {
      "application/vnd.jupyter.widget-view+json": {
       "model_id": "7fe841307a8a496ea284ae6590889b6a",
       "version_major": 2,
       "version_minor": 0
      },
      "text/plain": [
       "Validation: |          | 0/? [00:00<?, ?it/s]"
      ]
     },
     "metadata": {},
     "output_type": "display_data"
    },
    {
     "data": {
      "application/vnd.jupyter.widget-view+json": {
       "model_id": "ea1081ececbb44c49f300950336d15fe",
       "version_major": 2,
       "version_minor": 0
      },
      "text/plain": [
       "Validation: |          | 0/? [00:00<?, ?it/s]"
      ]
     },
     "metadata": {},
     "output_type": "display_data"
    },
    {
     "data": {
      "application/vnd.jupyter.widget-view+json": {
       "model_id": "ff45cae008b94197bbec83d6cf09eecf",
       "version_major": 2,
       "version_minor": 0
      },
      "text/plain": [
       "Validation: |          | 0/? [00:00<?, ?it/s]"
      ]
     },
     "metadata": {},
     "output_type": "display_data"
    },
    {
     "data": {
      "application/vnd.jupyter.widget-view+json": {
       "model_id": "cac0d6ca566342fea319c8fc6cf7fcf0",
       "version_major": 2,
       "version_minor": 0
      },
      "text/plain": [
       "Validation: |          | 0/? [00:00<?, ?it/s]"
      ]
     },
     "metadata": {},
     "output_type": "display_data"
    },
    {
     "data": {
      "application/vnd.jupyter.widget-view+json": {
       "model_id": "93a63d7553bc4d45862fcf1d77f7ba33",
       "version_major": 2,
       "version_minor": 0
      },
      "text/plain": [
       "Validation: |          | 0/? [00:00<?, ?it/s]"
      ]
     },
     "metadata": {},
     "output_type": "display_data"
    },
    {
     "data": {
      "application/vnd.jupyter.widget-view+json": {
       "model_id": "519efb619e6a4e70906398b2bb65ba0d",
       "version_major": 2,
       "version_minor": 0
      },
      "text/plain": [
       "Validation: |          | 0/? [00:00<?, ?it/s]"
      ]
     },
     "metadata": {},
     "output_type": "display_data"
    },
    {
     "data": {
      "application/vnd.jupyter.widget-view+json": {
       "model_id": "4656f3e183bd43b59f37ef3da9597c0a",
       "version_major": 2,
       "version_minor": 0
      },
      "text/plain": [
       "Validation: |          | 0/? [00:00<?, ?it/s]"
      ]
     },
     "metadata": {},
     "output_type": "display_data"
    },
    {
     "data": {
      "application/vnd.jupyter.widget-view+json": {
       "model_id": "0e30a99dcbc74a749510bd9c336480f3",
       "version_major": 2,
       "version_minor": 0
      },
      "text/plain": [
       "Validation: |          | 0/? [00:00<?, ?it/s]"
      ]
     },
     "metadata": {},
     "output_type": "display_data"
    },
    {
     "data": {
      "application/vnd.jupyter.widget-view+json": {
       "model_id": "44fa3002609b45828d2ff3382088b5ec",
       "version_major": 2,
       "version_minor": 0
      },
      "text/plain": [
       "Validation: |          | 0/? [00:00<?, ?it/s]"
      ]
     },
     "metadata": {},
     "output_type": "display_data"
    },
    {
     "data": {
      "application/vnd.jupyter.widget-view+json": {
       "model_id": "d005b008fb5a4197ad9fafdb0498d72b",
       "version_major": 2,
       "version_minor": 0
      },
      "text/plain": [
       "Validation: |          | 0/? [00:00<?, ?it/s]"
      ]
     },
     "metadata": {},
     "output_type": "display_data"
    },
    {
     "data": {
      "application/vnd.jupyter.widget-view+json": {
       "model_id": "eed6b1a42f604e2ba1e6f3715d9bbe95",
       "version_major": 2,
       "version_minor": 0
      },
      "text/plain": [
       "Validation: |          | 0/? [00:00<?, ?it/s]"
      ]
     },
     "metadata": {},
     "output_type": "display_data"
    },
    {
     "data": {
      "application/vnd.jupyter.widget-view+json": {
       "model_id": "a5524672e7bb457a8a8ccba846e1925a",
       "version_major": 2,
       "version_minor": 0
      },
      "text/plain": [
       "Validation: |          | 0/? [00:00<?, ?it/s]"
      ]
     },
     "metadata": {},
     "output_type": "display_data"
    },
    {
     "data": {
      "application/vnd.jupyter.widget-view+json": {
       "model_id": "ab2af4807357466b9b3b78311b4a18a5",
       "version_major": 2,
       "version_minor": 0
      },
      "text/plain": [
       "Validation: |          | 0/? [00:00<?, ?it/s]"
      ]
     },
     "metadata": {},
     "output_type": "display_data"
    },
    {
     "data": {
      "application/vnd.jupyter.widget-view+json": {
       "model_id": "31233f31288d45e480956082bf30782b",
       "version_major": 2,
       "version_minor": 0
      },
      "text/plain": [
       "Validation: |          | 0/? [00:00<?, ?it/s]"
      ]
     },
     "metadata": {},
     "output_type": "display_data"
    },
    {
     "data": {
      "application/vnd.jupyter.widget-view+json": {
       "model_id": "10517e0d843a4deeb9a19a8357eaca54",
       "version_major": 2,
       "version_minor": 0
      },
      "text/plain": [
       "Validation: |          | 0/? [00:00<?, ?it/s]"
      ]
     },
     "metadata": {},
     "output_type": "display_data"
    },
    {
     "data": {
      "application/vnd.jupyter.widget-view+json": {
       "model_id": "1138133fe93643d09f21aa771d08c23c",
       "version_major": 2,
       "version_minor": 0
      },
      "text/plain": [
       "Validation: |          | 0/? [00:00<?, ?it/s]"
      ]
     },
     "metadata": {},
     "output_type": "display_data"
    },
    {
     "data": {
      "application/vnd.jupyter.widget-view+json": {
       "model_id": "e70acd9290514df0aa95caa969cec425",
       "version_major": 2,
       "version_minor": 0
      },
      "text/plain": [
       "Validation: |          | 0/? [00:00<?, ?it/s]"
      ]
     },
     "metadata": {},
     "output_type": "display_data"
    },
    {
     "data": {
      "application/vnd.jupyter.widget-view+json": {
       "model_id": "f002a8b379ad4ef9adc634ce5450c097",
       "version_major": 2,
       "version_minor": 0
      },
      "text/plain": [
       "Validation: |          | 0/? [00:00<?, ?it/s]"
      ]
     },
     "metadata": {},
     "output_type": "display_data"
    },
    {
     "data": {
      "application/vnd.jupyter.widget-view+json": {
       "model_id": "f17449d7b5cf49bfaa826ee2fd99e442",
       "version_major": 2,
       "version_minor": 0
      },
      "text/plain": [
       "Validation: |          | 0/? [00:00<?, ?it/s]"
      ]
     },
     "metadata": {},
     "output_type": "display_data"
    },
    {
     "data": {
      "application/vnd.jupyter.widget-view+json": {
       "model_id": "b431e1ec21df447c8e990c9a7fee3385",
       "version_major": 2,
       "version_minor": 0
      },
      "text/plain": [
       "Validation: |          | 0/? [00:00<?, ?it/s]"
      ]
     },
     "metadata": {},
     "output_type": "display_data"
    },
    {
     "data": {
      "application/vnd.jupyter.widget-view+json": {
       "model_id": "d207a84872e84c129d579163a59215da",
       "version_major": 2,
       "version_minor": 0
      },
      "text/plain": [
       "Validation: |          | 0/? [00:00<?, ?it/s]"
      ]
     },
     "metadata": {},
     "output_type": "display_data"
    },
    {
     "data": {
      "application/vnd.jupyter.widget-view+json": {
       "model_id": "b8962b8d3fa74ba5b75e5d829c6a2257",
       "version_major": 2,
       "version_minor": 0
      },
      "text/plain": [
       "Validation: |          | 0/? [00:00<?, ?it/s]"
      ]
     },
     "metadata": {},
     "output_type": "display_data"
    },
    {
     "data": {
      "application/vnd.jupyter.widget-view+json": {
       "model_id": "0a19df597f654e50a6b8aba882f881de",
       "version_major": 2,
       "version_minor": 0
      },
      "text/plain": [
       "Validation: |          | 0/? [00:00<?, ?it/s]"
      ]
     },
     "metadata": {},
     "output_type": "display_data"
    },
    {
     "data": {
      "application/vnd.jupyter.widget-view+json": {
       "model_id": "62fe68d1a6b94811963dd0ed6a90d4a4",
       "version_major": 2,
       "version_minor": 0
      },
      "text/plain": [
       "Validation: |          | 0/? [00:00<?, ?it/s]"
      ]
     },
     "metadata": {},
     "output_type": "display_data"
    },
    {
     "data": {
      "application/vnd.jupyter.widget-view+json": {
       "model_id": "cbb0027c7728483aa1fb821cb00b1c52",
       "version_major": 2,
       "version_minor": 0
      },
      "text/plain": [
       "Validation: |          | 0/? [00:00<?, ?it/s]"
      ]
     },
     "metadata": {},
     "output_type": "display_data"
    },
    {
     "data": {
      "application/vnd.jupyter.widget-view+json": {
       "model_id": "568cc1c4517644069a528fc0338b53b7",
       "version_major": 2,
       "version_minor": 0
      },
      "text/plain": [
       "Validation: |          | 0/? [00:00<?, ?it/s]"
      ]
     },
     "metadata": {},
     "output_type": "display_data"
    },
    {
     "data": {
      "application/vnd.jupyter.widget-view+json": {
       "model_id": "853d6850fbc241baa89a437a68e05a59",
       "version_major": 2,
       "version_minor": 0
      },
      "text/plain": [
       "Validation: |          | 0/? [00:00<?, ?it/s]"
      ]
     },
     "metadata": {},
     "output_type": "display_data"
    },
    {
     "data": {
      "application/vnd.jupyter.widget-view+json": {
       "model_id": "644e24786ec247eeb6b7a3f6a6ecf64a",
       "version_major": 2,
       "version_minor": 0
      },
      "text/plain": [
       "Validation: |          | 0/? [00:00<?, ?it/s]"
      ]
     },
     "metadata": {},
     "output_type": "display_data"
    },
    {
     "data": {
      "application/vnd.jupyter.widget-view+json": {
       "model_id": "32c2dd47063a4cdaaca8a76348f04a96",
       "version_major": 2,
       "version_minor": 0
      },
      "text/plain": [
       "Validation: |          | 0/? [00:00<?, ?it/s]"
      ]
     },
     "metadata": {},
     "output_type": "display_data"
    },
    {
     "data": {
      "application/vnd.jupyter.widget-view+json": {
       "model_id": "2fc0529a6dd145e18adcb7e44b8fe8b7",
       "version_major": 2,
       "version_minor": 0
      },
      "text/plain": [
       "Validation: |          | 0/? [00:00<?, ?it/s]"
      ]
     },
     "metadata": {},
     "output_type": "display_data"
    },
    {
     "data": {
      "application/vnd.jupyter.widget-view+json": {
       "model_id": "d7401f8a562348809e93755233426eaf",
       "version_major": 2,
       "version_minor": 0
      },
      "text/plain": [
       "Validation: |          | 0/? [00:00<?, ?it/s]"
      ]
     },
     "metadata": {},
     "output_type": "display_data"
    },
    {
     "data": {
      "application/vnd.jupyter.widget-view+json": {
       "model_id": "6302023156264de8a6115a6a4f81a5da",
       "version_major": 2,
       "version_minor": 0
      },
      "text/plain": [
       "Validation: |          | 0/? [00:00<?, ?it/s]"
      ]
     },
     "metadata": {},
     "output_type": "display_data"
    },
    {
     "data": {
      "application/vnd.jupyter.widget-view+json": {
       "model_id": "2f48c4ebe3b14f1aba775a74d1d00b71",
       "version_major": 2,
       "version_minor": 0
      },
      "text/plain": [
       "Validation: |          | 0/? [00:00<?, ?it/s]"
      ]
     },
     "metadata": {},
     "output_type": "display_data"
    },
    {
     "data": {
      "application/vnd.jupyter.widget-view+json": {
       "model_id": "fba690e6958949bd8562cc050bac9ef7",
       "version_major": 2,
       "version_minor": 0
      },
      "text/plain": [
       "Validation: |          | 0/? [00:00<?, ?it/s]"
      ]
     },
     "metadata": {},
     "output_type": "display_data"
    },
    {
     "data": {
      "application/vnd.jupyter.widget-view+json": {
       "model_id": "1a16ad088d6e46de8e878345311b1519",
       "version_major": 2,
       "version_minor": 0
      },
      "text/plain": [
       "Validation: |          | 0/? [00:00<?, ?it/s]"
      ]
     },
     "metadata": {},
     "output_type": "display_data"
    },
    {
     "data": {
      "application/vnd.jupyter.widget-view+json": {
       "model_id": "d198ea89c0a7484582d5f8e8853e4137",
       "version_major": 2,
       "version_minor": 0
      },
      "text/plain": [
       "Validation: |          | 0/? [00:00<?, ?it/s]"
      ]
     },
     "metadata": {},
     "output_type": "display_data"
    },
    {
     "data": {
      "application/vnd.jupyter.widget-view+json": {
       "model_id": "63e97b788062406db3642060501ac85f",
       "version_major": 2,
       "version_minor": 0
      },
      "text/plain": [
       "Validation: |          | 0/? [00:00<?, ?it/s]"
      ]
     },
     "metadata": {},
     "output_type": "display_data"
    },
    {
     "data": {
      "application/vnd.jupyter.widget-view+json": {
       "model_id": "b47e7a62717e42e0949ce13f3b389a53",
       "version_major": 2,
       "version_minor": 0
      },
      "text/plain": [
       "Validation: |          | 0/? [00:00<?, ?it/s]"
      ]
     },
     "metadata": {},
     "output_type": "display_data"
    },
    {
     "data": {
      "application/vnd.jupyter.widget-view+json": {
       "model_id": "3c02373ff9e54b8fba8aff64b6dea09c",
       "version_major": 2,
       "version_minor": 0
      },
      "text/plain": [
       "Validation: |          | 0/? [00:00<?, ?it/s]"
      ]
     },
     "metadata": {},
     "output_type": "display_data"
    },
    {
     "data": {
      "application/vnd.jupyter.widget-view+json": {
       "model_id": "70ae851d65cb4b5ea0dbf24983ff6493",
       "version_major": 2,
       "version_minor": 0
      },
      "text/plain": [
       "Validation: |          | 0/? [00:00<?, ?it/s]"
      ]
     },
     "metadata": {},
     "output_type": "display_data"
    },
    {
     "data": {
      "application/vnd.jupyter.widget-view+json": {
       "model_id": "16f04b4fd6ba47499ca95f5540cf8055",
       "version_major": 2,
       "version_minor": 0
      },
      "text/plain": [
       "Validation: |          | 0/? [00:00<?, ?it/s]"
      ]
     },
     "metadata": {},
     "output_type": "display_data"
    },
    {
     "data": {
      "application/vnd.jupyter.widget-view+json": {
       "model_id": "bfa6ec6eaca340f2b03948d1e040191f",
       "version_major": 2,
       "version_minor": 0
      },
      "text/plain": [
       "Validation: |          | 0/? [00:00<?, ?it/s]"
      ]
     },
     "metadata": {},
     "output_type": "display_data"
    },
    {
     "data": {
      "application/vnd.jupyter.widget-view+json": {
       "model_id": "97a21814461440c2af1aa9610b85cda1",
       "version_major": 2,
       "version_minor": 0
      },
      "text/plain": [
       "Validation: |          | 0/? [00:00<?, ?it/s]"
      ]
     },
     "metadata": {},
     "output_type": "display_data"
    },
    {
     "data": {
      "application/vnd.jupyter.widget-view+json": {
       "model_id": "df02337db97340ddb864d198e41fbfe3",
       "version_major": 2,
       "version_minor": 0
      },
      "text/plain": [
       "Validation: |          | 0/? [00:00<?, ?it/s]"
      ]
     },
     "metadata": {},
     "output_type": "display_data"
    },
    {
     "data": {
      "application/vnd.jupyter.widget-view+json": {
       "model_id": "86c7477591b246fe9f490b2ead1c463b",
       "version_major": 2,
       "version_minor": 0
      },
      "text/plain": [
       "Validation: |          | 0/? [00:00<?, ?it/s]"
      ]
     },
     "metadata": {},
     "output_type": "display_data"
    },
    {
     "data": {
      "application/vnd.jupyter.widget-view+json": {
       "model_id": "17ccf7a63f4b48a3970508cadc429b99",
       "version_major": 2,
       "version_minor": 0
      },
      "text/plain": [
       "Validation: |          | 0/? [00:00<?, ?it/s]"
      ]
     },
     "metadata": {},
     "output_type": "display_data"
    },
    {
     "data": {
      "application/vnd.jupyter.widget-view+json": {
       "model_id": "e18b89b98c564eb2bc3b3e2149127351",
       "version_major": 2,
       "version_minor": 0
      },
      "text/plain": [
       "Validation: |          | 0/? [00:00<?, ?it/s]"
      ]
     },
     "metadata": {},
     "output_type": "display_data"
    },
    {
     "data": {
      "application/vnd.jupyter.widget-view+json": {
       "model_id": "942ccc5e882642ea975678b440e8051d",
       "version_major": 2,
       "version_minor": 0
      },
      "text/plain": [
       "Validation: |          | 0/? [00:00<?, ?it/s]"
      ]
     },
     "metadata": {},
     "output_type": "display_data"
    },
    {
     "data": {
      "application/vnd.jupyter.widget-view+json": {
       "model_id": "35e08a8c6577459f8064eefabfdf2d5b",
       "version_major": 2,
       "version_minor": 0
      },
      "text/plain": [
       "Validation: |          | 0/? [00:00<?, ?it/s]"
      ]
     },
     "metadata": {},
     "output_type": "display_data"
    },
    {
     "data": {
      "application/vnd.jupyter.widget-view+json": {
       "model_id": "9b408a6f030a40efb1d813204b917e10",
       "version_major": 2,
       "version_minor": 0
      },
      "text/plain": [
       "Validation: |          | 0/? [00:00<?, ?it/s]"
      ]
     },
     "metadata": {},
     "output_type": "display_data"
    },
    {
     "data": {
      "application/vnd.jupyter.widget-view+json": {
       "model_id": "c6b2bbdd34d948d890d4817af0b5b47e",
       "version_major": 2,
       "version_minor": 0
      },
      "text/plain": [
       "Validation: |          | 0/? [00:00<?, ?it/s]"
      ]
     },
     "metadata": {},
     "output_type": "display_data"
    },
    {
     "data": {
      "application/vnd.jupyter.widget-view+json": {
       "model_id": "4bd05b078e6c44e094d80aec9fbae205",
       "version_major": 2,
       "version_minor": 0
      },
      "text/plain": [
       "Validation: |          | 0/? [00:00<?, ?it/s]"
      ]
     },
     "metadata": {},
     "output_type": "display_data"
    },
    {
     "data": {
      "application/vnd.jupyter.widget-view+json": {
       "model_id": "c3838206e9bf4771a5f8430fa8dbf908",
       "version_major": 2,
       "version_minor": 0
      },
      "text/plain": [
       "Validation: |          | 0/? [00:00<?, ?it/s]"
      ]
     },
     "metadata": {},
     "output_type": "display_data"
    },
    {
     "data": {
      "application/vnd.jupyter.widget-view+json": {
       "model_id": "08fe07427f79494b9286d71914bf9e3c",
       "version_major": 2,
       "version_minor": 0
      },
      "text/plain": [
       "Validation: |          | 0/? [00:00<?, ?it/s]"
      ]
     },
     "metadata": {},
     "output_type": "display_data"
    },
    {
     "data": {
      "application/vnd.jupyter.widget-view+json": {
       "model_id": "1b4212dabfb74e589ca19c41d040461b",
       "version_major": 2,
       "version_minor": 0
      },
      "text/plain": [
       "Validation: |          | 0/? [00:00<?, ?it/s]"
      ]
     },
     "metadata": {},
     "output_type": "display_data"
    },
    {
     "data": {
      "application/vnd.jupyter.widget-view+json": {
       "model_id": "cc6534741b1246c9a5b547b2e607c373",
       "version_major": 2,
       "version_minor": 0
      },
      "text/plain": [
       "Validation: |          | 0/? [00:00<?, ?it/s]"
      ]
     },
     "metadata": {},
     "output_type": "display_data"
    },
    {
     "data": {
      "application/vnd.jupyter.widget-view+json": {
       "model_id": "613aaff13ded4e73a6f7f364579c0c96",
       "version_major": 2,
       "version_minor": 0
      },
      "text/plain": [
       "Validation: |          | 0/? [00:00<?, ?it/s]"
      ]
     },
     "metadata": {},
     "output_type": "display_data"
    },
    {
     "data": {
      "application/vnd.jupyter.widget-view+json": {
       "model_id": "ed0ac462268c4e78a287df2fb9aa8a4f",
       "version_major": 2,
       "version_minor": 0
      },
      "text/plain": [
       "Validation: |          | 0/? [00:00<?, ?it/s]"
      ]
     },
     "metadata": {},
     "output_type": "display_data"
    },
    {
     "data": {
      "application/vnd.jupyter.widget-view+json": {
       "model_id": "a6acfa2ee8204d0a8bb6e7c24799cc23",
       "version_major": 2,
       "version_minor": 0
      },
      "text/plain": [
       "Validation: |          | 0/? [00:00<?, ?it/s]"
      ]
     },
     "metadata": {},
     "output_type": "display_data"
    },
    {
     "data": {
      "application/vnd.jupyter.widget-view+json": {
       "model_id": "04ba30c2c6df4cef93eb4a05972e55d0",
       "version_major": 2,
       "version_minor": 0
      },
      "text/plain": [
       "Validation: |          | 0/? [00:00<?, ?it/s]"
      ]
     },
     "metadata": {},
     "output_type": "display_data"
    },
    {
     "data": {
      "application/vnd.jupyter.widget-view+json": {
       "model_id": "3c81e593d4714ddf9c119c29d97d3911",
       "version_major": 2,
       "version_minor": 0
      },
      "text/plain": [
       "Validation: |          | 0/? [00:00<?, ?it/s]"
      ]
     },
     "metadata": {},
     "output_type": "display_data"
    },
    {
     "data": {
      "application/vnd.jupyter.widget-view+json": {
       "model_id": "1bfd77c166dd48f6a7d1ff8d1ae93252",
       "version_major": 2,
       "version_minor": 0
      },
      "text/plain": [
       "Validation: |          | 0/? [00:00<?, ?it/s]"
      ]
     },
     "metadata": {},
     "output_type": "display_data"
    },
    {
     "data": {
      "application/vnd.jupyter.widget-view+json": {
       "model_id": "8175fb863af4459b929d5a87eeadc7ab",
       "version_major": 2,
       "version_minor": 0
      },
      "text/plain": [
       "Validation: |          | 0/? [00:00<?, ?it/s]"
      ]
     },
     "metadata": {},
     "output_type": "display_data"
    },
    {
     "data": {
      "application/vnd.jupyter.widget-view+json": {
       "model_id": "8b55600cea1f493da6b10b833a89f12c",
       "version_major": 2,
       "version_minor": 0
      },
      "text/plain": [
       "Validation: |          | 0/? [00:00<?, ?it/s]"
      ]
     },
     "metadata": {},
     "output_type": "display_data"
    },
    {
     "data": {
      "application/vnd.jupyter.widget-view+json": {
       "model_id": "e385428d8fbd4ac0a9d7937ca2104220",
       "version_major": 2,
       "version_minor": 0
      },
      "text/plain": [
       "Validation: |          | 0/? [00:00<?, ?it/s]"
      ]
     },
     "metadata": {},
     "output_type": "display_data"
    },
    {
     "data": {
      "application/vnd.jupyter.widget-view+json": {
       "model_id": "646284b0090547158f30c0af5352d933",
       "version_major": 2,
       "version_minor": 0
      },
      "text/plain": [
       "Validation: |          | 0/? [00:00<?, ?it/s]"
      ]
     },
     "metadata": {},
     "output_type": "display_data"
    },
    {
     "data": {
      "application/vnd.jupyter.widget-view+json": {
       "model_id": "e9b6005dbd8d4011aac019b19e4657e9",
       "version_major": 2,
       "version_minor": 0
      },
      "text/plain": [
       "Validation: |          | 0/? [00:00<?, ?it/s]"
      ]
     },
     "metadata": {},
     "output_type": "display_data"
    },
    {
     "data": {
      "application/vnd.jupyter.widget-view+json": {
       "model_id": "ce1767d33d1340a7b8d7ba71e8c66a06",
       "version_major": 2,
       "version_minor": 0
      },
      "text/plain": [
       "Validation: |          | 0/? [00:00<?, ?it/s]"
      ]
     },
     "metadata": {},
     "output_type": "display_data"
    },
    {
     "data": {
      "application/vnd.jupyter.widget-view+json": {
       "model_id": "caa18096556d4764b2468c6d02322890",
       "version_major": 2,
       "version_minor": 0
      },
      "text/plain": [
       "Validation: |          | 0/? [00:00<?, ?it/s]"
      ]
     },
     "metadata": {},
     "output_type": "display_data"
    },
    {
     "data": {
      "application/vnd.jupyter.widget-view+json": {
       "model_id": "2577941a6b634f11929d9f24958926c9",
       "version_major": 2,
       "version_minor": 0
      },
      "text/plain": [
       "Validation: |          | 0/? [00:00<?, ?it/s]"
      ]
     },
     "metadata": {},
     "output_type": "display_data"
    },
    {
     "data": {
      "application/vnd.jupyter.widget-view+json": {
       "model_id": "9c94196bf63349cc80111192d55b2918",
       "version_major": 2,
       "version_minor": 0
      },
      "text/plain": [
       "Validation: |          | 0/? [00:00<?, ?it/s]"
      ]
     },
     "metadata": {},
     "output_type": "display_data"
    },
    {
     "data": {
      "application/vnd.jupyter.widget-view+json": {
       "model_id": "df94ef2fa4c74c5185571587b98949b6",
       "version_major": 2,
       "version_minor": 0
      },
      "text/plain": [
       "Validation: |          | 0/? [00:00<?, ?it/s]"
      ]
     },
     "metadata": {},
     "output_type": "display_data"
    },
    {
     "data": {
      "application/vnd.jupyter.widget-view+json": {
       "model_id": "2ad34fc3c9e4408a9e45edfda24f9a0a",
       "version_major": 2,
       "version_minor": 0
      },
      "text/plain": [
       "Validation: |          | 0/? [00:00<?, ?it/s]"
      ]
     },
     "metadata": {},
     "output_type": "display_data"
    },
    {
     "data": {
      "application/vnd.jupyter.widget-view+json": {
       "model_id": "4e821da3680f455fa2b6eab0c0339fa0",
       "version_major": 2,
       "version_minor": 0
      },
      "text/plain": [
       "Validation: |          | 0/? [00:00<?, ?it/s]"
      ]
     },
     "metadata": {},
     "output_type": "display_data"
    },
    {
     "data": {
      "application/vnd.jupyter.widget-view+json": {
       "model_id": "26a1298ffc0e42b29bf90f7bc246da03",
       "version_major": 2,
       "version_minor": 0
      },
      "text/plain": [
       "Validation: |          | 0/? [00:00<?, ?it/s]"
      ]
     },
     "metadata": {},
     "output_type": "display_data"
    },
    {
     "data": {
      "application/vnd.jupyter.widget-view+json": {
       "model_id": "b6b31426733e4f09b0052ae7bea3fd2e",
       "version_major": 2,
       "version_minor": 0
      },
      "text/plain": [
       "Validation: |          | 0/? [00:00<?, ?it/s]"
      ]
     },
     "metadata": {},
     "output_type": "display_data"
    },
    {
     "data": {
      "application/vnd.jupyter.widget-view+json": {
       "model_id": "c477004cc8a44cc1861de9e65ab0457a",
       "version_major": 2,
       "version_minor": 0
      },
      "text/plain": [
       "Validation: |          | 0/? [00:00<?, ?it/s]"
      ]
     },
     "metadata": {},
     "output_type": "display_data"
    },
    {
     "data": {
      "application/vnd.jupyter.widget-view+json": {
       "model_id": "035d3f6573454bc1900832fc246789ea",
       "version_major": 2,
       "version_minor": 0
      },
      "text/plain": [
       "Validation: |          | 0/? [00:00<?, ?it/s]"
      ]
     },
     "metadata": {},
     "output_type": "display_data"
    },
    {
     "data": {
      "application/vnd.jupyter.widget-view+json": {
       "model_id": "646f6d1da52b4681afbdc84ec99f14e6",
       "version_major": 2,
       "version_minor": 0
      },
      "text/plain": [
       "Validation: |          | 0/? [00:00<?, ?it/s]"
      ]
     },
     "metadata": {},
     "output_type": "display_data"
    },
    {
     "data": {
      "application/vnd.jupyter.widget-view+json": {
       "model_id": "d3f99ab9911e468aac039986d188b92f",
       "version_major": 2,
       "version_minor": 0
      },
      "text/plain": [
       "Validation: |          | 0/? [00:00<?, ?it/s]"
      ]
     },
     "metadata": {},
     "output_type": "display_data"
    },
    {
     "data": {
      "application/vnd.jupyter.widget-view+json": {
       "model_id": "add49009fc44459aba90ea00a67a6814",
       "version_major": 2,
       "version_minor": 0
      },
      "text/plain": [
       "Validation: |          | 0/? [00:00<?, ?it/s]"
      ]
     },
     "metadata": {},
     "output_type": "display_data"
    },
    {
     "data": {
      "application/vnd.jupyter.widget-view+json": {
       "model_id": "9fea896101494c6591316be736bdbcfc",
       "version_major": 2,
       "version_minor": 0
      },
      "text/plain": [
       "Validation: |          | 0/? [00:00<?, ?it/s]"
      ]
     },
     "metadata": {},
     "output_type": "display_data"
    },
    {
     "data": {
      "application/vnd.jupyter.widget-view+json": {
       "model_id": "1ce851c6217a40bbac284a635bda475c",
       "version_major": 2,
       "version_minor": 0
      },
      "text/plain": [
       "Validation: |          | 0/? [00:00<?, ?it/s]"
      ]
     },
     "metadata": {},
     "output_type": "display_data"
    },
    {
     "data": {
      "application/vnd.jupyter.widget-view+json": {
       "model_id": "4f9a7b3200d34394820ce9c34dc3450f",
       "version_major": 2,
       "version_minor": 0
      },
      "text/plain": [
       "Validation: |          | 0/? [00:00<?, ?it/s]"
      ]
     },
     "metadata": {},
     "output_type": "display_data"
    },
    {
     "data": {
      "application/vnd.jupyter.widget-view+json": {
       "model_id": "4bb5b10cd39448ce9e11cba45db6e9ed",
       "version_major": 2,
       "version_minor": 0
      },
      "text/plain": [
       "Validation: |          | 0/? [00:00<?, ?it/s]"
      ]
     },
     "metadata": {},
     "output_type": "display_data"
    },
    {
     "data": {
      "application/vnd.jupyter.widget-view+json": {
       "model_id": "c7ef40c3a7e5402db5be486c8bae6ebf",
       "version_major": 2,
       "version_minor": 0
      },
      "text/plain": [
       "Validation: |          | 0/? [00:00<?, ?it/s]"
      ]
     },
     "metadata": {},
     "output_type": "display_data"
    },
    {
     "data": {
      "application/vnd.jupyter.widget-view+json": {
       "model_id": "dfc61c42f1844ed4b112db503972948a",
       "version_major": 2,
       "version_minor": 0
      },
      "text/plain": [
       "Validation: |          | 0/? [00:00<?, ?it/s]"
      ]
     },
     "metadata": {},
     "output_type": "display_data"
    },
    {
     "data": {
      "application/vnd.jupyter.widget-view+json": {
       "model_id": "ad597f308ec94b9091750e0434559486",
       "version_major": 2,
       "version_minor": 0
      },
      "text/plain": [
       "Validation: |          | 0/? [00:00<?, ?it/s]"
      ]
     },
     "metadata": {},
     "output_type": "display_data"
    },
    {
     "data": {
      "application/vnd.jupyter.widget-view+json": {
       "model_id": "a6a55ba36d954a90a6f7d38f9ffb3394",
       "version_major": 2,
       "version_minor": 0
      },
      "text/plain": [
       "Validation: |          | 0/? [00:00<?, ?it/s]"
      ]
     },
     "metadata": {},
     "output_type": "display_data"
    },
    {
     "data": {
      "application/vnd.jupyter.widget-view+json": {
       "model_id": "a655eb540fc9420aa96fe73e868ef1c9",
       "version_major": 2,
       "version_minor": 0
      },
      "text/plain": [
       "Validation: |          | 0/? [00:00<?, ?it/s]"
      ]
     },
     "metadata": {},
     "output_type": "display_data"
    },
    {
     "data": {
      "application/vnd.jupyter.widget-view+json": {
       "model_id": "adc04fda8d4548939d47f4eee726963e",
       "version_major": 2,
       "version_minor": 0
      },
      "text/plain": [
       "Validation: |          | 0/? [00:00<?, ?it/s]"
      ]
     },
     "metadata": {},
     "output_type": "display_data"
    },
    {
     "data": {
      "application/vnd.jupyter.widget-view+json": {
       "model_id": "50749dc3952a4b35b005a35bb294af11",
       "version_major": 2,
       "version_minor": 0
      },
      "text/plain": [
       "Validation: |          | 0/? [00:00<?, ?it/s]"
      ]
     },
     "metadata": {},
     "output_type": "display_data"
    },
    {
     "data": {
      "application/vnd.jupyter.widget-view+json": {
       "model_id": "604e0aba4f934b2397068711093a4047",
       "version_major": 2,
       "version_minor": 0
      },
      "text/plain": [
       "Validation: |          | 0/? [00:00<?, ?it/s]"
      ]
     },
     "metadata": {},
     "output_type": "display_data"
    },
    {
     "data": {
      "application/vnd.jupyter.widget-view+json": {
       "model_id": "d0b67912bf414f31a691c35b919f487b",
       "version_major": 2,
       "version_minor": 0
      },
      "text/plain": [
       "Validation: |          | 0/? [00:00<?, ?it/s]"
      ]
     },
     "metadata": {},
     "output_type": "display_data"
    },
    {
     "data": {
      "application/vnd.jupyter.widget-view+json": {
       "model_id": "c4e8278e81964073a619923fcb1a842d",
       "version_major": 2,
       "version_minor": 0
      },
      "text/plain": [
       "Validation: |          | 0/? [00:00<?, ?it/s]"
      ]
     },
     "metadata": {},
     "output_type": "display_data"
    },
    {
     "data": {
      "application/vnd.jupyter.widget-view+json": {
       "model_id": "f7b80914f1504c53b1ad83de75662b33",
       "version_major": 2,
       "version_minor": 0
      },
      "text/plain": [
       "Validation: |          | 0/? [00:00<?, ?it/s]"
      ]
     },
     "metadata": {},
     "output_type": "display_data"
    },
    {
     "data": {
      "application/vnd.jupyter.widget-view+json": {
       "model_id": "9a1cc5e74eae42e68512043d34dceece",
       "version_major": 2,
       "version_minor": 0
      },
      "text/plain": [
       "Validation: |          | 0/? [00:00<?, ?it/s]"
      ]
     },
     "metadata": {},
     "output_type": "display_data"
    },
    {
     "data": {
      "application/vnd.jupyter.widget-view+json": {
       "model_id": "547cc74350694b749e4d96864a91a6dc",
       "version_major": 2,
       "version_minor": 0
      },
      "text/plain": [
       "Validation: |          | 0/? [00:00<?, ?it/s]"
      ]
     },
     "metadata": {},
     "output_type": "display_data"
    },
    {
     "data": {
      "application/vnd.jupyter.widget-view+json": {
       "model_id": "dd54e43e6fca4819bd4cb80c9be5f852",
       "version_major": 2,
       "version_minor": 0
      },
      "text/plain": [
       "Validation: |          | 0/? [00:00<?, ?it/s]"
      ]
     },
     "metadata": {},
     "output_type": "display_data"
    },
    {
     "data": {
      "application/vnd.jupyter.widget-view+json": {
       "model_id": "be86422ff6bb48d3bde012e64aa348d2",
       "version_major": 2,
       "version_minor": 0
      },
      "text/plain": [
       "Validation: |          | 0/? [00:00<?, ?it/s]"
      ]
     },
     "metadata": {},
     "output_type": "display_data"
    },
    {
     "data": {
      "application/vnd.jupyter.widget-view+json": {
       "model_id": "d4923356ce9b453bba4eadaf68d23a6d",
       "version_major": 2,
       "version_minor": 0
      },
      "text/plain": [
       "Validation: |          | 0/? [00:00<?, ?it/s]"
      ]
     },
     "metadata": {},
     "output_type": "display_data"
    },
    {
     "name": "stderr",
     "output_type": "stream",
     "text": [
      "c:\\Users\\fardin\\AppData\\Local\\Programs\\Python\\Python310\\lib\\site-packages\\lightning\\pytorch\\trainer\\call.py:58: Detected KeyboardInterrupt, attempting graceful shutdown...\n"
     ]
    }
   ],
   "source": [
    "# lr = 0.0045\n",
    "# model_manager.update_learning_rate(0.004)\n",
    "model_manager.fit(datamodule=data_manager)"
   ]
  },
  {
   "cell_type": "code",
   "execution_count": 146,
   "metadata": {},
   "outputs": [],
   "source": [
    "model_manager.lightning_model.update_learning_rate(0.0003)\n",
    "model_manager.lightning_model.loss_func.enc_factor = 0.0"
   ]
  },
  {
   "cell_type": "code",
   "execution_count": 147,
   "metadata": {},
   "outputs": [
    {
     "name": "stdout",
     "output_type": "stream",
     "text": [
      "bbbb\n"
     ]
    },
    {
     "name": "stderr",
     "output_type": "stream",
     "text": [
      "c:\\Users\\fardin\\AppData\\Local\\Programs\\Python\\Python310\\lib\\site-packages\\lightning\\pytorch\\callbacks\\model_checkpoint.py:630: Checkpoint directory logs/hetero_model_6\\version_23\\checkpoints exists and is not empty.\n",
      "LOCAL_RANK: 0 - CUDA_VISIBLE_DEVICES: [0]\n",
      "\n",
      "  | Name      | Type                      | Params\n",
      "--------------------------------------------------------\n",
      "0 | model     | HeteroDeepGraphEmbedding2 | 2.2 M \n",
      "1 | loss_func | HeteroLoss1               | 0     \n",
      "2 | train_acc | BinaryAccuracy            | 0     \n",
      "3 | val_acc   | BinaryAccuracy            | 0     \n",
      "4 | test_acc  | BinaryAccuracy            | 0     \n",
      "--------------------------------------------------------\n",
      "2.2 M     Trainable params\n",
      "22        Non-trainable params\n",
      "2.2 M     Total params\n",
      "8.829     Total estimated model params size (MB)\n",
      "c:\\Users\\fardin\\AppData\\Local\\Programs\\Python\\Python310\\lib\\site-packages\\lightning\\pytorch\\trainer\\connectors\\data_connector.py:441: The 'train_dataloader' does not have many workers which may be a bottleneck. Consider increasing the value of the `num_workers` argument` to `num_workers=7` in the `DataLoader` to improve performance.\n",
      "c:\\Users\\fardin\\AppData\\Local\\Programs\\Python\\Python310\\lib\\site-packages\\lightning\\pytorch\\trainer\\connectors\\data_connector.py:441: The 'val_dataloader' does not have many workers which may be a bottleneck. Consider increasing the value of the `num_workers` argument` to `num_workers=7` in the `DataLoader` to improve performance.\n"
     ]
    },
    {
     "data": {
      "application/vnd.jupyter.widget-view+json": {
       "model_id": "61c58ac8bb0147348bb1b8d1bbe582f0",
       "version_major": 2,
       "version_minor": 0
      },
      "text/plain": [
       "Training: |          | 0/? [00:00<?, ?it/s]"
      ]
     },
     "metadata": {},
     "output_type": "display_data"
    },
    {
     "data": {
      "application/vnd.jupyter.widget-view+json": {
       "model_id": "ca10732e8ee244279e04340bedef672e",
       "version_major": 2,
       "version_minor": 0
      },
      "text/plain": [
       "Validation: |          | 0/? [00:00<?, ?it/s]"
      ]
     },
     "metadata": {},
     "output_type": "display_data"
    },
    {
     "data": {
      "application/vnd.jupyter.widget-view+json": {
       "model_id": "b33d8184e6bd42adaa68d41938551240",
       "version_major": 2,
       "version_minor": 0
      },
      "text/plain": [
       "Validation: |          | 0/? [00:00<?, ?it/s]"
      ]
     },
     "metadata": {},
     "output_type": "display_data"
    },
    {
     "data": {
      "application/vnd.jupyter.widget-view+json": {
       "model_id": "d9170dd522f842eaa708417e68a47647",
       "version_major": 2,
       "version_minor": 0
      },
      "text/plain": [
       "Validation: |          | 0/? [00:00<?, ?it/s]"
      ]
     },
     "metadata": {},
     "output_type": "display_data"
    },
    {
     "data": {
      "application/vnd.jupyter.widget-view+json": {
       "model_id": "9950e9b188334d979d9c49f31ed80084",
       "version_major": 2,
       "version_minor": 0
      },
      "text/plain": [
       "Validation: |          | 0/? [00:00<?, ?it/s]"
      ]
     },
     "metadata": {},
     "output_type": "display_data"
    },
    {
     "data": {
      "application/vnd.jupyter.widget-view+json": {
       "model_id": "d1485369855642ab837a7be47bc56f9d",
       "version_major": 2,
       "version_minor": 0
      },
      "text/plain": [
       "Validation: |          | 0/? [00:00<?, ?it/s]"
      ]
     },
     "metadata": {},
     "output_type": "display_data"
    },
    {
     "name": "stderr",
     "output_type": "stream",
     "text": [
      "c:\\Users\\fardin\\AppData\\Local\\Programs\\Python\\Python310\\lib\\site-packages\\lightning\\pytorch\\trainer\\call.py:58: Detected KeyboardInterrupt, attempting graceful shutdown...\n"
     ]
    }
   ],
   "source": [
    "# lr = 0.001\n",
    "model_manager.fit(datamodule=data_manager)"
   ]
  },
  {
   "cell_type": "code",
   "execution_count": 12,
   "metadata": {},
   "outputs": [
    {
     "name": "stdout",
     "output_type": "stream",
     "text": [
      "bbbb\n"
     ]
    },
    {
     "name": "stderr",
     "output_type": "stream",
     "text": [
      "c:\\Users\\fardin\\AppData\\Local\\Programs\\Python\\Python310\\lib\\site-packages\\lightning\\pytorch\\callbacks\\model_checkpoint.py:630: Checkpoint directory logs/hetero_model_6\\version_18\\checkpoints exists and is not empty.\n",
      "LOCAL_RANK: 0 - CUDA_VISIBLE_DEVICES: [0]\n",
      "\n",
      "  | Name      | Type                      | Params\n",
      "--------------------------------------------------------\n",
      "0 | model     | HeteroDeepGraphEmbedding1 | 2.2 M \n",
      "1 | loss_func | HeteroLoss1               | 0     \n",
      "2 | train_acc | BinaryAccuracy            | 0     \n",
      "3 | val_acc   | BinaryAccuracy            | 0     \n",
      "4 | test_acc  | BinaryAccuracy            | 0     \n",
      "--------------------------------------------------------\n",
      "2.2 M     Trainable params\n",
      "0         Non-trainable params\n",
      "2.2 M     Total params\n",
      "8.829     Total estimated model params size (MB)\n"
     ]
    },
    {
     "data": {
      "application/vnd.jupyter.widget-view+json": {
       "model_id": "9238f9f3deb6436ca80882caacaaaa0d",
       "version_major": 2,
       "version_minor": 0
      },
      "text/plain": [
       "Training: |          | 0/? [00:00<?, ?it/s]"
      ]
     },
     "metadata": {},
     "output_type": "display_data"
    },
    {
     "data": {
      "application/vnd.jupyter.widget-view+json": {
       "model_id": "a9b964bf729c431cbb57e062ef995403",
       "version_major": 2,
       "version_minor": 0
      },
      "text/plain": [
       "Validation: |          | 0/? [00:00<?, ?it/s]"
      ]
     },
     "metadata": {},
     "output_type": "display_data"
    },
    {
     "data": {
      "application/vnd.jupyter.widget-view+json": {
       "model_id": "08a7a9a5db68424aa4caf1e79553af6f",
       "version_major": 2,
       "version_minor": 0
      },
      "text/plain": [
       "Validation: |          | 0/? [00:00<?, ?it/s]"
      ]
     },
     "metadata": {},
     "output_type": "display_data"
    },
    {
     "data": {
      "application/vnd.jupyter.widget-view+json": {
       "model_id": "b1d332e7962344f88c0648585e8aeb91",
       "version_major": 2,
       "version_minor": 0
      },
      "text/plain": [
       "Validation: |          | 0/? [00:00<?, ?it/s]"
      ]
     },
     "metadata": {},
     "output_type": "display_data"
    },
    {
     "data": {
      "application/vnd.jupyter.widget-view+json": {
       "model_id": "419b6a391c8046f98edceb8759fd4b1b",
       "version_major": 2,
       "version_minor": 0
      },
      "text/plain": [
       "Validation: |          | 0/? [00:00<?, ?it/s]"
      ]
     },
     "metadata": {},
     "output_type": "display_data"
    },
    {
     "data": {
      "application/vnd.jupyter.widget-view+json": {
       "model_id": "dd4b3acf243c41b5a3b47f0da89a46b1",
       "version_major": 2,
       "version_minor": 0
      },
      "text/plain": [
       "Validation: |          | 0/? [00:00<?, ?it/s]"
      ]
     },
     "metadata": {},
     "output_type": "display_data"
    },
    {
     "data": {
      "application/vnd.jupyter.widget-view+json": {
       "model_id": "22facbe79bc34157b8e7c496973a5343",
       "version_major": 2,
       "version_minor": 0
      },
      "text/plain": [
       "Validation: |          | 0/? [00:00<?, ?it/s]"
      ]
     },
     "metadata": {},
     "output_type": "display_data"
    },
    {
     "data": {
      "application/vnd.jupyter.widget-view+json": {
       "model_id": "112f93f946544feea559eb31915b2bc9",
       "version_major": 2,
       "version_minor": 0
      },
      "text/plain": [
       "Validation: |          | 0/? [00:00<?, ?it/s]"
      ]
     },
     "metadata": {},
     "output_type": "display_data"
    },
    {
     "data": {
      "application/vnd.jupyter.widget-view+json": {
       "model_id": "6e831535e85b4dbcad7b31b6e536e5a0",
       "version_major": 2,
       "version_minor": 0
      },
      "text/plain": [
       "Validation: |          | 0/? [00:00<?, ?it/s]"
      ]
     },
     "metadata": {},
     "output_type": "display_data"
    },
    {
     "data": {
      "application/vnd.jupyter.widget-view+json": {
       "model_id": "a73ee411e8de44fb91e7b9bcb465f18a",
       "version_major": 2,
       "version_minor": 0
      },
      "text/plain": [
       "Validation: |          | 0/? [00:00<?, ?it/s]"
      ]
     },
     "metadata": {},
     "output_type": "display_data"
    },
    {
     "data": {
      "application/vnd.jupyter.widget-view+json": {
       "model_id": "9c90471efa3d416da92532b5fdb71ef8",
       "version_major": 2,
       "version_minor": 0
      },
      "text/plain": [
       "Validation: |          | 0/? [00:00<?, ?it/s]"
      ]
     },
     "metadata": {},
     "output_type": "display_data"
    },
    {
     "data": {
      "application/vnd.jupyter.widget-view+json": {
       "model_id": "68a98529a75443679b6a2d226d78c56e",
       "version_major": 2,
       "version_minor": 0
      },
      "text/plain": [
       "Validation: |          | 0/? [00:00<?, ?it/s]"
      ]
     },
     "metadata": {},
     "output_type": "display_data"
    },
    {
     "data": {
      "application/vnd.jupyter.widget-view+json": {
       "model_id": "94a8f12027594f4b814247fa269b4320",
       "version_major": 2,
       "version_minor": 0
      },
      "text/plain": [
       "Validation: |          | 0/? [00:00<?, ?it/s]"
      ]
     },
     "metadata": {},
     "output_type": "display_data"
    },
    {
     "data": {
      "application/vnd.jupyter.widget-view+json": {
       "model_id": "39b2e06bc84043d1b25f8120638a175c",
       "version_major": 2,
       "version_minor": 0
      },
      "text/plain": [
       "Validation: |          | 0/? [00:00<?, ?it/s]"
      ]
     },
     "metadata": {},
     "output_type": "display_data"
    },
    {
     "data": {
      "application/vnd.jupyter.widget-view+json": {
       "model_id": "0e4c063f15884c79acc14111c9225298",
       "version_major": 2,
       "version_minor": 0
      },
      "text/plain": [
       "Validation: |          | 0/? [00:00<?, ?it/s]"
      ]
     },
     "metadata": {},
     "output_type": "display_data"
    },
    {
     "data": {
      "application/vnd.jupyter.widget-view+json": {
       "model_id": "7119f3dda7de4d7e94f0c7e15a0e0126",
       "version_major": 2,
       "version_minor": 0
      },
      "text/plain": [
       "Validation: |          | 0/? [00:00<?, ?it/s]"
      ]
     },
     "metadata": {},
     "output_type": "display_data"
    },
    {
     "data": {
      "application/vnd.jupyter.widget-view+json": {
       "model_id": "152e5a22f4e747d6b7bd2b810e25b47f",
       "version_major": 2,
       "version_minor": 0
      },
      "text/plain": [
       "Validation: |          | 0/? [00:00<?, ?it/s]"
      ]
     },
     "metadata": {},
     "output_type": "display_data"
    },
    {
     "data": {
      "application/vnd.jupyter.widget-view+json": {
       "model_id": "d061566a29e04db5babb73f227ad9ed1",
       "version_major": 2,
       "version_minor": 0
      },
      "text/plain": [
       "Validation: |          | 0/? [00:00<?, ?it/s]"
      ]
     },
     "metadata": {},
     "output_type": "display_data"
    },
    {
     "data": {
      "application/vnd.jupyter.widget-view+json": {
       "model_id": "e391a4fe154e4903abfeb3e522fff34d",
       "version_major": 2,
       "version_minor": 0
      },
      "text/plain": [
       "Validation: |          | 0/? [00:00<?, ?it/s]"
      ]
     },
     "metadata": {},
     "output_type": "display_data"
    },
    {
     "data": {
      "application/vnd.jupyter.widget-view+json": {
       "model_id": "88397e08f253474eb66641a43583b73d",
       "version_major": 2,
       "version_minor": 0
      },
      "text/plain": [
       "Validation: |          | 0/? [00:00<?, ?it/s]"
      ]
     },
     "metadata": {},
     "output_type": "display_data"
    },
    {
     "data": {
      "application/vnd.jupyter.widget-view+json": {
       "model_id": "54f851dc7783468ebb0fa7b0e15e0a54",
       "version_major": 2,
       "version_minor": 0
      },
      "text/plain": [
       "Validation: |          | 0/? [00:00<?, ?it/s]"
      ]
     },
     "metadata": {},
     "output_type": "display_data"
    },
    {
     "data": {
      "application/vnd.jupyter.widget-view+json": {
       "model_id": "8e4bab5067a04c78897acd8dd09db6b2",
       "version_major": 2,
       "version_minor": 0
      },
      "text/plain": [
       "Validation: |          | 0/? [00:00<?, ?it/s]"
      ]
     },
     "metadata": {},
     "output_type": "display_data"
    },
    {
     "data": {
      "application/vnd.jupyter.widget-view+json": {
       "model_id": "fc79982cf2cb4e3899cd3631579acce7",
       "version_major": 2,
       "version_minor": 0
      },
      "text/plain": [
       "Validation: |          | 0/? [00:00<?, ?it/s]"
      ]
     },
     "metadata": {},
     "output_type": "display_data"
    },
    {
     "data": {
      "application/vnd.jupyter.widget-view+json": {
       "model_id": "9a5b9d88e8d54da889c22c764763e2f4",
       "version_major": 2,
       "version_minor": 0
      },
      "text/plain": [
       "Validation: |          | 0/? [00:00<?, ?it/s]"
      ]
     },
     "metadata": {},
     "output_type": "display_data"
    },
    {
     "data": {
      "application/vnd.jupyter.widget-view+json": {
       "model_id": "c95db9fc02264060b701d2281983e5fc",
       "version_major": 2,
       "version_minor": 0
      },
      "text/plain": [
       "Validation: |          | 0/? [00:00<?, ?it/s]"
      ]
     },
     "metadata": {},
     "output_type": "display_data"
    },
    {
     "data": {
      "application/vnd.jupyter.widget-view+json": {
       "model_id": "6cb76984271d4bbd8ccfd3e4d337736f",
       "version_major": 2,
       "version_minor": 0
      },
      "text/plain": [
       "Validation: |          | 0/? [00:00<?, ?it/s]"
      ]
     },
     "metadata": {},
     "output_type": "display_data"
    },
    {
     "data": {
      "application/vnd.jupyter.widget-view+json": {
       "model_id": "75771bac30bb40269ab36fd35ab20009",
       "version_major": 2,
       "version_minor": 0
      },
      "text/plain": [
       "Validation: |          | 0/? [00:00<?, ?it/s]"
      ]
     },
     "metadata": {},
     "output_type": "display_data"
    },
    {
     "data": {
      "application/vnd.jupyter.widget-view+json": {
       "model_id": "8bc6beeda56b47a1b5dcd532631af805",
       "version_major": 2,
       "version_minor": 0
      },
      "text/plain": [
       "Validation: |          | 0/? [00:00<?, ?it/s]"
      ]
     },
     "metadata": {},
     "output_type": "display_data"
    },
    {
     "data": {
      "application/vnd.jupyter.widget-view+json": {
       "model_id": "de6792cdba624630b73f78f1efcb9a08",
       "version_major": 2,
       "version_minor": 0
      },
      "text/plain": [
       "Validation: |          | 0/? [00:00<?, ?it/s]"
      ]
     },
     "metadata": {},
     "output_type": "display_data"
    },
    {
     "data": {
      "application/vnd.jupyter.widget-view+json": {
       "model_id": "edfebdbf57aa495787a57dd009fe83bd",
       "version_major": 2,
       "version_minor": 0
      },
      "text/plain": [
       "Validation: |          | 0/? [00:00<?, ?it/s]"
      ]
     },
     "metadata": {},
     "output_type": "display_data"
    }
   ],
   "source": [
    "model_manager.lightning_model.optimizer = torch.optim.SGD(graph_embedding.parameters(), lr=0.0003)\n",
    "model_manager.fit(datamodule=data_manager)"
   ]
  },
  {
   "cell_type": "code",
   "execution_count": 30,
   "metadata": {},
   "outputs": [
    {
     "name": "stdout",
     "output_type": "stream",
     "text": [
      "+------------------------------------------------------------+-----------------------------------+------------------------------+-----------+\n",
      "| Layer                                                      | Input Shape                       | Output Shape                 | #Param    |\n",
      "|------------------------------------------------------------+-----------------------------------+------------------------------+-----------|\n",
      "| HeteroDeepGraphEmbedding1                                  | [51092, 51092]                    | [256, 1]                     | 2,207,246 |\n",
      "| ├─(part_weight_norm)LayerNorm                              | [11]                              | [11]                         | 22        |\n",
      "| ├─(norm)PairNorm                                           | --                                | --                           | --        |\n",
      "| ├─(drop)Dropout                                            | --                                | --                           | --        |\n",
      "| ├─(hetero_linear_1)GraphModule                             |                                   |                              | 231,424   |\n",
      "| │    └─(linear)ModuleDict                                  | --                                | --                           | 231,168   |\n",
      "| │    │    └─(dep)Linear                                    | [11520, 300]                      | [11520, 128]                 | 38,528    |\n",
      "| │    │    └─(tag)Linear                                    | [12800, 300]                      | [12800, 128]                 | 38,528    |\n",
      "| │    │    └─(word)Linear                                   | [24553, 300]                      | [24553, 128]                 | 38,528    |\n",
      "| │    │    └─(sentence)Linear                               | [1451, 300]                       | [1451, 128]                  | 38,528    |\n",
      "| │    │    └─(general)Linear                                | [256, 300]                        | [256, 128]                   | 38,528    |\n",
      "| │    │    └─(sentiment)Linear                              | [512, 300]                        | [512, 128]                   | 38,528    |\n",
      "| │    └─(dropout)ModuleDict                                 | --                                | --                           | --        |\n",
      "| │    │    └─(dep)Dropout                                   | [11520, 128]                      | [11520, 128]                 | --        |\n",
      "| │    │    └─(tag)Dropout                                   | [12800, 128]                      | [12800, 128]                 | --        |\n",
      "| │    │    └─(word)Dropout                                  | [24553, 128]                      | [24553, 128]                 | --        |\n",
      "| │    │    └─(sentence)Dropout                              | [1451, 128]                       | [1451, 128]                  | --        |\n",
      "| │    │    └─(general)Dropout                               | [256, 128]                        | [256, 128]                   | --        |\n",
      "| │    │    └─(sentiment)Dropout                             | [512, 128]                        | [512, 128]                   | --        |\n",
      "| │    └─(batch_norm)BatchNorm                               | --                                | --                           | 256       |\n",
      "| │    │    └─(module)BatchNorm1d                            | --                                | --                           | 256       |\n",
      "| ├─(hetero_gat_1)GraphModule                                |                                   |                              | 369,024   |\n",
      "| │    └─(conv1)ModuleDict                                   | --                                | --                           | 367,488   |\n",
      "| │    │    └─(dep__dep_word__word)GATv2Conv                 | [2, 23102], [23102]               | [24553, 128]                 | 33,408    |\n",
      "| │    │    └─(word__word_dep__dep)GATv2Conv                 | [2, 23102], [23102]               | [11520, 128]                 | 33,408    |\n",
      "| │    │    └─(tag__tag_word__word)GATv2Conv                 | [2, 24553], [24553]               | [24553, 128]                 | 33,408    |\n",
      "| │    │    └─(word__word_tag__tag)GATv2Conv                 | [2, 24553], [24553]               | [12800, 128]                 | 33,408    |\n",
      "| │    │    └─(word__seq__word)GATv2Conv                     | [24553, 128], [2, 48594], [48594] | [24553, 128]                 | 33,408    |\n",
      "| │    │    └─(general__general_sentence__sentence)GATv2Conv | [2, 1451], [1451]                 | [1451, 128]                  | 33,408    |\n",
      "| │    │    └─(sentence__sentence_general__general)GATv2Conv | [2, 1451], [1451]                 | [256, 128]                   | 33,408    |\n",
      "| │    │    └─(word__word_sentence__sentence)GATv2Conv       | [2, 24553], [24553]               | [1451, 128]                  | 33,408    |\n",
      "| │    │    └─(sentence__sentence_word__word)GATv2Conv       | [2, 24553], [24553]               | [24553, 128]                 | 33,408    |\n",
      "| │    │    └─(word__word_sentiment__sentiment)GATv2Conv     | [2, 2010], [2010]                 | [512, 128]                   | 33,408    |\n",
      "| │    │    └─(sentiment__sentiment_word__word)GATv2Conv     | [2, 2010], [2010]                 | [24553, 128]                 | 33,408    |\n",
      "| │    └─(batch_norm)ModuleDict                              | --                                | --                           | 1,536     |\n",
      "| │    │    └─(dep)BatchNorm                                 | [11520, 128]                      | [11520, 128]                 | 256       |\n",
      "| │    │    └─(tag)BatchNorm                                 | [12800, 128]                      | [12800, 128]                 | 256       |\n",
      "| │    │    └─(word)BatchNorm                                | [24553, 128]                      | [24553, 128]                 | 256       |\n",
      "| │    │    └─(sentence)BatchNorm                            | [1451, 128]                       | [1451, 128]                  | 256       |\n",
      "| │    │    └─(general)BatchNorm                             | [256, 128]                        | [256, 128]                   | 256       |\n",
      "| │    │    └─(sentiment)BatchNorm                           | [512, 128]                        | [512, 128]                   | 256       |\n",
      "| │    └─(dropout)ModuleDict                                 | --                                | --                           | --        |\n",
      "| │    │    └─(dep)Dropout                                   | [11520, 128]                      | [11520, 128]                 | --        |\n",
      "| │    │    └─(tag)Dropout                                   | [12800, 128]                      | [12800, 128]                 | --        |\n",
      "| │    │    └─(word)Dropout                                  | [24553, 128]                      | [24553, 128]                 | --        |\n",
      "| │    │    └─(sentence)Dropout                              | [1451, 128]                       | [1451, 128]                  | --        |\n",
      "| │    │    └─(general)Dropout                               | [256, 128]                        | [256, 128]                   | --        |\n",
      "| │    │    └─(sentiment)Dropout                             | [512, 128]                        | [512, 128]                   | --        |\n",
      "| ├─(hetero_gat_2)GraphModule                                |                                   |                              | 369,024   |\n",
      "| │    └─(conv1)ModuleDict                                   | --                                | --                           | 367,488   |\n",
      "| │    │    └─(dep__dep_word__word)GATv2Conv                 | [2, 23102], [23102]               | [24553, 128]                 | 33,408    |\n",
      "| │    │    └─(word__word_dep__dep)GATv2Conv                 | [2, 23102], [23102]               | [11520, 128]                 | 33,408    |\n",
      "| │    │    └─(tag__tag_word__word)GATv2Conv                 | [2, 24553], [24553]               | [24553, 128]                 | 33,408    |\n",
      "| │    │    └─(word__word_tag__tag)GATv2Conv                 | [2, 24553], [24553]               | [12800, 128]                 | 33,408    |\n",
      "| │    │    └─(word__seq__word)GATv2Conv                     | [24553, 128], [2, 48594], [48594] | [24553, 128]                 | 33,408    |\n",
      "| │    │    └─(general__general_sentence__sentence)GATv2Conv | [2, 1451], [1451]                 | [1451, 128]                  | 33,408    |\n",
      "| │    │    └─(sentence__sentence_general__general)GATv2Conv | [2, 1451], [1451]                 | [256, 128]                   | 33,408    |\n",
      "| │    │    └─(word__word_sentence__sentence)GATv2Conv       | [2, 24553], [24553]               | [1451, 128]                  | 33,408    |\n",
      "| │    │    └─(sentence__sentence_word__word)GATv2Conv       | [2, 24553], [24553]               | [24553, 128]                 | 33,408    |\n",
      "| │    │    └─(word__word_sentiment__sentiment)GATv2Conv     | [2, 2010], [2010]                 | [512, 128]                   | 33,408    |\n",
      "| │    │    └─(sentiment__sentiment_word__word)GATv2Conv     | [2, 2010], [2010]                 | [24553, 128]                 | 33,408    |\n",
      "| │    └─(batch_norm)ModuleDict                              | --                                | --                           | 1,536     |\n",
      "| │    │    └─(dep)BatchNorm                                 | [11520, 128]                      | [11520, 128]                 | 256       |\n",
      "| │    │    └─(tag)BatchNorm                                 | [12800, 128]                      | [12800, 128]                 | 256       |\n",
      "| │    │    └─(word)BatchNorm                                | [24553, 128]                      | [24553, 128]                 | 256       |\n",
      "| │    │    └─(sentence)BatchNorm                            | [1451, 128]                       | [1451, 128]                  | 256       |\n",
      "| │    │    └─(general)BatchNorm                             | [256, 128]                        | [256, 128]                   | 256       |\n",
      "| │    │    └─(sentiment)BatchNorm                           | [512, 128]                        | [512, 128]                   | 256       |\n",
      "| │    └─(dropout)ModuleDict                                 | --                                | --                           | --        |\n",
      "| │    │    └─(dep)Dropout                                   | [11520, 128]                      | [11520, 128]                 | --        |\n",
      "| │    │    └─(tag)Dropout                                   | [12800, 128]                      | [12800, 128]                 | --        |\n",
      "| │    │    └─(word)Dropout                                  | [24553, 128]                      | [24553, 128]                 | --        |\n",
      "| │    │    └─(sentence)Dropout                              | [1451, 128]                       | [1451, 128]                  | --        |\n",
      "| │    │    └─(general)Dropout                               | [256, 128]                        | [256, 128]                   | --        |\n",
      "| │    │    └─(sentiment)Dropout                             | [512, 128]                        | [512, 128]                   | --        |\n",
      "| ├─(hetero_gat_3)GraphModule                                |                                   |                              | 369,024   |\n",
      "| │    └─(conv1)ModuleDict                                   | --                                | --                           | 367,488   |\n",
      "| │    │    └─(dep__dep_word__word)GATv2Conv                 | [2, 23102], [23102]               | [24553, 128]                 | 33,408    |\n",
      "| │    │    └─(word__word_dep__dep)GATv2Conv                 | [2, 23102], [23102]               | [11520, 128]                 | 33,408    |\n",
      "| │    │    └─(tag__tag_word__word)GATv2Conv                 | [2, 24553], [24553]               | [24553, 128]                 | 33,408    |\n",
      "| │    │    └─(word__word_tag__tag)GATv2Conv                 | [2, 24553], [24553]               | [12800, 128]                 | 33,408    |\n",
      "| │    │    └─(word__seq__word)GATv2Conv                     | [24553, 128], [2, 48594], [48594] | [24553, 128]                 | 33,408    |\n",
      "| │    │    └─(general__general_sentence__sentence)GATv2Conv | [2, 1451], [1451]                 | [1451, 128]                  | 33,408    |\n",
      "| │    │    └─(sentence__sentence_general__general)GATv2Conv | [2, 1451], [1451]                 | [256, 128]                   | 33,408    |\n",
      "| │    │    └─(word__word_sentence__sentence)GATv2Conv       | [2, 24553], [24553]               | [1451, 128]                  | 33,408    |\n",
      "| │    │    └─(sentence__sentence_word__word)GATv2Conv       | [2, 24553], [24553]               | [24553, 128]                 | 33,408    |\n",
      "| │    │    └─(word__word_sentiment__sentiment)GATv2Conv     | [2, 2010], [2010]                 | [512, 128]                   | 33,408    |\n",
      "| │    │    └─(sentiment__sentiment_word__word)GATv2Conv     | [2, 2010], [2010]                 | [24553, 128]                 | 33,408    |\n",
      "| │    └─(batch_norm)ModuleDict                              | --                                | --                           | 1,536     |\n",
      "| │    │    └─(dep)BatchNorm                                 | [11520, 128]                      | [11520, 128]                 | 256       |\n",
      "| │    │    └─(tag)BatchNorm                                 | [12800, 128]                      | [12800, 128]                 | 256       |\n",
      "| │    │    └─(word)BatchNorm                                | [24553, 128]                      | [24553, 128]                 | 256       |\n",
      "| │    │    └─(sentence)BatchNorm                            | [1451, 128]                       | [1451, 128]                  | 256       |\n",
      "| │    │    └─(general)BatchNorm                             | [256, 128]                        | [256, 128]                   | 256       |\n",
      "| │    │    └─(sentiment)BatchNorm                           | [512, 128]                        | [512, 128]                   | 256       |\n",
      "| │    └─(dropout)ModuleDict                                 | --                                | --                           | --        |\n",
      "| │    │    └─(dep)Dropout                                   | [11520, 128]                      | [11520, 128]                 | --        |\n",
      "| │    │    └─(tag)Dropout                                   | [12800, 128]                      | [12800, 128]                 | --        |\n",
      "| │    │    └─(word)Dropout                                  | [24553, 128]                      | [24553, 128]                 | --        |\n",
      "| │    │    └─(sentence)Dropout                              | [1451, 128]                       | [1451, 128]                  | --        |\n",
      "| │    │    └─(general)Dropout                               | [256, 128]                        | [256, 128]                   | --        |\n",
      "| │    │    └─(sentiment)Dropout                             | [512, 128]                        | [512, 128]                   | --        |\n",
      "| ├─(hetero_linear_2)GraphModule                             |                                   |                              | 235,800   |\n",
      "| │    └─(linear)ModuleDict                                  | --                                | --                           | 232,200   |\n",
      "| │    │    └─(dep)Linear                                    | [11520, 128]                      | [11520, 300]                 | 38,700    |\n",
      "| │    │    └─(tag)Linear                                    | [12800, 128]                      | [12800, 300]                 | 38,700    |\n",
      "| │    │    └─(word)Linear                                   | [24553, 128]                      | [24553, 300]                 | 38,700    |\n",
      "| │    │    └─(sentence)Linear                               | [1451, 128]                       | [1451, 300]                  | 38,700    |\n",
      "| │    │    └─(general)Linear                                | [256, 128]                        | [256, 300]                   | 38,700    |\n",
      "| │    │    └─(sentiment)Linear                              | [512, 128]                        | [512, 300]                   | 38,700    |\n",
      "| │    └─(batch_norm)ModuleDict                              | --                                | --                           | 3,600     |\n",
      "| │    │    └─(dep)BatchNorm                                 | [11520, 300]                      | [11520, 300]                 | 600       |\n",
      "| │    │    └─(tag)BatchNorm                                 | [12800, 300]                      | [12800, 300]                 | 600       |\n",
      "| │    │    └─(word)BatchNorm                                | [24553, 300]                      | [24553, 300]                 | 600       |\n",
      "| │    │    └─(sentence)BatchNorm                            | [1451, 300]                       | [1451, 300]                  | 600       |\n",
      "| │    │    └─(general)BatchNorm                             | [256, 300]                        | [256, 300]                   | 600       |\n",
      "| │    │    └─(sentiment)BatchNorm                           | [512, 300]                        | [512, 300]                   | 600       |\n",
      "| │    └─(dropout)ModuleDict                                 | --                                | --                           | --        |\n",
      "| │    │    └─(dep)Dropout                                   | [11520, 300]                      | [11520, 300]                 | --        |\n",
      "| │    │    └─(tag)Dropout                                   | [12800, 300]                      | [12800, 300]                 | --        |\n",
      "| │    │    └─(word)Dropout                                  | [24553, 300]                      | [24553, 300]                 | --        |\n",
      "| │    │    └─(sentence)Dropout                              | [1451, 300]                       | [1451, 300]                  | --        |\n",
      "| │    │    └─(general)Dropout                               | [256, 300]                        | [256, 300]                   | --        |\n",
      "| │    │    └─(sentiment)Dropout                             | [512, 300]                        | [512, 300]                   | --        |\n",
      "| ├─(hetero_linear_3)GraphModule                             |                                   |                              | 542,400   |\n",
      "| │    └─(linear)ModuleDict                                  | --                                | --                           | 541,800   |\n",
      "| │    │    └─(dep)Linear                                    | [11520, 300]                      | [11520, 300]                 | 90,300    |\n",
      "| │    │    └─(tag)Linear                                    | [12800, 300]                      | [12800, 300]                 | 90,300    |\n",
      "| │    │    └─(word)Linear                                   | [24553, 300]                      | [24553, 300]                 | 90,300    |\n",
      "| │    │    └─(sentence)Linear                               | [1451, 300]                       | [1451, 300]                  | 90,300    |\n",
      "| │    │    └─(general)Linear                                | [256, 300]                        | [256, 300]                   | 90,300    |\n",
      "| │    │    └─(sentiment)Linear                              | [512, 300]                        | [512, 300]                   | 90,300    |\n",
      "| │    └─(batch_norm)BatchNorm                               | --                                | --                           | 600       |\n",
      "| │    │    └─(module)BatchNorm1d                            | --                                | --                           | 600       |\n",
      "| │    └─(dropout)Dropout                                    | --                                | --                           | --        |\n",
      "| ├─(mem_pool)MemPooling                                     | [24553, 128], [24553]             | [256, 1, 128], [256, 226, 1] | 16,642    |\n",
      "| │    └─(conv)Conv2d                                        | [256, 2, 226, 1]                  | [256, 1, 226, 1]             | 2         |\n",
      "| │    └─(lin)Linear                                         | [256, 1, 128]                     | [256, 1, 128]                | 16,384    |\n",
      "| ├─(linear_1)Linear                                         | [256, 128]                        | [256, 64]                    | 8,256     |\n",
      "| ├─(linear_2)Linear                                         | [256, 64]                         | [256, 64]                    | 4,160     |\n",
      "| ├─(linear_3)Linear                                         | [256, 64]                         | [256, 64]                    | 4,160     |\n",
      "| ├─(batch_norm_1)BatchNorm                                  | [256, 64]                         | [256, 64]                    | 128       |\n",
      "| │    └─(module)BatchNorm1d                                 | [256, 64]                         | [256, 64]                    | 128       |\n",
      "| ├─(output_layer)Linear                                     | [256, 64]                         | [256, 1]                     | 65        |\n",
      "| ├─(dep_embedding)Embedding                                 | [11520]                           | [11520, 300]                 | 13,500    |\n",
      "| ├─(tag_embedding)Embedding                                 | [12800]                           | [12800, 300]                 | 15,000    |\n",
      "| ├─(dep_unembedding)Linear                                  | [11520, 300]                      | [11520, 45]                  | 13,545    |\n",
      "| ├─(tag_unembedding)Linear                                  | [12800, 300]                      | [12800, 50]                  | 15,050    |\n",
      "+------------------------------------------------------------+-----------------------------------+------------------------------+-----------+\n"
     ]
    }
   ],
   "source": [
    "model_manager.draw_summary(t_dataloader)"
   ]
  },
  {
   "cell_type": "code",
   "execution_count": 51,
   "metadata": {},
   "outputs": [
    {
     "data": {
      "image/png": "[encoded data removed]",
      "text/plain": [
       "<Figure size 640x480 with 1 Axes>"
      ]
     },
     "metadata": {},
     "output_type": "display_data"
    },
    {
     "data": {
      "image/png": "[encoded data removed]",
      "text/plain": [
       "<Figure size 640x480 with 1 Axes>"
      ]
     },
     "metadata": {},
     "output_type": "display_data"
    }
   ],
   "source": [
    "model_manager.plot_csv_logger(loss_names=['train_loss', 'val_loss'], eval_names=['train_acc_epoch', 'val_acc_epoch'])"
   ]
  },
  {
   "cell_type": "code",
   "execution_count": 149,
   "metadata": {},
   "outputs": [],
   "source": [
    "model_manager.torch_model = model_manager.torch_model.to('cuda')"
   ]
  },
  {
   "cell_type": "code",
   "execution_count": 15,
   "metadata": {},
   "outputs": [
    {
     "name": "stdout",
     "output_type": "stream",
     "text": [
      "confusion_matrix: \n",
      "[[172  32]\n",
      " [ 48 148]]\n",
      "              precision    recall  f1-score   support\n",
      "\n",
      "           0       0.78      0.84      0.81       204\n",
      "           1       0.82      0.76      0.79       196\n",
      "\n",
      "    accuracy                           0.80       400\n",
      "   macro avg       0.80      0.80      0.80       400\n",
      "weighted avg       0.80      0.80      0.80       400\n",
      "\n",
      "accuracy_score: 0.8\n",
      "hinge_loss: 0.71\n"
     ]
    }
   ],
   "source": [
    "model_manager.evaluate(data_manager.test_dataloader(), give_accuracy_score=True, give_hinge_loss=True)"
   ]
  },
  {
   "cell_type": "code",
   "execution_count": null,
   "metadata": {},
   "outputs": [
    {
     "data": {
      "text/plain": [
       "'logs/hetero_model_6\\\\version_11\\\\checkpoints\\\\epoch=7-step=296.ckpt'"
      ]
     },
     "execution_count": 13,
     "metadata": {},
     "output_type": "execute_result"
    }
   ],
   "source": [
    "model_manager.trainer.checkpoint_callback.best_model_path"
   ]
  },
  {
   "cell_type": "code",
   "execution_count": 21,
   "metadata": {},
   "outputs": [],
   "source": [
    "import pandas as pd"
   ]
  },
  {
   "cell_type": "code",
   "execution_count": 46,
   "metadata": {},
   "outputs": [
    {
     "name": "stdout",
     "output_type": "stream",
     "text": [
      "17\n",
      "50\n",
      "4\n",
      "150\n"
     ]
    }
   ],
   "source": [
    "csv1 = pd.read_csv(r'logs\\hetero_model_6\\version_15\\metrics.csv')\n",
    "print(len(csv1.groupby('epoch')))\n",
    "csv2 = pd.read_csv(r'logs\\hetero_model_6\\version_16\\metrics.csv')\n",
    "csv2['epoch'] += csv1['epoch'].max()\n",
    "print(len(csv2.groupby('epoch')))\n",
    "csv3 = pd.read_csv(r'logs\\hetero_model_6\\version_17\\metrics.csv')\n",
    "csv3['epoch'] += csv2['epoch'].max()\n",
    "print(len(csv3.groupby('epoch')))\n",
    "csv4 = pd.read_csv(r'logs\\hetero_model_6\\version_18\\metrics.csv')\n",
    "csv4['epoch'] += csv3['epoch'].max()\n",
    "print(len(csv4.groupby('epoch')))"
   ]
  },
  {
   "cell_type": "code",
   "execution_count": 52,
   "metadata": {},
   "outputs": [
    {
     "name": "stdout",
     "output_type": "stream",
     "text": [
      "218\n"
     ]
    }
   ],
   "source": [
    "metrics_csv = pd.concat([csv1, csv2, csv3, csv4], ignore_index=True)\n",
    "print(len(metrics_csv.groupby('epoch')))"
   ]
  },
  {
   "cell_type": "code",
   "execution_count": 53,
   "metadata": {},
   "outputs": [],
   "source": [
    "import matplotlib.pyplot as plt\n",
    "def plot_csv_logger(metrics, loss_names=['train_loss', 'val_loss'], eval_names=['train_acc_epoch', 'val_acc_epoch']):\n",
    "\n",
    "    aggregation_metrics = []\n",
    "    agg_col = 'epoch'\n",
    "    for i, dfg in metrics.groupby(agg_col):\n",
    "        agg = dict(dfg.mean())\n",
    "        agg[agg_col] = i\n",
    "        aggregation_metrics.append(agg)\n",
    "\n",
    "    df_metrics = pd.DataFrame(aggregation_metrics)\n",
    "    df_metrics[loss_names].plot(grid=True, legend=True, xlabel='Epoch', ylabel='loss')\n",
    "    df_metrics[eval_names].plot(grid=True, legend=True, xlabel='Epoch', ylabel='accuracy')\n",
    "    plt.show()"
   ]
  },
  {
   "cell_type": "code",
   "execution_count": 54,
   "metadata": {},
   "outputs": [
    {
     "data": {
      "image/png": "[encoded data removed]",
      "text/plain": [
       "<Figure size 640x480 with 1 Axes>"
      ]
     },
     "metadata": {},
     "output_type": "display_data"
    },
    {
     "data": {
      "image/png": "[encoded data removed]",
      "text/plain": [
       "<Figure size 640x480 with 1 Axes>"
      ]
     },
     "metadata": {},
     "output_type": "display_data"
    }
   ],
   "source": [
    "plot_csv_logger(metrics_csv)"
   ]
  }
 ],
 "metadata": {
  "kernelspec": {
   "display_name": "Python 3",
   "language": "python",
   "name": "python3"
  },
  "language_info": {
   "codemirror_mode": {
    "name": "ipython",
    "version": 3
   },
   "file_extension": ".py",
   "mimetype": "text/x-python",
   "name": "python",
   "nbconvert_exporter": "python",
   "pygments_lexer": "ipython3",
   "version": "3.10.11"
  }
 },
 "nbformat": 4,
 "nbformat_minor": 2
}
