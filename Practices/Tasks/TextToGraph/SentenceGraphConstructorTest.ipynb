{
 "cells": [
  {
   "cell_type": "markdown",
   "metadata": {},
   "source": [
    "#### Omid Davar @2023"
   ]
  },
  {
   "cell_type": "code",
   "execution_count": 1,
   "metadata": {},
   "outputs": [],
   "source": [
    "import numpy as np\n",
    "import pandas as pd\n",
    "import matplotlib.pyplot as plt\n",
    "import seaborn as sns\n",
    "import re\n",
    "import nltk\n",
    "import torch\n",
    "from nltk.corpus import stopwords\n",
    "from nltk.stem import SnowballStemmer\n",
    "from collections import Counter\n",
    "from wordcloud import WordCloud\n",
    "from sklearn.feature_extraction.text import TfidfVectorizer\n",
    "from sklearn.svm import LinearSVC\n",
    "from sklearn.metrics import accuracy_score, classification_report\n",
    "from Scripts.DataManager.GraphConstructor.SentenceGraphConstructor import SentenceGraphConstructor\n",
    "\n",
    "stop_words = set(stopwords.words('english'))\n",
    "stemmer = SnowballStemmer('english')\n",
    "from Scripts.Configs.ConfigClass import Config\n",
    "config = Config(r'E:\\Darsi\\Payan Name Arshad\\Second Work\\ColorIntelligence')\n",
    "from torch_geometric.data import Data\n",
    "from torch_geometric.utils import to_networkx\n",
    "import networkx as nx"
   ]
  },
  {
   "cell_type": "code",
   "execution_count": 2,
   "metadata": {},
   "outputs": [],
   "source": [
    "train_df = pd.read_csv(r'E:\\Darsi\\Payan Name Arshad\\Second Work\\ColorIntelligence\\data\\DigiKala\\train_sm.csv')\n",
    "test_df = pd.read_csv(r'E:\\Darsi\\Payan Name Arshad\\Second Work\\ColorIntelligence\\data\\DigiKala\\test_sm.csv')"
   ]
  },
  {
   "cell_type": "code",
   "execution_count": 3,
   "metadata": {},
   "outputs": [],
   "source": [
    "train_df.columns = ['Polarity', 'Title', 'Review']\n",
    "test_df.columns = ['Polarity', 'Title', 'Review']"
   ]
  },
  {
   "cell_type": "code",
   "execution_count": 4,
   "metadata": {},
   "outputs": [],
   "source": [
    "train_df = train_df[['Polarity', 'Review']]\n",
    "test_df = test_df[['Polarity', 'Review']]"
   ]
  },
  {
   "cell_type": "code",
   "execution_count": 5,
   "metadata": {},
   "outputs": [
    {
     "name": "stdout",
     "output_type": "stream",
     "text": [
      "i: 0\n"
     ]
    },
    {
     "name": "stderr",
     "output_type": "stream",
     "text": [
      "e:\\Darsi\\Payan Name Arshad\\Second Work\\ColorIntelligence\\Scripts\\DataManager\\GraphConstructor\\SentenceGraphConstructor.py:50: UserWarning: Creating a tensor from a list of numpy.ndarrays is extremely slow. Please consider converting the list to a single numpy.ndarray with numpy.array() before converting to a tensor. (Triggered internally at ..\\torch\\csrc\\utils\\tensor_new.cpp:264.)\n",
      "  data['sentence'].x = torch.tensor(sentence_embeddings, dtype=torch.float32)\n"
     ]
    }
   ],
   "source": [
    "# start_time = time.time()\n",
    "# graph_const = CoOccurrenceGraphConstructor(train_df['Review'], 'AmazonReview', config, lazy_construction=True,  load_preprocessed_data=True, naming_prepend='graph')\n",
    "# print(f'execution time in second: {time.time() - start_time}')\n",
    "graph_const = SentenceGraphConstructor(train_df['Review'][:10], r'data\\GraphData\\Sequential', config, lazy_construction=False, naming_prepend='graph', load_preprocessed_data=False , use_general_node=True,use_compression=True , num_general_nodes=8)\n",
    "# graph = graph_const.to_graph(train_df['Review'][0])\n",
    "graph_const.setup(load_preprocessed_data=False)\n"
   ]
  },
  {
   "cell_type": "code",
   "execution_count": 6,
   "metadata": {},
   "outputs": [
    {
     "name": "stdout",
     "output_type": "stream",
     "text": [
      "filename: E:\\Darsi\\Payan Name Arshad\\Second Work\\ColorIntelligence\\data\\GraphData\\Sequential\\graph_var.txt\n",
      "data loading 0\n"
     ]
    },
    {
     "name": "stderr",
     "output_type": "stream",
     "text": [
      "e:\\Darsi\\Payan Name Arshad\\Second Work\\ColorIntelligence\\Scripts\\DataManager\\GraphConstructor\\SequentialGraphConstructor.py:196: UserWarning: To copy construct from a tensor, it is recommended to use sourceTensor.clone().detach() or sourceTensor.clone().detach().requires_grad_(True), rather than torch.tensor(sourceTensor).\n",
      "  general_sentence_edge_index = torch.transpose(torch.tensor(graph['general' , 'general_sentence' , 'sentence'].edge_index, dtype=torch.int32) , 0 , 1).tolist()\n",
      "e:\\Darsi\\Payan Name Arshad\\Second Work\\ColorIntelligence\\Scripts\\DataManager\\GraphConstructor\\SequentialGraphConstructor.py:197: UserWarning: To copy construct from a tensor, it is recommended to use sourceTensor.clone().detach() or sourceTensor.clone().detach().requires_grad_(True), rather than torch.tensor(sourceTensor).\n",
      "  sentence_general_edge_index = torch.transpose(torch.tensor(graph['sentence' , 'sentence_general' , 'general'].edge_index, dtype=torch.int32) , 0 , 1).tolist()\n"
     ]
    }
   ],
   "source": [
    "graph_const.save_all_data_compressed()\n",
    "graph_const.load_all_data_comppressed()"
   ]
  },
  {
   "cell_type": "code",
   "execution_count": 7,
   "metadata": {},
   "outputs": [
    {
     "name": "stdout",
     "output_type": "stream",
     "text": [
      "tensor([[0, 0, 0, 0, 1, 1, 1, 1, 2, 2, 2, 2, 3, 3, 3, 3, 4, 4, 4, 4, 5, 5, 5, 5,\n",
      "         6, 6, 6, 6, 7, 7, 7, 7],\n",
      "        [0, 1, 2, 3, 0, 1, 2, 3, 0, 1, 2, 3, 0, 1, 2, 3, 0, 1, 2, 3, 0, 1, 2, 3,\n",
      "         0, 1, 2, 3, 0, 1, 2, 3]], dtype=torch.int32)\n",
      "torch.Size([8, 300])\n"
     ]
    }
   ],
   "source": [
    "\n",
    "print(graph_const.get_first()['general', 'general_sentence', 'sentence'].edge_index)\n",
    "print(graph_const.get_first()['general'].x.shape)\n"
   ]
  }
 ],
 "metadata": {
  "kernelspec": {
   "display_name": "Python 3",
   "language": "python",
   "name": "python3"
  },
  "language_info": {
   "codemirror_mode": {
    "name": "ipython",
    "version": 3
   },
   "file_extension": ".py",
   "mimetype": "text/x-python",
   "name": "python",
   "nbconvert_exporter": "python",
   "pygments_lexer": "ipython3",
   "version": "3.10.11"
  }
 },
 "nbformat": 4,
 "nbformat_minor": 2
}
