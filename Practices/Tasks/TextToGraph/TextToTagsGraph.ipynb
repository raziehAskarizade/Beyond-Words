{
 "cells": [
  {
   "cell_type": "markdown",
   "metadata": {},
   "source": [
    "#### Omid Davar @2023"
   ]
  },
  {
   "cell_type": "code",
   "execution_count": 1,
   "metadata": {},
   "outputs": [],
   "source": [
    "import numpy as np\n",
    "import pandas as pd\n",
    "import matplotlib.pyplot as plt\n",
    "import seaborn as sns\n",
    "import re\n",
    "import nltk\n",
    "import torch\n",
    "from nltk.corpus import stopwords\n",
    "from nltk.stem import SnowballStemmer\n",
    "from collections import Counter\n",
    "from wordcloud import WordCloud\n",
    "from sklearn.feature_extraction.text import TfidfVectorizer\n",
    "from sklearn.svm import LinearSVC\n",
    "from sklearn.metrics import accuracy_score, classification_report\n",
    "from Scripts.DataManager.GraphConstructor.TagsGraphConstructor import TagsGraphConstructor\n",
    "\n",
    "stop_words = set(stopwords.words('english'))\n",
    "stemmer = SnowballStemmer('english')\n",
    "from Scripts.Configs.ConfigClass import Config\n",
    "config = Config(r'C:\\Users\\fardin\\Projects\\ColorIntelligence')\n",
    "from torch_geometric.data import Data\n",
    "from torch_geometric.utils import to_networkx\n",
    "import networkx as nx"
   ]
  },
  {
   "cell_type": "code",
   "execution_count": 2,
   "metadata": {},
   "outputs": [],
   "source": [
    "train_df = pd.read_csv(r'C:\\Users\\fardin\\Projects\\ColorIntelligence\\data\\SnapFood\\train_sm.csv')\n",
    "test_df = pd.read_csv(r'C:\\Users\\fardin\\Projects\\ColorIntelligence\\data\\SnapFood\\test_sm.csv')"
   ]
  },
  {
   "cell_type": "code",
   "execution_count": 3,
   "metadata": {},
   "outputs": [],
   "source": [
    "train_df.columns = ['Polarity', 'Title', 'Review']\n",
    "test_df.columns = ['Polarity', 'Title', 'Review']"
   ]
  },
  {
   "cell_type": "code",
   "execution_count": 4,
   "metadata": {},
   "outputs": [],
   "source": [
    "train_df = train_df[['Polarity', 'Review']]\n",
    "test_df = test_df[['Polarity', 'Review']]"
   ]
  },
  {
   "cell_type": "code",
   "execution_count": 7,
   "metadata": {},
   "outputs": [
    {
     "name": "stdout",
     "output_type": "stream",
     "text": [
      "i: 0\n"
     ]
    }
   ],
   "source": [
    "\n",
    "graph_const = TagsGraphConstructor(train_df['Review'][:10], r'data\\GraphData\\Tag', config, lazy_construction=False, naming_prepend='graph', load_preprocessed_data=False, use_compression=True)\n",
    "graph_const.setup(load_preprocessed_data=False)\n",
    "\n"
   ]
  },
  {
   "cell_type": "code",
   "execution_count": 8,
   "metadata": {},
   "outputs": [],
   "source": [
    "graph_const.save_all_data_compressed()"
   ]
  },
  {
   "cell_type": "code",
   "execution_count": 12,
   "metadata": {},
   "outputs": [
    {
     "name": "stdout",
     "output_type": "stream",
     "text": [
      "filename: C:\\Users\\fardin\\Projects\\ColorIntelligence\\data\\GraphData\\Tag\\graph_var.txt\n",
      "data loading 0\n"
     ]
    }
   ],
   "source": [
    "graph_const.load_all_data_comppressed()"
   ]
  },
  {
   "cell_type": "code",
   "execution_count": 13,
   "metadata": {},
   "outputs": [
    {
     "name": "stdout",
     "output_type": "stream",
     "text": [
      "HeteroData(\n",
      "  tag={ x=[50, 300] },\n",
      "  word={ x=[104, 300] },\n",
      "  (tag, tag_word, word)={\n",
      "    edge_index=[2, 104],\n",
      "    edge_attr=[104],\n",
      "  },\n",
      "  (word, word_tag, tag)={\n",
      "    edge_index=[2, 104],\n",
      "    edge_attr=[104],\n",
      "  },\n",
      "  (word, seq, word)={\n",
      "    edge_index=[2, 206],\n",
      "    edge_attr=[206],\n",
      "  }\n",
      ")\n",
      "tensor([[ -1.8607,   0.1580,  -4.1425,  ...,   7.9379, -11.5700,   4.3334],\n",
      "        [ -9.3526,   3.6551,  -3.2571,  ...,  -5.4425,  -0.4818,  11.2790],\n",
      "        [  2.5446,  -1.0674,   3.9179,  ...,   0.3310,  -4.3464,  -3.4984],\n",
      "        ...,\n",
      "        [  1.9537,   2.2470,  -6.4141,  ...,   1.6256,  -4.4401,   0.8307],\n",
      "        [ -1.3229,  -0.9106,  -0.1730,  ...,  -0.5912,  -0.5681,  -0.8500],\n",
      "        [ -0.0765,  -4.6896,  -4.0431,  ...,   1.3040,  -0.5270,  -1.3622]])\n",
      "tensor([[0., 0., 0.,  ..., 0., 0., 0.],\n",
      "        [0., 0., 0.,  ..., 0., 0., 0.],\n",
      "        [0., 0., 0.,  ..., 0., 0., 0.],\n",
      "        ...,\n",
      "        [0., 0., 0.,  ..., 0., 0., 0.],\n",
      "        [0., 0., 0.,  ..., 0., 0., 0.],\n",
      "        [0., 0., 0.,  ..., 0., 0., 0.]])\n"
     ]
    }
   ],
   "source": [
    "graph_const = TagsGraphConstructor(train_df['Review'][:10], r'data\\GraphData\\Tag', config,\n",
    "                                   lazy_construction=False, naming_prepend='graph', load_preprocessed_data=False, use_compression=True)\n",
    "print(graph_const.get_first())\n",
    "print(graph_const.get_first()[\"word\"].x)\n",
    "print(graph_const.get_first()[\"tag\"].x)\n"
   ]
  }
 ],
 "metadata": {
  "kernelspec": {
   "display_name": "Python 3",
   "language": "python",
   "name": "python3"
  },
  "language_info": {
   "codemirror_mode": {
    "name": "ipython",
    "version": 3
   },
   "file_extension": ".py",
   "mimetype": "text/x-python",
   "name": "python",
   "nbconvert_exporter": "python",
   "pygments_lexer": "ipython3",
   "version": "3.10.11"
  }
 },
 "nbformat": 4,
 "nbformat_minor": 2
}
