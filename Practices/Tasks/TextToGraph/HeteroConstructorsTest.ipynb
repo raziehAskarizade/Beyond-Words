{
 "cells": [
  {
   "cell_type": "markdown",
   "metadata": {},
   "source": [
    "#### Omid Davar @2023"
   ]
  },
  {
   "cell_type": "code",
   "execution_count": 1,
   "metadata": {},
   "outputs": [
    {
     "ename": "FileNotFoundError",
     "evalue": "[Errno 2] No such file or directory: 'C:\\\\Users\\\\fardin\\\\Projects\\\\ColorIntelligence\\\\Scripts\\\\Configs\\\\Config.json\\\\Scripts/Configs/Config.json'",
     "output_type": "error",
     "traceback": [
      "\u001b[1;31m---------------------------------------------------------------------------\u001b[0m",
      "\u001b[1;31mFileNotFoundError\u001b[0m                         Traceback (most recent call last)",
      "\u001b[1;32mc:\\Users\\fardin\\Projects\\ColorIntelligence\\Practices\\Tasks\\TextToGraph\\HeteroConstructorsTest.ipynb Cell 1\u001b[0m line \u001b[0;36m2\n\u001b[0;32m     <a href='vscode-notebook-cell:/c%3A/Users/fardin/Projects/ColorIntelligence/Practices/Tasks/TextToGraph/HeteroConstructorsTest.ipynb#W0sZmlsZQ%3D%3D?line=18'>19</a>\u001b[0m stemmer \u001b[39m=\u001b[39m SnowballStemmer(\u001b[39m'\u001b[39m\u001b[39menglish\u001b[39m\u001b[39m'\u001b[39m)\n\u001b[0;32m     <a href='vscode-notebook-cell:/c%3A/Users/fardin/Projects/ColorIntelligence/Practices/Tasks/TextToGraph/HeteroConstructorsTest.ipynb#W0sZmlsZQ%3D%3D?line=19'>20</a>\u001b[0m \u001b[39mfrom\u001b[39;00m \u001b[39mScripts\u001b[39;00m\u001b[39m.\u001b[39;00m\u001b[39mConfigs\u001b[39;00m\u001b[39m.\u001b[39;00m\u001b[39mConfigClass\u001b[39;00m \u001b[39mimport\u001b[39;00m Config\n\u001b[1;32m---> <a href='vscode-notebook-cell:/c%3A/Users/fardin/Projects/ColorIntelligence/Practices/Tasks/TextToGraph/HeteroConstructorsTest.ipynb#W0sZmlsZQ%3D%3D?line=20'>21</a>\u001b[0m config \u001b[39m=\u001b[39m Config(\u001b[39mr\u001b[39;49m\u001b[39m'\u001b[39;49m\u001b[39mC:\u001b[39;49m\u001b[39m\\\u001b[39;49m\u001b[39mUsers\u001b[39;49m\u001b[39m\\\u001b[39;49m\u001b[39mfardin\u001b[39;49m\u001b[39m\\\u001b[39;49m\u001b[39mProjects\u001b[39;49m\u001b[39m\\\u001b[39;49m\u001b[39mColorIntelligence\u001b[39;49m\u001b[39m\\\u001b[39;49m\u001b[39mScripts\u001b[39;49m\u001b[39m\\\u001b[39;49m\u001b[39mConfigs\u001b[39;49m\u001b[39m\\\u001b[39;49m\u001b[39mConfig.json\u001b[39;49m\u001b[39m'\u001b[39;49m)\n\u001b[0;32m     <a href='vscode-notebook-cell:/c%3A/Users/fardin/Projects/ColorIntelligence/Practices/Tasks/TextToGraph/HeteroConstructorsTest.ipynb#W0sZmlsZQ%3D%3D?line=21'>22</a>\u001b[0m \u001b[39mfrom\u001b[39;00m \u001b[39mtorch_geometric\u001b[39;00m\u001b[39m.\u001b[39;00m\u001b[39mdata\u001b[39;00m \u001b[39mimport\u001b[39;00m Data\n\u001b[0;32m     <a href='vscode-notebook-cell:/c%3A/Users/fardin/Projects/ColorIntelligence/Practices/Tasks/TextToGraph/HeteroConstructorsTest.ipynb#W0sZmlsZQ%3D%3D?line=22'>23</a>\u001b[0m \u001b[39mfrom\u001b[39;00m \u001b[39mtorch_geometric\u001b[39;00m\u001b[39m.\u001b[39;00m\u001b[39mutils\u001b[39;00m \u001b[39mimport\u001b[39;00m to_networkx\n",
      "File \u001b[1;32mc:\\Users\\fardin\\Projects\\ColorIntelligence\\Scripts\\Configs\\ConfigClass.py:14\u001b[0m, in \u001b[0;36mConfig.__init__\u001b[1;34m(self, project_root_path, config_local_path)\u001b[0m\n\u001b[0;32m     11\u001b[0m     config_local_path \u001b[39m=\u001b[39m \u001b[39m'\u001b[39m\u001b[39mScripts/Configs/Config.json\u001b[39m\u001b[39m'\u001b[39m\n\u001b[0;32m     12\u001b[0m config_path \u001b[39m=\u001b[39m path\u001b[39m.\u001b[39mjoin(\u001b[39mself\u001b[39m\u001b[39m.\u001b[39mroot, config_local_path)\n\u001b[1;32m---> 14\u001b[0m \u001b[39mwith\u001b[39;00m \u001b[39mopen\u001b[39;49m(config_path, \u001b[39m'\u001b[39;49m\u001b[39mrt\u001b[39;49m\u001b[39m'\u001b[39;49m) \u001b[39mas\u001b[39;00m cf:\n\u001b[0;32m     15\u001b[0m     config_data \u001b[39m=\u001b[39m json\u001b[39m.\u001b[39mload(cf)\n\u001b[0;32m     17\u001b[0m \u001b[39mself\u001b[39m\u001b[39m.\u001b[39mdevice \u001b[39m=\u001b[39m config_data[\u001b[39m'\u001b[39m\u001b[39mdevice\u001b[39m\u001b[39m'\u001b[39m] \u001b[39mif\u001b[39;00m \u001b[39m'\u001b[39m\u001b[39mdevice\u001b[39m\u001b[39m'\u001b[39m \u001b[39min\u001b[39;00m config_data \u001b[39melse\u001b[39;00m \u001b[39m'\u001b[39m\u001b[39mcpu\u001b[39m\u001b[39m'\u001b[39m\n",
      "\u001b[1;31mFileNotFoundError\u001b[0m: [Errno 2] No such file or directory: 'C:\\\\Users\\\\fardin\\\\Projects\\\\ColorIntelligence\\\\Scripts\\\\Configs\\\\Config.json\\\\Scripts/Configs/Config.json'"
     ]
    }
   ],
   "source": [
    "import numpy as np\n",
    "import pandas as pd\n",
    "import matplotlib.pyplot as plt\n",
    "import seaborn as sns\n",
    "import re\n",
    "import nltk\n",
    "import torch\n",
    "from nltk.corpus import stopwords\n",
    "from nltk.stem import SnowballStemmer\n",
    "from collections import Counter\n",
    "from wordcloud import WordCloud\n",
    "from sklearn.feature_extraction.text import TfidfVectorizer\n",
    "from sklearn.svm import LinearSVC\n",
    "from sklearn.metrics import accuracy_score, classification_report\n",
    "from Scripts.DataManager.GraphConstructor.TagsGraphConstructor import TagsGraphConstructor\n",
    "from Scripts.DataManager.GraphConstructor.DependencyGraphConstructor import DependencyGraphConstructor\n",
    "from Scripts.DataManager.GraphConstructor.SequentialGraphConstructor import SequentialGraphConstructor\n",
    "stop_words = set(stopwords.words('english'))\n",
    "stemmer = SnowballStemmer('english')\n",
    "from Scripts.Configs.ConfigClass import Config\n",
    "config = Config(r'C:\\Users\\fardin\\Projects\\ColorIntelligence\\Scripts\\Configs\\Config.json')\n",
    "from torch_geometric.data import Data\n",
    "from torch_geometric.utils import to_networkx\n",
    "import networkx as nx"
   ]
  },
  {
   "cell_type": "code",
   "execution_count": null,
   "metadata": {},
   "outputs": [],
   "source": [
    "train_df = pd.read_csv(r'C:\\Users\\fardin\\Projects\\ColorIntelligence\\data\\SnapFood\\train_sm.csv')\n",
    "test_df = pd.read_csv(r'C:\\Users\\fardin\\Projects\\ColorIntelligence\\data\\SnapFood\\test_sm.csv')"
   ]
  },
  {
   "cell_type": "code",
   "execution_count": null,
   "metadata": {},
   "outputs": [],
   "source": [
    "train_df.columns = ['Polarity', 'Title', 'Review']\n",
    "test_df.columns = ['Polarity', 'Title', 'Review']"
   ]
  },
  {
   "cell_type": "code",
   "execution_count": null,
   "metadata": {},
   "outputs": [],
   "source": [
    "train_df = train_df[['Polarity', 'Review']]\n",
    "test_df = test_df[['Polarity', 'Review']]"
   ]
  },
  {
   "cell_type": "code",
   "execution_count": null,
   "metadata": {},
   "outputs": [
    {
     "name": "stdout",
     "output_type": "stream",
     "text": [
      "i: 0\n",
      "HeteroData(\n",
      "  dep={ x=[45, 300] },\n",
      "  word={ x=[104, 300] },\n",
      "  (dep, dep_word, word)={\n",
      "    edge_index=[2, 100],\n",
      "    edge_attr=[100],\n",
      "  },\n",
      "  (word, word_dep, dep)={\n",
      "    edge_index=[2, 100],\n",
      "    edge_attr=[100],\n",
      "  },\n",
      "  (word, seq, word)={\n",
      "    edge_index=[2, 206],\n",
      "    edge_attr=[206],\n",
      "  }\n",
      ")\n"
     ]
    }
   ],
   "source": [
    "# start_time = time.time()\n",
    "# graph_const = CoOccurrenceGraphConstructor(train_df['Review'], 'AmazonReview', config, lazy_construction=True,  load_preprocessed_data=True, naming_prepend='graph')\n",
    "# print(f'execution time in second: {time.time() - start_time}')\n",
    "graph_const = DependencyGraphConstructor(train_df['Review'][:10], 'AmazonReview', config, lazy_construction=False, naming_prepend='graph', load_preprocessed_data=False , use_node_dependencies=True)\n",
    "# graph = graph_const.to_graph(train_df['Review'][0])\n",
    "print(graph_const.get_graph(0))"
   ]
  },
  {
   "cell_type": "code",
   "execution_count": null,
   "metadata": {},
   "outputs": [
    {
     "name": "stdout",
     "output_type": "stream",
     "text": [
      "i: 0\n",
      "HeteroData(\n",
      "  tag={ x=[50, 300] },\n",
      "  word={ x=[104, 300] },\n",
      "  (tag, tag_word, word)={\n",
      "    edge_index=[2, 104],\n",
      "    edge_attr=[104],\n",
      "  },\n",
      "  (word, word_tag, tag)={\n",
      "    edge_index=[2, 104],\n",
      "    edge_attr=[104],\n",
      "  },\n",
      "  (word, seq, word)={\n",
      "    edge_index=[2, 206],\n",
      "    edge_attr=[206],\n",
      "  }\n",
      ")\n"
     ]
    }
   ],
   "source": [
    "# start_time = time.time()\n",
    "# graph_const = CoOccurrenceGraphConstructor(train_df['Review'], 'AmazonReview', config, lazy_construction=True,  load_preprocessed_data=True, naming_prepend='graph')\n",
    "# print(f'execution time in second: {time.time() - start_time}')\n",
    "graph_const = TagsGraphConstructor(train_df['Review'][:10], 'AmazonReview', config, lazy_construction=False, naming_prepend='graph', load_preprocessed_data=False)\n",
    "# graph = graph_const.to_graph(train_df['Review'][0])\n",
    "print(graph_const.get_graph(0))"
   ]
  },
  {
   "cell_type": "code",
   "execution_count": null,
   "metadata": {},
   "outputs": [
    {
     "name": "stdout",
     "output_type": "stream",
     "text": [
      "i: 0\n",
      "HeteroData(\n",
      "  general={ x=[1, 300] },\n",
      "  word={ x=[104, 300] },\n",
      "  (general, general_word, word)={\n",
      "    edge_index=[2, 104],\n",
      "    edge_attr=[104],\n",
      "  },\n",
      "  (word, word_general, general)={\n",
      "    edge_index=[2, 104],\n",
      "    edge_attr=[104],\n",
      "  },\n",
      "  (word, seq, word)={\n",
      "    edge_index=[2, 206],\n",
      "    edge_attr=[206],\n",
      "  }\n",
      ")\n"
     ]
    }
   ],
   "source": [
    "# start_time = time.time()\n",
    "# graph_const = CoOccurrenceGraphConstructor(train_df['Review'], 'AmazonReview', config, lazy_construction=True,  load_preprocessed_data=True, naming_prepend='graph')\n",
    "# print(f'execution time in second: {time.time() - start_time}')\n",
    "graph_const = SequentialGraphConstructor(train_df['Review'][:10], 'AmazonReview', config, lazy_construction=False, naming_prepend='graph', load_preprocessed_data=False,use_general_node=True)\n",
    "# graph = graph_const.to_graph(train_df['Review'][0])\n",
    "print(graph_const.get_graph(0))"
   ]
  },
  {
   "cell_type": "code",
   "execution_count": null,
   "metadata": {},
   "outputs": [
    {
     "name": "stdout",
     "output_type": "stream",
     "text": [
      "i: 0\n",
      "Data(x=[104, 300], edge_index=[2, 206], edge_attr=[206])\n"
     ]
    }
   ],
   "source": [
    "# start_time = time.time()\n",
    "# graph_const = CoOccurrenceGraphConstructor(train_df['Review'], 'AmazonReview', config, lazy_construction=True,  load_preprocessed_data=True, naming_prepend='graph')\n",
    "# print(f'execution time in second: {time.time() - start_time}')\n",
    "graph_const = SequentialGraphConstructor(train_df['Review'][:10], 'AmazonReview', config, lazy_construction=False, naming_prepend='graph', load_preprocessed_data=False,use_general_node=False)\n",
    "# graph = graph_const.to_graph(train_df['Review'][0])\n",
    "print(graph_const.get_graph(0))"
   ]
  }
 ],
 "metadata": {
  "kernelspec": {
   "display_name": "Python 3",
   "language": "python",
   "name": "python3"
  },
  "language_info": {
   "codemirror_mode": {
    "name": "ipython",
    "version": 3
   },
   "file_extension": ".py",
   "mimetype": "text/x-python",
   "name": "python",
   "nbconvert_exporter": "python",
   "pygments_lexer": "ipython3",
   "version": "3.10.11"
  }
 },
 "nbformat": 4,
 "nbformat_minor": 2
}
