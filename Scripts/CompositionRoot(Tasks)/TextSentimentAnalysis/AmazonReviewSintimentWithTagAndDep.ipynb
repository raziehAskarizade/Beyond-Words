{
 "cells": [
  {
   "cell_type": "markdown",
   "metadata": {},
   "source": [
    "#### Fardin Rastakhiz @2023"
   ]
  },
  {
   "cell_type": "code",
   "execution_count": 38,
   "metadata": {},
   "outputs": [],
   "source": [
    "import numpy as np\n",
    "# from Scripts.DataManager.DabasePreparations.AmazonReviewSentiGraph import AmazonReviewSentiGraph\n",
    "# from Scripts.Models.ModelsManager.SimpleGraphClassifierModelManager import SimpleGraphClassifierModelManager\n",
    "from Scripts.Configs.ConfigClass import Config\n",
    "from Scripts.DataManager.GraphConstructor.GraphConstructor import TextGraphType\n",
    "from lightning.pytorch.loggers import CSVLogger\n",
    "import os"
   ]
  },
  {
   "cell_type": "code",
   "execution_count": 39,
   "metadata": {},
   "outputs": [],
   "source": [
    "config = Config(r'C:\\Users\\fardin\\Projects\\ColorIntelligence')\n",
    "# os.environ['TORCH_USE_CUDA_DSA']\n",
    "os.environ['CUDA_LAUNCH_BLOCKING'] = \"1\"\n",
    "device = 'cuda'\n",
    "batch_size = 128"
   ]
  },
  {
   "cell_type": "code",
   "execution_count": 40,
   "metadata": {},
   "outputs": [],
   "source": [
    "from typing import List, Set, Tuple, Any\n",
    "from abc import ABC, abstractmethod\n",
    "\n",
    "from pytorch_lightning.utilities.types import EVAL_DATALOADERS, TRAIN_DATALOADERS\n",
    "# from torch_geometric.data.lightning.datamodule import LightningDataModule\n",
    "from lightning.pytorch import LightningDataModule\n",
    "from torch_geometric.utils import augmentation\n",
    "import torch\n",
    "import numpy as np\n",
    "import pandas as pd\n",
    "from sklearn.model_selection import train_test_split\n",
    "from torch_geometric.utils import subgraph, train_test_split_edges\n",
    "from torch_geometric.data import Data\n",
    "\n",
    "from Scripts.Configs.ConfigClass import Config\n",
    "from Scripts.Utils.GraphCollection.GraphCollection import GraphCollection\n",
    "\n",
    "class GraphDataModule(LightningDataModule):\n",
    "\n",
    "    def __init__(self, config: Config, device, has_val: bool, has_test: bool, test_size=0.2, val_size=0.15, *args, **kwargs):\n",
    "        super(GraphDataModule, self).__init__() #has_val, has_test, **kwargs)\n",
    "        self.config = config\n",
    "        self.test_size = test_size\n",
    "        self.val_size = val_size\n",
    "        self.device = device\n",
    "\n",
    "    @abstractmethod\n",
    "    def prepare_data(self):\n",
    "        pass\n",
    "\n",
    "    @abstractmethod\n",
    "    def setup(self, stage: str):\n",
    "        pass\n",
    "\n",
    "    @abstractmethod\n",
    "    def train_dataloader(self) -> TRAIN_DATALOADERS:\n",
    "        pass\n",
    "\n",
    "    @abstractmethod\n",
    "    def test_dataloader(self) -> EVAL_DATALOADERS:\n",
    "        pass\n",
    "\n",
    "    @abstractmethod\n",
    "    def val_dataloader(self) -> EVAL_DATALOADERS:\n",
    "        pass\n",
    "\n",
    "    @abstractmethod\n",
    "    def teardown(self, stage: str) -> None:\n",
    "        pass\n",
    "    \n",
    "    @abstractmethod\n",
    "    def zero_rule_baseline():\n",
    "        pass\n",
    "\n",
    "    # def predict_dataloader(self) -> EVAL_DATALOADERS:\n",
    "    # def transfer_batch_to_device(self, batch: Any, device: torch.device, dataloader_idx: int) -> Any:\n",
    "    # def on_before_batch_transfer(self, batch: Any, dataloader_idx: int) -> Any:\n",
    "    # def on_after_batch_transfer(self, batch: Any, dataloader_idx: int) -> Any:"
   ]
  },
  {
   "cell_type": "code",
   "execution_count": 41,
   "metadata": {},
   "outputs": [],
   "source": [
    "from os import path\n",
    "from typing import Dict\n",
    "\n",
    "import pandas as pd\n",
    "from torch.utils.data import Dataset\n",
    "from torch_geometric.loader import DataLoader\n",
    "\n",
    "from Scripts.Configs.ConfigClass import Config\n",
    "from Scripts.DataManager.GraphConstructor.CoOccurrenceGraphConstructor import CoOccurrenceGraphConstructor\n",
    "from Scripts.DataManager.GraphConstructor.GraphConstructor import GraphConstructor, TextGraphType\n",
    "# from Scripts.DataManager.GraphLoader.GraphLoader import GraphLoader\n",
    "from torch.utils.data.dataset import random_split\n",
    "import torch\n",
    "from Scripts.DataManager.Datasets.GraphConstructorDataset import GraphConstructorDataset\n",
    "\n",
    "class AmazonReviewGraphDataModule(GraphDataModule):\n",
    "\n",
    "    def __init__(self, config: Config, has_val: bool, has_test: bool, test_size=0.2, val_size=0.2, num_workers=2,\n",
    "                 drop_last=True, train_data_path='', test_data_path='', graphs_path='', batch_size = 32,\n",
    "                 device='cpu', shuffle = False, end_data_load=-1,\n",
    "                 graph_type: TextGraphType = TextGraphType.CO_OCCURRENCE, *args, **kwargs):\n",
    "        kwargs['num_workers'] = num_workers\n",
    "        kwargs['batch_size'] = batch_size\n",
    "        kwargs['num_workers'] = num_workers\n",
    "        kwargs['shuffle'] = shuffle\n",
    "        super(AmazonReviewGraphDataModule, self)\\\n",
    "            .__init__(config, device, has_val, has_test, test_size, val_size, *args, **kwargs)\n",
    "\n",
    "        self.device = device\n",
    "        self.batch_size = batch_size\n",
    "        self.num_workers = num_workers\n",
    "        self.drop_last = drop_last\n",
    "        self.graph_type = graph_type\n",
    "        self.train_data_path = 'data/SnapFood/train_sm.csv' if train_data_path == '' else train_data_path\n",
    "        self.test_data_path = 'data/SnapFood/test_sm.csv' if test_data_path == '' else test_data_path\n",
    "        self.train_df: pd.DataFrame = pd.DataFrame()\n",
    "        self.test_df: pd.DataFrame = pd.DataFrame()\n",
    "        self.labels = None\n",
    "        self.dataset = None\n",
    "        self.shuffle = shuffle\n",
    "        self.num_node_features = 0\n",
    "        self.num_classes = 0\n",
    "        self.df: pd.DataFrame = pd.DataFrame()\n",
    "        self.__train_dataset, self.__val_dataset, self.__test_dataset = None, None, None\n",
    "        self.train_df = pd.read_csv(path.join(self.config.root, self.train_data_path))\n",
    "        self.test_df = pd.read_csv(path.join(self.config.root, self.test_data_path))\n",
    "        self.train_df.columns = ['Polarity', 'Title', 'Review']\n",
    "        self.test_df.columns = ['Polarity', 'Title', 'Review']\n",
    "        self.train_df = self.train_df[['Polarity', 'Review']]\n",
    "        self.test_df = self.test_df[['Polarity', 'Review']]\n",
    "        self.df = pd.concat([self.train_df, self.test_df])\n",
    "        self.end_data_load = end_data_load if end_data_load>0 else self.df.shape[0]\n",
    "        self.end_data_load = end_data_load if self.end_data_load < self.df.shape[0] else self.df.shape[0] \n",
    "        self.df = self.df.iloc[:self.end_data_load]\n",
    "        self.df.index = np.arange(0, self.end_data_load)\n",
    "        self.graph_constructors = self.__set_graph_constructors(self.graph_type)\n",
    "        graph_constructor = self.graph_constructors[TextGraphType.CO_OCCURRENCE]\n",
    "        graph_constructor.setup()\n",
    "        print(f'self.end_data_load: {self.end_data_load}')\n",
    "        labels = self.df['Polarity'][:self.end_data_load]\n",
    "        labels = labels.apply(lambda p: 0 if p == 1 else 1).to_numpy()\n",
    "        labels = torch.from_numpy(labels)\n",
    "        self.labels = labels.to(torch.float32).view(-1, 1).to(self.device)\n",
    "        graph_constructor = self.graph_constructors[TextGraphType.CO_OCCURRENCE]\n",
    "        \n",
    "        print(f'self.labels.shape: {self.labels.shape}')\n",
    "        self.dataset = GraphConstructorDataset(graph_constructor, self.labels)\n",
    "        sample_graph = graph_constructor.get_first()\n",
    "        self.num_node_features = sample_graph.num_features\n",
    "        self.num_classes = len(torch.unique(self.labels))\n",
    "        self.__train_dataset, self.__val_dataset, self.__test_dataset =\\\n",
    "            random_split(self.dataset, [1-self.val_size-self.test_size, self.val_size, self.test_size])\n",
    "        self.__train_dataloader =  DataLoader(self.__train_dataset, batch_size=self.batch_size, drop_last=self.drop_last, shuffle=self.shuffle, num_workers=0, persistent_workers=False)\n",
    "        self.__test_dataloader =  DataLoader(self.__test_dataset, batch_size=self.batch_size, num_workers=0, persistent_workers=False)\n",
    "        self.__val_dataloader =  DataLoader(self.__val_dataset, batch_size=self.batch_size, num_workers=0, persistent_workers=False)\n",
    "        \n",
    "    def prepare_data(self):\n",
    "        pass\n",
    "        \n",
    "    def setup(self, stage: str):\n",
    "        pass\n",
    "\n",
    "    def teardown(self, stage: str) -> None:\n",
    "        pass\n",
    "\n",
    "    def train_dataloader(self):\n",
    "        return self.__train_dataloader\n",
    "\n",
    "    def test_dataloader(self):\n",
    "        return self.__test_dataloader\n",
    "\n",
    "    def val_dataloader(self):\n",
    "        return self.__val_dataloader \n",
    "\n",
    "    def __set_graph_constructors(self, graph_type: TextGraphType):\n",
    "        graph_constructors: Dict[TextGraphType, GraphConstructor] = {}\n",
    "        if TextGraphType.CO_OCCURRENCE in graph_type:\n",
    "            graph_constructors[TextGraphType.CO_OCCURRENCE] = self.__get_co_occurrence_graph()\n",
    "        if TextGraphType.DEPENDENCY in graph_type:\n",
    "            pass\n",
    "        if TextGraphType.SEQUENTIAL in graph_type:\n",
    "            pass\n",
    "        if TextGraphType.TAGS in graph_type:\n",
    "            pass\n",
    "        return graph_constructors\n",
    "\n",
    "    def __get_co_occurrence_graph(self):\n",
    "        print(f'self.end_data_load: {self.end_data_load}')\n",
    "        return CoOccurrenceGraphConstructor(self.df['Review'][:self.end_data_load], 'data/GraphData/AmazonReview', self.config, lazy_construction=False, load_preprocessed_data=True, naming_prepend='graph', end_data_load=self.end_data_load, device=self.device)\n",
    "    \n",
    "    def zero_rule_baseline(self):\n",
    "        return f'zero_rule baseline: {(len(self.labels[self.labels>0.5])* 100.0 / len(self.labels))  : .2f}%'"
   ]
  },
  {
   "cell_type": "code",
   "execution_count": 42,
   "metadata": {},
   "outputs": [
    {
     "name": "stdout",
     "output_type": "stream",
     "text": [
      "self.end_data_load: 5000\n",
      "filename: C:\\Users\\fardin\\Projects\\ColorIntelligence\\data/GraphData/AmazonReview\\graph_var.txt\n",
      " 0 graph loaded\n",
      " 100 graph loaded\n",
      " 200 graph loaded\n",
      " 300 graph loaded\n",
      " 400 graph loaded\n",
      " 500 graph loaded\n",
      " 600 graph loaded\n",
      " 700 graph loaded\n",
      " 800 graph loaded\n",
      " 900 graph loaded\n",
      " 1000 graph loaded\n",
      " 1100 graph loaded\n",
      " 1200 graph loaded\n",
      " 1300 graph loaded\n",
      " 1400 graph loaded\n",
      " 1500 graph loaded\n",
      " 1600 graph loaded\n",
      " 1700 graph loaded\n",
      " 1800 graph loaded\n",
      " 1900 graph loaded\n",
      " 2000 graph loaded\n",
      " 2100 graph loaded\n",
      " 2200 graph loaded\n",
      " 2300 graph loaded\n",
      " 2400 graph loaded\n",
      " 2500 graph loaded\n",
      " 2600 graph loaded\n",
      " 2700 graph loaded\n",
      " 2800 graph loaded\n",
      " 2900 graph loaded\n",
      " 3000 graph loaded\n",
      " 3100 graph loaded\n",
      " 3200 graph loaded\n",
      " 3300 graph loaded\n",
      " 3400 graph loaded\n",
      " 3500 graph loaded\n",
      " 3600 graph loaded\n",
      " 3700 graph loaded\n",
      " 3800 graph loaded\n",
      " 3900 graph loaded\n",
      " 4000 graph loaded\n",
      " 4100 graph loaded\n",
      " 4200 graph loaded\n",
      " 4300 graph loaded\n",
      " 4400 graph loaded\n",
      " 4500 graph loaded\n",
      " 4600 graph loaded\n",
      " 4700 graph loaded\n",
      " 4800 graph loaded\n",
      " 4900 graph loaded\n",
      "self.end_data_load: 5000\n",
      "self.labels.shape: torch.Size([5000, 1])\n"
     ]
    }
   ],
   "source": [
    "data_manager = AmazonReviewGraphDataModule(config, True, True, num_workers=2, shuffle=True, end_data_load = 5000, device='cpu', batch_size=batch_size)"
   ]
  },
  {
   "cell_type": "code",
   "execution_count": 44,
   "metadata": {},
   "outputs": [
    {
     "data": {
      "text/plain": [
       "'zero_rule baseline:  46.16%'"
      ]
     },
     "execution_count": 44,
     "metadata": {},
     "output_type": "execute_result"
    }
   ],
   "source": [
    "data_manager.zero_rule_baseline()"
   ]
  },
  {
   "cell_type": "code",
   "execution_count": 45,
   "metadata": {},
   "outputs": [],
   "source": [
    "t_dataloader = data_manager.train_dataloader()"
   ]
  },
  {
   "cell_type": "code",
   "execution_count": 46,
   "metadata": {},
   "outputs": [],
   "source": [
    "X,y = next(iter(t_dataloader))\n",
    "X = X.to(device)\n",
    "y = y.to(device)"
   ]
  },
  {
   "cell_type": "code",
   "execution_count": 47,
   "metadata": {},
   "outputs": [],
   "source": [
    "from Scripts.Models.BaseModels.GcnGatModel1 import GcnGatModel1\n",
    "# from Scripts.Models.BaseModels.GcnGatModel1 import GcnGatModel1\n",
    "from Scripts.Models.LightningModels.LightningModels import BinaryLightningModel\n",
    "from lightning.pytorch.callbacks import EarlyStopping, ModelCheckpoint\n",
    "import torch\n",
    "import lightning as L\n",
    "from lightning.pytorch.tuner import Tuner\n",
    "import time"
   ]
  },
  {
   "cell_type": "code",
   "execution_count": 136,
   "metadata": {},
   "outputs": [],
   "source": [
    "import torch\n",
    "import torch_geometric\n",
    "from torch.nn import Linear\n",
    "from torch_geometric.nn import GATv2Conv, GCNConv, GCN2Conv, DenseGCNConv, dense_diff_pool, BatchNorm, global_mean_pool, global_add_pool, global_max_pool, MemPooling, SAGEConv, to_hetero\n",
    "from torch_geometric.nn import Sequential as GSequential\n",
    "from torch_geometric.utils import to_dense_adj\n",
    "from torch import nn, Tensor\n",
    "import torch.nn.functional as F\n",
    "\n",
    "\n",
    "class EmbeddingModel(nn.Module):\n",
    "    def __init__(self, in_feature, out_feature, hidden_feature=64, *args, **kwargs) -> None:\n",
    "        super().__init__(*args, **kwargs)\n",
    "        self.conv1 = SAGEConv(in_feature, hidden_feature)\n",
    "        self.conv2 = SAGEConv(hidden_feature, hidden_feature)\n",
    "        self.conv3 = SAGEConv(hidden_feature, out_feature)\n",
    "        \n",
    "    def forward(self, x: Tensor, edge_index: Tensor) -> Tensor:\n",
    "        x = F.relu(self.conv1(x, edge_index))\n",
    "        x = F.relu(self.conv2(x, edge_index))\n",
    "        x = self.conv3(x, edge_index)\n",
    "        return x\n",
    "\n",
    "class DepTagModel(nn.Module):\n",
    "    r\"\"\"\n",
    "    This class is for graph level classification or graph level regression\n",
    "    \"\"\"\n",
    "\n",
    "    def __init__(self, input_feature: int, out_features: int, base_hidden_feature: int=256, dropout=0.1, *args, **kwargs):\n",
    "        super(GcnGatModel1, self).__init__(*args, **kwargs)\n",
    "        self.input_features = input_feature\n",
    "        self.num_out_features = out_features\n",
    "        self.bsh: int = base_hidden_feature\n",
    "        bsh2: int = int(self.bsh/2)\n",
    "        bsh4: int = int(self.bsh/4)\n",
    "        bsh8: int = int(self.bsh/8)\n",
    "        \n",
    "        self.encoder = GSequential('x, edge_index, edge_weights', [\n",
    "            (GCNConv(input_feature, self.bsh), 'x, edge_index, edge_weights ->x1'),\n",
    "            (BatchNorm(self.bsh), 'x1->x1'),\n",
    "            (nn.ReLU(), 'x1->x1'),\n",
    "            (nn.Dropout(dropout), 'x1->x1'),\n",
    "            (GCNConv(self.bsh, self.bsh), 'x1, edge_index, edge_weights ->x1'),\n",
    "            (BatchNorm(self.bsh), 'x1->x1'),\n",
    "            (nn.ReLU(), 'x1->x1'),\n",
    "            (nn.Dropout(dropout), 'x1->x1'),\n",
    "            (GCNConv(self.bsh, self.bsh), 'x1, edge_index, edge_weights ->x1'),\n",
    "            (BatchNorm(self.bsh), 'x1->x1'),\n",
    "            (nn.ReLU(), 'x1->x1'),\n",
    "            (nn.Dropout(dropout), 'x1->x1'),\n",
    "            \n",
    "            (GCNConv(self.bsh, bsh2), 'x1, edge_index, edge_weights -> x2'),\n",
    "            (BatchNorm(bsh2), 'x2->x2'),\n",
    "            (nn.ReLU(), 'x2->x2'),\n",
    "            (nn.Dropout(dropout), 'x2->x2'),\n",
    "            (GCNConv(bsh2, bsh2), 'x2, edge_index, edge_weights -> x2'),\n",
    "            (BatchNorm(bsh2), 'x2->x2'),\n",
    "            (nn.ReLU(), 'x2->x2'),\n",
    "            (nn.Dropout(dropout), 'x2->x2'),\n",
    "            (GCNConv(bsh2, bsh2), 'x2, edge_index, edge_weights -> x2'),\n",
    "            (BatchNorm(bsh2), 'x2->x2'),\n",
    "            (nn.ReLU(), 'x2->x2'),\n",
    "            (nn.Dropout(dropout), 'x2->x2'),\n",
    "            \n",
    "            (GCNConv(bsh2, bsh4), 'x2, edge_index, edge_weights -> x3'),\n",
    "            (BatchNorm(bsh4), 'x3->x3'),\n",
    "            (nn.ReLU(), 'x3->x3'),\n",
    "            (nn.Dropout(dropout), 'x3->x3'),\n",
    "            (GCNConv(bsh4, bsh4), 'x3, edge_index, edge_weights -> x3'),\n",
    "            (BatchNorm(bsh4), 'x3->x3'),\n",
    "            (nn.ReLU(), 'x3->x3'),\n",
    "            (nn.Dropout(dropout), 'x3->x3'),\n",
    "            (GCNConv(bsh4, bsh4), 'x3, edge_index, edge_weights -> x3'),\n",
    "            (BatchNorm(bsh4), 'x3->x3'),\n",
    "            (nn.ReLU(), 'x3->x3'),\n",
    "            (nn.Dropout(dropout), 'x3->x3'),\n",
    "            \n",
    "            (GCNConv(bsh4, bsh8), 'x3, edge_index, edge_weights -> x4'),\n",
    "            (BatchNorm(bsh8), 'x4->x4'),\n",
    "            (nn.ReLU(), 'x4->x4'),\n",
    "            (nn.Dropout(dropout), 'x4->x4'),\n",
    "            (GCNConv(bsh8, bsh8), 'x4, edge_index, edge_weights -> x4'),\n",
    "            (BatchNorm(bsh8), 'x4->x4'),\n",
    "            (nn.ReLU(), 'x4->x4'),\n",
    "            (nn.Dropout(dropout), 'x4->x4'),\n",
    "            (GCNConv(bsh8, bsh8), 'x4, edge_index, edge_weights -> x4'),\n",
    "            (BatchNorm(bsh8), 'x4->x4'),\n",
    "            (nn.ReLU(), 'x4->x4'),\n",
    "            (lambda x1, x2, x3, x4: (x1, x2, x3, x4), 'x1, x2, x3, x4 -> x1, x2, x3, x4')\n",
    "        ])\n",
    "        \n",
    "        self.attention = GSequential('x3, x4, edge_index, edge_weights', [\n",
    "            (GATv2Conv(bsh8, bsh8, 2, dropout=dropout), 'x4, edge_index ->x4'),\n",
    "            (BatchNorm(bsh4), 'x4->x4'),\n",
    "            (nn.ReLU(), 'x4->x4'),\n",
    "            \n",
    "            (GCN2Conv(bsh4, 0.5, 0.1, 2), 'x4, x3, edge_index, edge_weights->x3'),\n",
    "            (BatchNorm(bsh4), 'x3->x3'),\n",
    "            (nn.ReLU(), 'x3->x3'),\n",
    "            (GCNConv(bsh4, bsh4), 'x3, edge_index, edge_weights -> x3'),\n",
    "            (BatchNorm(bsh4), 'x3->x3'),\n",
    "            (nn.ReLU(), 'x3->x3'),\n",
    "            \n",
    "            (GATv2Conv(bsh4, bsh4, 2, dropout=dropout), 'x3, edge_index ->x3'),\n",
    "            (BatchNorm(bsh2), 'x3->x3'),\n",
    "            (nn.ReLU(), 'x3->x3'),\n",
    "            (lambda x3, x4: (x3, x4), 'x3, x4 -> x3, x4')\n",
    "        ])\n",
    "        \n",
    "        self.decoder = GSequential('x1, x2, x3, edge_index, edge_weights', [\n",
    "            \n",
    "            (GCN2Conv(bsh2, 0.5, 0.1, 2), 'x3, x2, edge_index, edge_weights->x2'),\n",
    "            (BatchNorm(bsh2), 'x2->x2'),\n",
    "            (nn.ReLU(), 'x2->x2'),\n",
    "            (nn.Dropout(dropout), 'x2->x2'),\n",
    "            (GCNConv(bsh2, bsh2), 'x2, edge_index, edge_weights -> x2'),\n",
    "            (BatchNorm(bsh2), 'x2->x2'),\n",
    "            (nn.ReLU(), 'x2->x2'),\n",
    "            (nn.Dropout(dropout), 'x2->x2'),\n",
    "            (GCNConv(bsh2, self.bsh), 'x2, edge_index->x2'),\n",
    "            (BatchNorm(self.bsh), 'x2->x2'),\n",
    "            (nn.ReLU(), 'x2->x2'),\n",
    "            (nn.Dropout(dropout), 'x2->x2'),\n",
    "            \n",
    "            (GCN2Conv(self.bsh, 0.5, 0.1, 2), 'x2, x1, edge_index, edge_weights->x1'),\n",
    "            (BatchNorm(self.bsh), 'x1->x1'),\n",
    "            (nn.ReLU(), 'x1->x1'),\n",
    "            (nn.Dropout(dropout), 'x1->x1'),\n",
    "            (GCNConv(self.bsh, self.bsh), 'x1, edge_index, edge_weights ->x1'),\n",
    "            (BatchNorm(self.bsh), 'x1->x1'),\n",
    "            (nn.ReLU(), 'x1->x1'),\n",
    "            (nn.Dropout(dropout), 'x1->x1'),\n",
    "            (GCNConv(self.bsh, self.bsh), 'x1, edge_index, edge_weights ->x1'),\n",
    "            (BatchNorm(self.bsh), 'x1->x1'),\n",
    "            (nn.ReLU(), 'x1->x1'),\n",
    "            (nn.Dropout(dropout), 'x1->x1'),\n",
    "            (lambda x1, x2, x3: (x1, x2, x3), 'x1, x2, x3 -> x, x2, x3')\n",
    "        ])\n",
    "\n",
    "        # self.pool_batch_norm = BatchNorm(self.bsh)\n",
    "        self.mem_pool = MemPooling(self.bsh, 128, 4, 2)\n",
    "        self.output_layer = Linear(self.bsh, self.num_out_features)\n",
    "        \n",
    "        \n",
    "\n",
    "    def forward(self, x):\n",
    "        x1, x2, x3, x_enc = self.encoder(x.x, x.edge_index, x.edge_attr)\n",
    "        x_att, x4 = self.attention(x3, x_enc, x.edge_index, x.edge_attr)\n",
    "        x_dec, x2, x3 = self.decoder(x1, x2, x_att, x.edge_index, x.edge_attr)\n",
    "        # g_pooled = global_mean_pool(x_dec, x.batch)\n",
    "        # g_pooled = self.pool_batch_norm(g_pooled)\n",
    "        \n",
    "        x_pooled, S = self.mem_pool(x_dec, x.batch)\n",
    "        x_pooled = x_pooled.view(x_pooled.shape[0], -1)\n",
    "        return self.output_layer(x_pooled)"
   ]
  },
  {
   "cell_type": "code",
   "execution_count": 137,
   "metadata": {},
   "outputs": [],
   "source": [
    "torch_model = GcnGatModel1(300, 1, 256, 0.4).to(device)"
   ]
  },
  {
   "cell_type": "code",
   "execution_count": 131,
   "metadata": {},
   "outputs": [
    {
     "name": "stdout",
     "output_type": "stream",
     "text": [
      "torch.Size([128, 256])\n"
     ]
    }
   ],
   "source": [
    "sample = torch_model(X)"
   ]
  },
  {
   "cell_type": "code",
   "execution_count": 132,
   "metadata": {},
   "outputs": [
    {
     "name": "stderr",
     "output_type": "stream",
     "text": [
      "c:\\Users\\fardin\\AppData\\Local\\Programs\\Python\\Python310\\lib\\site-packages\\lightning\\pytorch\\utilities\\parsing.py:198: Attribute 'model' is an instance of `nn.Module` and is already saved during checkpointing. It is recommended to ignore them using `self.save_hyperparameters(ignore=['model'])`.\n"
     ]
    }
   ],
   "source": [
    "torch_model = GcnGatModel1(300, 1, 256, 0.4).to(device)\n",
    "lightning_model = BinaryLightningModel(torch_model,\n",
    "                                       torch.optim.Adam(torch_model.parameters(), lr=0.0001, weight_decay=0.00055),\n",
    "                                       torch.nn.BCEWithLogitsLoss(),\n",
    "                                       learning_rate=0.0001,\n",
    "                                       batch_size=batch_size,\n",
    "                                       ).to(device)"
   ]
  },
  {
   "cell_type": "code",
   "execution_count": 133,
   "metadata": {},
   "outputs": [
    {
     "name": "stderr",
     "output_type": "stream",
     "text": [
      "GPU available: True (cuda), used: True\n",
      "TPU available: False, using: 0 TPU cores\n",
      "IPU available: False, using: 0 IPUs\n",
      "HPU available: False, using: 0 HPUs\n"
     ]
    }
   ],
   "source": [
    "trainer = L.Trainer(\n",
    "            max_epochs=1000,\n",
    "            accelerator='gpu',\n",
    "            num_sanity_val_steps=0,\n",
    "            log_every_n_steps=2000,\n",
    "            logger=CSVLogger(save_dir='logs/', name='DepTag2')\n",
    "            )"
   ]
  },
  {
   "cell_type": "code",
   "execution_count": 134,
   "metadata": {},
   "outputs": [
    {
     "name": "stderr",
     "output_type": "stream",
     "text": [
      "c:\\Users\\fardin\\AppData\\Local\\Programs\\Python\\Python310\\lib\\site-packages\\lightning\\pytorch\\utilities\\parsing.py:43: attribute 'model' removed from hparams because it cannot be pickled\n",
      "LOCAL_RANK: 0 - CUDA_VISIBLE_DEVICES: [0]\n"
     ]
    },
    {
     "name": "stdout",
     "output_type": "stream",
     "text": [
      "bbbb\n",
      "train_fn: <bound method Trainer._fit_impl of <lightning.pytorch.trainer.trainer.Trainer object at 0x000001A53CDFA830>>\n"
     ]
    },
    {
     "name": "stderr",
     "output_type": "stream",
     "text": [
      "c:\\Users\\fardin\\AppData\\Local\\Programs\\Python\\Python310\\lib\\site-packages\\lightning\\pytorch\\trainer\\connectors\\data_connector.py:441: The 'train_dataloader' does not have many workers which may be a bottleneck. Consider increasing the value of the `num_workers` argument` to `num_workers=7` in the `DataLoader` to improve performance.\n",
      "c:\\Users\\fardin\\AppData\\Local\\Programs\\Python\\Python310\\lib\\site-packages\\lightning\\pytorch\\loops\\fit_loop.py:293: The number of training batches (23) is smaller than the logging interval Trainer(log_every_n_steps=2000). Set a lower value for log_every_n_steps if you want to see logs for the training epoch.\n",
      "c:\\Users\\fardin\\AppData\\Local\\Programs\\Python\\Python310\\lib\\site-packages\\lightning\\pytorch\\trainer\\connectors\\data_connector.py:441: The 'val_dataloader' does not have many workers which may be a bottleneck. Consider increasing the value of the `num_workers` argument` to `num_workers=7` in the `DataLoader` to improve performance.\n"
     ]
    },
    {
     "name": "stdout",
     "output_type": "stream",
     "text": [
      "torch.Size([128, 256])\n",
      "torch.Size([128, 256])\n",
      "torch.Size([128, 256])\n",
      "torch.Size([128, 256])\n",
      "torch.Size([128, 256])\n",
      "torch.Size([128, 256])\n",
      "torch.Size([128, 256])\n",
      "torch.Size([104, 256])\n"
     ]
    },
    {
     "data": {
      "application/vnd.jupyter.widget-view+json": {
       "model_id": "9d3bec8f448c4f54b4086b1e85f4038d",
       "version_major": 2,
       "version_minor": 0
      },
      "text/plain": [
       "Finding best initial lr:   0%|          | 0/100 [00:00<?, ?it/s]"
      ]
     },
     "metadata": {},
     "output_type": "display_data"
    },
    {
     "name": "stdout",
     "output_type": "stream",
     "text": [
      "torch.Size([128, 256])\n",
      "torch.Size([128, 256])\n",
      "torch.Size([128, 256])\n",
      "torch.Size([128, 256])\n",
      "torch.Size([128, 256])\n",
      "torch.Size([128, 256])\n",
      "torch.Size([128, 256])\n",
      "torch.Size([128, 256])\n",
      "torch.Size([128, 256])\n",
      "torch.Size([128, 256])\n",
      "torch.Size([128, 256])\n",
      "torch.Size([128, 256])\n",
      "torch.Size([128, 256])\n",
      "torch.Size([128, 256])\n",
      "torch.Size([128, 256])\n",
      "torch.Size([128, 256])\n",
      "torch.Size([128, 256])\n",
      "torch.Size([128, 256])\n",
      "torch.Size([128, 256])\n",
      "torch.Size([128, 256])\n",
      "torch.Size([128, 256])\n",
      "torch.Size([128, 256])\n",
      "torch.Size([128, 256])\n",
      "torch.Size([128, 256])\n",
      "torch.Size([128, 256])\n",
      "torch.Size([128, 256])\n",
      "torch.Size([128, 256])\n",
      "torch.Size([128, 256])\n",
      "torch.Size([128, 256])\n",
      "torch.Size([128, 256])\n",
      "torch.Size([104, 256])\n",
      "torch.Size([128, 256])\n",
      "torch.Size([128, 256])\n",
      "torch.Size([128, 256])\n",
      "torch.Size([128, 256])\n",
      "torch.Size([128, 256])\n",
      "torch.Size([128, 256])\n",
      "torch.Size([128, 256])\n",
      "torch.Size([128, 256])\n",
      "torch.Size([128, 256])\n",
      "torch.Size([128, 256])\n",
      "torch.Size([128, 256])\n",
      "torch.Size([128, 256])\n",
      "torch.Size([128, 256])\n",
      "torch.Size([128, 256])\n",
      "torch.Size([128, 256])\n",
      "torch.Size([128, 256])\n",
      "torch.Size([128, 256])\n",
      "torch.Size([128, 256])\n",
      "torch.Size([128, 256])\n",
      "torch.Size([128, 256])\n",
      "torch.Size([128, 256])\n",
      "torch.Size([128, 256])\n",
      "torch.Size([128, 256])\n",
      "torch.Size([128, 256])\n",
      "torch.Size([128, 256])\n",
      "torch.Size([128, 256])\n",
      "torch.Size([128, 256])\n",
      "torch.Size([128, 256])\n",
      "torch.Size([128, 256])\n",
      "torch.Size([128, 256])\n",
      "torch.Size([104, 256])\n",
      "torch.Size([128, 256])\n",
      "torch.Size([128, 256])\n",
      "torch.Size([128, 256])\n",
      "torch.Size([128, 256])\n",
      "torch.Size([128, 256])\n",
      "torch.Size([128, 256])\n",
      "torch.Size([128, 256])\n",
      "torch.Size([128, 256])\n",
      "torch.Size([128, 256])\n",
      "torch.Size([128, 256])\n",
      "torch.Size([128, 256])\n",
      "torch.Size([128, 256])\n",
      "torch.Size([128, 256])\n",
      "torch.Size([128, 256])\n",
      "torch.Size([128, 256])\n",
      "torch.Size([128, 256])\n",
      "torch.Size([128, 256])\n",
      "torch.Size([128, 256])\n",
      "torch.Size([128, 256])\n",
      "torch.Size([128, 256])\n",
      "torch.Size([128, 256])\n",
      "torch.Size([128, 256])\n",
      "torch.Size([128, 256])\n",
      "torch.Size([128, 256])\n",
      "torch.Size([128, 256])\n",
      "torch.Size([128, 256])\n",
      "torch.Size([128, 256])\n",
      "torch.Size([128, 256])\n",
      "torch.Size([128, 256])\n",
      "torch.Size([128, 256])\n",
      "torch.Size([104, 256])\n",
      "torch.Size([128, 256])\n",
      "torch.Size([128, 256])\n",
      "torch.Size([128, 256])\n",
      "torch.Size([128, 256])\n",
      "torch.Size([128, 256])\n",
      "torch.Size([128, 256])\n",
      "torch.Size([128, 256])\n",
      "torch.Size([128, 256])\n",
      "torch.Size([128, 256])\n",
      "torch.Size([128, 256])\n",
      "torch.Size([128, 256])\n",
      "torch.Size([128, 256])\n",
      "torch.Size([128, 256])\n",
      "torch.Size([128, 256])\n",
      "torch.Size([128, 256])\n",
      "torch.Size([128, 256])\n",
      "torch.Size([128, 256])\n",
      "torch.Size([128, 256])\n",
      "torch.Size([128, 256])\n",
      "torch.Size([128, 256])\n",
      "torch.Size([128, 256])\n",
      "torch.Size([128, 256])\n",
      "torch.Size([128, 256])\n",
      "torch.Size([128, 256])\n",
      "torch.Size([128, 256])\n",
      "torch.Size([128, 256])\n",
      "torch.Size([128, 256])\n",
      "torch.Size([128, 256])\n",
      "torch.Size([128, 256])\n",
      "torch.Size([128, 256])\n",
      "torch.Size([104, 256])\n",
      "torch.Size([128, 256])\n",
      "torch.Size([128, 256])\n",
      "torch.Size([128, 256])\n",
      "torch.Size([128, 256])\n",
      "torch.Size([128, 256])\n",
      "torch.Size([128, 256])\n",
      "torch.Size([128, 256])\n"
     ]
    },
    {
     "name": "stderr",
     "output_type": "stream",
     "text": [
      "`Trainer.fit` stopped: `max_steps=100` reached.\n",
      "Learning rate set to 0.0017378008287493754\n",
      "Restoring states from the checkpoint path at c:\\Users\\fardin\\Projects\\ColorIntelligence\\.lr_find_c851232a-8d8a-422c-b8bd-d0777d270665.ckpt\n",
      "Restored all states from the checkpoint at c:\\Users\\fardin\\Projects\\ColorIntelligence\\.lr_find_c851232a-8d8a-422c-b8bd-d0777d270665.ckpt\n"
     ]
    },
    {
     "name": "stdout",
     "output_type": "stream",
     "text": [
      "torch.Size([128, 256])\n"
     ]
    }
   ],
   "source": [
    "tuner = Tuner(trainer)\n",
    "lr_result = tuner.lr_find(lightning_model, datamodule=data_manager, min_lr=1e-3, max_lr=1e-1)"
   ]
  },
  {
   "cell_type": "code",
   "execution_count": 139,
   "metadata": {},
   "outputs": [
    {
     "data": {
      "text/plain": [
       "0.0017378008287493754"
      ]
     },
     "execution_count": 139,
     "metadata": {},
     "output_type": "execute_result"
    }
   ],
   "source": [
    "lr_result.suggestion()"
   ]
  },
  {
   "cell_type": "code",
   "execution_count": 135,
   "metadata": {},
   "outputs": [
    {
     "name": "stderr",
     "output_type": "stream",
     "text": [
      "C:\\Users\\fardin\\AppData\\Local\\Temp\\ipykernel_10588\\2893718476.py:2: UserWarning: Matplotlib is currently using module://matplotlib_inline.backend_inline, which is a non-GUI backend, so cannot show the figure.\n",
      "  fig.show()\n"
     ]
    },
    {
     "data": {
      "image/png": "[encoded data removed]",
      "text/plain": [
       "<Figure size 640x480 with 1 Axes>"
      ]
     },
     "metadata": {},
     "output_type": "display_data"
    }
   ],
   "source": [
    "fig = lr_result.plot(suggest=True)\n",
    "fig.show()"
   ]
  },
  {
   "cell_type": "code",
   "execution_count": 142,
   "metadata": {},
   "outputs": [],
   "source": [
    "torch_model = GcnGatModel1(300, 1, 256, 0.4).to(device)\n",
    "lightning_model = BinaryLightningModel(torch_model,\n",
    "                                       torch.optim.Adam(torch_model.parameters(), lr=0.001737, weight_decay=0.00055),\n",
    "                                       torch.nn.BCEWithLogitsLoss(),\n",
    "                                       learning_rate=0.001737,\n",
    "                                       batch_size=batch_size,\n",
    "                                       ).to(device)"
   ]
  },
  {
   "cell_type": "code",
   "execution_count": 143,
   "metadata": {},
   "outputs": [
    {
     "name": "stderr",
     "output_type": "stream",
     "text": [
      "GPU available: True (cuda), used: True\n",
      "TPU available: False, using: 0 TPU cores\n",
      "IPU available: False, using: 0 IPUs\n",
      "HPU available: False, using: 0 HPUs\n"
     ]
    }
   ],
   "source": [
    "trainer = L.Trainer(\n",
    "            max_epochs=1000,\n",
    "            accelerator='gpu',\n",
    "            num_sanity_val_steps=0,\n",
    "            log_every_n_steps=2000,\n",
    "            logger=CSVLogger(save_dir='logs/', name='DepTag2')\n",
    "            )"
   ]
  },
  {
   "cell_type": "code",
   "execution_count": 144,
   "metadata": {},
   "outputs": [
    {
     "name": "stderr",
     "output_type": "stream",
     "text": [
      "c:\\Users\\fardin\\AppData\\Local\\Programs\\Python\\Python310\\lib\\site-packages\\lightning\\pytorch\\utilities\\parsing.py:43: attribute 'model' removed from hparams because it cannot be pickled\n",
      "LOCAL_RANK: 0 - CUDA_VISIBLE_DEVICES: [0]\n"
     ]
    },
    {
     "name": "stderr",
     "output_type": "stream",
     "text": [
      "\n",
      "  | Name      | Type              | Params\n",
      "------------------------------------------------\n",
      "0 | model     | GcnGatModel1      | 629 K \n",
      "1 | loss_func | BCEWithLogitsLoss | 0     \n",
      "2 | train_acc | BinaryAccuracy    | 0     \n",
      "3 | val_acc   | BinaryAccuracy    | 0     \n",
      "4 | test_acc  | BinaryAccuracy    | 0     \n",
      "------------------------------------------------\n",
      "629 K     Trainable params\n",
      "0         Non-trainable params\n",
      "629 K     Total params\n",
      "2.516     Total estimated model params size (MB)\n"
     ]
    },
    {
     "name": "stdout",
     "output_type": "stream",
     "text": [
      "bbbb\n",
      "train_fn: <bound method Trainer._fit_impl of <lightning.pytorch.trainer.trainer.Trainer object at 0x000001A5442E5BD0>>\n"
     ]
    },
    {
     "name": "stderr",
     "output_type": "stream",
     "text": [
      "c:\\Users\\fardin\\AppData\\Local\\Programs\\Python\\Python310\\lib\\site-packages\\lightning\\pytorch\\trainer\\connectors\\data_connector.py:441: The 'train_dataloader' does not have many workers which may be a bottleneck. Consider increasing the value of the `num_workers` argument` to `num_workers=7` in the `DataLoader` to improve performance.\n",
      "c:\\Users\\fardin\\AppData\\Local\\Programs\\Python\\Python310\\lib\\site-packages\\lightning\\pytorch\\loops\\fit_loop.py:293: The number of training batches (23) is smaller than the logging interval Trainer(log_every_n_steps=2000). Set a lower value for log_every_n_steps if you want to see logs for the training epoch.\n",
      "c:\\Users\\fardin\\AppData\\Local\\Programs\\Python\\Python310\\lib\\site-packages\\lightning\\pytorch\\trainer\\connectors\\data_connector.py:441: The 'val_dataloader' does not have many workers which may be a bottleneck. Consider increasing the value of the `num_workers` argument` to `num_workers=7` in the `DataLoader` to improve performance.\n"
     ]
    },
    {
     "data": {
      "application/vnd.jupyter.widget-view+json": {
       "model_id": "63e6ff2b9411483594a1eb8834f37b94",
       "version_major": 2,
       "version_minor": 0
      },
      "text/plain": [
       "Training: |          | 0/? [00:00<?, ?it/s]"
      ]
     },
     "metadata": {},
     "output_type": "display_data"
    },
    {
     "data": {
      "application/vnd.jupyter.widget-view+json": {
       "model_id": "19150e4b409944a29f563d473bea0442",
       "version_major": 2,
       "version_minor": 0
      },
      "text/plain": [
       "Validation: |          | 0/? [00:00<?, ?it/s]"
      ]
     },
     "metadata": {},
     "output_type": "display_data"
    },
    {
     "data": {
      "application/vnd.jupyter.widget-view+json": {
       "model_id": "4a02faebac8b4e9480ad87a9f4626e54",
       "version_major": 2,
       "version_minor": 0
      },
      "text/plain": [
       "Validation: |          | 0/? [00:00<?, ?it/s]"
      ]
     },
     "metadata": {},
     "output_type": "display_data"
    },
    {
     "data": {
      "application/vnd.jupyter.widget-view+json": {
       "model_id": "082d247f71464dce9c02708aca5c8969",
       "version_major": 2,
       "version_minor": 0
      },
      "text/plain": [
       "Validation: |          | 0/? [00:00<?, ?it/s]"
      ]
     },
     "metadata": {},
     "output_type": "display_data"
    },
    {
     "data": {
      "application/vnd.jupyter.widget-view+json": {
       "model_id": "a2036a37d4b849fdadd7cebf67e8b1b4",
       "version_major": 2,
       "version_minor": 0
      },
      "text/plain": [
       "Validation: |          | 0/? [00:00<?, ?it/s]"
      ]
     },
     "metadata": {},
     "output_type": "display_data"
    },
    {
     "data": {
      "application/vnd.jupyter.widget-view+json": {
       "model_id": "500568ce37e9404483c0decbdc62e76c",
       "version_major": 2,
       "version_minor": 0
      },
      "text/plain": [
       "Validation: |          | 0/? [00:00<?, ?it/s]"
      ]
     },
     "metadata": {},
     "output_type": "display_data"
    },
    {
     "data": {
      "application/vnd.jupyter.widget-view+json": {
       "model_id": "82fb9d3a2e7c47b3b60406dce04722c0",
       "version_major": 2,
       "version_minor": 0
      },
      "text/plain": [
       "Validation: |          | 0/? [00:00<?, ?it/s]"
      ]
     },
     "metadata": {},
     "output_type": "display_data"
    },
    {
     "data": {
      "application/vnd.jupyter.widget-view+json": {
       "model_id": "b62447f2455043f09af8c1451209fb57",
       "version_major": 2,
       "version_minor": 0
      },
      "text/plain": [
       "Validation: |          | 0/? [00:00<?, ?it/s]"
      ]
     },
     "metadata": {},
     "output_type": "display_data"
    },
    {
     "data": {
      "application/vnd.jupyter.widget-view+json": {
       "model_id": "4d6bbcb71d3c4e4b93c19eb3a8e2f362",
       "version_major": 2,
       "version_minor": 0
      },
      "text/plain": [
       "Validation: |          | 0/? [00:00<?, ?it/s]"
      ]
     },
     "metadata": {},
     "output_type": "display_data"
    },
    {
     "data": {
      "application/vnd.jupyter.widget-view+json": {
       "model_id": "e7579aa5634d4fe5b84226be60613661",
       "version_major": 2,
       "version_minor": 0
      },
      "text/plain": [
       "Validation: |          | 0/? [00:00<?, ?it/s]"
      ]
     },
     "metadata": {},
     "output_type": "display_data"
    },
    {
     "data": {
      "application/vnd.jupyter.widget-view+json": {
       "model_id": "8e0f7e4e27cb4d07b362197dfd88b5de",
       "version_major": 2,
       "version_minor": 0
      },
      "text/plain": [
       "Validation: |          | 0/? [00:00<?, ?it/s]"
      ]
     },
     "metadata": {},
     "output_type": "display_data"
    },
    {
     "data": {
      "application/vnd.jupyter.widget-view+json": {
       "model_id": "99a2b97b2b2b4ec1ab587ef63b1fe057",
       "version_major": 2,
       "version_minor": 0
      },
      "text/plain": [
       "Validation: |          | 0/? [00:00<?, ?it/s]"
      ]
     },
     "metadata": {},
     "output_type": "display_data"
    },
    {
     "name": "stderr",
     "output_type": "stream",
     "text": [
      "c:\\Users\\fardin\\AppData\\Local\\Programs\\Python\\Python310\\lib\\site-packages\\lightning\\pytorch\\trainer\\call.py:61: Detected KeyboardInterrupt, attempting graceful shutdown...\n"
     ]
    }
   ],
   "source": [
    "trainer.fit(model=lightning_model, datamodule=data_manager)"
   ]
  },
  {
   "cell_type": "code",
   "execution_count": null,
   "metadata": {},
   "outputs": [],
   "source": [
    "# import torch\n",
    "# from torch.nn import Linear\n",
    "# from torch_geometric.nn import GATv2Conv, GCNConv, GCN2Conv, DenseGCNConv, dense_diff_pool, BatchNorm\n",
    "# from torch_geometric.nn import Sequential as GSequential\n",
    "# from torch_geometric.utils import to_dense_adj\n",
    "# from torch import nn\n",
    "\n",
    "# class DepTagModel1(nn.Module):\n",
    "#     r\"\"\"\n",
    "#     This class is for graph level classification or graph level regression\n",
    "#     \"\"\"\n",
    "\n",
    "#     def __init__(self, input_feature: int, out_features: int, base_hidden_feature: int=256, dropout=0.1, *args, **kwargs):\n",
    "#         super(DepTagModel1, self).__init__(*args, **kwargs)\n",
    "#         self.input_features = input_feature\n",
    "#         self.num_out_features = out_features\n",
    "#         self.bsh: int = base_hidden_feature\n",
    "#         bsh2: int = int(self.bsh/2)\n",
    "#         bsh4: int = int(self.bsh/4)\n",
    "#         bsh8: int = int(self.bsh/8)\n",
    "        \n",
    "#         self.composition_layer = GSequential('x_text, edge_index_text, edge_weights_text, x_tag, edge_index_tag, edge_weights_tag, x_dep, edge_index_dep, edge_weights_dep', [\n",
    "#             (GCNConv(input_feature, self.bsh), 'x_text, edge_index_text, edge_weights_text ->x1'),\n",
    "#             (BatchNorm(self.bsh), 'x1->x1'),\n",
    "#             (nn.ReLU(), 'x1->x1'),\n",
    "#             (GCNConv(input_feature, self.bsh), 'x_tag, edge_index_tag, edge_weights_tag ->x2'),\n",
    "#             (BatchNorm(self.bsh), 'x2->x2'),\n",
    "#             (nn.ReLU(), 'x2->x2'),\n",
    "#             (GCNConv(input_feature, self.bsh), 'x_tag, edge_index_tag, edge_weights_tag ->x3'),\n",
    "#             (BatchNorm(self.bsh), 'x3->x3'),\n",
    "#             (nn.ReLU(), 'x3->x3'),\n",
    "#             ()\n",
    "#         ])\n",
    "        \n",
    "#         self.encoder = GSequential('x, edge_index, edge_weights', [\n",
    "#             (GCNConv(input_feature, self.bsh), 'x, edge_index, edge_weights ->x1'),\n",
    "#             (BatchNorm(self.bsh), 'x1->x1'),\n",
    "#             (nn.ReLU(), 'x1->x1'),\n",
    "#             (nn.Dropout(dropout), 'x1->x1'),\n",
    "#             (GCNConv(self.bsh, self.bsh), 'x1, edge_index, edge_weights ->x1'),\n",
    "#             (BatchNorm(self.bsh), 'x1->x1'),\n",
    "#             (nn.ReLU(), 'x1->x1'),\n",
    "#             (nn.Dropout(dropout), 'x1->x1'),\n",
    "#             (GCNConv(self.bsh, self.bsh), 'x1, edge_index, edge_weights ->x1'),\n",
    "#             (BatchNorm(self.bsh), 'x1->x1'),\n",
    "#             (nn.ReLU(), 'x1->x1'),\n",
    "#             (nn.Dropout(dropout), 'x1->x1'),\n",
    "            \n",
    "#             (GCNConv(self.bsh, bsh2), 'x1, edge_index, edge_weights -> x2'),\n",
    "#             (BatchNorm(bsh2), 'x2->x2'),\n",
    "#             (nn.ReLU(), 'x2->x2'),\n",
    "#             (nn.Dropout(dropout), 'x2->x2'),\n",
    "#             (GCNConv(bsh2, bsh2), 'x2, edge_index, edge_weights -> x2'),\n",
    "#             (BatchNorm(bsh2), 'x2->x2'),\n",
    "#             (nn.ReLU(), 'x2->x2'),\n",
    "#             (nn.Dropout(dropout), 'x2->x2'),\n",
    "#             (GCNConv(bsh2, bsh2), 'x2, edge_index, edge_weights -> x2'),\n",
    "#             (BatchNorm(bsh2), 'x2->x2'),\n",
    "#             (nn.ReLU(), 'x2->x2'),\n",
    "#             (nn.Dropout(dropout), 'x2->x2'),\n",
    "            \n",
    "#             (GCNConv(bsh2, bsh4), 'x2, edge_index, edge_weights -> x3'),\n",
    "#             (BatchNorm(bsh4), 'x3->x3'),\n",
    "#             (nn.ReLU(), 'x3->x3'),\n",
    "#             (nn.Dropout(dropout), 'x3->x3'),\n",
    "#             (GCNConv(bsh4, bsh4), 'x3, edge_index, edge_weights -> x3'),\n",
    "#             (BatchNorm(bsh4), 'x3->x3'),\n",
    "#             (nn.ReLU(), 'x3->x3'),\n",
    "#             (nn.Dropout(dropout), 'x3->x3'),\n",
    "#             (GCNConv(bsh4, bsh4), 'x3, edge_index, edge_weights -> x3'),\n",
    "#             (BatchNorm(bsh4), 'x3->x3'),\n",
    "#             (nn.ReLU(), 'x3->x3'),\n",
    "#             (nn.Dropout(dropout), 'x3->x3'),\n",
    "            \n",
    "#             (GCNConv(bsh4, bsh8), 'x3, edge_index, edge_weights -> x4'),\n",
    "#             (BatchNorm(bsh8), 'x4->x4'),\n",
    "#             (nn.ReLU(), 'x4->x4'),\n",
    "#             (nn.Dropout(dropout), 'x4->x4'),\n",
    "#             (GCNConv(bsh8, bsh8), 'x4, edge_index, edge_weights -> x4'),\n",
    "#             (BatchNorm(bsh8), 'x4->x4'),\n",
    "#             (nn.ReLU(), 'x4->x4'),\n",
    "#             (nn.Dropout(dropout), 'x4->x4'),\n",
    "#             (GCNConv(bsh8, bsh8), 'x4, edge_index, edge_weights -> x4'),\n",
    "#             (BatchNorm(bsh8), 'x4->x4'),\n",
    "#             (nn.ReLU(), 'x4->x4'),\n",
    "#             (lambda x1, x2, x3, x4: (x1, x2, x3, x4), 'x1, x2, x3, x4 -> x1, x2, x3, x4')\n",
    "#         ])\n",
    "        \n",
    "#         self.attention = GSequential('x3, x4, edge_index, edge_weights', [\n",
    "#             (GATv2Conv(bsh8, bsh8, 2, dropout=dropout), 'x4, edge_index ->x4'),\n",
    "#             (BatchNorm(bsh4), 'x4->x4'),\n",
    "#             (nn.ReLU(), 'x4->x4'),\n",
    "            \n",
    "#             (GCN2Conv(bsh4, 0.5, 0.1, 2), 'x4, x3, edge_index, edge_weights->x3'),\n",
    "#             (BatchNorm(bsh4), 'x3->x3'),\n",
    "#             (nn.ReLU(), 'x3->x3'),\n",
    "#             (GCNConv(bsh4, bsh4), 'x3, edge_index, edge_weights -> x3'),\n",
    "#             (BatchNorm(bsh4), 'x3->x3'),\n",
    "#             (nn.ReLU(), 'x3->x3'),\n",
    "            \n",
    "#             (GATv2Conv(bsh4, bsh4, 2, dropout=dropout), 'x3, edge_index ->x3'),\n",
    "#             (BatchNorm(bsh2), 'x3->x3'),\n",
    "#             (nn.ReLU(), 'x3->x3'),\n",
    "#             (lambda x3, x4: (x3, x4), 'x3, x4 -> x3, x4')\n",
    "#         ])\n",
    "        \n",
    "#         self.decoder = GSequential('x1, x2, x3, edge_index, edge_weights', [\n",
    "            \n",
    "#             (GCN2Conv(bsh2, 0.5, 0.1, 2), 'x3, x2, edge_index, edge_weights->x2'),\n",
    "#             (BatchNorm(bsh2), 'x2->x2'),\n",
    "#             (nn.ReLU(), 'x2->x2'),\n",
    "#             (nn.Dropout(dropout), 'x2->x2'),\n",
    "#             (GCNConv(bsh2, bsh2), 'x2, edge_index, edge_weights -> x2'),\n",
    "#             (BatchNorm(bsh2), 'x2->x2'),\n",
    "#             (nn.ReLU(), 'x2->x2'),\n",
    "#             (nn.Dropout(dropout), 'x2->x2'),\n",
    "#             (GCNConv(bsh2, self.bsh), 'x2, edge_index->x2'),\n",
    "#             (BatchNorm(self.bsh), 'x2->x2'),\n",
    "#             (nn.ReLU(), 'x2->x2'),\n",
    "#             (nn.Dropout(dropout), 'x2->x2'),\n",
    "            \n",
    "#             (GCN2Conv(self.bsh, 0.5, 0.1, 2), 'x2, x1, edge_index, edge_weights->x1'),\n",
    "#             (BatchNorm(self.bsh), 'x1->x1'),\n",
    "#             (nn.ReLU(), 'x1->x1'),\n",
    "#             (nn.Dropout(dropout), 'x1->x1'),\n",
    "#             (GCNConv(self.bsh, self.bsh), 'x1, edge_index, edge_weights ->x1'),\n",
    "#             (BatchNorm(self.bsh), 'x1->x1'),\n",
    "#             (nn.ReLU(), 'x1->x1'),\n",
    "#             (nn.Dropout(dropout), 'x1->x1'),\n",
    "#             (GCNConv(self.bsh, self.bsh), 'x1, edge_index, edge_weights ->x1'),\n",
    "#             (BatchNorm(self.bsh), 'x1->x1'),\n",
    "#             (nn.ReLU(), 'x1->x1'),\n",
    "#             (nn.Dropout(dropout), 'x1->x1'),\n",
    "#             (lambda x1, x2, x3: (x1, x2, x3), 'x1, x2, x3 -> x, x2, x3')\n",
    "#         ])\n",
    "\n",
    "#         self.pooling_layer1 = GCNConv(self.bsh, 5)\n",
    "#         self.pooling_layer2 = DenseGCNConv(self.bsh, 1)\n",
    "#         self.output_layer = Linear(self.bsh, self.num_out_features)\n",
    "\n",
    "#     def forward(self, x):\n",
    "#         x1, x2, x3, x_enc = self.encoder(x.x, x.edge_index, x.edge_attr)\n",
    "#         x_att, x4 = self.attention(x3, x_enc, x.edge_index, x.edge_attr)\n",
    "#         x_dec, x2, x3 = self.decoder(x1, x2, x_att, x.edge_index, x.edge_attr)\n",
    "        \n",
    "#         all_s = self.pooling_layer1(x_dec, x.edge_index, x.edge_attr)\n",
    "#         ci = torch.tensor([x[i].x.shape[0] for i in range(len(x))], dtype=torch.int, device=x_dec.device).cumsum(0, dtype=torch.int)\n",
    "#         x_list = [x_dec[0 if i == 0 else ci[i - 1]:ci[i]] for i in range(len(ci))]\n",
    "#         s_i = [all_s[0 if i == 0 else ci[i - 1]:ci[i]] for i in range(len(ci))]\n",
    "#         x_pooled = torch.zeros((len(x_list), self.bsh), dtype=x_dec.dtype, device=x_dec.device)\n",
    "        \n",
    "#         for i in range(len(ci)):\n",
    "#             s = s_i[i]# self.pooling_layer1(x2[i], x[i].edge_index, x[i].edge_attr)\n",
    "#             adj = torch.zeros((x[i].x.shape[0], x[i].x.shape[0]), device=x_dec.device)\n",
    "#             adj[x[i].edge_index[0],x[i].edge_index[1]] = x[i].edge_attr\n",
    "#             # adj = to_dense_adj(edge_index=x[i].edge_index, max_num_nodes=x[i].x.shape[0], edge_attr=x[i].edge_attr)\n",
    "#             nodes, adj, _, _ = dense_diff_pool(x_list[i], adj, s=s)\n",
    "#             s = self.pooling_layer2(nodes, adj)\n",
    "#             nodes, _, _, _ = dense_diff_pool(nodes, adj, s=s)\n",
    "#             x_pooled[i] = torch.squeeze(nodes)\n",
    "\n",
    "#         # return x1\n",
    "#         return self.output_layer(x_pooled)"
   ]
  },
  {
   "cell_type": "code",
   "execution_count": null,
   "metadata": {},
   "outputs": [],
   "source": [
    "# torch_model = DepTagModel1(300, 1, 1024, dropout=0.2)\n",
    "# torch_model = torch_model.to(device)\n",
    "# next(iter(torch_model.parameters())).device\n",
    "# t_dataloader = data_manager.train_dataloader()\n",
    "# v_dataloader = data_manager.val_dataloader()\n",
    "# print(next(iter(torch_model.parameters())).device)"
   ]
  },
  {
   "cell_type": "code",
   "execution_count": 95,
   "metadata": {},
   "outputs": [],
   "source": [
    "import matplotlib.pyplot as plt\n",
    "'''From torch lightning tutorials'''\n",
    "def plot_csv_logger(csv_path, loss_names=['train_loss', 'val_loss'], eval_names=['train_acc', 'val_acc']):\n",
    "    metrics = pd.read_csv(csv_path)\n",
    "    \n",
    "    aggregation_metrics = []\n",
    "    agg_col = 'epoch'\n",
    "    for i, dfg in metrics.groupby(agg_col):\n",
    "        agg = dict(dfg.mean())\n",
    "        agg[agg_col] = i\n",
    "        aggregation_metrics.append(agg)\n",
    "    \n",
    "    df_metrics = pd.DataFrame(aggregation_metrics)\n",
    "    df_metrics[loss_names].plot(grid=True, legend=True, xlabel='Epoch', ylabel='loss')\n",
    "    df_metrics[eval_names].plot(grid=True, legend=True, xlabel='Epoch', ylabel='accuracy')\n",
    "    plt.show()\n",
    "    "
   ]
  },
  {
   "cell_type": "code",
   "execution_count": 96,
   "metadata": {},
   "outputs": [
    {
     "data": {
      "image/png": "[encoded data removed]",
      "text/plain": [
       "<Figure size 640x480 with 1 Axes>"
      ]
     },
     "metadata": {},
     "output_type": "display_data"
    },
    {
     "data": {
      "image/png": "[encoded data removed]",
      "text/plain": [
       "<Figure size 640x480 with 1 Axes>"
      ]
     },
     "metadata": {},
     "output_type": "display_data"
    }
   ],
   "source": [
    "plot_csv_logger(r'C:\\Users\\fardin\\Projects\\ColorIntelligence\\logs\\DepTag2\\version_10\\metrics.csv')"
   ]
  },
  {
   "cell_type": "code",
   "execution_count": null,
   "metadata": {},
   "outputs": [],
   "source": [
    "# X1, y1 = next(iter(t_dataloader))\n",
    "# X2, y2 = next(iter(v_dataloader))\n",
    "# print(X1[0].x.device)\n",
    "# print(X2[0].x.device)\n",
    "# print(\"torch.cuda.memory_allocated: %fGB\"%(torch.cuda.memory_allocated(0)/1024/1024/1024))\n",
    "# print(\"torch.cuda.memory_reserved: %fGB\"%(torch.cuda.memory_reserved(0)/1024/1024/1024))\n",
    "# print(\"torch.cuda.max_memory_reserved: %fGB\"%(torch.cuda.max_memory_reserved(0)/1024/1024/1024))"
   ]
  },
  {
   "cell_type": "code",
   "execution_count": null,
   "metadata": {},
   "outputs": [],
   "source": [
    "# import time\n",
    "# def train_model(target_model, num_epoch = 2, target_device='cpu'):\n",
    "#     target_model = target_model.to(target_device)\n",
    "#     loss_func = torch.nn.BCEWithLogitsLoss()\n",
    "#     optimizer = torch.optim.Adam(target_model.parameters(), 0.001, weight_decay=0.0055)\n",
    "#     for i in range(num_epoch):\n",
    "        \n",
    "#         batch_acc=[]\n",
    "#         batch_loss = []\n",
    "#         begin = time.time()\n",
    "#         target_model.train()\n",
    "#         i = 0\n",
    "#         for X,y in t_dataloader:\n",
    "#             print(f'i: {i}')\n",
    "#             i = i + 1\n",
    "#             X = X.to(target_device)\n",
    "#             y = y.to(target_device)\n",
    "#             optimizer.zero_grad()\n",
    "#             predicted = target_model(X)\n",
    "#             loss = loss_func(predicted, y)\n",
    "#             loss.backward()\n",
    "#             optimizer.step()\n",
    "#             predicted = torch.nn.functional.sigmoid(predicted)\n",
    "#             predicted[predicted<0.5] = 0\n",
    "#             predicted[predicted>=0.5] = 1\n",
    "#             accuracy = torch.mean((predicted == y).to(torch.float32)).detach().item()\n",
    "#             batch_acc.append(accuracy)\n",
    "#             batch_loss.append(loss.item())\n",
    "#             torch.cuda.empty_cache()\n",
    "#         print(f'train accuracy: {np.mean(batch_acc)}, loss: {np.mean(batch_loss)}, duration: {time.time() - begin:0.4f}')\n",
    "        \n",
    "#         target_model.eval()\n",
    "#         batch_acc=[]\n",
    "#         batch_loss = []\n",
    "#         i = 0\n",
    "#         for X,y in v_dataloader:\n",
    "#             print(f'i: {i}')\n",
    "#             i = i + 1\n",
    "#             X = X.to(target_device)\n",
    "#             y = y.to(target_device)\n",
    "#             with torch.inference_mode():\n",
    "#                 predicted = target_model(X)\n",
    "#                 loss = loss_func(predicted, y)\n",
    "#             predicted = torch.nn.functional.sigmoid(predicted)\n",
    "#             predicted[predicted<0.5] = 0\n",
    "#             predicted[predicted>=0.5] = 1\n",
    "#             accuracy = torch.mean((predicted == y).to(torch.float32)).detach().item()\n",
    "#             batch_acc.append(accuracy)\n",
    "#             batch_loss.append(loss.item())\n",
    "#             torch.cuda.empty_cache()\n",
    "#         print(f'validation accuracy: {np.mean(batch_acc)}, loss: {np.mean(batch_loss)}, duration: {time.time() - begin:0.4f}')"
   ]
  },
  {
   "cell_type": "code",
   "execution_count": null,
   "metadata": {},
   "outputs": [],
   "source": [
    "# train_model(torch_model, 5, 'cpu')"
   ]
  },
  {
   "cell_type": "code",
   "execution_count": null,
   "metadata": {},
   "outputs": [],
   "source": [
    "# train_model(torch_model, 5, 'cuda')"
   ]
  }
 ],
 "metadata": {
  "kernelspec": {
   "display_name": "Python 3",
   "language": "python",
   "name": "python3"
  },
  "language_info": {
   "codemirror_mode": {
    "name": "ipython",
    "version": 3
   },
   "file_extension": ".py",
   "mimetype": "text/x-python",
   "name": "python",
   "nbconvert_exporter": "python",
   "pygments_lexer": "ipython3",
   "version": "3.10.11"
  }
 },
 "nbformat": 4,
 "nbformat_minor": 2
}
