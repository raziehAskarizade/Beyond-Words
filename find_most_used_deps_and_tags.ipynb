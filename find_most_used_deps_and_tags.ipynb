{
 "cells": [
  {
   "cell_type": "code",
   "execution_count": 1,
   "metadata": {},
   "outputs": [
    {
     "name": "stderr",
     "output_type": "stream",
     "text": [
      "c:\\Users\\razieh\\AppData\\Local\\Programs\\Python\\Python312\\Lib\\site-packages\\tqdm\\auto.py:21: TqdmWarning: IProgress not found. Please update jupyter and ipywidgets. See https://ipywidgets.readthedocs.io/en/stable/user_install.html\n",
      "  from .autonotebook import tqdm as notebook_tqdm\n",
      "c:\\Users\\razieh\\AppData\\Local\\Programs\\Python\\Python312\\Lib\\site-packages\\transformers\\utils\\generic.py:441: UserWarning: torch.utils._pytree._register_pytree_node is deprecated. Please use torch.utils._pytree.register_pytree_node instead.\n",
      "  _torch_pytree._register_pytree_node(\n"
     ]
    }
   ],
   "source": [
    "import pandas as pd\n",
    "import stanza\n",
    "import torch\n",
    "import numpy as np\n",
    "from stanza.pipeline.core import DownloadMethod"
   ]
  },
  {
   "cell_type": "code",
   "execution_count": 2,
   "metadata": {},
   "outputs": [
    {
     "name": "stderr",
     "output_type": "stream",
     "text": [
      "2024-08-30 18:01:16 WARNING: Language fa package default expects mwt, which has been added\n"
     ]
    },
    {
     "name": "stderr",
     "output_type": "stream",
     "text": [
      "2024-08-30 18:01:17 INFO: Loading these models for language: fa (Persian):\n",
      "==============================\n",
      "| Processor | Package        |\n",
      "------------------------------\n",
      "| tokenize  | perdt          |\n",
      "| mwt       | perdt          |\n",
      "| pos       | perdt_charlm   |\n",
      "| lemma     | perdt_nocharlm |\n",
      "| depparse  | perdt_charlm   |\n",
      "==============================\n",
      "\n",
      "2024-08-30 18:01:17 INFO: Using device: cpu\n",
      "2024-08-30 18:01:17 INFO: Loading: tokenize\n",
      "2024-08-30 18:01:19 INFO: Loading: mwt\n",
      "2024-08-30 18:01:19 INFO: Loading: pos\n",
      "2024-08-30 18:01:19 INFO: Loading: lemma\n",
      "2024-08-30 18:01:19 INFO: Loading: depparse\n",
      "2024-08-30 18:01:20 INFO: Done loading processors!\n"
     ]
    }
   ],
   "source": [
    "\n",
    "token_lemma = stanza.Pipeline(\"fa\", download_method=DownloadMethod.REUSE_RESOURCES, processors=[\"tokenize\", \"lemma\", \"pos\", \"depparse\"])"
   ]
  },
  {
   "cell_type": "code",
   "execution_count": 3,
   "metadata": {},
   "outputs": [],
   "source": [
    "dependencies = ['acl', 'acl:relcl', 'advcl', 'advcl:relcl', 'advmod', 'advmod:emph', 'advmod:lmod', 'amod', 'appos', 'aux', 'aux:pass', 'case', 'cc', 'cc:preconj', 'ccomp', 'clf', 'compound', 'compound:lvc', 'compound:prt', 'compound:redup', 'compound:svc', 'conj', 'cop', 'csubj', 'csubj:outer', 'csubj:pass', 'dep', 'det', 'det:numgov', 'det:nummod', 'det:poss', 'discourse', 'dislocated', 'expl', 'expl:impers', 'expl:pass', 'expl:pv', 'fixed', 'flat', 'flat:foreign', 'flat:name', 'goeswith', 'iobj', 'list', 'mark', 'nmod', 'nmod:poss', 'nmod:tmod', 'nsubj', 'nsubj:outer', 'nsubj:pass', 'nummod', 'nummod:gov', 'obj', 'obl', 'obl:agent', 'obl:arg', 'obl:lmod', 'obl:tmod', 'orphan', 'parataxis', 'punct', 'reparandum', 'root', 'vocative', 'xcomp']\n",
    "\n",
    "dep_idx = {d:idx for idx, d in enumerate(dependencies)}\n",
    "idx_dep = {idx:d for idx, d in enumerate(dependencies)}\n",
    "dep_range = torch.arange(0, len(dependencies))"
   ]
  },
  {
   "cell_type": "code",
   "execution_count": 4,
   "metadata": {},
   "outputs": [],
   "source": [
    "df = pd.read_csv(r\"data\\DigiKala\\train_sm.csv\", header=None)\n",
    "token_list = token_lemma(df[0].values[2])"
   ]
  },
  {
   "cell_type": "code",
   "execution_count": 5,
   "metadata": {},
   "outputs": [],
   "source": [
    "doc_sentences = []\n",
    "doc = []\n",
    "for text in df[0].values:\n",
    "    token_list = token_lemma(text)\n",
    "    for idx, sentence in enumerate(token_list.sentences):\n",
    "        doc_sentences.append((sentence.text, sentence.tokens[0].text, idx))\n",
    "        for word in sentence.words:\n",
    "            doc.append((idx, word.text, word.lemma,\n",
    "                        word.upos, word.head, word.deprel))"
   ]
  },
  {
   "cell_type": "code",
   "execution_count": 6,
   "metadata": {},
   "outputs": [
    {
     "data": {
      "text/plain": [
       "0    \n",
       "NOUN     48824\n",
       "ADJ      16924\n",
       "VERB     16902\n",
       "ADP      15732\n",
       "ADV       8189\n",
       "CCONJ     7433\n",
       "PRON      5415\n",
       "SCONJ     4007\n",
       "PROPN     3940\n",
       "DET       3613\n",
       "AUX       2997\n",
       "NUM       2817\n",
       "INTJ       277\n",
       "PART        37\n",
       "X           21\n",
       "PUNCT       14\n",
       "Name: count, dtype: int64"
      ]
     },
     "execution_count": 6,
     "metadata": {},
     "output_type": "execute_result"
    }
   ],
   "source": [
    "pd.DataFrame(np.array([doc[i][3] for i in range(len(doc))])).value_counts()"
   ]
  },
  {
   "cell_type": "code",
   "execution_count": 7,
   "metadata": {},
   "outputs": [
    {
     "data": {
      "text/plain": [
       "0           \n",
       "nmod            19096\n",
       "case            15496\n",
       "conj            13067\n",
       "advmod           9621\n",
       "obl              9227\n",
       "amod             8580\n",
       "nsubj            8385\n",
       "cc               7171\n",
       "compound:lvc     5973\n",
       "obj              5899\n",
       "xcomp            4143\n",
       "obl:arg          4077\n",
       "det              3649\n",
       "mark             3416\n",
       "acl              2892\n",
       "nummod           2817\n",
       "ccomp            2764\n",
       "root             2611\n",
       "advcl            1870\n",
       "cop              1595\n",
       "dep              1547\n",
       "flat:name        1294\n",
       "aux              1163\n",
       "csubj             311\n",
       "appos             142\n",
       "compound           85\n",
       "nsubj:pass         80\n",
       "punct              67\n",
       "flat:num           45\n",
       "fixed              36\n",
       "vocative           16\n",
       "parataxis           7\n",
       "Name: count, dtype: int64"
      ]
     },
     "execution_count": 7,
     "metadata": {},
     "output_type": "execute_result"
    }
   ],
   "source": [
    "pd.DataFrame(np.array([doc[i][5] for i in range(len(doc))])).value_counts()"
   ]
  }
 ],
 "metadata": {
  "kernelspec": {
   "display_name": "Python 3",
   "language": "python",
   "name": "python3"
  },
  "language_info": {
   "codemirror_mode": {
    "name": "ipython",
    "version": 3
   },
   "file_extension": ".py",
   "mimetype": "text/x-python",
   "name": "python",
   "nbconvert_exporter": "python",
   "pygments_lexer": "ipython3",
   "version": "3.12.2"
  }
 },
 "nbformat": 4,
 "nbformat_minor": 2
}
