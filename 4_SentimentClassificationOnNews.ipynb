{
 "cells": [
  {
   "cell_type": "markdown",
   "metadata": {},
   "source": [
    "#### Fardin Rastakhiz @2023"
   ]
  },
  {
   "cell_type": "code",
   "execution_count": null,
   "metadata": {},
   "outputs": [],
   "source": []
  },
  {
   "cell_type": "code",
   "execution_count": 1,
   "metadata": {},
   "outputs": [
    {
     "name": "stderr",
     "output_type": "stream",
     "text": [
      "c:\\Users\\razieh\\AppData\\Local\\Programs\\Python\\Python312\\Lib\\site-packages\\tqdm\\auto.py:21: TqdmWarning: IProgress not found. Please update jupyter and ipywidgets. See https://ipywidgets.readthedocs.io/en/stable/user_install.html\n",
      "  from .autonotebook import tqdm as notebook_tqdm\n",
      "c:\\Users\\razieh\\AppData\\Local\\Programs\\Python\\Python312\\Lib\\site-packages\\transformers\\utils\\generic.py:441: UserWarning: torch.utils._pytree._register_pytree_node is deprecated. Please use torch.utils._pytree.register_pytree_node instead.\n",
      "  _torch_pytree._register_pytree_node(\n"
     ]
    }
   ],
   "source": [
    "from Scripts.Configs.ConfigClass import Config\n",
    "from Scripts.DataManager.GraphConstructor.GraphConstructor import TextGraphType\n",
    "import os\n",
    "from Scripts.DataManager.GraphLoader.SnapFoodGraphDataModule import SnapFoodGraphDataModule\n",
    "import torch\n",
    "from torch.utils.flop_counter import FlopCounterMode\n",
    "root_path = %pwd\n",
    "config = Config(root_path)\n",
    "# config = Config(r'E:\\Darsi\\Payan Name Arshad\\Second Work\\ColorIntelligence2\\ColorIntelligence')\n",
    "os.environ['CUDA_LAUNCH_BLOCKING'] = \"1\"\n",
    "device = torch.device('cuda' if torch.cuda.is_available() else 'cpu')\n",
    "batch_size = 256\n"
   ]
  },
  {
   "cell_type": "code",
   "execution_count": 2,
   "metadata": {},
   "outputs": [],
   "source": [
    "from Scripts.Models.GraphEmbedding.HeteroDeepGraphEmbedding4 import HeteroDeepGraphEmbedding4\n",
    "from Scripts.Models.GraphEmbedding.HeteroDeepGraphEmbedding5 import HeteroDeepGraphEmbedding5\n",
    "from Scripts.Models.GraphEmbedding.HeteroDeepGraphEmbedding6 import HeteroDeepGraphEmbedding6\n",
    "from Scripts.Models.GraphEmbedding.HeteroDeepGraphEmbedding8 import HeteroDeepGraphEmbedding8"
   ]
  },
  {
   "cell_type": "code",
   "execution_count": 3,
   "metadata": {},
   "outputs": [],
   "source": [
    "from Scripts.Models.LightningModels.LightningModels import HeteroMultiClassLightningModel\n",
    "from Scripts.Models.LossFunctions.HeteroLossFunctions import MulticlassHeteroLoss1, MulticlassHeteroLoss2, MulticlassHeteroLoss3\n",
    "from lightning.pytorch.callbacks import EarlyStopping, ModelCheckpoint\n",
    "import lightning as L\n",
    "from lightning.pytorch.tuner import Tuner\n",
    "from Scripts.Models.ModelsManager.ClassifierModelManager import ClassifierModelManager"
   ]
  },
  {
   "cell_type": "code",
   "execution_count": 4,
   "metadata": {},
   "outputs": [],
   "source": [
    "import stanza"
   ]
  },
  {
   "cell_type": "code",
   "execution_count": 5,
   "metadata": {},
   "outputs": [
    {
     "name": "stdout",
     "output_type": "stream",
     "text": [
      "1.8.2\n"
     ]
    }
   ],
   "source": [
    "print(stanza.__version__)"
   ]
  },
  {
   "cell_type": "code",
   "execution_count": 7,
   "metadata": {},
   "outputs": [
    {
     "name": "stdout",
     "output_type": "stream",
     "text": [
      "AAAA\n",
      "BBBB\n"
     ]
    },
    {
     "name": "stderr",
     "output_type": "stream",
     "text": [
      "2024-05-20 18:35:30 INFO: Checking for updates to resources.json in case models have been updated.  Note: this behavior can be turned off with download_method=None or download_method=DownloadMethod.REUSE_RESOURCES\n",
      "Downloading https://raw.githubusercontent.com/stanfordnlp/stanza-resources/main/resources_1.8.0.json: 379kB [00:00, 1.38MB/s]                    \n",
      "2024-05-20 18:35:32 INFO: Downloaded file to C:\\Users\\razieh\\stanza_resources\\resources.json\n",
      "2024-05-20 18:35:34 INFO: Loading these models for language: fa (Persian):\n",
      "==============================\n",
      "| Processor | Package        |\n",
      "------------------------------\n",
      "| tokenize  | perdt          |\n",
      "| mwt       | perdt          |\n",
      "| pos       | perdt_charlm   |\n",
      "| lemma     | perdt_nocharlm |\n",
      "| depparse  | perdt_charlm   |\n",
      "| ner       | arman          |\n",
      "==============================\n",
      "\n",
      "2024-05-20 18:35:34 INFO: Using device: cpu\n",
      "2024-05-20 18:35:34 INFO: Loading: tokenize\n",
      "2024-05-20 18:35:34 INFO: Loading: mwt\n",
      "2024-05-20 18:35:34 INFO: Loading: pos\n",
      "2024-05-20 18:35:34 INFO: Loading: lemma\n",
      "2024-05-20 18:35:34 INFO: Loading: depparse\n",
      "2024-05-20 18:35:34 INFO: Loading: ner\n",
      "2024-05-20 18:35:35 INFO: Done loading processors!\n"
     ]
    },
    {
     "name": "stdout",
     "output_type": "stream",
     "text": [
      "filename: c:\\Users\\razieh\\Downloads\\Beyond-Words\\data/GraphData/SnapFood\\seq_gen\\graph_var.txt\n",
      "self.start_data_load: 0\n",
      "self.end_data_load: 100\n",
      "self.saving_batch_size: 1000\n"
     ]
    },
    {
     "name": "stderr",
     "output_type": "stream",
     "text": [
      " Loding Graphs From File :   0%|          | 0/1 [00:00<?, ?it/s]"
     ]
    },
    {
     "name": "stdout",
     "output_type": "stream",
     "text": [
      "data path: c:\\Users\\razieh\\Downloads\\Beyond-Words\\data/GraphData/SnapFood\\seq_gen\\0_100_compressed.pt\n",
      "first step after loading data\n"
     ]
    },
    {
     "name": "stderr",
     "output_type": "stream",
     "text": [
      "Prepare loaded data: 100%|██████████| 100/100 [05:06<00:00,  3.06s/it]\n"
     ]
    },
    {
     "name": "stdout",
     "output_type": "stream",
     "text": [
      "before pass\n"
     ]
    },
    {
     "name": "stderr",
     "output_type": "stream",
     "text": [
      " Loding Graphs From File : 100%|██████████| 1/1 [05:36<00:00, 336.35s/it]"
     ]
    },
    {
     "name": "stdout",
     "output_type": "stream",
     "text": [
      "after loading data and pass\n"
     ]
    },
    {
     "name": "stderr",
     "output_type": "stream",
     "text": [
      "\n"
     ]
    }
   ],
   "source": [
    "\n",
    "graph_type = TextGraphType.SEQUENTIAL\n",
    "data_manager = SnapFoodGraphDataModule(config, test_size=0.00, val_size=0.05511811, shuffle=False, start_data_load=0 , end_data_load = 100 , device='cpu', batch_size=batch_size, graph_type=graph_type, load_preprocessed_data = True)\n",
    "data_manager.load_labels()\n",
    "data_manager.load_graphs()"
   ]
  },
  {
   "cell_type": "code",
   "execution_count": 8,
   "metadata": {},
   "outputs": [
    {
     "name": "stdout",
     "output_type": "stream",
     "text": [
      "AAAA\n",
      "BBBB\n"
     ]
    },
    {
     "name": "stderr",
     "output_type": "stream",
     "text": [
      "2024-05-20 18:42:15 INFO: Checking for updates to resources.json in case models have been updated.  Note: this behavior can be turned off with download_method=None or download_method=DownloadMethod.REUSE_RESOURCES\n",
      "Downloading https://raw.githubusercontent.com/stanfordnlp/stanza-resources/main/resources_1.8.0.json: 379kB [00:00, 2.90MB/s]                    \n",
      "2024-05-20 18:42:17 INFO: Downloaded file to C:\\Users\\razieh\\stanza_resources\\resources.json\n",
      "2024-05-20 18:42:18 INFO: Loading these models for language: fa (Persian):\n",
      "==============================\n",
      "| Processor | Package        |\n",
      "------------------------------\n",
      "| tokenize  | perdt          |\n",
      "| mwt       | perdt          |\n",
      "| pos       | perdt_charlm   |\n",
      "| lemma     | perdt_nocharlm |\n",
      "| depparse  | perdt_charlm   |\n",
      "| ner       | arman          |\n",
      "==============================\n",
      "\n",
      "2024-05-20 18:42:18 INFO: Using device: cpu\n",
      "2024-05-20 18:42:18 INFO: Loading: tokenize\n",
      "2024-05-20 18:42:18 INFO: Loading: mwt\n",
      "2024-05-20 18:42:18 INFO: Loading: pos\n",
      "2024-05-20 18:42:18 INFO: Loading: lemma\n",
      "2024-05-20 18:42:19 INFO: Loading: depparse\n",
      "2024-05-20 18:42:19 INFO: Loading: ner\n",
      "2024-05-20 18:42:20 INFO: Done loading processors!\n"
     ]
    }
   ],
   "source": [
    "from Scripts.DataManager.GraphConstructor.SequentialGraphConstructor import SequentialGraphConstructor\n",
    "\n",
    "texts = ['متن فارسی آزمایشی شماره یک' , 'متن فارسی آزمایشی شماره دو' , 'متن فارسی آزمایشی شماره سه']\n",
    "graph_const = SequentialGraphConstructor(texts, r'graphs/sequence',config=config, naming_prepend='graph', start_data_load=0, end_data_load=2, load_preprocessed_data=False , use_compression=True , use_general_node=True)\n",
    "# graph_const.setup(load_preprocessed_data=True)"
   ]
  },
  {
   "cell_type": "code",
   "execution_count": 9,
   "metadata": {},
   "outputs": [
    {
     "data": {
      "image/png": "[encoded data removed]",
      "text/plain": [
       "<Figure size 640x480 with 1 Axes>"
      ]
     },
     "metadata": {},
     "output_type": "display_data"
    }
   ],
   "source": [
    "graph_const.draw_graph(1)"
   ]
  },
  {
   "cell_type": "code",
   "execution_count": 10,
   "metadata": {},
   "outputs": [],
   "source": [
    "# data_manager.update_batch_size(256)"
   ]
  },
  {
   "cell_type": "code",
   "execution_count": 11,
   "metadata": {},
   "outputs": [],
   "source": [
    "val_dataloader = data_manager.val_dataloader()\n",
    "X3, Y3 = next(iter(val_dataloader))"
   ]
  },
  {
   "cell_type": "code",
   "execution_count": 12,
   "metadata": {},
   "outputs": [
    {
     "data": {
      "text/plain": [
       "1"
      ]
     },
     "execution_count": 12,
     "metadata": {},
     "output_type": "execute_result"
    }
   ],
   "source": [
    "len(val_dataloader)"
   ]
  },
  {
   "cell_type": "code",
   "execution_count": 13,
   "metadata": {},
   "outputs": [],
   "source": [
    "from copy import copy\n",
    "metadata = copy(X3.metadata())"
   ]
  },
  {
   "cell_type": "code",
   "execution_count": 14,
   "metadata": {},
   "outputs": [],
   "source": [
    "\n",
    "edge_type_weights = {\n",
    "    # 'full': [1., 1., 1., 1., 1., 1., 1., 1., 1., 1., 1.],\n",
    "    # 'full-non-sentiment': [1., 1., 1., 1., 1., 1., 1., 1., 1., 0., 0.],\n",
    "    'seq': [0., 0., 0., 0., 1., 0., 0., 0., 0., 0., 0.],\n",
    "    # 'dep': [1., 1., 0., 0., 1., 0., 0., 0., 0., 0., 0.],\n",
    "    # 'tag': [0., 0., 1., 1., 1., 0., 0., 0., 0., 0., 0.],\n",
    "    # 'general_sentence': [0., 0., 0., 0., 1., 1., 1., 1., 1., 0., 0.],\n",
    "    # 'sentence': [0., 0., 0., 0., 1., 0., 0., 1., 1., 0., 0.],\n",
    "    # 'sentiment': [0., 0., 0., 0., 1., 0., 0., 0., 0., 1., 1.],\n",
    "}\n",
    "# type_checkpoint = {\n",
    "#     #  'dep': r'logs\\hetero_model_14_AG\\version_0\\checkpoints\\epoch=38-step=17199.ckpt',\n",
    "#      'tag': r'logs\\hetero_model_15_AG_tag\\version_0\\checkpoints\\epoch=9-step=4410.ckpt',\n",
    "#      'general_sentence': '',\n",
    "#      'sentence': '',\n",
    "# }"
   ]
  },
  {
   "cell_type": "code",
   "execution_count": 15,
   "metadata": {},
   "outputs": [],
   "source": [
    "# edge_type_weights = {\n",
    "#     'seq_gen': [1, 1, 1],\n",
    "#     'seq': [0, 0, 1]\n",
    "# }\n",
    "# type_checkpoint = {\n",
    "#     'seq_gen': r'logs\\hetero_model_12_AG\\version_1\\checkpoints\\epoch=24-step=11025.ckpt',\n",
    "#     'seq': r'logs\\hetero_model_12_AG\\version_2\\checkpoints\\epoch=22-step=10143.ckpt'\n",
    "# }"
   ]
  },
  {
   "cell_type": "code",
   "execution_count": 16,
   "metadata": {},
   "outputs": [],
   "source": [
    "from os import path\n",
    "from sklearn.metrics import classification_report, f1_score, accuracy_score, precision_score, recall_score, confusion_matrix, hinge_loss\n",
    "import torchmetrics\n",
    "\n",
    "def save_evaluation(model_mgr, eval_dataloader, name_prepend: str='',\n",
    "                 give_confusion_matrix: bool=True, \n",
    "                 give_report: bool=True, \n",
    "                 give_f1_score: bool=False, \n",
    "                 give_accuracy_score: bool=False, \n",
    "                 give_precision_score: bool=False, \n",
    "                 give_recall_score: bool=False, \n",
    "                 give_hinge_loss: bool=False,\n",
    "                 multi_class: bool=False\n",
    "                 ):\n",
    "        \n",
    "        test_metrics_path = path.join(model_mgr.log_dir, model_mgr.log_name, f'version_{model_mgr.logger.version}', f'{name_prepend}_test_metrics.txt')\n",
    "        \n",
    "        y_true = []\n",
    "        y_pred = []\n",
    "        model_mgr.lightning_model.eval()\n",
    "        model_mgr.lightning_model.model.eval()\n",
    "        model_mgr.torch_model.eval()\n",
    "        for X, y in eval_dataloader:\n",
    "            model_mgr.trainer.model.eval()\n",
    "            with torch.no_grad():\n",
    "                y_p = model_mgr.trainer.model(X.to(model_mgr.device))\n",
    "            if type(y_p) is tuple:\n",
    "                y_p = y_p[0]\n",
    "            \n",
    "            if multi_class:\n",
    "                y_pred.append(y_p.detach().to(y.device))\n",
    "                y_true.append(y)\n",
    "            else:\n",
    "                y_pred.append((y_p>0).to(torch.int32).detach().to(y.device))\n",
    "                y_true.append(y.to(torch.int32))\n",
    "        y_true = torch.concat(y_true)\n",
    "        y_pred = torch.concat(y_pred)\n",
    "        print(y_true.shape)\n",
    "        print(y_pred.shape)\n",
    "        if multi_class:\n",
    "            y_true_num = torch.argmax(y_true, dim=1)\n",
    "            y_pred_num = torch.argmax(y_pred, dim=1)\n",
    "        else:\n",
    "            y_true_num = y_true\n",
    "            y_pred_num = y_pred\n",
    "            \n",
    "        print(y_true_num.shape)\n",
    "        print(y_pred_num.shape)\n",
    "        with open(test_metrics_path, 'at+') as f:\n",
    "            if(give_confusion_matrix):\n",
    "                print(f'confusion_matrix: \\n{confusion_matrix(y_true_num, y_pred_num)}', file=f)\n",
    "            if(give_report):\n",
    "                print(classification_report(y_true_num, y_pred_num), file=f)\n",
    "            if(give_f1_score):\n",
    "                if multi_class:\n",
    "                    print(f'f1_score: {f1_score(y_true_num, y_pred_num, average=None)}', file=f)\n",
    "                else:\n",
    "                    print(f'f1_score: {f1_score(y_true_num, y_pred_num)}', file=f)\n",
    "            if(give_accuracy_score):\n",
    "                print(f'accuracy_score: {accuracy_score(y_true_num, y_pred_num)}', file=f)\n",
    "            if(give_precision_score):\n",
    "                if multi_class:\n",
    "                    print(f'f1_score: {precision_score(y_true_num, y_pred_num, average=None)}', file=f)\n",
    "                else:\n",
    "                    print(f'f1_score: {precision_score(y_true_num, y_pred_num)}', file=f)\n",
    "            if(give_recall_score):\n",
    "                if multi_class:\n",
    "                    print(f'f1_score: {recall_score(y_true_num, y_pred_num, average=None)}', file=f)\n",
    "                else:\n",
    "                    print(f'f1_score: {recall_score(y_true_num, y_pred_num)}', file=f)\n",
    "            if(give_hinge_loss):\n",
    "                print(f'hinge_loss: {hinge_loss(y_true_num, y_pred)}', file=f)\n"
   ]
  },
  {
   "cell_type": "code",
   "execution_count": 17,
   "metadata": {},
   "outputs": [
    {
     "data": {
      "text/plain": [
       "<generator object <genexpr> at 0x0000020189147A00>"
      ]
     },
     "execution_count": 17,
     "metadata": {},
     "output_type": "execute_result"
    }
   ],
   "source": [
    "(metadata[0].remove(x, inplace=True) for x in ['dep', 'tag', 'sentence', 'sentiment'])"
   ]
  },
  {
   "cell_type": "code",
   "execution_count": 18,
   "metadata": {},
   "outputs": [
    {
     "data": {
      "text/plain": [
       "(['general', 'word'],\n",
       " [('general', 'general_word', 'word'),\n",
       "  ('word', 'word_general', 'general'),\n",
       "  ('word', 'seq', 'word')])"
      ]
     },
     "execution_count": 18,
     "metadata": {},
     "output_type": "execute_result"
    }
   ],
   "source": [
    "metadata"
   ]
  },
  {
   "cell_type": "code",
   "execution_count": 19,
   "metadata": {},
   "outputs": [],
   "source": [
    "metadata = (['word'], [('word', 'seq', 'word')])"
   ]
  },
  {
   "cell_type": "code",
   "execution_count": 20,
   "metadata": {},
   "outputs": [
    {
     "data": {
      "text/plain": [
       "['word']"
      ]
     },
     "execution_count": 20,
     "metadata": {},
     "output_type": "execute_result"
    }
   ],
   "source": [
    "[x for x in metadata[0] if x not in ['dep', 'tag', 'sentence', 'sentiment']]"
   ]
  },
  {
   "cell_type": "code",
   "execution_count": 21,
   "metadata": {},
   "outputs": [
    {
     "data": {
      "text/plain": [
       "[('word', 'seq', 'word')]"
      ]
     },
     "execution_count": 21,
     "metadata": {},
     "output_type": "execute_result"
    }
   ],
   "source": [
    "[x for x in metadata[1] if x not in ['dep', 'tag', 'sentence', 'sentiment']]"
   ]
  },
  {
   "cell_type": "code",
   "execution_count": 22,
   "metadata": {},
   "outputs": [
    {
     "name": "stderr",
     "output_type": "stream",
     "text": [
      "c:\\Users\\razieh\\Downloads\\Beyond-Words\\Scripts\\Models\\GraphEmbedding\\HeteroDeepGraphEmbedding8.py:53: UserWarning: To copy construct from a tensor, it is recommended to use sourceTensor.clone().detach() or sourceTensor.clone().detach().requires_grad_(True), rather than torch.tensor(sourceTensor).\n",
      "  self.pw1 = torch.nn.Parameter(torch.tensor(self.edge_type_weights, dtype=torch.float32), requires_grad=False)\n"
     ]
    },
    {
     "name": "stdout",
     "output_type": "stream",
     "text": [
      "Module                                            FLOP    % Total\n",
      "------------------------------------------  ----------  ---------\n",
      "HeteroDeepGraphEmbedding8                   22818.944K    100.00%\n",
      " - aten.addmm                               21487.616K     94.17%\n",
      " - aten.mm                                    732.160K      3.21%\n",
      " - aten.convolution                             3.968K      0.02%\n",
      " - aten.bmm                                   595.200K      2.61%\n",
      " HeteroDeepGraphEmbedding8.hetero_linear1    6451.200K     28.27%\n",
      "  - aten.addmm                               6451.200K     28.27%\n",
      " HeteroDeepGraphEmbedding8.hetero_gat_1      1417.216K      6.21%\n",
      "  - aten.addmm                               1376.256K      6.03%\n",
      "  - aten.mm                                    40.960K      0.18%\n",
      " HeteroDeepGraphEmbedding8.hetero_linear_2    688.128K      3.02%\n",
      "  - aten.addmm                                688.128K      3.02%\n",
      " HeteroDeepGraphEmbedding8.hetero_gat_2     13286.400K     58.23%\n",
      "  - aten.addmm                              12902.400K     56.54%\n",
      "  - aten.mm                                   384.000K      1.68%\n",
      " HeteroDeepGraphEmbedding8.mem_pool           906.368K      3.97%\n",
      "  - aten.convolution                            3.968K      0.02%\n",
      "  - aten.bmm                                  595.200K      2.61%\n",
      "  - aten.mm                                   307.200K      1.35%\n",
      " HeteroDeepGraphEmbedding8.linear_1            32.768K      0.14%\n",
      "  - aten.addmm                                 32.768K      0.14%\n",
      " HeteroDeepGraphEmbedding8.linear_2            32.768K      0.14%\n",
      "  - aten.addmm                                 32.768K      0.14%\n",
      " HeteroDeepGraphEmbedding8.output_layer         4.096K      0.02%\n",
      "  - aten.addmm                                  4.096K      0.02%\n"
     ]
    }
   ],
   "source": [
    "for k in edge_type_weights:\n",
    "    graph_embedding = HeteroDeepGraphEmbedding8(300, 4, metadata, 32, dropout=0.2, edge_type_count=1, edge_type_weights=edge_type_weights[k], active_keys = ['word'])\n",
    "    graph_embedding = graph_embedding.to(device)\n",
    "    # callbacks = [\n",
    "    # ModelCheckpoint(save_top_k=5, mode='max', monitor='val_acc', save_last=True)\n",
    "    # ]\n",
    "    \n",
    "    \n",
    "    # loss_func = MulticlassHeteroLoss2(exception_keys=['word'], enc_factor=0.0002)\n",
    "    # optimizer = torch.optim.Adam(graph_embedding.parameters(), lr=0.0045, weight_decay=0.0012)\n",
    "    # lr_scheduler = torch.optim.lr_scheduler.MultiStepLR(optimizer, milestones=[5, 10, 20, 35], gamma=0.6, verbose=True)\n",
    "    # lightning_model = HeteroMultiClassLightningModel(graph_embedding, 4,\n",
    "    #                                     optimizer=optimizer,\n",
    "    #                                     loss_func=loss_func,\n",
    "    #                                     learning_rate=0.0045,\n",
    "    #                                     batch_size=batch_size,\n",
    "    #                                     user_lr_scheduler=True,\n",
    "    #                                     lr_scheduler=lr_scheduler,\n",
    "    #                                     min_lr=0.0005\n",
    "    #                                     ).to(device)\n",
    "    # lightning_model.model.to(device)\n",
    "          \n",
    "    # model_manager = ClassifierModelManager(graph_embedding, lightning_model, log_name='hetero_model_18_AG',device=device, num_train_epoch=70)\n",
    "    flopt_counter = FlopCounterMode(graph_embedding)\n",
    "    with flopt_counter:\n",
    "        graph_embedding(X3.to(device))\n",
    "    # model_manager.draw_summary(data_manager.val_dataloader())\n",
    "    # model_manager.fit(datamodule=data_manager, ckpt_path=r'logs\\hetero_model_18_AG\\version_8\\checkpoints\\epoch=38-step=18252.ckpt')\n",
    "    \n",
    "    # model_manager.save_plot_csv_logger(loss_names=['train_loss_epoch', 'val_loss'], eval_names=['train_acc_epoch', 'val_acc'], name_prepend=f'tests_{k}')\n",
    "    # model_manager.torch_model = model_manager.torch_model.to(device)\n",
    "    # save_evaluation(model_manager, data_manager.val_dataloader(), f'{k}',True, True, True, True, True, True, True, multi_class=True)"
   ]
  },
  {
   "cell_type": "code",
   "execution_count": 23,
   "metadata": {},
   "outputs": [],
   "source": [
    "import torch.nn.functional as F\n",
    "from torch import Tensor\n",
    "import torch\n",
    "from torch.nn import Linear\n",
    "from torch_geometric.nn import BatchNorm, MemPooling, to_hetero, PairNorm\n",
    "from torch_geometric.data import HeteroData\n",
    "from Scripts.Models.BaseModels.HeteroGat import HeteroGat\n",
    "from Scripts.Models.BaseModels.HeteroLinear import HeteroLinear\n",
    "\n",
    "class HeteroDeepGraphEmbedding6(torch.nn.Module):\n",
    "    \n",
    "    def __init__(self,\n",
    "                 input_feature: int, out_features: int,\n",
    "                 metadata,\n",
    "                 hidden_feature: int=256,\n",
    "                 device = 'cpu',\n",
    "                 dropout=0.1,\n",
    "                 edge_type_count=9,\n",
    "                 edge_type_weights=-1,\n",
    "                 active_keys = ['dep', 'tag', 'word', 'sentence', 'general'],\n",
    "                 num_pooling_classes=1\n",
    "                 ):\n",
    "\n",
    "        super(HeteroDeepGraphEmbedding6, self).__init__()\n",
    "        self.input_features = input_feature\n",
    "        self.num_out_features = out_features\n",
    "        self.hidden_feature: int = hidden_feature\n",
    "        self.edge_type_count = edge_type_count\n",
    "        self.edge_type_weights = torch.nn.Parameter(torch.tensor([1]* self.edge_type_count if edge_type_weights==-1 else  edge_type_weights).to(torch.float32), requires_grad=False)\n",
    "\n",
    "        self.part_weight_norm = torch.nn.LayerNorm((self.edge_type_count,))\n",
    "        self.norm = PairNorm()\n",
    "        self.drop = torch.nn.Dropout(0.2)\n",
    "        self.active_keys = active_keys\n",
    "        \n",
    "        self.hetero_linear1 = to_hetero(HeteroLinear(self.input_features,self.hidden_feature, use_dropout=False, use_batch_norm=True), metadata)\n",
    "        \n",
    "        self.hetero_gat_1 = to_hetero(HeteroGat(self.hidden_feature, self.hidden_feature, dropout, num_heads=2), metadata)\n",
    "        self.hetero_gat_2 = to_hetero(HeteroGat(self.hidden_feature, self.hidden_feature, dropout, num_heads=2), metadata)\n",
    "        \n",
    "        self.hetero_linear_2 = to_hetero(HeteroLinear(self.hidden_feature, self.input_features, dropout, use_batch_norm=True), metadata)\n",
    "        \n",
    "        self.num_pooling_classes = torch.nn.Parameter(torch.tensor(num_pooling_classes).to(torch.int32), requires_grad=False)\n",
    "        self.mem_pool = MemPooling(self.hidden_feature, self.hidden_feature, 2, self.num_pooling_classes)\n",
    "        \n",
    "        self.linear_1 = Linear(self.hidden_feature* self.num_pooling_classes, self.hidden_feature)\n",
    "        self.linear_2 = Linear(self.hidden_feature, self.hidden_feature)\n",
    "        self.batch_norm_1 = BatchNorm(self.hidden_feature)\n",
    "        \n",
    "        self.output_layer = Linear(self.hidden_feature, self.num_out_features)\n",
    "        \n",
    "        self.dep_embedding = torch.nn.Embedding(45, self.input_features)\n",
    "        self.tag_embedding = torch.nn.Embedding(50, self.input_features)\n",
    "        self.dep_unembedding = torch.nn.Linear(self.hidden_feature, 45)\n",
    "        self.tag_unembedding = torch.nn.Linear(self.hidden_feature, 50)\n",
    "        \n",
    "        self.pw1 = torch.nn.Parameter(torch.tensor(self.edge_type_weights, dtype=torch.float32), requires_grad=False)\n",
    "        \n",
    "        self.x_batches = None\n",
    "        self.x_batches_cpu = None\n",
    "        self.x_dict_cpu_1 = None\n",
    "        self.x_dict_cpu_2 = None\n",
    "        \n",
    "\n",
    "    def forward(self, x: HeteroData) -> Tensor:\n",
    "        self.x_batches = {k:x[k].batch for k in self.active_keys}\n",
    "        # self.x_batches_cpu = {k:self.x_batches[k].to('cpu') for k in self.active_keys}\n",
    "        x_dict, edge_attr_dict, edge_index_dict = self.preprocess_data(x)\n",
    "        edge_attr_dict = self.update_weights(edge_attr_dict, self.pw1)\n",
    "        x_dict = self.hetero_linear1(x_dict)\n",
    "        x_dict = self.hetero_gat_1(x_dict, edge_index_dict, edge_attr_dict)\n",
    "        # self.x_dict_cpu_1 = {k: x_dict[k].to('cpu') for k in x_dict}\n",
    "        self.normalize(x_dict, self.x_batches)\n",
    "        x_dict = self.hetero_gat_2(x_dict, edge_index_dict, edge_attr_dict)\n",
    "        # self.x_dict_cpu_2 = {k: x_dict[k].to('cpu') for k in x_dict}\n",
    "        x_pooled, S = self.mem_pool(x_dict['word'], self.x_batches['word'])\n",
    "                \n",
    "        x_pooled = x_pooled.view(x_pooled.shape[0], -1)\n",
    "        x_pooled = F.relu(self.linear_1(x_pooled))\n",
    "        x_pooled = F.relu(self.batch_norm_1(self.linear_2(x_pooled)))\n",
    "        out = self.output_layer(x_pooled)\n",
    "        \n",
    "        x_dict_out = self.hetero_linear_2(x_dict)\n",
    "        x_dict_out['dep'] = self.dep_unembedding(x_dict['dep'])\n",
    "        x_dict_out['tag'] = self.tag_unembedding(x_dict['tag'])\n",
    "        \n",
    "        return out, x_dict_out\n",
    "\n",
    "    def preprocess_data(self, x):\n",
    "        x_dict = {key: x.x_dict[key] for key in x.x_dict}\n",
    "        if 'dep' in x_dict:\n",
    "            x_dict['dep'] = self.dep_embedding(x_dict['dep'])\n",
    "        if 'tag' in x_dict:\n",
    "            x_dict['tag'] = self.tag_embedding(x_dict['tag'])\n",
    "\n",
    "        edge_attr_dict = x.edge_attr_dict\n",
    "        edge_index_dict = x.edge_index_dict\n",
    "\n",
    "        return x_dict, edge_attr_dict, edge_index_dict\n",
    "\n",
    "    def normalize(self, x_dict, x_batches):\n",
    "        for k in self.active_keys:\n",
    "            vecs = x_dict[k]\n",
    "            if k not in x_batches:\n",
    "                print('k is not in x_batches')\n",
    "                continue\n",
    "            batches = x_batches[k]\n",
    "            if batches is None:\n",
    "                print('batches is none')\n",
    "                continue\n",
    "            if len(batches) == 0:\n",
    "                print('batches is empty')\n",
    "                continue\n",
    "            \n",
    "            x_dict[k] = self.norm(vecs, batches)\n",
    "        return x_dict\n",
    "\n",
    "    def update_weights(self, edge_attr_dict, part_weights):\n",
    "        for i, key in enumerate(edge_attr_dict):\n",
    "            edge_attr = edge_attr_dict[key]\n",
    "            if edge_attr is None or edge_attr == ('word', 'seq', 'word'):\n",
    "                continue\n",
    "            edge_attr_dict[key]= edge_attr * part_weights[i]\n",
    "        return edge_attr_dict\n",
    "\n",
    "    def get_scale_same(self, scale:float, attributes: Tensor):\n",
    "        if attributes is None or len(attributes) == 0:\n",
    "            return\n",
    "        attributes = scale * torch.ones_like(attributes)\n",
    "        return attributes"
   ]
  },
  {
   "cell_type": "code",
   "execution_count": 24,
   "metadata": {},
   "outputs": [],
   "source": [
    "from typing import List\n",
    "import torch\n",
    "from torch import nn\n",
    "\n",
    "from Scripts.Models.LossFunctions.HeteroLossArgs import HeteroLossArgs\n",
    "\n",
    "\n",
    "class MulticlassHeteroLoss2(torch.nn.Module):\n",
    "    def __init__(self, exception_keys: List[str], enc_factor=0.0, *args, **kwargs) -> None:\n",
    "        super().__init__(*args, **kwargs)\n",
    "        self.cel_loss=  torch.nn.CrossEntropyLoss()\n",
    "        self.mse_loss = torch.nn.MSELoss()\n",
    "        self.exception_keys = exception_keys\n",
    "        self.enc_factor = enc_factor\n",
    "    \n",
    "    def forward(self, out_pred: HeteroLossArgs, out_main: HeteroLossArgs):\n",
    "        loss = self.cel_loss(out_pred.y, out_main.y)\n",
    "        x_dict_keys = [k for k in out_pred.x_dict.keys() if k not in self.exception_keys]\n",
    "        \n",
    "        for key in x_dict_keys:\n",
    "            tensor1 = out_pred.x_dict[key]\n",
    "            tensor2 = out_main.x_dict[key]\n",
    "            if tensor2.ndim == 1 and tensor2.dtype is torch.long:\n",
    "                tensor2 = torch.nn.functional.one_hot(input=tensor2.to(torch.long), num_classes=tensor1.shape[1]).to(torch.float32)\n",
    "            loss += self.enc_factor * (self.mse_loss(tensor1, tensor2))\n",
    "        return loss"
   ]
  },
  {
   "cell_type": "code",
   "execution_count": 25,
   "metadata": {},
   "outputs": [
    {
     "data": {
      "text/plain": [
       "(['word'], [('word', 'seq', 'word')])"
      ]
     },
     "execution_count": 25,
     "metadata": {},
     "output_type": "execute_result"
    }
   ],
   "source": [
    "metadata"
   ]
  },
  {
   "cell_type": "code",
   "execution_count": 26,
   "metadata": {},
   "outputs": [],
   "source": [
    "# Fardin Rastakhiz @ 2023\n",
    "\n",
    "\n",
    "from torch import nn, Tensor\n",
    "import torch.nn.functional as F\n",
    "from torch_geometric.nn import BatchNorm\n",
    "\n",
    "\n",
    "class HeteroLinear(nn.Module):\n",
    "    \n",
    "    def __init__(self, in_feature, out_feature, dropout = 0.2, use_dropout=True, use_batch_norm=False, use_activation=True) -> None:\n",
    "        super().__init__()\n",
    "        self.linear = nn.Linear(in_feature, out_feature)\n",
    "        self.batch_norm = BatchNorm(out_feature)\n",
    "        self.dropout= nn.Dropout(dropout)\n",
    "        self.use_batch_norm = use_batch_norm\n",
    "        self.use_dropout = use_dropout\n",
    "        self.use_activation=use_activation\n",
    "\n",
    "    def forward(self, x: Tensor) -> Tensor:\n",
    "\n",
    "        x = self.linear(x)\n",
    "        if self.use_batch_norm:\n",
    "            x = self.batch_norm(x)\n",
    "        if self.use_activation:\n",
    "            x = F.leaky_relu(x)\n",
    "        if self.use_dropout:\n",
    "            x = self.dropout(x)\n",
    "        return x"
   ]
  },
  {
   "cell_type": "code",
   "execution_count": 28,
   "metadata": {},
   "outputs": [
    {
     "name": "stdout",
     "output_type": "stream",
     "text": [
      "0\n"
     ]
    }
   ],
   "source": [
    "import torch\n",
    "print(torch.cuda.device_count())"
   ]
  },
  {
   "cell_type": "code",
   "execution_count": 27,
   "metadata": {},
   "outputs": [
    {
     "name": "stderr",
     "output_type": "stream",
     "text": [
      "c:\\Users\\razieh\\Downloads\\Beyond-Words\\Scripts\\Models\\GraphEmbedding\\HeteroDeepGraphEmbedding8.py:53: UserWarning: To copy construct from a tensor, it is recommended to use sourceTensor.clone().detach() or sourceTensor.clone().detach().requires_grad_(True), rather than torch.tensor(sourceTensor).\n",
      "  self.pw1 = torch.nn.Parameter(torch.tensor(self.edge_type_weights, dtype=torch.float32), requires_grad=False)\n",
      "c:\\Users\\razieh\\AppData\\Local\\Programs\\Python\\Python312\\Lib\\site-packages\\torch\\optim\\lr_scheduler.py:28: UserWarning: The verbose parameter is deprecated. Please use get_last_lr() to access the learning rate.\n",
      "  warnings.warn(\"The verbose parameter is deprecated. Please use get_last_lr() \"\n",
      "c:\\Users\\razieh\\AppData\\Local\\Programs\\Python\\Python312\\Lib\\site-packages\\lightning\\pytorch\\utilities\\parsing.py:198: Attribute 'model' is an instance of `nn.Module` and is already saved during checkpointing. It is recommended to ignore them using `self.save_hyperparameters(ignore=['model'])`.\n"
     ]
    },
    {
     "ename": "MisconfigurationException",
     "evalue": "No supported gpu backend found!",
     "output_type": "error",
     "traceback": [
      "\u001b[1;31m---------------------------------------------------------------------------\u001b[0m",
      "\u001b[1;31mMisconfigurationException\u001b[0m                 Traceback (most recent call last)",
      "Cell \u001b[1;32mIn[27], line 22\u001b[0m\n\u001b[0;32m     11\u001b[0m lightning_model \u001b[38;5;241m=\u001b[39m HeteroMultiClassLightningModel(graph_embedding, \u001b[38;5;241m4\u001b[39m,\n\u001b[0;32m     12\u001b[0m                                     optimizer\u001b[38;5;241m=\u001b[39moptimizer,\n\u001b[0;32m     13\u001b[0m                                     loss_func\u001b[38;5;241m=\u001b[39mloss_func,\n\u001b[1;32m   (...)\u001b[0m\n\u001b[0;32m     18\u001b[0m                                     min_lr\u001b[38;5;241m=\u001b[39m\u001b[38;5;241m0.0005\u001b[39m\n\u001b[0;32m     19\u001b[0m                                     )\u001b[38;5;241m.\u001b[39mto(device)\n\u001b[0;32m     20\u001b[0m lightning_model\u001b[38;5;241m.\u001b[39mmodel\u001b[38;5;241m.\u001b[39mto(device)\n\u001b[1;32m---> 22\u001b[0m model_manager \u001b[38;5;241m=\u001b[39m \u001b[43mClassifierModelManager\u001b[49m\u001b[43m(\u001b[49m\u001b[43mgraph_embedding\u001b[49m\u001b[43m,\u001b[49m\u001b[43m \u001b[49m\u001b[43mlightning_model\u001b[49m\u001b[43m,\u001b[49m\u001b[43m \u001b[49m\u001b[43mlog_name\u001b[49m\u001b[38;5;241;43m=\u001b[39;49m\u001b[38;5;124;43m'\u001b[39;49m\u001b[38;5;124;43mhetero_model_20_AG\u001b[39;49m\u001b[38;5;124;43m'\u001b[39;49m\u001b[43m,\u001b[49m\u001b[43mdevice\u001b[49m\u001b[38;5;241;43m=\u001b[39;49m\u001b[43mdevice\u001b[49m\u001b[43m,\u001b[49m\u001b[43m \u001b[49m\u001b[43mnum_train_epoch\u001b[49m\u001b[38;5;241;43m=\u001b[39;49m\u001b[38;5;241;43m70\u001b[39;49m\u001b[43m)\u001b[49m\n\u001b[0;32m     23\u001b[0m model_manager\u001b[38;5;241m.\u001b[39mfit(datamodule\u001b[38;5;241m=\u001b[39mdata_manager)\n\u001b[0;32m     24\u001b[0m model_manager\u001b[38;5;241m.\u001b[39msave_plot_csv_logger(loss_names\u001b[38;5;241m=\u001b[39m[\u001b[38;5;124m'\u001b[39m\u001b[38;5;124mtrain_loss_epoch\u001b[39m\u001b[38;5;124m'\u001b[39m, \u001b[38;5;124m'\u001b[39m\u001b[38;5;124mval_loss\u001b[39m\u001b[38;5;124m'\u001b[39m], eval_names\u001b[38;5;241m=\u001b[39m[\u001b[38;5;124m'\u001b[39m\u001b[38;5;124mtrain_acc_epoch\u001b[39m\u001b[38;5;124m'\u001b[39m, \u001b[38;5;124m'\u001b[39m\u001b[38;5;124mval_acc\u001b[39m\u001b[38;5;124m'\u001b[39m], name_prepend\u001b[38;5;241m=\u001b[39m\u001b[38;5;124mf\u001b[39m\u001b[38;5;124m'\u001b[39m\u001b[38;5;124mtests_\u001b[39m\u001b[38;5;132;01m{\u001b[39;00mi\u001b[38;5;132;01m}\u001b[39;00m\u001b[38;5;124m_\u001b[39m\u001b[38;5;132;01m{\u001b[39;00mk\u001b[38;5;132;01m}\u001b[39;00m\u001b[38;5;124m'\u001b[39m)\n",
      "File \u001b[1;32mc:\\Users\\razieh\\Downloads\\Beyond-Words\\Scripts\\Models\\ModelsManager\\ClassifierModelManager.py:26\u001b[0m, in \u001b[0;36mClassifierModelManager.__init__\u001b[1;34m(self, torch_model, lightning_model, model_save_dir, log_dir, log_name, device, num_train_epoch)\u001b[0m\n\u001b[0;32m     18\u001b[0m \u001b[38;5;28;01mdef\u001b[39;00m \u001b[38;5;21m__init__\u001b[39m(\u001b[38;5;28mself\u001b[39m,\n\u001b[0;32m     19\u001b[0m              torch_model: torch\u001b[38;5;241m.\u001b[39mnn\u001b[38;5;241m.\u001b[39mModule,\n\u001b[0;32m     20\u001b[0m              lightning_model: BaseLightningModel,\n\u001b[1;32m   (...)\u001b[0m\n\u001b[0;32m     24\u001b[0m              device\u001b[38;5;241m=\u001b[39m\u001b[38;5;124m'\u001b[39m\u001b[38;5;124mcpu\u001b[39m\u001b[38;5;124m'\u001b[39m,\n\u001b[0;32m     25\u001b[0m              num_train_epoch \u001b[38;5;241m=\u001b[39m \u001b[38;5;241m100\u001b[39m):\n\u001b[1;32m---> 26\u001b[0m     \u001b[38;5;28;43msuper\u001b[39;49m\u001b[43m(\u001b[49m\u001b[43mClassifierModelManager\u001b[49m\u001b[43m,\u001b[49m\u001b[43m \u001b[49m\u001b[38;5;28;43mself\u001b[39;49m\u001b[43m)\u001b[49m\u001b[38;5;241;43m.\u001b[39;49m\u001b[38;5;21;43m__init__\u001b[39;49m\u001b[43m(\u001b[49m\u001b[43mtorch_model\u001b[49m\u001b[43m,\u001b[49m\u001b[43m \u001b[49m\u001b[43mlightning_model\u001b[49m\u001b[43m,\u001b[49m\u001b[43m \u001b[49m\u001b[43mmodel_save_dir\u001b[49m\u001b[43m,\u001b[49m\u001b[43m \u001b[49m\u001b[43mlog_dir\u001b[49m\u001b[43m,\u001b[49m\u001b[43m \u001b[49m\u001b[43mlog_name\u001b[49m\u001b[43m,\u001b[49m\u001b[43m \u001b[49m\u001b[43mdevice\u001b[49m\u001b[43m,\u001b[49m\u001b[43m \u001b[49m\u001b[43mnum_train_epoch\u001b[49m\u001b[43m)\u001b[49m\n",
      "File \u001b[1;32mc:\\Users\\razieh\\Downloads\\Beyond-Words\\Scripts\\Models\\ModelsManager\\ModelManager.py:39\u001b[0m, in \u001b[0;36mModelManager.__init__\u001b[1;34m(self, torch_model, lightning_model, model_save_dir, log_dir, log_name, device, max_epochs, ckpt_path)\u001b[0m\n\u001b[0;32m     37\u001b[0m \u001b[38;5;28mself\u001b[39m\u001b[38;5;241m.\u001b[39mlogger \u001b[38;5;241m=\u001b[39m \u001b[38;5;28mself\u001b[39m\u001b[38;5;241m.\u001b[39m_create_logger()\n\u001b[0;32m     38\u001b[0m \u001b[38;5;28mself\u001b[39m\u001b[38;5;241m.\u001b[39mcallbacks \u001b[38;5;241m=\u001b[39m \u001b[38;5;28mself\u001b[39m\u001b[38;5;241m.\u001b[39m_create_callbacks()\n\u001b[1;32m---> 39\u001b[0m \u001b[38;5;28mself\u001b[39m\u001b[38;5;241m.\u001b[39mtrainer: L\u001b[38;5;241m.\u001b[39mTrainer \u001b[38;5;241m=\u001b[39m \u001b[38;5;28;43mself\u001b[39;49m\u001b[38;5;241;43m.\u001b[39;49m\u001b[43m_create_trainer\u001b[49m\u001b[43m(\u001b[49m\u001b[43m)\u001b[49m\n\u001b[0;32m     40\u001b[0m \u001b[38;5;28mself\u001b[39m\u001b[38;5;241m.\u001b[39mtuner \u001b[38;5;241m=\u001b[39m Tuner(\u001b[38;5;28mself\u001b[39m\u001b[38;5;241m.\u001b[39mtrainer)\n\u001b[0;32m     41\u001b[0m \u001b[38;5;28mself\u001b[39m\u001b[38;5;241m.\u001b[39mtuning_result \u001b[38;5;241m=\u001b[39m \u001b[38;5;28;01mNone\u001b[39;00m\n",
      "File \u001b[1;32mc:\\Users\\razieh\\Downloads\\Beyond-Words\\Scripts\\Models\\ModelsManager\\ModelManager.py:79\u001b[0m, in \u001b[0;36mModelManager._create_trainer\u001b[1;34m(self)\u001b[0m\n\u001b[0;32m     78\u001b[0m \u001b[38;5;28;01mdef\u001b[39;00m \u001b[38;5;21m_create_trainer\u001b[39m(\u001b[38;5;28mself\u001b[39m) \u001b[38;5;241m-\u001b[39m\u001b[38;5;241m>\u001b[39m L\u001b[38;5;241m.\u001b[39mTrainer:\n\u001b[1;32m---> 79\u001b[0m     \u001b[38;5;28;01mreturn\u001b[39;00m \u001b[43mL\u001b[49m\u001b[38;5;241;43m.\u001b[39;49m\u001b[43mTrainer\u001b[49m\u001b[43m(\u001b[49m\n\u001b[0;32m     80\u001b[0m \u001b[43m        \u001b[49m\u001b[43mcallbacks\u001b[49m\u001b[38;5;241;43m=\u001b[39;49m\u001b[38;5;28;43mself\u001b[39;49m\u001b[38;5;241;43m.\u001b[39;49m\u001b[43mcallbacks\u001b[49m\u001b[43m,\u001b[49m\n\u001b[0;32m     81\u001b[0m \u001b[43m        \u001b[49m\u001b[43mmax_epochs\u001b[49m\u001b[38;5;241;43m=\u001b[39;49m\u001b[38;5;28;43mself\u001b[39;49m\u001b[38;5;241;43m.\u001b[39;49m\u001b[43mmax_epochs\u001b[49m\u001b[43m,\u001b[49m\n\u001b[0;32m     82\u001b[0m \u001b[43m        \u001b[49m\u001b[43maccelerator\u001b[49m\u001b[38;5;241;43m=\u001b[39;49m\u001b[38;5;28;43mself\u001b[39;49m\u001b[38;5;241;43m.\u001b[39;49m\u001b[43maccelerator\u001b[49m\u001b[43m,\u001b[49m\n\u001b[0;32m     83\u001b[0m \u001b[43m        \u001b[49m\u001b[43mlogger\u001b[49m\u001b[38;5;241;43m=\u001b[39;49m\u001b[38;5;28;43mself\u001b[39;49m\u001b[38;5;241;43m.\u001b[39;49m\u001b[43mlogger\u001b[49m\u001b[43m,\u001b[49m\n\u001b[0;32m     84\u001b[0m \u001b[43m        \u001b[49m\u001b[43mnum_sanity_val_steps\u001b[49m\u001b[38;5;241;43m=\u001b[39;49m\u001b[38;5;241;43m0\u001b[39;49m\u001b[43m,\u001b[49m\n\u001b[0;32m     85\u001b[0m \u001b[43m        \u001b[49m\u001b[43mdefault_root_dir\u001b[49m\u001b[38;5;241;43m=\u001b[39;49m\u001b[38;5;28;43mself\u001b[39;49m\u001b[38;5;241;43m.\u001b[39;49m\u001b[43mmodel_save_dir\u001b[49m\n\u001b[0;32m     86\u001b[0m \u001b[43m    \u001b[49m\u001b[43m)\u001b[49m\n",
      "File \u001b[1;32mc:\\Users\\razieh\\AppData\\Local\\Programs\\Python\\Python312\\Lib\\site-packages\\lightning\\pytorch\\utilities\\argparse.py:70\u001b[0m, in \u001b[0;36m_defaults_from_env_vars.<locals>.insert_env_defaults\u001b[1;34m(self, *args, **kwargs)\u001b[0m\n\u001b[0;32m     67\u001b[0m kwargs \u001b[38;5;241m=\u001b[39m \u001b[38;5;28mdict\u001b[39m(\u001b[38;5;28mlist\u001b[39m(env_variables\u001b[38;5;241m.\u001b[39mitems()) \u001b[38;5;241m+\u001b[39m \u001b[38;5;28mlist\u001b[39m(kwargs\u001b[38;5;241m.\u001b[39mitems()))\n\u001b[0;32m     69\u001b[0m \u001b[38;5;66;03m# all args were already moved to kwargs\u001b[39;00m\n\u001b[1;32m---> 70\u001b[0m \u001b[38;5;28;01mreturn\u001b[39;00m \u001b[43mfn\u001b[49m\u001b[43m(\u001b[49m\u001b[38;5;28;43mself\u001b[39;49m\u001b[43m,\u001b[49m\u001b[43m \u001b[49m\u001b[38;5;241;43m*\u001b[39;49m\u001b[38;5;241;43m*\u001b[39;49m\u001b[43mkwargs\u001b[49m\u001b[43m)\u001b[49m\n",
      "File \u001b[1;32mc:\\Users\\razieh\\AppData\\Local\\Programs\\Python\\Python312\\Lib\\site-packages\\lightning\\pytorch\\trainer\\trainer.py:401\u001b[0m, in \u001b[0;36mTrainer.__init__\u001b[1;34m(self, accelerator, strategy, devices, num_nodes, precision, logger, callbacks, fast_dev_run, max_epochs, min_epochs, max_steps, min_steps, max_time, limit_train_batches, limit_val_batches, limit_test_batches, limit_predict_batches, overfit_batches, val_check_interval, check_val_every_n_epoch, num_sanity_val_steps, log_every_n_steps, enable_checkpointing, enable_progress_bar, enable_model_summary, accumulate_grad_batches, gradient_clip_val, gradient_clip_algorithm, deterministic, benchmark, inference_mode, use_distributed_sampler, profiler, detect_anomaly, barebones, plugins, sync_batchnorm, reload_dataloaders_every_n_epochs, default_root_dir)\u001b[0m\n\u001b[0;32m    398\u001b[0m \u001b[38;5;66;03m# init connectors\u001b[39;00m\n\u001b[0;32m    399\u001b[0m \u001b[38;5;28mself\u001b[39m\u001b[38;5;241m.\u001b[39m_data_connector \u001b[38;5;241m=\u001b[39m _DataConnector(\u001b[38;5;28mself\u001b[39m)\n\u001b[1;32m--> 401\u001b[0m \u001b[38;5;28mself\u001b[39m\u001b[38;5;241m.\u001b[39m_accelerator_connector \u001b[38;5;241m=\u001b[39m \u001b[43m_AcceleratorConnector\u001b[49m\u001b[43m(\u001b[49m\n\u001b[0;32m    402\u001b[0m \u001b[43m    \u001b[49m\u001b[43mdevices\u001b[49m\u001b[38;5;241;43m=\u001b[39;49m\u001b[43mdevices\u001b[49m\u001b[43m,\u001b[49m\n\u001b[0;32m    403\u001b[0m \u001b[43m    \u001b[49m\u001b[43maccelerator\u001b[49m\u001b[38;5;241;43m=\u001b[39;49m\u001b[43maccelerator\u001b[49m\u001b[43m,\u001b[49m\n\u001b[0;32m    404\u001b[0m \u001b[43m    \u001b[49m\u001b[43mstrategy\u001b[49m\u001b[38;5;241;43m=\u001b[39;49m\u001b[43mstrategy\u001b[49m\u001b[43m,\u001b[49m\n\u001b[0;32m    405\u001b[0m \u001b[43m    \u001b[49m\u001b[43mnum_nodes\u001b[49m\u001b[38;5;241;43m=\u001b[39;49m\u001b[43mnum_nodes\u001b[49m\u001b[43m,\u001b[49m\n\u001b[0;32m    406\u001b[0m \u001b[43m    \u001b[49m\u001b[43msync_batchnorm\u001b[49m\u001b[38;5;241;43m=\u001b[39;49m\u001b[43msync_batchnorm\u001b[49m\u001b[43m,\u001b[49m\n\u001b[0;32m    407\u001b[0m \u001b[43m    \u001b[49m\u001b[43mbenchmark\u001b[49m\u001b[38;5;241;43m=\u001b[39;49m\u001b[43mbenchmark\u001b[49m\u001b[43m,\u001b[49m\n\u001b[0;32m    408\u001b[0m \u001b[43m    \u001b[49m\u001b[43muse_distributed_sampler\u001b[49m\u001b[38;5;241;43m=\u001b[39;49m\u001b[43muse_distributed_sampler\u001b[49m\u001b[43m,\u001b[49m\n\u001b[0;32m    409\u001b[0m \u001b[43m    \u001b[49m\u001b[43mdeterministic\u001b[49m\u001b[38;5;241;43m=\u001b[39;49m\u001b[43mdeterministic\u001b[49m\u001b[43m,\u001b[49m\n\u001b[0;32m    410\u001b[0m \u001b[43m    \u001b[49m\u001b[43mprecision\u001b[49m\u001b[38;5;241;43m=\u001b[39;49m\u001b[43mprecision\u001b[49m\u001b[43m,\u001b[49m\n\u001b[0;32m    411\u001b[0m \u001b[43m    \u001b[49m\u001b[43mplugins\u001b[49m\u001b[38;5;241;43m=\u001b[39;49m\u001b[43mplugins\u001b[49m\u001b[43m,\u001b[49m\n\u001b[0;32m    412\u001b[0m \u001b[43m\u001b[49m\u001b[43m)\u001b[49m\n\u001b[0;32m    413\u001b[0m \u001b[38;5;28mself\u001b[39m\u001b[38;5;241m.\u001b[39m_logger_connector \u001b[38;5;241m=\u001b[39m _LoggerConnector(\u001b[38;5;28mself\u001b[39m)\n\u001b[0;32m    414\u001b[0m \u001b[38;5;28mself\u001b[39m\u001b[38;5;241m.\u001b[39m_callback_connector \u001b[38;5;241m=\u001b[39m _CallbackConnector(\u001b[38;5;28mself\u001b[39m)\n",
      "File \u001b[1;32mc:\\Users\\razieh\\AppData\\Local\\Programs\\Python\\Python312\\Lib\\site-packages\\lightning\\pytorch\\trainer\\connectors\\accelerator_connector.py:146\u001b[0m, in \u001b[0;36m_AcceleratorConnector.__init__\u001b[1;34m(self, devices, num_nodes, accelerator, strategy, plugins, precision, sync_batchnorm, benchmark, use_distributed_sampler, deterministic)\u001b[0m\n\u001b[0;32m    144\u001b[0m     \u001b[38;5;28mself\u001b[39m\u001b[38;5;241m.\u001b[39m_accelerator_flag \u001b[38;5;241m=\u001b[39m \u001b[38;5;28mself\u001b[39m\u001b[38;5;241m.\u001b[39m_choose_auto_accelerator()\n\u001b[0;32m    145\u001b[0m \u001b[38;5;28;01melif\u001b[39;00m \u001b[38;5;28mself\u001b[39m\u001b[38;5;241m.\u001b[39m_accelerator_flag \u001b[38;5;241m==\u001b[39m \u001b[38;5;124m\"\u001b[39m\u001b[38;5;124mgpu\u001b[39m\u001b[38;5;124m\"\u001b[39m:\n\u001b[1;32m--> 146\u001b[0m     \u001b[38;5;28mself\u001b[39m\u001b[38;5;241m.\u001b[39m_accelerator_flag \u001b[38;5;241m=\u001b[39m \u001b[38;5;28;43mself\u001b[39;49m\u001b[38;5;241;43m.\u001b[39;49m\u001b[43m_choose_gpu_accelerator_backend\u001b[49m\u001b[43m(\u001b[49m\u001b[43m)\u001b[49m\n\u001b[0;32m    148\u001b[0m \u001b[38;5;28mself\u001b[39m\u001b[38;5;241m.\u001b[39m_check_device_config_and_set_final_flags(devices\u001b[38;5;241m=\u001b[39mdevices, num_nodes\u001b[38;5;241m=\u001b[39mnum_nodes)\n\u001b[0;32m    149\u001b[0m \u001b[38;5;28mself\u001b[39m\u001b[38;5;241m.\u001b[39m_set_parallel_devices_and_init_accelerator()\n",
      "File \u001b[1;32mc:\\Users\\razieh\\AppData\\Local\\Programs\\Python\\Python312\\Lib\\site-packages\\lightning\\pytorch\\trainer\\connectors\\accelerator_connector.py:366\u001b[0m, in \u001b[0;36m_AcceleratorConnector._choose_gpu_accelerator_backend\u001b[1;34m()\u001b[0m\n\u001b[0;32m    364\u001b[0m \u001b[38;5;28;01mif\u001b[39;00m CUDAAccelerator\u001b[38;5;241m.\u001b[39mis_available():\n\u001b[0;32m    365\u001b[0m     \u001b[38;5;28;01mreturn\u001b[39;00m \u001b[38;5;124m\"\u001b[39m\u001b[38;5;124mcuda\u001b[39m\u001b[38;5;124m\"\u001b[39m\n\u001b[1;32m--> 366\u001b[0m \u001b[38;5;28;01mraise\u001b[39;00m MisconfigurationException(\u001b[38;5;124m\"\u001b[39m\u001b[38;5;124mNo supported gpu backend found!\u001b[39m\u001b[38;5;124m\"\u001b[39m)\n",
      "\u001b[1;31mMisconfigurationException\u001b[0m: No supported gpu backend found!"
     ]
    }
   ],
   "source": [
    "for i in range(1):\n",
    "    for k in edge_type_weights:\n",
    "        graph_embedding = HeteroDeepGraphEmbedding8(300, 4, metadata, 32, dropout=0.1, edge_type_count=1, edge_type_weights=edge_type_weights[k])\n",
    "        graph_embedding = graph_embedding.to(device)\n",
    "        callbacks = [\n",
    "        ModelCheckpoint(save_top_k=5, mode='max', monitor='val_acc', save_last=True)\n",
    "        ]\n",
    "        loss_func = MulticlassHeteroLoss2(exception_keys=['word'], enc_factor=0.0003)\n",
    "        optimizer = torch.optim.Adam(graph_embedding.parameters(), lr=0.0045, weight_decay=0.00125)\n",
    "        lr_scheduler = torch.optim.lr_scheduler.MultiStepLR(optimizer, milestones=[6, 13, 28, 45, 60], gamma=0.5, verbose=True)\n",
    "        lightning_model = HeteroMultiClassLightningModel(graph_embedding, 4,\n",
    "                                            optimizer=optimizer,\n",
    "                                            loss_func=loss_func,\n",
    "                                            learning_rate=0.045,\n",
    "                                            batch_size=batch_size,\n",
    "                                            user_lr_scheduler=True,\n",
    "                                            lr_scheduler=lr_scheduler,\n",
    "                                            min_lr=0.0005\n",
    "                                            ).to(device)\n",
    "        lightning_model.model.to(device)\n",
    "            \n",
    "        model_manager = ClassifierModelManager(graph_embedding, lightning_model, log_name='hetero_model_20_AG',device=device, num_train_epoch=70)\n",
    "        model_manager.fit(datamodule=data_manager)\n",
    "        model_manager.save_plot_csv_logger(loss_names=['train_loss_epoch', 'val_loss'], eval_names=['train_acc_epoch', 'val_acc'], name_prepend=f'tests_{i}_{k}')\n",
    "        model_manager.torch_model = model_manager.torch_model.to(device)\n",
    "        save_evaluation(model_manager, data_manager.val_dataloader(), f'{i}_{k}',True, True, True, True, True, True, True, multi_class=True)"
   ]
  },
  {
   "cell_type": "code",
   "execution_count": null,
   "metadata": {},
   "outputs": [
    {
     "name": "stderr",
     "output_type": "stream",
     "text": [
      "C:\\Users\\fardin\\AppData\\Local\\Temp\\ipykernel_19828\\3027434874.py:57: UserWarning: To copy construct from a tensor, it is recommended to use sourceTensor.clone().detach() or sourceTensor.clone().detach().requires_grad_(True), rather than torch.tensor(sourceTensor).\n",
      "  self.pw1 = torch.nn.Parameter(torch.tensor(self.edge_type_weights, dtype=torch.float32), requires_grad=False)\n"
     ]
    },
    {
     "name": "stdout",
     "output_type": "stream",
     "text": [
      "Adjusting learning rate of group 0 to 4.5000e-03.\n"
     ]
    },
    {
     "name": "stderr",
     "output_type": "stream",
     "text": [
      "GPU available: True (cuda), used: True\n",
      "TPU available: False, using: 0 TPU cores\n",
      "IPU available: False, using: 0 IPUs\n",
      "HPU available: False, using: 0 HPUs\n",
      "LOCAL_RANK: 0 - CUDA_VISIBLE_DEVICES: [0]\n",
      "\n",
      "  | Name      | Type                      | Params\n",
      "--------------------------------------------------------\n",
      "0 | model     | HeteroDeepGraphEmbedding6 | 94.8 K\n",
      "1 | loss_func | MulticlassHeteroLoss2     | 0     \n",
      "2 | train_acc | MulticlassAccuracy        | 0     \n",
      "3 | val_acc   | MulticlassAccuracy        | 0     \n",
      "4 | test_acc  | MulticlassAccuracy        | 0     \n",
      "--------------------------------------------------------\n",
      "94.8 K    Trainable params\n",
      "23        Non-trainable params\n",
      "94.8 K    Total params\n",
      "0.379     Total estimated model params size (MB)\n"
     ]
    },
    {
     "name": "stdout",
     "output_type": "stream",
     "text": [
      "bbbb\n"
     ]
    },
    {
     "data": {
      "application/vnd.jupyter.widget-view+json": {
       "model_id": "2cb10d07c25f47c6abd399f30a16f64a",
       "version_major": 2,
       "version_minor": 0
      },
      "text/plain": [
       "Training: |          | 0/? [00:00<?, ?it/s]"
      ]
     },
     "metadata": {},
     "output_type": "display_data"
    },
    {
     "name": "stdout",
     "output_type": "stream",
     "text": [
      "Adjusting learning rate of group 0 to 4.5000e-03.\n"
     ]
    },
    {
     "data": {
      "application/vnd.jupyter.widget-view+json": {
       "model_id": "f6f1d6cfb1a84fa983043f2b089a22fb",
       "version_major": 2,
       "version_minor": 0
      },
      "text/plain": [
       "Validation: |          | 0/? [00:00<?, ?it/s]"
      ]
     },
     "metadata": {},
     "output_type": "display_data"
    },
    {
     "name": "stdout",
     "output_type": "stream",
     "text": [
      "Adjusting learning rate of group 0 to 4.5000e-03.\n"
     ]
    },
    {
     "data": {
      "application/vnd.jupyter.widget-view+json": {
       "model_id": "6eb5213de92648859f54e08698f305a3",
       "version_major": 2,
       "version_minor": 0
      },
      "text/plain": [
       "Validation: |          | 0/? [00:00<?, ?it/s]"
      ]
     },
     "metadata": {},
     "output_type": "display_data"
    },
    {
     "name": "stdout",
     "output_type": "stream",
     "text": [
      "Adjusting learning rate of group 0 to 4.5000e-03.\n"
     ]
    },
    {
     "data": {
      "application/vnd.jupyter.widget-view+json": {
       "model_id": "111d9e6e71e74534a8aedea746f0bb33",
       "version_major": 2,
       "version_minor": 0
      },
      "text/plain": [
       "Validation: |          | 0/? [00:00<?, ?it/s]"
      ]
     },
     "metadata": {},
     "output_type": "display_data"
    },
    {
     "name": "stdout",
     "output_type": "stream",
     "text": [
      "Adjusting learning rate of group 0 to 4.5000e-03.\n"
     ]
    },
    {
     "data": {
      "application/vnd.jupyter.widget-view+json": {
       "model_id": "bb786af5b9854a8a8303ca22964d5628",
       "version_major": 2,
       "version_minor": 0
      },
      "text/plain": [
       "Validation: |          | 0/? [00:00<?, ?it/s]"
      ]
     },
     "metadata": {},
     "output_type": "display_data"
    },
    {
     "name": "stdout",
     "output_type": "stream",
     "text": [
      "Adjusting learning rate of group 0 to 4.5000e-03.\n"
     ]
    },
    {
     "data": {
      "application/vnd.jupyter.widget-view+json": {
       "model_id": "cc2e3d35977d4904812b28e6a4d7b079",
       "version_major": 2,
       "version_minor": 0
      },
      "text/plain": [
       "Validation: |          | 0/? [00:00<?, ?it/s]"
      ]
     },
     "metadata": {},
     "output_type": "display_data"
    },
    {
     "name": "stdout",
     "output_type": "stream",
     "text": [
      "Adjusting learning rate of group 0 to 2.2500e-03.\n"
     ]
    },
    {
     "data": {
      "application/vnd.jupyter.widget-view+json": {
       "model_id": "b2b8042396154edd9d3885d55eda279b",
       "version_major": 2,
       "version_minor": 0
      },
      "text/plain": [
       "Validation: |          | 0/? [00:00<?, ?it/s]"
      ]
     },
     "metadata": {},
     "output_type": "display_data"
    },
    {
     "name": "stdout",
     "output_type": "stream",
     "text": [
      "Adjusting learning rate of group 0 to 2.2500e-03.\n"
     ]
    },
    {
     "data": {
      "application/vnd.jupyter.widget-view+json": {
       "model_id": "3143952784de4b8eb8c0697a7a3e84e1",
       "version_major": 2,
       "version_minor": 0
      },
      "text/plain": [
       "Validation: |          | 0/? [00:00<?, ?it/s]"
      ]
     },
     "metadata": {},
     "output_type": "display_data"
    },
    {
     "name": "stdout",
     "output_type": "stream",
     "text": [
      "Adjusting learning rate of group 0 to 2.2500e-03.\n"
     ]
    },
    {
     "data": {
      "application/vnd.jupyter.widget-view+json": {
       "model_id": "a3379cbd838946ec9601e68e6ec6149d",
       "version_major": 2,
       "version_minor": 0
      },
      "text/plain": [
       "Validation: |          | 0/? [00:00<?, ?it/s]"
      ]
     },
     "metadata": {},
     "output_type": "display_data"
    },
    {
     "name": "stdout",
     "output_type": "stream",
     "text": [
      "Adjusting learning rate of group 0 to 2.2500e-03.\n"
     ]
    },
    {
     "data": {
      "application/vnd.jupyter.widget-view+json": {
       "model_id": "184d35a6ac2b4bc3b584b57d961682c0",
       "version_major": 2,
       "version_minor": 0
      },
      "text/plain": [
       "Validation: |          | 0/? [00:00<?, ?it/s]"
      ]
     },
     "metadata": {},
     "output_type": "display_data"
    },
    {
     "name": "stdout",
     "output_type": "stream",
     "text": [
      "Adjusting learning rate of group 0 to 2.2500e-03.\n"
     ]
    },
    {
     "data": {
      "application/vnd.jupyter.widget-view+json": {
       "model_id": "1e8c16090f1549d3832f86ba3b3b474f",
       "version_major": 2,
       "version_minor": 0
      },
      "text/plain": [
       "Validation: |          | 0/? [00:00<?, ?it/s]"
      ]
     },
     "metadata": {},
     "output_type": "display_data"
    },
    {
     "name": "stdout",
     "output_type": "stream",
     "text": [
      "Adjusting learning rate of group 0 to 2.2500e-03.\n"
     ]
    },
    {
     "data": {
      "application/vnd.jupyter.widget-view+json": {
       "model_id": "6c500ccc49704ab3938e557a3cf0d875",
       "version_major": 2,
       "version_minor": 0
      },
      "text/plain": [
       "Validation: |          | 0/? [00:00<?, ?it/s]"
      ]
     },
     "metadata": {},
     "output_type": "display_data"
    },
    {
     "name": "stdout",
     "output_type": "stream",
     "text": [
      "Adjusting learning rate of group 0 to 2.2500e-03.\n"
     ]
    },
    {
     "data": {
      "application/vnd.jupyter.widget-view+json": {
       "model_id": "a3b555339c4d4867ad59f29a6df0f513",
       "version_major": 2,
       "version_minor": 0
      },
      "text/plain": [
       "Validation: |          | 0/? [00:00<?, ?it/s]"
      ]
     },
     "metadata": {},
     "output_type": "display_data"
    },
    {
     "name": "stdout",
     "output_type": "stream",
     "text": [
      "Adjusting learning rate of group 0 to 1.1250e-03.\n"
     ]
    },
    {
     "data": {
      "application/vnd.jupyter.widget-view+json": {
       "model_id": "3fd41783cee64cf8be015754b8976a26",
       "version_major": 2,
       "version_minor": 0
      },
      "text/plain": [
       "Validation: |          | 0/? [00:00<?, ?it/s]"
      ]
     },
     "metadata": {},
     "output_type": "display_data"
    },
    {
     "name": "stdout",
     "output_type": "stream",
     "text": [
      "Adjusting learning rate of group 0 to 1.1250e-03.\n"
     ]
    },
    {
     "data": {
      "application/vnd.jupyter.widget-view+json": {
       "model_id": "3d6801fffc4b4b7aadc8889ab5ba7f19",
       "version_major": 2,
       "version_minor": 0
      },
      "text/plain": [
       "Validation: |          | 0/? [00:00<?, ?it/s]"
      ]
     },
     "metadata": {},
     "output_type": "display_data"
    },
    {
     "name": "stdout",
     "output_type": "stream",
     "text": [
      "Adjusting learning rate of group 0 to 1.1250e-03.\n"
     ]
    },
    {
     "data": {
      "application/vnd.jupyter.widget-view+json": {
       "model_id": "a513908ab10940afa8f175465d6e876d",
       "version_major": 2,
       "version_minor": 0
      },
      "text/plain": [
       "Validation: |          | 0/? [00:00<?, ?it/s]"
      ]
     },
     "metadata": {},
     "output_type": "display_data"
    },
    {
     "name": "stdout",
     "output_type": "stream",
     "text": [
      "Adjusting learning rate of group 0 to 1.1250e-03.\n"
     ]
    },
    {
     "data": {
      "application/vnd.jupyter.widget-view+json": {
       "model_id": "84adf436e2044978a5cec99c6d633550",
       "version_major": 2,
       "version_minor": 0
      },
      "text/plain": [
       "Validation: |          | 0/? [00:00<?, ?it/s]"
      ]
     },
     "metadata": {},
     "output_type": "display_data"
    },
    {
     "name": "stdout",
     "output_type": "stream",
     "text": [
      "Adjusting learning rate of group 0 to 1.1250e-03.\n"
     ]
    },
    {
     "data": {
      "application/vnd.jupyter.widget-view+json": {
       "model_id": "0183b147bc1948e1b6f1a23bc0e20c0c",
       "version_major": 2,
       "version_minor": 0
      },
      "text/plain": [
       "Validation: |          | 0/? [00:00<?, ?it/s]"
      ]
     },
     "metadata": {},
     "output_type": "display_data"
    },
    {
     "name": "stdout",
     "output_type": "stream",
     "text": [
      "Adjusting learning rate of group 0 to 1.1250e-03.\n"
     ]
    },
    {
     "data": {
      "application/vnd.jupyter.widget-view+json": {
       "model_id": "f380adcef1b945e1b4e0d44372e27c03",
       "version_major": 2,
       "version_minor": 0
      },
      "text/plain": [
       "Validation: |          | 0/? [00:00<?, ?it/s]"
      ]
     },
     "metadata": {},
     "output_type": "display_data"
    },
    {
     "name": "stdout",
     "output_type": "stream",
     "text": [
      "Adjusting learning rate of group 0 to 1.1250e-03.\n"
     ]
    },
    {
     "data": {
      "application/vnd.jupyter.widget-view+json": {
       "model_id": "0d812b64599946569f7716f4e9b9d50f",
       "version_major": 2,
       "version_minor": 0
      },
      "text/plain": [
       "Validation: |          | 0/? [00:00<?, ?it/s]"
      ]
     },
     "metadata": {},
     "output_type": "display_data"
    },
    {
     "name": "stdout",
     "output_type": "stream",
     "text": [
      "Adjusting learning rate of group 0 to 1.1250e-03.\n"
     ]
    },
    {
     "data": {
      "application/vnd.jupyter.widget-view+json": {
       "model_id": "7f9f48ecc21b4bffb97c341e820bec0b",
       "version_major": 2,
       "version_minor": 0
      },
      "text/plain": [
       "Validation: |          | 0/? [00:00<?, ?it/s]"
      ]
     },
     "metadata": {},
     "output_type": "display_data"
    },
    {
     "name": "stdout",
     "output_type": "stream",
     "text": [
      "Adjusting learning rate of group 0 to 1.1250e-03.\n"
     ]
    },
    {
     "data": {
      "application/vnd.jupyter.widget-view+json": {
       "model_id": "23a78183f67c4b15a2726a5ac8aab08d",
       "version_major": 2,
       "version_minor": 0
      },
      "text/plain": [
       "Validation: |          | 0/? [00:00<?, ?it/s]"
      ]
     },
     "metadata": {},
     "output_type": "display_data"
    },
    {
     "name": "stdout",
     "output_type": "stream",
     "text": [
      "Adjusting learning rate of group 0 to 1.1250e-03.\n"
     ]
    },
    {
     "data": {
      "application/vnd.jupyter.widget-view+json": {
       "model_id": "00166d221b3c462faf81adb444ce1a36",
       "version_major": 2,
       "version_minor": 0
      },
      "text/plain": [
       "Validation: |          | 0/? [00:00<?, ?it/s]"
      ]
     },
     "metadata": {},
     "output_type": "display_data"
    },
    {
     "name": "stdout",
     "output_type": "stream",
     "text": [
      "Adjusting learning rate of group 0 to 1.1250e-03.\n"
     ]
    },
    {
     "data": {
      "application/vnd.jupyter.widget-view+json": {
       "model_id": "0e26f96738b64bb4aae1d60e4d9fdce0",
       "version_major": 2,
       "version_minor": 0
      },
      "text/plain": [
       "Validation: |          | 0/? [00:00<?, ?it/s]"
      ]
     },
     "metadata": {},
     "output_type": "display_data"
    },
    {
     "name": "stdout",
     "output_type": "stream",
     "text": [
      "Adjusting learning rate of group 0 to 1.1250e-03.\n"
     ]
    },
    {
     "data": {
      "application/vnd.jupyter.widget-view+json": {
       "model_id": "9568eb9d25c7499f8ba910592755bff7",
       "version_major": 2,
       "version_minor": 0
      },
      "text/plain": [
       "Validation: |          | 0/? [00:00<?, ?it/s]"
      ]
     },
     "metadata": {},
     "output_type": "display_data"
    },
    {
     "name": "stdout",
     "output_type": "stream",
     "text": [
      "Adjusting learning rate of group 0 to 1.1250e-03.\n"
     ]
    },
    {
     "data": {
      "application/vnd.jupyter.widget-view+json": {
       "model_id": "53913e935c2f4274883c9afbcb4e479b",
       "version_major": 2,
       "version_minor": 0
      },
      "text/plain": [
       "Validation: |          | 0/? [00:00<?, ?it/s]"
      ]
     },
     "metadata": {},
     "output_type": "display_data"
    },
    {
     "name": "stdout",
     "output_type": "stream",
     "text": [
      "Adjusting learning rate of group 0 to 1.1250e-03.\n"
     ]
    },
    {
     "data": {
      "application/vnd.jupyter.widget-view+json": {
       "model_id": "4314c73abc214a0d951020ca244c26e4",
       "version_major": 2,
       "version_minor": 0
      },
      "text/plain": [
       "Validation: |          | 0/? [00:00<?, ?it/s]"
      ]
     },
     "metadata": {},
     "output_type": "display_data"
    },
    {
     "name": "stdout",
     "output_type": "stream",
     "text": [
      "Adjusting learning rate of group 0 to 1.1250e-03.\n"
     ]
    },
    {
     "data": {
      "application/vnd.jupyter.widget-view+json": {
       "model_id": "430ef183604f4b8c84ceba9d85605888",
       "version_major": 2,
       "version_minor": 0
      },
      "text/plain": [
       "Validation: |          | 0/? [00:00<?, ?it/s]"
      ]
     },
     "metadata": {},
     "output_type": "display_data"
    },
    {
     "name": "stdout",
     "output_type": "stream",
     "text": [
      "Adjusting learning rate of group 0 to 5.6250e-04.\n"
     ]
    },
    {
     "data": {
      "application/vnd.jupyter.widget-view+json": {
       "model_id": "47706e8796bc433a8cb664cd4881ffbf",
       "version_major": 2,
       "version_minor": 0
      },
      "text/plain": [
       "Validation: |          | 0/? [00:00<?, ?it/s]"
      ]
     },
     "metadata": {},
     "output_type": "display_data"
    },
    {
     "name": "stdout",
     "output_type": "stream",
     "text": [
      "Adjusting learning rate of group 0 to 5.6250e-04.\n"
     ]
    },
    {
     "data": {
      "application/vnd.jupyter.widget-view+json": {
       "model_id": "959ec7069d4540e6b99e18fb5e8c5cb7",
       "version_major": 2,
       "version_minor": 0
      },
      "text/plain": [
       "Validation: |          | 0/? [00:00<?, ?it/s]"
      ]
     },
     "metadata": {},
     "output_type": "display_data"
    },
    {
     "name": "stdout",
     "output_type": "stream",
     "text": [
      "Adjusting learning rate of group 0 to 5.6250e-04.\n"
     ]
    },
    {
     "data": {
      "application/vnd.jupyter.widget-view+json": {
       "model_id": "e860c07a7a724e69ad89d61ab95a3b5d",
       "version_major": 2,
       "version_minor": 0
      },
      "text/plain": [
       "Validation: |          | 0/? [00:00<?, ?it/s]"
      ]
     },
     "metadata": {},
     "output_type": "display_data"
    },
    {
     "name": "stdout",
     "output_type": "stream",
     "text": [
      "Adjusting learning rate of group 0 to 5.6250e-04.\n"
     ]
    },
    {
     "data": {
      "application/vnd.jupyter.widget-view+json": {
       "model_id": "96e9d7131b4d4455b30c3fd9882f610a",
       "version_major": 2,
       "version_minor": 0
      },
      "text/plain": [
       "Validation: |          | 0/? [00:00<?, ?it/s]"
      ]
     },
     "metadata": {},
     "output_type": "display_data"
    },
    {
     "name": "stdout",
     "output_type": "stream",
     "text": [
      "Adjusting learning rate of group 0 to 5.6250e-04.\n"
     ]
    },
    {
     "data": {
      "application/vnd.jupyter.widget-view+json": {
       "model_id": "77c496d9812f448dbfd8a44b0c051158",
       "version_major": 2,
       "version_minor": 0
      },
      "text/plain": [
       "Validation: |          | 0/? [00:00<?, ?it/s]"
      ]
     },
     "metadata": {},
     "output_type": "display_data"
    },
    {
     "name": "stdout",
     "output_type": "stream",
     "text": [
      "Adjusting learning rate of group 0 to 5.6250e-04.\n"
     ]
    },
    {
     "data": {
      "application/vnd.jupyter.widget-view+json": {
       "model_id": "7ff9aa76b6d547d99ee863b583b139a2",
       "version_major": 2,
       "version_minor": 0
      },
      "text/plain": [
       "Validation: |          | 0/? [00:00<?, ?it/s]"
      ]
     },
     "metadata": {},
     "output_type": "display_data"
    },
    {
     "name": "stdout",
     "output_type": "stream",
     "text": [
      "Adjusting learning rate of group 0 to 5.6250e-04.\n"
     ]
    },
    {
     "data": {
      "application/vnd.jupyter.widget-view+json": {
       "model_id": "f0cba6899e3b4cb0958b8aacbcf779f4",
       "version_major": 2,
       "version_minor": 0
      },
      "text/plain": [
       "Validation: |          | 0/? [00:00<?, ?it/s]"
      ]
     },
     "metadata": {},
     "output_type": "display_data"
    },
    {
     "name": "stdout",
     "output_type": "stream",
     "text": [
      "Adjusting learning rate of group 0 to 5.6250e-04.\n"
     ]
    },
    {
     "data": {
      "application/vnd.jupyter.widget-view+json": {
       "model_id": "1de7c3fbe0834bef90be6fc1ef5ba63c",
       "version_major": 2,
       "version_minor": 0
      },
      "text/plain": [
       "Validation: |          | 0/? [00:00<?, ?it/s]"
      ]
     },
     "metadata": {},
     "output_type": "display_data"
    },
    {
     "name": "stdout",
     "output_type": "stream",
     "text": [
      "Adjusting learning rate of group 0 to 5.6250e-04.\n"
     ]
    },
    {
     "data": {
      "application/vnd.jupyter.widget-view+json": {
       "model_id": "36d36da8cb224c7ebb5be77052cb5e46",
       "version_major": 2,
       "version_minor": 0
      },
      "text/plain": [
       "Validation: |          | 0/? [00:00<?, ?it/s]"
      ]
     },
     "metadata": {},
     "output_type": "display_data"
    },
    {
     "name": "stdout",
     "output_type": "stream",
     "text": [
      "Adjusting learning rate of group 0 to 5.6250e-04.\n"
     ]
    },
    {
     "data": {
      "application/vnd.jupyter.widget-view+json": {
       "model_id": "2cc2d23ebdce4466ae308a03bc3bd90e",
       "version_major": 2,
       "version_minor": 0
      },
      "text/plain": [
       "Validation: |          | 0/? [00:00<?, ?it/s]"
      ]
     },
     "metadata": {},
     "output_type": "display_data"
    },
    {
     "name": "stdout",
     "output_type": "stream",
     "text": [
      "Adjusting learning rate of group 0 to 5.6250e-04.\n"
     ]
    },
    {
     "data": {
      "application/vnd.jupyter.widget-view+json": {
       "model_id": "11ed97c9fa4e4c2b85ed0d80fcf650aa",
       "version_major": 2,
       "version_minor": 0
      },
      "text/plain": [
       "Validation: |          | 0/? [00:00<?, ?it/s]"
      ]
     },
     "metadata": {},
     "output_type": "display_data"
    },
    {
     "name": "stdout",
     "output_type": "stream",
     "text": [
      "Adjusting learning rate of group 0 to 5.6250e-04.\n"
     ]
    },
    {
     "data": {
      "application/vnd.jupyter.widget-view+json": {
       "model_id": "93b22ad865074b2b8b00b88c7a73fe2d",
       "version_major": 2,
       "version_minor": 0
      },
      "text/plain": [
       "Validation: |          | 0/? [00:00<?, ?it/s]"
      ]
     },
     "metadata": {},
     "output_type": "display_data"
    },
    {
     "name": "stdout",
     "output_type": "stream",
     "text": [
      "Adjusting learning rate of group 0 to 5.6250e-04.\n"
     ]
    },
    {
     "data": {
      "application/vnd.jupyter.widget-view+json": {
       "model_id": "11c12ce0702d4775b6d07cc01a85faa1",
       "version_major": 2,
       "version_minor": 0
      },
      "text/plain": [
       "Validation: |          | 0/? [00:00<?, ?it/s]"
      ]
     },
     "metadata": {},
     "output_type": "display_data"
    },
    {
     "name": "stdout",
     "output_type": "stream",
     "text": [
      "Adjusting learning rate of group 0 to 5.6250e-04.\n"
     ]
    },
    {
     "data": {
      "application/vnd.jupyter.widget-view+json": {
       "model_id": "631f529395324dbb9163866319f804a0",
       "version_major": 2,
       "version_minor": 0
      },
      "text/plain": [
       "Validation: |          | 0/? [00:00<?, ?it/s]"
      ]
     },
     "metadata": {},
     "output_type": "display_data"
    },
    {
     "name": "stdout",
     "output_type": "stream",
     "text": [
      "Adjusting learning rate of group 0 to 5.6250e-04.\n"
     ]
    },
    {
     "data": {
      "application/vnd.jupyter.widget-view+json": {
       "model_id": "b4ae377c607549d6bc440deddf7075a0",
       "version_major": 2,
       "version_minor": 0
      },
      "text/plain": [
       "Validation: |          | 0/? [00:00<?, ?it/s]"
      ]
     },
     "metadata": {},
     "output_type": "display_data"
    },
    {
     "name": "stdout",
     "output_type": "stream",
     "text": [
      "Adjusting learning rate of group 0 to 5.6250e-04.\n"
     ]
    },
    {
     "data": {
      "application/vnd.jupyter.widget-view+json": {
       "model_id": "b71f12e7cad34f90b669f8f5406ceccb",
       "version_major": 2,
       "version_minor": 0
      },
      "text/plain": [
       "Validation: |          | 0/? [00:00<?, ?it/s]"
      ]
     },
     "metadata": {},
     "output_type": "display_data"
    },
    {
     "name": "stdout",
     "output_type": "stream",
     "text": [
      "Adjusting learning rate of group 0 to 5.6250e-04.\n"
     ]
    },
    {
     "data": {
      "application/vnd.jupyter.widget-view+json": {
       "model_id": "1595c91c63af4a77a2ddd3b1d7304e95",
       "version_major": 2,
       "version_minor": 0
      },
      "text/plain": [
       "Validation: |          | 0/? [00:00<?, ?it/s]"
      ]
     },
     "metadata": {},
     "output_type": "display_data"
    },
    {
     "name": "stdout",
     "output_type": "stream",
     "text": [
      "Adjusting learning rate of group 0 to 2.8125e-04.\n"
     ]
    },
    {
     "data": {
      "application/vnd.jupyter.widget-view+json": {
       "model_id": "f5f1933fed5c4ee2be8bc0a2fd64803e",
       "version_major": 2,
       "version_minor": 0
      },
      "text/plain": [
       "Validation: |          | 0/? [00:00<?, ?it/s]"
      ]
     },
     "metadata": {},
     "output_type": "display_data"
    },
    {
     "name": "stdout",
     "output_type": "stream",
     "text": [
      "Adjusting learning rate of group 0 to 2.8125e-04.\n"
     ]
    },
    {
     "data": {
      "application/vnd.jupyter.widget-view+json": {
       "model_id": "ab5a6f03558d452bb8be0adb1c1a22fc",
       "version_major": 2,
       "version_minor": 0
      },
      "text/plain": [
       "Validation: |          | 0/? [00:00<?, ?it/s]"
      ]
     },
     "metadata": {},
     "output_type": "display_data"
    },
    {
     "name": "stdout",
     "output_type": "stream",
     "text": [
      "Adjusting learning rate of group 0 to 2.8125e-04.\n"
     ]
    },
    {
     "data": {
      "application/vnd.jupyter.widget-view+json": {
       "model_id": "f115178b521a4e07b402db34f2c5936a",
       "version_major": 2,
       "version_minor": 0
      },
      "text/plain": [
       "Validation: |          | 0/? [00:00<?, ?it/s]"
      ]
     },
     "metadata": {},
     "output_type": "display_data"
    },
    {
     "name": "stdout",
     "output_type": "stream",
     "text": [
      "Adjusting learning rate of group 0 to 2.8125e-04.\n"
     ]
    },
    {
     "data": {
      "application/vnd.jupyter.widget-view+json": {
       "model_id": "617b353fa706400d83bb061c4b9b1255",
       "version_major": 2,
       "version_minor": 0
      },
      "text/plain": [
       "Validation: |          | 0/? [00:00<?, ?it/s]"
      ]
     },
     "metadata": {},
     "output_type": "display_data"
    },
    {
     "name": "stdout",
     "output_type": "stream",
     "text": [
      "Adjusting learning rate of group 0 to 2.8125e-04.\n"
     ]
    },
    {
     "data": {
      "application/vnd.jupyter.widget-view+json": {
       "model_id": "462342d1b7d748ef916a1246e3ff50f0",
       "version_major": 2,
       "version_minor": 0
      },
      "text/plain": [
       "Validation: |          | 0/? [00:00<?, ?it/s]"
      ]
     },
     "metadata": {},
     "output_type": "display_data"
    },
    {
     "name": "stdout",
     "output_type": "stream",
     "text": [
      "Adjusting learning rate of group 0 to 2.8125e-04.\n"
     ]
    },
    {
     "data": {
      "application/vnd.jupyter.widget-view+json": {
       "model_id": "f90bcbb8dcdc410199c95e6f82eb9d0d",
       "version_major": 2,
       "version_minor": 0
      },
      "text/plain": [
       "Validation: |          | 0/? [00:00<?, ?it/s]"
      ]
     },
     "metadata": {},
     "output_type": "display_data"
    },
    {
     "name": "stdout",
     "output_type": "stream",
     "text": [
      "Adjusting learning rate of group 0 to 2.8125e-04.\n"
     ]
    },
    {
     "data": {
      "application/vnd.jupyter.widget-view+json": {
       "model_id": "07f29942616541a4b5dcb788d8349314",
       "version_major": 2,
       "version_minor": 0
      },
      "text/plain": [
       "Validation: |          | 0/? [00:00<?, ?it/s]"
      ]
     },
     "metadata": {},
     "output_type": "display_data"
    },
    {
     "name": "stdout",
     "output_type": "stream",
     "text": [
      "Adjusting learning rate of group 0 to 2.8125e-04.\n"
     ]
    },
    {
     "data": {
      "application/vnd.jupyter.widget-view+json": {
       "model_id": "7f26bdb264aa4a3d81047b048751a651",
       "version_major": 2,
       "version_minor": 0
      },
      "text/plain": [
       "Validation: |          | 0/? [00:00<?, ?it/s]"
      ]
     },
     "metadata": {},
     "output_type": "display_data"
    },
    {
     "name": "stdout",
     "output_type": "stream",
     "text": [
      "Adjusting learning rate of group 0 to 2.8125e-04.\n"
     ]
    },
    {
     "data": {
      "application/vnd.jupyter.widget-view+json": {
       "model_id": "1adf7d2fdf36475fb51e66db3268e36a",
       "version_major": 2,
       "version_minor": 0
      },
      "text/plain": [
       "Validation: |          | 0/? [00:00<?, ?it/s]"
      ]
     },
     "metadata": {},
     "output_type": "display_data"
    },
    {
     "name": "stdout",
     "output_type": "stream",
     "text": [
      "Adjusting learning rate of group 0 to 2.8125e-04.\n"
     ]
    },
    {
     "data": {
      "application/vnd.jupyter.widget-view+json": {
       "model_id": "85b45e51f75c47c0b8609fab7c03245a",
       "version_major": 2,
       "version_minor": 0
      },
      "text/plain": [
       "Validation: |          | 0/? [00:00<?, ?it/s]"
      ]
     },
     "metadata": {},
     "output_type": "display_data"
    },
    {
     "name": "stdout",
     "output_type": "stream",
     "text": [
      "Adjusting learning rate of group 0 to 2.8125e-04.\n"
     ]
    },
    {
     "data": {
      "application/vnd.jupyter.widget-view+json": {
       "model_id": "e1f8068148d34b6b9ffb593022bb63c4",
       "version_major": 2,
       "version_minor": 0
      },
      "text/plain": [
       "Validation: |          | 0/? [00:00<?, ?it/s]"
      ]
     },
     "metadata": {},
     "output_type": "display_data"
    },
    {
     "name": "stdout",
     "output_type": "stream",
     "text": [
      "Adjusting learning rate of group 0 to 2.8125e-04.\n"
     ]
    },
    {
     "data": {
      "application/vnd.jupyter.widget-view+json": {
       "model_id": "b59fe6c5d8c745ad9bbfde406aa9d3b5",
       "version_major": 2,
       "version_minor": 0
      },
      "text/plain": [
       "Validation: |          | 0/? [00:00<?, ?it/s]"
      ]
     },
     "metadata": {},
     "output_type": "display_data"
    },
    {
     "name": "stdout",
     "output_type": "stream",
     "text": [
      "Adjusting learning rate of group 0 to 2.8125e-04.\n"
     ]
    },
    {
     "data": {
      "application/vnd.jupyter.widget-view+json": {
       "model_id": "ec9bcae0ba314c3889cb330751d5e498",
       "version_major": 2,
       "version_minor": 0
      },
      "text/plain": [
       "Validation: |          | 0/? [00:00<?, ?it/s]"
      ]
     },
     "metadata": {},
     "output_type": "display_data"
    },
    {
     "name": "stdout",
     "output_type": "stream",
     "text": [
      "Adjusting learning rate of group 0 to 2.8125e-04.\n"
     ]
    },
    {
     "data": {
      "application/vnd.jupyter.widget-view+json": {
       "model_id": "7d1b322063144ab393604bb92de64c42",
       "version_major": 2,
       "version_minor": 0
      },
      "text/plain": [
       "Validation: |          | 0/? [00:00<?, ?it/s]"
      ]
     },
     "metadata": {},
     "output_type": "display_data"
    },
    {
     "name": "stdout",
     "output_type": "stream",
     "text": [
      "Adjusting learning rate of group 0 to 2.8125e-04.\n"
     ]
    },
    {
     "data": {
      "application/vnd.jupyter.widget-view+json": {
       "model_id": "10aaaa49bd0247c59c955fc83d9209a0",
       "version_major": 2,
       "version_minor": 0
      },
      "text/plain": [
       "Validation: |          | 0/? [00:00<?, ?it/s]"
      ]
     },
     "metadata": {},
     "output_type": "display_data"
    },
    {
     "name": "stdout",
     "output_type": "stream",
     "text": [
      "Adjusting learning rate of group 0 to 1.4062e-04.\n"
     ]
    },
    {
     "data": {
      "application/vnd.jupyter.widget-view+json": {
       "model_id": "b67262e911884c09865caf0fbfcf10c6",
       "version_major": 2,
       "version_minor": 0
      },
      "text/plain": [
       "Validation: |          | 0/? [00:00<?, ?it/s]"
      ]
     },
     "metadata": {},
     "output_type": "display_data"
    },
    {
     "name": "stdout",
     "output_type": "stream",
     "text": [
      "Adjusting learning rate of group 0 to 1.4062e-04.\n"
     ]
    },
    {
     "data": {
      "application/vnd.jupyter.widget-view+json": {
       "model_id": "a6d4abf6fbf84ecea2e0eaa35f9a9505",
       "version_major": 2,
       "version_minor": 0
      },
      "text/plain": [
       "Validation: |          | 0/? [00:00<?, ?it/s]"
      ]
     },
     "metadata": {},
     "output_type": "display_data"
    },
    {
     "name": "stdout",
     "output_type": "stream",
     "text": [
      "Adjusting learning rate of group 0 to 1.4062e-04.\n"
     ]
    },
    {
     "data": {
      "application/vnd.jupyter.widget-view+json": {
       "model_id": "4f1cce5a44624d9e85751ab206daa870",
       "version_major": 2,
       "version_minor": 0
      },
      "text/plain": [
       "Validation: |          | 0/? [00:00<?, ?it/s]"
      ]
     },
     "metadata": {},
     "output_type": "display_data"
    },
    {
     "name": "stdout",
     "output_type": "stream",
     "text": [
      "Adjusting learning rate of group 0 to 1.4062e-04.\n"
     ]
    },
    {
     "data": {
      "application/vnd.jupyter.widget-view+json": {
       "model_id": "aecc10339dcc44d5b27c9701c9aba19b",
       "version_major": 2,
       "version_minor": 0
      },
      "text/plain": [
       "Validation: |          | 0/? [00:00<?, ?it/s]"
      ]
     },
     "metadata": {},
     "output_type": "display_data"
    },
    {
     "name": "stdout",
     "output_type": "stream",
     "text": [
      "Adjusting learning rate of group 0 to 1.4062e-04.\n"
     ]
    },
    {
     "data": {
      "application/vnd.jupyter.widget-view+json": {
       "model_id": "c28e807239344ea887aa60b951b8d42b",
       "version_major": 2,
       "version_minor": 0
      },
      "text/plain": [
       "Validation: |          | 0/? [00:00<?, ?it/s]"
      ]
     },
     "metadata": {},
     "output_type": "display_data"
    },
    {
     "name": "stdout",
     "output_type": "stream",
     "text": [
      "Adjusting learning rate of group 0 to 1.4062e-04.\n"
     ]
    },
    {
     "data": {
      "application/vnd.jupyter.widget-view+json": {
       "model_id": "d99856a587504d9aa706080928cff774",
       "version_major": 2,
       "version_minor": 0
      },
      "text/plain": [
       "Validation: |          | 0/? [00:00<?, ?it/s]"
      ]
     },
     "metadata": {},
     "output_type": "display_data"
    },
    {
     "name": "stdout",
     "output_type": "stream",
     "text": [
      "Adjusting learning rate of group 0 to 1.4062e-04.\n"
     ]
    },
    {
     "data": {
      "application/vnd.jupyter.widget-view+json": {
       "model_id": "cc65e413e5de4753898392a93452d235",
       "version_major": 2,
       "version_minor": 0
      },
      "text/plain": [
       "Validation: |          | 0/? [00:00<?, ?it/s]"
      ]
     },
     "metadata": {},
     "output_type": "display_data"
    },
    {
     "name": "stdout",
     "output_type": "stream",
     "text": [
      "Adjusting learning rate of group 0 to 1.4062e-04.\n"
     ]
    },
    {
     "data": {
      "application/vnd.jupyter.widget-view+json": {
       "model_id": "3c9758a680f0402c82b4795b3cef1832",
       "version_major": 2,
       "version_minor": 0
      },
      "text/plain": [
       "Validation: |          | 0/? [00:00<?, ?it/s]"
      ]
     },
     "metadata": {},
     "output_type": "display_data"
    },
    {
     "name": "stdout",
     "output_type": "stream",
     "text": [
      "Adjusting learning rate of group 0 to 1.4062e-04.\n"
     ]
    },
    {
     "data": {
      "application/vnd.jupyter.widget-view+json": {
       "model_id": "9b33f135683e4aae890e7d85c7b59b37",
       "version_major": 2,
       "version_minor": 0
      },
      "text/plain": [
       "Validation: |          | 0/? [00:00<?, ?it/s]"
      ]
     },
     "metadata": {},
     "output_type": "display_data"
    },
    {
     "name": "stdout",
     "output_type": "stream",
     "text": [
      "Adjusting learning rate of group 0 to 1.4062e-04.\n"
     ]
    },
    {
     "data": {
      "application/vnd.jupyter.widget-view+json": {
       "model_id": "d87e745a157d4824876a2687edb7c1a8",
       "version_major": 2,
       "version_minor": 0
      },
      "text/plain": [
       "Validation: |          | 0/? [00:00<?, ?it/s]"
      ]
     },
     "metadata": {},
     "output_type": "display_data"
    },
    {
     "name": "stdout",
     "output_type": "stream",
     "text": [
      "Adjusting learning rate of group 0 to 1.4062e-04.\n"
     ]
    },
    {
     "data": {
      "application/vnd.jupyter.widget-view+json": {
       "model_id": "c7faba75350a4642bb623a04af4609fb",
       "version_major": 2,
       "version_minor": 0
      },
      "text/plain": [
       "Validation: |          | 0/? [00:00<?, ?it/s]"
      ]
     },
     "metadata": {},
     "output_type": "display_data"
    },
    {
     "name": "stderr",
     "output_type": "stream",
     "text": [
      "`Trainer.fit` stopped: `max_epochs=70` reached.\n"
     ]
    },
    {
     "name": "stdout",
     "output_type": "stream",
     "text": [
      "torch.Size([7000, 4])\n",
      "torch.Size([7000, 4])\n",
      "torch.Size([7000])\n",
      "torch.Size([7000])\n"
     ]
    },
    {
     "data": {
      "image/png": "[encoded data removed]",
      "text/plain": [
       "<Figure size 640x480 with 1 Axes>"
      ]
     },
     "metadata": {},
     "output_type": "display_data"
    }
   ],
   "source": [
    "for i in range(1):\n",
    "    for k in edge_type_weights:\n",
    "        graph_embedding = HeteroDeepGraphEmbedding6(300, 4, metadata, 16, dropout=0.1, edge_type_count=9, edge_type_weights=edge_type_weights[k])\n",
    "        graph_embedding = graph_embedding.to(device)\n",
    "        callbacks = [\n",
    "        ModelCheckpoint(save_top_k=5, mode='max', monitor='val_acc', save_last=True)\n",
    "        ]\n",
    "        loss_func = MulticlassHeteroLoss2(exception_keys=['word'], enc_factor=0.0003)\n",
    "        optimizer = torch.optim.Adam(graph_embedding.parameters(), lr=0.0045, weight_decay=0.00125)\n",
    "        lr_scheduler = torch.optim.lr_scheduler.MultiStepLR(optimizer, milestones=[6, 13, 28, 45, 60], gamma=0.5, verbose=True)\n",
    "        lightning_model = HeteroMultiClassLightningModel(graph_embedding, 4,\n",
    "                                            optimizer=optimizer,\n",
    "                                            loss_func=loss_func,\n",
    "                                            learning_rate=0.045,\n",
    "                                            batch_size=batch_size,\n",
    "                                            user_lr_scheduler=True,\n",
    "                                            lr_scheduler=lr_scheduler,\n",
    "                                            min_lr=0.0005\n",
    "                                            ).to(device)\n",
    "        lightning_model.model.to(device)\n",
    "            \n",
    "        model_manager = ClassifierModelManager(graph_embedding, lightning_model, log_name='hetero_model_20_AG',device=device, num_train_epoch=70)\n",
    "        model_manager.fit(datamodule=data_manager)\n",
    "        model_manager.save_plot_csv_logger(loss_names=['train_loss_epoch', 'val_loss'], eval_names=['train_acc_epoch', 'val_acc'], name_prepend=f'tests_{i}_{k}')\n",
    "        model_manager.torch_model = model_manager.torch_model.to(device)\n",
    "        save_evaluation(model_manager, data_manager.val_dataloader(), f'{i}_{k}',True, True, True, True, True, True, True, multi_class=True)"
   ]
  },
  {
   "cell_type": "code",
   "execution_count": null,
   "metadata": {},
   "outputs": [
    {
     "name": "stderr",
     "output_type": "stream",
     "text": [
      "C:\\Users\\razieh\\AppData\\Local\\Temp\\ipykernel_14216\\3027434874.py:57: UserWarning: To copy construct from a tensor, it is recommended to use sourceTensor.clone().detach() or sourceTensor.clone().detach().requires_grad_(True), rather than torch.tensor(sourceTensor).\n",
      "  self.pw1 = torch.nn.Parameter(torch.tensor(self.edge_type_weights, dtype=torch.float32), requires_grad=False)\n",
      "c:\\Users\\razieh\\AppData\\Local\\Programs\\Python\\Python312\\Lib\\site-packages\\torch\\optim\\lr_scheduler.py:28: UserWarning: The verbose parameter is deprecated. Please use get_last_lr() to access the learning rate.\n",
      "  warnings.warn(\"The verbose parameter is deprecated. Please use get_last_lr() \"\n",
      "c:\\Users\\razieh\\AppData\\Local\\Programs\\Python\\Python312\\Lib\\site-packages\\lightning\\pytorch\\utilities\\parsing.py:198: Attribute 'model' is an instance of `nn.Module` and is already saved during checkpointing. It is recommended to ignore them using `self.save_hyperparameters(ignore=['model'])`.\n"
     ]
    },
    {
     "ename": "MisconfigurationException",
     "evalue": "No supported gpu backend found!",
     "output_type": "error",
     "traceback": [
      "\u001b[1;31m---------------------------------------------------------------------------\u001b[0m",
      "\u001b[1;31mMisconfigurationException\u001b[0m                 Traceback (most recent call last)",
      "Cell \u001b[1;32mIn[35], line 22\u001b[0m\n\u001b[0;32m     11\u001b[0m lightning_model \u001b[38;5;241m=\u001b[39m HeteroMultiClassLightningModel(graph_embedding, \u001b[38;5;241m4\u001b[39m,\n\u001b[0;32m     12\u001b[0m                                     optimizer\u001b[38;5;241m=\u001b[39moptimizer,\n\u001b[0;32m     13\u001b[0m                                     loss_func\u001b[38;5;241m=\u001b[39mloss_func,\n\u001b[1;32m   (...)\u001b[0m\n\u001b[0;32m     18\u001b[0m                                     min_lr\u001b[38;5;241m=\u001b[39m\u001b[38;5;241m0.0005\u001b[39m\n\u001b[0;32m     19\u001b[0m                                     )\u001b[38;5;241m.\u001b[39mto(device)\n\u001b[0;32m     20\u001b[0m lightning_model\u001b[38;5;241m.\u001b[39mmodel\u001b[38;5;241m.\u001b[39mto(device)\n\u001b[1;32m---> 22\u001b[0m model_manager \u001b[38;5;241m=\u001b[39m \u001b[43mClassifierModelManager\u001b[49m\u001b[43m(\u001b[49m\u001b[43mgraph_embedding\u001b[49m\u001b[43m,\u001b[49m\u001b[43m \u001b[49m\u001b[43mlightning_model\u001b[49m\u001b[43m,\u001b[49m\u001b[43m \u001b[49m\u001b[43mlog_name\u001b[49m\u001b[38;5;241;43m=\u001b[39;49m\u001b[38;5;124;43m'\u001b[39;49m\u001b[38;5;124;43mhetero_model_20_AG\u001b[39;49m\u001b[38;5;124;43m'\u001b[39;49m\u001b[43m,\u001b[49m\u001b[43mdevice\u001b[49m\u001b[38;5;241;43m=\u001b[39;49m\u001b[43mdevice\u001b[49m\u001b[43m,\u001b[49m\u001b[43m \u001b[49m\u001b[43mnum_train_epoch\u001b[49m\u001b[38;5;241;43m=\u001b[39;49m\u001b[38;5;241;43m70\u001b[39;49m\u001b[43m)\u001b[49m\n\u001b[0;32m     23\u001b[0m model_manager\u001b[38;5;241m.\u001b[39mfit(datamodule\u001b[38;5;241m=\u001b[39mdata_manager)\n\u001b[0;32m     24\u001b[0m model_manager\u001b[38;5;241m.\u001b[39msave_plot_csv_logger(loss_names\u001b[38;5;241m=\u001b[39m[\u001b[38;5;124m'\u001b[39m\u001b[38;5;124mtrain_loss_epoch\u001b[39m\u001b[38;5;124m'\u001b[39m, \u001b[38;5;124m'\u001b[39m\u001b[38;5;124mval_loss\u001b[39m\u001b[38;5;124m'\u001b[39m], eval_names\u001b[38;5;241m=\u001b[39m[\u001b[38;5;124m'\u001b[39m\u001b[38;5;124mtrain_acc_epoch\u001b[39m\u001b[38;5;124m'\u001b[39m, \u001b[38;5;124m'\u001b[39m\u001b[38;5;124mval_acc\u001b[39m\u001b[38;5;124m'\u001b[39m], name_prepend\u001b[38;5;241m=\u001b[39m\u001b[38;5;124mf\u001b[39m\u001b[38;5;124m'\u001b[39m\u001b[38;5;124mtests_\u001b[39m\u001b[38;5;132;01m{\u001b[39;00mi\u001b[38;5;132;01m}\u001b[39;00m\u001b[38;5;124m_\u001b[39m\u001b[38;5;132;01m{\u001b[39;00mk\u001b[38;5;132;01m}\u001b[39;00m\u001b[38;5;124m'\u001b[39m)\n",
      "File \u001b[1;32mc:\\Users\\razieh\\Downloads\\Beyond-Words\\Scripts\\Models\\ModelsManager\\ClassifierModelManager.py:26\u001b[0m, in \u001b[0;36mClassifierModelManager.__init__\u001b[1;34m(self, torch_model, lightning_model, model_save_dir, log_dir, log_name, device, num_train_epoch)\u001b[0m\n\u001b[0;32m     18\u001b[0m \u001b[38;5;28;01mdef\u001b[39;00m \u001b[38;5;21m__init__\u001b[39m(\u001b[38;5;28mself\u001b[39m,\n\u001b[0;32m     19\u001b[0m              torch_model: torch\u001b[38;5;241m.\u001b[39mnn\u001b[38;5;241m.\u001b[39mModule,\n\u001b[0;32m     20\u001b[0m              lightning_model: BaseLightningModel,\n\u001b[1;32m   (...)\u001b[0m\n\u001b[0;32m     24\u001b[0m              device\u001b[38;5;241m=\u001b[39m\u001b[38;5;124m'\u001b[39m\u001b[38;5;124mcpu\u001b[39m\u001b[38;5;124m'\u001b[39m,\n\u001b[0;32m     25\u001b[0m              num_train_epoch \u001b[38;5;241m=\u001b[39m \u001b[38;5;241m100\u001b[39m):\n\u001b[1;32m---> 26\u001b[0m     \u001b[38;5;28;43msuper\u001b[39;49m\u001b[43m(\u001b[49m\u001b[43mClassifierModelManager\u001b[49m\u001b[43m,\u001b[49m\u001b[43m \u001b[49m\u001b[38;5;28;43mself\u001b[39;49m\u001b[43m)\u001b[49m\u001b[38;5;241;43m.\u001b[39;49m\u001b[38;5;21;43m__init__\u001b[39;49m\u001b[43m(\u001b[49m\u001b[43mtorch_model\u001b[49m\u001b[43m,\u001b[49m\u001b[43m \u001b[49m\u001b[43mlightning_model\u001b[49m\u001b[43m,\u001b[49m\u001b[43m \u001b[49m\u001b[43mmodel_save_dir\u001b[49m\u001b[43m,\u001b[49m\u001b[43m \u001b[49m\u001b[43mlog_dir\u001b[49m\u001b[43m,\u001b[49m\u001b[43m \u001b[49m\u001b[43mlog_name\u001b[49m\u001b[43m,\u001b[49m\u001b[43m \u001b[49m\u001b[43mdevice\u001b[49m\u001b[43m,\u001b[49m\u001b[43m \u001b[49m\u001b[43mnum_train_epoch\u001b[49m\u001b[43m)\u001b[49m\n",
      "File \u001b[1;32mc:\\Users\\razieh\\Downloads\\Beyond-Words\\Scripts\\Models\\ModelsManager\\ModelManager.py:39\u001b[0m, in \u001b[0;36mModelManager.__init__\u001b[1;34m(self, torch_model, lightning_model, model_save_dir, log_dir, log_name, device, max_epochs, ckpt_path)\u001b[0m\n\u001b[0;32m     37\u001b[0m \u001b[38;5;28mself\u001b[39m\u001b[38;5;241m.\u001b[39mlogger \u001b[38;5;241m=\u001b[39m \u001b[38;5;28mself\u001b[39m\u001b[38;5;241m.\u001b[39m_create_logger()\n\u001b[0;32m     38\u001b[0m \u001b[38;5;28mself\u001b[39m\u001b[38;5;241m.\u001b[39mcallbacks \u001b[38;5;241m=\u001b[39m \u001b[38;5;28mself\u001b[39m\u001b[38;5;241m.\u001b[39m_create_callbacks()\n\u001b[1;32m---> 39\u001b[0m \u001b[38;5;28mself\u001b[39m\u001b[38;5;241m.\u001b[39mtrainer: L\u001b[38;5;241m.\u001b[39mTrainer \u001b[38;5;241m=\u001b[39m \u001b[38;5;28;43mself\u001b[39;49m\u001b[38;5;241;43m.\u001b[39;49m\u001b[43m_create_trainer\u001b[49m\u001b[43m(\u001b[49m\u001b[43m)\u001b[49m\n\u001b[0;32m     40\u001b[0m \u001b[38;5;28mself\u001b[39m\u001b[38;5;241m.\u001b[39mtuner \u001b[38;5;241m=\u001b[39m Tuner(\u001b[38;5;28mself\u001b[39m\u001b[38;5;241m.\u001b[39mtrainer)\n\u001b[0;32m     41\u001b[0m \u001b[38;5;28mself\u001b[39m\u001b[38;5;241m.\u001b[39mtuning_result \u001b[38;5;241m=\u001b[39m \u001b[38;5;28;01mNone\u001b[39;00m\n",
      "File \u001b[1;32mc:\\Users\\razieh\\Downloads\\Beyond-Words\\Scripts\\Models\\ModelsManager\\ModelManager.py:79\u001b[0m, in \u001b[0;36mModelManager._create_trainer\u001b[1;34m(self)\u001b[0m\n\u001b[0;32m     78\u001b[0m \u001b[38;5;28;01mdef\u001b[39;00m \u001b[38;5;21m_create_trainer\u001b[39m(\u001b[38;5;28mself\u001b[39m) \u001b[38;5;241m-\u001b[39m\u001b[38;5;241m>\u001b[39m L\u001b[38;5;241m.\u001b[39mTrainer:\n\u001b[1;32m---> 79\u001b[0m     \u001b[38;5;28;01mreturn\u001b[39;00m \u001b[43mL\u001b[49m\u001b[38;5;241;43m.\u001b[39;49m\u001b[43mTrainer\u001b[49m\u001b[43m(\u001b[49m\n\u001b[0;32m     80\u001b[0m \u001b[43m        \u001b[49m\u001b[43mcallbacks\u001b[49m\u001b[38;5;241;43m=\u001b[39;49m\u001b[38;5;28;43mself\u001b[39;49m\u001b[38;5;241;43m.\u001b[39;49m\u001b[43mcallbacks\u001b[49m\u001b[43m,\u001b[49m\n\u001b[0;32m     81\u001b[0m \u001b[43m        \u001b[49m\u001b[43mmax_epochs\u001b[49m\u001b[38;5;241;43m=\u001b[39;49m\u001b[38;5;28;43mself\u001b[39;49m\u001b[38;5;241;43m.\u001b[39;49m\u001b[43mmax_epochs\u001b[49m\u001b[43m,\u001b[49m\n\u001b[0;32m     82\u001b[0m \u001b[43m        \u001b[49m\u001b[43maccelerator\u001b[49m\u001b[38;5;241;43m=\u001b[39;49m\u001b[38;5;28;43mself\u001b[39;49m\u001b[38;5;241;43m.\u001b[39;49m\u001b[43maccelerator\u001b[49m\u001b[43m,\u001b[49m\n\u001b[0;32m     83\u001b[0m \u001b[43m        \u001b[49m\u001b[43mlogger\u001b[49m\u001b[38;5;241;43m=\u001b[39;49m\u001b[38;5;28;43mself\u001b[39;49m\u001b[38;5;241;43m.\u001b[39;49m\u001b[43mlogger\u001b[49m\u001b[43m,\u001b[49m\n\u001b[0;32m     84\u001b[0m \u001b[43m        \u001b[49m\u001b[43mnum_sanity_val_steps\u001b[49m\u001b[38;5;241;43m=\u001b[39;49m\u001b[38;5;241;43m0\u001b[39;49m\u001b[43m,\u001b[49m\n\u001b[0;32m     85\u001b[0m \u001b[43m        \u001b[49m\u001b[43mdefault_root_dir\u001b[49m\u001b[38;5;241;43m=\u001b[39;49m\u001b[38;5;28;43mself\u001b[39;49m\u001b[38;5;241;43m.\u001b[39;49m\u001b[43mmodel_save_dir\u001b[49m\n\u001b[0;32m     86\u001b[0m \u001b[43m    \u001b[49m\u001b[43m)\u001b[49m\n",
      "File \u001b[1;32mc:\\Users\\razieh\\AppData\\Local\\Programs\\Python\\Python312\\Lib\\site-packages\\lightning\\pytorch\\utilities\\argparse.py:70\u001b[0m, in \u001b[0;36m_defaults_from_env_vars.<locals>.insert_env_defaults\u001b[1;34m(self, *args, **kwargs)\u001b[0m\n\u001b[0;32m     67\u001b[0m kwargs \u001b[38;5;241m=\u001b[39m \u001b[38;5;28mdict\u001b[39m(\u001b[38;5;28mlist\u001b[39m(env_variables\u001b[38;5;241m.\u001b[39mitems()) \u001b[38;5;241m+\u001b[39m \u001b[38;5;28mlist\u001b[39m(kwargs\u001b[38;5;241m.\u001b[39mitems()))\n\u001b[0;32m     69\u001b[0m \u001b[38;5;66;03m# all args were already moved to kwargs\u001b[39;00m\n\u001b[1;32m---> 70\u001b[0m \u001b[38;5;28;01mreturn\u001b[39;00m \u001b[43mfn\u001b[49m\u001b[43m(\u001b[49m\u001b[38;5;28;43mself\u001b[39;49m\u001b[43m,\u001b[49m\u001b[43m \u001b[49m\u001b[38;5;241;43m*\u001b[39;49m\u001b[38;5;241;43m*\u001b[39;49m\u001b[43mkwargs\u001b[49m\u001b[43m)\u001b[49m\n",
      "File \u001b[1;32mc:\\Users\\razieh\\AppData\\Local\\Programs\\Python\\Python312\\Lib\\site-packages\\lightning\\pytorch\\trainer\\trainer.py:401\u001b[0m, in \u001b[0;36mTrainer.__init__\u001b[1;34m(self, accelerator, strategy, devices, num_nodes, precision, logger, callbacks, fast_dev_run, max_epochs, min_epochs, max_steps, min_steps, max_time, limit_train_batches, limit_val_batches, limit_test_batches, limit_predict_batches, overfit_batches, val_check_interval, check_val_every_n_epoch, num_sanity_val_steps, log_every_n_steps, enable_checkpointing, enable_progress_bar, enable_model_summary, accumulate_grad_batches, gradient_clip_val, gradient_clip_algorithm, deterministic, benchmark, inference_mode, use_distributed_sampler, profiler, detect_anomaly, barebones, plugins, sync_batchnorm, reload_dataloaders_every_n_epochs, default_root_dir)\u001b[0m\n\u001b[0;32m    398\u001b[0m \u001b[38;5;66;03m# init connectors\u001b[39;00m\n\u001b[0;32m    399\u001b[0m \u001b[38;5;28mself\u001b[39m\u001b[38;5;241m.\u001b[39m_data_connector \u001b[38;5;241m=\u001b[39m _DataConnector(\u001b[38;5;28mself\u001b[39m)\n\u001b[1;32m--> 401\u001b[0m \u001b[38;5;28mself\u001b[39m\u001b[38;5;241m.\u001b[39m_accelerator_connector \u001b[38;5;241m=\u001b[39m \u001b[43m_AcceleratorConnector\u001b[49m\u001b[43m(\u001b[49m\n\u001b[0;32m    402\u001b[0m \u001b[43m    \u001b[49m\u001b[43mdevices\u001b[49m\u001b[38;5;241;43m=\u001b[39;49m\u001b[43mdevices\u001b[49m\u001b[43m,\u001b[49m\n\u001b[0;32m    403\u001b[0m \u001b[43m    \u001b[49m\u001b[43maccelerator\u001b[49m\u001b[38;5;241;43m=\u001b[39;49m\u001b[43maccelerator\u001b[49m\u001b[43m,\u001b[49m\n\u001b[0;32m    404\u001b[0m \u001b[43m    \u001b[49m\u001b[43mstrategy\u001b[49m\u001b[38;5;241;43m=\u001b[39;49m\u001b[43mstrategy\u001b[49m\u001b[43m,\u001b[49m\n\u001b[0;32m    405\u001b[0m \u001b[43m    \u001b[49m\u001b[43mnum_nodes\u001b[49m\u001b[38;5;241;43m=\u001b[39;49m\u001b[43mnum_nodes\u001b[49m\u001b[43m,\u001b[49m\n\u001b[0;32m    406\u001b[0m \u001b[43m    \u001b[49m\u001b[43msync_batchnorm\u001b[49m\u001b[38;5;241;43m=\u001b[39;49m\u001b[43msync_batchnorm\u001b[49m\u001b[43m,\u001b[49m\n\u001b[0;32m    407\u001b[0m \u001b[43m    \u001b[49m\u001b[43mbenchmark\u001b[49m\u001b[38;5;241;43m=\u001b[39;49m\u001b[43mbenchmark\u001b[49m\u001b[43m,\u001b[49m\n\u001b[0;32m    408\u001b[0m \u001b[43m    \u001b[49m\u001b[43muse_distributed_sampler\u001b[49m\u001b[38;5;241;43m=\u001b[39;49m\u001b[43muse_distributed_sampler\u001b[49m\u001b[43m,\u001b[49m\n\u001b[0;32m    409\u001b[0m \u001b[43m    \u001b[49m\u001b[43mdeterministic\u001b[49m\u001b[38;5;241;43m=\u001b[39;49m\u001b[43mdeterministic\u001b[49m\u001b[43m,\u001b[49m\n\u001b[0;32m    410\u001b[0m \u001b[43m    \u001b[49m\u001b[43mprecision\u001b[49m\u001b[38;5;241;43m=\u001b[39;49m\u001b[43mprecision\u001b[49m\u001b[43m,\u001b[49m\n\u001b[0;32m    411\u001b[0m \u001b[43m    \u001b[49m\u001b[43mplugins\u001b[49m\u001b[38;5;241;43m=\u001b[39;49m\u001b[43mplugins\u001b[49m\u001b[43m,\u001b[49m\n\u001b[0;32m    412\u001b[0m \u001b[43m\u001b[49m\u001b[43m)\u001b[49m\n\u001b[0;32m    413\u001b[0m \u001b[38;5;28mself\u001b[39m\u001b[38;5;241m.\u001b[39m_logger_connector \u001b[38;5;241m=\u001b[39m _LoggerConnector(\u001b[38;5;28mself\u001b[39m)\n\u001b[0;32m    414\u001b[0m \u001b[38;5;28mself\u001b[39m\u001b[38;5;241m.\u001b[39m_callback_connector \u001b[38;5;241m=\u001b[39m _CallbackConnector(\u001b[38;5;28mself\u001b[39m)\n",
      "File \u001b[1;32mc:\\Users\\razieh\\AppData\\Local\\Programs\\Python\\Python312\\Lib\\site-packages\\lightning\\pytorch\\trainer\\connectors\\accelerator_connector.py:146\u001b[0m, in \u001b[0;36m_AcceleratorConnector.__init__\u001b[1;34m(self, devices, num_nodes, accelerator, strategy, plugins, precision, sync_batchnorm, benchmark, use_distributed_sampler, deterministic)\u001b[0m\n\u001b[0;32m    144\u001b[0m     \u001b[38;5;28mself\u001b[39m\u001b[38;5;241m.\u001b[39m_accelerator_flag \u001b[38;5;241m=\u001b[39m \u001b[38;5;28mself\u001b[39m\u001b[38;5;241m.\u001b[39m_choose_auto_accelerator()\n\u001b[0;32m    145\u001b[0m \u001b[38;5;28;01melif\u001b[39;00m \u001b[38;5;28mself\u001b[39m\u001b[38;5;241m.\u001b[39m_accelerator_flag \u001b[38;5;241m==\u001b[39m \u001b[38;5;124m\"\u001b[39m\u001b[38;5;124mgpu\u001b[39m\u001b[38;5;124m\"\u001b[39m:\n\u001b[1;32m--> 146\u001b[0m     \u001b[38;5;28mself\u001b[39m\u001b[38;5;241m.\u001b[39m_accelerator_flag \u001b[38;5;241m=\u001b[39m \u001b[38;5;28;43mself\u001b[39;49m\u001b[38;5;241;43m.\u001b[39;49m\u001b[43m_choose_gpu_accelerator_backend\u001b[49m\u001b[43m(\u001b[49m\u001b[43m)\u001b[49m\n\u001b[0;32m    148\u001b[0m \u001b[38;5;28mself\u001b[39m\u001b[38;5;241m.\u001b[39m_check_device_config_and_set_final_flags(devices\u001b[38;5;241m=\u001b[39mdevices, num_nodes\u001b[38;5;241m=\u001b[39mnum_nodes)\n\u001b[0;32m    149\u001b[0m \u001b[38;5;28mself\u001b[39m\u001b[38;5;241m.\u001b[39m_set_parallel_devices_and_init_accelerator()\n",
      "File \u001b[1;32mc:\\Users\\razieh\\AppData\\Local\\Programs\\Python\\Python312\\Lib\\site-packages\\lightning\\pytorch\\trainer\\connectors\\accelerator_connector.py:366\u001b[0m, in \u001b[0;36m_AcceleratorConnector._choose_gpu_accelerator_backend\u001b[1;34m()\u001b[0m\n\u001b[0;32m    364\u001b[0m \u001b[38;5;28;01mif\u001b[39;00m CUDAAccelerator\u001b[38;5;241m.\u001b[39mis_available():\n\u001b[0;32m    365\u001b[0m     \u001b[38;5;28;01mreturn\u001b[39;00m \u001b[38;5;124m\"\u001b[39m\u001b[38;5;124mcuda\u001b[39m\u001b[38;5;124m\"\u001b[39m\n\u001b[1;32m--> 366\u001b[0m \u001b[38;5;28;01mraise\u001b[39;00m MisconfigurationException(\u001b[38;5;124m\"\u001b[39m\u001b[38;5;124mNo supported gpu backend found!\u001b[39m\u001b[38;5;124m\"\u001b[39m)\n",
      "\u001b[1;31mMisconfigurationException\u001b[0m: No supported gpu backend found!"
     ]
    }
   ],
   "source": [
    "for i in range(1):\n",
    "    for k in edge_type_weights:\n",
    "        graph_embedding = HeteroDeepGraphEmbedding6(300, 4, metadata, 32, dropout=0.1, edge_type_count=9, edge_type_weights=edge_type_weights[k])\n",
    "        graph_embedding = graph_embedding.to(device)\n",
    "        callbacks = [\n",
    "        ModelCheckpoint(save_top_k=5, mode='max', monitor='val_acc', save_last=True)\n",
    "        ]\n",
    "        loss_func = MulticlassHeteroLoss2(exception_keys=['word'], enc_factor=0.0003)\n",
    "        optimizer = torch.optim.Adam(graph_embedding.parameters(), lr=0.0045, weight_decay=0.00125)\n",
    "        lr_scheduler = torch.optim.lr_scheduler.MultiStepLR(optimizer, milestones=[6, 13, 28, 45, 60], gamma=0.5, verbose=True)\n",
    "        lightning_model = HeteroMultiClassLightningModel(graph_embedding, 4,\n",
    "                                            optimizer=optimizer,\n",
    "                                            loss_func=loss_func,\n",
    "                                            learning_rate=0.045,\n",
    "                                            batch_size=batch_size,\n",
    "                                            user_lr_scheduler=True,\n",
    "                                            lr_scheduler=lr_scheduler,\n",
    "                                            min_lr=0.0005\n",
    "                                            ).to(device)\n",
    "        lightning_model.model.to(device)\n",
    "            \n",
    "        model_manager = ClassifierModelManager(graph_embedding, lightning_model, log_name='hetero_model_20_AG',device=device, num_train_epoch=70)\n",
    "        model_manager.fit(datamodule=data_manager)\n",
    "        model_manager.save_plot_csv_logger(loss_names=['train_loss_epoch', 'val_loss'], eval_names=['train_acc_epoch', 'val_acc'], name_prepend=f'tests_{i}_{k}')\n",
    "        model_manager.torch_model = model_manager.torch_model.to(device)\n",
    "        save_evaluation(model_manager, data_manager.val_dataloader(), f'{i}_{k}',True, True, True, True, True, True, True, multi_class=True)"
   ]
  },
  {
   "cell_type": "code",
   "execution_count": null,
   "metadata": {},
   "outputs": [
    {
     "ename": "NameError",
     "evalue": "name 'model_manager' is not defined",
     "output_type": "error",
     "traceback": [
      "\u001b[1;31m---------------------------------------------------------------------------\u001b[0m",
      "\u001b[1;31mNameError\u001b[0m                                 Traceback (most recent call last)",
      "Cell \u001b[1;32mIn[30], line 1\u001b[0m\n\u001b[1;32m----> 1\u001b[0m \u001b[43mmodel_manager\u001b[49m\u001b[38;5;241m.\u001b[39mtrainer\u001b[38;5;241m.\u001b[39mfit_loop\u001b[38;5;241m.\u001b[39mmax_epochs\u001b[38;5;241m=\u001b[39m\u001b[38;5;241m100\u001b[39m\n\u001b[0;32m      2\u001b[0m \u001b[38;5;66;03m# model_manager.trainer.fit_loop.max_steps=-1\u001b[39;00m\n\u001b[0;32m      4\u001b[0m model_manager\u001b[38;5;241m.\u001b[39mfit(datamodule\u001b[38;5;241m=\u001b[39mdata_manager)\n",
      "\u001b[1;31mNameError\u001b[0m: name 'model_manager' is not defined"
     ]
    }
   ],
   "source": [
    "model_manager.trainer.fit_loop.max_epochs=100\n",
    "# model_manager.trainer.fit_loop.max_steps=-1\n",
    "\n",
    "model_manager.fit(datamodule=data_manager)\n",
    "model_manager.save_plot_csv_logger(loss_names=['train_loss_epoch', 'val_loss'], eval_names=['train_acc_epoch', 'val_acc'], name_prepend=f'tests2_{k}')\n",
    "model_manager.torch_model = model_manager.torch_model.to(device)\n",
    "save_evaluation(model_manager, data_manager.val_dataloader(), f'tests2_{k}',True, True, True, True, True, True, True, multi_class=True)"
   ]
  },
  {
   "cell_type": "code",
   "execution_count": null,
   "metadata": {},
   "outputs": [
    {
     "data": {
      "text/plain": [
       "False"
      ]
     },
     "execution_count": 31,
     "metadata": {},
     "output_type": "execute_result"
    }
   ],
   "source": [
    "torch.cuda.is_available()"
   ]
  },
  {
   "cell_type": "code",
   "execution_count": null,
   "metadata": {},
   "outputs": [
    {
     "name": "stderr",
     "output_type": "stream",
     "text": [
      "C:\\Users\\razieh\\AppData\\Local\\Temp\\ipykernel_14216\\3027434874.py:57: UserWarning: To copy construct from a tensor, it is recommended to use sourceTensor.clone().detach() or sourceTensor.clone().detach().requires_grad_(True), rather than torch.tensor(sourceTensor).\n",
      "  self.pw1 = torch.nn.Parameter(torch.tensor(self.edge_type_weights, dtype=torch.float32), requires_grad=False)\n"
     ]
    },
    {
     "ename": "FileNotFoundError",
     "evalue": "[Errno 2] No such file or directory: 'c:/Users/razieh/Downloads/Beyond-Words/logs/hetero_model_18_AG/version_26/checkpoints/epoch=74-step=35100.ckpt'",
     "output_type": "error",
     "traceback": [
      "\u001b[1;31m---------------------------------------------------------------------------\u001b[0m",
      "\u001b[1;31mFileNotFoundError\u001b[0m                         Traceback (most recent call last)",
      "Cell \u001b[1;32mIn[32], line 3\u001b[0m\n\u001b[0;32m      1\u001b[0m graph_embedding \u001b[38;5;241m=\u001b[39m HeteroDeepGraphEmbedding6(\u001b[38;5;241m300\u001b[39m, \u001b[38;5;241m4\u001b[39m, X3\u001b[38;5;241m.\u001b[39mmetadata(), \u001b[38;5;241m32\u001b[39m, dropout\u001b[38;5;241m=\u001b[39m\u001b[38;5;241m0.2\u001b[39m, edge_type_count\u001b[38;5;241m=\u001b[39m\u001b[38;5;241m11\u001b[39m, edge_type_weights\u001b[38;5;241m=\u001b[39medge_type_weights[k])\n\u001b[0;32m      2\u001b[0m graph_embedding \u001b[38;5;241m=\u001b[39m graph_embedding\u001b[38;5;241m.\u001b[39mto(device)\n\u001b[1;32m----> 3\u001b[0m lightning_model \u001b[38;5;241m=\u001b[39m \u001b[43mHeteroMultiClassLightningModel\u001b[49m\u001b[38;5;241;43m.\u001b[39;49m\u001b[43mload_from_checkpoint\u001b[49m\u001b[43m(\u001b[49m\u001b[38;5;124;43mr\u001b[39;49m\u001b[38;5;124;43m'\u001b[39;49m\u001b[38;5;124;43mlogs\u001b[39;49m\u001b[38;5;124;43m\\\u001b[39;49m\u001b[38;5;124;43mhetero_model_18_AG\u001b[39;49m\u001b[38;5;124;43m\\\u001b[39;49m\u001b[38;5;124;43mversion_26\u001b[39;49m\u001b[38;5;124;43m\\\u001b[39;49m\u001b[38;5;124;43mcheckpoints\u001b[39;49m\u001b[38;5;124;43m\\\u001b[39;49m\u001b[38;5;124;43mepoch=74-step=35100.ckpt\u001b[39;49m\u001b[38;5;124;43m'\u001b[39;49m\u001b[43m,\u001b[49m\u001b[43m \u001b[49m\u001b[43mmodel\u001b[49m\u001b[38;5;241;43m=\u001b[39;49m\u001b[43mgraph_embedding\u001b[49m\u001b[43m,\u001b[49m\u001b[43m \u001b[49m\u001b[43mnum_classes\u001b[49m\u001b[38;5;241;43m=\u001b[39;49m\u001b[38;5;241;43m4\u001b[39;49m\u001b[43m)\u001b[49m\n\u001b[0;32m      4\u001b[0m lightning_model\u001b[38;5;241m.\u001b[39meval()\n\u001b[0;32m      5\u001b[0m \u001b[38;5;66;03m# lightning_model.model.to(device)\u001b[39;00m\n",
      "File \u001b[1;32mc:\\Users\\razieh\\AppData\\Local\\Programs\\Python\\Python312\\Lib\\site-packages\\lightning\\pytorch\\core\\module.py:1561\u001b[0m, in \u001b[0;36mLightningModule.load_from_checkpoint\u001b[1;34m(cls, checkpoint_path, map_location, hparams_file, strict, **kwargs)\u001b[0m\n\u001b[0;32m   1480\u001b[0m \u001b[38;5;129m@_restricted_classmethod\u001b[39m\n\u001b[0;32m   1481\u001b[0m \u001b[38;5;28;01mdef\u001b[39;00m \u001b[38;5;21mload_from_checkpoint\u001b[39m(\n\u001b[0;32m   1482\u001b[0m     \u001b[38;5;28mcls\u001b[39m,\n\u001b[1;32m   (...)\u001b[0m\n\u001b[0;32m   1487\u001b[0m     \u001b[38;5;241m*\u001b[39m\u001b[38;5;241m*\u001b[39mkwargs: Any,\n\u001b[0;32m   1488\u001b[0m ) \u001b[38;5;241m-\u001b[39m\u001b[38;5;241m>\u001b[39m Self:\n\u001b[0;32m   1489\u001b[0m \u001b[38;5;250m    \u001b[39m\u001b[38;5;124mr\u001b[39m\u001b[38;5;124;03m\"\"\"Primary way of loading a model from a checkpoint. When Lightning saves a checkpoint it stores the arguments\u001b[39;00m\n\u001b[0;32m   1490\u001b[0m \u001b[38;5;124;03m    passed to ``__init__``  in the checkpoint under ``\"hyper_parameters\"``.\u001b[39;00m\n\u001b[0;32m   1491\u001b[0m \n\u001b[1;32m   (...)\u001b[0m\n\u001b[0;32m   1559\u001b[0m \n\u001b[0;32m   1560\u001b[0m \u001b[38;5;124;03m    \"\"\"\u001b[39;00m\n\u001b[1;32m-> 1561\u001b[0m     loaded \u001b[38;5;241m=\u001b[39m \u001b[43m_load_from_checkpoint\u001b[49m\u001b[43m(\u001b[49m\n\u001b[0;32m   1562\u001b[0m \u001b[43m        \u001b[49m\u001b[38;5;28;43mcls\u001b[39;49m\u001b[43m,\u001b[49m\u001b[43m  \u001b[49m\u001b[38;5;66;43;03m# type: ignore[arg-type]\u001b[39;49;00m\n\u001b[0;32m   1563\u001b[0m \u001b[43m        \u001b[49m\u001b[43mcheckpoint_path\u001b[49m\u001b[43m,\u001b[49m\n\u001b[0;32m   1564\u001b[0m \u001b[43m        \u001b[49m\u001b[43mmap_location\u001b[49m\u001b[43m,\u001b[49m\n\u001b[0;32m   1565\u001b[0m \u001b[43m        \u001b[49m\u001b[43mhparams_file\u001b[49m\u001b[43m,\u001b[49m\n\u001b[0;32m   1566\u001b[0m \u001b[43m        \u001b[49m\u001b[43mstrict\u001b[49m\u001b[43m,\u001b[49m\n\u001b[0;32m   1567\u001b[0m \u001b[43m        \u001b[49m\u001b[38;5;241;43m*\u001b[39;49m\u001b[38;5;241;43m*\u001b[39;49m\u001b[43mkwargs\u001b[49m\u001b[43m,\u001b[49m\n\u001b[0;32m   1568\u001b[0m \u001b[43m    \u001b[49m\u001b[43m)\u001b[49m\n\u001b[0;32m   1569\u001b[0m     \u001b[38;5;28;01mreturn\u001b[39;00m cast(Self, loaded)\n",
      "File \u001b[1;32mc:\\Users\\razieh\\AppData\\Local\\Programs\\Python\\Python312\\Lib\\site-packages\\lightning\\pytorch\\core\\saving.py:61\u001b[0m, in \u001b[0;36m_load_from_checkpoint\u001b[1;34m(cls, checkpoint_path, map_location, hparams_file, strict, **kwargs)\u001b[0m\n\u001b[0;32m     59\u001b[0m map_location \u001b[38;5;241m=\u001b[39m map_location \u001b[38;5;129;01mor\u001b[39;00m _default_map_location\n\u001b[0;32m     60\u001b[0m \u001b[38;5;28;01mwith\u001b[39;00m pl_legacy_patch():\n\u001b[1;32m---> 61\u001b[0m     checkpoint \u001b[38;5;241m=\u001b[39m \u001b[43mpl_load\u001b[49m\u001b[43m(\u001b[49m\u001b[43mcheckpoint_path\u001b[49m\u001b[43m,\u001b[49m\u001b[43m \u001b[49m\u001b[43mmap_location\u001b[49m\u001b[38;5;241;43m=\u001b[39;49m\u001b[43mmap_location\u001b[49m\u001b[43m)\u001b[49m\n\u001b[0;32m     63\u001b[0m \u001b[38;5;66;03m# convert legacy checkpoints to the new format\u001b[39;00m\n\u001b[0;32m     64\u001b[0m checkpoint \u001b[38;5;241m=\u001b[39m _pl_migrate_checkpoint(\n\u001b[0;32m     65\u001b[0m     checkpoint, checkpoint_path\u001b[38;5;241m=\u001b[39m(checkpoint_path \u001b[38;5;28;01mif\u001b[39;00m \u001b[38;5;28misinstance\u001b[39m(checkpoint_path, (\u001b[38;5;28mstr\u001b[39m, Path)) \u001b[38;5;28;01melse\u001b[39;00m \u001b[38;5;28;01mNone\u001b[39;00m)\n\u001b[0;32m     66\u001b[0m )\n",
      "File \u001b[1;32mc:\\Users\\razieh\\AppData\\Local\\Programs\\Python\\Python312\\Lib\\site-packages\\lightning\\fabric\\utilities\\cloud_io.py:55\u001b[0m, in \u001b[0;36m_load\u001b[1;34m(path_or_url, map_location)\u001b[0m\n\u001b[0;32m     50\u001b[0m     \u001b[38;5;28;01mreturn\u001b[39;00m torch\u001b[38;5;241m.\u001b[39mhub\u001b[38;5;241m.\u001b[39mload_state_dict_from_url(\n\u001b[0;32m     51\u001b[0m         \u001b[38;5;28mstr\u001b[39m(path_or_url),\n\u001b[0;32m     52\u001b[0m         map_location\u001b[38;5;241m=\u001b[39mmap_location,  \u001b[38;5;66;03m# type: ignore[arg-type]\u001b[39;00m\n\u001b[0;32m     53\u001b[0m     )\n\u001b[0;32m     54\u001b[0m fs \u001b[38;5;241m=\u001b[39m get_filesystem(path_or_url)\n\u001b[1;32m---> 55\u001b[0m \u001b[38;5;28;01mwith\u001b[39;00m \u001b[43mfs\u001b[49m\u001b[38;5;241;43m.\u001b[39;49m\u001b[43mopen\u001b[49m\u001b[43m(\u001b[49m\u001b[43mpath_or_url\u001b[49m\u001b[43m,\u001b[49m\u001b[43m \u001b[49m\u001b[38;5;124;43m\"\u001b[39;49m\u001b[38;5;124;43mrb\u001b[39;49m\u001b[38;5;124;43m\"\u001b[39;49m\u001b[43m)\u001b[49m \u001b[38;5;28;01mas\u001b[39;00m f:\n\u001b[0;32m     56\u001b[0m     \u001b[38;5;28;01mreturn\u001b[39;00m torch\u001b[38;5;241m.\u001b[39mload(f, map_location\u001b[38;5;241m=\u001b[39mmap_location)\n",
      "File \u001b[1;32mc:\\Users\\razieh\\AppData\\Local\\Programs\\Python\\Python312\\Lib\\site-packages\\fsspec\\spec.py:1293\u001b[0m, in \u001b[0;36mAbstractFileSystem.open\u001b[1;34m(self, path, mode, block_size, cache_options, compression, **kwargs)\u001b[0m\n\u001b[0;32m   1291\u001b[0m \u001b[38;5;28;01melse\u001b[39;00m:\n\u001b[0;32m   1292\u001b[0m     ac \u001b[38;5;241m=\u001b[39m kwargs\u001b[38;5;241m.\u001b[39mpop(\u001b[38;5;124m\"\u001b[39m\u001b[38;5;124mautocommit\u001b[39m\u001b[38;5;124m\"\u001b[39m, \u001b[38;5;129;01mnot\u001b[39;00m \u001b[38;5;28mself\u001b[39m\u001b[38;5;241m.\u001b[39m_intrans)\n\u001b[1;32m-> 1293\u001b[0m     f \u001b[38;5;241m=\u001b[39m \u001b[38;5;28;43mself\u001b[39;49m\u001b[38;5;241;43m.\u001b[39;49m\u001b[43m_open\u001b[49m\u001b[43m(\u001b[49m\n\u001b[0;32m   1294\u001b[0m \u001b[43m        \u001b[49m\u001b[43mpath\u001b[49m\u001b[43m,\u001b[49m\n\u001b[0;32m   1295\u001b[0m \u001b[43m        \u001b[49m\u001b[43mmode\u001b[49m\u001b[38;5;241;43m=\u001b[39;49m\u001b[43mmode\u001b[49m\u001b[43m,\u001b[49m\n\u001b[0;32m   1296\u001b[0m \u001b[43m        \u001b[49m\u001b[43mblock_size\u001b[49m\u001b[38;5;241;43m=\u001b[39;49m\u001b[43mblock_size\u001b[49m\u001b[43m,\u001b[49m\n\u001b[0;32m   1297\u001b[0m \u001b[43m        \u001b[49m\u001b[43mautocommit\u001b[49m\u001b[38;5;241;43m=\u001b[39;49m\u001b[43mac\u001b[49m\u001b[43m,\u001b[49m\n\u001b[0;32m   1298\u001b[0m \u001b[43m        \u001b[49m\u001b[43mcache_options\u001b[49m\u001b[38;5;241;43m=\u001b[39;49m\u001b[43mcache_options\u001b[49m\u001b[43m,\u001b[49m\n\u001b[0;32m   1299\u001b[0m \u001b[43m        \u001b[49m\u001b[38;5;241;43m*\u001b[39;49m\u001b[38;5;241;43m*\u001b[39;49m\u001b[43mkwargs\u001b[49m\u001b[43m,\u001b[49m\n\u001b[0;32m   1300\u001b[0m \u001b[43m    \u001b[49m\u001b[43m)\u001b[49m\n\u001b[0;32m   1301\u001b[0m     \u001b[38;5;28;01mif\u001b[39;00m compression \u001b[38;5;129;01mis\u001b[39;00m \u001b[38;5;129;01mnot\u001b[39;00m \u001b[38;5;28;01mNone\u001b[39;00m:\n\u001b[0;32m   1302\u001b[0m         \u001b[38;5;28;01mfrom\u001b[39;00m \u001b[38;5;21;01mfsspec\u001b[39;00m\u001b[38;5;21;01m.\u001b[39;00m\u001b[38;5;21;01mcompression\u001b[39;00m \u001b[38;5;28;01mimport\u001b[39;00m compr\n",
      "File \u001b[1;32mc:\\Users\\razieh\\AppData\\Local\\Programs\\Python\\Python312\\Lib\\site-packages\\fsspec\\implementations\\local.py:184\u001b[0m, in \u001b[0;36mLocalFileSystem._open\u001b[1;34m(self, path, mode, block_size, **kwargs)\u001b[0m\n\u001b[0;32m    182\u001b[0m \u001b[38;5;28;01mif\u001b[39;00m \u001b[38;5;28mself\u001b[39m\u001b[38;5;241m.\u001b[39mauto_mkdir \u001b[38;5;129;01mand\u001b[39;00m \u001b[38;5;124m\"\u001b[39m\u001b[38;5;124mw\u001b[39m\u001b[38;5;124m\"\u001b[39m \u001b[38;5;129;01min\u001b[39;00m mode:\n\u001b[0;32m    183\u001b[0m     \u001b[38;5;28mself\u001b[39m\u001b[38;5;241m.\u001b[39mmakedirs(\u001b[38;5;28mself\u001b[39m\u001b[38;5;241m.\u001b[39m_parent(path), exist_ok\u001b[38;5;241m=\u001b[39m\u001b[38;5;28;01mTrue\u001b[39;00m)\n\u001b[1;32m--> 184\u001b[0m \u001b[38;5;28;01mreturn\u001b[39;00m \u001b[43mLocalFileOpener\u001b[49m\u001b[43m(\u001b[49m\u001b[43mpath\u001b[49m\u001b[43m,\u001b[49m\u001b[43m \u001b[49m\u001b[43mmode\u001b[49m\u001b[43m,\u001b[49m\u001b[43m \u001b[49m\u001b[43mfs\u001b[49m\u001b[38;5;241;43m=\u001b[39;49m\u001b[38;5;28;43mself\u001b[39;49m\u001b[43m,\u001b[49m\u001b[43m \u001b[49m\u001b[38;5;241;43m*\u001b[39;49m\u001b[38;5;241;43m*\u001b[39;49m\u001b[43mkwargs\u001b[49m\u001b[43m)\u001b[49m\n",
      "File \u001b[1;32mc:\\Users\\razieh\\AppData\\Local\\Programs\\Python\\Python312\\Lib\\site-packages\\fsspec\\implementations\\local.py:306\u001b[0m, in \u001b[0;36mLocalFileOpener.__init__\u001b[1;34m(self, path, mode, autocommit, fs, compression, **kwargs)\u001b[0m\n\u001b[0;32m    304\u001b[0m \u001b[38;5;28mself\u001b[39m\u001b[38;5;241m.\u001b[39mcompression \u001b[38;5;241m=\u001b[39m get_compression(path, compression)\n\u001b[0;32m    305\u001b[0m \u001b[38;5;28mself\u001b[39m\u001b[38;5;241m.\u001b[39mblocksize \u001b[38;5;241m=\u001b[39m io\u001b[38;5;241m.\u001b[39mDEFAULT_BUFFER_SIZE\n\u001b[1;32m--> 306\u001b[0m \u001b[38;5;28;43mself\u001b[39;49m\u001b[38;5;241;43m.\u001b[39;49m\u001b[43m_open\u001b[49m\u001b[43m(\u001b[49m\u001b[43m)\u001b[49m\n",
      "File \u001b[1;32mc:\\Users\\razieh\\AppData\\Local\\Programs\\Python\\Python312\\Lib\\site-packages\\fsspec\\implementations\\local.py:311\u001b[0m, in \u001b[0;36mLocalFileOpener._open\u001b[1;34m(self)\u001b[0m\n\u001b[0;32m    309\u001b[0m \u001b[38;5;28;01mif\u001b[39;00m \u001b[38;5;28mself\u001b[39m\u001b[38;5;241m.\u001b[39mf \u001b[38;5;129;01mis\u001b[39;00m \u001b[38;5;28;01mNone\u001b[39;00m \u001b[38;5;129;01mor\u001b[39;00m \u001b[38;5;28mself\u001b[39m\u001b[38;5;241m.\u001b[39mf\u001b[38;5;241m.\u001b[39mclosed:\n\u001b[0;32m    310\u001b[0m     \u001b[38;5;28;01mif\u001b[39;00m \u001b[38;5;28mself\u001b[39m\u001b[38;5;241m.\u001b[39mautocommit \u001b[38;5;129;01mor\u001b[39;00m \u001b[38;5;124m\"\u001b[39m\u001b[38;5;124mw\u001b[39m\u001b[38;5;124m\"\u001b[39m \u001b[38;5;129;01mnot\u001b[39;00m \u001b[38;5;129;01min\u001b[39;00m \u001b[38;5;28mself\u001b[39m\u001b[38;5;241m.\u001b[39mmode:\n\u001b[1;32m--> 311\u001b[0m         \u001b[38;5;28mself\u001b[39m\u001b[38;5;241m.\u001b[39mf \u001b[38;5;241m=\u001b[39m \u001b[38;5;28;43mopen\u001b[39;49m\u001b[43m(\u001b[49m\u001b[38;5;28;43mself\u001b[39;49m\u001b[38;5;241;43m.\u001b[39;49m\u001b[43mpath\u001b[49m\u001b[43m,\u001b[49m\u001b[43m \u001b[49m\u001b[43mmode\u001b[49m\u001b[38;5;241;43m=\u001b[39;49m\u001b[38;5;28;43mself\u001b[39;49m\u001b[38;5;241;43m.\u001b[39;49m\u001b[43mmode\u001b[49m\u001b[43m)\u001b[49m\n\u001b[0;32m    312\u001b[0m         \u001b[38;5;28;01mif\u001b[39;00m \u001b[38;5;28mself\u001b[39m\u001b[38;5;241m.\u001b[39mcompression:\n\u001b[0;32m    313\u001b[0m             compress \u001b[38;5;241m=\u001b[39m compr[\u001b[38;5;28mself\u001b[39m\u001b[38;5;241m.\u001b[39mcompression]\n",
      "\u001b[1;31mFileNotFoundError\u001b[0m: [Errno 2] No such file or directory: 'c:/Users/razieh/Downloads/Beyond-Words/logs/hetero_model_18_AG/version_26/checkpoints/epoch=74-step=35100.ckpt'"
     ]
    }
   ],
   "source": [
    "graph_embedding = HeteroDeepGraphEmbedding6(300, 4, X3.metadata(), 32, dropout=0.2, edge_type_count=11, edge_type_weights=edge_type_weights[k])\n",
    "graph_embedding = graph_embedding.to(device)\n",
    "lightning_model = HeteroMultiClassLightningModel.load_from_checkpoint(r'logs\\hetero_model_18_AG\\version_26\\checkpoints\\epoch=74-step=35100.ckpt', model=graph_embedding, num_classes=4)\n",
    "lightning_model.eval()\n",
    "# lightning_model.model.to(device)\n",
    "model_manager.torch_model = model_manager.torch_model.to(device)\n",
    "save_evaluation(model_manager, data_manager.val_dataloader(), 'test11_t',True, True, True, True, True, True, True, multi_class=True)"
   ]
  },
  {
   "cell_type": "code",
   "execution_count": null,
   "metadata": {},
   "outputs": [],
   "source": [
    "import pandas as pd\n",
    "test_df = pd.read_csv(r\"data\\AG\\test.csv\", header=None)\n",
    "g_test_df = test_df.groupby(0)"
   ]
  },
  {
   "cell_type": "code",
   "execution_count": null,
   "metadata": {},
   "outputs": [
    {
     "ename": "NameError",
     "evalue": "name 'g_test_df' is not defined",
     "output_type": "error",
     "traceback": [
      "\u001b[1;31m---------------------------------------------------------------------------\u001b[0m",
      "\u001b[1;31mNameError\u001b[0m                                 Traceback (most recent call last)",
      "Cell \u001b[1;32mIn[33], line 2\u001b[0m\n\u001b[0;32m      1\u001b[0m mega_texts \u001b[38;5;241m=\u001b[39m {}\n\u001b[1;32m----> 2\u001b[0m \u001b[38;5;28;01mfor\u001b[39;00m g \u001b[38;5;129;01min\u001b[39;00m \u001b[43mg_test_df\u001b[49m:\n\u001b[0;32m      3\u001b[0m     mega_text \u001b[38;5;241m=\u001b[39m \u001b[38;5;124m'\u001b[39m\u001b[38;5;124m'\u001b[39m\n\u001b[0;32m      4\u001b[0m     \u001b[38;5;28;01mfor\u001b[39;00m i \u001b[38;5;129;01min\u001b[39;00m \u001b[38;5;28mrange\u001b[39m(g[\u001b[38;5;241m1\u001b[39m]\u001b[38;5;241m.\u001b[39mshape[\u001b[38;5;241m0\u001b[39m]):\n",
      "\u001b[1;31mNameError\u001b[0m: name 'g_test_df' is not defined"
     ]
    }
   ],
   "source": [
    "mega_texts = {}\n",
    "for g in g_test_df:\n",
    "    mega_text = ''\n",
    "    for i in range(g[1].shape[0]):\n",
    "        mega_text += g[1].iloc[i][1] + \": \" + g[1].iloc[i][2]\n",
    "    print(g[0], g[1].iloc[0][2])\n",
    "    mega_texts[g[0]] = mega_text"
   ]
  },
  {
   "cell_type": "code",
   "execution_count": null,
   "metadata": {},
   "outputs": [
    {
     "ename": "NameError",
     "evalue": "name 'test_df' is not defined",
     "output_type": "error",
     "traceback": [
      "\u001b[1;31m---------------------------------------------------------------------------\u001b[0m",
      "\u001b[1;31mNameError\u001b[0m                                 Traceback (most recent call last)",
      "Cell \u001b[1;32mIn[34], line 4\u001b[0m\n\u001b[0;32m      1\u001b[0m \u001b[38;5;28;01mfrom\u001b[39;00m \u001b[38;5;21;01mScripts\u001b[39;00m\u001b[38;5;21;01m.\u001b[39;00m\u001b[38;5;21;01mDataManager\u001b[39;00m\u001b[38;5;21;01m.\u001b[39;00m\u001b[38;5;21;01mGraphConstructor\u001b[39;00m\u001b[38;5;21;01m.\u001b[39;00m\u001b[38;5;21;01mSentimentGraphConstructor\u001b[39;00m \u001b[38;5;28;01mimport\u001b[39;00m SentimentGraphConstructor\n\u001b[1;32m----> 4\u001b[0m sgc \u001b[38;5;241m=\u001b[39m SentimentGraphConstructor(\u001b[43mtest_df\u001b[49m[\u001b[38;5;241m1\u001b[39m][:\u001b[38;5;241m10\u001b[39m], path\u001b[38;5;241m.\u001b[39mjoin(\u001b[38;5;124m'\u001b[39m\u001b[38;5;124m'\u001b[39m, \u001b[38;5;124m'\u001b[39m\u001b[38;5;124msentiment\u001b[39m\u001b[38;5;124m'\u001b[39m), config, load_preprocessed_data\u001b[38;5;241m=\u001b[39m\u001b[38;5;28;01mFalse\u001b[39;00m, naming_prepend\u001b[38;5;241m=\u001b[39m\u001b[38;5;124m'\u001b[39m\u001b[38;5;124mgraph\u001b[39m\u001b[38;5;124m'\u001b[39m, start_data_load\u001b[38;5;241m=\u001b[39m\u001b[38;5;241m0\u001b[39m, end_data_load\u001b[38;5;241m=\u001b[39m\u001b[38;5;241m4\u001b[39m, use_sentence_nodes\u001b[38;5;241m=\u001b[39m\u001b[38;5;28;01mTrue\u001b[39;00m , use_general_node\u001b[38;5;241m=\u001b[39m\u001b[38;5;28;01mTrue\u001b[39;00m)\n",
      "\u001b[1;31mNameError\u001b[0m: name 'test_df' is not defined"
     ]
    }
   ],
   "source": [
    "from Scripts.DataManager.GraphConstructor.SentimentGraphConstructor import SentimentGraphConstructor\n",
    "\n",
    "\n",
    "sgc = SentimentGraphConstructor(test_df[1][:10], path.join('', 'sentiment'), config, load_preprocessed_data=False, naming_prepend='graph', start_data_load=0, end_data_load=4, use_sentence_nodes=True , use_general_node=True)"
   ]
  },
  {
   "cell_type": "code",
   "execution_count": null,
   "metadata": {},
   "outputs": [
    {
     "ename": "KeyboardInterrupt",
     "evalue": "",
     "output_type": "error",
     "traceback": [
      "\u001b[1;31m---------------------------------------------------------------------------\u001b[0m",
      "\u001b[1;31mKeyboardInterrupt\u001b[0m                         Traceback (most recent call last)",
      "\u001b[1;32mc:\\Users\\fardin\\Projects\\ColorIntelligence\\Practices\\Tasks\\Tests\\4_SentimentClassificationOnNews.ipynb Cell 21\u001b[0m line \u001b[0;36m3\n\u001b[0;32m      <a href='vscode-notebook-cell:/c%3A/Users/fardin/Projects/ColorIntelligence/Practices/Tasks/Tests/4_SentimentClassificationOnNews.ipynb#X61sZmlsZQ%3D%3D?line=0'>1</a>\u001b[0m mega_graphs \u001b[39m=\u001b[39m {}\n\u001b[0;32m      <a href='vscode-notebook-cell:/c%3A/Users/fardin/Projects/ColorIntelligence/Practices/Tasks/Tests/4_SentimentClassificationOnNews.ipynb#X61sZmlsZQ%3D%3D?line=1'>2</a>\u001b[0m \u001b[39mfor\u001b[39;00m k \u001b[39min\u001b[39;00m [\u001b[39m1\u001b[39m, \u001b[39m2\u001b[39m]:\n\u001b[1;32m----> <a href='vscode-notebook-cell:/c%3A/Users/fardin/Projects/ColorIntelligence/Practices/Tasks/Tests/4_SentimentClassificationOnNews.ipynb#X61sZmlsZQ%3D%3D?line=2'>3</a>\u001b[0m     mega_graphs[k] \u001b[39m=\u001b[39m sgc\u001b[39m.\u001b[39;49mto_graph(mega_texts[k])\n",
      "File \u001b[1;32mc:\\Users\\fardin\\Projects\\ColorIntelligence\\Scripts\\DataManager\\GraphConstructor\\SentimentGraphConstructor.py:38\u001b[0m, in \u001b[0;36mSentimentGraphConstructor.to_graph\u001b[1;34m(self, text)\u001b[0m\n\u001b[0;32m     36\u001b[0m \u001b[39mif\u001b[39;00m \u001b[39mlen\u001b[39m(doc) \u001b[39m<\u001b[39m \u001b[39m2\u001b[39m:\n\u001b[0;32m     37\u001b[0m     \u001b[39mreturn\u001b[39;00m\n\u001b[1;32m---> 38\u001b[0m \u001b[39mreturn\u001b[39;00m \u001b[39mself\u001b[39;49m\u001b[39m.\u001b[39;49m__create_sentiment_graph(doc)\n",
      "File \u001b[1;32mc:\\Users\\fardin\\Projects\\ColorIntelligence\\Scripts\\DataManager\\GraphConstructor\\SentimentGraphConstructor.py:45\u001b[0m, in \u001b[0;36mSentimentGraphConstructor.__create_sentiment_graph\u001b[1;34m(self, doc, for_compression)\u001b[0m\n\u001b[0;32m     43\u001b[0m     data \u001b[39m=\u001b[39m \u001b[39msuper\u001b[39m()\u001b[39m.\u001b[39mto_graph_indexed(doc)\n\u001b[0;32m     44\u001b[0m \u001b[39melse\u001b[39;00m:\n\u001b[1;32m---> 45\u001b[0m     data \u001b[39m=\u001b[39m \u001b[39msuper\u001b[39;49m()\u001b[39m.\u001b[39;49mto_graph(doc)\n\u001b[0;32m     46\u001b[0m \u001b[39m# adding sentiment nodes\u001b[39;00m\n\u001b[0;32m     47\u001b[0m \u001b[39mif\u001b[39;00m for_compression:\n",
      "File \u001b[1;32mc:\\Users\\fardin\\Projects\\ColorIntelligence\\Scripts\\DataManager\\GraphConstructor\\TagDepTokenGraphConstructor.py:35\u001b[0m, in \u001b[0;36mTagDepTokenGraphConstructor.to_graph\u001b[1;34m(self, text)\u001b[0m\n\u001b[0;32m     34\u001b[0m \u001b[39mdef\u001b[39;00m \u001b[39mto_graph\u001b[39m(\u001b[39mself\u001b[39m, text: \u001b[39mstr\u001b[39m):\n\u001b[1;32m---> 35\u001b[0m     doc \u001b[39m=\u001b[39m \u001b[39mself\u001b[39;49m\u001b[39m.\u001b[39;49mnlp(text)\n\u001b[0;32m     36\u001b[0m     \u001b[39m# if len(doc) < 2:\u001b[39;00m\n\u001b[0;32m     37\u001b[0m     \u001b[39m#     return\u001b[39;00m\n\u001b[0;32m     38\u001b[0m     \u001b[39mif\u001b[39;00m \u001b[39mself\u001b[39m\u001b[39m.\u001b[39muse_sentence_nodes:\n",
      "File \u001b[1;32mc:\\Users\\fardin\\AppData\\Local\\Programs\\Python\\Python310\\lib\\site-packages\\spacy\\language.py:1042\u001b[0m, in \u001b[0;36mLanguage.__call__\u001b[1;34m(self, text, disable, component_cfg)\u001b[0m\n\u001b[0;32m   1040\u001b[0m     error_handler \u001b[39m=\u001b[39m proc\u001b[39m.\u001b[39mget_error_handler()\n\u001b[0;32m   1041\u001b[0m \u001b[39mtry\u001b[39;00m:\n\u001b[1;32m-> 1042\u001b[0m     doc \u001b[39m=\u001b[39m proc(doc, \u001b[39m*\u001b[39m\u001b[39m*\u001b[39mcomponent_cfg\u001b[39m.\u001b[39mget(name, {}))  \u001b[39m# type: ignore[call-arg]\u001b[39;00m\n\u001b[0;32m   1043\u001b[0m \u001b[39mexcept\u001b[39;00m \u001b[39mKeyError\u001b[39;00m \u001b[39mas\u001b[39;00m e:\n\u001b[0;32m   1044\u001b[0m     \u001b[39m# This typically happens if a component is not initialized\u001b[39;00m\n\u001b[0;32m   1045\u001b[0m     \u001b[39mraise\u001b[39;00m \u001b[39mValueError\u001b[39;00m(Errors\u001b[39m.\u001b[39mE109\u001b[39m.\u001b[39mformat(name\u001b[39m=\u001b[39mname)) \u001b[39mfrom\u001b[39;00m \u001b[39me\u001b[39;00m\n",
      "File \u001b[1;32mc:\\Users\\fardin\\AppData\\Local\\Programs\\Python\\Python310\\lib\\site-packages\\spacy\\pipeline\\trainable_pipe.pyx:53\u001b[0m, in \u001b[0;36mspacy.pipeline.trainable_pipe.TrainablePipe.__call__\u001b[1;34m()\u001b[0m\n",
      "File \u001b[1;32mc:\\Users\\fardin\\AppData\\Local\\Programs\\Python\\Python310\\lib\\site-packages\\spacy\\pipeline\\tok2vec.py:129\u001b[0m, in \u001b[0;36mTok2Vec.set_annotations\u001b[1;34m(self, docs, tokvecses)\u001b[0m\n\u001b[0;32m    126\u001b[0m     tokvecs \u001b[39m=\u001b[39m \u001b[39mself\u001b[39m\u001b[39m.\u001b[39mmodel\u001b[39m.\u001b[39mpredict(docs)\n\u001b[0;32m    127\u001b[0m     \u001b[39mreturn\u001b[39;00m tokvecs\n\u001b[1;32m--> 129\u001b[0m \u001b[39mdef\u001b[39;00m \u001b[39mset_annotations\u001b[39m(\u001b[39mself\u001b[39m, docs: Sequence[Doc], tokvecses) \u001b[39m-\u001b[39m\u001b[39m>\u001b[39m \u001b[39mNone\u001b[39;00m:\n\u001b[0;32m    130\u001b[0m \u001b[39m    \u001b[39m\u001b[39m\"\"\"Modify a batch of documents, using pre-computed scores.\u001b[39;00m\n\u001b[0;32m    131\u001b[0m \n\u001b[0;32m    132\u001b[0m \u001b[39m    docs (Iterable[Doc]): The documents to modify.\u001b[39;00m\n\u001b[1;32m   (...)\u001b[0m\n\u001b[0;32m    135\u001b[0m \u001b[39m    DOCS: https://spacy.io/api/tok2vec#set_annotations\u001b[39;00m\n\u001b[0;32m    136\u001b[0m \u001b[39m    \"\"\"\u001b[39;00m\n\u001b[0;32m    137\u001b[0m     \u001b[39mfor\u001b[39;00m doc, tokvecs \u001b[39min\u001b[39;00m \u001b[39mzip\u001b[39m(docs, tokvecses):\n",
      "\u001b[1;31mKeyboardInterrupt\u001b[0m: "
     ]
    }
   ],
   "source": [
    "mega_graphs = {}\n",
    "for k in [1, 2]:\n",
    "    mega_graphs[k] = sgc.to_graph(mega_texts[k])"
   ]
  },
  {
   "cell_type": "code",
   "execution_count": null,
   "metadata": {},
   "outputs": [],
   "source": [
    "import torch_geometric"
   ]
  },
  {
   "cell_type": "code",
   "execution_count": null,
   "metadata": {},
   "outputs": [],
   "source": [
    "mega_X = torch_geometric.data.Batch.from_data_list([mega_graphs[i].to(device) for i in [1, 2, 3, 4]])"
   ]
  },
  {
   "cell_type": "code",
   "execution_count": null,
   "metadata": {},
   "outputs": [],
   "source": [
    "lightning_model.eval()\n",
    "\n",
    "with torch.no_grad():\n",
    "    y_pred = lightning_model(mega_X.to(device))"
   ]
  },
  {
   "cell_type": "code",
   "execution_count": null,
   "metadata": {},
   "outputs": [],
   "source": [
    "if type(y_pred) is tuple:\n",
    "    y_pred = y_pred[0]\n",
    "y_pred2 = []\n",
    "y_pred2 = y_pred.detach().to('cpu')\n",
    "y_true_num = torch.argmax(y_pred2, dim=1)"
   ]
  },
  {
   "cell_type": "code",
   "execution_count": null,
   "metadata": {},
   "outputs": [
    {
     "data": {
      "text/plain": [
       "tensor([3, 1, 3, 3])"
      ]
     },
     "execution_count": 71,
     "metadata": {},
     "output_type": "execute_result"
    }
   ],
   "source": [
    "y_true_num"
   ]
  },
  {
   "cell_type": "code",
   "execution_count": null,
   "metadata": {},
   "outputs": [
    {
     "data": {
      "text/plain": [
       "(tensor([[ 1246.4675, -2237.6919, -2284.7419,  2301.0710],\n",
       "         [ 2964.4380,  4919.9702, -3588.7991, -7236.5791],\n",
       "         [  403.5633, -3150.3320,  -225.1519,  1840.4347],\n",
       "         [-1008.6052, -2609.5312,  -257.7684,  2605.8118]], device='cuda:0'),\n",
       " {'dep': tensor([[6.5649e-05, 6.5649e-05, 6.5649e-05,  ..., 6.5649e-05, 6.5649e-05,\n",
       "           6.5649e-05],\n",
       "          [6.5649e-05, 6.5649e-05, 6.5649e-05,  ..., 6.5649e-05, 6.5649e-05,\n",
       "           6.5649e-05],\n",
       "          [6.5649e-05, 6.5649e-05, 6.5649e-05,  ..., 6.5649e-05, 6.5649e-05,\n",
       "           6.5649e-05],\n",
       "          ...,\n",
       "          [6.5649e-05, 6.5649e-05, 6.5649e-05,  ..., 6.5649e-05, 6.5649e-05,\n",
       "           6.5649e-05],\n",
       "          [6.5649e-05, 6.5649e-05, 6.5649e-05,  ..., 6.5649e-05, 6.5649e-05,\n",
       "           6.5649e-05],\n",
       "          [6.5649e-05, 6.5649e-05, 6.5649e-05,  ..., 6.5649e-05, 6.5649e-05,\n",
       "           6.5649e-05]], device='cuda:0'),\n",
       "  'tag': tensor([[5.3191e-05, 5.3191e-05, 5.3191e-05,  ..., 5.3191e-05, 5.3191e-05,\n",
       "           5.3191e-05],\n",
       "          [5.3191e-05, 5.3191e-05, 5.3191e-05,  ..., 5.3191e-05, 5.3191e-05,\n",
       "           5.3191e-05],\n",
       "          [5.3191e-05, 5.3191e-05, 5.3191e-05,  ..., 5.3191e-05, 5.3191e-05,\n",
       "           5.3191e-05],\n",
       "          ...,\n",
       "          [5.3191e-05, 5.3191e-05, 5.3191e-05,  ..., 5.3191e-05, 5.3191e-05,\n",
       "           5.3191e-05],\n",
       "          [5.3191e-05, 5.3191e-05, 5.3191e-05,  ..., 5.3191e-05, 5.3191e-05,\n",
       "           5.3191e-05],\n",
       "          [5.3191e-05, 5.3191e-05, 5.3191e-05,  ..., 5.3191e-05, 5.3191e-05,\n",
       "           5.3191e-05]], device='cuda:0'),\n",
       "  'word': tensor([[-1.7083e-03,  7.2887e-03,  7.5194e-02,  ..., -3.4017e-03,\n",
       "           -7.2433e-03, -2.8090e-03],\n",
       "          [ 1.7987e-01,  4.1029e-01,  1.0408e-01,  ..., -6.8409e-03,\n",
       "           -2.8779e-03,  9.4514e-03],\n",
       "          [-1.0927e-03,  2.4727e-01, -6.7287e-04,  ..., -5.1184e-03,\n",
       "           -7.3378e-03, -3.5557e-03],\n",
       "          ...,\n",
       "          [ 1.5394e-01,  1.7010e-01, -5.9292e-04,  ..., -3.7116e-03,\n",
       "           -1.0124e-03, -4.0274e-03],\n",
       "          [ 6.1670e-02, -2.9425e-04,  4.0671e-02,  ..., -2.8887e-03,\n",
       "            6.7863e-02, -3.6771e-03],\n",
       "          [ 3.4066e-01,  4.8450e-01,  4.6113e-02,  ..., -1.6079e-03,\n",
       "            2.1545e-01, -1.3603e-03]], device='cuda:0'),\n",
       "  'sentence': tensor([[-2.1387e-08,  6.7338e-07,  1.7232e-06,  ..., -1.5957e-08,\n",
       "            4.0015e-06,  2.1056e-06],\n",
       "          [-2.1387e-08,  6.7338e-07,  1.7232e-06,  ..., -1.5957e-08,\n",
       "            4.0015e-06,  2.1056e-06],\n",
       "          [-2.1387e-08,  6.7338e-07,  1.7232e-06,  ..., -1.5957e-08,\n",
       "            4.0015e-06,  2.1056e-06],\n",
       "          ...,\n",
       "          [-2.1387e-08,  6.7338e-07,  1.7232e-06,  ..., -1.5957e-08,\n",
       "            4.0015e-06,  2.1056e-06],\n",
       "          [-2.1387e-08,  6.7338e-07,  1.7232e-06,  ..., -1.5957e-08,\n",
       "            4.0015e-06,  2.1056e-06],\n",
       "          [-2.1387e-08,  6.7338e-07,  1.7232e-06,  ..., -1.5957e-08,\n",
       "            4.0015e-06,  2.1056e-06]], device='cuda:0'),\n",
       "  'general': tensor([[ 1.9725e-41,  1.0993e-41,  1.8988e-41,  ...,  4.1506e-42,\n",
       "            1.8469e-41, -3.3631e-44],\n",
       "          [ 1.9725e-41,  1.0993e-41,  1.8988e-41,  ...,  4.1506e-42,\n",
       "            1.8469e-41, -3.3631e-44],\n",
       "          [ 1.9725e-41,  1.0993e-41,  1.8988e-41,  ...,  4.1506e-42,\n",
       "            1.8469e-41, -3.3631e-44],\n",
       "          [ 1.9725e-41,  1.0993e-41,  1.8988e-41,  ...,  4.1506e-42,\n",
       "            1.8469e-41, -3.3631e-44]], device='cuda:0'),\n",
       "  'sentiment': tensor([[ 8.1514e-42,  4.0708e-42,  9.3200e-42,  ..., -2.9567e-43,\n",
       "           -2.1300e-43, -2.9427e-44],\n",
       "          [ 8.1514e-42,  4.0708e-42,  9.3200e-42,  ..., -2.9567e-43,\n",
       "           -2.1300e-43, -2.9427e-44],\n",
       "          [ 8.1514e-42,  4.0708e-42,  9.3200e-42,  ..., -2.9567e-43,\n",
       "           -2.1300e-43, -2.9427e-44],\n",
       "          ...,\n",
       "          [ 8.1514e-42,  4.0708e-42,  9.3200e-42,  ..., -2.9567e-43,\n",
       "           -2.1300e-43, -2.9427e-44],\n",
       "          [ 8.1514e-42,  4.0708e-42,  9.3200e-42,  ..., -2.9567e-43,\n",
       "           -2.1300e-43, -2.9427e-44],\n",
       "          [ 8.1514e-42,  4.0708e-42,  9.3200e-42,  ..., -2.9567e-43,\n",
       "           -2.1300e-43, -2.9427e-44]], device='cuda:0')})"
      ]
     },
     "execution_count": 66,
     "metadata": {},
     "output_type": "execute_result"
    }
   ],
   "source": [
    "y_pred[0]"
   ]
  },
  {
   "cell_type": "code",
   "execution_count": null,
   "metadata": {},
   "outputs": [
    {
     "data": {
      "text/plain": [
       "HeteroData(\n",
       "  dep={\n",
       "    length=45,\n",
       "    x=[45],\n",
       "  },\n",
       "  tag={\n",
       "    length=50,\n",
       "    x=[50],\n",
       "  },\n",
       "  word={ x=[84994, 300] },\n",
       "  sentence={ x=[2434, 300] },\n",
       "  general={ x=[1, 300] },\n",
       "  sentiment={ x=[2, 300] },\n",
       "  (dep, dep_word, word)={\n",
       "    edge_index=[2, 82560],\n",
       "    edge_attr=[82560],\n",
       "  },\n",
       "  (word, word_dep, dep)={\n",
       "    edge_index=[2, 82560],\n",
       "    edge_attr=[82560],\n",
       "  },\n",
       "  (tag, tag_word, word)={\n",
       "    edge_index=[2, 84994],\n",
       "    edge_attr=[84994],\n",
       "  },\n",
       "  (word, word_tag, tag)={\n",
       "    edge_index=[2, 84994],\n",
       "    edge_attr=[84994],\n",
       "  },\n",
       "  (word, seq, word)={\n",
       "    edge_index=[2, 169986],\n",
       "    edge_attr=[169986],\n",
       "  },\n",
       "  (general, general_sentence, sentence)={\n",
       "    edge_index=[2, 2434],\n",
       "    edge_attr=[2434],\n",
       "  },\n",
       "  (sentence, sentence_general, general)={\n",
       "    edge_index=[2, 2434],\n",
       "    edge_attr=[2434],\n",
       "  },\n",
       "  (word, word_sentence, sentence)={\n",
       "    edge_index=[2, 84994],\n",
       "    edge_attr=[84994],\n",
       "  },\n",
       "  (sentence, sentence_word, word)={\n",
       "    edge_index=[2, 84994],\n",
       "    edge_attr=[84994],\n",
       "  },\n",
       "  (word, word_sentiment, sentiment)={\n",
       "    edge_index=[2, 3406],\n",
       "    edge_attr=[3406],\n",
       "  },\n",
       "  (sentiment, sentiment_word, word)={\n",
       "    edge_index=[2, 3406],\n",
       "    edge_attr=[3406],\n",
       "  }\n",
       ")"
      ]
     },
     "execution_count": 60,
     "metadata": {},
     "output_type": "execute_result"
    }
   ],
   "source": [
    "mega_graphs[1]"
   ]
  },
  {
   "cell_type": "code",
   "execution_count": null,
   "metadata": {},
   "outputs": [
    {
     "data": {
      "text/plain": [
       "458640"
      ]
     },
     "execution_count": 56,
     "metadata": {},
     "output_type": "execute_result"
    }
   ],
   "source": [
    "len(mega_texts[1])"
   ]
  },
  {
   "cell_type": "code",
   "execution_count": null,
   "metadata": {},
   "outputs": [],
   "source": [
    "\n",
    "model_manager.lightning_model.loss_func.enc_factor=0.0001\n",
    "# model_manager.update_learning_rate(0.0003)\n",
    "\n",
    "optimizer = torch.optim.Adam(graph_embedding.parameters(), lr=0.0003, weight_decay=0.0012)\n",
    "model_manager.lightning_model.configure_optimizers()['lr_scheduler']['scheduler'].optimizer = optimizer\n",
    "# model_manager.lightning_model.configure_optimizers()['lr_scheduler']['scheduler'].milestones = Counter(milestones)\n",
    "model_manager.lightning_model.optimizer =optimizer"
   ]
  },
  {
   "cell_type": "code",
   "execution_count": null,
   "metadata": {},
   "outputs": [
    {
     "name": "stderr",
     "output_type": "stream",
     "text": [
      "c:\\Users\\fardin\\AppData\\Local\\Programs\\Python\\Python310\\lib\\site-packages\\lightning\\pytorch\\callbacks\\model_checkpoint.py:630: Checkpoint directory logs/hetero_model_18_AG\\version_23\\checkpoints exists and is not empty.\n",
      "LOCAL_RANK: 0 - CUDA_VISIBLE_DEVICES: [0]\n"
     ]
    },
    {
     "name": "stdout",
     "output_type": "stream",
     "text": [
      "bbbb\n"
     ]
    },
    {
     "name": "stderr",
     "output_type": "stream",
     "text": [
      "\n",
      "  | Name      | Type                      | Params\n",
      "--------------------------------------------------------\n",
      "0 | model     | HeteroDeepGraphEmbedding6 | 205 K \n",
      "1 | loss_func | MulticlassHeteroLoss2     | 0     \n",
      "2 | train_acc | MulticlassAccuracy        | 0     \n",
      "3 | val_acc   | MulticlassAccuracy        | 0     \n",
      "4 | test_acc  | MulticlassAccuracy        | 0     \n",
      "--------------------------------------------------------\n",
      "205 K     Trainable params\n",
      "23        Non-trainable params\n",
      "205 K     Total params\n",
      "0.822     Total estimated model params size (MB)\n",
      "c:\\Users\\fardin\\AppData\\Local\\Programs\\Python\\Python310\\lib\\site-packages\\lightning\\pytorch\\trainer\\connectors\\data_connector.py:441: The 'train_dataloader' does not have many workers which may be a bottleneck. Consider increasing the value of the `num_workers` argument` to `num_workers=7` in the `DataLoader` to improve performance.\n",
      "c:\\Users\\fardin\\AppData\\Local\\Programs\\Python\\Python310\\lib\\site-packages\\lightning\\pytorch\\trainer\\connectors\\data_connector.py:441: The 'val_dataloader' does not have many workers which may be a bottleneck. Consider increasing the value of the `num_workers` argument` to `num_workers=7` in the `DataLoader` to improve performance.\n"
     ]
    },
    {
     "data": {
      "application/vnd.jupyter.widget-view+json": {
       "model_id": "58192a5fedfd42d8986b51c6f0c44ec6",
       "version_major": 2,
       "version_minor": 0
      },
      "text/plain": [
       "Training: |          | 0/? [00:00<?, ?it/s]"
      ]
     },
     "metadata": {},
     "output_type": "display_data"
    },
    {
     "name": "stdout",
     "output_type": "stream",
     "text": [
      "Adjusting learning rate of group 0 to 3.0000e-04.\n"
     ]
    },
    {
     "data": {
      "application/vnd.jupyter.widget-view+json": {
       "model_id": "c632ffb0e06948949be54cff19d0e70d",
       "version_major": 2,
       "version_minor": 0
      },
      "text/plain": [
       "Validation: |          | 0/? [00:00<?, ?it/s]"
      ]
     },
     "metadata": {},
     "output_type": "display_data"
    },
    {
     "name": "stdout",
     "output_type": "stream",
     "text": [
      "Adjusting learning rate of group 0 to 3.0000e-04.\n"
     ]
    },
    {
     "data": {
      "application/vnd.jupyter.widget-view+json": {
       "model_id": "16c24f8df31d4ab89bf435e82226a5c1",
       "version_major": 2,
       "version_minor": 0
      },
      "text/plain": [
       "Validation: |          | 0/? [00:00<?, ?it/s]"
      ]
     },
     "metadata": {},
     "output_type": "display_data"
    },
    {
     "name": "stdout",
     "output_type": "stream",
     "text": [
      "Adjusting learning rate of group 0 to 3.0000e-04.\n"
     ]
    },
    {
     "data": {
      "application/vnd.jupyter.widget-view+json": {
       "model_id": "e015a44963e14c249b5b72ae0d9da80d",
       "version_major": 2,
       "version_minor": 0
      },
      "text/plain": [
       "Validation: |          | 0/? [00:00<?, ?it/s]"
      ]
     },
     "metadata": {},
     "output_type": "display_data"
    },
    {
     "name": "stdout",
     "output_type": "stream",
     "text": [
      "Adjusting learning rate of group 0 to 3.0000e-04.\n"
     ]
    },
    {
     "data": {
      "application/vnd.jupyter.widget-view+json": {
       "model_id": "dac0ab74ec694f7bb20d99e2c5e9930e",
       "version_major": 2,
       "version_minor": 0
      },
      "text/plain": [
       "Validation: |          | 0/? [00:00<?, ?it/s]"
      ]
     },
     "metadata": {},
     "output_type": "display_data"
    },
    {
     "name": "stdout",
     "output_type": "stream",
     "text": [
      "Adjusting learning rate of group 0 to 3.0000e-04.\n"
     ]
    },
    {
     "data": {
      "application/vnd.jupyter.widget-view+json": {
       "model_id": "8a1ae70c0ae040579967f189918eaa50",
       "version_major": 2,
       "version_minor": 0
      },
      "text/plain": [
       "Validation: |          | 0/? [00:00<?, ?it/s]"
      ]
     },
     "metadata": {},
     "output_type": "display_data"
    },
    {
     "name": "stdout",
     "output_type": "stream",
     "text": [
      "Adjusting learning rate of group 0 to 3.0000e-04.\n"
     ]
    },
    {
     "data": {
      "application/vnd.jupyter.widget-view+json": {
       "model_id": "ec75352e7cef400ea0b97e31b3050099",
       "version_major": 2,
       "version_minor": 0
      },
      "text/plain": [
       "Validation: |          | 0/? [00:00<?, ?it/s]"
      ]
     },
     "metadata": {},
     "output_type": "display_data"
    },
    {
     "name": "stdout",
     "output_type": "stream",
     "text": [
      "Adjusting learning rate of group 0 to 3.0000e-04.\n"
     ]
    },
    {
     "data": {
      "application/vnd.jupyter.widget-view+json": {
       "model_id": "ef020d27746c49f29f77c05b11dee1cc",
       "version_major": 2,
       "version_minor": 0
      },
      "text/plain": [
       "Validation: |          | 0/? [00:00<?, ?it/s]"
      ]
     },
     "metadata": {},
     "output_type": "display_data"
    },
    {
     "name": "stdout",
     "output_type": "stream",
     "text": [
      "Adjusting learning rate of group 0 to 3.0000e-04.\n"
     ]
    },
    {
     "data": {
      "application/vnd.jupyter.widget-view+json": {
       "model_id": "9a87312ce7644a77bc809091551f8c38",
       "version_major": 2,
       "version_minor": 0
      },
      "text/plain": [
       "Validation: |          | 0/? [00:00<?, ?it/s]"
      ]
     },
     "metadata": {},
     "output_type": "display_data"
    },
    {
     "name": "stdout",
     "output_type": "stream",
     "text": [
      "Adjusting learning rate of group 0 to 3.0000e-04.\n"
     ]
    },
    {
     "data": {
      "application/vnd.jupyter.widget-view+json": {
       "model_id": "9989b882033b4dbc8661aaeba3a7437c",
       "version_major": 2,
       "version_minor": 0
      },
      "text/plain": [
       "Validation: |          | 0/? [00:00<?, ?it/s]"
      ]
     },
     "metadata": {},
     "output_type": "display_data"
    },
    {
     "name": "stdout",
     "output_type": "stream",
     "text": [
      "Adjusting learning rate of group 0 to 3.0000e-04.\n"
     ]
    },
    {
     "data": {
      "application/vnd.jupyter.widget-view+json": {
       "model_id": "059fd3c64f0649f3a366ff7ab4cd7498",
       "version_major": 2,
       "version_minor": 0
      },
      "text/plain": [
       "Validation: |          | 0/? [00:00<?, ?it/s]"
      ]
     },
     "metadata": {},
     "output_type": "display_data"
    },
    {
     "name": "stdout",
     "output_type": "stream",
     "text": [
      "Adjusting learning rate of group 0 to 3.0000e-04.\n"
     ]
    },
    {
     "data": {
      "application/vnd.jupyter.widget-view+json": {
       "model_id": "114248708ae34f74a5b51a40965c230b",
       "version_major": 2,
       "version_minor": 0
      },
      "text/plain": [
       "Validation: |          | 0/? [00:00<?, ?it/s]"
      ]
     },
     "metadata": {},
     "output_type": "display_data"
    },
    {
     "name": "stdout",
     "output_type": "stream",
     "text": [
      "Adjusting learning rate of group 0 to 3.0000e-04.\n"
     ]
    },
    {
     "data": {
      "application/vnd.jupyter.widget-view+json": {
       "model_id": "17eaad1dcb304ef1868e0b8a232f8fb9",
       "version_major": 2,
       "version_minor": 0
      },
      "text/plain": [
       "Validation: |          | 0/? [00:00<?, ?it/s]"
      ]
     },
     "metadata": {},
     "output_type": "display_data"
    },
    {
     "name": "stdout",
     "output_type": "stream",
     "text": [
      "Adjusting learning rate of group 0 to 3.0000e-04.\n"
     ]
    },
    {
     "data": {
      "application/vnd.jupyter.widget-view+json": {
       "model_id": "772a754b4a1a474aae250b16842985b1",
       "version_major": 2,
       "version_minor": 0
      },
      "text/plain": [
       "Validation: |          | 0/? [00:00<?, ?it/s]"
      ]
     },
     "metadata": {},
     "output_type": "display_data"
    },
    {
     "name": "stdout",
     "output_type": "stream",
     "text": [
      "Adjusting learning rate of group 0 to 3.0000e-04.\n"
     ]
    },
    {
     "data": {
      "application/vnd.jupyter.widget-view+json": {
       "model_id": "d1b9cc42db754c7a8854cc0055f35958",
       "version_major": 2,
       "version_minor": 0
      },
      "text/plain": [
       "Validation: |          | 0/? [00:00<?, ?it/s]"
      ]
     },
     "metadata": {},
     "output_type": "display_data"
    },
    {
     "name": "stdout",
     "output_type": "stream",
     "text": [
      "Adjusting learning rate of group 0 to 3.0000e-04.\n"
     ]
    },
    {
     "data": {
      "application/vnd.jupyter.widget-view+json": {
       "model_id": "3ed399d2b89846f196401ae63318fb8d",
       "version_major": 2,
       "version_minor": 0
      },
      "text/plain": [
       "Validation: |          | 0/? [00:00<?, ?it/s]"
      ]
     },
     "metadata": {},
     "output_type": "display_data"
    },
    {
     "name": "stdout",
     "output_type": "stream",
     "text": [
      "Adjusting learning rate of group 0 to 3.0000e-04.\n"
     ]
    },
    {
     "data": {
      "application/vnd.jupyter.widget-view+json": {
       "model_id": "a62848fd05614dfb8d8957954b165663",
       "version_major": 2,
       "version_minor": 0
      },
      "text/plain": [
       "Validation: |          | 0/? [00:00<?, ?it/s]"
      ]
     },
     "metadata": {},
     "output_type": "display_data"
    },
    {
     "name": "stdout",
     "output_type": "stream",
     "text": [
      "Adjusting learning rate of group 0 to 3.0000e-04.\n"
     ]
    },
    {
     "data": {
      "application/vnd.jupyter.widget-view+json": {
       "model_id": "19f4b7e373b74635abb430e5421e6269",
       "version_major": 2,
       "version_minor": 0
      },
      "text/plain": [
       "Validation: |          | 0/? [00:00<?, ?it/s]"
      ]
     },
     "metadata": {},
     "output_type": "display_data"
    },
    {
     "name": "stdout",
     "output_type": "stream",
     "text": [
      "Adjusting learning rate of group 0 to 3.0000e-04.\n"
     ]
    },
    {
     "data": {
      "application/vnd.jupyter.widget-view+json": {
       "model_id": "2277a0a256054584b4772103f2772ec8",
       "version_major": 2,
       "version_minor": 0
      },
      "text/plain": [
       "Validation: |          | 0/? [00:00<?, ?it/s]"
      ]
     },
     "metadata": {},
     "output_type": "display_data"
    },
    {
     "name": "stdout",
     "output_type": "stream",
     "text": [
      "Adjusting learning rate of group 0 to 3.0000e-04.\n"
     ]
    },
    {
     "data": {
      "application/vnd.jupyter.widget-view+json": {
       "model_id": "0276c0d6c65941fabe81180f07a43af5",
       "version_major": 2,
       "version_minor": 0
      },
      "text/plain": [
       "Validation: |          | 0/? [00:00<?, ?it/s]"
      ]
     },
     "metadata": {},
     "output_type": "display_data"
    },
    {
     "name": "stdout",
     "output_type": "stream",
     "text": [
      "Adjusting learning rate of group 0 to 3.0000e-04.\n"
     ]
    },
    {
     "data": {
      "application/vnd.jupyter.widget-view+json": {
       "model_id": "82190488b6014ef6a40315167000eccf",
       "version_major": 2,
       "version_minor": 0
      },
      "text/plain": [
       "Validation: |          | 0/? [00:00<?, ?it/s]"
      ]
     },
     "metadata": {},
     "output_type": "display_data"
    },
    {
     "name": "stdout",
     "output_type": "stream",
     "text": [
      "Adjusting learning rate of group 0 to 3.0000e-04.\n"
     ]
    },
    {
     "data": {
      "application/vnd.jupyter.widget-view+json": {
       "model_id": "34d8c2bee14d4ebf85a6be60585ffa01",
       "version_major": 2,
       "version_minor": 0
      },
      "text/plain": [
       "Validation: |          | 0/? [00:00<?, ?it/s]"
      ]
     },
     "metadata": {},
     "output_type": "display_data"
    },
    {
     "name": "stdout",
     "output_type": "stream",
     "text": [
      "Adjusting learning rate of group 0 to 3.0000e-04.\n"
     ]
    },
    {
     "data": {
      "application/vnd.jupyter.widget-view+json": {
       "model_id": "8c5dce0ea06341adadbd5d3650fecfb0",
       "version_major": 2,
       "version_minor": 0
      },
      "text/plain": [
       "Validation: |          | 0/? [00:00<?, ?it/s]"
      ]
     },
     "metadata": {},
     "output_type": "display_data"
    },
    {
     "name": "stdout",
     "output_type": "stream",
     "text": [
      "Adjusting learning rate of group 0 to 3.0000e-04.\n"
     ]
    },
    {
     "data": {
      "application/vnd.jupyter.widget-view+json": {
       "model_id": "97214d3a10b544d3adbd79f367a620c1",
       "version_major": 2,
       "version_minor": 0
      },
      "text/plain": [
       "Validation: |          | 0/? [00:00<?, ?it/s]"
      ]
     },
     "metadata": {},
     "output_type": "display_data"
    },
    {
     "name": "stdout",
     "output_type": "stream",
     "text": [
      "Adjusting learning rate of group 0 to 3.0000e-04.\n"
     ]
    },
    {
     "data": {
      "application/vnd.jupyter.widget-view+json": {
       "model_id": "79b63f27244a475db655b9e4a4fd3c9e",
       "version_major": 2,
       "version_minor": 0
      },
      "text/plain": [
       "Validation: |          | 0/? [00:00<?, ?it/s]"
      ]
     },
     "metadata": {},
     "output_type": "display_data"
    },
    {
     "name": "stdout",
     "output_type": "stream",
     "text": [
      "Adjusting learning rate of group 0 to 3.0000e-04.\n"
     ]
    },
    {
     "data": {
      "application/vnd.jupyter.widget-view+json": {
       "model_id": "28890bfd32344af39bb2ba983d4b4230",
       "version_major": 2,
       "version_minor": 0
      },
      "text/plain": [
       "Validation: |          | 0/? [00:00<?, ?it/s]"
      ]
     },
     "metadata": {},
     "output_type": "display_data"
    },
    {
     "name": "stdout",
     "output_type": "stream",
     "text": [
      "Adjusting learning rate of group 0 to 3.0000e-04.\n"
     ]
    },
    {
     "data": {
      "application/vnd.jupyter.widget-view+json": {
       "model_id": "4174278dae0540c38fe3f846233a791a",
       "version_major": 2,
       "version_minor": 0
      },
      "text/plain": [
       "Validation: |          | 0/? [00:00<?, ?it/s]"
      ]
     },
     "metadata": {},
     "output_type": "display_data"
    },
    {
     "name": "stdout",
     "output_type": "stream",
     "text": [
      "Adjusting learning rate of group 0 to 3.0000e-04.\n"
     ]
    },
    {
     "data": {
      "application/vnd.jupyter.widget-view+json": {
       "model_id": "00ada53e48d44dd3a7862b34974b339a",
       "version_major": 2,
       "version_minor": 0
      },
      "text/plain": [
       "Validation: |          | 0/? [00:00<?, ?it/s]"
      ]
     },
     "metadata": {},
     "output_type": "display_data"
    },
    {
     "name": "stdout",
     "output_type": "stream",
     "text": [
      "Adjusting learning rate of group 0 to 3.0000e-04.\n"
     ]
    },
    {
     "data": {
      "application/vnd.jupyter.widget-view+json": {
       "model_id": "43e0f773fcdd4661a6c9a16de9e6d752",
       "version_major": 2,
       "version_minor": 0
      },
      "text/plain": [
       "Validation: |          | 0/? [00:00<?, ?it/s]"
      ]
     },
     "metadata": {},
     "output_type": "display_data"
    },
    {
     "name": "stdout",
     "output_type": "stream",
     "text": [
      "Adjusting learning rate of group 0 to 3.0000e-04.\n"
     ]
    },
    {
     "data": {
      "application/vnd.jupyter.widget-view+json": {
       "model_id": "f74075c8f66246a1b973101bf19575d4",
       "version_major": 2,
       "version_minor": 0
      },
      "text/plain": [
       "Validation: |          | 0/? [00:00<?, ?it/s]"
      ]
     },
     "metadata": {},
     "output_type": "display_data"
    },
    {
     "name": "stdout",
     "output_type": "stream",
     "text": [
      "Adjusting learning rate of group 0 to 3.0000e-04.\n"
     ]
    },
    {
     "data": {
      "application/vnd.jupyter.widget-view+json": {
       "model_id": "e64859f545eb4c0d88989d346e7ed080",
       "version_major": 2,
       "version_minor": 0
      },
      "text/plain": [
       "Validation: |          | 0/? [00:00<?, ?it/s]"
      ]
     },
     "metadata": {},
     "output_type": "display_data"
    },
    {
     "name": "stderr",
     "output_type": "stream",
     "text": [
      "`Trainer.fit` stopped: `max_epochs=70` reached.\n"
     ]
    },
    {
     "name": "stdout",
     "output_type": "stream",
     "text": [
      "torch.Size([7000, 4])\n",
      "torch.Size([7000, 4])\n",
      "torch.Size([7000])\n",
      "torch.Size([7000])\n"
     ]
    },
    {
     "data": {
      "image/png": "[encoded data removed]",
      "text/plain": [
       "<Figure size 640x480 with 1 Axes>"
      ]
     },
     "metadata": {},
     "output_type": "display_data"
    }
   ],
   "source": [
    "model_manager.fit(datamodule=data_manager)\n",
    "\n",
    "model_manager.save_plot_csv_logger(loss_names=['train_loss_epoch', 'val_loss'], eval_names=['train_acc_epoch', 'val_acc'], name_prepend=f'tests2_{k}')\n",
    "model_manager.torch_model = model_manager.torch_model.to(device)\n",
    "save_evaluation(model_manager, data_manager.val_dataloader(), f'{k}2',True, True, True, True, True, True, True, multi_class=True)"
   ]
  },
  {
   "cell_type": "code",
   "execution_count": null,
   "metadata": {},
   "outputs": [
    {
     "ename": "AttributeError",
     "evalue": "'AGGraphDataModule' object has no attribute '_AGGraphDataModule__test_dataloader'",
     "output_type": "error",
     "traceback": [
      "\u001b[1;31m---------------------------------------------------------------------------\u001b[0m",
      "\u001b[1;31mAttributeError\u001b[0m                            Traceback (most recent call last)",
      "\u001b[1;32mc:\\Users\\fardin\\Projects\\ColorIntelligence\\Practices\\Tasks\\Tests\\4_SentimentClassificationOnNews.ipynb Cell 13\u001b[0m line \u001b[0;36m2\n\u001b[0;32m      <a href='vscode-notebook-cell:/c%3A/Users/fardin/Projects/ColorIntelligence/Practices/Tasks/Tests/4_SentimentClassificationOnNews.ipynb#X43sZmlsZQ%3D%3D?line=0'>1</a>\u001b[0m model_manager\u001b[39m.\u001b[39mtorch_model \u001b[39m=\u001b[39m model_manager\u001b[39m.\u001b[39mtorch_model\u001b[39m.\u001b[39mto(device)\n\u001b[1;32m----> <a href='vscode-notebook-cell:/c%3A/Users/fardin/Projects/ColorIntelligence/Practices/Tasks/Tests/4_SentimentClassificationOnNews.ipynb#X43sZmlsZQ%3D%3D?line=1'>2</a>\u001b[0m save_evaluation(model_manager, data_manager\u001b[39m.\u001b[39;49mtest_dataloader(), \u001b[39m'\u001b[39m\u001b[39mtest1_t\u001b[39m\u001b[39m'\u001b[39m,\u001b[39mTrue\u001b[39;00m, \u001b[39mTrue\u001b[39;00m, \u001b[39mTrue\u001b[39;00m, \u001b[39mTrue\u001b[39;00m, \u001b[39mTrue\u001b[39;00m, \u001b[39mTrue\u001b[39;00m, \u001b[39mTrue\u001b[39;00m, multi_class\u001b[39m=\u001b[39m\u001b[39mTrue\u001b[39;00m)\n",
      "File \u001b[1;32mc:\\Users\\fardin\\Projects\\ColorIntelligence\\Scripts\\DataManager\\GraphLoader\\AGGraphDataModule.py:162\u001b[0m, in \u001b[0;36mAGGraphDataModule.test_dataloader\u001b[1;34m(self)\u001b[0m\n\u001b[0;32m    161\u001b[0m \u001b[39mdef\u001b[39;00m \u001b[39mtest_dataloader\u001b[39m(\u001b[39mself\u001b[39m):\n\u001b[1;32m--> 162\u001b[0m     \u001b[39mreturn\u001b[39;00m \u001b[39mself\u001b[39;49m\u001b[39m.\u001b[39;49m__test_dataloader[\u001b[39mself\u001b[39m\u001b[39m.\u001b[39mactive_key ]\n",
      "\u001b[1;31mAttributeError\u001b[0m: 'AGGraphDataModule' object has no attribute '_AGGraphDataModule__test_dataloader'"
     ]
    }
   ],
   "source": [
    "model_manager.torch_model = model_manager.torch_model.to(device)\n",
    "save_evaluation(model_manager, data_manager.test_dataloader(), 'test1_t',True, True, True, True, True, True, True, multi_class=True)"
   ]
  },
  {
   "cell_type": "code",
   "execution_count": null,
   "metadata": {},
   "outputs": [],
   "source": [
    "model_manager.trainer.save_checkpoint(r'logs\\hetero_model_17_AG\\version_12\\checkpoints\\last_checkpoint_140.ckpt')"
   ]
  },
  {
   "cell_type": "code",
   "execution_count": null,
   "metadata": {},
   "outputs": [],
   "source": [
    "model_manager.update_learning_rate(0.0005625)"
   ]
  },
  {
   "cell_type": "code",
   "execution_count": null,
   "metadata": {},
   "outputs": [
    {
     "name": "stdout",
     "output_type": "stream",
     "text": [
      "bbbb\n"
     ]
    },
    {
     "name": "stderr",
     "output_type": "stream",
     "text": [
      "c:\\Users\\fardin\\AppData\\Local\\Programs\\Python\\Python310\\lib\\site-packages\\lightning\\pytorch\\callbacks\\model_checkpoint.py:630: Checkpoint directory logs/hetero_model_17_AG\\version_12\\checkpoints exists and is not empty.\n",
      "Restoring states from the checkpoint path at logs\\hetero_model_17_AG\\version_12\\checkpoints\\epoch=51-step=24076.ckpt\n",
      "LOCAL_RANK: 0 - CUDA_VISIBLE_DEVICES: [0]\n",
      "\n",
      "  | Name      | Type                      | Params\n",
      "--------------------------------------------------------\n",
      "0 | model     | HeteroDeepGraphEmbedding5 | 11.6 M\n",
      "1 | loss_func | MulticlassHeteroLoss2     | 0     \n",
      "2 | train_acc | MulticlassAccuracy        | 0     \n",
      "3 | val_acc   | MulticlassAccuracy        | 0     \n",
      "4 | test_acc  | MulticlassAccuracy        | 0     \n",
      "--------------------------------------------------------\n",
      "11.6 M    Trainable params\n",
      "23        Non-trainable params\n",
      "11.6 M    Total params\n",
      "46.469    Total estimated model params size (MB)\n"
     ]
    },
    {
     "ename": "ValueError",
     "evalue": "dictionary update sequence element #0 has length 1; 2 is required",
     "output_type": "error",
     "traceback": [
      "\u001b[1;31m---------------------------------------------------------------------------\u001b[0m",
      "\u001b[1;31mValueError\u001b[0m                                Traceback (most recent call last)",
      "File \u001b[1;32mc:\\Users\\fardin\\AppData\\Local\\Programs\\Python\\Python310\\lib\\site-packages\\lightning\\pytorch\\trainer\\call.py:47\u001b[0m, in \u001b[0;36m_call_and_handle_interrupt\u001b[1;34m(trainer, trainer_fn, *args, **kwargs)\u001b[0m\n\u001b[0;32m     46\u001b[0m st \u001b[39m=\u001b[39m time\u001b[39m.\u001b[39mtime()\n\u001b[1;32m---> 47\u001b[0m train_fn_result \u001b[39m=\u001b[39m trainer_fn(\u001b[39m*\u001b[39margs, \u001b[39m*\u001b[39m\u001b[39m*\u001b[39mkwargs)\n\u001b[0;32m     48\u001b[0m \u001b[39mreturn\u001b[39;00m train_fn_result\n",
      "File \u001b[1;32mc:\\Users\\fardin\\AppData\\Local\\Programs\\Python\\Python310\\lib\\site-packages\\lightning\\pytorch\\trainer\\trainer.py:581\u001b[0m, in \u001b[0;36mTrainer._fit_impl\u001b[1;34m(self, model, train_dataloaders, val_dataloaders, datamodule, ckpt_path)\u001b[0m\n\u001b[0;32m    575\u001b[0m ckpt_path \u001b[39m=\u001b[39m \u001b[39mself\u001b[39m\u001b[39m.\u001b[39m_checkpoint_connector\u001b[39m.\u001b[39m_select_ckpt_path(\n\u001b[0;32m    576\u001b[0m     \u001b[39mself\u001b[39m\u001b[39m.\u001b[39mstate\u001b[39m.\u001b[39mfn,\n\u001b[0;32m    577\u001b[0m     ckpt_path,\n\u001b[0;32m    578\u001b[0m     model_provided\u001b[39m=\u001b[39m\u001b[39mTrue\u001b[39;00m,\n\u001b[0;32m    579\u001b[0m     model_connected\u001b[39m=\u001b[39m\u001b[39mself\u001b[39m\u001b[39m.\u001b[39mlightning_module \u001b[39mis\u001b[39;00m \u001b[39mnot\u001b[39;00m \u001b[39mNone\u001b[39;00m,\n\u001b[0;32m    580\u001b[0m )\n\u001b[1;32m--> 581\u001b[0m \u001b[39mself\u001b[39;49m\u001b[39m.\u001b[39;49m_run(model, ckpt_path\u001b[39m=\u001b[39;49mckpt_path)\n\u001b[0;32m    583\u001b[0m \u001b[39massert\u001b[39;00m \u001b[39mself\u001b[39m\u001b[39m.\u001b[39mstate\u001b[39m.\u001b[39mstopped\n",
      "File \u001b[1;32mc:\\Users\\fardin\\AppData\\Local\\Programs\\Python\\Python310\\lib\\site-packages\\lightning\\pytorch\\trainer\\trainer.py:973\u001b[0m, in \u001b[0;36mTrainer._run\u001b[1;34m(self, model, ckpt_path)\u001b[0m\n\u001b[0;32m    971\u001b[0m     call\u001b[39m.\u001b[39m_call_lightning_module_hook(\u001b[39mself\u001b[39m, \u001b[39m\"\u001b[39m\u001b[39mon_fit_start\u001b[39m\u001b[39m\"\u001b[39m)\n\u001b[1;32m--> 973\u001b[0m _log_hyperparams(\u001b[39mself\u001b[39;49m)\n\u001b[0;32m    975\u001b[0m \u001b[39mif\u001b[39;00m \u001b[39mself\u001b[39m\u001b[39m.\u001b[39mstrategy\u001b[39m.\u001b[39mrestore_checkpoint_after_setup:\n",
      "File \u001b[1;32mc:\\Users\\fardin\\AppData\\Local\\Programs\\Python\\Python310\\lib\\site-packages\\lightning\\pytorch\\loggers\\utilities.py:95\u001b[0m, in \u001b[0;36m_log_hyperparams\u001b[1;34m(trainer)\u001b[0m\n\u001b[0;32m     94\u001b[0m logger\u001b[39m.\u001b[39mlog_graph(pl_module)\n\u001b[1;32m---> 95\u001b[0m logger\u001b[39m.\u001b[39;49msave()\n",
      "File \u001b[1;32mc:\\Users\\fardin\\AppData\\Local\\Programs\\Python\\Python310\\lib\\site-packages\\lightning_utilities\\core\\rank_zero.py:32\u001b[0m, in \u001b[0;36mrank_zero_only.<locals>.wrapped_fn\u001b[1;34m(*args, **kwargs)\u001b[0m\n\u001b[0;32m     31\u001b[0m \u001b[39mif\u001b[39;00m rank \u001b[39m==\u001b[39m \u001b[39m0\u001b[39m:\n\u001b[1;32m---> 32\u001b[0m     \u001b[39mreturn\u001b[39;00m fn(\u001b[39m*\u001b[39margs, \u001b[39m*\u001b[39m\u001b[39m*\u001b[39mkwargs)\n\u001b[0;32m     33\u001b[0m \u001b[39mreturn\u001b[39;00m \u001b[39mNone\u001b[39;00m\n",
      "File \u001b[1;32mc:\\Users\\fardin\\AppData\\Local\\Programs\\Python\\Python310\\lib\\site-packages\\lightning\\fabric\\loggers\\csv_logs.py:149\u001b[0m, in \u001b[0;36mCSVLogger.save\u001b[1;34m(self)\u001b[0m\n\u001b[0;32m    148\u001b[0m \u001b[39msuper\u001b[39m()\u001b[39m.\u001b[39msave()\n\u001b[1;32m--> 149\u001b[0m \u001b[39mself\u001b[39;49m\u001b[39m.\u001b[39;49mexperiment\u001b[39m.\u001b[39;49msave()\n",
      "File \u001b[1;32mc:\\Users\\fardin\\AppData\\Local\\Programs\\Python\\Python310\\lib\\site-packages\\lightning\\pytorch\\loggers\\csv_logs.py:64\u001b[0m, in \u001b[0;36mExperimentWriter.save\u001b[1;34m(self)\u001b[0m\n\u001b[0;32m     63\u001b[0m hparams_file \u001b[39m=\u001b[39m os\u001b[39m.\u001b[39mpath\u001b[39m.\u001b[39mjoin(\u001b[39mself\u001b[39m\u001b[39m.\u001b[39mlog_dir, \u001b[39mself\u001b[39m\u001b[39m.\u001b[39mNAME_HPARAMS_FILE)\n\u001b[1;32m---> 64\u001b[0m save_hparams_to_yaml(hparams_file, \u001b[39mself\u001b[39;49m\u001b[39m.\u001b[39;49mhparams)\n\u001b[0;32m     65\u001b[0m \u001b[39mreturn\u001b[39;00m \u001b[39msuper\u001b[39m()\u001b[39m.\u001b[39msave()\n",
      "File \u001b[1;32mc:\\Users\\fardin\\AppData\\Local\\Programs\\Python\\Python310\\lib\\site-packages\\lightning\\pytorch\\core\\saving.py:343\u001b[0m, in \u001b[0;36msave_hparams_to_yaml\u001b[1;34m(config_yaml, hparams, use_omegaconf)\u001b[0m\n\u001b[0;32m    342\u001b[0m     v \u001b[39m=\u001b[39m v\u001b[39m.\u001b[39mname \u001b[39mif\u001b[39;00m \u001b[39misinstance\u001b[39m(v, Enum) \u001b[39melse\u001b[39;00m v\n\u001b[1;32m--> 343\u001b[0m     yaml\u001b[39m.\u001b[39;49mdump(v)\n\u001b[0;32m    344\u001b[0m \u001b[39mexcept\u001b[39;00m \u001b[39mTypeError\u001b[39;00m:\n",
      "File \u001b[1;32mc:\\Users\\fardin\\AppData\\Local\\Programs\\Python\\Python310\\lib\\site-packages\\yaml\\__init__.py:253\u001b[0m, in \u001b[0;36mdump\u001b[1;34m(data, stream, Dumper, **kwds)\u001b[0m\n\u001b[0;32m    249\u001b[0m \u001b[39m\u001b[39m\u001b[39m\"\"\"\u001b[39;00m\n\u001b[0;32m    250\u001b[0m \u001b[39mSerialize a Python object into a YAML stream.\u001b[39;00m\n\u001b[0;32m    251\u001b[0m \u001b[39mIf stream is None, return the produced string instead.\u001b[39;00m\n\u001b[0;32m    252\u001b[0m \u001b[39m\"\"\"\u001b[39;00m\n\u001b[1;32m--> 253\u001b[0m \u001b[39mreturn\u001b[39;00m dump_all([data], stream, Dumper\u001b[39m=\u001b[39mDumper, \u001b[39m*\u001b[39m\u001b[39m*\u001b[39mkwds)\n",
      "File \u001b[1;32mc:\\Users\\fardin\\AppData\\Local\\Programs\\Python\\Python310\\lib\\site-packages\\yaml\\__init__.py:241\u001b[0m, in \u001b[0;36mdump_all\u001b[1;34m(documents, stream, Dumper, default_style, default_flow_style, canonical, indent, width, allow_unicode, line_break, encoding, explicit_start, explicit_end, version, tags, sort_keys)\u001b[0m\n\u001b[0;32m    240\u001b[0m \u001b[39mfor\u001b[39;00m data \u001b[39min\u001b[39;00m documents:\n\u001b[1;32m--> 241\u001b[0m     dumper\u001b[39m.\u001b[39;49mrepresent(data)\n\u001b[0;32m    242\u001b[0m dumper\u001b[39m.\u001b[39mclose()\n",
      "File \u001b[1;32mc:\\Users\\fardin\\AppData\\Local\\Programs\\Python\\Python310\\lib\\site-packages\\yaml\\representer.py:27\u001b[0m, in \u001b[0;36mBaseRepresenter.represent\u001b[1;34m(self, data)\u001b[0m\n\u001b[0;32m     26\u001b[0m \u001b[39mdef\u001b[39;00m \u001b[39mrepresent\u001b[39m(\u001b[39mself\u001b[39m, data):\n\u001b[1;32m---> 27\u001b[0m     node \u001b[39m=\u001b[39m \u001b[39mself\u001b[39;49m\u001b[39m.\u001b[39;49mrepresent_data(data)\n\u001b[0;32m     28\u001b[0m     \u001b[39mself\u001b[39m\u001b[39m.\u001b[39mserialize(node)\n",
      "File \u001b[1;32mc:\\Users\\fardin\\AppData\\Local\\Programs\\Python\\Python310\\lib\\site-packages\\yaml\\representer.py:52\u001b[0m, in \u001b[0;36mBaseRepresenter.represent_data\u001b[1;34m(self, data)\u001b[0m\n\u001b[0;32m     51\u001b[0m \u001b[39mif\u001b[39;00m data_type \u001b[39min\u001b[39;00m \u001b[39mself\u001b[39m\u001b[39m.\u001b[39myaml_multi_representers:\n\u001b[1;32m---> 52\u001b[0m     node \u001b[39m=\u001b[39m \u001b[39mself\u001b[39;49m\u001b[39m.\u001b[39;49myaml_multi_representers[data_type](\u001b[39mself\u001b[39;49m, data)\n\u001b[0;32m     53\u001b[0m     \u001b[39mbreak\u001b[39;00m\n",
      "File \u001b[1;32mc:\\Users\\fardin\\AppData\\Local\\Programs\\Python\\Python310\\lib\\site-packages\\yaml\\representer.py:342\u001b[0m, in \u001b[0;36mRepresenter.represent_object\u001b[1;34m(self, data)\u001b[0m\n\u001b[0;32m    340\u001b[0m \u001b[39mif\u001b[39;00m \u001b[39mnot\u001b[39;00m args \u001b[39mand\u001b[39;00m \u001b[39mnot\u001b[39;00m listitems \u001b[39mand\u001b[39;00m \u001b[39mnot\u001b[39;00m dictitems \\\n\u001b[0;32m    341\u001b[0m         \u001b[39mand\u001b[39;00m \u001b[39misinstance\u001b[39m(state, \u001b[39mdict\u001b[39m) \u001b[39mand\u001b[39;00m newobj:\n\u001b[1;32m--> 342\u001b[0m     \u001b[39mreturn\u001b[39;00m \u001b[39mself\u001b[39;49m\u001b[39m.\u001b[39;49mrepresent_mapping(\n\u001b[0;32m    343\u001b[0m             \u001b[39m'\u001b[39;49m\u001b[39mtag:yaml.org,2002:python/object:\u001b[39;49m\u001b[39m'\u001b[39;49m\u001b[39m+\u001b[39;49mfunction_name, state)\n\u001b[0;32m    344\u001b[0m \u001b[39mif\u001b[39;00m \u001b[39mnot\u001b[39;00m listitems \u001b[39mand\u001b[39;00m \u001b[39mnot\u001b[39;00m dictitems  \\\n\u001b[0;32m    345\u001b[0m         \u001b[39mand\u001b[39;00m \u001b[39misinstance\u001b[39m(state, \u001b[39mdict\u001b[39m) \u001b[39mand\u001b[39;00m \u001b[39mnot\u001b[39;00m state:\n",
      "File \u001b[1;32mc:\\Users\\fardin\\AppData\\Local\\Programs\\Python\\Python310\\lib\\site-packages\\yaml\\representer.py:118\u001b[0m, in \u001b[0;36mBaseRepresenter.represent_mapping\u001b[1;34m(self, tag, mapping, flow_style)\u001b[0m\n\u001b[0;32m    117\u001b[0m node_key \u001b[39m=\u001b[39m \u001b[39mself\u001b[39m\u001b[39m.\u001b[39mrepresent_data(item_key)\n\u001b[1;32m--> 118\u001b[0m node_value \u001b[39m=\u001b[39m \u001b[39mself\u001b[39;49m\u001b[39m.\u001b[39;49mrepresent_data(item_value)\n\u001b[0;32m    119\u001b[0m \u001b[39mif\u001b[39;00m \u001b[39mnot\u001b[39;00m (\u001b[39misinstance\u001b[39m(node_key, ScalarNode) \u001b[39mand\u001b[39;00m \u001b[39mnot\u001b[39;00m node_key\u001b[39m.\u001b[39mstyle):\n",
      "File \u001b[1;32mc:\\Users\\fardin\\AppData\\Local\\Programs\\Python\\Python310\\lib\\site-packages\\yaml\\representer.py:48\u001b[0m, in \u001b[0;36mBaseRepresenter.represent_data\u001b[1;34m(self, data)\u001b[0m\n\u001b[0;32m     47\u001b[0m \u001b[39mif\u001b[39;00m data_types[\u001b[39m0\u001b[39m] \u001b[39min\u001b[39;00m \u001b[39mself\u001b[39m\u001b[39m.\u001b[39myaml_representers:\n\u001b[1;32m---> 48\u001b[0m     node \u001b[39m=\u001b[39m \u001b[39mself\u001b[39;49m\u001b[39m.\u001b[39;49myaml_representers[data_types[\u001b[39m0\u001b[39;49m]](\u001b[39mself\u001b[39;49m, data)\n\u001b[0;32m     49\u001b[0m \u001b[39melse\u001b[39;00m:\n",
      "File \u001b[1;32mc:\\Users\\fardin\\AppData\\Local\\Programs\\Python\\Python310\\lib\\site-packages\\yaml\\representer.py:364\u001b[0m, in \u001b[0;36mRepresenter.represent_ordered_dict\u001b[1;34m(self, data)\u001b[0m\n\u001b[0;32m    363\u001b[0m items \u001b[39m=\u001b[39m [[key, value] \u001b[39mfor\u001b[39;00m key, value \u001b[39min\u001b[39;00m data\u001b[39m.\u001b[39mitems()]\n\u001b[1;32m--> 364\u001b[0m \u001b[39mreturn\u001b[39;00m \u001b[39mself\u001b[39;49m\u001b[39m.\u001b[39;49mrepresent_sequence(tag, [items])\n",
      "File \u001b[1;32mc:\\Users\\fardin\\AppData\\Local\\Programs\\Python\\Python310\\lib\\site-packages\\yaml\\representer.py:92\u001b[0m, in \u001b[0;36mBaseRepresenter.represent_sequence\u001b[1;34m(self, tag, sequence, flow_style)\u001b[0m\n\u001b[0;32m     91\u001b[0m \u001b[39mfor\u001b[39;00m item \u001b[39min\u001b[39;00m sequence:\n\u001b[1;32m---> 92\u001b[0m     node_item \u001b[39m=\u001b[39m \u001b[39mself\u001b[39;49m\u001b[39m.\u001b[39;49mrepresent_data(item)\n\u001b[0;32m     93\u001b[0m     \u001b[39mif\u001b[39;00m \u001b[39mnot\u001b[39;00m (\u001b[39misinstance\u001b[39m(node_item, ScalarNode) \u001b[39mand\u001b[39;00m \u001b[39mnot\u001b[39;00m node_item\u001b[39m.\u001b[39mstyle):\n",
      "File \u001b[1;32mc:\\Users\\fardin\\AppData\\Local\\Programs\\Python\\Python310\\lib\\site-packages\\yaml\\representer.py:48\u001b[0m, in \u001b[0;36mBaseRepresenter.represent_data\u001b[1;34m(self, data)\u001b[0m\n\u001b[0;32m     47\u001b[0m \u001b[39mif\u001b[39;00m data_types[\u001b[39m0\u001b[39m] \u001b[39min\u001b[39;00m \u001b[39mself\u001b[39m\u001b[39m.\u001b[39myaml_representers:\n\u001b[1;32m---> 48\u001b[0m     node \u001b[39m=\u001b[39m \u001b[39mself\u001b[39;49m\u001b[39m.\u001b[39;49myaml_representers[data_types[\u001b[39m0\u001b[39;49m]](\u001b[39mself\u001b[39;49m, data)\n\u001b[0;32m     49\u001b[0m \u001b[39melse\u001b[39;00m:\n",
      "File \u001b[1;32mc:\\Users\\fardin\\AppData\\Local\\Programs\\Python\\Python310\\lib\\site-packages\\yaml\\representer.py:199\u001b[0m, in \u001b[0;36mSafeRepresenter.represent_list\u001b[1;34m(self, data)\u001b[0m\n\u001b[0;32m    191\u001b[0m \u001b[39mdef\u001b[39;00m \u001b[39mrepresent_list\u001b[39m(\u001b[39mself\u001b[39m, data):\n\u001b[0;32m    192\u001b[0m     \u001b[39m#pairs = (len(data) > 0 and isinstance(data, list))\u001b[39;00m\n\u001b[0;32m    193\u001b[0m     \u001b[39m#if pairs:\u001b[39;00m\n\u001b[1;32m   (...)\u001b[0m\n\u001b[0;32m    197\u001b[0m     \u001b[39m#            break\u001b[39;00m\n\u001b[0;32m    198\u001b[0m     \u001b[39m#if not pairs:\u001b[39;00m\n\u001b[1;32m--> 199\u001b[0m         \u001b[39mreturn\u001b[39;00m \u001b[39mself\u001b[39;49m\u001b[39m.\u001b[39;49mrepresent_sequence(\u001b[39m'\u001b[39;49m\u001b[39mtag:yaml.org,2002:seq\u001b[39;49m\u001b[39m'\u001b[39;49m, data)\n",
      "File \u001b[1;32mc:\\Users\\fardin\\AppData\\Local\\Programs\\Python\\Python310\\lib\\site-packages\\yaml\\representer.py:92\u001b[0m, in \u001b[0;36mBaseRepresenter.represent_sequence\u001b[1;34m(self, tag, sequence, flow_style)\u001b[0m\n\u001b[0;32m     91\u001b[0m \u001b[39mfor\u001b[39;00m item \u001b[39min\u001b[39;00m sequence:\n\u001b[1;32m---> 92\u001b[0m     node_item \u001b[39m=\u001b[39m \u001b[39mself\u001b[39;49m\u001b[39m.\u001b[39;49mrepresent_data(item)\n\u001b[0;32m     93\u001b[0m     \u001b[39mif\u001b[39;00m \u001b[39mnot\u001b[39;00m (\u001b[39misinstance\u001b[39m(node_item, ScalarNode) \u001b[39mand\u001b[39;00m \u001b[39mnot\u001b[39;00m node_item\u001b[39m.\u001b[39mstyle):\n",
      "File \u001b[1;32mc:\\Users\\fardin\\AppData\\Local\\Programs\\Python\\Python310\\lib\\site-packages\\yaml\\representer.py:48\u001b[0m, in \u001b[0;36mBaseRepresenter.represent_data\u001b[1;34m(self, data)\u001b[0m\n\u001b[0;32m     47\u001b[0m \u001b[39mif\u001b[39;00m data_types[\u001b[39m0\u001b[39m] \u001b[39min\u001b[39;00m \u001b[39mself\u001b[39m\u001b[39m.\u001b[39myaml_representers:\n\u001b[1;32m---> 48\u001b[0m     node \u001b[39m=\u001b[39m \u001b[39mself\u001b[39;49m\u001b[39m.\u001b[39;49myaml_representers[data_types[\u001b[39m0\u001b[39;49m]](\u001b[39mself\u001b[39;49m, data)\n\u001b[0;32m     49\u001b[0m \u001b[39melse\u001b[39;00m:\n",
      "File \u001b[1;32mc:\\Users\\fardin\\AppData\\Local\\Programs\\Python\\Python310\\lib\\site-packages\\yaml\\representer.py:199\u001b[0m, in \u001b[0;36mSafeRepresenter.represent_list\u001b[1;34m(self, data)\u001b[0m\n\u001b[0;32m    191\u001b[0m \u001b[39mdef\u001b[39;00m \u001b[39mrepresent_list\u001b[39m(\u001b[39mself\u001b[39m, data):\n\u001b[0;32m    192\u001b[0m     \u001b[39m#pairs = (len(data) > 0 and isinstance(data, list))\u001b[39;00m\n\u001b[0;32m    193\u001b[0m     \u001b[39m#if pairs:\u001b[39;00m\n\u001b[1;32m   (...)\u001b[0m\n\u001b[0;32m    197\u001b[0m     \u001b[39m#            break\u001b[39;00m\n\u001b[0;32m    198\u001b[0m     \u001b[39m#if not pairs:\u001b[39;00m\n\u001b[1;32m--> 199\u001b[0m         \u001b[39mreturn\u001b[39;00m \u001b[39mself\u001b[39;49m\u001b[39m.\u001b[39;49mrepresent_sequence(\u001b[39m'\u001b[39;49m\u001b[39mtag:yaml.org,2002:seq\u001b[39;49m\u001b[39m'\u001b[39;49m, data)\n",
      "File \u001b[1;32mc:\\Users\\fardin\\AppData\\Local\\Programs\\Python\\Python310\\lib\\site-packages\\yaml\\representer.py:92\u001b[0m, in \u001b[0;36mBaseRepresenter.represent_sequence\u001b[1;34m(self, tag, sequence, flow_style)\u001b[0m\n\u001b[0;32m     91\u001b[0m \u001b[39mfor\u001b[39;00m item \u001b[39min\u001b[39;00m sequence:\n\u001b[1;32m---> 92\u001b[0m     node_item \u001b[39m=\u001b[39m \u001b[39mself\u001b[39;49m\u001b[39m.\u001b[39;49mrepresent_data(item)\n\u001b[0;32m     93\u001b[0m     \u001b[39mif\u001b[39;00m \u001b[39mnot\u001b[39;00m (\u001b[39misinstance\u001b[39m(node_item, ScalarNode) \u001b[39mand\u001b[39;00m \u001b[39mnot\u001b[39;00m node_item\u001b[39m.\u001b[39mstyle):\n",
      "File \u001b[1;32mc:\\Users\\fardin\\AppData\\Local\\Programs\\Python\\Python310\\lib\\site-packages\\yaml\\representer.py:52\u001b[0m, in \u001b[0;36mBaseRepresenter.represent_data\u001b[1;34m(self, data)\u001b[0m\n\u001b[0;32m     51\u001b[0m \u001b[39mif\u001b[39;00m data_type \u001b[39min\u001b[39;00m \u001b[39mself\u001b[39m\u001b[39m.\u001b[39myaml_multi_representers:\n\u001b[1;32m---> 52\u001b[0m     node \u001b[39m=\u001b[39m \u001b[39mself\u001b[39;49m\u001b[39m.\u001b[39;49myaml_multi_representers[data_type](\u001b[39mself\u001b[39;49m, data)\n\u001b[0;32m     53\u001b[0m     \u001b[39mbreak\u001b[39;00m\n",
      "File \u001b[1;32mc:\\Users\\fardin\\AppData\\Local\\Programs\\Python\\Python310\\lib\\site-packages\\yaml\\representer.py:346\u001b[0m, in \u001b[0;36mRepresenter.represent_object\u001b[1;34m(self, data)\u001b[0m\n\u001b[0;32m    344\u001b[0m \u001b[39mif\u001b[39;00m \u001b[39mnot\u001b[39;00m listitems \u001b[39mand\u001b[39;00m \u001b[39mnot\u001b[39;00m dictitems  \\\n\u001b[0;32m    345\u001b[0m         \u001b[39mand\u001b[39;00m \u001b[39misinstance\u001b[39m(state, \u001b[39mdict\u001b[39m) \u001b[39mand\u001b[39;00m \u001b[39mnot\u001b[39;00m state:\n\u001b[1;32m--> 346\u001b[0m     \u001b[39mreturn\u001b[39;00m \u001b[39mself\u001b[39;49m\u001b[39m.\u001b[39;49mrepresent_sequence(tag\u001b[39m+\u001b[39;49mfunction_name, args)\n\u001b[0;32m    347\u001b[0m value \u001b[39m=\u001b[39m {}\n",
      "File \u001b[1;32mc:\\Users\\fardin\\AppData\\Local\\Programs\\Python\\Python310\\lib\\site-packages\\yaml\\representer.py:92\u001b[0m, in \u001b[0;36mBaseRepresenter.represent_sequence\u001b[1;34m(self, tag, sequence, flow_style)\u001b[0m\n\u001b[0;32m     91\u001b[0m \u001b[39mfor\u001b[39;00m item \u001b[39min\u001b[39;00m sequence:\n\u001b[1;32m---> 92\u001b[0m     node_item \u001b[39m=\u001b[39m \u001b[39mself\u001b[39;49m\u001b[39m.\u001b[39;49mrepresent_data(item)\n\u001b[0;32m     93\u001b[0m     \u001b[39mif\u001b[39;00m \u001b[39mnot\u001b[39;00m (\u001b[39misinstance\u001b[39m(node_item, ScalarNode) \u001b[39mand\u001b[39;00m \u001b[39mnot\u001b[39;00m node_item\u001b[39m.\u001b[39mstyle):\n",
      "File \u001b[1;32mc:\\Users\\fardin\\AppData\\Local\\Programs\\Python\\Python310\\lib\\site-packages\\yaml\\representer.py:48\u001b[0m, in \u001b[0;36mBaseRepresenter.represent_data\u001b[1;34m(self, data)\u001b[0m\n\u001b[0;32m     47\u001b[0m \u001b[39mif\u001b[39;00m data_types[\u001b[39m0\u001b[39m] \u001b[39min\u001b[39;00m \u001b[39mself\u001b[39m\u001b[39m.\u001b[39myaml_representers:\n\u001b[1;32m---> 48\u001b[0m     node \u001b[39m=\u001b[39m \u001b[39mself\u001b[39;49m\u001b[39m.\u001b[39;49myaml_representers[data_types[\u001b[39m0\u001b[39;49m]](\u001b[39mself\u001b[39;49m, data)\n\u001b[0;32m     49\u001b[0m \u001b[39melse\u001b[39;00m:\n",
      "File \u001b[1;32mc:\\Users\\fardin\\AppData\\Local\\Programs\\Python\\Python310\\lib\\site-packages\\yaml\\representer.py:207\u001b[0m, in \u001b[0;36mSafeRepresenter.represent_dict\u001b[1;34m(self, data)\u001b[0m\n\u001b[0;32m    206\u001b[0m \u001b[39mdef\u001b[39;00m \u001b[39mrepresent_dict\u001b[39m(\u001b[39mself\u001b[39m, data):\n\u001b[1;32m--> 207\u001b[0m     \u001b[39mreturn\u001b[39;00m \u001b[39mself\u001b[39;49m\u001b[39m.\u001b[39;49mrepresent_mapping(\u001b[39m'\u001b[39;49m\u001b[39mtag:yaml.org,2002:map\u001b[39;49m\u001b[39m'\u001b[39;49m, data)\n",
      "File \u001b[1;32mc:\\Users\\fardin\\AppData\\Local\\Programs\\Python\\Python310\\lib\\site-packages\\yaml\\representer.py:118\u001b[0m, in \u001b[0;36mBaseRepresenter.represent_mapping\u001b[1;34m(self, tag, mapping, flow_style)\u001b[0m\n\u001b[0;32m    117\u001b[0m node_key \u001b[39m=\u001b[39m \u001b[39mself\u001b[39m\u001b[39m.\u001b[39mrepresent_data(item_key)\n\u001b[1;32m--> 118\u001b[0m node_value \u001b[39m=\u001b[39m \u001b[39mself\u001b[39;49m\u001b[39m.\u001b[39;49mrepresent_data(item_value)\n\u001b[0;32m    119\u001b[0m \u001b[39mif\u001b[39;00m \u001b[39mnot\u001b[39;00m (\u001b[39misinstance\u001b[39m(node_key, ScalarNode) \u001b[39mand\u001b[39;00m \u001b[39mnot\u001b[39;00m node_key\u001b[39m.\u001b[39mstyle):\n",
      "File \u001b[1;32mc:\\Users\\fardin\\AppData\\Local\\Programs\\Python\\Python310\\lib\\site-packages\\yaml\\representer.py:48\u001b[0m, in \u001b[0;36mBaseRepresenter.represent_data\u001b[1;34m(self, data)\u001b[0m\n\u001b[0;32m     47\u001b[0m \u001b[39mif\u001b[39;00m data_types[\u001b[39m0\u001b[39m] \u001b[39min\u001b[39;00m \u001b[39mself\u001b[39m\u001b[39m.\u001b[39myaml_representers:\n\u001b[1;32m---> 48\u001b[0m     node \u001b[39m=\u001b[39m \u001b[39mself\u001b[39;49m\u001b[39m.\u001b[39;49myaml_representers[data_types[\u001b[39m0\u001b[39;49m]](\u001b[39mself\u001b[39;49m, data)\n\u001b[0;32m     49\u001b[0m \u001b[39melse\u001b[39;00m:\n",
      "File \u001b[1;32mc:\\Users\\fardin\\AppData\\Local\\Programs\\Python\\Python310\\lib\\site-packages\\yaml\\representer.py:364\u001b[0m, in \u001b[0;36mRepresenter.represent_ordered_dict\u001b[1;34m(self, data)\u001b[0m\n\u001b[0;32m    363\u001b[0m items \u001b[39m=\u001b[39m [[key, value] \u001b[39mfor\u001b[39;00m key, value \u001b[39min\u001b[39;00m data\u001b[39m.\u001b[39mitems()]\n\u001b[1;32m--> 364\u001b[0m \u001b[39mreturn\u001b[39;00m \u001b[39mself\u001b[39;49m\u001b[39m.\u001b[39;49mrepresent_sequence(tag, [items])\n",
      "File \u001b[1;32mc:\\Users\\fardin\\AppData\\Local\\Programs\\Python\\Python310\\lib\\site-packages\\yaml\\representer.py:92\u001b[0m, in \u001b[0;36mBaseRepresenter.represent_sequence\u001b[1;34m(self, tag, sequence, flow_style)\u001b[0m\n\u001b[0;32m     91\u001b[0m \u001b[39mfor\u001b[39;00m item \u001b[39min\u001b[39;00m sequence:\n\u001b[1;32m---> 92\u001b[0m     node_item \u001b[39m=\u001b[39m \u001b[39mself\u001b[39;49m\u001b[39m.\u001b[39;49mrepresent_data(item)\n\u001b[0;32m     93\u001b[0m     \u001b[39mif\u001b[39;00m \u001b[39mnot\u001b[39;00m (\u001b[39misinstance\u001b[39m(node_item, ScalarNode) \u001b[39mand\u001b[39;00m \u001b[39mnot\u001b[39;00m node_item\u001b[39m.\u001b[39mstyle):\n",
      "File \u001b[1;32mc:\\Users\\fardin\\AppData\\Local\\Programs\\Python\\Python310\\lib\\site-packages\\yaml\\representer.py:48\u001b[0m, in \u001b[0;36mBaseRepresenter.represent_data\u001b[1;34m(self, data)\u001b[0m\n\u001b[0;32m     47\u001b[0m \u001b[39mif\u001b[39;00m data_types[\u001b[39m0\u001b[39m] \u001b[39min\u001b[39;00m \u001b[39mself\u001b[39m\u001b[39m.\u001b[39myaml_representers:\n\u001b[1;32m---> 48\u001b[0m     node \u001b[39m=\u001b[39m \u001b[39mself\u001b[39;49m\u001b[39m.\u001b[39;49myaml_representers[data_types[\u001b[39m0\u001b[39;49m]](\u001b[39mself\u001b[39;49m, data)\n\u001b[0;32m     49\u001b[0m \u001b[39melse\u001b[39;00m:\n",
      "File \u001b[1;32mc:\\Users\\fardin\\AppData\\Local\\Programs\\Python\\Python310\\lib\\site-packages\\yaml\\representer.py:199\u001b[0m, in \u001b[0;36mSafeRepresenter.represent_list\u001b[1;34m(self, data)\u001b[0m\n\u001b[0;32m    191\u001b[0m \u001b[39mdef\u001b[39;00m \u001b[39mrepresent_list\u001b[39m(\u001b[39mself\u001b[39m, data):\n\u001b[0;32m    192\u001b[0m     \u001b[39m#pairs = (len(data) > 0 and isinstance(data, list))\u001b[39;00m\n\u001b[0;32m    193\u001b[0m     \u001b[39m#if pairs:\u001b[39;00m\n\u001b[1;32m   (...)\u001b[0m\n\u001b[0;32m    197\u001b[0m     \u001b[39m#            break\u001b[39;00m\n\u001b[0;32m    198\u001b[0m     \u001b[39m#if not pairs:\u001b[39;00m\n\u001b[1;32m--> 199\u001b[0m         \u001b[39mreturn\u001b[39;00m \u001b[39mself\u001b[39;49m\u001b[39m.\u001b[39;49mrepresent_sequence(\u001b[39m'\u001b[39;49m\u001b[39mtag:yaml.org,2002:seq\u001b[39;49m\u001b[39m'\u001b[39;49m, data)\n",
      "File \u001b[1;32mc:\\Users\\fardin\\AppData\\Local\\Programs\\Python\\Python310\\lib\\site-packages\\yaml\\representer.py:92\u001b[0m, in \u001b[0;36mBaseRepresenter.represent_sequence\u001b[1;34m(self, tag, sequence, flow_style)\u001b[0m\n\u001b[0;32m     91\u001b[0m \u001b[39mfor\u001b[39;00m item \u001b[39min\u001b[39;00m sequence:\n\u001b[1;32m---> 92\u001b[0m     node_item \u001b[39m=\u001b[39m \u001b[39mself\u001b[39;49m\u001b[39m.\u001b[39;49mrepresent_data(item)\n\u001b[0;32m     93\u001b[0m     \u001b[39mif\u001b[39;00m \u001b[39mnot\u001b[39;00m (\u001b[39misinstance\u001b[39m(node_item, ScalarNode) \u001b[39mand\u001b[39;00m \u001b[39mnot\u001b[39;00m node_item\u001b[39m.\u001b[39mstyle):\n",
      "    \u001b[1;31m[... skipping similar frames: BaseRepresenter.represent_data at line 48 (1 times)]\u001b[0m\n",
      "File \u001b[1;32mc:\\Users\\fardin\\AppData\\Local\\Programs\\Python\\Python310\\lib\\site-packages\\yaml\\representer.py:199\u001b[0m, in \u001b[0;36mSafeRepresenter.represent_list\u001b[1;34m(self, data)\u001b[0m\n\u001b[0;32m    191\u001b[0m \u001b[39mdef\u001b[39;00m \u001b[39mrepresent_list\u001b[39m(\u001b[39mself\u001b[39m, data):\n\u001b[0;32m    192\u001b[0m     \u001b[39m#pairs = (len(data) > 0 and isinstance(data, list))\u001b[39;00m\n\u001b[0;32m    193\u001b[0m     \u001b[39m#if pairs:\u001b[39;00m\n\u001b[1;32m   (...)\u001b[0m\n\u001b[0;32m    197\u001b[0m     \u001b[39m#            break\u001b[39;00m\n\u001b[0;32m    198\u001b[0m     \u001b[39m#if not pairs:\u001b[39;00m\n\u001b[1;32m--> 199\u001b[0m         \u001b[39mreturn\u001b[39;00m \u001b[39mself\u001b[39;49m\u001b[39m.\u001b[39;49mrepresent_sequence(\u001b[39m'\u001b[39;49m\u001b[39mtag:yaml.org,2002:seq\u001b[39;49m\u001b[39m'\u001b[39;49m, data)\n",
      "    \u001b[1;31m[... skipping similar frames: BaseRepresenter.represent_sequence at line 92 (1 times)]\u001b[0m\n",
      "File \u001b[1;32mc:\\Users\\fardin\\AppData\\Local\\Programs\\Python\\Python310\\lib\\site-packages\\yaml\\representer.py:52\u001b[0m, in \u001b[0;36mBaseRepresenter.represent_data\u001b[1;34m(self, data)\u001b[0m\n\u001b[0;32m     51\u001b[0m \u001b[39mif\u001b[39;00m data_type \u001b[39min\u001b[39;00m \u001b[39mself\u001b[39m\u001b[39m.\u001b[39myaml_multi_representers:\n\u001b[1;32m---> 52\u001b[0m     node \u001b[39m=\u001b[39m \u001b[39mself\u001b[39;49m\u001b[39m.\u001b[39;49myaml_multi_representers[data_type](\u001b[39mself\u001b[39;49m, data)\n\u001b[0;32m     53\u001b[0m     \u001b[39mbreak\u001b[39;00m\n",
      "File \u001b[1;32mc:\\Users\\fardin\\AppData\\Local\\Programs\\Python\\Python310\\lib\\site-packages\\yaml\\representer.py:342\u001b[0m, in \u001b[0;36mRepresenter.represent_object\u001b[1;34m(self, data)\u001b[0m\n\u001b[0;32m    340\u001b[0m \u001b[39mif\u001b[39;00m \u001b[39mnot\u001b[39;00m args \u001b[39mand\u001b[39;00m \u001b[39mnot\u001b[39;00m listitems \u001b[39mand\u001b[39;00m \u001b[39mnot\u001b[39;00m dictitems \\\n\u001b[0;32m    341\u001b[0m         \u001b[39mand\u001b[39;00m \u001b[39misinstance\u001b[39m(state, \u001b[39mdict\u001b[39m) \u001b[39mand\u001b[39;00m newobj:\n\u001b[1;32m--> 342\u001b[0m     \u001b[39mreturn\u001b[39;00m \u001b[39mself\u001b[39;49m\u001b[39m.\u001b[39;49mrepresent_mapping(\n\u001b[0;32m    343\u001b[0m             \u001b[39m'\u001b[39;49m\u001b[39mtag:yaml.org,2002:python/object:\u001b[39;49m\u001b[39m'\u001b[39;49m\u001b[39m+\u001b[39;49mfunction_name, state)\n\u001b[0;32m    344\u001b[0m \u001b[39mif\u001b[39;00m \u001b[39mnot\u001b[39;00m listitems \u001b[39mand\u001b[39;00m \u001b[39mnot\u001b[39;00m dictitems  \\\n\u001b[0;32m    345\u001b[0m         \u001b[39mand\u001b[39;00m \u001b[39misinstance\u001b[39m(state, \u001b[39mdict\u001b[39m) \u001b[39mand\u001b[39;00m \u001b[39mnot\u001b[39;00m state:\n",
      "File \u001b[1;32mc:\\Users\\fardin\\AppData\\Local\\Programs\\Python\\Python310\\lib\\site-packages\\yaml\\representer.py:118\u001b[0m, in \u001b[0;36mBaseRepresenter.represent_mapping\u001b[1;34m(self, tag, mapping, flow_style)\u001b[0m\n\u001b[0;32m    117\u001b[0m node_key \u001b[39m=\u001b[39m \u001b[39mself\u001b[39m\u001b[39m.\u001b[39mrepresent_data(item_key)\n\u001b[1;32m--> 118\u001b[0m node_value \u001b[39m=\u001b[39m \u001b[39mself\u001b[39;49m\u001b[39m.\u001b[39;49mrepresent_data(item_value)\n\u001b[0;32m    119\u001b[0m \u001b[39mif\u001b[39;00m \u001b[39mnot\u001b[39;00m (\u001b[39misinstance\u001b[39m(node_key, ScalarNode) \u001b[39mand\u001b[39;00m \u001b[39mnot\u001b[39;00m node_key\u001b[39m.\u001b[39mstyle):\n",
      "    \u001b[1;31m[... skipping similar frames: BaseRepresenter.represent_data at line 48 (1 times)]\u001b[0m\n",
      "File \u001b[1;32mc:\\Users\\fardin\\AppData\\Local\\Programs\\Python\\Python310\\lib\\site-packages\\yaml\\representer.py:364\u001b[0m, in \u001b[0;36mRepresenter.represent_ordered_dict\u001b[1;34m(self, data)\u001b[0m\n\u001b[0;32m    363\u001b[0m items \u001b[39m=\u001b[39m [[key, value] \u001b[39mfor\u001b[39;00m key, value \u001b[39min\u001b[39;00m data\u001b[39m.\u001b[39mitems()]\n\u001b[1;32m--> 364\u001b[0m \u001b[39mreturn\u001b[39;00m \u001b[39mself\u001b[39;49m\u001b[39m.\u001b[39;49mrepresent_sequence(tag, [items])\n",
      "    \u001b[1;31m[... skipping similar frames: BaseRepresenter.represent_data at line 48 (2 times), BaseRepresenter.represent_sequence at line 92 (2 times), SafeRepresenter.represent_list at line 199 (1 times)]\u001b[0m\n",
      "File \u001b[1;32mc:\\Users\\fardin\\AppData\\Local\\Programs\\Python\\Python310\\lib\\site-packages\\yaml\\representer.py:199\u001b[0m, in \u001b[0;36mSafeRepresenter.represent_list\u001b[1;34m(self, data)\u001b[0m\n\u001b[0;32m    191\u001b[0m \u001b[39mdef\u001b[39;00m \u001b[39mrepresent_list\u001b[39m(\u001b[39mself\u001b[39m, data):\n\u001b[0;32m    192\u001b[0m     \u001b[39m#pairs = (len(data) > 0 and isinstance(data, list))\u001b[39;00m\n\u001b[0;32m    193\u001b[0m     \u001b[39m#if pairs:\u001b[39;00m\n\u001b[1;32m   (...)\u001b[0m\n\u001b[0;32m    197\u001b[0m     \u001b[39m#            break\u001b[39;00m\n\u001b[0;32m    198\u001b[0m     \u001b[39m#if not pairs:\u001b[39;00m\n\u001b[1;32m--> 199\u001b[0m         \u001b[39mreturn\u001b[39;00m \u001b[39mself\u001b[39;49m\u001b[39m.\u001b[39;49mrepresent_sequence(\u001b[39m'\u001b[39;49m\u001b[39mtag:yaml.org,2002:seq\u001b[39;49m\u001b[39m'\u001b[39;49m, data)\n",
      "File \u001b[1;32mc:\\Users\\fardin\\AppData\\Local\\Programs\\Python\\Python310\\lib\\site-packages\\yaml\\representer.py:92\u001b[0m, in \u001b[0;36mBaseRepresenter.represent_sequence\u001b[1;34m(self, tag, sequence, flow_style)\u001b[0m\n\u001b[0;32m     91\u001b[0m \u001b[39mfor\u001b[39;00m item \u001b[39min\u001b[39;00m sequence:\n\u001b[1;32m---> 92\u001b[0m     node_item \u001b[39m=\u001b[39m \u001b[39mself\u001b[39;49m\u001b[39m.\u001b[39;49mrepresent_data(item)\n\u001b[0;32m     93\u001b[0m     \u001b[39mif\u001b[39;00m \u001b[39mnot\u001b[39;00m (\u001b[39misinstance\u001b[39m(node_item, ScalarNode) \u001b[39mand\u001b[39;00m \u001b[39mnot\u001b[39;00m node_item\u001b[39m.\u001b[39mstyle):\n",
      "File \u001b[1;32mc:\\Users\\fardin\\AppData\\Local\\Programs\\Python\\Python310\\lib\\site-packages\\yaml\\representer.py:52\u001b[0m, in \u001b[0;36mBaseRepresenter.represent_data\u001b[1;34m(self, data)\u001b[0m\n\u001b[0;32m     51\u001b[0m \u001b[39mif\u001b[39;00m data_type \u001b[39min\u001b[39;00m \u001b[39mself\u001b[39m\u001b[39m.\u001b[39myaml_multi_representers:\n\u001b[1;32m---> 52\u001b[0m     node \u001b[39m=\u001b[39m \u001b[39mself\u001b[39;49m\u001b[39m.\u001b[39;49myaml_multi_representers[data_type](\u001b[39mself\u001b[39;49m, data)\n\u001b[0;32m     53\u001b[0m     \u001b[39mbreak\u001b[39;00m\n",
      "File \u001b[1;32mc:\\Users\\fardin\\AppData\\Local\\Programs\\Python\\Python310\\lib\\site-packages\\yaml\\representer.py:342\u001b[0m, in \u001b[0;36mRepresenter.represent_object\u001b[1;34m(self, data)\u001b[0m\n\u001b[0;32m    340\u001b[0m \u001b[39mif\u001b[39;00m \u001b[39mnot\u001b[39;00m args \u001b[39mand\u001b[39;00m \u001b[39mnot\u001b[39;00m listitems \u001b[39mand\u001b[39;00m \u001b[39mnot\u001b[39;00m dictitems \\\n\u001b[0;32m    341\u001b[0m         \u001b[39mand\u001b[39;00m \u001b[39misinstance\u001b[39m(state, \u001b[39mdict\u001b[39m) \u001b[39mand\u001b[39;00m newobj:\n\u001b[1;32m--> 342\u001b[0m     \u001b[39mreturn\u001b[39;00m \u001b[39mself\u001b[39;49m\u001b[39m.\u001b[39;49mrepresent_mapping(\n\u001b[0;32m    343\u001b[0m             \u001b[39m'\u001b[39;49m\u001b[39mtag:yaml.org,2002:python/object:\u001b[39;49m\u001b[39m'\u001b[39;49m\u001b[39m+\u001b[39;49mfunction_name, state)\n\u001b[0;32m    344\u001b[0m \u001b[39mif\u001b[39;00m \u001b[39mnot\u001b[39;00m listitems \u001b[39mand\u001b[39;00m \u001b[39mnot\u001b[39;00m dictitems  \\\n\u001b[0;32m    345\u001b[0m         \u001b[39mand\u001b[39;00m \u001b[39misinstance\u001b[39m(state, \u001b[39mdict\u001b[39m) \u001b[39mand\u001b[39;00m \u001b[39mnot\u001b[39;00m state:\n",
      "    \u001b[1;31m[... skipping similar frames: BaseRepresenter.represent_mapping at line 118 (1 times)]\u001b[0m\n",
      "File \u001b[1;32mc:\\Users\\fardin\\AppData\\Local\\Programs\\Python\\Python310\\lib\\site-packages\\yaml\\representer.py:52\u001b[0m, in \u001b[0;36mBaseRepresenter.represent_data\u001b[1;34m(self, data)\u001b[0m\n\u001b[0;32m     51\u001b[0m \u001b[39mif\u001b[39;00m data_type \u001b[39min\u001b[39;00m \u001b[39mself\u001b[39m\u001b[39m.\u001b[39myaml_multi_representers:\n\u001b[1;32m---> 52\u001b[0m     node \u001b[39m=\u001b[39m \u001b[39mself\u001b[39;49m\u001b[39m.\u001b[39;49myaml_multi_representers[data_type](\u001b[39mself\u001b[39;49m, data)\n\u001b[0;32m     53\u001b[0m     \u001b[39mbreak\u001b[39;00m\n",
      "File \u001b[1;32mc:\\Users\\fardin\\AppData\\Local\\Programs\\Python\\Python310\\lib\\site-packages\\yaml\\representer.py:342\u001b[0m, in \u001b[0;36mRepresenter.represent_object\u001b[1;34m(self, data)\u001b[0m\n\u001b[0;32m    340\u001b[0m \u001b[39mif\u001b[39;00m \u001b[39mnot\u001b[39;00m args \u001b[39mand\u001b[39;00m \u001b[39mnot\u001b[39;00m listitems \u001b[39mand\u001b[39;00m \u001b[39mnot\u001b[39;00m dictitems \\\n\u001b[0;32m    341\u001b[0m         \u001b[39mand\u001b[39;00m \u001b[39misinstance\u001b[39m(state, \u001b[39mdict\u001b[39m) \u001b[39mand\u001b[39;00m newobj:\n\u001b[1;32m--> 342\u001b[0m     \u001b[39mreturn\u001b[39;00m \u001b[39mself\u001b[39;49m\u001b[39m.\u001b[39;49mrepresent_mapping(\n\u001b[0;32m    343\u001b[0m             \u001b[39m'\u001b[39;49m\u001b[39mtag:yaml.org,2002:python/object:\u001b[39;49m\u001b[39m'\u001b[39;49m\u001b[39m+\u001b[39;49mfunction_name, state)\n\u001b[0;32m    344\u001b[0m \u001b[39mif\u001b[39;00m \u001b[39mnot\u001b[39;00m listitems \u001b[39mand\u001b[39;00m \u001b[39mnot\u001b[39;00m dictitems  \\\n\u001b[0;32m    345\u001b[0m         \u001b[39mand\u001b[39;00m \u001b[39misinstance\u001b[39m(state, \u001b[39mdict\u001b[39m) \u001b[39mand\u001b[39;00m \u001b[39mnot\u001b[39;00m state:\n",
      "File \u001b[1;32mc:\\Users\\fardin\\AppData\\Local\\Programs\\Python\\Python310\\lib\\site-packages\\yaml\\representer.py:118\u001b[0m, in \u001b[0;36mBaseRepresenter.represent_mapping\u001b[1;34m(self, tag, mapping, flow_style)\u001b[0m\n\u001b[0;32m    117\u001b[0m node_key \u001b[39m=\u001b[39m \u001b[39mself\u001b[39m\u001b[39m.\u001b[39mrepresent_data(item_key)\n\u001b[1;32m--> 118\u001b[0m node_value \u001b[39m=\u001b[39m \u001b[39mself\u001b[39;49m\u001b[39m.\u001b[39;49mrepresent_data(item_value)\n\u001b[0;32m    119\u001b[0m \u001b[39mif\u001b[39;00m \u001b[39mnot\u001b[39;00m (\u001b[39misinstance\u001b[39m(node_key, ScalarNode) \u001b[39mand\u001b[39;00m \u001b[39mnot\u001b[39;00m node_key\u001b[39m.\u001b[39mstyle):\n",
      "File \u001b[1;32mc:\\Users\\fardin\\AppData\\Local\\Programs\\Python\\Python310\\lib\\site-packages\\yaml\\representer.py:48\u001b[0m, in \u001b[0;36mBaseRepresenter.represent_data\u001b[1;34m(self, data)\u001b[0m\n\u001b[0;32m     47\u001b[0m \u001b[39mif\u001b[39;00m data_types[\u001b[39m0\u001b[39m] \u001b[39min\u001b[39;00m \u001b[39mself\u001b[39m\u001b[39m.\u001b[39myaml_representers:\n\u001b[1;32m---> 48\u001b[0m     node \u001b[39m=\u001b[39m \u001b[39mself\u001b[39;49m\u001b[39m.\u001b[39;49myaml_representers[data_types[\u001b[39m0\u001b[39;49m]](\u001b[39mself\u001b[39;49m, data)\n\u001b[0;32m     49\u001b[0m \u001b[39melse\u001b[39;00m:\n",
      "File \u001b[1;32mc:\\Users\\fardin\\AppData\\Local\\Programs\\Python\\Python310\\lib\\site-packages\\yaml\\representer.py:207\u001b[0m, in \u001b[0;36mSafeRepresenter.represent_dict\u001b[1;34m(self, data)\u001b[0m\n\u001b[0;32m    206\u001b[0m \u001b[39mdef\u001b[39;00m \u001b[39mrepresent_dict\u001b[39m(\u001b[39mself\u001b[39m, data):\n\u001b[1;32m--> 207\u001b[0m     \u001b[39mreturn\u001b[39;00m \u001b[39mself\u001b[39;49m\u001b[39m.\u001b[39;49mrepresent_mapping(\u001b[39m'\u001b[39;49m\u001b[39mtag:yaml.org,2002:map\u001b[39;49m\u001b[39m'\u001b[39;49m, data)\n",
      "File \u001b[1;32mc:\\Users\\fardin\\AppData\\Local\\Programs\\Python\\Python310\\lib\\site-packages\\yaml\\representer.py:118\u001b[0m, in \u001b[0;36mBaseRepresenter.represent_mapping\u001b[1;34m(self, tag, mapping, flow_style)\u001b[0m\n\u001b[0;32m    117\u001b[0m node_key \u001b[39m=\u001b[39m \u001b[39mself\u001b[39m\u001b[39m.\u001b[39mrepresent_data(item_key)\n\u001b[1;32m--> 118\u001b[0m node_value \u001b[39m=\u001b[39m \u001b[39mself\u001b[39;49m\u001b[39m.\u001b[39;49mrepresent_data(item_value)\n\u001b[0;32m    119\u001b[0m \u001b[39mif\u001b[39;00m \u001b[39mnot\u001b[39;00m (\u001b[39misinstance\u001b[39m(node_key, ScalarNode) \u001b[39mand\u001b[39;00m \u001b[39mnot\u001b[39;00m node_key\u001b[39m.\u001b[39mstyle):\n",
      "File \u001b[1;32mc:\\Users\\fardin\\AppData\\Local\\Programs\\Python\\Python310\\lib\\site-packages\\yaml\\representer.py:48\u001b[0m, in \u001b[0;36mBaseRepresenter.represent_data\u001b[1;34m(self, data)\u001b[0m\n\u001b[0;32m     47\u001b[0m \u001b[39mif\u001b[39;00m data_types[\u001b[39m0\u001b[39m] \u001b[39min\u001b[39;00m \u001b[39mself\u001b[39m\u001b[39m.\u001b[39myaml_representers:\n\u001b[1;32m---> 48\u001b[0m     node \u001b[39m=\u001b[39m \u001b[39mself\u001b[39;49m\u001b[39m.\u001b[39;49myaml_representers[data_types[\u001b[39m0\u001b[39;49m]](\u001b[39mself\u001b[39;49m, data)\n\u001b[0;32m     49\u001b[0m \u001b[39melse\u001b[39;00m:\n",
      "File \u001b[1;32mc:\\Users\\fardin\\AppData\\Local\\Programs\\Python\\Python310\\lib\\site-packages\\yaml\\representer.py:364\u001b[0m, in \u001b[0;36mRepresenter.represent_ordered_dict\u001b[1;34m(self, data)\u001b[0m\n\u001b[0;32m    363\u001b[0m items \u001b[39m=\u001b[39m [[key, value] \u001b[39mfor\u001b[39;00m key, value \u001b[39min\u001b[39;00m data\u001b[39m.\u001b[39mitems()]\n\u001b[1;32m--> 364\u001b[0m \u001b[39mreturn\u001b[39;00m \u001b[39mself\u001b[39;49m\u001b[39m.\u001b[39;49mrepresent_sequence(tag, [items])\n",
      "File \u001b[1;32mc:\\Users\\fardin\\AppData\\Local\\Programs\\Python\\Python310\\lib\\site-packages\\yaml\\representer.py:92\u001b[0m, in \u001b[0;36mBaseRepresenter.represent_sequence\u001b[1;34m(self, tag, sequence, flow_style)\u001b[0m\n\u001b[0;32m     91\u001b[0m \u001b[39mfor\u001b[39;00m item \u001b[39min\u001b[39;00m sequence:\n\u001b[1;32m---> 92\u001b[0m     node_item \u001b[39m=\u001b[39m \u001b[39mself\u001b[39;49m\u001b[39m.\u001b[39;49mrepresent_data(item)\n\u001b[0;32m     93\u001b[0m     \u001b[39mif\u001b[39;00m \u001b[39mnot\u001b[39;00m (\u001b[39misinstance\u001b[39m(node_item, ScalarNode) \u001b[39mand\u001b[39;00m \u001b[39mnot\u001b[39;00m node_item\u001b[39m.\u001b[39mstyle):\n",
      "File \u001b[1;32mc:\\Users\\fardin\\AppData\\Local\\Programs\\Python\\Python310\\lib\\site-packages\\yaml\\representer.py:48\u001b[0m, in \u001b[0;36mBaseRepresenter.represent_data\u001b[1;34m(self, data)\u001b[0m\n\u001b[0;32m     47\u001b[0m \u001b[39mif\u001b[39;00m data_types[\u001b[39m0\u001b[39m] \u001b[39min\u001b[39;00m \u001b[39mself\u001b[39m\u001b[39m.\u001b[39myaml_representers:\n\u001b[1;32m---> 48\u001b[0m     node \u001b[39m=\u001b[39m \u001b[39mself\u001b[39;49m\u001b[39m.\u001b[39;49myaml_representers[data_types[\u001b[39m0\u001b[39;49m]](\u001b[39mself\u001b[39;49m, data)\n\u001b[0;32m     49\u001b[0m \u001b[39melse\u001b[39;00m:\n",
      "File \u001b[1;32mc:\\Users\\fardin\\AppData\\Local\\Programs\\Python\\Python310\\lib\\site-packages\\yaml\\representer.py:199\u001b[0m, in \u001b[0;36mSafeRepresenter.represent_list\u001b[1;34m(self, data)\u001b[0m\n\u001b[0;32m    191\u001b[0m \u001b[39mdef\u001b[39;00m \u001b[39mrepresent_list\u001b[39m(\u001b[39mself\u001b[39m, data):\n\u001b[0;32m    192\u001b[0m     \u001b[39m#pairs = (len(data) > 0 and isinstance(data, list))\u001b[39;00m\n\u001b[0;32m    193\u001b[0m     \u001b[39m#if pairs:\u001b[39;00m\n\u001b[1;32m   (...)\u001b[0m\n\u001b[0;32m    197\u001b[0m     \u001b[39m#            break\u001b[39;00m\n\u001b[0;32m    198\u001b[0m     \u001b[39m#if not pairs:\u001b[39;00m\n\u001b[1;32m--> 199\u001b[0m         \u001b[39mreturn\u001b[39;00m \u001b[39mself\u001b[39;49m\u001b[39m.\u001b[39;49mrepresent_sequence(\u001b[39m'\u001b[39;49m\u001b[39mtag:yaml.org,2002:seq\u001b[39;49m\u001b[39m'\u001b[39;49m, data)\n",
      "File \u001b[1;32mc:\\Users\\fardin\\AppData\\Local\\Programs\\Python\\Python310\\lib\\site-packages\\yaml\\representer.py:92\u001b[0m, in \u001b[0;36mBaseRepresenter.represent_sequence\u001b[1;34m(self, tag, sequence, flow_style)\u001b[0m\n\u001b[0;32m     91\u001b[0m \u001b[39mfor\u001b[39;00m item \u001b[39min\u001b[39;00m sequence:\n\u001b[1;32m---> 92\u001b[0m     node_item \u001b[39m=\u001b[39m \u001b[39mself\u001b[39;49m\u001b[39m.\u001b[39;49mrepresent_data(item)\n\u001b[0;32m     93\u001b[0m     \u001b[39mif\u001b[39;00m \u001b[39mnot\u001b[39;00m (\u001b[39misinstance\u001b[39m(node_item, ScalarNode) \u001b[39mand\u001b[39;00m \u001b[39mnot\u001b[39;00m node_item\u001b[39m.\u001b[39mstyle):\n",
      "File \u001b[1;32mc:\\Users\\fardin\\AppData\\Local\\Programs\\Python\\Python310\\lib\\site-packages\\yaml\\representer.py:48\u001b[0m, in \u001b[0;36mBaseRepresenter.represent_data\u001b[1;34m(self, data)\u001b[0m\n\u001b[0;32m     47\u001b[0m \u001b[39mif\u001b[39;00m data_types[\u001b[39m0\u001b[39m] \u001b[39min\u001b[39;00m \u001b[39mself\u001b[39m\u001b[39m.\u001b[39myaml_representers:\n\u001b[1;32m---> 48\u001b[0m     node \u001b[39m=\u001b[39m \u001b[39mself\u001b[39;49m\u001b[39m.\u001b[39;49myaml_representers[data_types[\u001b[39m0\u001b[39;49m]](\u001b[39mself\u001b[39;49m, data)\n\u001b[0;32m     49\u001b[0m \u001b[39melse\u001b[39;00m:\n",
      "File \u001b[1;32mc:\\Users\\fardin\\AppData\\Local\\Programs\\Python\\Python310\\lib\\site-packages\\yaml\\representer.py:199\u001b[0m, in \u001b[0;36mSafeRepresenter.represent_list\u001b[1;34m(self, data)\u001b[0m\n\u001b[0;32m    191\u001b[0m \u001b[39mdef\u001b[39;00m \u001b[39mrepresent_list\u001b[39m(\u001b[39mself\u001b[39m, data):\n\u001b[0;32m    192\u001b[0m     \u001b[39m#pairs = (len(data) > 0 and isinstance(data, list))\u001b[39;00m\n\u001b[0;32m    193\u001b[0m     \u001b[39m#if pairs:\u001b[39;00m\n\u001b[1;32m   (...)\u001b[0m\n\u001b[0;32m    197\u001b[0m     \u001b[39m#            break\u001b[39;00m\n\u001b[0;32m    198\u001b[0m     \u001b[39m#if not pairs:\u001b[39;00m\n\u001b[1;32m--> 199\u001b[0m         \u001b[39mreturn\u001b[39;00m \u001b[39mself\u001b[39;49m\u001b[39m.\u001b[39;49mrepresent_sequence(\u001b[39m'\u001b[39;49m\u001b[39mtag:yaml.org,2002:seq\u001b[39;49m\u001b[39m'\u001b[39;49m, data)\n",
      "File \u001b[1;32mc:\\Users\\fardin\\AppData\\Local\\Programs\\Python\\Python310\\lib\\site-packages\\yaml\\representer.py:92\u001b[0m, in \u001b[0;36mBaseRepresenter.represent_sequence\u001b[1;34m(self, tag, sequence, flow_style)\u001b[0m\n\u001b[0;32m     91\u001b[0m \u001b[39mfor\u001b[39;00m item \u001b[39min\u001b[39;00m sequence:\n\u001b[1;32m---> 92\u001b[0m     node_item \u001b[39m=\u001b[39m \u001b[39mself\u001b[39;49m\u001b[39m.\u001b[39;49mrepresent_data(item)\n\u001b[0;32m     93\u001b[0m     \u001b[39mif\u001b[39;00m \u001b[39mnot\u001b[39;00m (\u001b[39misinstance\u001b[39m(node_item, ScalarNode) \u001b[39mand\u001b[39;00m \u001b[39mnot\u001b[39;00m node_item\u001b[39m.\u001b[39mstyle):\n",
      "File \u001b[1;32mc:\\Users\\fardin\\AppData\\Local\\Programs\\Python\\Python310\\lib\\site-packages\\yaml\\representer.py:52\u001b[0m, in \u001b[0;36mBaseRepresenter.represent_data\u001b[1;34m(self, data)\u001b[0m\n\u001b[0;32m     51\u001b[0m \u001b[39mif\u001b[39;00m data_type \u001b[39min\u001b[39;00m \u001b[39mself\u001b[39m\u001b[39m.\u001b[39myaml_multi_representers:\n\u001b[1;32m---> 52\u001b[0m     node \u001b[39m=\u001b[39m \u001b[39mself\u001b[39;49m\u001b[39m.\u001b[39;49myaml_multi_representers[data_type](\u001b[39mself\u001b[39;49m, data)\n\u001b[0;32m     53\u001b[0m     \u001b[39mbreak\u001b[39;00m\n",
      "File \u001b[1;32mc:\\Users\\fardin\\AppData\\Local\\Programs\\Python\\Python310\\lib\\site-packages\\yaml\\representer.py:356\u001b[0m, in \u001b[0;36mRepresenter.represent_object\u001b[1;34m(self, data)\u001b[0m\n\u001b[0;32m    355\u001b[0m     value[\u001b[39m'\u001b[39m\u001b[39mdictitems\u001b[39m\u001b[39m'\u001b[39m] \u001b[39m=\u001b[39m dictitems\n\u001b[1;32m--> 356\u001b[0m \u001b[39mreturn\u001b[39;00m \u001b[39mself\u001b[39;49m\u001b[39m.\u001b[39;49mrepresent_mapping(tag\u001b[39m+\u001b[39;49mfunction_name, value)\n",
      "File \u001b[1;32mc:\\Users\\fardin\\AppData\\Local\\Programs\\Python\\Python310\\lib\\site-packages\\yaml\\representer.py:118\u001b[0m, in \u001b[0;36mBaseRepresenter.represent_mapping\u001b[1;34m(self, tag, mapping, flow_style)\u001b[0m\n\u001b[0;32m    117\u001b[0m node_key \u001b[39m=\u001b[39m \u001b[39mself\u001b[39m\u001b[39m.\u001b[39mrepresent_data(item_key)\n\u001b[1;32m--> 118\u001b[0m node_value \u001b[39m=\u001b[39m \u001b[39mself\u001b[39;49m\u001b[39m.\u001b[39;49mrepresent_data(item_value)\n\u001b[0;32m    119\u001b[0m \u001b[39mif\u001b[39;00m \u001b[39mnot\u001b[39;00m (\u001b[39misinstance\u001b[39m(node_key, ScalarNode) \u001b[39mand\u001b[39;00m \u001b[39mnot\u001b[39;00m node_key\u001b[39m.\u001b[39mstyle):\n",
      "File \u001b[1;32mc:\\Users\\fardin\\AppData\\Local\\Programs\\Python\\Python310\\lib\\site-packages\\yaml\\representer.py:48\u001b[0m, in \u001b[0;36mBaseRepresenter.represent_data\u001b[1;34m(self, data)\u001b[0m\n\u001b[0;32m     47\u001b[0m \u001b[39mif\u001b[39;00m data_types[\u001b[39m0\u001b[39m] \u001b[39min\u001b[39;00m \u001b[39mself\u001b[39m\u001b[39m.\u001b[39myaml_representers:\n\u001b[1;32m---> 48\u001b[0m     node \u001b[39m=\u001b[39m \u001b[39mself\u001b[39;49m\u001b[39m.\u001b[39;49myaml_representers[data_types[\u001b[39m0\u001b[39;49m]](\u001b[39mself\u001b[39;49m, data)\n\u001b[0;32m     49\u001b[0m \u001b[39melse\u001b[39;00m:\n",
      "File \u001b[1;32mc:\\Users\\fardin\\AppData\\Local\\Programs\\Python\\Python310\\lib\\site-packages\\yaml\\representer.py:207\u001b[0m, in \u001b[0;36mSafeRepresenter.represent_dict\u001b[1;34m(self, data)\u001b[0m\n\u001b[0;32m    206\u001b[0m \u001b[39mdef\u001b[39;00m \u001b[39mrepresent_dict\u001b[39m(\u001b[39mself\u001b[39m, data):\n\u001b[1;32m--> 207\u001b[0m     \u001b[39mreturn\u001b[39;00m \u001b[39mself\u001b[39;49m\u001b[39m.\u001b[39;49mrepresent_mapping(\u001b[39m'\u001b[39;49m\u001b[39mtag:yaml.org,2002:map\u001b[39;49m\u001b[39m'\u001b[39;49m, data)\n",
      "File \u001b[1;32mc:\\Users\\fardin\\AppData\\Local\\Programs\\Python\\Python310\\lib\\site-packages\\yaml\\representer.py:118\u001b[0m, in \u001b[0;36mBaseRepresenter.represent_mapping\u001b[1;34m(self, tag, mapping, flow_style)\u001b[0m\n\u001b[0;32m    117\u001b[0m node_key \u001b[39m=\u001b[39m \u001b[39mself\u001b[39m\u001b[39m.\u001b[39mrepresent_data(item_key)\n\u001b[1;32m--> 118\u001b[0m node_value \u001b[39m=\u001b[39m \u001b[39mself\u001b[39;49m\u001b[39m.\u001b[39;49mrepresent_data(item_value)\n\u001b[0;32m    119\u001b[0m \u001b[39mif\u001b[39;00m \u001b[39mnot\u001b[39;00m (\u001b[39misinstance\u001b[39m(node_key, ScalarNode) \u001b[39mand\u001b[39;00m \u001b[39mnot\u001b[39;00m node_key\u001b[39m.\u001b[39mstyle):\n",
      "File \u001b[1;32mc:\\Users\\fardin\\AppData\\Local\\Programs\\Python\\Python310\\lib\\site-packages\\yaml\\representer.py:52\u001b[0m, in \u001b[0;36mBaseRepresenter.represent_data\u001b[1;34m(self, data)\u001b[0m\n\u001b[0;32m     51\u001b[0m \u001b[39mif\u001b[39;00m data_type \u001b[39min\u001b[39;00m \u001b[39mself\u001b[39m\u001b[39m.\u001b[39myaml_multi_representers:\n\u001b[1;32m---> 52\u001b[0m     node \u001b[39m=\u001b[39m \u001b[39mself\u001b[39;49m\u001b[39m.\u001b[39;49myaml_multi_representers[data_type](\u001b[39mself\u001b[39;49m, data)\n\u001b[0;32m     53\u001b[0m     \u001b[39mbreak\u001b[39;00m\n",
      "File \u001b[1;32mc:\\Users\\fardin\\AppData\\Local\\Programs\\Python\\Python310\\lib\\site-packages\\yaml\\representer.py:346\u001b[0m, in \u001b[0;36mRepresenter.represent_object\u001b[1;34m(self, data)\u001b[0m\n\u001b[0;32m    344\u001b[0m \u001b[39mif\u001b[39;00m \u001b[39mnot\u001b[39;00m listitems \u001b[39mand\u001b[39;00m \u001b[39mnot\u001b[39;00m dictitems  \\\n\u001b[0;32m    345\u001b[0m         \u001b[39mand\u001b[39;00m \u001b[39misinstance\u001b[39m(state, \u001b[39mdict\u001b[39m) \u001b[39mand\u001b[39;00m \u001b[39mnot\u001b[39;00m state:\n\u001b[1;32m--> 346\u001b[0m     \u001b[39mreturn\u001b[39;00m \u001b[39mself\u001b[39;49m\u001b[39m.\u001b[39;49mrepresent_sequence(tag\u001b[39m+\u001b[39;49mfunction_name, args)\n\u001b[0;32m    347\u001b[0m value \u001b[39m=\u001b[39m {}\n",
      "File \u001b[1;32mc:\\Users\\fardin\\AppData\\Local\\Programs\\Python\\Python310\\lib\\site-packages\\yaml\\representer.py:92\u001b[0m, in \u001b[0;36mBaseRepresenter.represent_sequence\u001b[1;34m(self, tag, sequence, flow_style)\u001b[0m\n\u001b[0;32m     91\u001b[0m \u001b[39mfor\u001b[39;00m item \u001b[39min\u001b[39;00m sequence:\n\u001b[1;32m---> 92\u001b[0m     node_item \u001b[39m=\u001b[39m \u001b[39mself\u001b[39;49m\u001b[39m.\u001b[39;49mrepresent_data(item)\n\u001b[0;32m     93\u001b[0m     \u001b[39mif\u001b[39;00m \u001b[39mnot\u001b[39;00m (\u001b[39misinstance\u001b[39m(node_item, ScalarNode) \u001b[39mand\u001b[39;00m \u001b[39mnot\u001b[39;00m node_item\u001b[39m.\u001b[39mstyle):\n",
      "File \u001b[1;32mc:\\Users\\fardin\\AppData\\Local\\Programs\\Python\\Python310\\lib\\site-packages\\yaml\\representer.py:52\u001b[0m, in \u001b[0;36mBaseRepresenter.represent_data\u001b[1;34m(self, data)\u001b[0m\n\u001b[0;32m     51\u001b[0m \u001b[39mif\u001b[39;00m data_type \u001b[39min\u001b[39;00m \u001b[39mself\u001b[39m\u001b[39m.\u001b[39myaml_multi_representers:\n\u001b[1;32m---> 52\u001b[0m     node \u001b[39m=\u001b[39m \u001b[39mself\u001b[39;49m\u001b[39m.\u001b[39;49myaml_multi_representers[data_type](\u001b[39mself\u001b[39;49m, data)\n\u001b[0;32m     53\u001b[0m     \u001b[39mbreak\u001b[39;00m\n",
      "File \u001b[1;32mc:\\Users\\fardin\\AppData\\Local\\Programs\\Python\\Python310\\lib\\site-packages\\yaml\\representer.py:330\u001b[0m, in \u001b[0;36mRepresenter.represent_object\u001b[1;34m(self, data)\u001b[0m\n\u001b[0;32m    329\u001b[0m \u001b[39mif\u001b[39;00m dictitems \u001b[39mis\u001b[39;00m \u001b[39mnot\u001b[39;00m \u001b[39mNone\u001b[39;00m:\n\u001b[1;32m--> 330\u001b[0m     dictitems \u001b[39m=\u001b[39m \u001b[39mdict\u001b[39;49m(dictitems)\n\u001b[0;32m    331\u001b[0m \u001b[39mif\u001b[39;00m function\u001b[39m.\u001b[39m\u001b[39m__name__\u001b[39m \u001b[39m==\u001b[39m \u001b[39m'\u001b[39m\u001b[39m__newobj__\u001b[39m\u001b[39m'\u001b[39m:\n",
      "\u001b[1;31mValueError\u001b[0m: dictionary update sequence element #0 has length 1; 2 is required",
      "\nDuring handling of the above exception, another exception occurred:\n",
      "\u001b[1;31mValueError\u001b[0m                                Traceback (most recent call last)",
      "\u001b[1;32mc:\\Users\\fardin\\Projects\\ColorIntelligence\\Practices\\Tasks\\Tests\\4_SentimentClassificationOnNews.ipynb Cell 16\u001b[0m line \u001b[0;36m1\n\u001b[1;32m----> <a href='vscode-notebook-cell:/c%3A/Users/fardin/Projects/ColorIntelligence/Practices/Tasks/Tests/4_SentimentClassificationOnNews.ipynb#X33sZmlsZQ%3D%3D?line=0'>1</a>\u001b[0m model_manager\u001b[39m.\u001b[39;49mfit(datamodule\u001b[39m=\u001b[39;49mdata_manager, ckpt_path\u001b[39m=\u001b[39;49m\u001b[39mr\u001b[39;49m\u001b[39m'\u001b[39;49m\u001b[39mlogs\u001b[39;49m\u001b[39m\\\u001b[39;49m\u001b[39mhetero_model_17_AG\u001b[39;49m\u001b[39m\\\u001b[39;49m\u001b[39mversion_12\u001b[39;49m\u001b[39m\\\u001b[39;49m\u001b[39mcheckpoints\u001b[39;49m\u001b[39m\\\u001b[39;49m\u001b[39mepoch=51-step=24076.ckpt\u001b[39;49m\u001b[39m'\u001b[39;49m)\n",
      "File \u001b[1;32mc:\\Users\\fardin\\Projects\\ColorIntelligence\\Scripts\\Models\\ModelsManager\\ModelManager.py:56\u001b[0m, in \u001b[0;36mfit\u001b[1;34m(self, train_dataloaders, val_dataloaders, datamodule, max_epochs, ckpt_path)\u001b[0m\n\u001b[0;32m     54\u001b[0m     \u001b[39mself\u001b[39m\u001b[39m.\u001b[39mckpt_path \u001b[39m=\u001b[39m ckpt_path\n\u001b[0;32m     55\u001b[0m \u001b[39mif\u001b[39;00m max_epochs\u001b[39m>\u001b[39m\u001b[39m0\u001b[39m:\n\u001b[1;32m---> 56\u001b[0m     \u001b[39mself\u001b[39m\u001b[39m.\u001b[39mmax_epochs \u001b[39m=\u001b[39m max_epochs\n\u001b[0;32m     57\u001b[0m     \u001b[39mself\u001b[39m\u001b[39m.\u001b[39mtrainer \u001b[39m=\u001b[39m \u001b[39mself\u001b[39m\u001b[39m.\u001b[39m_create_trainer()\n\u001b[0;32m     58\u001b[0m \u001b[39mself\u001b[39m\u001b[39m.\u001b[39mtrainer\u001b[39m.\u001b[39mfit(\u001b[39mself\u001b[39m\u001b[39m.\u001b[39mlightning_model,\n\u001b[0;32m     59\u001b[0m                  datamodule\u001b[39m=\u001b[39mdatamodule,\n\u001b[0;32m     60\u001b[0m                  train_dataloaders\u001b[39m=\u001b[39mtrain_dataloaders,\n\u001b[0;32m     61\u001b[0m                  val_dataloaders\u001b[39m=\u001b[39mval_dataloaders,\n\u001b[0;32m     62\u001b[0m                  ckpt_path \u001b[39m=\u001b[39m \u001b[39mself\u001b[39m\u001b[39m.\u001b[39mckpt_path\n\u001b[0;32m     63\u001b[0m                  )\n",
      "File \u001b[1;32mc:\\Users\\fardin\\AppData\\Local\\Programs\\Python\\Python310\\lib\\site-packages\\lightning\\pytorch\\trainer\\trainer.py:545\u001b[0m, in \u001b[0;36mTrainer.fit\u001b[1;34m(self, model, train_dataloaders, val_dataloaders, datamodule, ckpt_path)\u001b[0m\n\u001b[0;32m    543\u001b[0m \u001b[39mself\u001b[39m\u001b[39m.\u001b[39mstate\u001b[39m.\u001b[39mstatus \u001b[39m=\u001b[39m TrainerStatus\u001b[39m.\u001b[39mRUNNING\n\u001b[0;32m    544\u001b[0m \u001b[39mself\u001b[39m\u001b[39m.\u001b[39mtraining \u001b[39m=\u001b[39m \u001b[39mTrue\u001b[39;00m\n\u001b[1;32m--> 545\u001b[0m call\u001b[39m.\u001b[39;49m_call_and_handle_interrupt(\n\u001b[0;32m    546\u001b[0m     \u001b[39mself\u001b[39;49m, \u001b[39mself\u001b[39;49m\u001b[39m.\u001b[39;49m_fit_impl, model, train_dataloaders, val_dataloaders, datamodule, ckpt_path\n\u001b[0;32m    547\u001b[0m )\n",
      "File \u001b[1;32mc:\\Users\\fardin\\AppData\\Local\\Programs\\Python\\Python310\\lib\\site-packages\\lightning\\pytorch\\trainer\\call.py:71\u001b[0m, in \u001b[0;36m_call_and_handle_interrupt\u001b[1;34m(trainer, trainer_fn, *args, **kwargs)\u001b[0m\n\u001b[0;32m     69\u001b[0m trainer\u001b[39m.\u001b[39mstrategy\u001b[39m.\u001b[39mon_exception(exception)\n\u001b[0;32m     70\u001b[0m \u001b[39mfor\u001b[39;00m logger \u001b[39min\u001b[39;00m trainer\u001b[39m.\u001b[39mloggers:\n\u001b[1;32m---> 71\u001b[0m     logger\u001b[39m.\u001b[39;49mfinalize(\u001b[39m\"\u001b[39;49m\u001b[39mfailed\u001b[39;49m\u001b[39m\"\u001b[39;49m)\n\u001b[0;32m     72\u001b[0m trainer\u001b[39m.\u001b[39m_teardown()\n\u001b[0;32m     73\u001b[0m \u001b[39m# teardown might access the stage so we reset it after\u001b[39;00m\n",
      "File \u001b[1;32mc:\\Users\\fardin\\AppData\\Local\\Programs\\Python\\Python310\\lib\\site-packages\\lightning_utilities\\core\\rank_zero.py:32\u001b[0m, in \u001b[0;36mrank_zero_only.<locals>.wrapped_fn\u001b[1;34m(*args, **kwargs)\u001b[0m\n\u001b[0;32m     30\u001b[0m     \u001b[39mraise\u001b[39;00m \u001b[39mRuntimeError\u001b[39;00m(\u001b[39m\"\u001b[39m\u001b[39mThe `rank_zero_only.rank` needs to be set before use\u001b[39m\u001b[39m\"\u001b[39m)\n\u001b[0;32m     31\u001b[0m \u001b[39mif\u001b[39;00m rank \u001b[39m==\u001b[39m \u001b[39m0\u001b[39m:\n\u001b[1;32m---> 32\u001b[0m     \u001b[39mreturn\u001b[39;00m fn(\u001b[39m*\u001b[39margs, \u001b[39m*\u001b[39m\u001b[39m*\u001b[39mkwargs)\n\u001b[0;32m     33\u001b[0m \u001b[39mreturn\u001b[39;00m \u001b[39mNone\u001b[39;00m\n",
      "File \u001b[1;32mc:\\Users\\fardin\\AppData\\Local\\Programs\\Python\\Python310\\lib\\site-packages\\lightning\\fabric\\loggers\\csv_logs.py:157\u001b[0m, in \u001b[0;36mCSVLogger.finalize\u001b[1;34m(self, status)\u001b[0m\n\u001b[0;32m    153\u001b[0m \u001b[39mif\u001b[39;00m \u001b[39mself\u001b[39m\u001b[39m.\u001b[39m_experiment \u001b[39mis\u001b[39;00m \u001b[39mNone\u001b[39;00m:\n\u001b[0;32m    154\u001b[0m     \u001b[39m# When using multiprocessing, finalize() should be a no-op on the main process, as no experiment has been\u001b[39;00m\n\u001b[0;32m    155\u001b[0m     \u001b[39m# initialized there\u001b[39;00m\n\u001b[0;32m    156\u001b[0m     \u001b[39mreturn\u001b[39;00m\n\u001b[1;32m--> 157\u001b[0m \u001b[39mself\u001b[39;49m\u001b[39m.\u001b[39;49msave()\n",
      "File \u001b[1;32mc:\\Users\\fardin\\AppData\\Local\\Programs\\Python\\Python310\\lib\\site-packages\\lightning_utilities\\core\\rank_zero.py:32\u001b[0m, in \u001b[0;36mrank_zero_only.<locals>.wrapped_fn\u001b[1;34m(*args, **kwargs)\u001b[0m\n\u001b[0;32m     30\u001b[0m     \u001b[39mraise\u001b[39;00m \u001b[39mRuntimeError\u001b[39;00m(\u001b[39m\"\u001b[39m\u001b[39mThe `rank_zero_only.rank` needs to be set before use\u001b[39m\u001b[39m\"\u001b[39m)\n\u001b[0;32m     31\u001b[0m \u001b[39mif\u001b[39;00m rank \u001b[39m==\u001b[39m \u001b[39m0\u001b[39m:\n\u001b[1;32m---> 32\u001b[0m     \u001b[39mreturn\u001b[39;00m fn(\u001b[39m*\u001b[39margs, \u001b[39m*\u001b[39m\u001b[39m*\u001b[39mkwargs)\n\u001b[0;32m     33\u001b[0m \u001b[39mreturn\u001b[39;00m \u001b[39mNone\u001b[39;00m\n",
      "File \u001b[1;32mc:\\Users\\fardin\\AppData\\Local\\Programs\\Python\\Python310\\lib\\site-packages\\lightning\\fabric\\loggers\\csv_logs.py:149\u001b[0m, in \u001b[0;36mCSVLogger.save\u001b[1;34m(self)\u001b[0m\n\u001b[0;32m    146\u001b[0m \u001b[39m@rank_zero_only\u001b[39m\n\u001b[0;32m    147\u001b[0m \u001b[39mdef\u001b[39;00m \u001b[39msave\u001b[39m(\u001b[39mself\u001b[39m) \u001b[39m-\u001b[39m\u001b[39m>\u001b[39m \u001b[39mNone\u001b[39;00m:\n\u001b[0;32m    148\u001b[0m     \u001b[39msuper\u001b[39m()\u001b[39m.\u001b[39msave()\n\u001b[1;32m--> 149\u001b[0m     \u001b[39mself\u001b[39;49m\u001b[39m.\u001b[39;49mexperiment\u001b[39m.\u001b[39;49msave()\n",
      "File \u001b[1;32mc:\\Users\\fardin\\AppData\\Local\\Programs\\Python\\Python310\\lib\\site-packages\\lightning\\pytorch\\loggers\\csv_logs.py:64\u001b[0m, in \u001b[0;36mExperimentWriter.save\u001b[1;34m(self)\u001b[0m\n\u001b[0;32m     62\u001b[0m \u001b[39m\u001b[39m\u001b[39m\"\"\"Save recorded hparams and metrics into files.\"\"\"\u001b[39;00m\n\u001b[0;32m     63\u001b[0m hparams_file \u001b[39m=\u001b[39m os\u001b[39m.\u001b[39mpath\u001b[39m.\u001b[39mjoin(\u001b[39mself\u001b[39m\u001b[39m.\u001b[39mlog_dir, \u001b[39mself\u001b[39m\u001b[39m.\u001b[39mNAME_HPARAMS_FILE)\n\u001b[1;32m---> 64\u001b[0m save_hparams_to_yaml(hparams_file, \u001b[39mself\u001b[39;49m\u001b[39m.\u001b[39;49mhparams)\n\u001b[0;32m     65\u001b[0m \u001b[39mreturn\u001b[39;00m \u001b[39msuper\u001b[39m()\u001b[39m.\u001b[39msave()\n",
      "File \u001b[1;32mc:\\Users\\fardin\\AppData\\Local\\Programs\\Python\\Python310\\lib\\site-packages\\lightning\\pytorch\\core\\saving.py:343\u001b[0m, in \u001b[0;36msave_hparams_to_yaml\u001b[1;34m(config_yaml, hparams, use_omegaconf)\u001b[0m\n\u001b[0;32m    341\u001b[0m \u001b[39mtry\u001b[39;00m:\n\u001b[0;32m    342\u001b[0m     v \u001b[39m=\u001b[39m v\u001b[39m.\u001b[39mname \u001b[39mif\u001b[39;00m \u001b[39misinstance\u001b[39m(v, Enum) \u001b[39melse\u001b[39;00m v\n\u001b[1;32m--> 343\u001b[0m     yaml\u001b[39m.\u001b[39;49mdump(v)\n\u001b[0;32m    344\u001b[0m \u001b[39mexcept\u001b[39;00m \u001b[39mTypeError\u001b[39;00m:\n\u001b[0;32m    345\u001b[0m     warn(\u001b[39mf\u001b[39m\u001b[39m\"\u001b[39m\u001b[39mSkipping \u001b[39m\u001b[39m'\u001b[39m\u001b[39m{\u001b[39;00mk\u001b[39m}\u001b[39;00m\u001b[39m'\u001b[39m\u001b[39m parameter because it is not possible to safely dump to YAML.\u001b[39m\u001b[39m\"\u001b[39m)\n",
      "File \u001b[1;32mc:\\Users\\fardin\\AppData\\Local\\Programs\\Python\\Python310\\lib\\site-packages\\yaml\\__init__.py:253\u001b[0m, in \u001b[0;36mdump\u001b[1;34m(data, stream, Dumper, **kwds)\u001b[0m\n\u001b[0;32m    248\u001b[0m \u001b[39mdef\u001b[39;00m \u001b[39mdump\u001b[39m(data, stream\u001b[39m=\u001b[39m\u001b[39mNone\u001b[39;00m, Dumper\u001b[39m=\u001b[39mDumper, \u001b[39m*\u001b[39m\u001b[39m*\u001b[39mkwds):\n\u001b[0;32m    249\u001b[0m \u001b[39m    \u001b[39m\u001b[39m\"\"\"\u001b[39;00m\n\u001b[0;32m    250\u001b[0m \u001b[39m    Serialize a Python object into a YAML stream.\u001b[39;00m\n\u001b[0;32m    251\u001b[0m \u001b[39m    If stream is None, return the produced string instead.\u001b[39;00m\n\u001b[0;32m    252\u001b[0m \u001b[39m    \"\"\"\u001b[39;00m\n\u001b[1;32m--> 253\u001b[0m     \u001b[39mreturn\u001b[39;00m dump_all([data], stream, Dumper\u001b[39m=\u001b[39mDumper, \u001b[39m*\u001b[39m\u001b[39m*\u001b[39mkwds)\n",
      "File \u001b[1;32mc:\\Users\\fardin\\AppData\\Local\\Programs\\Python\\Python310\\lib\\site-packages\\yaml\\__init__.py:241\u001b[0m, in \u001b[0;36mdump_all\u001b[1;34m(documents, stream, Dumper, default_style, default_flow_style, canonical, indent, width, allow_unicode, line_break, encoding, explicit_start, explicit_end, version, tags, sort_keys)\u001b[0m\n\u001b[0;32m    239\u001b[0m     dumper\u001b[39m.\u001b[39mopen()\n\u001b[0;32m    240\u001b[0m     \u001b[39mfor\u001b[39;00m data \u001b[39min\u001b[39;00m documents:\n\u001b[1;32m--> 241\u001b[0m         dumper\u001b[39m.\u001b[39;49mrepresent(data)\n\u001b[0;32m    242\u001b[0m     dumper\u001b[39m.\u001b[39mclose()\n\u001b[0;32m    243\u001b[0m \u001b[39mfinally\u001b[39;00m:\n",
      "File \u001b[1;32mc:\\Users\\fardin\\AppData\\Local\\Programs\\Python\\Python310\\lib\\site-packages\\yaml\\representer.py:27\u001b[0m, in \u001b[0;36mBaseRepresenter.represent\u001b[1;34m(self, data)\u001b[0m\n\u001b[0;32m     26\u001b[0m \u001b[39mdef\u001b[39;00m \u001b[39mrepresent\u001b[39m(\u001b[39mself\u001b[39m, data):\n\u001b[1;32m---> 27\u001b[0m     node \u001b[39m=\u001b[39m \u001b[39mself\u001b[39;49m\u001b[39m.\u001b[39;49mrepresent_data(data)\n\u001b[0;32m     28\u001b[0m     \u001b[39mself\u001b[39m\u001b[39m.\u001b[39mserialize(node)\n\u001b[0;32m     29\u001b[0m     \u001b[39mself\u001b[39m\u001b[39m.\u001b[39mrepresented_objects \u001b[39m=\u001b[39m {}\n",
      "File \u001b[1;32mc:\\Users\\fardin\\AppData\\Local\\Programs\\Python\\Python310\\lib\\site-packages\\yaml\\representer.py:52\u001b[0m, in \u001b[0;36mBaseRepresenter.represent_data\u001b[1;34m(self, data)\u001b[0m\n\u001b[0;32m     50\u001b[0m \u001b[39mfor\u001b[39;00m data_type \u001b[39min\u001b[39;00m data_types:\n\u001b[0;32m     51\u001b[0m     \u001b[39mif\u001b[39;00m data_type \u001b[39min\u001b[39;00m \u001b[39mself\u001b[39m\u001b[39m.\u001b[39myaml_multi_representers:\n\u001b[1;32m---> 52\u001b[0m         node \u001b[39m=\u001b[39m \u001b[39mself\u001b[39;49m\u001b[39m.\u001b[39;49myaml_multi_representers[data_type](\u001b[39mself\u001b[39;49m, data)\n\u001b[0;32m     53\u001b[0m         \u001b[39mbreak\u001b[39;00m\n\u001b[0;32m     54\u001b[0m \u001b[39melse\u001b[39;00m:\n",
      "File \u001b[1;32mc:\\Users\\fardin\\AppData\\Local\\Programs\\Python\\Python310\\lib\\site-packages\\yaml\\representer.py:342\u001b[0m, in \u001b[0;36mRepresenter.represent_object\u001b[1;34m(self, data)\u001b[0m\n\u001b[0;32m    339\u001b[0m function_name \u001b[39m=\u001b[39m \u001b[39m'\u001b[39m\u001b[39m%s\u001b[39;00m\u001b[39m.\u001b[39m\u001b[39m%s\u001b[39;00m\u001b[39m'\u001b[39m \u001b[39m%\u001b[39m (function\u001b[39m.\u001b[39m\u001b[39m__module__\u001b[39m, function\u001b[39m.\u001b[39m\u001b[39m__name__\u001b[39m)\n\u001b[0;32m    340\u001b[0m \u001b[39mif\u001b[39;00m \u001b[39mnot\u001b[39;00m args \u001b[39mand\u001b[39;00m \u001b[39mnot\u001b[39;00m listitems \u001b[39mand\u001b[39;00m \u001b[39mnot\u001b[39;00m dictitems \\\n\u001b[0;32m    341\u001b[0m         \u001b[39mand\u001b[39;00m \u001b[39misinstance\u001b[39m(state, \u001b[39mdict\u001b[39m) \u001b[39mand\u001b[39;00m newobj:\n\u001b[1;32m--> 342\u001b[0m     \u001b[39mreturn\u001b[39;00m \u001b[39mself\u001b[39;49m\u001b[39m.\u001b[39;49mrepresent_mapping(\n\u001b[0;32m    343\u001b[0m             \u001b[39m'\u001b[39;49m\u001b[39mtag:yaml.org,2002:python/object:\u001b[39;49m\u001b[39m'\u001b[39;49m\u001b[39m+\u001b[39;49mfunction_name, state)\n\u001b[0;32m    344\u001b[0m \u001b[39mif\u001b[39;00m \u001b[39mnot\u001b[39;00m listitems \u001b[39mand\u001b[39;00m \u001b[39mnot\u001b[39;00m dictitems  \\\n\u001b[0;32m    345\u001b[0m         \u001b[39mand\u001b[39;00m \u001b[39misinstance\u001b[39m(state, \u001b[39mdict\u001b[39m) \u001b[39mand\u001b[39;00m \u001b[39mnot\u001b[39;00m state:\n\u001b[0;32m    346\u001b[0m     \u001b[39mreturn\u001b[39;00m \u001b[39mself\u001b[39m\u001b[39m.\u001b[39mrepresent_sequence(tag\u001b[39m+\u001b[39mfunction_name, args)\n",
      "File \u001b[1;32mc:\\Users\\fardin\\AppData\\Local\\Programs\\Python\\Python310\\lib\\site-packages\\yaml\\representer.py:118\u001b[0m, in \u001b[0;36mBaseRepresenter.represent_mapping\u001b[1;34m(self, tag, mapping, flow_style)\u001b[0m\n\u001b[0;32m    116\u001b[0m \u001b[39mfor\u001b[39;00m item_key, item_value \u001b[39min\u001b[39;00m mapping:\n\u001b[0;32m    117\u001b[0m     node_key \u001b[39m=\u001b[39m \u001b[39mself\u001b[39m\u001b[39m.\u001b[39mrepresent_data(item_key)\n\u001b[1;32m--> 118\u001b[0m     node_value \u001b[39m=\u001b[39m \u001b[39mself\u001b[39;49m\u001b[39m.\u001b[39;49mrepresent_data(item_value)\n\u001b[0;32m    119\u001b[0m     \u001b[39mif\u001b[39;00m \u001b[39mnot\u001b[39;00m (\u001b[39misinstance\u001b[39m(node_key, ScalarNode) \u001b[39mand\u001b[39;00m \u001b[39mnot\u001b[39;00m node_key\u001b[39m.\u001b[39mstyle):\n\u001b[0;32m    120\u001b[0m         best_style \u001b[39m=\u001b[39m \u001b[39mFalse\u001b[39;00m\n",
      "File \u001b[1;32mc:\\Users\\fardin\\AppData\\Local\\Programs\\Python\\Python310\\lib\\site-packages\\yaml\\representer.py:48\u001b[0m, in \u001b[0;36mBaseRepresenter.represent_data\u001b[1;34m(self, data)\u001b[0m\n\u001b[0;32m     46\u001b[0m data_types \u001b[39m=\u001b[39m \u001b[39mtype\u001b[39m(data)\u001b[39m.\u001b[39m\u001b[39m__mro__\u001b[39m\n\u001b[0;32m     47\u001b[0m \u001b[39mif\u001b[39;00m data_types[\u001b[39m0\u001b[39m] \u001b[39min\u001b[39;00m \u001b[39mself\u001b[39m\u001b[39m.\u001b[39myaml_representers:\n\u001b[1;32m---> 48\u001b[0m     node \u001b[39m=\u001b[39m \u001b[39mself\u001b[39;49m\u001b[39m.\u001b[39;49myaml_representers[data_types[\u001b[39m0\u001b[39;49m]](\u001b[39mself\u001b[39;49m, data)\n\u001b[0;32m     49\u001b[0m \u001b[39melse\u001b[39;00m:\n\u001b[0;32m     50\u001b[0m     \u001b[39mfor\u001b[39;00m data_type \u001b[39min\u001b[39;00m data_types:\n",
      "File \u001b[1;32mc:\\Users\\fardin\\AppData\\Local\\Programs\\Python\\Python310\\lib\\site-packages\\yaml\\representer.py:364\u001b[0m, in \u001b[0;36mRepresenter.represent_ordered_dict\u001b[1;34m(self, data)\u001b[0m\n\u001b[0;32m    361\u001b[0m tag \u001b[39m=\u001b[39m \u001b[39m'\u001b[39m\u001b[39mtag:yaml.org,2002:python/object/apply:\u001b[39m\u001b[39m%s\u001b[39;00m\u001b[39m.\u001b[39m\u001b[39m%s\u001b[39;00m\u001b[39m'\u001b[39m \\\n\u001b[0;32m    362\u001b[0m         \u001b[39m%\u001b[39m (data_type\u001b[39m.\u001b[39m\u001b[39m__module__\u001b[39m, data_type\u001b[39m.\u001b[39m\u001b[39m__name__\u001b[39m)\n\u001b[0;32m    363\u001b[0m items \u001b[39m=\u001b[39m [[key, value] \u001b[39mfor\u001b[39;00m key, value \u001b[39min\u001b[39;00m data\u001b[39m.\u001b[39mitems()]\n\u001b[1;32m--> 364\u001b[0m \u001b[39mreturn\u001b[39;00m \u001b[39mself\u001b[39;49m\u001b[39m.\u001b[39;49mrepresent_sequence(tag, [items])\n",
      "File \u001b[1;32mc:\\Users\\fardin\\AppData\\Local\\Programs\\Python\\Python310\\lib\\site-packages\\yaml\\representer.py:92\u001b[0m, in \u001b[0;36mBaseRepresenter.represent_sequence\u001b[1;34m(self, tag, sequence, flow_style)\u001b[0m\n\u001b[0;32m     90\u001b[0m best_style \u001b[39m=\u001b[39m \u001b[39mTrue\u001b[39;00m\n\u001b[0;32m     91\u001b[0m \u001b[39mfor\u001b[39;00m item \u001b[39min\u001b[39;00m sequence:\n\u001b[1;32m---> 92\u001b[0m     node_item \u001b[39m=\u001b[39m \u001b[39mself\u001b[39;49m\u001b[39m.\u001b[39;49mrepresent_data(item)\n\u001b[0;32m     93\u001b[0m     \u001b[39mif\u001b[39;00m \u001b[39mnot\u001b[39;00m (\u001b[39misinstance\u001b[39m(node_item, ScalarNode) \u001b[39mand\u001b[39;00m \u001b[39mnot\u001b[39;00m node_item\u001b[39m.\u001b[39mstyle):\n\u001b[0;32m     94\u001b[0m         best_style \u001b[39m=\u001b[39m \u001b[39mFalse\u001b[39;00m\n",
      "File \u001b[1;32mc:\\Users\\fardin\\AppData\\Local\\Programs\\Python\\Python310\\lib\\site-packages\\yaml\\representer.py:48\u001b[0m, in \u001b[0;36mBaseRepresenter.represent_data\u001b[1;34m(self, data)\u001b[0m\n\u001b[0;32m     46\u001b[0m data_types \u001b[39m=\u001b[39m \u001b[39mtype\u001b[39m(data)\u001b[39m.\u001b[39m\u001b[39m__mro__\u001b[39m\n\u001b[0;32m     47\u001b[0m \u001b[39mif\u001b[39;00m data_types[\u001b[39m0\u001b[39m] \u001b[39min\u001b[39;00m \u001b[39mself\u001b[39m\u001b[39m.\u001b[39myaml_representers:\n\u001b[1;32m---> 48\u001b[0m     node \u001b[39m=\u001b[39m \u001b[39mself\u001b[39;49m\u001b[39m.\u001b[39;49myaml_representers[data_types[\u001b[39m0\u001b[39;49m]](\u001b[39mself\u001b[39;49m, data)\n\u001b[0;32m     49\u001b[0m \u001b[39melse\u001b[39;00m:\n\u001b[0;32m     50\u001b[0m     \u001b[39mfor\u001b[39;00m data_type \u001b[39min\u001b[39;00m data_types:\n",
      "File \u001b[1;32mc:\\Users\\fardin\\AppData\\Local\\Programs\\Python\\Python310\\lib\\site-packages\\yaml\\representer.py:199\u001b[0m, in \u001b[0;36mSafeRepresenter.represent_list\u001b[1;34m(self, data)\u001b[0m\n\u001b[0;32m    191\u001b[0m \u001b[39mdef\u001b[39;00m \u001b[39mrepresent_list\u001b[39m(\u001b[39mself\u001b[39m, data):\n\u001b[0;32m    192\u001b[0m     \u001b[39m#pairs = (len(data) > 0 and isinstance(data, list))\u001b[39;00m\n\u001b[0;32m    193\u001b[0m     \u001b[39m#if pairs:\u001b[39;00m\n\u001b[1;32m   (...)\u001b[0m\n\u001b[0;32m    197\u001b[0m     \u001b[39m#            break\u001b[39;00m\n\u001b[0;32m    198\u001b[0m     \u001b[39m#if not pairs:\u001b[39;00m\n\u001b[1;32m--> 199\u001b[0m         \u001b[39mreturn\u001b[39;00m \u001b[39mself\u001b[39;49m\u001b[39m.\u001b[39;49mrepresent_sequence(\u001b[39m'\u001b[39;49m\u001b[39mtag:yaml.org,2002:seq\u001b[39;49m\u001b[39m'\u001b[39;49m, data)\n",
      "File \u001b[1;32mc:\\Users\\fardin\\AppData\\Local\\Programs\\Python\\Python310\\lib\\site-packages\\yaml\\representer.py:92\u001b[0m, in \u001b[0;36mBaseRepresenter.represent_sequence\u001b[1;34m(self, tag, sequence, flow_style)\u001b[0m\n\u001b[0;32m     90\u001b[0m best_style \u001b[39m=\u001b[39m \u001b[39mTrue\u001b[39;00m\n\u001b[0;32m     91\u001b[0m \u001b[39mfor\u001b[39;00m item \u001b[39min\u001b[39;00m sequence:\n\u001b[1;32m---> 92\u001b[0m     node_item \u001b[39m=\u001b[39m \u001b[39mself\u001b[39;49m\u001b[39m.\u001b[39;49mrepresent_data(item)\n\u001b[0;32m     93\u001b[0m     \u001b[39mif\u001b[39;00m \u001b[39mnot\u001b[39;00m (\u001b[39misinstance\u001b[39m(node_item, ScalarNode) \u001b[39mand\u001b[39;00m \u001b[39mnot\u001b[39;00m node_item\u001b[39m.\u001b[39mstyle):\n\u001b[0;32m     94\u001b[0m         best_style \u001b[39m=\u001b[39m \u001b[39mFalse\u001b[39;00m\n",
      "File \u001b[1;32mc:\\Users\\fardin\\AppData\\Local\\Programs\\Python\\Python310\\lib\\site-packages\\yaml\\representer.py:48\u001b[0m, in \u001b[0;36mBaseRepresenter.represent_data\u001b[1;34m(self, data)\u001b[0m\n\u001b[0;32m     46\u001b[0m data_types \u001b[39m=\u001b[39m \u001b[39mtype\u001b[39m(data)\u001b[39m.\u001b[39m\u001b[39m__mro__\u001b[39m\n\u001b[0;32m     47\u001b[0m \u001b[39mif\u001b[39;00m data_types[\u001b[39m0\u001b[39m] \u001b[39min\u001b[39;00m \u001b[39mself\u001b[39m\u001b[39m.\u001b[39myaml_representers:\n\u001b[1;32m---> 48\u001b[0m     node \u001b[39m=\u001b[39m \u001b[39mself\u001b[39;49m\u001b[39m.\u001b[39;49myaml_representers[data_types[\u001b[39m0\u001b[39;49m]](\u001b[39mself\u001b[39;49m, data)\n\u001b[0;32m     49\u001b[0m \u001b[39melse\u001b[39;00m:\n\u001b[0;32m     50\u001b[0m     \u001b[39mfor\u001b[39;00m data_type \u001b[39min\u001b[39;00m data_types:\n",
      "File \u001b[1;32mc:\\Users\\fardin\\AppData\\Local\\Programs\\Python\\Python310\\lib\\site-packages\\yaml\\representer.py:199\u001b[0m, in \u001b[0;36mSafeRepresenter.represent_list\u001b[1;34m(self, data)\u001b[0m\n\u001b[0;32m    191\u001b[0m \u001b[39mdef\u001b[39;00m \u001b[39mrepresent_list\u001b[39m(\u001b[39mself\u001b[39m, data):\n\u001b[0;32m    192\u001b[0m     \u001b[39m#pairs = (len(data) > 0 and isinstance(data, list))\u001b[39;00m\n\u001b[0;32m    193\u001b[0m     \u001b[39m#if pairs:\u001b[39;00m\n\u001b[1;32m   (...)\u001b[0m\n\u001b[0;32m    197\u001b[0m     \u001b[39m#            break\u001b[39;00m\n\u001b[0;32m    198\u001b[0m     \u001b[39m#if not pairs:\u001b[39;00m\n\u001b[1;32m--> 199\u001b[0m         \u001b[39mreturn\u001b[39;00m \u001b[39mself\u001b[39;49m\u001b[39m.\u001b[39;49mrepresent_sequence(\u001b[39m'\u001b[39;49m\u001b[39mtag:yaml.org,2002:seq\u001b[39;49m\u001b[39m'\u001b[39;49m, data)\n",
      "File \u001b[1;32mc:\\Users\\fardin\\AppData\\Local\\Programs\\Python\\Python310\\lib\\site-packages\\yaml\\representer.py:92\u001b[0m, in \u001b[0;36mBaseRepresenter.represent_sequence\u001b[1;34m(self, tag, sequence, flow_style)\u001b[0m\n\u001b[0;32m     90\u001b[0m best_style \u001b[39m=\u001b[39m \u001b[39mTrue\u001b[39;00m\n\u001b[0;32m     91\u001b[0m \u001b[39mfor\u001b[39;00m item \u001b[39min\u001b[39;00m sequence:\n\u001b[1;32m---> 92\u001b[0m     node_item \u001b[39m=\u001b[39m \u001b[39mself\u001b[39;49m\u001b[39m.\u001b[39;49mrepresent_data(item)\n\u001b[0;32m     93\u001b[0m     \u001b[39mif\u001b[39;00m \u001b[39mnot\u001b[39;00m (\u001b[39misinstance\u001b[39m(node_item, ScalarNode) \u001b[39mand\u001b[39;00m \u001b[39mnot\u001b[39;00m node_item\u001b[39m.\u001b[39mstyle):\n\u001b[0;32m     94\u001b[0m         best_style \u001b[39m=\u001b[39m \u001b[39mFalse\u001b[39;00m\n",
      "File \u001b[1;32mc:\\Users\\fardin\\AppData\\Local\\Programs\\Python\\Python310\\lib\\site-packages\\yaml\\representer.py:52\u001b[0m, in \u001b[0;36mBaseRepresenter.represent_data\u001b[1;34m(self, data)\u001b[0m\n\u001b[0;32m     50\u001b[0m \u001b[39mfor\u001b[39;00m data_type \u001b[39min\u001b[39;00m data_types:\n\u001b[0;32m     51\u001b[0m     \u001b[39mif\u001b[39;00m data_type \u001b[39min\u001b[39;00m \u001b[39mself\u001b[39m\u001b[39m.\u001b[39myaml_multi_representers:\n\u001b[1;32m---> 52\u001b[0m         node \u001b[39m=\u001b[39m \u001b[39mself\u001b[39;49m\u001b[39m.\u001b[39;49myaml_multi_representers[data_type](\u001b[39mself\u001b[39;49m, data)\n\u001b[0;32m     53\u001b[0m         \u001b[39mbreak\u001b[39;00m\n\u001b[0;32m     54\u001b[0m \u001b[39melse\u001b[39;00m:\n",
      "File \u001b[1;32mc:\\Users\\fardin\\AppData\\Local\\Programs\\Python\\Python310\\lib\\site-packages\\yaml\\representer.py:346\u001b[0m, in \u001b[0;36mRepresenter.represent_object\u001b[1;34m(self, data)\u001b[0m\n\u001b[0;32m    342\u001b[0m     \u001b[39mreturn\u001b[39;00m \u001b[39mself\u001b[39m\u001b[39m.\u001b[39mrepresent_mapping(\n\u001b[0;32m    343\u001b[0m             \u001b[39m'\u001b[39m\u001b[39mtag:yaml.org,2002:python/object:\u001b[39m\u001b[39m'\u001b[39m\u001b[39m+\u001b[39mfunction_name, state)\n\u001b[0;32m    344\u001b[0m \u001b[39mif\u001b[39;00m \u001b[39mnot\u001b[39;00m listitems \u001b[39mand\u001b[39;00m \u001b[39mnot\u001b[39;00m dictitems  \\\n\u001b[0;32m    345\u001b[0m         \u001b[39mand\u001b[39;00m \u001b[39misinstance\u001b[39m(state, \u001b[39mdict\u001b[39m) \u001b[39mand\u001b[39;00m \u001b[39mnot\u001b[39;00m state:\n\u001b[1;32m--> 346\u001b[0m     \u001b[39mreturn\u001b[39;00m \u001b[39mself\u001b[39;49m\u001b[39m.\u001b[39;49mrepresent_sequence(tag\u001b[39m+\u001b[39;49mfunction_name, args)\n\u001b[0;32m    347\u001b[0m value \u001b[39m=\u001b[39m {}\n\u001b[0;32m    348\u001b[0m \u001b[39mif\u001b[39;00m args:\n",
      "File \u001b[1;32mc:\\Users\\fardin\\AppData\\Local\\Programs\\Python\\Python310\\lib\\site-packages\\yaml\\representer.py:92\u001b[0m, in \u001b[0;36mBaseRepresenter.represent_sequence\u001b[1;34m(self, tag, sequence, flow_style)\u001b[0m\n\u001b[0;32m     90\u001b[0m best_style \u001b[39m=\u001b[39m \u001b[39mTrue\u001b[39;00m\n\u001b[0;32m     91\u001b[0m \u001b[39mfor\u001b[39;00m item \u001b[39min\u001b[39;00m sequence:\n\u001b[1;32m---> 92\u001b[0m     node_item \u001b[39m=\u001b[39m \u001b[39mself\u001b[39;49m\u001b[39m.\u001b[39;49mrepresent_data(item)\n\u001b[0;32m     93\u001b[0m     \u001b[39mif\u001b[39;00m \u001b[39mnot\u001b[39;00m (\u001b[39misinstance\u001b[39m(node_item, ScalarNode) \u001b[39mand\u001b[39;00m \u001b[39mnot\u001b[39;00m node_item\u001b[39m.\u001b[39mstyle):\n\u001b[0;32m     94\u001b[0m         best_style \u001b[39m=\u001b[39m \u001b[39mFalse\u001b[39;00m\n",
      "File \u001b[1;32mc:\\Users\\fardin\\AppData\\Local\\Programs\\Python\\Python310\\lib\\site-packages\\yaml\\representer.py:48\u001b[0m, in \u001b[0;36mBaseRepresenter.represent_data\u001b[1;34m(self, data)\u001b[0m\n\u001b[0;32m     46\u001b[0m data_types \u001b[39m=\u001b[39m \u001b[39mtype\u001b[39m(data)\u001b[39m.\u001b[39m\u001b[39m__mro__\u001b[39m\n\u001b[0;32m     47\u001b[0m \u001b[39mif\u001b[39;00m data_types[\u001b[39m0\u001b[39m] \u001b[39min\u001b[39;00m \u001b[39mself\u001b[39m\u001b[39m.\u001b[39myaml_representers:\n\u001b[1;32m---> 48\u001b[0m     node \u001b[39m=\u001b[39m \u001b[39mself\u001b[39;49m\u001b[39m.\u001b[39;49myaml_representers[data_types[\u001b[39m0\u001b[39;49m]](\u001b[39mself\u001b[39;49m, data)\n\u001b[0;32m     49\u001b[0m \u001b[39melse\u001b[39;00m:\n\u001b[0;32m     50\u001b[0m     \u001b[39mfor\u001b[39;00m data_type \u001b[39min\u001b[39;00m data_types:\n",
      "File \u001b[1;32mc:\\Users\\fardin\\AppData\\Local\\Programs\\Python\\Python310\\lib\\site-packages\\yaml\\representer.py:207\u001b[0m, in \u001b[0;36mSafeRepresenter.represent_dict\u001b[1;34m(self, data)\u001b[0m\n\u001b[0;32m    206\u001b[0m \u001b[39mdef\u001b[39;00m \u001b[39mrepresent_dict\u001b[39m(\u001b[39mself\u001b[39m, data):\n\u001b[1;32m--> 207\u001b[0m     \u001b[39mreturn\u001b[39;00m \u001b[39mself\u001b[39;49m\u001b[39m.\u001b[39;49mrepresent_mapping(\u001b[39m'\u001b[39;49m\u001b[39mtag:yaml.org,2002:map\u001b[39;49m\u001b[39m'\u001b[39;49m, data)\n",
      "File \u001b[1;32mc:\\Users\\fardin\\AppData\\Local\\Programs\\Python\\Python310\\lib\\site-packages\\yaml\\representer.py:118\u001b[0m, in \u001b[0;36mBaseRepresenter.represent_mapping\u001b[1;34m(self, tag, mapping, flow_style)\u001b[0m\n\u001b[0;32m    116\u001b[0m \u001b[39mfor\u001b[39;00m item_key, item_value \u001b[39min\u001b[39;00m mapping:\n\u001b[0;32m    117\u001b[0m     node_key \u001b[39m=\u001b[39m \u001b[39mself\u001b[39m\u001b[39m.\u001b[39mrepresent_data(item_key)\n\u001b[1;32m--> 118\u001b[0m     node_value \u001b[39m=\u001b[39m \u001b[39mself\u001b[39;49m\u001b[39m.\u001b[39;49mrepresent_data(item_value)\n\u001b[0;32m    119\u001b[0m     \u001b[39mif\u001b[39;00m \u001b[39mnot\u001b[39;00m (\u001b[39misinstance\u001b[39m(node_key, ScalarNode) \u001b[39mand\u001b[39;00m \u001b[39mnot\u001b[39;00m node_key\u001b[39m.\u001b[39mstyle):\n\u001b[0;32m    120\u001b[0m         best_style \u001b[39m=\u001b[39m \u001b[39mFalse\u001b[39;00m\n",
      "File \u001b[1;32mc:\\Users\\fardin\\AppData\\Local\\Programs\\Python\\Python310\\lib\\site-packages\\yaml\\representer.py:48\u001b[0m, in \u001b[0;36mBaseRepresenter.represent_data\u001b[1;34m(self, data)\u001b[0m\n\u001b[0;32m     46\u001b[0m data_types \u001b[39m=\u001b[39m \u001b[39mtype\u001b[39m(data)\u001b[39m.\u001b[39m\u001b[39m__mro__\u001b[39m\n\u001b[0;32m     47\u001b[0m \u001b[39mif\u001b[39;00m data_types[\u001b[39m0\u001b[39m] \u001b[39min\u001b[39;00m \u001b[39mself\u001b[39m\u001b[39m.\u001b[39myaml_representers:\n\u001b[1;32m---> 48\u001b[0m     node \u001b[39m=\u001b[39m \u001b[39mself\u001b[39;49m\u001b[39m.\u001b[39;49myaml_representers[data_types[\u001b[39m0\u001b[39;49m]](\u001b[39mself\u001b[39;49m, data)\n\u001b[0;32m     49\u001b[0m \u001b[39melse\u001b[39;00m:\n\u001b[0;32m     50\u001b[0m     \u001b[39mfor\u001b[39;00m data_type \u001b[39min\u001b[39;00m data_types:\n",
      "File \u001b[1;32mc:\\Users\\fardin\\AppData\\Local\\Programs\\Python\\Python310\\lib\\site-packages\\yaml\\representer.py:364\u001b[0m, in \u001b[0;36mRepresenter.represent_ordered_dict\u001b[1;34m(self, data)\u001b[0m\n\u001b[0;32m    361\u001b[0m tag \u001b[39m=\u001b[39m \u001b[39m'\u001b[39m\u001b[39mtag:yaml.org,2002:python/object/apply:\u001b[39m\u001b[39m%s\u001b[39;00m\u001b[39m.\u001b[39m\u001b[39m%s\u001b[39;00m\u001b[39m'\u001b[39m \\\n\u001b[0;32m    362\u001b[0m         \u001b[39m%\u001b[39m (data_type\u001b[39m.\u001b[39m\u001b[39m__module__\u001b[39m, data_type\u001b[39m.\u001b[39m\u001b[39m__name__\u001b[39m)\n\u001b[0;32m    363\u001b[0m items \u001b[39m=\u001b[39m [[key, value] \u001b[39mfor\u001b[39;00m key, value \u001b[39min\u001b[39;00m data\u001b[39m.\u001b[39mitems()]\n\u001b[1;32m--> 364\u001b[0m \u001b[39mreturn\u001b[39;00m \u001b[39mself\u001b[39;49m\u001b[39m.\u001b[39;49mrepresent_sequence(tag, [items])\n",
      "File \u001b[1;32mc:\\Users\\fardin\\AppData\\Local\\Programs\\Python\\Python310\\lib\\site-packages\\yaml\\representer.py:92\u001b[0m, in \u001b[0;36mBaseRepresenter.represent_sequence\u001b[1;34m(self, tag, sequence, flow_style)\u001b[0m\n\u001b[0;32m     90\u001b[0m best_style \u001b[39m=\u001b[39m \u001b[39mTrue\u001b[39;00m\n\u001b[0;32m     91\u001b[0m \u001b[39mfor\u001b[39;00m item \u001b[39min\u001b[39;00m sequence:\n\u001b[1;32m---> 92\u001b[0m     node_item \u001b[39m=\u001b[39m \u001b[39mself\u001b[39;49m\u001b[39m.\u001b[39;49mrepresent_data(item)\n\u001b[0;32m     93\u001b[0m     \u001b[39mif\u001b[39;00m \u001b[39mnot\u001b[39;00m (\u001b[39misinstance\u001b[39m(node_item, ScalarNode) \u001b[39mand\u001b[39;00m \u001b[39mnot\u001b[39;00m node_item\u001b[39m.\u001b[39mstyle):\n\u001b[0;32m     94\u001b[0m         best_style \u001b[39m=\u001b[39m \u001b[39mFalse\u001b[39;00m\n",
      "File \u001b[1;32mc:\\Users\\fardin\\AppData\\Local\\Programs\\Python\\Python310\\lib\\site-packages\\yaml\\representer.py:48\u001b[0m, in \u001b[0;36mBaseRepresenter.represent_data\u001b[1;34m(self, data)\u001b[0m\n\u001b[0;32m     46\u001b[0m data_types \u001b[39m=\u001b[39m \u001b[39mtype\u001b[39m(data)\u001b[39m.\u001b[39m\u001b[39m__mro__\u001b[39m\n\u001b[0;32m     47\u001b[0m \u001b[39mif\u001b[39;00m data_types[\u001b[39m0\u001b[39m] \u001b[39min\u001b[39;00m \u001b[39mself\u001b[39m\u001b[39m.\u001b[39myaml_representers:\n\u001b[1;32m---> 48\u001b[0m     node \u001b[39m=\u001b[39m \u001b[39mself\u001b[39;49m\u001b[39m.\u001b[39;49myaml_representers[data_types[\u001b[39m0\u001b[39;49m]](\u001b[39mself\u001b[39;49m, data)\n\u001b[0;32m     49\u001b[0m \u001b[39melse\u001b[39;00m:\n\u001b[0;32m     50\u001b[0m     \u001b[39mfor\u001b[39;00m data_type \u001b[39min\u001b[39;00m data_types:\n",
      "File \u001b[1;32mc:\\Users\\fardin\\AppData\\Local\\Programs\\Python\\Python310\\lib\\site-packages\\yaml\\representer.py:199\u001b[0m, in \u001b[0;36mSafeRepresenter.represent_list\u001b[1;34m(self, data)\u001b[0m\n\u001b[0;32m    191\u001b[0m \u001b[39mdef\u001b[39;00m \u001b[39mrepresent_list\u001b[39m(\u001b[39mself\u001b[39m, data):\n\u001b[0;32m    192\u001b[0m     \u001b[39m#pairs = (len(data) > 0 and isinstance(data, list))\u001b[39;00m\n\u001b[0;32m    193\u001b[0m     \u001b[39m#if pairs:\u001b[39;00m\n\u001b[1;32m   (...)\u001b[0m\n\u001b[0;32m    197\u001b[0m     \u001b[39m#            break\u001b[39;00m\n\u001b[0;32m    198\u001b[0m     \u001b[39m#if not pairs:\u001b[39;00m\n\u001b[1;32m--> 199\u001b[0m         \u001b[39mreturn\u001b[39;00m \u001b[39mself\u001b[39;49m\u001b[39m.\u001b[39;49mrepresent_sequence(\u001b[39m'\u001b[39;49m\u001b[39mtag:yaml.org,2002:seq\u001b[39;49m\u001b[39m'\u001b[39;49m, data)\n",
      "File \u001b[1;32mc:\\Users\\fardin\\AppData\\Local\\Programs\\Python\\Python310\\lib\\site-packages\\yaml\\representer.py:92\u001b[0m, in \u001b[0;36mBaseRepresenter.represent_sequence\u001b[1;34m(self, tag, sequence, flow_style)\u001b[0m\n\u001b[0;32m     90\u001b[0m best_style \u001b[39m=\u001b[39m \u001b[39mTrue\u001b[39;00m\n\u001b[0;32m     91\u001b[0m \u001b[39mfor\u001b[39;00m item \u001b[39min\u001b[39;00m sequence:\n\u001b[1;32m---> 92\u001b[0m     node_item \u001b[39m=\u001b[39m \u001b[39mself\u001b[39;49m\u001b[39m.\u001b[39;49mrepresent_data(item)\n\u001b[0;32m     93\u001b[0m     \u001b[39mif\u001b[39;00m \u001b[39mnot\u001b[39;00m (\u001b[39misinstance\u001b[39m(node_item, ScalarNode) \u001b[39mand\u001b[39;00m \u001b[39mnot\u001b[39;00m node_item\u001b[39m.\u001b[39mstyle):\n\u001b[0;32m     94\u001b[0m         best_style \u001b[39m=\u001b[39m \u001b[39mFalse\u001b[39;00m\n",
      "    \u001b[1;31m[... skipping similar frames: BaseRepresenter.represent_data at line 48 (1 times)]\u001b[0m\n",
      "File \u001b[1;32mc:\\Users\\fardin\\AppData\\Local\\Programs\\Python\\Python310\\lib\\site-packages\\yaml\\representer.py:199\u001b[0m, in \u001b[0;36mSafeRepresenter.represent_list\u001b[1;34m(self, data)\u001b[0m\n\u001b[0;32m    191\u001b[0m \u001b[39mdef\u001b[39;00m \u001b[39mrepresent_list\u001b[39m(\u001b[39mself\u001b[39m, data):\n\u001b[0;32m    192\u001b[0m     \u001b[39m#pairs = (len(data) > 0 and isinstance(data, list))\u001b[39;00m\n\u001b[0;32m    193\u001b[0m     \u001b[39m#if pairs:\u001b[39;00m\n\u001b[1;32m   (...)\u001b[0m\n\u001b[0;32m    197\u001b[0m     \u001b[39m#            break\u001b[39;00m\n\u001b[0;32m    198\u001b[0m     \u001b[39m#if not pairs:\u001b[39;00m\n\u001b[1;32m--> 199\u001b[0m         \u001b[39mreturn\u001b[39;00m \u001b[39mself\u001b[39;49m\u001b[39m.\u001b[39;49mrepresent_sequence(\u001b[39m'\u001b[39;49m\u001b[39mtag:yaml.org,2002:seq\u001b[39;49m\u001b[39m'\u001b[39;49m, data)\n",
      "    \u001b[1;31m[... skipping similar frames: BaseRepresenter.represent_sequence at line 92 (1 times)]\u001b[0m\n",
      "File \u001b[1;32mc:\\Users\\fardin\\AppData\\Local\\Programs\\Python\\Python310\\lib\\site-packages\\yaml\\representer.py:52\u001b[0m, in \u001b[0;36mBaseRepresenter.represent_data\u001b[1;34m(self, data)\u001b[0m\n\u001b[0;32m     50\u001b[0m \u001b[39mfor\u001b[39;00m data_type \u001b[39min\u001b[39;00m data_types:\n\u001b[0;32m     51\u001b[0m     \u001b[39mif\u001b[39;00m data_type \u001b[39min\u001b[39;00m \u001b[39mself\u001b[39m\u001b[39m.\u001b[39myaml_multi_representers:\n\u001b[1;32m---> 52\u001b[0m         node \u001b[39m=\u001b[39m \u001b[39mself\u001b[39;49m\u001b[39m.\u001b[39;49myaml_multi_representers[data_type](\u001b[39mself\u001b[39;49m, data)\n\u001b[0;32m     53\u001b[0m         \u001b[39mbreak\u001b[39;00m\n\u001b[0;32m     54\u001b[0m \u001b[39melse\u001b[39;00m:\n",
      "File \u001b[1;32mc:\\Users\\fardin\\AppData\\Local\\Programs\\Python\\Python310\\lib\\site-packages\\yaml\\representer.py:342\u001b[0m, in \u001b[0;36mRepresenter.represent_object\u001b[1;34m(self, data)\u001b[0m\n\u001b[0;32m    339\u001b[0m function_name \u001b[39m=\u001b[39m \u001b[39m'\u001b[39m\u001b[39m%s\u001b[39;00m\u001b[39m.\u001b[39m\u001b[39m%s\u001b[39;00m\u001b[39m'\u001b[39m \u001b[39m%\u001b[39m (function\u001b[39m.\u001b[39m\u001b[39m__module__\u001b[39m, function\u001b[39m.\u001b[39m\u001b[39m__name__\u001b[39m)\n\u001b[0;32m    340\u001b[0m \u001b[39mif\u001b[39;00m \u001b[39mnot\u001b[39;00m args \u001b[39mand\u001b[39;00m \u001b[39mnot\u001b[39;00m listitems \u001b[39mand\u001b[39;00m \u001b[39mnot\u001b[39;00m dictitems \\\n\u001b[0;32m    341\u001b[0m         \u001b[39mand\u001b[39;00m \u001b[39misinstance\u001b[39m(state, \u001b[39mdict\u001b[39m) \u001b[39mand\u001b[39;00m newobj:\n\u001b[1;32m--> 342\u001b[0m     \u001b[39mreturn\u001b[39;00m \u001b[39mself\u001b[39;49m\u001b[39m.\u001b[39;49mrepresent_mapping(\n\u001b[0;32m    343\u001b[0m             \u001b[39m'\u001b[39;49m\u001b[39mtag:yaml.org,2002:python/object:\u001b[39;49m\u001b[39m'\u001b[39;49m\u001b[39m+\u001b[39;49mfunction_name, state)\n\u001b[0;32m    344\u001b[0m \u001b[39mif\u001b[39;00m \u001b[39mnot\u001b[39;00m listitems \u001b[39mand\u001b[39;00m \u001b[39mnot\u001b[39;00m dictitems  \\\n\u001b[0;32m    345\u001b[0m         \u001b[39mand\u001b[39;00m \u001b[39misinstance\u001b[39m(state, \u001b[39mdict\u001b[39m) \u001b[39mand\u001b[39;00m \u001b[39mnot\u001b[39;00m state:\n\u001b[0;32m    346\u001b[0m     \u001b[39mreturn\u001b[39;00m \u001b[39mself\u001b[39m\u001b[39m.\u001b[39mrepresent_sequence(tag\u001b[39m+\u001b[39mfunction_name, args)\n",
      "File \u001b[1;32mc:\\Users\\fardin\\AppData\\Local\\Programs\\Python\\Python310\\lib\\site-packages\\yaml\\representer.py:118\u001b[0m, in \u001b[0;36mBaseRepresenter.represent_mapping\u001b[1;34m(self, tag, mapping, flow_style)\u001b[0m\n\u001b[0;32m    116\u001b[0m \u001b[39mfor\u001b[39;00m item_key, item_value \u001b[39min\u001b[39;00m mapping:\n\u001b[0;32m    117\u001b[0m     node_key \u001b[39m=\u001b[39m \u001b[39mself\u001b[39m\u001b[39m.\u001b[39mrepresent_data(item_key)\n\u001b[1;32m--> 118\u001b[0m     node_value \u001b[39m=\u001b[39m \u001b[39mself\u001b[39;49m\u001b[39m.\u001b[39;49mrepresent_data(item_value)\n\u001b[0;32m    119\u001b[0m     \u001b[39mif\u001b[39;00m \u001b[39mnot\u001b[39;00m (\u001b[39misinstance\u001b[39m(node_key, ScalarNode) \u001b[39mand\u001b[39;00m \u001b[39mnot\u001b[39;00m node_key\u001b[39m.\u001b[39mstyle):\n\u001b[0;32m    120\u001b[0m         best_style \u001b[39m=\u001b[39m \u001b[39mFalse\u001b[39;00m\n",
      "    \u001b[1;31m[... skipping similar frames: BaseRepresenter.represent_data at line 48 (1 times)]\u001b[0m\n",
      "File \u001b[1;32mc:\\Users\\fardin\\AppData\\Local\\Programs\\Python\\Python310\\lib\\site-packages\\yaml\\representer.py:364\u001b[0m, in \u001b[0;36mRepresenter.represent_ordered_dict\u001b[1;34m(self, data)\u001b[0m\n\u001b[0;32m    361\u001b[0m tag \u001b[39m=\u001b[39m \u001b[39m'\u001b[39m\u001b[39mtag:yaml.org,2002:python/object/apply:\u001b[39m\u001b[39m%s\u001b[39;00m\u001b[39m.\u001b[39m\u001b[39m%s\u001b[39;00m\u001b[39m'\u001b[39m \\\n\u001b[0;32m    362\u001b[0m         \u001b[39m%\u001b[39m (data_type\u001b[39m.\u001b[39m\u001b[39m__module__\u001b[39m, data_type\u001b[39m.\u001b[39m\u001b[39m__name__\u001b[39m)\n\u001b[0;32m    363\u001b[0m items \u001b[39m=\u001b[39m [[key, value] \u001b[39mfor\u001b[39;00m key, value \u001b[39min\u001b[39;00m data\u001b[39m.\u001b[39mitems()]\n\u001b[1;32m--> 364\u001b[0m \u001b[39mreturn\u001b[39;00m \u001b[39mself\u001b[39;49m\u001b[39m.\u001b[39;49mrepresent_sequence(tag, [items])\n",
      "    \u001b[1;31m[... skipping similar frames: BaseRepresenter.represent_data at line 48 (2 times), BaseRepresenter.represent_sequence at line 92 (2 times), SafeRepresenter.represent_list at line 199 (1 times)]\u001b[0m\n",
      "File \u001b[1;32mc:\\Users\\fardin\\AppData\\Local\\Programs\\Python\\Python310\\lib\\site-packages\\yaml\\representer.py:199\u001b[0m, in \u001b[0;36mSafeRepresenter.represent_list\u001b[1;34m(self, data)\u001b[0m\n\u001b[0;32m    191\u001b[0m \u001b[39mdef\u001b[39;00m \u001b[39mrepresent_list\u001b[39m(\u001b[39mself\u001b[39m, data):\n\u001b[0;32m    192\u001b[0m     \u001b[39m#pairs = (len(data) > 0 and isinstance(data, list))\u001b[39;00m\n\u001b[0;32m    193\u001b[0m     \u001b[39m#if pairs:\u001b[39;00m\n\u001b[1;32m   (...)\u001b[0m\n\u001b[0;32m    197\u001b[0m     \u001b[39m#            break\u001b[39;00m\n\u001b[0;32m    198\u001b[0m     \u001b[39m#if not pairs:\u001b[39;00m\n\u001b[1;32m--> 199\u001b[0m         \u001b[39mreturn\u001b[39;00m \u001b[39mself\u001b[39;49m\u001b[39m.\u001b[39;49mrepresent_sequence(\u001b[39m'\u001b[39;49m\u001b[39mtag:yaml.org,2002:seq\u001b[39;49m\u001b[39m'\u001b[39;49m, data)\n",
      "File \u001b[1;32mc:\\Users\\fardin\\AppData\\Local\\Programs\\Python\\Python310\\lib\\site-packages\\yaml\\representer.py:92\u001b[0m, in \u001b[0;36mBaseRepresenter.represent_sequence\u001b[1;34m(self, tag, sequence, flow_style)\u001b[0m\n\u001b[0;32m     90\u001b[0m best_style \u001b[39m=\u001b[39m \u001b[39mTrue\u001b[39;00m\n\u001b[0;32m     91\u001b[0m \u001b[39mfor\u001b[39;00m item \u001b[39min\u001b[39;00m sequence:\n\u001b[1;32m---> 92\u001b[0m     node_item \u001b[39m=\u001b[39m \u001b[39mself\u001b[39;49m\u001b[39m.\u001b[39;49mrepresent_data(item)\n\u001b[0;32m     93\u001b[0m     \u001b[39mif\u001b[39;00m \u001b[39mnot\u001b[39;00m (\u001b[39misinstance\u001b[39m(node_item, ScalarNode) \u001b[39mand\u001b[39;00m \u001b[39mnot\u001b[39;00m node_item\u001b[39m.\u001b[39mstyle):\n\u001b[0;32m     94\u001b[0m         best_style \u001b[39m=\u001b[39m \u001b[39mFalse\u001b[39;00m\n",
      "File \u001b[1;32mc:\\Users\\fardin\\AppData\\Local\\Programs\\Python\\Python310\\lib\\site-packages\\yaml\\representer.py:52\u001b[0m, in \u001b[0;36mBaseRepresenter.represent_data\u001b[1;34m(self, data)\u001b[0m\n\u001b[0;32m     50\u001b[0m \u001b[39mfor\u001b[39;00m data_type \u001b[39min\u001b[39;00m data_types:\n\u001b[0;32m     51\u001b[0m     \u001b[39mif\u001b[39;00m data_type \u001b[39min\u001b[39;00m \u001b[39mself\u001b[39m\u001b[39m.\u001b[39myaml_multi_representers:\n\u001b[1;32m---> 52\u001b[0m         node \u001b[39m=\u001b[39m \u001b[39mself\u001b[39;49m\u001b[39m.\u001b[39;49myaml_multi_representers[data_type](\u001b[39mself\u001b[39;49m, data)\n\u001b[0;32m     53\u001b[0m         \u001b[39mbreak\u001b[39;00m\n\u001b[0;32m     54\u001b[0m \u001b[39melse\u001b[39;00m:\n",
      "File \u001b[1;32mc:\\Users\\fardin\\AppData\\Local\\Programs\\Python\\Python310\\lib\\site-packages\\yaml\\representer.py:342\u001b[0m, in \u001b[0;36mRepresenter.represent_object\u001b[1;34m(self, data)\u001b[0m\n\u001b[0;32m    339\u001b[0m function_name \u001b[39m=\u001b[39m \u001b[39m'\u001b[39m\u001b[39m%s\u001b[39;00m\u001b[39m.\u001b[39m\u001b[39m%s\u001b[39;00m\u001b[39m'\u001b[39m \u001b[39m%\u001b[39m (function\u001b[39m.\u001b[39m\u001b[39m__module__\u001b[39m, function\u001b[39m.\u001b[39m\u001b[39m__name__\u001b[39m)\n\u001b[0;32m    340\u001b[0m \u001b[39mif\u001b[39;00m \u001b[39mnot\u001b[39;00m args \u001b[39mand\u001b[39;00m \u001b[39mnot\u001b[39;00m listitems \u001b[39mand\u001b[39;00m \u001b[39mnot\u001b[39;00m dictitems \\\n\u001b[0;32m    341\u001b[0m         \u001b[39mand\u001b[39;00m \u001b[39misinstance\u001b[39m(state, \u001b[39mdict\u001b[39m) \u001b[39mand\u001b[39;00m newobj:\n\u001b[1;32m--> 342\u001b[0m     \u001b[39mreturn\u001b[39;00m \u001b[39mself\u001b[39;49m\u001b[39m.\u001b[39;49mrepresent_mapping(\n\u001b[0;32m    343\u001b[0m             \u001b[39m'\u001b[39;49m\u001b[39mtag:yaml.org,2002:python/object:\u001b[39;49m\u001b[39m'\u001b[39;49m\u001b[39m+\u001b[39;49mfunction_name, state)\n\u001b[0;32m    344\u001b[0m \u001b[39mif\u001b[39;00m \u001b[39mnot\u001b[39;00m listitems \u001b[39mand\u001b[39;00m \u001b[39mnot\u001b[39;00m dictitems  \\\n\u001b[0;32m    345\u001b[0m         \u001b[39mand\u001b[39;00m \u001b[39misinstance\u001b[39m(state, \u001b[39mdict\u001b[39m) \u001b[39mand\u001b[39;00m \u001b[39mnot\u001b[39;00m state:\n\u001b[0;32m    346\u001b[0m     \u001b[39mreturn\u001b[39;00m \u001b[39mself\u001b[39m\u001b[39m.\u001b[39mrepresent_sequence(tag\u001b[39m+\u001b[39mfunction_name, args)\n",
      "    \u001b[1;31m[... skipping similar frames: BaseRepresenter.represent_mapping at line 118 (1 times)]\u001b[0m\n",
      "File \u001b[1;32mc:\\Users\\fardin\\AppData\\Local\\Programs\\Python\\Python310\\lib\\site-packages\\yaml\\representer.py:52\u001b[0m, in \u001b[0;36mBaseRepresenter.represent_data\u001b[1;34m(self, data)\u001b[0m\n\u001b[0;32m     50\u001b[0m \u001b[39mfor\u001b[39;00m data_type \u001b[39min\u001b[39;00m data_types:\n\u001b[0;32m     51\u001b[0m     \u001b[39mif\u001b[39;00m data_type \u001b[39min\u001b[39;00m \u001b[39mself\u001b[39m\u001b[39m.\u001b[39myaml_multi_representers:\n\u001b[1;32m---> 52\u001b[0m         node \u001b[39m=\u001b[39m \u001b[39mself\u001b[39;49m\u001b[39m.\u001b[39;49myaml_multi_representers[data_type](\u001b[39mself\u001b[39;49m, data)\n\u001b[0;32m     53\u001b[0m         \u001b[39mbreak\u001b[39;00m\n\u001b[0;32m     54\u001b[0m \u001b[39melse\u001b[39;00m:\n",
      "File \u001b[1;32mc:\\Users\\fardin\\AppData\\Local\\Programs\\Python\\Python310\\lib\\site-packages\\yaml\\representer.py:342\u001b[0m, in \u001b[0;36mRepresenter.represent_object\u001b[1;34m(self, data)\u001b[0m\n\u001b[0;32m    339\u001b[0m function_name \u001b[39m=\u001b[39m \u001b[39m'\u001b[39m\u001b[39m%s\u001b[39;00m\u001b[39m.\u001b[39m\u001b[39m%s\u001b[39;00m\u001b[39m'\u001b[39m \u001b[39m%\u001b[39m (function\u001b[39m.\u001b[39m\u001b[39m__module__\u001b[39m, function\u001b[39m.\u001b[39m\u001b[39m__name__\u001b[39m)\n\u001b[0;32m    340\u001b[0m \u001b[39mif\u001b[39;00m \u001b[39mnot\u001b[39;00m args \u001b[39mand\u001b[39;00m \u001b[39mnot\u001b[39;00m listitems \u001b[39mand\u001b[39;00m \u001b[39mnot\u001b[39;00m dictitems \\\n\u001b[0;32m    341\u001b[0m         \u001b[39mand\u001b[39;00m \u001b[39misinstance\u001b[39m(state, \u001b[39mdict\u001b[39m) \u001b[39mand\u001b[39;00m newobj:\n\u001b[1;32m--> 342\u001b[0m     \u001b[39mreturn\u001b[39;00m \u001b[39mself\u001b[39;49m\u001b[39m.\u001b[39;49mrepresent_mapping(\n\u001b[0;32m    343\u001b[0m             \u001b[39m'\u001b[39;49m\u001b[39mtag:yaml.org,2002:python/object:\u001b[39;49m\u001b[39m'\u001b[39;49m\u001b[39m+\u001b[39;49mfunction_name, state)\n\u001b[0;32m    344\u001b[0m \u001b[39mif\u001b[39;00m \u001b[39mnot\u001b[39;00m listitems \u001b[39mand\u001b[39;00m \u001b[39mnot\u001b[39;00m dictitems  \\\n\u001b[0;32m    345\u001b[0m         \u001b[39mand\u001b[39;00m \u001b[39misinstance\u001b[39m(state, \u001b[39mdict\u001b[39m) \u001b[39mand\u001b[39;00m \u001b[39mnot\u001b[39;00m state:\n\u001b[0;32m    346\u001b[0m     \u001b[39mreturn\u001b[39;00m \u001b[39mself\u001b[39m\u001b[39m.\u001b[39mrepresent_sequence(tag\u001b[39m+\u001b[39mfunction_name, args)\n",
      "File \u001b[1;32mc:\\Users\\fardin\\AppData\\Local\\Programs\\Python\\Python310\\lib\\site-packages\\yaml\\representer.py:118\u001b[0m, in \u001b[0;36mBaseRepresenter.represent_mapping\u001b[1;34m(self, tag, mapping, flow_style)\u001b[0m\n\u001b[0;32m    116\u001b[0m \u001b[39mfor\u001b[39;00m item_key, item_value \u001b[39min\u001b[39;00m mapping:\n\u001b[0;32m    117\u001b[0m     node_key \u001b[39m=\u001b[39m \u001b[39mself\u001b[39m\u001b[39m.\u001b[39mrepresent_data(item_key)\n\u001b[1;32m--> 118\u001b[0m     node_value \u001b[39m=\u001b[39m \u001b[39mself\u001b[39;49m\u001b[39m.\u001b[39;49mrepresent_data(item_value)\n\u001b[0;32m    119\u001b[0m     \u001b[39mif\u001b[39;00m \u001b[39mnot\u001b[39;00m (\u001b[39misinstance\u001b[39m(node_key, ScalarNode) \u001b[39mand\u001b[39;00m \u001b[39mnot\u001b[39;00m node_key\u001b[39m.\u001b[39mstyle):\n\u001b[0;32m    120\u001b[0m         best_style \u001b[39m=\u001b[39m \u001b[39mFalse\u001b[39;00m\n",
      "File \u001b[1;32mc:\\Users\\fardin\\AppData\\Local\\Programs\\Python\\Python310\\lib\\site-packages\\yaml\\representer.py:48\u001b[0m, in \u001b[0;36mBaseRepresenter.represent_data\u001b[1;34m(self, data)\u001b[0m\n\u001b[0;32m     46\u001b[0m data_types \u001b[39m=\u001b[39m \u001b[39mtype\u001b[39m(data)\u001b[39m.\u001b[39m\u001b[39m__mro__\u001b[39m\n\u001b[0;32m     47\u001b[0m \u001b[39mif\u001b[39;00m data_types[\u001b[39m0\u001b[39m] \u001b[39min\u001b[39;00m \u001b[39mself\u001b[39m\u001b[39m.\u001b[39myaml_representers:\n\u001b[1;32m---> 48\u001b[0m     node \u001b[39m=\u001b[39m \u001b[39mself\u001b[39;49m\u001b[39m.\u001b[39;49myaml_representers[data_types[\u001b[39m0\u001b[39;49m]](\u001b[39mself\u001b[39;49m, data)\n\u001b[0;32m     49\u001b[0m \u001b[39melse\u001b[39;00m:\n\u001b[0;32m     50\u001b[0m     \u001b[39mfor\u001b[39;00m data_type \u001b[39min\u001b[39;00m data_types:\n",
      "File \u001b[1;32mc:\\Users\\fardin\\AppData\\Local\\Programs\\Python\\Python310\\lib\\site-packages\\yaml\\representer.py:207\u001b[0m, in \u001b[0;36mSafeRepresenter.represent_dict\u001b[1;34m(self, data)\u001b[0m\n\u001b[0;32m    206\u001b[0m \u001b[39mdef\u001b[39;00m \u001b[39mrepresent_dict\u001b[39m(\u001b[39mself\u001b[39m, data):\n\u001b[1;32m--> 207\u001b[0m     \u001b[39mreturn\u001b[39;00m \u001b[39mself\u001b[39;49m\u001b[39m.\u001b[39;49mrepresent_mapping(\u001b[39m'\u001b[39;49m\u001b[39mtag:yaml.org,2002:map\u001b[39;49m\u001b[39m'\u001b[39;49m, data)\n",
      "File \u001b[1;32mc:\\Users\\fardin\\AppData\\Local\\Programs\\Python\\Python310\\lib\\site-packages\\yaml\\representer.py:118\u001b[0m, in \u001b[0;36mBaseRepresenter.represent_mapping\u001b[1;34m(self, tag, mapping, flow_style)\u001b[0m\n\u001b[0;32m    116\u001b[0m \u001b[39mfor\u001b[39;00m item_key, item_value \u001b[39min\u001b[39;00m mapping:\n\u001b[0;32m    117\u001b[0m     node_key \u001b[39m=\u001b[39m \u001b[39mself\u001b[39m\u001b[39m.\u001b[39mrepresent_data(item_key)\n\u001b[1;32m--> 118\u001b[0m     node_value \u001b[39m=\u001b[39m \u001b[39mself\u001b[39;49m\u001b[39m.\u001b[39;49mrepresent_data(item_value)\n\u001b[0;32m    119\u001b[0m     \u001b[39mif\u001b[39;00m \u001b[39mnot\u001b[39;00m (\u001b[39misinstance\u001b[39m(node_key, ScalarNode) \u001b[39mand\u001b[39;00m \u001b[39mnot\u001b[39;00m node_key\u001b[39m.\u001b[39mstyle):\n\u001b[0;32m    120\u001b[0m         best_style \u001b[39m=\u001b[39m \u001b[39mFalse\u001b[39;00m\n",
      "File \u001b[1;32mc:\\Users\\fardin\\AppData\\Local\\Programs\\Python\\Python310\\lib\\site-packages\\yaml\\representer.py:48\u001b[0m, in \u001b[0;36mBaseRepresenter.represent_data\u001b[1;34m(self, data)\u001b[0m\n\u001b[0;32m     46\u001b[0m data_types \u001b[39m=\u001b[39m \u001b[39mtype\u001b[39m(data)\u001b[39m.\u001b[39m\u001b[39m__mro__\u001b[39m\n\u001b[0;32m     47\u001b[0m \u001b[39mif\u001b[39;00m data_types[\u001b[39m0\u001b[39m] \u001b[39min\u001b[39;00m \u001b[39mself\u001b[39m\u001b[39m.\u001b[39myaml_representers:\n\u001b[1;32m---> 48\u001b[0m     node \u001b[39m=\u001b[39m \u001b[39mself\u001b[39;49m\u001b[39m.\u001b[39;49myaml_representers[data_types[\u001b[39m0\u001b[39;49m]](\u001b[39mself\u001b[39;49m, data)\n\u001b[0;32m     49\u001b[0m \u001b[39melse\u001b[39;00m:\n\u001b[0;32m     50\u001b[0m     \u001b[39mfor\u001b[39;00m data_type \u001b[39min\u001b[39;00m data_types:\n",
      "File \u001b[1;32mc:\\Users\\fardin\\AppData\\Local\\Programs\\Python\\Python310\\lib\\site-packages\\yaml\\representer.py:364\u001b[0m, in \u001b[0;36mRepresenter.represent_ordered_dict\u001b[1;34m(self, data)\u001b[0m\n\u001b[0;32m    361\u001b[0m tag \u001b[39m=\u001b[39m \u001b[39m'\u001b[39m\u001b[39mtag:yaml.org,2002:python/object/apply:\u001b[39m\u001b[39m%s\u001b[39;00m\u001b[39m.\u001b[39m\u001b[39m%s\u001b[39;00m\u001b[39m'\u001b[39m \\\n\u001b[0;32m    362\u001b[0m         \u001b[39m%\u001b[39m (data_type\u001b[39m.\u001b[39m\u001b[39m__module__\u001b[39m, data_type\u001b[39m.\u001b[39m\u001b[39m__name__\u001b[39m)\n\u001b[0;32m    363\u001b[0m items \u001b[39m=\u001b[39m [[key, value] \u001b[39mfor\u001b[39;00m key, value \u001b[39min\u001b[39;00m data\u001b[39m.\u001b[39mitems()]\n\u001b[1;32m--> 364\u001b[0m \u001b[39mreturn\u001b[39;00m \u001b[39mself\u001b[39;49m\u001b[39m.\u001b[39;49mrepresent_sequence(tag, [items])\n",
      "File \u001b[1;32mc:\\Users\\fardin\\AppData\\Local\\Programs\\Python\\Python310\\lib\\site-packages\\yaml\\representer.py:92\u001b[0m, in \u001b[0;36mBaseRepresenter.represent_sequence\u001b[1;34m(self, tag, sequence, flow_style)\u001b[0m\n\u001b[0;32m     90\u001b[0m best_style \u001b[39m=\u001b[39m \u001b[39mTrue\u001b[39;00m\n\u001b[0;32m     91\u001b[0m \u001b[39mfor\u001b[39;00m item \u001b[39min\u001b[39;00m sequence:\n\u001b[1;32m---> 92\u001b[0m     node_item \u001b[39m=\u001b[39m \u001b[39mself\u001b[39;49m\u001b[39m.\u001b[39;49mrepresent_data(item)\n\u001b[0;32m     93\u001b[0m     \u001b[39mif\u001b[39;00m \u001b[39mnot\u001b[39;00m (\u001b[39misinstance\u001b[39m(node_item, ScalarNode) \u001b[39mand\u001b[39;00m \u001b[39mnot\u001b[39;00m node_item\u001b[39m.\u001b[39mstyle):\n\u001b[0;32m     94\u001b[0m         best_style \u001b[39m=\u001b[39m \u001b[39mFalse\u001b[39;00m\n",
      "File \u001b[1;32mc:\\Users\\fardin\\AppData\\Local\\Programs\\Python\\Python310\\lib\\site-packages\\yaml\\representer.py:48\u001b[0m, in \u001b[0;36mBaseRepresenter.represent_data\u001b[1;34m(self, data)\u001b[0m\n\u001b[0;32m     46\u001b[0m data_types \u001b[39m=\u001b[39m \u001b[39mtype\u001b[39m(data)\u001b[39m.\u001b[39m\u001b[39m__mro__\u001b[39m\n\u001b[0;32m     47\u001b[0m \u001b[39mif\u001b[39;00m data_types[\u001b[39m0\u001b[39m] \u001b[39min\u001b[39;00m \u001b[39mself\u001b[39m\u001b[39m.\u001b[39myaml_representers:\n\u001b[1;32m---> 48\u001b[0m     node \u001b[39m=\u001b[39m \u001b[39mself\u001b[39;49m\u001b[39m.\u001b[39;49myaml_representers[data_types[\u001b[39m0\u001b[39;49m]](\u001b[39mself\u001b[39;49m, data)\n\u001b[0;32m     49\u001b[0m \u001b[39melse\u001b[39;00m:\n\u001b[0;32m     50\u001b[0m     \u001b[39mfor\u001b[39;00m data_type \u001b[39min\u001b[39;00m data_types:\n",
      "File \u001b[1;32mc:\\Users\\fardin\\AppData\\Local\\Programs\\Python\\Python310\\lib\\site-packages\\yaml\\representer.py:199\u001b[0m, in \u001b[0;36mSafeRepresenter.represent_list\u001b[1;34m(self, data)\u001b[0m\n\u001b[0;32m    191\u001b[0m \u001b[39mdef\u001b[39;00m \u001b[39mrepresent_list\u001b[39m(\u001b[39mself\u001b[39m, data):\n\u001b[0;32m    192\u001b[0m     \u001b[39m#pairs = (len(data) > 0 and isinstance(data, list))\u001b[39;00m\n\u001b[0;32m    193\u001b[0m     \u001b[39m#if pairs:\u001b[39;00m\n\u001b[1;32m   (...)\u001b[0m\n\u001b[0;32m    197\u001b[0m     \u001b[39m#            break\u001b[39;00m\n\u001b[0;32m    198\u001b[0m     \u001b[39m#if not pairs:\u001b[39;00m\n\u001b[1;32m--> 199\u001b[0m         \u001b[39mreturn\u001b[39;00m \u001b[39mself\u001b[39;49m\u001b[39m.\u001b[39;49mrepresent_sequence(\u001b[39m'\u001b[39;49m\u001b[39mtag:yaml.org,2002:seq\u001b[39;49m\u001b[39m'\u001b[39;49m, data)\n",
      "File \u001b[1;32mc:\\Users\\fardin\\AppData\\Local\\Programs\\Python\\Python310\\lib\\site-packages\\yaml\\representer.py:92\u001b[0m, in \u001b[0;36mBaseRepresenter.represent_sequence\u001b[1;34m(self, tag, sequence, flow_style)\u001b[0m\n\u001b[0;32m     90\u001b[0m best_style \u001b[39m=\u001b[39m \u001b[39mTrue\u001b[39;00m\n\u001b[0;32m     91\u001b[0m \u001b[39mfor\u001b[39;00m item \u001b[39min\u001b[39;00m sequence:\n\u001b[1;32m---> 92\u001b[0m     node_item \u001b[39m=\u001b[39m \u001b[39mself\u001b[39;49m\u001b[39m.\u001b[39;49mrepresent_data(item)\n\u001b[0;32m     93\u001b[0m     \u001b[39mif\u001b[39;00m \u001b[39mnot\u001b[39;00m (\u001b[39misinstance\u001b[39m(node_item, ScalarNode) \u001b[39mand\u001b[39;00m \u001b[39mnot\u001b[39;00m node_item\u001b[39m.\u001b[39mstyle):\n\u001b[0;32m     94\u001b[0m         best_style \u001b[39m=\u001b[39m \u001b[39mFalse\u001b[39;00m\n",
      "File \u001b[1;32mc:\\Users\\fardin\\AppData\\Local\\Programs\\Python\\Python310\\lib\\site-packages\\yaml\\representer.py:48\u001b[0m, in \u001b[0;36mBaseRepresenter.represent_data\u001b[1;34m(self, data)\u001b[0m\n\u001b[0;32m     46\u001b[0m data_types \u001b[39m=\u001b[39m \u001b[39mtype\u001b[39m(data)\u001b[39m.\u001b[39m\u001b[39m__mro__\u001b[39m\n\u001b[0;32m     47\u001b[0m \u001b[39mif\u001b[39;00m data_types[\u001b[39m0\u001b[39m] \u001b[39min\u001b[39;00m \u001b[39mself\u001b[39m\u001b[39m.\u001b[39myaml_representers:\n\u001b[1;32m---> 48\u001b[0m     node \u001b[39m=\u001b[39m \u001b[39mself\u001b[39;49m\u001b[39m.\u001b[39;49myaml_representers[data_types[\u001b[39m0\u001b[39;49m]](\u001b[39mself\u001b[39;49m, data)\n\u001b[0;32m     49\u001b[0m \u001b[39melse\u001b[39;00m:\n\u001b[0;32m     50\u001b[0m     \u001b[39mfor\u001b[39;00m data_type \u001b[39min\u001b[39;00m data_types:\n",
      "File \u001b[1;32mc:\\Users\\fardin\\AppData\\Local\\Programs\\Python\\Python310\\lib\\site-packages\\yaml\\representer.py:199\u001b[0m, in \u001b[0;36mSafeRepresenter.represent_list\u001b[1;34m(self, data)\u001b[0m\n\u001b[0;32m    191\u001b[0m \u001b[39mdef\u001b[39;00m \u001b[39mrepresent_list\u001b[39m(\u001b[39mself\u001b[39m, data):\n\u001b[0;32m    192\u001b[0m     \u001b[39m#pairs = (len(data) > 0 and isinstance(data, list))\u001b[39;00m\n\u001b[0;32m    193\u001b[0m     \u001b[39m#if pairs:\u001b[39;00m\n\u001b[1;32m   (...)\u001b[0m\n\u001b[0;32m    197\u001b[0m     \u001b[39m#            break\u001b[39;00m\n\u001b[0;32m    198\u001b[0m     \u001b[39m#if not pairs:\u001b[39;00m\n\u001b[1;32m--> 199\u001b[0m         \u001b[39mreturn\u001b[39;00m \u001b[39mself\u001b[39;49m\u001b[39m.\u001b[39;49mrepresent_sequence(\u001b[39m'\u001b[39;49m\u001b[39mtag:yaml.org,2002:seq\u001b[39;49m\u001b[39m'\u001b[39;49m, data)\n",
      "File \u001b[1;32mc:\\Users\\fardin\\AppData\\Local\\Programs\\Python\\Python310\\lib\\site-packages\\yaml\\representer.py:92\u001b[0m, in \u001b[0;36mBaseRepresenter.represent_sequence\u001b[1;34m(self, tag, sequence, flow_style)\u001b[0m\n\u001b[0;32m     90\u001b[0m best_style \u001b[39m=\u001b[39m \u001b[39mTrue\u001b[39;00m\n\u001b[0;32m     91\u001b[0m \u001b[39mfor\u001b[39;00m item \u001b[39min\u001b[39;00m sequence:\n\u001b[1;32m---> 92\u001b[0m     node_item \u001b[39m=\u001b[39m \u001b[39mself\u001b[39;49m\u001b[39m.\u001b[39;49mrepresent_data(item)\n\u001b[0;32m     93\u001b[0m     \u001b[39mif\u001b[39;00m \u001b[39mnot\u001b[39;00m (\u001b[39misinstance\u001b[39m(node_item, ScalarNode) \u001b[39mand\u001b[39;00m \u001b[39mnot\u001b[39;00m node_item\u001b[39m.\u001b[39mstyle):\n\u001b[0;32m     94\u001b[0m         best_style \u001b[39m=\u001b[39m \u001b[39mFalse\u001b[39;00m\n",
      "File \u001b[1;32mc:\\Users\\fardin\\AppData\\Local\\Programs\\Python\\Python310\\lib\\site-packages\\yaml\\representer.py:52\u001b[0m, in \u001b[0;36mBaseRepresenter.represent_data\u001b[1;34m(self, data)\u001b[0m\n\u001b[0;32m     50\u001b[0m \u001b[39mfor\u001b[39;00m data_type \u001b[39min\u001b[39;00m data_types:\n\u001b[0;32m     51\u001b[0m     \u001b[39mif\u001b[39;00m data_type \u001b[39min\u001b[39;00m \u001b[39mself\u001b[39m\u001b[39m.\u001b[39myaml_multi_representers:\n\u001b[1;32m---> 52\u001b[0m         node \u001b[39m=\u001b[39m \u001b[39mself\u001b[39;49m\u001b[39m.\u001b[39;49myaml_multi_representers[data_type](\u001b[39mself\u001b[39;49m, data)\n\u001b[0;32m     53\u001b[0m         \u001b[39mbreak\u001b[39;00m\n\u001b[0;32m     54\u001b[0m \u001b[39melse\u001b[39;00m:\n",
      "File \u001b[1;32mc:\\Users\\fardin\\AppData\\Local\\Programs\\Python\\Python310\\lib\\site-packages\\yaml\\representer.py:356\u001b[0m, in \u001b[0;36mRepresenter.represent_object\u001b[1;34m(self, data)\u001b[0m\n\u001b[0;32m    354\u001b[0m \u001b[39mif\u001b[39;00m dictitems:\n\u001b[0;32m    355\u001b[0m     value[\u001b[39m'\u001b[39m\u001b[39mdictitems\u001b[39m\u001b[39m'\u001b[39m] \u001b[39m=\u001b[39m dictitems\n\u001b[1;32m--> 356\u001b[0m \u001b[39mreturn\u001b[39;00m \u001b[39mself\u001b[39;49m\u001b[39m.\u001b[39;49mrepresent_mapping(tag\u001b[39m+\u001b[39;49mfunction_name, value)\n",
      "File \u001b[1;32mc:\\Users\\fardin\\AppData\\Local\\Programs\\Python\\Python310\\lib\\site-packages\\yaml\\representer.py:118\u001b[0m, in \u001b[0;36mBaseRepresenter.represent_mapping\u001b[1;34m(self, tag, mapping, flow_style)\u001b[0m\n\u001b[0;32m    116\u001b[0m \u001b[39mfor\u001b[39;00m item_key, item_value \u001b[39min\u001b[39;00m mapping:\n\u001b[0;32m    117\u001b[0m     node_key \u001b[39m=\u001b[39m \u001b[39mself\u001b[39m\u001b[39m.\u001b[39mrepresent_data(item_key)\n\u001b[1;32m--> 118\u001b[0m     node_value \u001b[39m=\u001b[39m \u001b[39mself\u001b[39;49m\u001b[39m.\u001b[39;49mrepresent_data(item_value)\n\u001b[0;32m    119\u001b[0m     \u001b[39mif\u001b[39;00m \u001b[39mnot\u001b[39;00m (\u001b[39misinstance\u001b[39m(node_key, ScalarNode) \u001b[39mand\u001b[39;00m \u001b[39mnot\u001b[39;00m node_key\u001b[39m.\u001b[39mstyle):\n\u001b[0;32m    120\u001b[0m         best_style \u001b[39m=\u001b[39m \u001b[39mFalse\u001b[39;00m\n",
      "File \u001b[1;32mc:\\Users\\fardin\\AppData\\Local\\Programs\\Python\\Python310\\lib\\site-packages\\yaml\\representer.py:48\u001b[0m, in \u001b[0;36mBaseRepresenter.represent_data\u001b[1;34m(self, data)\u001b[0m\n\u001b[0;32m     46\u001b[0m data_types \u001b[39m=\u001b[39m \u001b[39mtype\u001b[39m(data)\u001b[39m.\u001b[39m\u001b[39m__mro__\u001b[39m\n\u001b[0;32m     47\u001b[0m \u001b[39mif\u001b[39;00m data_types[\u001b[39m0\u001b[39m] \u001b[39min\u001b[39;00m \u001b[39mself\u001b[39m\u001b[39m.\u001b[39myaml_representers:\n\u001b[1;32m---> 48\u001b[0m     node \u001b[39m=\u001b[39m \u001b[39mself\u001b[39;49m\u001b[39m.\u001b[39;49myaml_representers[data_types[\u001b[39m0\u001b[39;49m]](\u001b[39mself\u001b[39;49m, data)\n\u001b[0;32m     49\u001b[0m \u001b[39melse\u001b[39;00m:\n\u001b[0;32m     50\u001b[0m     \u001b[39mfor\u001b[39;00m data_type \u001b[39min\u001b[39;00m data_types:\n",
      "File \u001b[1;32mc:\\Users\\fardin\\AppData\\Local\\Programs\\Python\\Python310\\lib\\site-packages\\yaml\\representer.py:207\u001b[0m, in \u001b[0;36mSafeRepresenter.represent_dict\u001b[1;34m(self, data)\u001b[0m\n\u001b[0;32m    206\u001b[0m \u001b[39mdef\u001b[39;00m \u001b[39mrepresent_dict\u001b[39m(\u001b[39mself\u001b[39m, data):\n\u001b[1;32m--> 207\u001b[0m     \u001b[39mreturn\u001b[39;00m \u001b[39mself\u001b[39;49m\u001b[39m.\u001b[39;49mrepresent_mapping(\u001b[39m'\u001b[39;49m\u001b[39mtag:yaml.org,2002:map\u001b[39;49m\u001b[39m'\u001b[39;49m, data)\n",
      "File \u001b[1;32mc:\\Users\\fardin\\AppData\\Local\\Programs\\Python\\Python310\\lib\\site-packages\\yaml\\representer.py:118\u001b[0m, in \u001b[0;36mBaseRepresenter.represent_mapping\u001b[1;34m(self, tag, mapping, flow_style)\u001b[0m\n\u001b[0;32m    116\u001b[0m \u001b[39mfor\u001b[39;00m item_key, item_value \u001b[39min\u001b[39;00m mapping:\n\u001b[0;32m    117\u001b[0m     node_key \u001b[39m=\u001b[39m \u001b[39mself\u001b[39m\u001b[39m.\u001b[39mrepresent_data(item_key)\n\u001b[1;32m--> 118\u001b[0m     node_value \u001b[39m=\u001b[39m \u001b[39mself\u001b[39;49m\u001b[39m.\u001b[39;49mrepresent_data(item_value)\n\u001b[0;32m    119\u001b[0m     \u001b[39mif\u001b[39;00m \u001b[39mnot\u001b[39;00m (\u001b[39misinstance\u001b[39m(node_key, ScalarNode) \u001b[39mand\u001b[39;00m \u001b[39mnot\u001b[39;00m node_key\u001b[39m.\u001b[39mstyle):\n\u001b[0;32m    120\u001b[0m         best_style \u001b[39m=\u001b[39m \u001b[39mFalse\u001b[39;00m\n",
      "File \u001b[1;32mc:\\Users\\fardin\\AppData\\Local\\Programs\\Python\\Python310\\lib\\site-packages\\yaml\\representer.py:52\u001b[0m, in \u001b[0;36mBaseRepresenter.represent_data\u001b[1;34m(self, data)\u001b[0m\n\u001b[0;32m     50\u001b[0m \u001b[39mfor\u001b[39;00m data_type \u001b[39min\u001b[39;00m data_types:\n\u001b[0;32m     51\u001b[0m     \u001b[39mif\u001b[39;00m data_type \u001b[39min\u001b[39;00m \u001b[39mself\u001b[39m\u001b[39m.\u001b[39myaml_multi_representers:\n\u001b[1;32m---> 52\u001b[0m         node \u001b[39m=\u001b[39m \u001b[39mself\u001b[39;49m\u001b[39m.\u001b[39;49myaml_multi_representers[data_type](\u001b[39mself\u001b[39;49m, data)\n\u001b[0;32m     53\u001b[0m         \u001b[39mbreak\u001b[39;00m\n\u001b[0;32m     54\u001b[0m \u001b[39melse\u001b[39;00m:\n",
      "File \u001b[1;32mc:\\Users\\fardin\\AppData\\Local\\Programs\\Python\\Python310\\lib\\site-packages\\yaml\\representer.py:346\u001b[0m, in \u001b[0;36mRepresenter.represent_object\u001b[1;34m(self, data)\u001b[0m\n\u001b[0;32m    342\u001b[0m     \u001b[39mreturn\u001b[39;00m \u001b[39mself\u001b[39m\u001b[39m.\u001b[39mrepresent_mapping(\n\u001b[0;32m    343\u001b[0m             \u001b[39m'\u001b[39m\u001b[39mtag:yaml.org,2002:python/object:\u001b[39m\u001b[39m'\u001b[39m\u001b[39m+\u001b[39mfunction_name, state)\n\u001b[0;32m    344\u001b[0m \u001b[39mif\u001b[39;00m \u001b[39mnot\u001b[39;00m listitems \u001b[39mand\u001b[39;00m \u001b[39mnot\u001b[39;00m dictitems  \\\n\u001b[0;32m    345\u001b[0m         \u001b[39mand\u001b[39;00m \u001b[39misinstance\u001b[39m(state, \u001b[39mdict\u001b[39m) \u001b[39mand\u001b[39;00m \u001b[39mnot\u001b[39;00m state:\n\u001b[1;32m--> 346\u001b[0m     \u001b[39mreturn\u001b[39;00m \u001b[39mself\u001b[39;49m\u001b[39m.\u001b[39;49mrepresent_sequence(tag\u001b[39m+\u001b[39;49mfunction_name, args)\n\u001b[0;32m    347\u001b[0m value \u001b[39m=\u001b[39m {}\n\u001b[0;32m    348\u001b[0m \u001b[39mif\u001b[39;00m args:\n",
      "File \u001b[1;32mc:\\Users\\fardin\\AppData\\Local\\Programs\\Python\\Python310\\lib\\site-packages\\yaml\\representer.py:92\u001b[0m, in \u001b[0;36mBaseRepresenter.represent_sequence\u001b[1;34m(self, tag, sequence, flow_style)\u001b[0m\n\u001b[0;32m     90\u001b[0m best_style \u001b[39m=\u001b[39m \u001b[39mTrue\u001b[39;00m\n\u001b[0;32m     91\u001b[0m \u001b[39mfor\u001b[39;00m item \u001b[39min\u001b[39;00m sequence:\n\u001b[1;32m---> 92\u001b[0m     node_item \u001b[39m=\u001b[39m \u001b[39mself\u001b[39;49m\u001b[39m.\u001b[39;49mrepresent_data(item)\n\u001b[0;32m     93\u001b[0m     \u001b[39mif\u001b[39;00m \u001b[39mnot\u001b[39;00m (\u001b[39misinstance\u001b[39m(node_item, ScalarNode) \u001b[39mand\u001b[39;00m \u001b[39mnot\u001b[39;00m node_item\u001b[39m.\u001b[39mstyle):\n\u001b[0;32m     94\u001b[0m         best_style \u001b[39m=\u001b[39m \u001b[39mFalse\u001b[39;00m\n",
      "File \u001b[1;32mc:\\Users\\fardin\\AppData\\Local\\Programs\\Python\\Python310\\lib\\site-packages\\yaml\\representer.py:52\u001b[0m, in \u001b[0;36mBaseRepresenter.represent_data\u001b[1;34m(self, data)\u001b[0m\n\u001b[0;32m     50\u001b[0m \u001b[39mfor\u001b[39;00m data_type \u001b[39min\u001b[39;00m data_types:\n\u001b[0;32m     51\u001b[0m     \u001b[39mif\u001b[39;00m data_type \u001b[39min\u001b[39;00m \u001b[39mself\u001b[39m\u001b[39m.\u001b[39myaml_multi_representers:\n\u001b[1;32m---> 52\u001b[0m         node \u001b[39m=\u001b[39m \u001b[39mself\u001b[39;49m\u001b[39m.\u001b[39;49myaml_multi_representers[data_type](\u001b[39mself\u001b[39;49m, data)\n\u001b[0;32m     53\u001b[0m         \u001b[39mbreak\u001b[39;00m\n\u001b[0;32m     54\u001b[0m \u001b[39melse\u001b[39;00m:\n",
      "File \u001b[1;32mc:\\Users\\fardin\\AppData\\Local\\Programs\\Python\\Python310\\lib\\site-packages\\yaml\\representer.py:330\u001b[0m, in \u001b[0;36mRepresenter.represent_object\u001b[1;34m(self, data)\u001b[0m\n\u001b[0;32m    328\u001b[0m     listitems \u001b[39m=\u001b[39m \u001b[39mlist\u001b[39m(listitems)\n\u001b[0;32m    329\u001b[0m \u001b[39mif\u001b[39;00m dictitems \u001b[39mis\u001b[39;00m \u001b[39mnot\u001b[39;00m \u001b[39mNone\u001b[39;00m:\n\u001b[1;32m--> 330\u001b[0m     dictitems \u001b[39m=\u001b[39m \u001b[39mdict\u001b[39;49m(dictitems)\n\u001b[0;32m    331\u001b[0m \u001b[39mif\u001b[39;00m function\u001b[39m.\u001b[39m\u001b[39m__name__\u001b[39m \u001b[39m==\u001b[39m \u001b[39m'\u001b[39m\u001b[39m__newobj__\u001b[39m\u001b[39m'\u001b[39m:\n\u001b[0;32m    332\u001b[0m     function \u001b[39m=\u001b[39m args[\u001b[39m0\u001b[39m]\n",
      "\u001b[1;31mValueError\u001b[0m: dictionary update sequence element #0 has length 1; 2 is required"
     ]
    }
   ],
   "source": [
    "model_manager.fit(datamodule=data_manager, ckpt_path=r'logs\\hetero_model_17_AG\\version_12\\checkpoints\\epoch=51-step=24076.ckpt')"
   ]
  },
  {
   "cell_type": "code",
   "execution_count": null,
   "metadata": {},
   "outputs": [],
   "source": []
  },
  {
   "cell_type": "code",
   "execution_count": null,
   "metadata": {},
   "outputs": [],
   "source": [
    "# optimizer = torch.optim.Adam(graph_embedding.parameters(), lr=0.001, weight_decay=0.0005)\n",
    "# lr_scheduler = torch.optim.lr_scheduler.MultiStepLR(optimizer, milestones=[5, 15, 35], gamma=0.5, verbose=True)\n",
    "graph_embedding = HeteroDeepGraphEmbedding4(300, 4, X3.metadata(), 256, device, 0.2, 11)\n",
    "lightning_model = HeteroMultiClassLightningModel.load_from_checkpoint(r'logs\\hetero_model_11_AG\\version_5\\checkpoints\\epoch=1-step=882.ckpt', \n",
    "                                    model=graph_embedding,\n",
    "                                    num_classes=4)\n",
    "                                    # ,\n",
    "                                    # optimizer=optimizer,\n",
    "                                    # loss_func=loss_func,\n",
    "                                    # learning_rate=0.001,\n",
    "                                    # batch_size=batch_size,\n",
    "                                    # lr_scheduler=lr_scheduler,\n",
    "                                    # user_lr_scheduler=True,\n",
    "                                    # min_lr=0.00003)"
   ]
  },
  {
   "cell_type": "code",
   "execution_count": null,
   "metadata": {},
   "outputs": [],
   "source": [
    "from os import path\n",
    "from sklearn.metrics import classification_report, f1_score, accuracy_score, precision_score, recall_score, confusion_matrix, hinge_loss\n",
    "import torchmetrics\n",
    "\n",
    "def save_evaluation(model_mgr, l_model, eval_dataloader, name_prepend: str='',\n",
    "                 give_confusion_matrix: bool=True, \n",
    "                 give_report: bool=True, \n",
    "                 give_f1_score: bool=False, \n",
    "                 give_accuracy_score: bool=False, \n",
    "                 give_precision_score: bool=False, \n",
    "                 give_recall_score: bool=False, \n",
    "                 give_hinge_loss: bool=False,\n",
    "                 multi_class: bool=False\n",
    "                 ):\n",
    "        \n",
    "        test_metrics_path = path.join(model_mgr.log_dir, model_mgr.log_name, f'version_{model_mgr.logger.version}', f'{name_prepend}_test_metrics.txt')\n",
    "        \n",
    "        y_true = []\n",
    "        y_pred = []\n",
    "        for X, y in eval_dataloader:\n",
    "            l_model.eval()\n",
    "            with torch.no_grad():\n",
    "                y_p = l_model(X.to(model_mgr.device))\n",
    "            if type(y_p) is tuple:\n",
    "                y_p = y_p[0]\n",
    "            \n",
    "            if multi_class:\n",
    "                y_pred.append(y_p.detach().to(y.device))\n",
    "                y_true.append(y)\n",
    "            else:\n",
    "                y_pred.append((y_p>0).to(torch.int32).detach().to(y.device))\n",
    "                y_true.append(y.to(torch.int32))\n",
    "        y_true = torch.concat(y_true)\n",
    "        y_pred = torch.concat(y_pred)\n",
    "        print(y_true.shape)\n",
    "        print(y_pred.shape)\n",
    "        if multi_class:\n",
    "            y_true_num = torch.argmax(y_true, dim=1)\n",
    "            y_pred_num = torch.argmax(y_pred, dim=1)\n",
    "        else:\n",
    "            y_true_num = y_true\n",
    "            y_pred_num = y_pred\n",
    "            \n",
    "        print(y_true_num.shape)\n",
    "        print(y_pred_num.shape)\n",
    "        with open(test_metrics_path, 'at+') as f:\n",
    "            if(give_confusion_matrix):\n",
    "                print(f'confusion_matrix: \\n{confusion_matrix(y_true_num, y_pred_num)}', file=f)\n",
    "            if(give_report):\n",
    "                print(classification_report(y_true_num, y_pred_num), file=f)\n",
    "            if(give_f1_score):\n",
    "                if multi_class:\n",
    "                    print(f'f1_score: {f1_score(y_true_num, y_pred_num, average=None)}', file=f)\n",
    "                else:\n",
    "                    print(f'f1_score: {f1_score(y_true_num, y_pred_num)}', file=f)\n",
    "            if(give_accuracy_score):\n",
    "                print(f'accuracy_score: {accuracy_score(y_true_num, y_pred_num)}', file=f)\n",
    "            if(give_precision_score):\n",
    "                if multi_class:\n",
    "                    print(f'f1_score: {precision_score(y_true_num, y_pred_num, average=None)}', file=f)\n",
    "                else:\n",
    "                    print(f'f1_score: {precision_score(y_true_num, y_pred_num)}', file=f)\n",
    "            if(give_recall_score):\n",
    "                if multi_class:\n",
    "                    print(f'f1_score: {recall_score(y_true_num, y_pred_num, average=None)}', file=f)\n",
    "                else:\n",
    "                    print(f'f1_score: {recall_score(y_true_num, y_pred_num)}', file=f)\n",
    "            if(give_hinge_loss):\n",
    "                print(f'hinge_loss: {hinge_loss(y_true_num, y_pred)}', file=f)\n",
    "        \n",
    "        # test_acc = torchmetrics.Accuracy(task=\"multiclass\", num_classes=4)\n",
    "        # test_f1 = torchmetrics.F1Score(task=\"multiclass\", num_classes=4)\n",
    "        # test_precision = torchmetrics.Precision(task=\"multiclass\", num_classes=4)\n",
    "        # test_recall = torchmetrics.Recall(task=\"multiclass\", num_classes=4)\n",
    "        # test_confusion_m = torchmetrics.ConfusionMatrix(task=\"multiclass\", num_classes=4)\n",
    "        \n",
    "        # print(f'test_acc: {test_acc(y_true_num, y_pred_num)}')\n",
    "        # print(f'test_f1: {test_f1(y_true_num, y_pred_num)}')\n",
    "        # print(f'test_precision: {test_precision(y_true_num, y_pred_num)}')\n",
    "        # print(f'test_recall: {test_recall(y_true_num, y_pred_num)}')\n",
    "        # print(f'test_confusion_m: \\n{test_confusion_m(y_true_num, y_pred_num)}')"
   ]
  },
  {
   "cell_type": "code",
   "execution_count": null,
   "metadata": {},
   "outputs": [
    {
     "data": {
      "text/plain": [
       "Adam (\n",
       "Parameter Group 0\n",
       "    amsgrad: False\n",
       "    betas: (0.9, 0.999)\n",
       "    capturable: False\n",
       "    differentiable: False\n",
       "    eps: 1e-08\n",
       "    foreach: None\n",
       "    fused: None\n",
       "    lr: 0.01\n",
       "    maximize: False\n",
       "    weight_decay: 0\n",
       ")"
      ]
     },
     "execution_count": 23,
     "metadata": {},
     "output_type": "execute_result"
    }
   ],
   "source": [
    "lightning_model.optimizer"
   ]
  },
  {
   "cell_type": "code",
   "execution_count": null,
   "metadata": {},
   "outputs": [
    {
     "name": "stdout",
     "output_type": "stream",
     "text": [
      "torch.Size([6985, 4])\n",
      "torch.Size([6985, 4])\n",
      "torch.Size([6985])\n",
      "torch.Size([6985])\n"
     ]
    }
   ],
   "source": [
    "save_evaluation(model_manager, lightning_model, data_manager.test_dataloader(), 'chpt_n',True, True, True, True, True, True, True, multi_class=True)"
   ]
  },
  {
   "cell_type": "code",
   "execution_count": null,
   "metadata": {},
   "outputs": [
    {
     "name": "stdout",
     "output_type": "stream",
     "text": [
      "Adjusting learning rate of group 0 to 1.0000e-03.\n"
     ]
    },
    {
     "ename": "RuntimeError",
     "evalue": "Only Tensors created explicitly by the user (graph leaves) support the deepcopy protocol at the moment",
     "output_type": "error",
     "traceback": [
      "\u001b[1;31m---------------------------------------------------------------------------\u001b[0m",
      "\u001b[1;31mRuntimeError\u001b[0m                              Traceback (most recent call last)",
      "\u001b[1;32mc:\\Users\\fardin\\Projects\\ColorIntelligence\\Practices\\Tasks\\Tests\\4_SentimentClassificationOnNews.ipynb Cell 20\u001b[0m line \u001b[0;36m3\n\u001b[0;32m      <a href='vscode-notebook-cell:/c%3A/Users/fardin/Projects/ColorIntelligence/Practices/Tasks/Tests/4_SentimentClassificationOnNews.ipynb#X35sZmlsZQ%3D%3D?line=0'>1</a>\u001b[0m optimizer \u001b[39m=\u001b[39m torch\u001b[39m.\u001b[39moptim\u001b[39m.\u001b[39mAdam(graph_embedding\u001b[39m.\u001b[39mparameters(), lr\u001b[39m=\u001b[39m\u001b[39m0.001\u001b[39m, weight_decay\u001b[39m=\u001b[39m\u001b[39m0.0005\u001b[39m)\n\u001b[0;32m      <a href='vscode-notebook-cell:/c%3A/Users/fardin/Projects/ColorIntelligence/Practices/Tasks/Tests/4_SentimentClassificationOnNews.ipynb#X35sZmlsZQ%3D%3D?line=1'>2</a>\u001b[0m lr_scheduler \u001b[39m=\u001b[39m torch\u001b[39m.\u001b[39moptim\u001b[39m.\u001b[39mlr_scheduler\u001b[39m.\u001b[39mMultiStepLR(optimizer, milestones\u001b[39m=\u001b[39m[\u001b[39m5\u001b[39m, \u001b[39m15\u001b[39m, \u001b[39m35\u001b[39m], gamma\u001b[39m=\u001b[39m\u001b[39m0.5\u001b[39m, verbose\u001b[39m=\u001b[39m\u001b[39mTrue\u001b[39;00m)\n\u001b[1;32m----> <a href='vscode-notebook-cell:/c%3A/Users/fardin/Projects/ColorIntelligence/Practices/Tasks/Tests/4_SentimentClassificationOnNews.ipynb#X35sZmlsZQ%3D%3D?line=2'>3</a>\u001b[0m lightning_model \u001b[39m=\u001b[39m HeteroMultiClassLightningModel\u001b[39m.\u001b[39;49mload_from_checkpoint(\u001b[39mr\u001b[39;49m\u001b[39m'\u001b[39;49m\u001b[39mlogs\u001b[39;49m\u001b[39m\\\u001b[39;49m\u001b[39mhetero_model_16_AG\u001b[39;49m\u001b[39m\\\u001b[39;49m\u001b[39mversion_12\u001b[39;49m\u001b[39m\\\u001b[39;49m\u001b[39mcheckpoints\u001b[39;49m\u001b[39m\\\u001b[39;49m\u001b[39mepoch=137-step=60858.ckpt\u001b[39;49m\u001b[39m'\u001b[39;49m, \n\u001b[0;32m      <a href='vscode-notebook-cell:/c%3A/Users/fardin/Projects/ColorIntelligence/Practices/Tasks/Tests/4_SentimentClassificationOnNews.ipynb#X35sZmlsZQ%3D%3D?line=3'>4</a>\u001b[0m                                     model\u001b[39m=\u001b[39;49mgraph_embedding,\n\u001b[0;32m      <a href='vscode-notebook-cell:/c%3A/Users/fardin/Projects/ColorIntelligence/Practices/Tasks/Tests/4_SentimentClassificationOnNews.ipynb#X35sZmlsZQ%3D%3D?line=4'>5</a>\u001b[0m                                     num_classes\u001b[39m=\u001b[39;49m\u001b[39m4\u001b[39;49m)\n\u001b[0;32m      <a href='vscode-notebook-cell:/c%3A/Users/fardin/Projects/ColorIntelligence/Practices/Tasks/Tests/4_SentimentClassificationOnNews.ipynb#X35sZmlsZQ%3D%3D?line=6'>7</a>\u001b[0m save_evaluation(model_manager, lightning_model, data_manager\u001b[39m.\u001b[39mtest_dataloader(), \u001b[39m'\u001b[39m\u001b[39mchpt_1\u001b[39m\u001b[39m'\u001b[39m,\u001b[39mTrue\u001b[39;00m, \u001b[39mTrue\u001b[39;00m, \u001b[39mTrue\u001b[39;00m, \u001b[39mTrue\u001b[39;00m, \u001b[39mTrue\u001b[39;00m, \u001b[39mTrue\u001b[39;00m, \u001b[39mTrue\u001b[39;00m, multi_class\u001b[39m=\u001b[39m\u001b[39mTrue\u001b[39;00m)\n",
      "File \u001b[1;32mc:\\Users\\fardin\\AppData\\Local\\Programs\\Python\\Python310\\lib\\site-packages\\lightning\\pytorch\\core\\module.py:1552\u001b[0m, in \u001b[0;36mLightningModule.load_from_checkpoint\u001b[1;34m(cls, checkpoint_path, map_location, hparams_file, strict, **kwargs)\u001b[0m\n\u001b[0;32m   1471\u001b[0m \u001b[39m@_restricted_classmethod\u001b[39m\n\u001b[0;32m   1472\u001b[0m \u001b[39mdef\u001b[39;00m \u001b[39mload_from_checkpoint\u001b[39m(\n\u001b[0;32m   1473\u001b[0m     \u001b[39mcls\u001b[39m,\n\u001b[1;32m   (...)\u001b[0m\n\u001b[0;32m   1478\u001b[0m     \u001b[39m*\u001b[39m\u001b[39m*\u001b[39mkwargs: Any,\n\u001b[0;32m   1479\u001b[0m ) \u001b[39m-\u001b[39m\u001b[39m>\u001b[39m Self:\n\u001b[0;32m   1480\u001b[0m \u001b[39m    \u001b[39m\u001b[39mr\u001b[39m\u001b[39m\"\"\"Primary way of loading a model from a checkpoint. When Lightning saves a checkpoint it stores the arguments\u001b[39;00m\n\u001b[0;32m   1481\u001b[0m \u001b[39m    passed to ``__init__``  in the checkpoint under ``\"hyper_parameters\"``.\u001b[39;00m\n\u001b[0;32m   1482\u001b[0m \n\u001b[1;32m   (...)\u001b[0m\n\u001b[0;32m   1550\u001b[0m \n\u001b[0;32m   1551\u001b[0m \u001b[39m    \"\"\"\u001b[39;00m\n\u001b[1;32m-> 1552\u001b[0m     loaded \u001b[39m=\u001b[39m _load_from_checkpoint(\n\u001b[0;32m   1553\u001b[0m         \u001b[39mcls\u001b[39m,  \u001b[39m# type: ignore[arg-type]\u001b[39;00m\n\u001b[0;32m   1554\u001b[0m         checkpoint_path,\n\u001b[0;32m   1555\u001b[0m         map_location,\n\u001b[0;32m   1556\u001b[0m         hparams_file,\n\u001b[0;32m   1557\u001b[0m         strict,\n\u001b[0;32m   1558\u001b[0m         \u001b[39m*\u001b[39m\u001b[39m*\u001b[39mkwargs,\n\u001b[0;32m   1559\u001b[0m     )\n\u001b[0;32m   1560\u001b[0m     \u001b[39mreturn\u001b[39;00m cast(Self, loaded)\n",
      "File \u001b[1;32mc:\\Users\\fardin\\AppData\\Local\\Programs\\Python\\Python310\\lib\\site-packages\\lightning\\pytorch\\core\\saving.py:89\u001b[0m, in \u001b[0;36m_load_from_checkpoint\u001b[1;34m(cls, checkpoint_path, map_location, hparams_file, strict, **kwargs)\u001b[0m\n\u001b[0;32m     87\u001b[0m     \u001b[39mreturn\u001b[39;00m _load_state(\u001b[39mcls\u001b[39m, checkpoint, \u001b[39m*\u001b[39m\u001b[39m*\u001b[39mkwargs)\n\u001b[0;32m     88\u001b[0m \u001b[39mif\u001b[39;00m \u001b[39missubclass\u001b[39m(\u001b[39mcls\u001b[39m, pl\u001b[39m.\u001b[39mLightningModule):\n\u001b[1;32m---> 89\u001b[0m     model \u001b[39m=\u001b[39m _load_state(\u001b[39mcls\u001b[39m, checkpoint, strict\u001b[39m=\u001b[39mstrict, \u001b[39m*\u001b[39m\u001b[39m*\u001b[39mkwargs)\n\u001b[0;32m     90\u001b[0m     state_dict \u001b[39m=\u001b[39m checkpoint[\u001b[39m\"\u001b[39m\u001b[39mstate_dict\u001b[39m\u001b[39m\"\u001b[39m]\n\u001b[0;32m     91\u001b[0m     \u001b[39mif\u001b[39;00m \u001b[39mnot\u001b[39;00m state_dict:\n",
      "File \u001b[1;32mc:\\Users\\fardin\\AppData\\Local\\Programs\\Python\\Python310\\lib\\site-packages\\lightning\\pytorch\\core\\saving.py:156\u001b[0m, in \u001b[0;36m_load_state\u001b[1;34m(cls, checkpoint, strict, **cls_kwargs_new)\u001b[0m\n\u001b[0;32m    152\u001b[0m \u001b[39mif\u001b[39;00m \u001b[39mnot\u001b[39;00m cls_spec\u001b[39m.\u001b[39mvarkw:\n\u001b[0;32m    153\u001b[0m     \u001b[39m# filter kwargs according to class init unless it allows any argument via kwargs\u001b[39;00m\n\u001b[0;32m    154\u001b[0m     _cls_kwargs \u001b[39m=\u001b[39m {k: v \u001b[39mfor\u001b[39;00m k, v \u001b[39min\u001b[39;00m _cls_kwargs\u001b[39m.\u001b[39mitems() \u001b[39mif\u001b[39;00m k \u001b[39min\u001b[39;00m cls_init_args_name}\n\u001b[1;32m--> 156\u001b[0m obj \u001b[39m=\u001b[39m \u001b[39mcls\u001b[39m(\u001b[39m*\u001b[39m\u001b[39m*\u001b[39m_cls_kwargs)\n\u001b[0;32m    158\u001b[0m \u001b[39mif\u001b[39;00m \u001b[39misinstance\u001b[39m(obj, pl\u001b[39m.\u001b[39mLightningModule):\n\u001b[0;32m    159\u001b[0m     \u001b[39m# give model a chance to load something\u001b[39;00m\n\u001b[0;32m    160\u001b[0m     obj\u001b[39m.\u001b[39mon_load_checkpoint(checkpoint)\n",
      "File \u001b[1;32mc:\\Users\\fardin\\Projects\\ColorIntelligence\\Scripts\\Models\\LightningModels\\LightningModels.py:224\u001b[0m, in \u001b[0;36mHeteroMultiClassLightningModel.__init__\u001b[1;34m(self, model, num_classes, optimizer, loss_func, learning_rate, batch_size, lr_scheduler, user_lr_scheduler, min_lr)\u001b[0m\n\u001b[0;32m    223\u001b[0m \u001b[39mdef\u001b[39;00m \u001b[39m__init__\u001b[39m(\u001b[39mself\u001b[39m, model, num_classes, optimizer\u001b[39m=\u001b[39m\u001b[39mNone\u001b[39;00m, loss_func\u001b[39m=\u001b[39m\u001b[39mNone\u001b[39;00m, learning_rate\u001b[39m=\u001b[39m\u001b[39m0.01\u001b[39m, batch_size\u001b[39m=\u001b[39m\u001b[39m64\u001b[39m, lr_scheduler\u001b[39m=\u001b[39m\u001b[39mNone\u001b[39;00m, user_lr_scheduler\u001b[39m=\u001b[39m\u001b[39mFalse\u001b[39;00m, min_lr\u001b[39m=\u001b[39m\u001b[39m0.0\u001b[39m):\n\u001b[1;32m--> 224\u001b[0m     \u001b[39msuper\u001b[39;49m(HeteroMultiClassLightningModel, \u001b[39mself\u001b[39;49m)\u001b[39m.\u001b[39;49m\u001b[39m__init__\u001b[39;49m(model, optimizer, loss_func, learning_rate, batch_size\u001b[39m=\u001b[39;49mbatch_size, lr_scheduler\u001b[39m=\u001b[39;49mlr_scheduler, user_lr_scheduler\u001b[39m=\u001b[39;49muser_lr_scheduler, min_lr\u001b[39m=\u001b[39;49mmin_lr)\n\u001b[0;32m    225\u001b[0m     \u001b[39mself\u001b[39m\u001b[39m.\u001b[39mtrain_acc \u001b[39m=\u001b[39m torchmetrics\u001b[39m.\u001b[39mAccuracy(task\u001b[39m=\u001b[39m\u001b[39m\"\u001b[39m\u001b[39mmulticlass\u001b[39m\u001b[39m\"\u001b[39m, num_classes\u001b[39m=\u001b[39mnum_classes)\n\u001b[0;32m    226\u001b[0m     \u001b[39mself\u001b[39m\u001b[39m.\u001b[39mval_acc \u001b[39m=\u001b[39m torchmetrics\u001b[39m.\u001b[39mAccuracy(task\u001b[39m=\u001b[39m\u001b[39m\"\u001b[39m\u001b[39mmulticlass\u001b[39m\u001b[39m\"\u001b[39m, num_classes\u001b[39m=\u001b[39mnum_classes)\n",
      "File \u001b[1;32mc:\\Users\\fardin\\Projects\\ColorIntelligence\\Scripts\\Models\\LightningModels\\LightningModels.py:19\u001b[0m, in \u001b[0;36mBaseLightningModel.__init__\u001b[1;34m(self, model, optimizer, loss_func, learning_rate, batch_size, lr_scheduler, user_lr_scheduler, min_lr)\u001b[0m\n\u001b[0;32m     17\u001b[0m \u001b[39mself\u001b[39m\u001b[39m.\u001b[39mmin_lr \u001b[39m=\u001b[39m min_lr\n\u001b[0;32m     18\u001b[0m \u001b[39m# self.save_hyperparameters(ignore=[\"model\"])\u001b[39;00m\n\u001b[1;32m---> 19\u001b[0m \u001b[39mself\u001b[39;49m\u001b[39m.\u001b[39;49msave_hyperparameters(\u001b[39m\"\u001b[39;49m\u001b[39mmodel\u001b[39;49m\u001b[39m\"\u001b[39;49m, logger\u001b[39m=\u001b[39;49m\u001b[39mFalse\u001b[39;49;00m)\n\u001b[0;32m     20\u001b[0m \u001b[39mself\u001b[39m\u001b[39m.\u001b[39moptimizer \u001b[39m=\u001b[39m \u001b[39mself\u001b[39m\u001b[39m.\u001b[39m_get_optimizer(optimizer)\n\u001b[0;32m     21\u001b[0m \u001b[39mself\u001b[39m\u001b[39m.\u001b[39mlr_scheduler \u001b[39m=\u001b[39m \u001b[39mself\u001b[39m\u001b[39m.\u001b[39m_get_lr_scheduler(lr_scheduler) \u001b[39mif\u001b[39;00m user_lr_scheduler \u001b[39melse\u001b[39;00m \u001b[39mNone\u001b[39;00m\n",
      "File \u001b[1;32mc:\\Users\\fardin\\AppData\\Local\\Programs\\Python\\Python310\\lib\\site-packages\\lightning\\pytorch\\core\\mixins\\hparams_mixin.py:112\u001b[0m, in \u001b[0;36mHyperparametersMixin.save_hyperparameters\u001b[1;34m(self, ignore, frame, logger, *args)\u001b[0m\n\u001b[0;32m    110\u001b[0m     \u001b[39mif\u001b[39;00m current_frame:\n\u001b[0;32m    111\u001b[0m         frame \u001b[39m=\u001b[39m current_frame\u001b[39m.\u001b[39mf_back\n\u001b[1;32m--> 112\u001b[0m save_hyperparameters(\u001b[39mself\u001b[39;49m, \u001b[39m*\u001b[39;49margs, ignore\u001b[39m=\u001b[39;49mignore, frame\u001b[39m=\u001b[39;49mframe)\n",
      "File \u001b[1;32mc:\\Users\\fardin\\AppData\\Local\\Programs\\Python\\Python310\\lib\\site-packages\\lightning\\pytorch\\utilities\\parsing.py:204\u001b[0m, in \u001b[0;36msave_hyperparameters\u001b[1;34m(obj, ignore, frame, *args)\u001b[0m\n\u001b[0;32m    198\u001b[0m         rank_zero_warn(\n\u001b[0;32m    199\u001b[0m             \u001b[39mf\u001b[39m\u001b[39m\"\u001b[39m\u001b[39mAttribute \u001b[39m\u001b[39m{\u001b[39;00mk\u001b[39m!r}\u001b[39;00m\u001b[39m is an instance of `nn.Module` and is already saved during checkpointing.\u001b[39m\u001b[39m\"\u001b[39m\n\u001b[0;32m    200\u001b[0m             \u001b[39mf\u001b[39m\u001b[39m\"\u001b[39m\u001b[39m It is recommended to ignore them using `self.save_hyperparameters(ignore=[\u001b[39m\u001b[39m{\u001b[39;00mk\u001b[39m!r}\u001b[39;00m\u001b[39m])`.\u001b[39m\u001b[39m\"\u001b[39m\n\u001b[0;32m    201\u001b[0m         )\n\u001b[0;32m    203\u001b[0m \u001b[39m# make a deep copy so there are no other runtime changes reflected\u001b[39;00m\n\u001b[1;32m--> 204\u001b[0m obj\u001b[39m.\u001b[39m_hparams_initial \u001b[39m=\u001b[39m copy\u001b[39m.\u001b[39;49mdeepcopy(obj\u001b[39m.\u001b[39;49m_hparams)\n",
      "File \u001b[1;32mc:\\Users\\fardin\\AppData\\Local\\Programs\\Python\\Python310\\lib\\copy.py:172\u001b[0m, in \u001b[0;36mdeepcopy\u001b[1;34m(x, memo, _nil)\u001b[0m\n\u001b[0;32m    170\u001b[0m                 y \u001b[39m=\u001b[39m x\n\u001b[0;32m    171\u001b[0m             \u001b[39melse\u001b[39;00m:\n\u001b[1;32m--> 172\u001b[0m                 y \u001b[39m=\u001b[39m _reconstruct(x, memo, \u001b[39m*\u001b[39;49mrv)\n\u001b[0;32m    174\u001b[0m \u001b[39m# If is its own copy, don't memoize.\u001b[39;00m\n\u001b[0;32m    175\u001b[0m \u001b[39mif\u001b[39;00m y \u001b[39mis\u001b[39;00m \u001b[39mnot\u001b[39;00m x:\n",
      "File \u001b[1;32mc:\\Users\\fardin\\AppData\\Local\\Programs\\Python\\Python310\\lib\\copy.py:297\u001b[0m, in \u001b[0;36m_reconstruct\u001b[1;34m(x, memo, func, args, state, listiter, dictiter, deepcopy)\u001b[0m\n\u001b[0;32m    295\u001b[0m     \u001b[39mfor\u001b[39;00m key, value \u001b[39min\u001b[39;00m dictiter:\n\u001b[0;32m    296\u001b[0m         key \u001b[39m=\u001b[39m deepcopy(key, memo)\n\u001b[1;32m--> 297\u001b[0m         value \u001b[39m=\u001b[39m deepcopy(value, memo)\n\u001b[0;32m    298\u001b[0m         y[key] \u001b[39m=\u001b[39m value\n\u001b[0;32m    299\u001b[0m \u001b[39melse\u001b[39;00m:\n",
      "File \u001b[1;32mc:\\Users\\fardin\\AppData\\Local\\Programs\\Python\\Python310\\lib\\copy.py:172\u001b[0m, in \u001b[0;36mdeepcopy\u001b[1;34m(x, memo, _nil)\u001b[0m\n\u001b[0;32m    170\u001b[0m                 y \u001b[39m=\u001b[39m x\n\u001b[0;32m    171\u001b[0m             \u001b[39melse\u001b[39;00m:\n\u001b[1;32m--> 172\u001b[0m                 y \u001b[39m=\u001b[39m _reconstruct(x, memo, \u001b[39m*\u001b[39;49mrv)\n\u001b[0;32m    174\u001b[0m \u001b[39m# If is its own copy, don't memoize.\u001b[39;00m\n\u001b[0;32m    175\u001b[0m \u001b[39mif\u001b[39;00m y \u001b[39mis\u001b[39;00m \u001b[39mnot\u001b[39;00m x:\n",
      "File \u001b[1;32mc:\\Users\\fardin\\AppData\\Local\\Programs\\Python\\Python310\\lib\\copy.py:271\u001b[0m, in \u001b[0;36m_reconstruct\u001b[1;34m(x, memo, func, args, state, listiter, dictiter, deepcopy)\u001b[0m\n\u001b[0;32m    269\u001b[0m \u001b[39mif\u001b[39;00m state \u001b[39mis\u001b[39;00m \u001b[39mnot\u001b[39;00m \u001b[39mNone\u001b[39;00m:\n\u001b[0;32m    270\u001b[0m     \u001b[39mif\u001b[39;00m deep:\n\u001b[1;32m--> 271\u001b[0m         state \u001b[39m=\u001b[39m deepcopy(state, memo)\n\u001b[0;32m    272\u001b[0m     \u001b[39mif\u001b[39;00m \u001b[39mhasattr\u001b[39m(y, \u001b[39m'\u001b[39m\u001b[39m__setstate__\u001b[39m\u001b[39m'\u001b[39m):\n\u001b[0;32m    273\u001b[0m         y\u001b[39m.\u001b[39m__setstate__(state)\n",
      "File \u001b[1;32mc:\\Users\\fardin\\AppData\\Local\\Programs\\Python\\Python310\\lib\\copy.py:146\u001b[0m, in \u001b[0;36mdeepcopy\u001b[1;34m(x, memo, _nil)\u001b[0m\n\u001b[0;32m    144\u001b[0m copier \u001b[39m=\u001b[39m _deepcopy_dispatch\u001b[39m.\u001b[39mget(\u001b[39mcls\u001b[39m)\n\u001b[0;32m    145\u001b[0m \u001b[39mif\u001b[39;00m copier \u001b[39mis\u001b[39;00m \u001b[39mnot\u001b[39;00m \u001b[39mNone\u001b[39;00m:\n\u001b[1;32m--> 146\u001b[0m     y \u001b[39m=\u001b[39m copier(x, memo)\n\u001b[0;32m    147\u001b[0m \u001b[39melse\u001b[39;00m:\n\u001b[0;32m    148\u001b[0m     \u001b[39mif\u001b[39;00m \u001b[39missubclass\u001b[39m(\u001b[39mcls\u001b[39m, \u001b[39mtype\u001b[39m):\n",
      "File \u001b[1;32mc:\\Users\\fardin\\AppData\\Local\\Programs\\Python\\Python310\\lib\\copy.py:231\u001b[0m, in \u001b[0;36m_deepcopy_dict\u001b[1;34m(x, memo, deepcopy)\u001b[0m\n\u001b[0;32m    229\u001b[0m memo[\u001b[39mid\u001b[39m(x)] \u001b[39m=\u001b[39m y\n\u001b[0;32m    230\u001b[0m \u001b[39mfor\u001b[39;00m key, value \u001b[39min\u001b[39;00m x\u001b[39m.\u001b[39mitems():\n\u001b[1;32m--> 231\u001b[0m     y[deepcopy(key, memo)] \u001b[39m=\u001b[39m deepcopy(value, memo)\n\u001b[0;32m    232\u001b[0m \u001b[39mreturn\u001b[39;00m y\n",
      "File \u001b[1;32mc:\\Users\\fardin\\AppData\\Local\\Programs\\Python\\Python310\\lib\\copy.py:146\u001b[0m, in \u001b[0;36mdeepcopy\u001b[1;34m(x, memo, _nil)\u001b[0m\n\u001b[0;32m    144\u001b[0m copier \u001b[39m=\u001b[39m _deepcopy_dispatch\u001b[39m.\u001b[39mget(\u001b[39mcls\u001b[39m)\n\u001b[0;32m    145\u001b[0m \u001b[39mif\u001b[39;00m copier \u001b[39mis\u001b[39;00m \u001b[39mnot\u001b[39;00m \u001b[39mNone\u001b[39;00m:\n\u001b[1;32m--> 146\u001b[0m     y \u001b[39m=\u001b[39m copier(x, memo)\n\u001b[0;32m    147\u001b[0m \u001b[39melse\u001b[39;00m:\n\u001b[0;32m    148\u001b[0m     \u001b[39mif\u001b[39;00m \u001b[39missubclass\u001b[39m(\u001b[39mcls\u001b[39m, \u001b[39mtype\u001b[39m):\n",
      "File \u001b[1;32mc:\\Users\\fardin\\AppData\\Local\\Programs\\Python\\Python310\\lib\\copy.py:231\u001b[0m, in \u001b[0;36m_deepcopy_dict\u001b[1;34m(x, memo, deepcopy)\u001b[0m\n\u001b[0;32m    229\u001b[0m memo[\u001b[39mid\u001b[39m(x)] \u001b[39m=\u001b[39m y\n\u001b[0;32m    230\u001b[0m \u001b[39mfor\u001b[39;00m key, value \u001b[39min\u001b[39;00m x\u001b[39m.\u001b[39mitems():\n\u001b[1;32m--> 231\u001b[0m     y[deepcopy(key, memo)] \u001b[39m=\u001b[39m deepcopy(value, memo)\n\u001b[0;32m    232\u001b[0m \u001b[39mreturn\u001b[39;00m y\n",
      "File \u001b[1;32mc:\\Users\\fardin\\AppData\\Local\\Programs\\Python\\Python310\\lib\\copy.py:153\u001b[0m, in \u001b[0;36mdeepcopy\u001b[1;34m(x, memo, _nil)\u001b[0m\n\u001b[0;32m    151\u001b[0m copier \u001b[39m=\u001b[39m \u001b[39mgetattr\u001b[39m(x, \u001b[39m\"\u001b[39m\u001b[39m__deepcopy__\u001b[39m\u001b[39m\"\u001b[39m, \u001b[39mNone\u001b[39;00m)\n\u001b[0;32m    152\u001b[0m \u001b[39mif\u001b[39;00m copier \u001b[39mis\u001b[39;00m \u001b[39mnot\u001b[39;00m \u001b[39mNone\u001b[39;00m:\n\u001b[1;32m--> 153\u001b[0m     y \u001b[39m=\u001b[39m copier(memo)\n\u001b[0;32m    154\u001b[0m \u001b[39melse\u001b[39;00m:\n\u001b[0;32m    155\u001b[0m     reductor \u001b[39m=\u001b[39m dispatch_table\u001b[39m.\u001b[39mget(\u001b[39mcls\u001b[39m)\n",
      "File \u001b[1;32mc:\\Users\\fardin\\AppData\\Local\\Programs\\Python\\Python310\\lib\\site-packages\\torch\\_tensor.py:86\u001b[0m, in \u001b[0;36mTensor.__deepcopy__\u001b[1;34m(self, memo)\u001b[0m\n\u001b[0;32m     84\u001b[0m     \u001b[39mreturn\u001b[39;00m handle_torch_function(Tensor\u001b[39m.\u001b[39m__deepcopy__, (\u001b[39mself\u001b[39m,), \u001b[39mself\u001b[39m, memo)\n\u001b[0;32m     85\u001b[0m \u001b[39mif\u001b[39;00m \u001b[39mnot\u001b[39;00m \u001b[39mself\u001b[39m\u001b[39m.\u001b[39mis_leaf:\n\u001b[1;32m---> 86\u001b[0m     \u001b[39mraise\u001b[39;00m \u001b[39mRuntimeError\u001b[39;00m(\n\u001b[0;32m     87\u001b[0m         \u001b[39m\"\u001b[39m\u001b[39mOnly Tensors created explicitly by the user \u001b[39m\u001b[39m\"\u001b[39m\n\u001b[0;32m     88\u001b[0m         \u001b[39m\"\u001b[39m\u001b[39m(graph leaves) support the deepcopy protocol at the moment\u001b[39m\u001b[39m\"\u001b[39m\n\u001b[0;32m     89\u001b[0m     )\n\u001b[0;32m     90\u001b[0m \u001b[39mif\u001b[39;00m \u001b[39mid\u001b[39m(\u001b[39mself\u001b[39m) \u001b[39min\u001b[39;00m memo:\n\u001b[0;32m     91\u001b[0m     \u001b[39mreturn\u001b[39;00m memo[\u001b[39mid\u001b[39m(\u001b[39mself\u001b[39m)]\n",
      "\u001b[1;31mRuntimeError\u001b[0m: Only Tensors created explicitly by the user (graph leaves) support the deepcopy protocol at the moment"
     ]
    }
   ],
   "source": [
    "optimizer = torch.optim.Adam(graph_embedding.parameters(), lr=0.001, weight_decay=0.0005)\n",
    "lr_scheduler = torch.optim.lr_scheduler.MultiStepLR(optimizer, milestones=[5, 15, 35], gamma=0.5, verbose=True)\n",
    "lightning_model = HeteroMultiClassLightningModel.load_from_checkpoint(r'logs\\hetero_model_16_AG\\version_12\\checkpoints\\epoch=137-step=60858.ckpt', \n",
    "                                    model=graph_embedding,\n",
    "                                    num_classes=4)\n",
    "        \n",
    "save_evaluation(model_manager, lightning_model, data_manager.test_dataloader(), 'chpt_1',True, True, True, True, True, True, True, multi_class=True)"
   ]
  },
  {
   "cell_type": "code",
   "execution_count": null,
   "metadata": {},
   "outputs": [
    {
     "name": "stdout",
     "output_type": "stream",
     "text": [
      "bbbb\n"
     ]
    },
    {
     "name": "stderr",
     "output_type": "stream",
     "text": [
      "c:\\Users\\fardin\\AppData\\Local\\Programs\\Python\\Python310\\lib\\site-packages\\lightning\\pytorch\\callbacks\\model_checkpoint.py:630: Checkpoint directory logs/hetero_model_16_AG\\version_12\\checkpoints exists and is not empty.\n",
      "LOCAL_RANK: 0 - CUDA_VISIBLE_DEVICES: [0]\n",
      "\n",
      "  | Name      | Type                      | Params\n",
      "--------------------------------------------------------\n",
      "0 | model     | HeteroDeepGraphEmbedding5 | 4.0 M \n",
      "1 | loss_func | MulticlassHeteroLoss1     | 0     \n",
      "2 | train_acc | MulticlassAccuracy        | 0     \n",
      "3 | val_acc   | MulticlassAccuracy        | 0     \n",
      "4 | test_acc  | MulticlassAccuracy        | 0     \n",
      "--------------------------------------------------------\n",
      "4.0 M     Trainable params\n",
      "11        Non-trainable params\n",
      "4.0 M     Total params\n",
      "15.957    Total estimated model params size (MB)\n",
      "c:\\Users\\fardin\\AppData\\Local\\Programs\\Python\\Python310\\lib\\site-packages\\lightning\\pytorch\\trainer\\connectors\\data_connector.py:441: The 'train_dataloader' does not have many workers which may be a bottleneck. Consider increasing the value of the `num_workers` argument` to `num_workers=7` in the `DataLoader` to improve performance.\n",
      "`Trainer.fit` stopped: `max_epochs=150` reached.\n"
     ]
    }
   ],
   "source": [
    "model_manager.trainer.fit_loop.max_epochs=100\n",
    "model_manager.trainer.fit_loop.max_steps=-1\n",
    "\n",
    "model_manager.fit(datamodule=data_manager)"
   ]
  },
  {
   "cell_type": "code",
   "execution_count": null,
   "metadata": {},
   "outputs": [
    {
     "data": {
      "text/plain": [
       "(tensor([[ 0.0119, -5.3836, -0.8138,  5.6585],\n",
       "         [-0.5171, -1.4353, -1.7620,  3.3852],\n",
       "         [-0.5625, -3.4890,  0.5424,  3.2266],\n",
       "         ...,\n",
       "         [ 0.6585,  5.6110, -4.2732, -2.3721],\n",
       "         [ 7.6873, -8.2410, -0.7907,  0.7995],\n",
       "         [-1.3680, -2.5770,  2.6620,  0.9521]], grad_fn=<AddmmBackward0>),\n",
       " {'dep': tensor([[0.0001, 0.0001, 0.0002,  ..., 0.0001, 0.0001, 0.0001],\n",
       "          [0.0001, 0.0001, 0.0002,  ..., 0.0001, 0.0001, 0.0001],\n",
       "          [0.0001, 0.0001, 0.0002,  ..., 0.0001, 0.0001, 0.0001],\n",
       "          ...,\n",
       "          [0.0001, 0.0001, 0.0002,  ..., 0.0001, 0.0001, 0.0001],\n",
       "          [0.0001, 0.0001, 0.0002,  ..., 0.0001, 0.0001, 0.0001],\n",
       "          [0.0001, 0.0001, 0.0002,  ..., 0.0001, 0.0001, 0.0001]],\n",
       "         grad_fn=<LeakyReluBackward0>),\n",
       "  'tag': tensor([[0.0002, 0.0001, 0.0001,  ..., 0.0001, 0.0002, 0.0001],\n",
       "          [0.0002, 0.0001, 0.0001,  ..., 0.0001, 0.0002, 0.0001],\n",
       "          [0.0002, 0.0001, 0.0001,  ..., 0.0001, 0.0002, 0.0001],\n",
       "          ...,\n",
       "          [0.0002, 0.0001, 0.0001,  ..., 0.0001, 0.0002, 0.0001],\n",
       "          [0.0002, 0.0001, 0.0001,  ..., 0.0001, 0.0002, 0.0001],\n",
       "          [0.0002, 0.0001, 0.0001,  ..., 0.0001, 0.0002, 0.0001]],\n",
       "         grad_fn=<LeakyReluBackward0>),\n",
       "  'word': tensor([[-8.3624e-10, -1.4995e-06, -5.6206e-05,  ..., -1.2815e-05,\n",
       "           -2.5155e-05, -1.9013e-04],\n",
       "          [-8.3564e-10, -1.4995e-06, -5.5561e-05,  ..., -1.2815e-05,\n",
       "           -2.5155e-05, -2.0035e-04],\n",
       "          [-8.3630e-10, -1.4995e-06, -5.6257e-05,  ..., -1.2815e-05,\n",
       "           -2.5155e-05, -1.8585e-04],\n",
       "          ...,\n",
       "          [-8.3485e-10, -1.4995e-06, -5.4256e-05,  ..., -1.2815e-05,\n",
       "           -2.5175e-05, -2.0519e-04],\n",
       "          [-8.3587e-10, -1.4995e-06, -5.3494e-05,  ..., -1.2815e-05,\n",
       "           -2.5180e-05, -2.0784e-04],\n",
       "          [-8.3487e-10, -1.4995e-06, -5.4057e-05,  ..., -1.2815e-05,\n",
       "           -2.5185e-05, -2.2825e-04]], grad_fn=<LeakyReluBackward0>),\n",
       "  'sentence': tensor([[-1.4411e-06, -2.4402e-06, -4.5742e-06,  ..., -4.5547e-06,\n",
       "           -3.7090e-06, -1.8848e-06],\n",
       "          [-1.4411e-06, -2.4402e-06, -4.5742e-06,  ..., -4.5547e-06,\n",
       "           -3.7090e-06, -1.8848e-06],\n",
       "          [-1.4411e-06, -2.4402e-06, -4.5742e-06,  ..., -4.5547e-06,\n",
       "           -3.7090e-06, -1.8848e-06],\n",
       "          ...,\n",
       "          [-1.4411e-06, -2.4402e-06, -4.5742e-06,  ..., -4.5547e-06,\n",
       "           -3.7090e-06, -1.8848e-06],\n",
       "          [-1.4411e-06, -2.4402e-06, -4.5742e-06,  ..., -4.5547e-06,\n",
       "           -3.7090e-06, -1.8848e-06],\n",
       "          [-1.4411e-06, -2.4402e-06, -4.5742e-06,  ..., -4.5547e-06,\n",
       "           -3.7090e-06, -1.8848e-06]], grad_fn=<LeakyReluBackward0>),\n",
       "  'general': tensor([[-2.3910e-09, -2.8331e-09, -4.9660e-09,  ..., -1.3906e-09,\n",
       "           -2.3724e-09, -6.7416e-09],\n",
       "          [-2.3910e-09, -2.8331e-09, -4.9660e-09,  ..., -1.3906e-09,\n",
       "           -2.3724e-09, -6.7416e-09],\n",
       "          [-2.3910e-09, -2.8331e-09, -4.9660e-09,  ..., -1.3906e-09,\n",
       "           -2.3724e-09, -6.7416e-09],\n",
       "          ...,\n",
       "          [-2.3910e-09, -2.8331e-09, -4.9660e-09,  ..., -1.3906e-09,\n",
       "           -2.3724e-09, -6.7416e-09],\n",
       "          [-2.3910e-09, -2.8331e-09, -4.9660e-09,  ..., -1.3906e-09,\n",
       "           -2.3724e-09, -6.7416e-09],\n",
       "          [-2.3910e-09, -2.8331e-09, -4.9660e-09,  ..., -1.3906e-09,\n",
       "           -2.3724e-09, -6.7416e-09]], grad_fn=<LeakyReluBackward0>),\n",
       "  'sentiment': tensor([[3.3841e-07, 3.4982e-07, 3.4607e-07,  ..., 3.4354e-07, 3.2905e-07,\n",
       "           3.3683e-07],\n",
       "          [3.3846e-07, 3.4982e-07, 3.4610e-07,  ..., 3.4354e-07, 3.2905e-07,\n",
       "           3.3681e-07],\n",
       "          [3.3841e-07, 3.4982e-07, 3.4607e-07,  ..., 3.4354e-07, 3.2905e-07,\n",
       "           3.3683e-07],\n",
       "          ...,\n",
       "          [3.3841e-07, 3.4982e-07, 3.4607e-07,  ..., 3.4354e-07, 3.2905e-07,\n",
       "           3.3683e-07],\n",
       "          [3.3846e-07, 3.4982e-07, 3.4609e-07,  ..., 3.4354e-07, 3.2905e-07,\n",
       "           3.3689e-07],\n",
       "          [3.3845e-07, 3.4982e-07, 3.4618e-07,  ..., 3.4354e-07, 3.2905e-07,\n",
       "           3.3676e-07]], grad_fn=<LeakyReluBackward0>)})"
      ]
     },
     "execution_count": 20,
     "metadata": {},
     "output_type": "execute_result"
    }
   ],
   "source": [
    "\n",
    "model_manager.trainer.model.eval()\n",
    "model_manager.trainer.model(X3)"
   ]
  },
  {
   "cell_type": "code",
   "execution_count": null,
   "metadata": {},
   "outputs": [
    {
     "ename": "RuntimeError",
     "evalue": "Expected all tensors to be on the same device, but found at least two devices, cpu and cuda:0! (when checking argument for argument index in method wrapper_CUDA__index_select)",
     "output_type": "error",
     "traceback": [
      "\u001b[1;31m---------------------------------------------------------------------------\u001b[0m",
      "\u001b[1;31mRuntimeError\u001b[0m                              Traceback (most recent call last)",
      "\u001b[1;32mc:\\Users\\fardin\\Projects\\ColorIntelligence\\Practices\\Tasks\\Tests\\4_SentimentClassificationOnNews.ipynb Cell 21\u001b[0m line \u001b[0;36m6\n\u001b[0;32m      <a href='vscode-notebook-cell:/c%3A/Users/fardin/Projects/ColorIntelligence/Practices/Tasks/Tests/4_SentimentClassificationOnNews.ipynb#X26sZmlsZQ%3D%3D?line=3'>4</a>\u001b[0m model_manager\u001b[39m.\u001b[39mtrainer\u001b[39m.\u001b[39mmodel\u001b[39m.\u001b[39meval()\n\u001b[0;32m      <a href='vscode-notebook-cell:/c%3A/Users/fardin/Projects/ColorIntelligence/Practices/Tasks/Tests/4_SentimentClassificationOnNews.ipynb#X26sZmlsZQ%3D%3D?line=4'>5</a>\u001b[0m \u001b[39mwith\u001b[39;00m torch\u001b[39m.\u001b[39mno_grad():\n\u001b[1;32m----> <a href='vscode-notebook-cell:/c%3A/Users/fardin/Projects/ColorIntelligence/Practices/Tasks/Tests/4_SentimentClassificationOnNews.ipynb#X26sZmlsZQ%3D%3D?line=5'>6</a>\u001b[0m     y1_pred \u001b[39m=\u001b[39m model_manager\u001b[39m.\u001b[39;49mtrainer\u001b[39m.\u001b[39;49mmodel(X1\u001b[39m.\u001b[39;49mto(device))\n\u001b[0;32m      <a href='vscode-notebook-cell:/c%3A/Users/fardin/Projects/ColorIntelligence/Practices/Tasks/Tests/4_SentimentClassificationOnNews.ipynb#X26sZmlsZQ%3D%3D?line=6'>7</a>\u001b[0m acc \u001b[39m=\u001b[39m model_manager\u001b[39m.\u001b[39mlightning_model\u001b[39m.\u001b[39mtrain_acc(torch\u001b[39m.\u001b[39margmax(y1_pred[\u001b[39m0\u001b[39m], dim\u001b[39m=\u001b[39m\u001b[39m1\u001b[39m), torch\u001b[39m.\u001b[39margmax(y1\u001b[39m.\u001b[39mto(device), dim\u001b[39m=\u001b[39m\u001b[39m1\u001b[39m))\n\u001b[0;32m      <a href='vscode-notebook-cell:/c%3A/Users/fardin/Projects/ColorIntelligence/Practices/Tasks/Tests/4_SentimentClassificationOnNews.ipynb#X26sZmlsZQ%3D%3D?line=7'>8</a>\u001b[0m \u001b[39mprint\u001b[39m(acc)\n",
      "File \u001b[1;32mc:\\Users\\fardin\\AppData\\Local\\Programs\\Python\\Python310\\lib\\site-packages\\torch\\nn\\modules\\module.py:1501\u001b[0m, in \u001b[0;36mModule._call_impl\u001b[1;34m(self, *args, **kwargs)\u001b[0m\n\u001b[0;32m   1496\u001b[0m \u001b[39m# If we don't have any hooks, we want to skip the rest of the logic in\u001b[39;00m\n\u001b[0;32m   1497\u001b[0m \u001b[39m# this function, and just call forward.\u001b[39;00m\n\u001b[0;32m   1498\u001b[0m \u001b[39mif\u001b[39;00m \u001b[39mnot\u001b[39;00m (\u001b[39mself\u001b[39m\u001b[39m.\u001b[39m_backward_hooks \u001b[39mor\u001b[39;00m \u001b[39mself\u001b[39m\u001b[39m.\u001b[39m_backward_pre_hooks \u001b[39mor\u001b[39;00m \u001b[39mself\u001b[39m\u001b[39m.\u001b[39m_forward_hooks \u001b[39mor\u001b[39;00m \u001b[39mself\u001b[39m\u001b[39m.\u001b[39m_forward_pre_hooks\n\u001b[0;32m   1499\u001b[0m         \u001b[39mor\u001b[39;00m _global_backward_pre_hooks \u001b[39mor\u001b[39;00m _global_backward_hooks\n\u001b[0;32m   1500\u001b[0m         \u001b[39mor\u001b[39;00m _global_forward_hooks \u001b[39mor\u001b[39;00m _global_forward_pre_hooks):\n\u001b[1;32m-> 1501\u001b[0m     \u001b[39mreturn\u001b[39;00m forward_call(\u001b[39m*\u001b[39margs, \u001b[39m*\u001b[39m\u001b[39m*\u001b[39mkwargs)\n\u001b[0;32m   1502\u001b[0m \u001b[39m# Do not call functions when jit is used\u001b[39;00m\n\u001b[0;32m   1503\u001b[0m full_backward_hooks, non_full_backward_hooks \u001b[39m=\u001b[39m [], [] \n",
      "File \u001b[1;32mc:\\Users\\fardin\\Projects\\ColorIntelligence\\Scripts\\Models\\LightningModels\\LightningModels.py:25\u001b[0m, in \u001b[0;36mBaseLightningModel.forward\u001b[1;34m(self, data_batch, *args, **kwargs)\u001b[0m\n\u001b[0;32m     24\u001b[0m \u001b[39mdef\u001b[39;00m \u001b[39mforward\u001b[39m(\u001b[39mself\u001b[39m, data_batch, \u001b[39m*\u001b[39margs, \u001b[39m*\u001b[39m\u001b[39m*\u001b[39mkwargs):\n\u001b[1;32m---> 25\u001b[0m     \u001b[39mreturn\u001b[39;00m \u001b[39mself\u001b[39;49m\u001b[39m.\u001b[39;49mmodel(data_batch)\n",
      "File \u001b[1;32mc:\\Users\\fardin\\AppData\\Local\\Programs\\Python\\Python310\\lib\\site-packages\\torch\\nn\\modules\\module.py:1501\u001b[0m, in \u001b[0;36mModule._call_impl\u001b[1;34m(self, *args, **kwargs)\u001b[0m\n\u001b[0;32m   1496\u001b[0m \u001b[39m# If we don't have any hooks, we want to skip the rest of the logic in\u001b[39;00m\n\u001b[0;32m   1497\u001b[0m \u001b[39m# this function, and just call forward.\u001b[39;00m\n\u001b[0;32m   1498\u001b[0m \u001b[39mif\u001b[39;00m \u001b[39mnot\u001b[39;00m (\u001b[39mself\u001b[39m\u001b[39m.\u001b[39m_backward_hooks \u001b[39mor\u001b[39;00m \u001b[39mself\u001b[39m\u001b[39m.\u001b[39m_backward_pre_hooks \u001b[39mor\u001b[39;00m \u001b[39mself\u001b[39m\u001b[39m.\u001b[39m_forward_hooks \u001b[39mor\u001b[39;00m \u001b[39mself\u001b[39m\u001b[39m.\u001b[39m_forward_pre_hooks\n\u001b[0;32m   1499\u001b[0m         \u001b[39mor\u001b[39;00m _global_backward_pre_hooks \u001b[39mor\u001b[39;00m _global_backward_hooks\n\u001b[0;32m   1500\u001b[0m         \u001b[39mor\u001b[39;00m _global_forward_hooks \u001b[39mor\u001b[39;00m _global_forward_pre_hooks):\n\u001b[1;32m-> 1501\u001b[0m     \u001b[39mreturn\u001b[39;00m forward_call(\u001b[39m*\u001b[39margs, \u001b[39m*\u001b[39m\u001b[39m*\u001b[39mkwargs)\n\u001b[0;32m   1502\u001b[0m \u001b[39m# Do not call functions when jit is used\u001b[39;00m\n\u001b[0;32m   1503\u001b[0m full_backward_hooks, non_full_backward_hooks \u001b[39m=\u001b[39m [], [] \n",
      "\u001b[1;32mc:\\Users\\fardin\\Projects\\ColorIntelligence\\Practices\\Tasks\\Tests\\4_SentimentClassificationOnNews.ipynb Cell 21\u001b[0m line \u001b[0;36m6\n\u001b[0;32m     <a href='vscode-notebook-cell:/c%3A/Users/fardin/Projects/ColorIntelligence/Practices/Tasks/Tests/4_SentimentClassificationOnNews.ipynb#X26sZmlsZQ%3D%3D?line=61'>62</a>\u001b[0m \u001b[39mself\u001b[39m\u001b[39m.\u001b[39mx_batches_cpu \u001b[39m=\u001b[39m {k:\u001b[39mself\u001b[39m\u001b[39m.\u001b[39mx_batches[k]\u001b[39m.\u001b[39mto(\u001b[39m'\u001b[39m\u001b[39mcpu\u001b[39m\u001b[39m'\u001b[39m) \u001b[39mfor\u001b[39;00m k \u001b[39min\u001b[39;00m \u001b[39mself\u001b[39m\u001b[39m.\u001b[39mactive_keys}\n\u001b[0;32m     <a href='vscode-notebook-cell:/c%3A/Users/fardin/Projects/ColorIntelligence/Practices/Tasks/Tests/4_SentimentClassificationOnNews.ipynb#X26sZmlsZQ%3D%3D?line=62'>63</a>\u001b[0m \u001b[39mself\u001b[39m\u001b[39m.\u001b[39mmodel_logger[\u001b[39m1\u001b[39m] \u001b[39m=\u001b[39m \u001b[39m1\u001b[39m\n\u001b[1;32m---> <a href='vscode-notebook-cell:/c%3A/Users/fardin/Projects/ColorIntelligence/Practices/Tasks/Tests/4_SentimentClassificationOnNews.ipynb#X26sZmlsZQ%3D%3D?line=63'>64</a>\u001b[0m x_dict, edge_attr_dict, edge_index_dict \u001b[39m=\u001b[39m \u001b[39mself\u001b[39;49m\u001b[39m.\u001b[39;49mpreprocess_data(x)\n\u001b[0;32m     <a href='vscode-notebook-cell:/c%3A/Users/fardin/Projects/ColorIntelligence/Practices/Tasks/Tests/4_SentimentClassificationOnNews.ipynb#X26sZmlsZQ%3D%3D?line=64'>65</a>\u001b[0m \u001b[39mself\u001b[39m\u001b[39m.\u001b[39mmodel_logger[\u001b[39m2\u001b[39m] \u001b[39m=\u001b[39m \u001b[39m1\u001b[39m\n\u001b[0;32m     <a href='vscode-notebook-cell:/c%3A/Users/fardin/Projects/ColorIntelligence/Practices/Tasks/Tests/4_SentimentClassificationOnNews.ipynb#X26sZmlsZQ%3D%3D?line=65'>66</a>\u001b[0m edge_attr_dict \u001b[39m=\u001b[39m \u001b[39mself\u001b[39m\u001b[39m.\u001b[39mupdate_weights(edge_attr_dict, \u001b[39mself\u001b[39m\u001b[39m.\u001b[39mpw1)\n",
      "\u001b[1;32mc:\\Users\\fardin\\Projects\\ColorIntelligence\\Practices\\Tasks\\Tests\\4_SentimentClassificationOnNews.ipynb Cell 21\u001b[0m line \u001b[0;36m9\n\u001b[0;32m     <a href='vscode-notebook-cell:/c%3A/Users/fardin/Projects/ColorIntelligence/Practices/Tasks/Tests/4_SentimentClassificationOnNews.ipynb#X26sZmlsZQ%3D%3D?line=92'>93</a>\u001b[0m x_dict \u001b[39m=\u001b[39m {key: x\u001b[39m.\u001b[39mx_dict[key] \u001b[39mfor\u001b[39;00m key \u001b[39min\u001b[39;00m x\u001b[39m.\u001b[39mx_dict}\n\u001b[0;32m     <a href='vscode-notebook-cell:/c%3A/Users/fardin/Projects/ColorIntelligence/Practices/Tasks/Tests/4_SentimentClassificationOnNews.ipynb#X26sZmlsZQ%3D%3D?line=93'>94</a>\u001b[0m \u001b[39mif\u001b[39;00m \u001b[39m'\u001b[39m\u001b[39mdep\u001b[39m\u001b[39m'\u001b[39m \u001b[39min\u001b[39;00m x_dict:\n\u001b[1;32m---> <a href='vscode-notebook-cell:/c%3A/Users/fardin/Projects/ColorIntelligence/Practices/Tasks/Tests/4_SentimentClassificationOnNews.ipynb#X26sZmlsZQ%3D%3D?line=94'>95</a>\u001b[0m     x_dict[\u001b[39m'\u001b[39m\u001b[39mdep\u001b[39m\u001b[39m'\u001b[39m] \u001b[39m=\u001b[39m \u001b[39mself\u001b[39;49m\u001b[39m.\u001b[39;49mdep_embedding(x_dict[\u001b[39m'\u001b[39;49m\u001b[39mdep\u001b[39;49m\u001b[39m'\u001b[39;49m])\n\u001b[0;32m     <a href='vscode-notebook-cell:/c%3A/Users/fardin/Projects/ColorIntelligence/Practices/Tasks/Tests/4_SentimentClassificationOnNews.ipynb#X26sZmlsZQ%3D%3D?line=95'>96</a>\u001b[0m \u001b[39mif\u001b[39;00m \u001b[39m'\u001b[39m\u001b[39mtag\u001b[39m\u001b[39m'\u001b[39m \u001b[39min\u001b[39;00m x_dict:\n\u001b[0;32m     <a href='vscode-notebook-cell:/c%3A/Users/fardin/Projects/ColorIntelligence/Practices/Tasks/Tests/4_SentimentClassificationOnNews.ipynb#X26sZmlsZQ%3D%3D?line=96'>97</a>\u001b[0m     x_dict[\u001b[39m'\u001b[39m\u001b[39mtag\u001b[39m\u001b[39m'\u001b[39m] \u001b[39m=\u001b[39m \u001b[39mself\u001b[39m\u001b[39m.\u001b[39mtag_embedding(x_dict[\u001b[39m'\u001b[39m\u001b[39mtag\u001b[39m\u001b[39m'\u001b[39m])\n",
      "File \u001b[1;32mc:\\Users\\fardin\\AppData\\Local\\Programs\\Python\\Python310\\lib\\site-packages\\torch\\nn\\modules\\module.py:1501\u001b[0m, in \u001b[0;36mModule._call_impl\u001b[1;34m(self, *args, **kwargs)\u001b[0m\n\u001b[0;32m   1496\u001b[0m \u001b[39m# If we don't have any hooks, we want to skip the rest of the logic in\u001b[39;00m\n\u001b[0;32m   1497\u001b[0m \u001b[39m# this function, and just call forward.\u001b[39;00m\n\u001b[0;32m   1498\u001b[0m \u001b[39mif\u001b[39;00m \u001b[39mnot\u001b[39;00m (\u001b[39mself\u001b[39m\u001b[39m.\u001b[39m_backward_hooks \u001b[39mor\u001b[39;00m \u001b[39mself\u001b[39m\u001b[39m.\u001b[39m_backward_pre_hooks \u001b[39mor\u001b[39;00m \u001b[39mself\u001b[39m\u001b[39m.\u001b[39m_forward_hooks \u001b[39mor\u001b[39;00m \u001b[39mself\u001b[39m\u001b[39m.\u001b[39m_forward_pre_hooks\n\u001b[0;32m   1499\u001b[0m         \u001b[39mor\u001b[39;00m _global_backward_pre_hooks \u001b[39mor\u001b[39;00m _global_backward_hooks\n\u001b[0;32m   1500\u001b[0m         \u001b[39mor\u001b[39;00m _global_forward_hooks \u001b[39mor\u001b[39;00m _global_forward_pre_hooks):\n\u001b[1;32m-> 1501\u001b[0m     \u001b[39mreturn\u001b[39;00m forward_call(\u001b[39m*\u001b[39margs, \u001b[39m*\u001b[39m\u001b[39m*\u001b[39mkwargs)\n\u001b[0;32m   1502\u001b[0m \u001b[39m# Do not call functions when jit is used\u001b[39;00m\n\u001b[0;32m   1503\u001b[0m full_backward_hooks, non_full_backward_hooks \u001b[39m=\u001b[39m [], [] \n",
      "File \u001b[1;32mc:\\Users\\fardin\\AppData\\Local\\Programs\\Python\\Python310\\lib\\site-packages\\torch\\nn\\modules\\sparse.py:162\u001b[0m, in \u001b[0;36mEmbedding.forward\u001b[1;34m(self, input)\u001b[0m\n\u001b[0;32m    161\u001b[0m \u001b[39mdef\u001b[39;00m \u001b[39mforward\u001b[39m(\u001b[39mself\u001b[39m, \u001b[39minput\u001b[39m: Tensor) \u001b[39m-\u001b[39m\u001b[39m>\u001b[39m Tensor:\n\u001b[1;32m--> 162\u001b[0m     \u001b[39mreturn\u001b[39;00m F\u001b[39m.\u001b[39;49membedding(\n\u001b[0;32m    163\u001b[0m         \u001b[39minput\u001b[39;49m, \u001b[39mself\u001b[39;49m\u001b[39m.\u001b[39;49mweight, \u001b[39mself\u001b[39;49m\u001b[39m.\u001b[39;49mpadding_idx, \u001b[39mself\u001b[39;49m\u001b[39m.\u001b[39;49mmax_norm,\n\u001b[0;32m    164\u001b[0m         \u001b[39mself\u001b[39;49m\u001b[39m.\u001b[39;49mnorm_type, \u001b[39mself\u001b[39;49m\u001b[39m.\u001b[39;49mscale_grad_by_freq, \u001b[39mself\u001b[39;49m\u001b[39m.\u001b[39;49msparse)\n",
      "File \u001b[1;32mc:\\Users\\fardin\\AppData\\Local\\Programs\\Python\\Python310\\lib\\site-packages\\torch\\nn\\functional.py:2210\u001b[0m, in \u001b[0;36membedding\u001b[1;34m(input, weight, padding_idx, max_norm, norm_type, scale_grad_by_freq, sparse)\u001b[0m\n\u001b[0;32m   2204\u001b[0m     \u001b[39m# Note [embedding_renorm set_grad_enabled]\u001b[39;00m\n\u001b[0;32m   2205\u001b[0m     \u001b[39m# XXX: equivalent to\u001b[39;00m\n\u001b[0;32m   2206\u001b[0m     \u001b[39m# with torch.no_grad():\u001b[39;00m\n\u001b[0;32m   2207\u001b[0m     \u001b[39m#   torch.embedding_renorm_\u001b[39;00m\n\u001b[0;32m   2208\u001b[0m     \u001b[39m# remove once script supports set_grad_enabled\u001b[39;00m\n\u001b[0;32m   2209\u001b[0m     _no_grad_embedding_renorm_(weight, \u001b[39minput\u001b[39m, max_norm, norm_type)\n\u001b[1;32m-> 2210\u001b[0m \u001b[39mreturn\u001b[39;00m torch\u001b[39m.\u001b[39;49membedding(weight, \u001b[39minput\u001b[39;49m, padding_idx, scale_grad_by_freq, sparse)\n",
      "\u001b[1;31mRuntimeError\u001b[0m: Expected all tensors to be on the same device, but found at least two devices, cpu and cuda:0! (when checking argument for argument index in method wrapper_CUDA__index_select)"
     ]
    }
   ],
   "source": [
    "# t_dataloader = data_manager.train_dataloader()\n",
    "\n",
    "for X1, y1 in val_dataloader:\n",
    "    model_manager.trainer.model.eval()\n",
    "    with torch.no_grad():\n",
    "        y1_pred = model_manager.trainer.model(X1.to(device))\n",
    "    acc = model_manager.lightning_model.train_acc(torch.argmax(y1_pred[0], dim=1), torch.argmax(y1.to(device), dim=1))\n",
    "    print(acc)"
   ]
  },
  {
   "cell_type": "code",
   "execution_count": null,
   "metadata": {},
   "outputs": [
    {
     "data": {
      "text/plain": [
       "MulticlassAccuracy()"
      ]
     },
     "execution_count": 57,
     "metadata": {},
     "output_type": "execute_result"
    }
   ],
   "source": [
    "# X1, y1 = next(iter(t_dataloader))\n",
    "model_manager.lightning_model.train_acc"
   ]
  },
  {
   "cell_type": "code",
   "execution_count": null,
   "metadata": {},
   "outputs": [
    {
     "name": "stdout",
     "output_type": "stream",
     "text": [
      "torch.Size([6985, 4])\n",
      "torch.Size([6985, 4])\n",
      "torch.Size([6985])\n",
      "torch.Size([6985])\n",
      "test_acc: 0.881030797958374\n",
      "test_f1: 0.881030797958374\n",
      "test_precision: 0.881030797958374\n",
      "test_recall: 0.881030797958374\n",
      "test_confusion_m: \n",
      "tensor([[1530,   35,   45,   74],\n",
      "        [  37, 1632,    8,    9],\n",
      "        [ 136,   42, 1454,  114],\n",
      "        [  54,   39,  238, 1538]])\n"
     ]
    },
    {
     "data": {
      "image/png": "[encoded data removed]",
      "text/plain": [
       "<Figure size 640x480 with 1 Axes>"
      ]
     },
     "metadata": {},
     "output_type": "display_data"
    }
   ],
   "source": [
    "model_manager.save_plot_csv_logger(loss_names=['train_loss_epoch', 'val_loss'], eval_names=['train_acc_epoch', 'val_acc'], name_prepend=f'tests_{k}')\n",
    "model_manager.torch_model = model_manager.torch_model.to(device)\n",
    "save_evaluation(model_manager, data_manager.test_dataloader(), f'{k}',True, True, True, True, True, True, True, multi_class=True)"
   ]
  },
  {
   "cell_type": "code",
   "execution_count": null,
   "metadata": {},
   "outputs": [
    {
     "name": "stdout",
     "output_type": "stream",
     "text": [
      "test_acc: 0.6729172468185425\n",
      "test_f1: 0.6729172468185425\n",
      "test_precision: 0.6729172468185425\n",
      "test_recall: 0.6729172468185425\n",
      "test_confusion_m: \n",
      "tensor([[1699,  441,  676,  424],\n",
      "        [  17, 1312,   16,   26],\n",
      "        [  18,    8, 1111,  625],\n",
      "        [  10,    8,   16,  579]])\n"
     ]
    },
    {
     "data": {
      "image/png": "[encoded data removed]",
      "text/plain": [
       "<Figure size 640x480 with 1 Axes>"
      ]
     },
     "metadata": {},
     "output_type": "display_data"
    }
   ],
   "source": [
    "model_manager.save_plot_csv_logger(loss_names=['train_loss_epoch', 'val_loss'], eval_names=['train_acc_epoch', 'val_acc'], name_prepend=f'tests_{k}')\n",
    "model_manager.torch_model = model_manager.torch_model.to(device)\n",
    "save_evaluation(model_manager, data_manager.val_dataloader(), f'{k}',True, True, True, True, True, True, True, multi_class=True)"
   ]
  },
  {
   "cell_type": "code",
   "execution_count": null,
   "metadata": {},
   "outputs": [
    {
     "name": "stdout",
     "output_type": "stream",
     "text": [
      "test_acc: 0.6320773363113403\n",
      "test_f1: 0.6320773363113403\n",
      "test_precision: 0.6320773363113403\n",
      "test_recall: 0.6320773363113403\n",
      "test_confusion_m: \n",
      "tensor([[27739,  8801, 11597,  9042],\n",
      "        [  179, 19189,   332,   429],\n",
      "        [  223,   121, 15893, 10335],\n",
      "        [   79,    75,   324,  8538]])\n"
     ]
    },
    {
     "data": {
      "image/png": "[encoded data removed]",
      "text/plain": [
       "<Figure size 640x480 with 1 Axes>"
      ]
     },
     "metadata": {},
     "output_type": "display_data"
    }
   ],
   "source": [
    "model_manager.save_plot_csv_logger(loss_names=['train_loss_epoch', 'val_loss'], eval_names=['train_acc_epoch', 'val_acc'], name_prepend=f'tests_{k}')\n",
    "model_manager.torch_model = model_manager.torch_model.to(device)\n",
    "save_evaluation(model_manager, data_manager.train_dataloader(), f'{k}',True, True, True, True, True, True, True, multi_class=True)"
   ]
  }
 ],
 "metadata": {
  "kernelspec": {
   "display_name": "Python 3",
   "language": "python",
   "name": "python3"
  },
  "language_info": {
   "codemirror_mode": {
    "name": "ipython",
    "version": 3
   },
   "file_extension": ".py",
   "mimetype": "text/x-python",
   "name": "python",
   "nbconvert_exporter": "python",
   "pygments_lexer": "ipython3",
   "version": "3.12.2"
  }
 },
 "nbformat": 4,
 "nbformat_minor": 2
}
