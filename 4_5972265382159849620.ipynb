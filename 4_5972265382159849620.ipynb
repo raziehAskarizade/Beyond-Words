{
 "cells": [
  {
   "cell_type": "markdown",
   "metadata": {
    "id": "c7LQW5cmmYZh"
   },
   "source": [
    "#### Fardin Rastakhiz @2023"
   ]
  },
  {
   "cell_type": "code",
   "execution_count": 1,
   "metadata": {
    "executionInfo": {
     "elapsed": 4,
     "status": "ok",
     "timestamp": 1716468188976,
     "user": {
      "displayName": "Razieh Askarizade",
      "userId": "02786395411903411644"
     },
     "user_tz": -210
    },
    "id": "CXQpum5lmYZk"
   },
   "outputs": [
    {
     "name": "stderr",
     "output_type": "stream",
     "text": [
      "c:\\Users\\razieh\\AppData\\Local\\Programs\\Python\\Python312\\Lib\\site-packages\\tqdm\\auto.py:21: TqdmWarning: IProgress not found. Please update jupyter and ipywidgets. See https://ipywidgets.readthedocs.io/en/stable/user_install.html\n",
      "  from .autonotebook import tqdm as notebook_tqdm\n",
      "c:\\Users\\razieh\\AppData\\Local\\Programs\\Python\\Python312\\Lib\\site-packages\\transformers\\utils\\generic.py:441: UserWarning: torch.utils._pytree._register_pytree_node is deprecated. Please use torch.utils._pytree.register_pytree_node instead.\n",
      "  _torch_pytree._register_pytree_node(\n",
      "2024-06-17 12:22:00 WARNING: Language fa package default expects mwt, which has been added\n",
      "2024-06-17 12:22:00 INFO: Loading these models for language: fa (Persian):\n",
      "==============================\n",
      "| Processor | Package        |\n",
      "------------------------------\n",
      "| tokenize  | perdt          |\n",
      "| mwt       | perdt          |\n",
      "| lemma     | perdt_nocharlm |\n",
      "==============================\n",
      "\n",
      "2024-06-17 12:22:00 INFO: Using device: cpu\n",
      "2024-06-17 12:22:00 INFO: Loading: tokenize\n",
      "2024-06-17 12:22:00 INFO: Loading: mwt\n",
      "2024-06-17 12:22:00 INFO: Loading: lemma\n",
      "2024-06-17 12:22:00 INFO: Done loading processors!\n"
     ]
    }
   ],
   "source": [
    "from Scripts.Configs.ConfigClass import Config\n",
    "from Scripts.DataManager.GraphConstructor.GraphConstructor import TextGraphType\n",
    "import os\n",
    "from Scripts.DataManager.GraphLoader.DigiKalaGraphDataModule import DigiKalaGraphDataModule\n",
    "import torch\n",
    "from torch.utils.flop_counter import FlopCounterMode\n",
    "root_path = %pwd\n",
    "config = Config(root_path)\n",
    "# config = Config(r'E:\\Darsi\\Payan Name Arshad\\Second Work\\ColorIntelligence2\\ColorIntelligence')\n",
    "os.environ['CUDA_LAUNCH_BLOCKING'] = \"1\"\n",
    "device = torch.device('cuda' if torch.cuda.is_available() else 'cpu')\n",
    "batch_size = 2"
   ]
  },
  {
   "cell_type": "code",
   "execution_count": 2,
   "metadata": {
    "executionInfo": {
     "elapsed": 13,
     "status": "ok",
     "timestamp": 1716468007542,
     "user": {
      "displayName": "Razieh Askarizade",
      "userId": "02786395411903411644"
     },
     "user_tz": -210
    },
    "id": "borwh13TmYZl"
   },
   "outputs": [],
   "source": [
    "from Scripts.Models.GraphEmbedding.HeteroDeepGraphEmbedding4 import HeteroDeepGraphEmbedding4\n",
    "from Scripts.Models.GraphEmbedding.HeteroDeepGraphEmbedding5 import HeteroDeepGraphEmbedding5\n",
    "from Scripts.Models.GraphEmbedding.HeteroDeepGraphEmbedding6 import HeteroDeepGraphEmbedding6\n",
    "from Scripts.Models.GraphEmbedding.HeteroDeepGraphEmbedding8 import HeteroDeepGraphEmbedding8"
   ]
  },
  {
   "cell_type": "code",
   "execution_count": 3,
   "metadata": {
    "executionInfo": {
     "elapsed": 12,
     "status": "ok",
     "timestamp": 1716468007542,
     "user": {
      "displayName": "Razieh Askarizade",
      "userId": "02786395411903411644"
     },
     "user_tz": -210
    },
    "id": "NXZ6fjnMmYZm"
   },
   "outputs": [],
   "source": [
    "from Scripts.Models.LightningModels.LightningModels import HeteroMultiClassLightningModel\n",
    "from Scripts.Models.LossFunctions.HeteroLossFunctions import MulticlassHeteroLoss1, MulticlassHeteroLoss2, MulticlassHeteroLoss3\n",
    "from lightning.pytorch.callbacks import EarlyStopping, ModelCheckpoint\n",
    "import lightning as L\n",
    "from lightning.pytorch.tuner import Tuner\n",
    "from Scripts.Models.ModelsManager.ClassifierModelManager import ClassifierModelManager"
   ]
  },
  {
   "cell_type": "code",
   "execution_count": 4,
   "metadata": {
    "executionInfo": {
     "elapsed": 12,
     "status": "ok",
     "timestamp": 1716468007542,
     "user": {
      "displayName": "Razieh Askarizade",
      "userId": "02786395411903411644"
     },
     "user_tz": -210
    },
    "id": "KaFxCkDfmYZm"
   },
   "outputs": [],
   "source": [
    "import stanza"
   ]
  },
  {
   "cell_type": "code",
   "execution_count": 5,
   "metadata": {
    "colab": {
     "base_uri": "https://localhost:8080/"
    },
    "executionInfo": {
     "elapsed": 12,
     "status": "ok",
     "timestamp": 1716468007543,
     "user": {
      "displayName": "Razieh Askarizade",
      "userId": "02786395411903411644"
     },
     "user_tz": -210
    },
    "id": "B6Ku1Q0smYZm",
    "outputId": "999dc864-5cc0-4567-8396-c1af7e13b78d"
   },
   "outputs": [
    {
     "name": "stdout",
     "output_type": "stream",
     "text": [
      "1.8.2\n"
     ]
    }
   ],
   "source": [
    "print(stanza.__version__)"
   ]
  },
  {
   "cell_type": "code",
   "execution_count": 6,
   "metadata": {
    "colab": {
     "background_save": true,
     "base_uri": "https://localhost:8080/",
     "referenced_widgets": [
      "9e69160a8f3447ef8d7eb7089735f19f"
     ]
    },
    "id": "FZbC5nxumYZn",
    "outputId": "c04e831c-fd3c-4b8a-8cfc-68bfe1678318"
   },
   "outputs": [
    {
     "name": "stderr",
     "output_type": "stream",
     "text": [
      "2024-06-17 12:22:01 WARNING: Language fa package default expects mwt, which has been added\n",
      "2024-06-17 12:22:01 INFO: Loading these models for language: fa (Persian):\n",
      "=======================\n",
      "| Processor | Package |\n",
      "-----------------------\n",
      "| tokenize  | perdt   |\n",
      "| mwt       | perdt   |\n",
      "=======================\n",
      "\n",
      "2024-06-17 12:22:01 INFO: Using device: cpu\n",
      "2024-06-17 12:22:01 INFO: Loading: tokenize\n",
      "2024-06-17 12:22:01 INFO: Loading: mwt\n",
      "2024-06-17 12:22:01 INFO: Done loading processors!\n",
      " Creating Graphs : 100%|██████████| 100/100 [00:00<00:00, 99983.41it/s]\n"
     ]
    },
    {
     "name": "stdout",
     "output_type": "stream",
     "text": [
      "filename: c:\\Users\\razieh\\Downloads\\Beyond-Words\\data/GraphData/DigiKala\\co_occ\\graph_var.txt\n",
      "self.start_data_load: 0\n",
      "self.end_data_load: 100\n",
      "self.saving_batch_size: 1000\n"
     ]
    },
    {
     "name": "stderr",
     "output_type": "stream",
     "text": [
      " Loding Graphs From File :   0%|          | 0/1 [00:00<?, ?it/s]"
     ]
    },
    {
     "name": "stdout",
     "output_type": "stream",
     "text": [
      "i: 0, min_j: 100\n",
      "data path: c:\\Users\\razieh\\Downloads\\Beyond-Words\\data/GraphData/DigiKala\\co_occ\\0_100_compressed.pt\n",
      "first step after loading data\n"
     ]
    },
    {
     "name": "stderr",
     "output_type": "stream",
     "text": [
      "Prepare loaded data:   0%|          | 0/100 [00:00<?, ?it/s]\n",
      " Loding Graphs From File :   0%|          | 0/1 [00:20<?, ?it/s]\n"
     ]
    },
    {
     "ename": "ValueError",
     "evalue": "only one element tensors can be converted to Python scalars",
     "output_type": "error",
     "traceback": [
      "\u001b[1;31m---------------------------------------------------------------------------\u001b[0m",
      "\u001b[1;31mValueError\u001b[0m                                Traceback (most recent call last)",
      "Cell \u001b[1;32mIn[6], line 4\u001b[0m\n\u001b[0;32m      2\u001b[0m data_manager \u001b[38;5;241m=\u001b[39m DigiKalaGraphDataModule(config, test_size\u001b[38;5;241m=\u001b[39m\u001b[38;5;241m0.2\u001b[39m, val_size\u001b[38;5;241m=\u001b[39m\u001b[38;5;241m0.2\u001b[39m, shuffle\u001b[38;5;241m=\u001b[39m\u001b[38;5;28;01mFalse\u001b[39;00m, start_data_load\u001b[38;5;241m=\u001b[39m\u001b[38;5;241m0\u001b[39m , end_data_load \u001b[38;5;241m=\u001b[39m \u001b[38;5;241m100\u001b[39m , device\u001b[38;5;241m=\u001b[39m\u001b[38;5;124m'\u001b[39m\u001b[38;5;124mcpu\u001b[39m\u001b[38;5;124m'\u001b[39m, batch_size\u001b[38;5;241m=\u001b[39mbatch_size, graph_type\u001b[38;5;241m=\u001b[39mgraph_type, load_preprocessed_data \u001b[38;5;241m=\u001b[39m \u001b[38;5;28;01mFalse\u001b[39;00m)\n\u001b[0;32m      3\u001b[0m data_manager\u001b[38;5;241m.\u001b[39mload_labels()\n\u001b[1;32m----> 4\u001b[0m \u001b[43mdata_manager\u001b[49m\u001b[38;5;241;43m.\u001b[39;49m\u001b[43mload_graphs\u001b[49m\u001b[43m(\u001b[49m\u001b[43m)\u001b[49m\n",
      "File \u001b[1;32mc:\\Users\\razieh\\Downloads\\Beyond-Words\\Scripts\\DataManager\\GraphLoader\\DigiKalaGraphDataModule.py:115\u001b[0m, in \u001b[0;36mDigiKalaGraphDataModule.load_graphs\u001b[1;34m(self)\u001b[0m\n\u001b[0;32m    113\u001b[0m \u001b[38;5;28mself\u001b[39m\u001b[38;5;241m.\u001b[39m__train_dataloader, \u001b[38;5;28mself\u001b[39m\u001b[38;5;241m.\u001b[39m__test_dataloader, \u001b[38;5;28mself\u001b[39m\u001b[38;5;241m.\u001b[39m__val_dataloader \u001b[38;5;241m=\u001b[39m {}, {}, {}\n\u001b[0;32m    114\u001b[0m \u001b[38;5;28;01mfor\u001b[39;00m key \u001b[38;5;129;01min\u001b[39;00m \u001b[38;5;28mself\u001b[39m\u001b[38;5;241m.\u001b[39mgraph_constructors:\n\u001b[1;32m--> 115\u001b[0m     \u001b[38;5;28;43mself\u001b[39;49m\u001b[38;5;241;43m.\u001b[39;49m\u001b[43mgraph_constructors\u001b[49m\u001b[43m[\u001b[49m\u001b[43mkey\u001b[49m\u001b[43m]\u001b[49m\u001b[38;5;241;43m.\u001b[39;49m\u001b[43msetup\u001b[49m\u001b[43m(\u001b[49m\u001b[38;5;28;43mself\u001b[39;49m\u001b[38;5;241;43m.\u001b[39;49m\u001b[43mload_preprocessed_data\u001b[49m\u001b[43m)\u001b[49m\n\u001b[0;32m    116\u001b[0m     \u001b[38;5;66;03m# reweighting\u001b[39;00m\n\u001b[0;32m    117\u001b[0m     \u001b[38;5;28;01mif\u001b[39;00m key \u001b[38;5;129;01min\u001b[39;00m \u001b[38;5;28mself\u001b[39m\u001b[38;5;241m.\u001b[39mreweights:\n",
      "File \u001b[1;32mc:\\Users\\razieh\\Downloads\\Beyond-Words\\Scripts\\DataManager\\GraphConstructor\\GraphConstructor.py:104\u001b[0m, in \u001b[0;36mGraphConstructor.setup\u001b[1;34m(self, load_preprocessed_data)\u001b[0m\n\u001b[0;32m    102\u001b[0m \u001b[38;5;66;03m# Load the content\u001b[39;00m\n\u001b[0;32m    103\u001b[0m \u001b[38;5;28mself\u001b[39m\u001b[38;5;241m.\u001b[39m_graphs: List \u001b[38;5;241m=\u001b[39m [\u001b[38;5;28;01mNone\u001b[39;00m \u001b[38;5;28;01mfor\u001b[39;00m r \u001b[38;5;129;01min\u001b[39;00m \u001b[38;5;28mrange\u001b[39m(\u001b[38;5;28mself\u001b[39m\u001b[38;5;241m.\u001b[39mend_data_load)]\n\u001b[1;32m--> 104\u001b[0m \u001b[38;5;28;43mself\u001b[39;49m\u001b[38;5;241;43m.\u001b[39;49m\u001b[43msetup\u001b[49m\u001b[43m(\u001b[49m\u001b[43mload_preprocessed_data\u001b[49m\u001b[38;5;241;43m=\u001b[39;49m\u001b[38;5;28;43;01mTrue\u001b[39;49;00m\u001b[43m)\u001b[49m\n",
      "File \u001b[1;32mc:\\Users\\razieh\\Downloads\\Beyond-Words\\Scripts\\DataManager\\GraphConstructor\\GraphConstructor.py:86\u001b[0m, in \u001b[0;36mGraphConstructor.setup\u001b[1;34m(self, load_preprocessed_data)\u001b[0m\n\u001b[0;32m     84\u001b[0m     \u001b[38;5;28;01mfor\u001b[39;00m i \u001b[38;5;129;01min\u001b[39;00m tqdm(\u001b[38;5;28mrange\u001b[39m(\u001b[38;5;28mself\u001b[39m\u001b[38;5;241m.\u001b[39mstart_data_load, \u001b[38;5;28mself\u001b[39m\u001b[38;5;241m.\u001b[39mend_data_load, \u001b[38;5;28mself\u001b[39m\u001b[38;5;241m.\u001b[39msaving_batch_size), desc\u001b[38;5;241m=\u001b[39m\u001b[38;5;124m\"\u001b[39m\u001b[38;5;124m Loding Graphs From File \u001b[39m\u001b[38;5;124m\"\u001b[39m):\n\u001b[0;32m     85\u001b[0m         \u001b[38;5;28mprint\u001b[39m(\u001b[38;5;124mf\u001b[39m\u001b[38;5;124m'\u001b[39m\u001b[38;5;124mi: \u001b[39m\u001b[38;5;132;01m{\u001b[39;00mi\u001b[38;5;132;01m}\u001b[39;00m\u001b[38;5;124m, min_j: \u001b[39m\u001b[38;5;132;01m{\u001b[39;00m\u001b[38;5;28mmin\u001b[39m(i\u001b[38;5;250m \u001b[39m\u001b[38;5;241m+\u001b[39m\u001b[38;5;250m \u001b[39m\u001b[38;5;28mself\u001b[39m\u001b[38;5;241m.\u001b[39msaving_batch_size,\u001b[38;5;250m \u001b[39m\u001b[38;5;28mself\u001b[39m\u001b[38;5;241m.\u001b[39mend_data_load)\u001b[38;5;132;01m}\u001b[39;00m\u001b[38;5;124m'\u001b[39m)\n\u001b[1;32m---> 86\u001b[0m         \u001b[38;5;28;43mself\u001b[39;49m\u001b[38;5;241;43m.\u001b[39;49m\u001b[43mload_data_range\u001b[49m\u001b[43m(\u001b[49m\u001b[43mi\u001b[49m\u001b[43m,\u001b[49m\u001b[43m \u001b[49m\u001b[38;5;28;43mmin\u001b[39;49m\u001b[43m(\u001b[49m\u001b[43mi\u001b[49m\u001b[43m \u001b[49m\u001b[38;5;241;43m+\u001b[39;49m\u001b[43m \u001b[49m\u001b[38;5;28;43mself\u001b[39;49m\u001b[38;5;241;43m.\u001b[39;49m\u001b[43msaving_batch_size\u001b[49m\u001b[43m,\u001b[49m\u001b[43m \u001b[49m\u001b[38;5;28;43mself\u001b[39;49m\u001b[38;5;241;43m.\u001b[39;49m\u001b[43mend_data_load\u001b[49m\u001b[43m)\u001b[49m\u001b[43m)\u001b[49m\n\u001b[0;32m     87\u001b[0m         \u001b[38;5;28mprint\u001b[39m(\u001b[38;5;124m\"\u001b[39m\u001b[38;5;124mafter loading data and pass\u001b[39m\u001b[38;5;124m\"\u001b[39m)\n\u001b[0;32m     88\u001b[0m \u001b[38;5;28;01melse\u001b[39;00m:\n\u001b[0;32m     89\u001b[0m     \u001b[38;5;66;03m# save the content\u001b[39;00m\n",
      "File \u001b[1;32mc:\\Users\\razieh\\Downloads\\Beyond-Words\\Scripts\\DataManager\\GraphConstructor\\GraphConstructor.py:233\u001b[0m, in \u001b[0;36mGraphConstructor.load_data_range\u001b[1;34m(self, start, end)\u001b[0m\n\u001b[0;32m    231\u001b[0m time\u001b[38;5;241m.\u001b[39msleep(\u001b[38;5;241m10\u001b[39m)\n\u001b[0;32m    232\u001b[0m \u001b[38;5;28;01mfor\u001b[39;00m i \u001b[38;5;129;01min\u001b[39;00m tqdm(\u001b[38;5;28mrange\u001b[39m(start, end), desc\u001b[38;5;241m=\u001b[39m\u001b[38;5;124m\"\u001b[39m\u001b[38;5;124mPrepare loaded data\u001b[39m\u001b[38;5;124m\"\u001b[39m):\n\u001b[1;32m--> 233\u001b[0m     \u001b[38;5;28mself\u001b[39m\u001b[38;5;241m.\u001b[39m_graphs[i \u001b[38;5;241m-\u001b[39m \u001b[38;5;28mself\u001b[39m\u001b[38;5;241m.\u001b[39mstart_data_load] \u001b[38;5;241m=\u001b[39m \u001b[38;5;28;43mself\u001b[39;49m\u001b[38;5;241;43m.\u001b[39;49m\u001b[43mprepare_loaded_data\u001b[49m\u001b[43m(\u001b[49m\u001b[43mdata_list\u001b[49m\u001b[43m[\u001b[49m\u001b[43mindex\u001b[49m\u001b[43m]\u001b[49m\u001b[43m)\u001b[49m\n\u001b[0;32m    234\u001b[0m     index \u001b[38;5;241m+\u001b[39m\u001b[38;5;241m=\u001b[39m \u001b[38;5;241m1\u001b[39m\n\u001b[0;32m    235\u001b[0m \u001b[38;5;28mprint\u001b[39m(\u001b[38;5;124m\"\u001b[39m\u001b[38;5;124mbefore pass\u001b[39m\u001b[38;5;124m\"\u001b[39m)\n",
      "File \u001b[1;32mc:\\Users\\razieh\\Downloads\\Beyond-Words\\Scripts\\DataManager\\GraphConstructor\\CoOccurrenceGraphConstructor.py:161\u001b[0m, in \u001b[0;36mCoOccurrenceGraphConstructor.prepare_loaded_data\u001b[1;34m(self, graph)\u001b[0m\n\u001b[0;32m    157\u001b[0m nodes \u001b[38;5;241m=\u001b[39m torch\u001b[38;5;241m.\u001b[39mzeros(\n\u001b[0;32m    158\u001b[0m     (\u001b[38;5;28mlen\u001b[39m(graph\u001b[38;5;241m.\u001b[39mx), \u001b[38;5;28mself\u001b[39m\u001b[38;5;241m.\u001b[39mnlp\u001b[38;5;241m.\u001b[39mget_dimension()), dtype\u001b[38;5;241m=\u001b[39mtorch\u001b[38;5;241m.\u001b[39mfloat32)\n\u001b[0;32m    160\u001b[0m \u001b[38;5;28;01mfor\u001b[39;00m i \u001b[38;5;129;01min\u001b[39;00m \u001b[38;5;28mrange\u001b[39m(\u001b[38;5;28mlen\u001b[39m(graph\u001b[38;5;241m.\u001b[39mx)):\n\u001b[1;32m--> 161\u001b[0m     \u001b[38;5;28;01mif\u001b[39;00m \u001b[38;5;28mself\u001b[39m\u001b[38;5;241m.\u001b[39mword_ids\u001b[38;5;241m.\u001b[39mget(\u001b[38;5;28;43mint\u001b[39;49m\u001b[43m(\u001b[49m\u001b[43mgraph\u001b[49m\u001b[38;5;241;43m.\u001b[39;49m\u001b[43mx\u001b[49m\u001b[43m[\u001b[49m\u001b[43mi\u001b[49m\u001b[43m]\u001b[49m\u001b[43m)\u001b[49m) \u001b[38;5;129;01mis\u001b[39;00m \u001b[38;5;129;01mnot\u001b[39;00m \u001b[38;5;28;01mNone\u001b[39;00m:\n\u001b[0;32m    162\u001b[0m         nodes[i] \u001b[38;5;241m=\u001b[39m torch\u001b[38;5;241m.\u001b[39mtensor(\n\u001b[0;32m    163\u001b[0m             \u001b[38;5;28mself\u001b[39m\u001b[38;5;241m.\u001b[39mnlp\u001b[38;5;241m.\u001b[39mget_word_vector(\u001b[38;5;28mself\u001b[39m\u001b[38;5;241m.\u001b[39mword_ids[\u001b[38;5;28mint\u001b[39m(graph\u001b[38;5;241m.\u001b[39mx[i])]))\n\u001b[0;32m    164\u001b[0m \u001b[38;5;28;01mreturn\u001b[39;00m Data(x\u001b[38;5;241m=\u001b[39mnodes, edge_index\u001b[38;5;241m=\u001b[39mgraph\u001b[38;5;241m.\u001b[39medge_index, edge_attr\u001b[38;5;241m=\u001b[39mgraph\u001b[38;5;241m.\u001b[39medge_attr)\n",
      "\u001b[1;31mValueError\u001b[0m: only one element tensors can be converted to Python scalars"
     ]
    }
   ],
   "source": [
    "\n",
    "graph_type = TextGraphType.CO_OCCURRENCE |  TextGraphType.DEPENDENCY | TextGraphType.SEQUENTIAL | TextGraphType.SENTIMENT | TextGraphType.FULL | TextGraphType.SENTENCE | TextGraphType.TAGS\n",
    "data_manager = DigiKalaGraphDataModule(config, test_size=0.2, val_size=0.2, shuffle=False, start_data_load=0 , end_data_load = 100 , device='cpu', batch_size=batch_size, graph_type=graph_type, load_preprocessed_data = False)\n",
    "data_manager.load_labels()\n",
    "data_manager.load_graphs()"
   ]
  },
  {
   "cell_type": "code",
   "execution_count": null,
   "metadata": {},
   "outputs": [],
   "source": [
    "X, y = next(iter(data_manager.test_dataloader()))"
   ]
  },
  {
   "cell_type": "code",
   "execution_count": null,
   "metadata": {},
   "outputs": [
    {
     "data": {
      "text/plain": [
       "HeteroDataBatch(\n",
       "  general={\n",
       "    x=[2, 300],\n",
       "    batch=[2],\n",
       "    ptr=[3],\n",
       "  },\n",
       "  word={\n",
       "    x=[119, 300],\n",
       "    batch=[119],\n",
       "    ptr=[3],\n",
       "  },\n",
       "  (general, general_word, word)={\n",
       "    edge_index=[2, 119],\n",
       "    edge_attr=[119],\n",
       "  },\n",
       "  (word, word_general, general)={\n",
       "    edge_index=[2, 119],\n",
       "    edge_attr=[119],\n",
       "  },\n",
       "  (word, seq, word)={\n",
       "    edge_index=[2, 234],\n",
       "    edge_attr=[234],\n",
       "  }\n",
       ")"
      ]
     },
     "execution_count": 13,
     "metadata": {},
     "output_type": "execute_result"
    }
   ],
   "source": [
    "X"
   ]
  },
  {
   "cell_type": "code",
   "execution_count": null,
   "metadata": {
    "colab": {
     "base_uri": "https://localhost:8080/",
     "height": 513,
     "referenced_widgets": [
      "c24a596ab1684064add720b1934b449e",
      "2b7251835fd641eea0b47ed01083d20e",
      "803f3bfc05804f1abb4569acd4e1fc34",
      "f97ee59c2d234f748f533faa4e592a00",
      "2055509a02994400887e83c9bf4b040d",
      "7e10bca13c284cc1bfe1937d60757129",
      "8014fc325cdc4b9cb2b9ee405ba30a1a",
      "4e732e670df1410f9203f5aaba78b185",
      "432317ce60f74d1ab18bec244e32b0cd",
      "6a2a631a73214e74b6eda5b5be798ebd",
      "f9fc2b16f87847e28fb8fae2ad2b5c2c"
     ]
    },
    "executionInfo": {
     "elapsed": 29331,
     "status": "ok",
     "timestamp": 1716223953301,
     "user": {
      "displayName": "Razieh Askarizade",
      "userId": "02786395411903411644"
     },
     "user_tz": -210
    },
    "id": "j01NSlcsmYZn",
    "outputId": "b0567618-be2c-4829-d409-e01ca9697e49"
   },
   "outputs": [
    {
     "name": "stdout",
     "output_type": "stream",
     "text": [
      "AAAA\n",
      "BBBB\n"
     ]
    },
    {
     "name": "stderr",
     "output_type": "stream",
     "text": [
      "2024-06-17 12:00:49 WARNING: Language fa package default expects mwt, which has been added\n",
      "2024-06-17 12:00:49 INFO: Loading these models for language: fa (Persian):\n",
      "==============================\n",
      "| Processor | Package        |\n",
      "------------------------------\n",
      "| tokenize  | perdt          |\n",
      "| mwt       | perdt          |\n",
      "| lemma     | perdt_nocharlm |\n",
      "==============================\n",
      "\n",
      "2024-06-17 12:00:49 INFO: Using device: cpu\n",
      "2024-06-17 12:00:49 INFO: Loading: tokenize\n",
      "2024-06-17 12:00:49 INFO: Loading: mwt\n",
      "2024-06-17 12:00:49 INFO: Loading: lemma\n",
      "2024-06-17 12:00:49 INFO: Done loading processors!\n"
     ]
    }
   ],
   "source": [
    "from Scripts.DataManager.GraphConstructor.SequentialGraphConstructor import SequentialGraphConstructor\n",
    "\n",
    "texts = ['متن فارسی آزمایشی شماره یک' , 'متن فارسی آزمایشی شماره دو' , 'متن فارسی آزمایشی شماره سه']\n",
    "graph_const = SequentialGraphConstructor(texts, r'graphs/sequence',config=config, naming_prepend='graph', start_data_load=0, end_data_load=2, load_preprocessed_data=False , use_compression=True , use_general_node=True)\n",
    "# graph_const.setup(load_preprocessed_data=True)"
   ]
  },
  {
   "cell_type": "code",
   "execution_count": null,
   "metadata": {
    "colab": {
     "base_uri": "https://localhost:8080/",
     "height": 516
    },
    "executionInfo": {
     "elapsed": 3521,
     "status": "ok",
     "timestamp": 1716223966438,
     "user": {
      "displayName": "Razieh Askarizade",
      "userId": "02786395411903411644"
     },
     "user_tz": -210
    },
    "id": "c09i8F4-mYZn",
    "outputId": "0fb245f9-a5bd-41be-8feb-2b2734f5d0a9"
   },
   "outputs": [
    {
     "data": {
      "image/png": "[encoded data removed]",
      "text/plain": [
       "<Figure size 640x480 with 1 Axes>"
      ]
     },
     "metadata": {},
     "output_type": "display_data"
    }
   ],
   "source": [
    "graph_const.draw_graph(1)"
   ]
  },
  {
   "cell_type": "code",
   "execution_count": null,
   "metadata": {
    "id": "CsM_atHFmYZo"
   },
   "outputs": [],
   "source": [
    "# data_manager.update_batch_size(256)"
   ]
  },
  {
   "cell_type": "code",
   "execution_count": null,
   "metadata": {
    "id": "Ib1UfUMCmYZo"
   },
   "outputs": [],
   "source": [
    "val_dataloader = data_manager.val_dataloader()\n",
    "X3, Y3 = next(iter(val_dataloader))"
   ]
  },
  {
   "cell_type": "code",
   "execution_count": null,
   "metadata": {
    "colab": {
     "base_uri": "https://localhost:8080/"
    },
    "executionInfo": {
     "elapsed": 7,
     "status": "ok",
     "timestamp": 1716223968685,
     "user": {
      "displayName": "Razieh Askarizade",
      "userId": "02786395411903411644"
     },
     "user_tz": -210
    },
    "id": "-jv6Wv5gmYZo",
    "outputId": "eb04708a-be23-40a6-acc2-9909c21960b6"
   },
   "outputs": [
    {
     "data": {
      "text/plain": [
       "10"
      ]
     },
     "execution_count": 18,
     "metadata": {},
     "output_type": "execute_result"
    }
   ],
   "source": [
    "len(val_dataloader)"
   ]
  },
  {
   "cell_type": "code",
   "execution_count": null,
   "metadata": {
    "id": "JcS4mJsPmYZo"
   },
   "outputs": [],
   "source": [
    "from copy import copy\n",
    "metadata = copy(X3.metadata())"
   ]
  },
  {
   "cell_type": "code",
   "execution_count": null,
   "metadata": {
    "id": "NqOAHMtamYZo"
   },
   "outputs": [],
   "source": [
    "\n",
    "edge_type_weights = {\n",
    "    # 'full': [1., 1., 1., 1., 1., 1., 1., 1., 1., 1., 1.],\n",
    "    # 'full-non-sentiment': [1., 1., 1., 1., 1., 1., 1., 1., 1., 0., 0.],\n",
    "    'seq': [0., 0., 0., 0., 1., 0., 0., 0., 0., 0., 0.],\n",
    "    # 'dep': [1., 1., 0., 0., 1., 0., 0., 0., 0., 0., 0.],\n",
    "    # 'tag': [0., 0., 1., 1., 1., 0., 0., 0., 0., 0., 0.],\n",
    "    # 'general_sentence': [0., 0., 0., 0., 1., 1., 1., 1., 1., 0., 0.],\n",
    "    # 'sentence': [0., 0., 0., 0., 1., 0., 0., 1., 1., 0., 0.],\n",
    "    # 'sentiment': [0., 0., 0., 0., 1., 0., 0., 0., 0., 1., 1.],\n",
    "}\n",
    "# type_checkpoint = {\n",
    "#     #  'dep': r'logs\\hetero_model_14_AG\\version_0\\checkpoints\\epoch=38-step=17199.ckpt',\n",
    "#      'tag': r'logs\\hetero_model_15_AG_tag\\version_0\\checkpoints\\epoch=9-step=4410.ckpt',\n",
    "#      'general_sentence': '',\n",
    "#      'sentence': '',\n",
    "# }"
   ]
  },
  {
   "cell_type": "code",
   "execution_count": null,
   "metadata": {
    "id": "jlqk_ShgmYZp"
   },
   "outputs": [],
   "source": [
    "# edge_type_weights = {\n",
    "#     'seq_gen': [1, 1, 1],\n",
    "#     'seq': [0, 0, 1]\n",
    "# }\n",
    "# type_checkpoint = {\n",
    "#     'seq_gen': r'logs\\hetero_model_12_AG\\version_1\\checkpoints\\epoch=24-step=11025.ckpt',\n",
    "#     'seq': r'logs\\hetero_model_12_AG\\version_2\\checkpoints\\epoch=22-step=10143.ckpt'\n",
    "# }"
   ]
  },
  {
   "cell_type": "code",
   "execution_count": null,
   "metadata": {
    "id": "XTecStt-mYZp"
   },
   "outputs": [],
   "source": [
    "from os import path\n",
    "from sklearn.metrics import classification_report, f1_score, accuracy_score, precision_score, recall_score, confusion_matrix, hinge_loss\n",
    "import torchmetrics\n",
    "\n",
    "def save_evaluation(model_mgr, eval_dataloader, name_prepend: str='',\n",
    "                 give_confusion_matrix: bool=True,\n",
    "                 give_report: bool=True,\n",
    "                 give_f1_score: bool=False,\n",
    "                 give_accuracy_score: bool=False,\n",
    "                 give_precision_score: bool=False,\n",
    "                 give_recall_score: bool=False,\n",
    "                 give_hinge_loss: bool=False,\n",
    "                 multi_class: bool=False\n",
    "                 ):\n",
    "\n",
    "        test_metrics_path = path.join(model_mgr.log_dir, model_mgr.log_name, f'version_{model_mgr.logger.version}', f'{name_prepend}_test_metrics.txt')\n",
    "\n",
    "        y_true = []\n",
    "        y_pred = []\n",
    "        model_mgr.lightning_model.eval()\n",
    "        model_mgr.lightning_model.model.eval()\n",
    "        model_mgr.torch_model.eval()\n",
    "        for X, y in eval_dataloader:\n",
    "            model_mgr.trainer.model.eval()\n",
    "            with torch.no_grad():\n",
    "                y_p = model_mgr.trainer.model(X.to(model_mgr.device))\n",
    "            if type(y_p) is tuple:\n",
    "                y_p = y_p[0]\n",
    "\n",
    "            if multi_class:\n",
    "                y_pred.append(y_p.detach().to(y.device))\n",
    "                y_true.append(y)\n",
    "            else:\n",
    "                y_pred.append((y_p>0).to(torch.int32).detach().to(y.device))\n",
    "                y_true.append(y.to(torch.int32))\n",
    "        y_true = torch.concat(y_true)\n",
    "        y_pred = torch.concat(y_pred)\n",
    "        print(y_true.shape)\n",
    "        print(y_pred.shape)\n",
    "        if multi_class:\n",
    "            y_true_num = torch.argmax(y_true, dim=1)\n",
    "            y_pred_num = torch.argmax(y_pred, dim=1)\n",
    "        else:\n",
    "            y_true_num = y_true\n",
    "            y_pred_num = y_pred\n",
    "\n",
    "        print(y_true_num.shape)\n",
    "        print(y_pred_num.shape)\n",
    "        with open(test_metrics_path, 'at+') as f:\n",
    "            if(give_confusion_matrix):\n",
    "                print(f'confusion_matrix: \\n{confusion_matrix(y_true_num, y_pred_num)}', file=f)\n",
    "            if(give_report):\n",
    "                print(classification_report(y_true_num, y_pred_num), file=f)\n",
    "            if(give_f1_score):\n",
    "                if multi_class:\n",
    "                    print(f'f1_score: {f1_score(y_true_num, y_pred_num, average=None)}', file=f)\n",
    "                else:\n",
    "                    print(f'f1_score: {f1_score(y_true_num, y_pred_num)}', file=f)\n",
    "            if(give_accuracy_score):\n",
    "                print(f'accuracy_score: {accuracy_score(y_true_num, y_pred_num)}', file=f)\n",
    "            if(give_precision_score):\n",
    "                if multi_class:\n",
    "                    print(f'f1_score: {precision_score(y_true_num, y_pred_num, average=None)}', file=f)\n",
    "                else:\n",
    "                    print(f'f1_score: {precision_score(y_true_num, y_pred_num)}', file=f)\n",
    "            if(give_recall_score):\n",
    "                if multi_class:\n",
    "                    print(f'f1_score: {recall_score(y_true_num, y_pred_num, average=None)}', file=f)\n",
    "                else:\n",
    "                    print(f'f1_score: {recall_score(y_true_num, y_pred_num)}', file=f)\n",
    "            # if(give_hinge_loss):\n",
    "            #     print(f'hinge_loss: {hinge_loss(y_true_num, y_pred)}', file=f)\n"
   ]
  },
  {
   "cell_type": "code",
   "execution_count": null,
   "metadata": {
    "colab": {
     "base_uri": "https://localhost:8080/"
    },
    "executionInfo": {
     "elapsed": 10,
     "status": "ok",
     "timestamp": 1716223981182,
     "user": {
      "displayName": "Razieh Askarizade",
      "userId": "02786395411903411644"
     },
     "user_tz": -210
    },
    "id": "FTafLlJAmYZp",
    "outputId": "570158ef-e189-4621-ee76-cafa96055200"
   },
   "outputs": [
    {
     "data": {
      "text/plain": [
       "<generator object <genexpr> at 0x0000021EE91250E0>"
      ]
     },
     "execution_count": 23,
     "metadata": {},
     "output_type": "execute_result"
    }
   ],
   "source": [
    "(metadata[0].remove(x, inplace=True) for x in ['dep', 'tag', 'sentence', 'sentiment'])"
   ]
  },
  {
   "cell_type": "code",
   "execution_count": null,
   "metadata": {
    "colab": {
     "base_uri": "https://localhost:8080/"
    },
    "executionInfo": {
     "elapsed": 9,
     "status": "ok",
     "timestamp": 1716223981183,
     "user": {
      "displayName": "Razieh Askarizade",
      "userId": "02786395411903411644"
     },
     "user_tz": -210
    },
    "id": "QYA49o1cmYZp",
    "outputId": "f4546bf6-7be2-4f57-d848-6b18de3e30f5"
   },
   "outputs": [
    {
     "data": {
      "text/plain": [
       "(['general', 'word'],\n",
       " [('general', 'general_word', 'word'),\n",
       "  ('word', 'word_general', 'general'),\n",
       "  ('word', 'seq', 'word')])"
      ]
     },
     "execution_count": 24,
     "metadata": {},
     "output_type": "execute_result"
    }
   ],
   "source": [
    "metadata"
   ]
  },
  {
   "cell_type": "code",
   "execution_count": null,
   "metadata": {
    "id": "uRNoh4utmYZp"
   },
   "outputs": [],
   "source": [
    "# metadata = (['word'], [('word', 'seq', 'word')])"
   ]
  },
  {
   "cell_type": "code",
   "execution_count": null,
   "metadata": {
    "colab": {
     "base_uri": "https://localhost:8080/"
    },
    "executionInfo": {
     "elapsed": 11,
     "status": "ok",
     "timestamp": 1716223983107,
     "user": {
      "displayName": "Razieh Askarizade",
      "userId": "02786395411903411644"
     },
     "user_tz": -210
    },
    "id": "AmFHFF6cmYZp",
    "outputId": "e5f2cbdc-9fe1-42f3-caf1-af9d37ead39e"
   },
   "outputs": [
    {
     "data": {
      "text/plain": [
       "['general', 'word']"
      ]
     },
     "execution_count": 26,
     "metadata": {},
     "output_type": "execute_result"
    }
   ],
   "source": [
    "[x for x in metadata[0] if x not in ['dep', 'tag', 'sentence', 'sentiment']]"
   ]
  },
  {
   "cell_type": "code",
   "execution_count": null,
   "metadata": {
    "colab": {
     "base_uri": "https://localhost:8080/"
    },
    "executionInfo": {
     "elapsed": 9,
     "status": "ok",
     "timestamp": 1716223983107,
     "user": {
      "displayName": "Razieh Askarizade",
      "userId": "02786395411903411644"
     },
     "user_tz": -210
    },
    "id": "lETowIenmYZp",
    "outputId": "52f0e2ac-8fbd-4221-9c00-5e487e3f55f3"
   },
   "outputs": [
    {
     "data": {
      "text/plain": [
       "[('general', 'general_word', 'word'),\n",
       " ('word', 'word_general', 'general'),\n",
       " ('word', 'seq', 'word')]"
      ]
     },
     "execution_count": 27,
     "metadata": {},
     "output_type": "execute_result"
    }
   ],
   "source": [
    "[x for x in metadata[1] if x not in ['dep', 'tag', 'sentence', 'sentiment']]"
   ]
  },
  {
   "cell_type": "code",
   "execution_count": null,
   "metadata": {
    "colab": {
     "base_uri": "https://localhost:8080/"
    },
    "executionInfo": {
     "elapsed": 7,
     "status": "ok",
     "timestamp": 1716223986250,
     "user": {
      "displayName": "Razieh Askarizade",
      "userId": "02786395411903411644"
     },
     "user_tz": -210
    },
    "id": "YwBpO1kwmYZp",
    "outputId": "6cd1fc60-21bc-44f6-91c3-334252e5be7b"
   },
   "outputs": [
    {
     "name": "stdout",
     "output_type": "stream",
     "text": [
      "Module                                           FLOP    % Total\n",
      "------------------------------------------  ---------  ---------\n",
      "HeteroDeepGraphEmbedding8                   6221.360K    100.00%\n",
      " - aten.addmm                               5979.136K     96.11%\n",
      " - aten.mm                                   181.824K      2.92%\n",
      " - aten.convolution                            0.400K      0.01%\n",
      " - aten.bmm                                   60.000K      0.96%\n",
      " HeteroDeepGraphEmbedding8.hetero_linear1   1094.400K     17.59%\n",
      "  - aten.addmm                              1094.400K     17.59%\n",
      " HeteroDeepGraphEmbedding8.hetero_gat_1      472.576K      7.60%\n",
      "  - aten.addmm                               458.752K      7.37%\n",
      "  - aten.mm                                   13.824K      0.22%\n",
      " HeteroDeepGraphEmbedding8.hetero_linear_2   116.736K      1.88%\n",
      "  - aten.addmm                               116.736K      1.88%\n",
      " HeteroDeepGraphEmbedding8.hetero_gat_2     4430.400K     71.21%\n",
      "  - aten.addmm                              4300.800K     69.13%\n",
      "  - aten.mm                                  129.600K      2.08%\n",
      " HeteroDeepGraphEmbedding8.mem_pool           98.800K      1.59%\n",
      "  - aten.convolution                           0.400K      0.01%\n",
      "  - aten.bmm                                  60.000K      0.96%\n",
      "  - aten.mm                                   38.400K      0.62%\n",
      " HeteroDeepGraphEmbedding8.linear_1            4.096K      0.07%\n",
      "  - aten.addmm                                 4.096K      0.07%\n",
      " HeteroDeepGraphEmbedding8.linear_2            4.096K      0.07%\n",
      "  - aten.addmm                                 4.096K      0.07%\n",
      " HeteroDeepGraphEmbedding8.output_layer        0.256K      0.00%\n",
      "  - aten.addmm                                 0.256K      0.00%\n"
     ]
    },
    {
     "name": "stderr",
     "output_type": "stream",
     "text": [
      "c:\\Users\\razieh\\Downloads\\Beyond-Words\\Scripts\\Models\\GraphEmbedding\\HeteroDeepGraphEmbedding8.py:53: UserWarning: To copy construct from a tensor, it is recommended to use sourceTensor.clone().detach() or sourceTensor.clone().detach().requires_grad_(True), rather than torch.tensor(sourceTensor).\n",
      "  self.pw1 = torch.nn.Parameter(torch.tensor(self.edge_type_weights, dtype=torch.float32), requires_grad=False)\n"
     ]
    }
   ],
   "source": [
    "for k in edge_type_weights:\n",
    "    graph_embedding = HeteroDeepGraphEmbedding8(300, 2, metadata, 32, dropout=0.2, edge_type_count=2, edge_type_weights=edge_type_weights[k], active_keys = ['word','general'])\n",
    "    graph_embedding = graph_embedding.to(device)\n",
    "    # callbacks = [\n",
    "    # ModelCheckpoint(save_top_k=5, mode='max', monitor='val_acc', save_last=True)\n",
    "    # ]\n",
    "\n",
    "\n",
    "    # loss_func = MulticlassHeteroLoss2(exception_keys=['word'], enc_factor=0.0002)\n",
    "    # optimizer = torch.optim.Adam(graph_embedding.parameters(), lr=0.0045, weight_decay=0.0012)\n",
    "    # lr_scheduler = torch.optim.lr_scheduler.MultiStepLR(optimizer, milestones=[5, 10, 20, 35], gamma=0.6, verbose=True)\n",
    "    # lightning_model = HeteroMultiClassLightningModel(graph_embedding, 4,\n",
    "    #                                     optimizer=optimizer,\n",
    "    #                                     loss_func=loss_func,\n",
    "    #                                     learning_rate=0.0045,\n",
    "    #                                     batch_size=batch_size,\n",
    "    #                                     user_lr_scheduler=True,\n",
    "    #                                     lr_scheduler=lr_scheduler,\n",
    "    #                                     min_lr=0.0005\n",
    "    #                                     ).to(device)\n",
    "    # lightning_model.model.to(device)\n",
    "\n",
    "    # model_manager = ClassifierModelManager(graph_embedding, lightning_model, log_name='hetero_model_18_AG',device=device, num_train_epoch=70)\n",
    "    flopt_counter = FlopCounterMode(graph_embedding)\n",
    "    with flopt_counter:\n",
    "        graph_embedding(X3.to(device))\n",
    "    # model_manager.draw_summary(data_manager.val_dataloader())\n",
    "    # model_manager.fit(datamodule=data_manager, ckpt_path=r'logs\\hetero_model_18_AG\\version_8\\checkpoints\\epoch=38-step=18252.ckpt')\n",
    "\n",
    "    # model_manager.save_plot_csv_logger(loss_names=['train_loss_epoch', 'val_loss'], eval_names=['train_acc_epoch', 'val_acc'], name_prepend=f'tests_{k}')\n",
    "    # model_manager.torch_model = model_manager.torch_model.to(device)\n",
    "    # save_evaluation(model_manager, data_manager.val_dataloader(), f'{k}',True, True, True, True, True, True, True, multi_class=True)"
   ]
  },
  {
   "cell_type": "code",
   "execution_count": null,
   "metadata": {
    "id": "HiOP3dL6mYZq"
   },
   "outputs": [],
   "source": [
    "import torch.nn.functional as F\n",
    "from torch import Tensor\n",
    "import torch\n",
    "from torch.nn import Linear\n",
    "from torch_geometric.nn import BatchNorm, MemPooling, to_hetero, PairNorm\n",
    "from torch_geometric.data import HeteroData\n",
    "from Scripts.Models.BaseModels.HeteroGat import HeteroGat\n",
    "from Scripts.Models.BaseModels.HeteroLinear import HeteroLinear\n",
    "\n",
    "class HeteroDeepGraphEmbedding6(torch.nn.Module):\n",
    "\n",
    "    def __init__(self,\n",
    "                 input_feature: int, out_features: int,\n",
    "                 metadata,\n",
    "                 hidden_feature: int=256,\n",
    "                 device = 'cpu',\n",
    "                 dropout=0.1,\n",
    "                 edge_type_count=9,\n",
    "                 edge_type_weights=-1,\n",
    "                 active_keys = ['dep', 'tag', 'word', 'sentence', 'general'],\n",
    "                 num_pooling_classes=1\n",
    "                 ):\n",
    "\n",
    "        super(HeteroDeepGraphEmbedding6, self).__init__()\n",
    "        self.input_features = input_feature\n",
    "        self.num_out_features = out_features\n",
    "        self.hidden_feature: int = hidden_feature\n",
    "        self.edge_type_count = edge_type_count\n",
    "        self.edge_type_weights = torch.nn.Parameter(torch.tensor([1]* self.edge_type_count if edge_type_weights==-1 else  edge_type_weights).to(torch.float32), requires_grad=False)\n",
    "\n",
    "        self.part_weight_norm = torch.nn.LayerNorm((self.edge_type_count,))\n",
    "        self.norm = PairNorm()\n",
    "        self.drop = torch.nn.Dropout(0.2)\n",
    "        self.active_keys = active_keys\n",
    "\n",
    "        self.hetero_linear1 = to_hetero(HeteroLinear(self.input_features,self.hidden_feature, use_dropout=False, use_batch_norm=True), metadata)\n",
    "\n",
    "        self.hetero_gat_1 = to_hetero(HeteroGat(self.hidden_feature, self.hidden_feature, dropout, num_heads=2), metadata)\n",
    "        self.hetero_gat_2 = to_hetero(HeteroGat(self.hidden_feature, self.hidden_feature, dropout, num_heads=2), metadata)\n",
    "\n",
    "        self.hetero_linear_2 = to_hetero(HeteroLinear(self.hidden_feature, self.input_features, dropout, use_batch_norm=True), metadata)\n",
    "\n",
    "        self.num_pooling_classes = torch.nn.Parameter(torch.tensor(num_pooling_classes).to(torch.int32), requires_grad=False)\n",
    "        self.mem_pool = MemPooling(self.hidden_feature, self.hidden_feature, 2, self.num_pooling_classes)\n",
    "\n",
    "        self.linear_1 = Linear(self.hidden_feature* self.num_pooling_classes, self.hidden_feature)\n",
    "        self.linear_2 = Linear(self.hidden_feature, self.hidden_feature)\n",
    "        self.batch_norm_1 = BatchNorm(self.hidden_feature)\n",
    "\n",
    "        self.output_layer = Linear(self.hidden_feature, self.num_out_features)\n",
    "\n",
    "        self.dep_embedding = torch.nn.Embedding(45, self.input_features)\n",
    "        self.tag_embedding = torch.nn.Embedding(50, self.input_features)\n",
    "        self.dep_unembedding = torch.nn.Linear(self.hidden_feature, 45)\n",
    "        self.tag_unembedding = torch.nn.Linear(self.hidden_feature, 50)\n",
    "\n",
    "        self.pw1 = torch.nn.Parameter(torch.tensor(self.edge_type_weights, dtype=torch.float32), requires_grad=False)\n",
    "\n",
    "        self.x_batches = None\n",
    "        self.x_batches_cpu = None\n",
    "        self.x_dict_cpu_1 = None\n",
    "        self.x_dict_cpu_2 = None\n",
    "\n",
    "\n",
    "    def forward(self, x: HeteroData) -> Tensor:\n",
    "        self.x_batches = {k:x[k].batch for k in self.active_keys}\n",
    "        # self.x_batches_cpu = {k:self.x_batches[k].to('cpu') for k in self.active_keys}\n",
    "        x_dict, edge_attr_dict, edge_index_dict = self.preprocess_data(x)\n",
    "        edge_attr_dict = self.update_weights(edge_attr_dict, self.pw1)\n",
    "        x_dict = self.hetero_linear1(x_dict)\n",
    "        x_dict = self.hetero_gat_1(x_dict, edge_index_dict, edge_attr_dict)\n",
    "        # self.x_dict_cpu_1 = {k: x_dict[k].to('cpu') for k in x_dict}\n",
    "        self.normalize(x_dict, self.x_batches)\n",
    "        x_dict = self.hetero_gat_2(x_dict, edge_index_dict, edge_attr_dict)\n",
    "        # self.x_dict_cpu_2 = {k: x_dict[k].to('cpu') for k in x_dict}\n",
    "        x_pooled, S = self.mem_pool(x_dict['word'], self.x_batches['word'])\n",
    "\n",
    "        x_pooled = x_pooled.view(x_pooled.shape[0], -1)\n",
    "        x_pooled = F.relu(self.linear_1(x_pooled))\n",
    "        x_pooled = F.relu(self.batch_norm_1(self.linear_2(x_pooled)))\n",
    "        out = self.output_layer(x_pooled)\n",
    "\n",
    "        x_dict_out = self.hetero_linear_2(x_dict)\n",
    "        if 'dep' in x_dict_out:\n",
    "            x_dict_out['dep'] = self.dep_unembedding(x_dict['dep'])\n",
    "        if 'tag' in x_dict_out:\n",
    "            x_dict_out['tag'] = self.tag_unembedding(x_dict['tag'])\n",
    "\n",
    "        return out, x_dict_out\n",
    "\n",
    "    def preprocess_data(self, x):\n",
    "        x_dict = {key: x.x_dict[key] for key in x.x_dict}\n",
    "        if 'dep' in x_dict:\n",
    "            x_dict['dep'] = self.dep_embedding(x_dict['dep'])\n",
    "        if 'tag' in x_dict:\n",
    "            x_dict['tag'] = self.tag_embedding(x_dict['tag'])\n",
    "\n",
    "        edge_attr_dict = x.edge_attr_dict\n",
    "        edge_index_dict = x.edge_index_dict\n",
    "\n",
    "        return x_dict, edge_attr_dict, edge_index_dict\n",
    "\n",
    "    def normalize(self, x_dict, x_batches):\n",
    "        for k in self.active_keys:\n",
    "            vecs = x_dict[k]\n",
    "            if k not in x_batches:\n",
    "                print('k is not in x_batches')\n",
    "                continue\n",
    "            batches = x_batches[k]\n",
    "            if batches is None:\n",
    "                print('batches is none')\n",
    "                continue\n",
    "            if len(batches) == 0:\n",
    "                print('batches is empty')\n",
    "                continue\n",
    "\n",
    "            x_dict[k] = self.norm(vecs, batches)\n",
    "        return x_dict\n",
    "\n",
    "    def update_weights(self, edge_attr_dict, part_weights):\n",
    "        for i, key in enumerate(edge_attr_dict):\n",
    "            edge_attr = edge_attr_dict[key]\n",
    "            if edge_attr is None or edge_attr == ('word', 'seq', 'word'):\n",
    "                continue\n",
    "            edge_attr_dict[key]= edge_attr * part_weights[i]\n",
    "        return edge_attr_dict\n",
    "\n",
    "    def get_scale_same(self, scale:float, attributes: Tensor):\n",
    "        if attributes is None or len(attributes) == 0:\n",
    "            return\n",
    "        attributes = scale * torch.ones_like(attributes)\n",
    "        return attributes"
   ]
  },
  {
   "cell_type": "code",
   "execution_count": null,
   "metadata": {
    "id": "FQCOGSqOmYZq"
   },
   "outputs": [],
   "source": [
    "from typing import List\n",
    "import torch\n",
    "from torch import nn\n",
    "\n",
    "from Scripts.Models.LossFunctions.HeteroLossArgs import HeteroLossArgs\n",
    "\n",
    "\n",
    "class MulticlassHeteroLoss2(torch.nn.Module):\n",
    "    def __init__(self, exception_keys: List[str], enc_factor=0.0, *args, **kwargs) -> None:\n",
    "        super().__init__(*args, **kwargs)\n",
    "        self.cel_loss=  torch.nn.CrossEntropyLoss()\n",
    "        self.mse_loss = torch.nn.MSELoss()\n",
    "        self.exception_keys = exception_keys\n",
    "        self.enc_factor = enc_factor\n",
    "\n",
    "    def forward(self, out_pred: HeteroLossArgs, out_main: HeteroLossArgs):\n",
    "        loss = self.cel_loss(out_pred.y, out_main.y)\n",
    "        x_dict_keys = [k for k in out_pred.x_dict.keys() if k not in self.exception_keys]\n",
    "\n",
    "        for key in x_dict_keys:\n",
    "            tensor1 = out_pred.x_dict[key]\n",
    "            tensor2 = out_main.x_dict[key]\n",
    "            if tensor2.ndim == 1 and tensor2.dtype is torch.long:\n",
    "                tensor2 = torch.nn.functional.one_hot(input=tensor2.to(torch.long), num_classes=tensor1.shape[1]).to(torch.float32)\n",
    "            loss += self.enc_factor * (self.mse_loss(tensor1, tensor2))\n",
    "        return loss"
   ]
  },
  {
   "cell_type": "code",
   "execution_count": null,
   "metadata": {
    "colab": {
     "base_uri": "https://localhost:8080/"
    },
    "executionInfo": {
     "elapsed": 9,
     "status": "ok",
     "timestamp": 1716223995575,
     "user": {
      "displayName": "Razieh Askarizade",
      "userId": "02786395411903411644"
     },
     "user_tz": -210
    },
    "id": "WHxTKX9lmYZq",
    "outputId": "3cea6faa-a791-4dd7-f28a-516e55ead5fa"
   },
   "outputs": [
    {
     "data": {
      "text/plain": [
       "(['general', 'word'],\n",
       " [('general', 'general_word', 'word'),\n",
       "  ('word', 'word_general', 'general'),\n",
       "  ('word', 'seq', 'word')])"
      ]
     },
     "execution_count": 31,
     "metadata": {},
     "output_type": "execute_result"
    }
   ],
   "source": [
    "metadata"
   ]
  },
  {
   "cell_type": "code",
   "execution_count": null,
   "metadata": {
    "id": "uy53-o25mYZr"
   },
   "outputs": [],
   "source": [
    "# Fardin Rastakhiz @ 2023\n",
    "\n",
    "\n",
    "from torch import nn, Tensor\n",
    "import torch.nn.functional as F\n",
    "from torch_geometric.nn import BatchNorm\n",
    "\n",
    "\n",
    "class HeteroLinear(nn.Module):\n",
    "\n",
    "    def __init__(self, in_feature, out_feature, dropout = 0.2, use_dropout=True, use_batch_norm=False, use_activation=True) -> None:\n",
    "        super().__init__()\n",
    "        self.linear = nn.Linear(in_feature, out_feature)\n",
    "        self.batch_norm = BatchNorm(out_feature)\n",
    "        self.dropout= nn.Dropout(dropout)\n",
    "        self.use_batch_norm = use_batch_norm\n",
    "        self.use_dropout = use_dropout\n",
    "        self.use_activation=use_activation\n",
    "\n",
    "    def forward(self, x: Tensor) -> Tensor:\n",
    "\n",
    "        x = self.linear(x)\n",
    "        if self.use_batch_norm:\n",
    "            x = self.batch_norm(x)\n",
    "        if self.use_activation:\n",
    "            x = F.leaky_relu(x)\n",
    "        if self.use_dropout:\n",
    "            x = self.dropout(x)\n",
    "        return x"
   ]
  },
  {
   "cell_type": "code",
   "execution_count": null,
   "metadata": {
    "colab": {
     "base_uri": "https://localhost:8080/"
    },
    "executionInfo": {
     "elapsed": 5,
     "status": "ok",
     "timestamp": 1716223997491,
     "user": {
      "displayName": "Razieh Askarizade",
      "userId": "02786395411903411644"
     },
     "user_tz": -210
    },
    "id": "yw3mtF-omYZr",
    "outputId": "376b0388-9c45-40aa-a692-3f78df574b88"
   },
   "outputs": [
    {
     "name": "stdout",
     "output_type": "stream",
     "text": [
      "0\n"
     ]
    }
   ],
   "source": [
    "import torch\n",
    "print(torch.cuda.device_count())"
   ]
  },
  {
   "cell_type": "code",
   "execution_count": null,
   "metadata": {},
   "outputs": [
    {
     "data": {
      "text/plain": [
       "device(type='cpu')"
      ]
     },
     "execution_count": 34,
     "metadata": {},
     "output_type": "execute_result"
    }
   ],
   "source": [
    "device"
   ]
  },
  {
   "cell_type": "code",
   "execution_count": null,
   "metadata": {},
   "outputs": [
    {
     "data": {
      "text/plain": [
       "<bound method HeteroData.metadata of HeteroDataBatch(\n",
       "  general={\n",
       "    x=[2, 300],\n",
       "    batch=[2],\n",
       "    ptr=[3],\n",
       "  },\n",
       "  word={\n",
       "    x=[119, 300],\n",
       "    batch=[119],\n",
       "    ptr=[3],\n",
       "  },\n",
       "  (general, general_word, word)={\n",
       "    edge_index=[2, 119],\n",
       "    edge_attr=[119],\n",
       "  },\n",
       "  (word, word_general, general)={\n",
       "    edge_index=[2, 119],\n",
       "    edge_attr=[119],\n",
       "  },\n",
       "  (word, seq, word)={\n",
       "    edge_index=[2, 234],\n",
       "    edge_attr=[234],\n",
       "  }\n",
       ")>"
      ]
     },
     "execution_count": 35,
     "metadata": {},
     "output_type": "execute_result"
    }
   ],
   "source": [
    "X.metadata"
   ]
  },
  {
   "cell_type": "code",
   "execution_count": null,
   "metadata": {},
   "outputs": [],
   "source": [
    "# torch.concat([t1,t2,], dim=0)"
   ]
  },
  {
   "cell_type": "code",
   "execution_count": null,
   "metadata": {},
   "outputs": [],
   "source": [
    "X, y = next(iter(data_manager.train_dataloader()))"
   ]
  },
  {
   "cell_type": "code",
   "execution_count": null,
   "metadata": {},
   "outputs": [
    {
     "data": {
      "text/plain": [
       "tensor([[1., 0., 0.],\n",
       "        [1., 0., 0.]])"
      ]
     },
     "execution_count": 38,
     "metadata": {},
     "output_type": "execute_result"
    }
   ],
   "source": [
    "y"
   ]
  },
  {
   "cell_type": "code",
   "execution_count": null,
   "metadata": {},
   "outputs": [
    {
     "name": "stderr",
     "output_type": "stream",
     "text": [
      "C:\\Users\\razieh\\AppData\\Local\\Temp\\ipykernel_18488\\2718485509.py:57: UserWarning: To copy construct from a tensor, it is recommended to use sourceTensor.clone().detach() or sourceTensor.clone().detach().requires_grad_(True), rather than torch.tensor(sourceTensor).\n",
      "  self.pw1 = torch.nn.Parameter(torch.tensor(self.edge_type_weights, dtype=torch.float32), requires_grad=False)\n",
      "c:\\Users\\razieh\\AppData\\Local\\Programs\\Python\\Python312\\Lib\\site-packages\\torch\\optim\\lr_scheduler.py:28: UserWarning: The verbose parameter is deprecated. Please use get_last_lr() to access the learning rate.\n",
      "  warnings.warn(\"The verbose parameter is deprecated. Please use get_last_lr() \"\n",
      "c:\\Users\\razieh\\AppData\\Local\\Programs\\Python\\Python312\\Lib\\site-packages\\lightning\\pytorch\\utilities\\parsing.py:198: Attribute 'model' is an instance of `nn.Module` and is already saved during checkpointing. It is recommended to ignore them using `self.save_hyperparameters(ignore=['model'])`.\n",
      "GPU available: False, used: False\n",
      "TPU available: False, using: 0 TPU cores\n",
      "IPU available: False, using: 0 IPUs\n",
      "HPU available: False, using: 0 HPUs\n",
      "\n",
      "  | Name      | Type                      | Params\n",
      "--------------------------------------------------------\n",
      "0 | model     | HeteroDeepGraphEmbedding6 | 88.9 K\n",
      "1 | loss_func | MulticlassHeteroLoss2     | 0     \n",
      "2 | train_acc | MulticlassAccuracy        | 0     \n",
      "3 | val_acc   | MulticlassAccuracy        | 0     \n",
      "4 | test_acc  | MulticlassAccuracy        | 0     \n",
      "--------------------------------------------------------\n",
      "88.9 K    Trainable params\n",
      "23        Non-trainable params\n",
      "88.9 K    Total params\n",
      "0.356     Total estimated model params size (MB)\n",
      "c:\\Users\\razieh\\AppData\\Local\\Programs\\Python\\Python312\\Lib\\site-packages\\lightning\\pytorch\\trainer\\connectors\\data_connector.py:441: The 'train_dataloader' does not have many workers which may be a bottleneck. Consider increasing the value of the `num_workers` argument` to `num_workers=11` in the `DataLoader` to improve performance.\n",
      "c:\\Users\\razieh\\AppData\\Local\\Programs\\Python\\Python312\\Lib\\site-packages\\lightning\\pytorch\\loops\\fit_loop.py:293: The number of training batches (30) is smaller than the logging interval Trainer(log_every_n_steps=50). Set a lower value for log_every_n_steps if you want to see logs for the training epoch.\n",
      "c:\\Users\\razieh\\AppData\\Local\\Programs\\Python\\Python312\\Lib\\site-packages\\lightning\\pytorch\\trainer\\connectors\\data_connector.py:441: The 'val_dataloader' does not have many workers which may be a bottleneck. Consider increasing the value of the `num_workers` argument` to `num_workers=11` in the `DataLoader` to improve performance.\n"
     ]
    },
    {
     "name": "stdout",
     "output_type": "stream",
     "text": [
      "Epoch 0:   0%|          | 0/30 [00:00<?, ?it/s] Epoch 69: 100%|██████████| 30/30 [00:01<00:00, 26.86it/s, v_num=28, train_loss_step=0.797, train_acc_step=0.500, val_acc=0.800, train_loss_epoch=0.574, train_acc_epoch=0.800]"
     ]
    },
    {
     "name": "stderr",
     "output_type": "stream",
     "text": [
      "`Trainer.fit` stopped: `max_epochs=70` reached.\n"
     ]
    },
    {
     "name": "stdout",
     "output_type": "stream",
     "text": [
      "Epoch 69: 100%|██████████| 30/30 [00:01<00:00, 26.60it/s, v_num=28, train_loss_step=0.797, train_acc_step=0.500, val_acc=0.800, train_loss_epoch=0.574, train_acc_epoch=0.800]\n",
      "torch.Size([20, 3])\n",
      "torch.Size([20, 3])\n",
      "torch.Size([20])\n",
      "torch.Size([20])\n"
     ]
    },
    {
     "name": "stderr",
     "output_type": "stream",
     "text": [
      "c:\\Users\\razieh\\AppData\\Local\\Programs\\Python\\Python312\\Lib\\site-packages\\sklearn\\metrics\\_classification.py:1497: UndefinedMetricWarning: Precision is ill-defined and being set to 0.0 in labels with no predicted samples. Use `zero_division` parameter to control this behavior.\n",
      "  _warn_prf(average, modifier, f\"{metric.capitalize()} is\", len(result))\n",
      "c:\\Users\\razieh\\AppData\\Local\\Programs\\Python\\Python312\\Lib\\site-packages\\sklearn\\metrics\\_classification.py:1497: UndefinedMetricWarning: Precision is ill-defined and being set to 0.0 in labels with no predicted samples. Use `zero_division` parameter to control this behavior.\n",
      "  _warn_prf(average, modifier, f\"{metric.capitalize()} is\", len(result))\n",
      "c:\\Users\\razieh\\AppData\\Local\\Programs\\Python\\Python312\\Lib\\site-packages\\sklearn\\metrics\\_classification.py:1497: UndefinedMetricWarning: Precision is ill-defined and being set to 0.0 in labels with no predicted samples. Use `zero_division` parameter to control this behavior.\n",
      "  _warn_prf(average, modifier, f\"{metric.capitalize()} is\", len(result))\n",
      "c:\\Users\\razieh\\AppData\\Local\\Programs\\Python\\Python312\\Lib\\site-packages\\sklearn\\metrics\\_classification.py:1497: UndefinedMetricWarning: Precision is ill-defined and being set to 0.0 in labels with no predicted samples. Use `zero_division` parameter to control this behavior.\n",
      "  _warn_prf(average, modifier, f\"{metric.capitalize()} is\", len(result))\n"
     ]
    }
   ],
   "source": [
    "for i in range(1):\n",
    "    for k in edge_type_weights:\n",
    "        graph_embedding = HeteroDeepGraphEmbedding6(300, 3, metadata, 32, dropout=0.1, edge_type_count=2, edge_type_weights=edge_type_weights[k], active_keys=['word', 'general'])\n",
    "        graph_embedding = graph_embedding.to(device)\n",
    "        callbacks = [\n",
    "        ModelCheckpoint(save_top_k=5, mode='max', monitor='val_acc', save_last=True)\n",
    "        ]\n",
    "        loss_func = MulticlassHeteroLoss2(exception_keys=['word'], enc_factor=0.0003)\n",
    "        optimizer = torch.optim.Adam(graph_embedding.parameters(), lr=0.0045, weight_decay=0.00125)\n",
    "        lr_scheduler = torch.optim.lr_scheduler.MultiStepLR(optimizer, milestones=[6, 13, 28, 45, 60], gamma=0.5, verbose=True)\n",
    "        lightning_model = HeteroMultiClassLightningModel(graph_embedding, 4,\n",
    "                                            optimizer=optimizer,\n",
    "                                            loss_func=loss_func,\n",
    "                                            learning_rate=0.045,\n",
    "                                            batch_size=batch_size,\n",
    "                                            user_lr_scheduler=True,\n",
    "                                            lr_scheduler=lr_scheduler,\n",
    "                                            min_lr=0.0005\n",
    "                                            ).to(device)\n",
    "        lightning_model.model.to(device)\n",
    "\n",
    "        model_manager = ClassifierModelManager(graph_embedding, lightning_model, log_name='hetero_model_20_AG',device=device, num_train_epoch=70)\n",
    "        model_manager.fit(datamodule=data_manager)\n",
    "        # model_manager.save_plot_csv_logger(loss_names=['train_loss_epoch', 'val_loss'], eval_names=['train_acc_epoch', 'val_acc'], name_prepend=f'tests_{i}_{k}')\n",
    "        model_manager.torch_model = model_manager.torch_model.to(device)\n",
    "        save_evaluation(model_manager, data_manager.val_dataloader(), f'{i}_{k}',True, True, True, True, True, True, True, multi_class=True)"
   ]
  },
  {
   "cell_type": "code",
   "execution_count": null,
   "metadata": {
    "colab": {
     "base_uri": "https://localhost:8080/",
     "height": 1000
    },
    "executionInfo": {
     "elapsed": 2347,
     "status": "error",
     "timestamp": 1716224133188,
     "user": {
      "displayName": "Razieh Askarizade",
      "userId": "02786395411903411644"
     },
     "user_tz": -210
    },
    "id": "MtoMT-EcmYZr",
    "outputId": "105055f0-7d0e-47dd-d3d2-cc74dbd178da"
   },
   "outputs": [],
   "source": [
    "# for i in range(1):\n",
    "#     for k in edge_type_weights:\n",
    "#         graph_embedding = HeteroDeepGraphEmbedding6(300, 3, metadata, 32, dropout=0.1, edge_type_count=2, edge_type_weights=edge_type_weights[k], active_keys=['word', 'general'])\n",
    "#         graph_embedding = graph_embedding.to(device)\n",
    "#         callbacks = [\n",
    "#         ModelCheckpoint(save_top_k=5, mode='max', monitor='val_acc', save_last=True)\n",
    "#         ]\n",
    "#         loss_func = MulticlassHeteroLoss2(exception_keys=['word'], enc_factor=0.0003)\n",
    "#         optimizer = torch.optim.Adam(graph_embedding.parameters(), lr=0.0045, weight_decay=0.00125)\n",
    "#         lr_scheduler = torch.optim.lr_scheduler.MultiStepLR(optimizer, milestones=[6, 13, 28, 45, 60], gamma=0.5, verbose=True)\n",
    "#         lightning_model = HeteroMultiClassLightningModel(graph_embedding, 4,\n",
    "#                                             optimizer=optimizer,\n",
    "#                                             loss_func=loss_func,\n",
    "#                                             learning_rate=0.045,\n",
    "#                                             batch_size=batch_size,\n",
    "#                                             user_lr_scheduler=True,\n",
    "#                                             lr_scheduler=lr_scheduler,\n",
    "#                                             min_lr=0.0005\n",
    "#                                             ).to(device)\n",
    "#         lightning_model.model.to(device)\n",
    "\n",
    "#         model_manager = ClassifierModelManager(graph_embedding, lightning_model, log_name='hetero_model_20_AG',device=device, num_train_epoch=70)\n",
    "#         model_manager.fit(datamodule=data_manager)\n",
    "#         # model_manager.save_plot_csv_logger(loss_names=['train_loss_epoch', 'val_loss'], eval_names=['train_acc_epoch', 'val_acc'], name_prepend=f'tests_{i}_{k}')\n",
    "#         model_manager.torch_model = model_manager.torch_model.to(device)\n",
    "#         save_evaluation(model_manager, data_manager.val_dataloader(), f'{i}_{k}',True, True, True, True, True, True, True, multi_class=True)"
   ]
  },
  {
   "cell_type": "code",
   "execution_count": null,
   "metadata": {},
   "outputs": [
    {
     "data": {
      "image/png": "[encoded data removed]",
      "text/plain": [
       "<Figure size 640x480 with 1 Axes>"
      ]
     },
     "metadata": {},
     "output_type": "display_data"
    }
   ],
   "source": [
    "model_manager.save_plot_csv_logger(loss_names=['train_loss_epoch', 'val_loss'], eval_names=['train_acc_epoch', 'val_acc'], name_prepend=f'tests_{i}_{k}')\n"
   ]
  },
  {
   "cell_type": "code",
   "execution_count": null,
   "metadata": {
    "colab": {
     "base_uri": "https://localhost:8080/",
     "height": 1000
    },
    "executionInfo": {
     "elapsed": 1406,
     "status": "error",
     "timestamp": 1716224045099,
     "user": {
      "displayName": "Razieh Askarizade",
      "userId": "02786395411903411644"
     },
     "user_tz": -210
    },
    "id": "ILIHIy58mYZr",
    "outputId": "c7cd1a39-b3fa-44e5-dc43-78da3e67b8ca"
   },
   "outputs": [],
   "source": [
    "# for i in range(1):\n",
    "#     for k in edge_type_weights:\n",
    "#         graph_embedding = HeteroDeepGraphEmbedding6(300, 4, metadata, 16, dropout=0.1, edge_type_count=2, edge_type_weights=edge_type_weights[k])\n",
    "#         graph_embedding = graph_embedding.to(device)\n",
    "#         callbacks = [\n",
    "#         ModelCheckpoint(save_top_k=5, mode='max', monitor='val_acc', save_last=True)\n",
    "#         ]\n",
    "#         loss_func = MulticlassHeteroLoss2(exception_keys=['word'], enc_factor=0.0003)\n",
    "#         optimizer = torch.optim.Adam(graph_embedding.parameters(), lr=0.0045, weight_decay=0.00125)\n",
    "#         lr_scheduler = torch.optim.lr_scheduler.MultiStepLR(optimizer, milestones=[6, 13, 28, 45, 60], gamma=0.5, verbose=True)\n",
    "#         lightning_model = HeteroMultiClassLightningModel(graph_embedding, 4,\n",
    "#                                             optimizer=optimizer,\n",
    "#                                             loss_func=loss_func,\n",
    "#                                             learning_rate=0.045,\n",
    "#                                             batch_size=batch_size,\n",
    "#                                             user_lr_scheduler=True,\n",
    "#                                             lr_scheduler=lr_scheduler,\n",
    "#                                             min_lr=0.0005\n",
    "#                                             ).to(device)\n",
    "#         lightning_model.model.to(device)\n",
    "\n",
    "#         model_manager = ClassifierModelManager(graph_embedding, lightning_model, log_name='hetero_model_20_AG',device=device, num_train_epoch=70)\n",
    "#         model_manager.fit(datamodule=data_manager)\n",
    "#         model_manager.save_plot_csv_logger(loss_names=['train_loss_epoch', 'val_loss'], eval_names=['train_acc_epoch', 'val_acc'], name_prepend=f'tests_{i}_{k}')\n",
    "#         model_manager.torch_model = model_manager.torch_model.to(device)\n",
    "#         save_evaluation(model_manager, data_manager.val_dataloader(), f'{i}_{k}',True, True, True, True, True, True, True, multi_class=True)"
   ]
  },
  {
   "cell_type": "code",
   "execution_count": null,
   "metadata": {
    "id": "DhCZBq6vmYZr"
   },
   "outputs": [],
   "source": [
    "# for i in range(1):\n",
    "#     for k in edge_type_weights:\n",
    "#         graph_embedding = HeteroDeepGraphEmbedding6(300, 3, metadata, 32, dropout=0.1, edge_type_count=9, edge_type_weights=edge_type_weights[k])\n",
    "#         graph_embedding = graph_embedding.to(device)\n",
    "#         callbacks = [\n",
    "#         ModelCheckpoint(save_top_k=5, mode='max', monitor='val_acc', save_last=True)\n",
    "#         ]\n",
    "#         loss_func = MulticlassHeteroLoss2(exception_keys=['word'], enc_factor=0.0003)\n",
    "#         optimizer = torch.optim.Adam(graph_embedding.parameters(), lr=0.0045, weight_decay=0.00125)\n",
    "#         lr_scheduler = torch.optim.lr_scheduler.MultiStepLR(optimizer, milestones=[6, 13, 28, 45, 60], gamma=0.5, verbose=True)\n",
    "#         lightning_model = HeteroMultiClassLightningModel(graph_embedding, 4,\n",
    "#                                             optimizer=optimizer,\n",
    "#                                             loss_func=loss_func,\n",
    "#                                             learning_rate=0.045,\n",
    "#                                             batch_size=batch_size,\n",
    "#                                             user_lr_scheduler=True,\n",
    "#                                             lr_scheduler=lr_scheduler,\n",
    "#                                             min_lr=0.0005\n",
    "#                                             ).to(device)\n",
    "#         lightning_model.model.to(device)\n",
    "\n",
    "#         model_manager = ClassifierModelManager(graph_embedding, lightning_model, log_name='hetero_model_20_AG',device=device, num_train_epoch=70)\n",
    "#         model_manager.fit(datamodule=data_manager)\n",
    "        # model_manager.save_plot_csv_logger(loss_names=['train_loss_epoch', 'val_loss'], eval_names=['train_acc_epoch', 'val_acc'], name_prepend=f'tests_{i}_{k}')\n",
    "        # model_manager.torch_model = model_manager.torch_model.to(device)\n",
    "        # save_evaluation(model_manager, data_manager.val_dataloader(), f'{i}_{k}',True, True, True, True, True, True, True, multi_class=True)"
   ]
  },
  {
   "cell_type": "code",
   "execution_count": null,
   "metadata": {
    "colab": {
     "base_uri": "https://localhost:8080/",
     "height": 911
    },
    "executionInfo": {
     "elapsed": 16,
     "status": "error",
     "timestamp": 1716224700537,
     "user": {
      "displayName": "Razieh Askarizade",
      "userId": "02786395411903411644"
     },
     "user_tz": -210
    },
    "id": "hwT1G5QgmYZr",
    "outputId": "fc88d8ae-b1f1-495d-f45c-a0503594220d"
   },
   "outputs": [],
   "source": [
    "# model_manager.trainer.fit_loop.max_epochs=100\n",
    "# # model_manager.trainer.fit_loop.max_steps=-1\n",
    "\n",
    "# model_manager.fit(datamodule=data_manager)\n",
    "# model_manager.save_plot_csv_logger(loss_names=['train_loss_epoch', 'val_loss'], eval_names=['train_acc_epoch', 'val_acc'], name_prepend=f'tests2_{k}')\n",
    "# model_manager.torch_model = model_manager.torch_model.to(device)\n",
    "# save_evaluation(model_manager, data_manager.val_dataloader(), f'tests2_{k}',True, True, True, True, True, True, True, multi_class=True)"
   ]
  },
  {
   "cell_type": "code",
   "execution_count": null,
   "metadata": {
    "colab": {
     "base_uri": "https://localhost:8080/"
    },
    "executionInfo": {
     "elapsed": 648,
     "status": "ok",
     "timestamp": 1716225213227,
     "user": {
      "displayName": "Razieh Askarizade",
      "userId": "02786395411903411644"
     },
     "user_tz": -210
    },
    "id": "eUTwSIP0mYZs",
    "outputId": "a8742cca-a19f-4e38-ad5a-8ff0399048d9"
   },
   "outputs": [
    {
     "data": {
      "text/plain": [
       "False"
      ]
     },
     "execution_count": 45,
     "metadata": {},
     "output_type": "execute_result"
    }
   ],
   "source": [
    "torch.cuda.is_available()"
   ]
  },
  {
   "cell_type": "code",
   "execution_count": null,
   "metadata": {
    "colab": {
     "base_uri": "https://localhost:8080/",
     "height": 245
    },
    "executionInfo": {
     "elapsed": 18,
     "status": "error",
     "timestamp": 1716225214004,
     "user": {
      "displayName": "Razieh Askarizade",
      "userId": "02786395411903411644"
     },
     "user_tz": -210
    },
    "id": "uIAnXuk6mYZs",
    "outputId": "f6e5ce4c-b609-4310-9b70-f86ff12ec367"
   },
   "outputs": [],
   "source": [
    "# graph_embedding = HeteroDeepGraphEmbedding6(300, 4, X3.metadata(), 32, dropout=0.2, edge_type_count=11, edge_type_weights=edge_type_weights[k])\n",
    "# graph_embedding = graph_embedding.to(device)\n",
    "# lightning_model = HeteroMultiClassLightningModel.load_from_checkpoint(r'logs\\hetero_model_18_AG\\version_26\\checkpoints\\epoch=74-step=35100.ckpt', model=graph_embedding, num_classes=4)\n",
    "# lightning_model.eval()\n",
    "# # lightning_model.model.to(device)\n",
    "# model_manager.torch_model = model_manager.torch_model.to(device)\n",
    "# save_evaluation(model_manager, data_manager.val_dataloader(), 'test11_t',True, True, True, True, True, True, True, multi_class=True)"
   ]
  },
  {
   "cell_type": "code",
   "execution_count": null,
   "metadata": {
    "colab": {
     "base_uri": "https://localhost:8080/",
     "height": 176
    },
    "executionInfo": {
     "elapsed": 710,
     "status": "error",
     "timestamp": 1716225145942,
     "user": {
      "displayName": "Razieh Askarizade",
      "userId": "02786395411903411644"
     },
     "user_tz": -210
    },
    "id": "ZC_HpbS1mYZs",
    "outputId": "1465e4a4-ddcf-433d-83c9-9e30969a2f33"
   },
   "outputs": [],
   "source": [
    "# mega_graphs = {}\n",
    "# for k in [1, 2]:\n",
    "#     mega_graphs[k] = sgc.to_graph(mega_texts[k])"
   ]
  },
  {
   "cell_type": "code",
   "execution_count": null,
   "metadata": {
    "id": "IyHZHFNkmYZs"
   },
   "outputs": [],
   "source": [
    "import torch_geometric"
   ]
  },
  {
   "cell_type": "code",
   "execution_count": null,
   "metadata": {
    "colab": {
     "base_uri": "https://localhost:8080/",
     "height": 193
    },
    "executionInfo": {
     "elapsed": 16,
     "status": "error",
     "timestamp": 1716225150997,
     "user": {
      "displayName": "Razieh Askarizade",
      "userId": "02786395411903411644"
     },
     "user_tz": -210
    },
    "id": "kFeMsPpmmYZw",
    "outputId": "3f4bdb46-218e-40b2-e210-9ffe7fddb2a0"
   },
   "outputs": [],
   "source": [
    "# mega_X = torch_geometric.data.Batch.from_data_list([mega_graphs[i].to(device) for i in [1, 2, 3, 4]])"
   ]
  },
  {
   "cell_type": "code",
   "execution_count": null,
   "metadata": {
    "colab": {
     "base_uri": "https://localhost:8080/",
     "height": 176
    },
    "executionInfo": {
     "elapsed": 654,
     "status": "error",
     "timestamp": 1716225157308,
     "user": {
      "displayName": "Razieh Askarizade",
      "userId": "02786395411903411644"
     },
     "user_tz": -210
    },
    "id": "xE45Qz4dmYZw",
    "outputId": "43d56aab-b4f2-4cfb-8a97-9fbe5657a9a8"
   },
   "outputs": [],
   "source": [
    "# lightning_model.eval()\n",
    "\n",
    "# with torch.no_grad():\n",
    "#     y_pred = lightning_model(mega_X.to(device))"
   ]
  },
  {
   "cell_type": "code",
   "execution_count": null,
   "metadata": {
    "colab": {
     "base_uri": "https://localhost:8080/",
     "height": 211
    },
    "executionInfo": {
     "elapsed": 844,
     "status": "error",
     "timestamp": 1716225163758,
     "user": {
      "displayName": "Razieh Askarizade",
      "userId": "02786395411903411644"
     },
     "user_tz": -210
    },
    "id": "eXq8tLFAmYZw",
    "outputId": "d9fcd5d4-def4-4892-8e4d-8eb27e88ff5d"
   },
   "outputs": [],
   "source": [
    "# if type(y_pred) is tuple:\n",
    "#     y_pred = y_pred[0]\n",
    "# y_pred2 = []\n",
    "# y_pred2 = y_pred.detach().to('cpu')\n",
    "# y_true_num = torch.argmax(y_pred2, dim=1)"
   ]
  },
  {
   "cell_type": "code",
   "execution_count": null,
   "metadata": {
    "colab": {
     "base_uri": "https://localhost:8080/",
     "height": 141
    },
    "executionInfo": {
     "elapsed": 17,
     "status": "error",
     "timestamp": 1716225163759,
     "user": {
      "displayName": "Razieh Askarizade",
      "userId": "02786395411903411644"
     },
     "user_tz": -210
    },
    "id": "383iW1TQmYZw",
    "outputId": "f1b73fd1-6047-4940-ee39-588398ce647e"
   },
   "outputs": [],
   "source": [
    "# y_true_num"
   ]
  },
  {
   "cell_type": "code",
   "execution_count": null,
   "metadata": {
    "colab": {
     "base_uri": "https://localhost:8080/",
     "height": 141
    },
    "executionInfo": {
     "elapsed": 656,
     "status": "error",
     "timestamp": 1716225165271,
     "user": {
      "displayName": "Razieh Askarizade",
      "userId": "02786395411903411644"
     },
     "user_tz": -210
    },
    "id": "FZSajkh-mYZw",
    "outputId": "2fbadd7b-b088-4fb1-b4f2-5297d3a41090"
   },
   "outputs": [],
   "source": [
    "# y_pred[0]"
   ]
  },
  {
   "cell_type": "code",
   "execution_count": null,
   "metadata": {
    "colab": {
     "base_uri": "https://localhost:8080/",
     "height": 141
    },
    "executionInfo": {
     "elapsed": 16,
     "status": "error",
     "timestamp": 1716225166452,
     "user": {
      "displayName": "Razieh Askarizade",
      "userId": "02786395411903411644"
     },
     "user_tz": -210
    },
    "id": "_C022lCimYZw",
    "outputId": "dd7f9aff-6ee9-45ac-eeed-8fd315c7da56"
   },
   "outputs": [],
   "source": [
    "# mega_graphs[1]"
   ]
  },
  {
   "cell_type": "code",
   "execution_count": null,
   "metadata": {
    "colab": {
     "base_uri": "https://localhost:8080/",
     "height": 141
    },
    "executionInfo": {
     "elapsed": 16,
     "status": "error",
     "timestamp": 1716225168332,
     "user": {
      "displayName": "Razieh Askarizade",
      "userId": "02786395411903411644"
     },
     "user_tz": -210
    },
    "id": "Jt41SZ3MmYZw",
    "outputId": "5f9f0df2-a81b-4ddf-8163-ad38447fef43"
   },
   "outputs": [],
   "source": [
    "# len(mega_texts[1])"
   ]
  },
  {
   "cell_type": "code",
   "execution_count": null,
   "metadata": {
    "id": "wacfjlR2mYZw"
   },
   "outputs": [],
   "source": [
    "\n",
    "model_manager.lightning_model.loss_func.enc_factor=0.0001\n",
    "# model_manager.update_learning_rate(0.0003)\n",
    "\n",
    "optimizer = torch.optim.Adam(graph_embedding.parameters(), lr=0.0003, weight_decay=0.0012)\n",
    "model_manager.lightning_model.configure_optimizers()['lr_scheduler']['scheduler'].optimizer = optimizer\n",
    "# model_manager.lightning_model.configure_optimizers()['lr_scheduler']['scheduler'].milestones = Counter(milestones)\n",
    "model_manager.lightning_model.optimizer =optimizer"
   ]
  },
  {
   "cell_type": "code",
   "execution_count": null,
   "metadata": {
    "colab": {
     "base_uri": "https://localhost:8080/",
     "height": 966
    },
    "executionInfo": {
     "elapsed": 24,
     "status": "error",
     "timestamp": 1716225169293,
     "user": {
      "displayName": "Razieh Askarizade",
      "userId": "02786395411903411644"
     },
     "user_tz": -210
    },
    "id": "l9fPbxYlmYZx",
    "outputId": "34679ca2-6209-4775-a2ed-5de9f453bd7c"
   },
   "outputs": [],
   "source": [
    "# model_manager.fit(datamodule=data_manager)\n",
    "\n",
    "# model_manager.save_plot_csv_logger(loss_names=['train_loss_epoch', 'val_loss'], eval_names=['train_acc_epoch', 'val_acc'], name_prepend=f'tests2_{k}')\n",
    "# model_manager.torch_model = model_manager.torch_model.to(device)\n",
    "# save_evaluation(model_manager, data_manager.val_dataloader(), f'{k}2',True, True, True, True, True, True, True, multi_class=True)"
   ]
  },
  {
   "cell_type": "code",
   "execution_count": null,
   "metadata": {
    "colab": {
     "base_uri": "https://localhost:8080/",
     "height": 304
    },
    "executionInfo": {
     "elapsed": 19,
     "status": "error",
     "timestamp": 1716225170325,
     "user": {
      "displayName": "Razieh Askarizade",
      "userId": "02786395411903411644"
     },
     "user_tz": -210
    },
    "id": "yGxkMH03mYZx",
    "outputId": "cd43e983-8fd7-4d0c-e9d6-a3ffdb89c41b"
   },
   "outputs": [],
   "source": [
    "# model_manager.torch_model = model_manager.torch_model.to(device)\n",
    "# save_evaluation(model_manager, data_manager.test_dataloader(), 'test1_t',True, True, True, True, True, True, True, multi_class=True)"
   ]
  },
  {
   "cell_type": "code",
   "execution_count": null,
   "metadata": {
    "id": "Ao_x5SRAmYZx"
   },
   "outputs": [],
   "source": [
    "model_manager.trainer.save_checkpoint(r'logs\\hetero_model_17_AG\\version_12\\checkpoints\\last_checkpoint_140.ckpt')"
   ]
  },
  {
   "cell_type": "code",
   "execution_count": null,
   "metadata": {
    "id": "h9sbmfshmYZx"
   },
   "outputs": [],
   "source": [
    "model_manager.update_learning_rate(0.0005625)"
   ]
  },
  {
   "cell_type": "code",
   "execution_count": null,
   "metadata": {
    "colab": {
     "base_uri": "https://localhost:8080/",
     "height": 341
    },
    "executionInfo": {
     "elapsed": 24,
     "status": "error",
     "timestamp": 1716225171272,
     "user": {
      "displayName": "Razieh Askarizade",
      "userId": "02786395411903411644"
     },
     "user_tz": -210
    },
    "id": "APfljHzcmYZx",
    "outputId": "796cf3af-0e68-4784-fdaa-761460e9e7a5"
   },
   "outputs": [],
   "source": [
    "# model_manager.fit(datamodule=data_manager, ckpt_path=r'logs\\hetero_model_17_AG\\version_12\\checkpoints\\epoch=51-step=24076.ckpt')"
   ]
  },
  {
   "cell_type": "code",
   "execution_count": null,
   "metadata": {
    "id": "dSxewJ1nmYZx"
   },
   "outputs": [],
   "source": []
  },
  {
   "cell_type": "code",
   "execution_count": null,
   "metadata": {
    "colab": {
     "base_uri": "https://localhost:8080/",
     "height": 391
    },
    "executionInfo": {
     "elapsed": 18,
     "status": "error",
     "timestamp": 1716225172285,
     "user": {
      "displayName": "Razieh Askarizade",
      "userId": "02786395411903411644"
     },
     "user_tz": -210
    },
    "id": "lEFtaEZumYZx",
    "outputId": "02425dc6-8f7b-442d-fb8d-3756b7bbdd1f"
   },
   "outputs": [],
   "source": [
    "# optimizer = torch.optim.Adam(graph_embedding.parameters(), lr=0.001, weight_decay=0.0005)\n",
    "# lr_scheduler = torch.optim.lr_scheduler.MultiStepLR(optimizer, milestones=[5, 15, 35], gamma=0.5, verbose=True)\n",
    "# graph_embedding = HeteroDeepGraphEmbedding4(300, 4, X3.metadata(), 256, device, 0.2, 11)\n",
    "# lightning_model = HeteroMultiClassLightningModel.load_from_checkpoint(r'logs\\hetero_model_11_AG\\version_5\\checkpoints\\epoch=1-step=882.ckpt',\n",
    "#                                     model=graph_embedding,\n",
    "#                                     num_classes=4)\n",
    "                                    # ,\n",
    "                                    # optimizer=optimizer,\n",
    "                                    # loss_func=loss_func,\n",
    "                                    # learning_rate=0.001,\n",
    "                                    # batch_size=batch_size,\n",
    "                                    # lr_scheduler=lr_scheduler,\n",
    "                                    # user_lr_scheduler=True,\n",
    "                                    # min_lr=0.00003)"
   ]
  },
  {
   "cell_type": "code",
   "execution_count": null,
   "metadata": {
    "id": "4IQfemM0mYZy"
   },
   "outputs": [],
   "source": [
    "from os import path\n",
    "from sklearn.metrics import classification_report, f1_score, accuracy_score, precision_score, recall_score, confusion_matrix, hinge_loss\n",
    "import torchmetrics\n",
    "\n",
    "def save_evaluation(model_mgr, l_model, eval_dataloader, name_prepend: str='',\n",
    "                 give_confusion_matrix: bool=True,\n",
    "                 give_report: bool=True,\n",
    "                 give_f1_score: bool=False,\n",
    "                 give_accuracy_score: bool=False,\n",
    "                 give_precision_score: bool=False,\n",
    "                 give_recall_score: bool=False,\n",
    "                 give_hinge_loss: bool=False,\n",
    "                 multi_class: bool=False\n",
    "                 ):\n",
    "\n",
    "        test_metrics_path = path.join(model_mgr.log_dir, model_mgr.log_name, f'version_{model_mgr.logger.version}', f'{name_prepend}_test_metrics.txt')\n",
    "\n",
    "        y_true = []\n",
    "        y_pred = []\n",
    "        for X, y in eval_dataloader:\n",
    "            l_model.eval()\n",
    "            with torch.no_grad():\n",
    "                y_p = l_model(X.to(model_mgr.device))\n",
    "            if type(y_p) is tuple:\n",
    "                y_p = y_p[0]\n",
    "\n",
    "            if multi_class:\n",
    "                y_pred.append(y_p.detach().to(y.device))\n",
    "                y_true.append(y)\n",
    "            else:\n",
    "                y_pred.append((y_p>0).to(torch.int32).detach().to(y.device))\n",
    "                y_true.append(y.to(torch.int32))\n",
    "        y_true = torch.concat(y_true)\n",
    "        y_pred = torch.concat(y_pred)\n",
    "        print(y_true.shape)\n",
    "        print(y_pred.shape)\n",
    "        if multi_class:\n",
    "            y_true_num = torch.argmax(y_true, dim=1)\n",
    "            y_pred_num = torch.argmax(y_pred, dim=1)\n",
    "        else:\n",
    "            y_true_num = y_true\n",
    "            y_pred_num = y_pred\n",
    "\n",
    "        print(y_true_num.shape)\n",
    "        print(y_pred_num.shape)\n",
    "        with open(test_metrics_path, 'at+') as f:\n",
    "            if(give_confusion_matrix):\n",
    "                print(f'confusion_matrix: \\n{confusion_matrix(y_true_num, y_pred_num)}', file=f)\n",
    "            if(give_report):\n",
    "                print(classification_report(y_true_num, y_pred_num), file=f)\n",
    "            if(give_f1_score):\n",
    "                if multi_class:\n",
    "                    print(f'f1_score: {f1_score(y_true_num, y_pred_num, average=None)}', file=f)\n",
    "                else:\n",
    "                    print(f'f1_score: {f1_score(y_true_num, y_pred_num)}', file=f)\n",
    "            if(give_accuracy_score):\n",
    "                print(f'accuracy_score: {accuracy_score(y_true_num, y_pred_num)}', file=f)\n",
    "            if(give_precision_score):\n",
    "                if multi_class:\n",
    "                    print(f'f1_score: {precision_score(y_true_num, y_pred_num, average=None)}', file=f)\n",
    "                else:\n",
    "                    print(f'f1_score: {precision_score(y_true_num, y_pred_num)}', file=f)\n",
    "            if(give_recall_score):\n",
    "                if multi_class:\n",
    "                    print(f'f1_score: {recall_score(y_true_num, y_pred_num, average=None)}', file=f)\n",
    "                else:\n",
    "                    print(f'f1_score: {recall_score(y_true_num, y_pred_num)}', file=f)\n",
    "            if(give_hinge_loss):\n",
    "                print(f'hinge_loss: {hinge_loss(y_true_num, y_pred)}', file=f)\n",
    "\n",
    "        # test_acc = torchmetrics.Accuracy(task=\"multiclass\", num_classes=4)\n",
    "        # test_f1 = torchmetrics.F1Score(task=\"multiclass\", num_classes=4)\n",
    "        # test_precision = torchmetrics.Precision(task=\"multiclass\", num_classes=4)\n",
    "        # test_recall = torchmetrics.Recall(task=\"multiclass\", num_classes=4)\n",
    "        # test_confusion_m = torchmetrics.ConfusionMatrix(task=\"multiclass\", num_classes=4)\n",
    "\n",
    "        # print(f'test_acc: {test_acc(y_true_num, y_pred_num)}')\n",
    "        # print(f'test_f1: {test_f1(y_true_num, y_pred_num)}')\n",
    "        # print(f'test_precision: {test_precision(y_true_num, y_pred_num)}')\n",
    "        # print(f'test_recall: {test_recall(y_true_num, y_pred_num)}')\n",
    "        # print(f'test_confusion_m: \\n{test_confusion_m(y_true_num, y_pred_num)}')"
   ]
  },
  {
   "cell_type": "code",
   "execution_count": null,
   "metadata": {
    "colab": {
     "base_uri": "https://localhost:8080/"
    },
    "executionInfo": {
     "elapsed": 9,
     "status": "ok",
     "timestamp": 1716225174018,
     "user": {
      "displayName": "Razieh Askarizade",
      "userId": "02786395411903411644"
     },
     "user_tz": -210
    },
    "id": "zlltGlwxmYZy",
    "outputId": "2028fd02-7390-4ea8-dd5a-28b3a680adda"
   },
   "outputs": [
    {
     "data": {
      "text/plain": [
       "Adam (\n",
       "Parameter Group 0\n",
       "    amsgrad: False\n",
       "    betas: (0.9, 0.999)\n",
       "    capturable: False\n",
       "    differentiable: False\n",
       "    eps: 1e-08\n",
       "    foreach: None\n",
       "    fused: None\n",
       "    lr: 0.0005625\n",
       "    maximize: False\n",
       "    weight_decay: 0.0012\n",
       ")"
      ]
     },
     "execution_count": 65,
     "metadata": {},
     "output_type": "execute_result"
    }
   ],
   "source": [
    "lightning_model.optimizer"
   ]
  },
  {
   "cell_type": "code",
   "execution_count": null,
   "metadata": {
    "colab": {
     "base_uri": "https://localhost:8080/",
     "height": 304
    },
    "executionInfo": {
     "elapsed": 15,
     "status": "error",
     "timestamp": 1716225175380,
     "user": {
      "displayName": "Razieh Askarizade",
      "userId": "02786395411903411644"
     },
     "user_tz": -210
    },
    "id": "RpgIe5oqmYZy",
    "outputId": "96a87a0d-5878-46d6-c8fd-37edc061a324"
   },
   "outputs": [],
   "source": [
    "# save_evaluation(model_manager, lightning_model, data_manager.test_dataloader(), 'chpt_n',True, True, True, True, True, True, True, multi_class=True)"
   ]
  },
  {
   "cell_type": "code",
   "execution_count": null,
   "metadata": {
    "colab": {
     "base_uri": "https://localhost:8080/",
     "height": 445
    },
    "executionInfo": {
     "elapsed": 25,
     "status": "error",
     "timestamp": 1716225176638,
     "user": {
      "displayName": "Razieh Askarizade",
      "userId": "02786395411903411644"
     },
     "user_tz": -210
    },
    "id": "2p-bIliVmYZy",
    "outputId": "fc8bf004-c7ac-4e67-8a26-aae30f4dffd6"
   },
   "outputs": [],
   "source": [
    "# optimizer = torch.optim.Adam(graph_embedding.parameters(), lr=0.001, weight_decay=0.0005)\n",
    "# lr_scheduler = torch.optim.lr_scheduler.MultiStepLR(optimizer, milestones=[5, 15, 35], gamma=0.5, verbose=True)\n",
    "# lightning_model = HeteroMultiClassLightningModel.load_from_checkpoint(r'logs\\hetero_model_16_AG\\version_12\\checkpoints\\epoch=137-step=60858.ckpt',\n",
    "#                                     model=graph_embedding,\n",
    "#                                     num_classes=4)\n",
    "\n",
    "# save_evaluation(model_manager, lightning_model, data_manager.test_dataloader(), 'chpt_1',True, True, True, True, True, True, True, multi_class=True)"
   ]
  },
  {
   "cell_type": "code",
   "execution_count": null,
   "metadata": {
    "id": "uYkChwtqmYZy"
   },
   "outputs": [
    {
     "ename": "AttributeError",
     "evalue": "property 'max_steps' of '_FitLoop' object has no setter",
     "output_type": "error",
     "traceback": [
      "\u001b[1;31m---------------------------------------------------------------------------\u001b[0m",
      "\u001b[1;31mAttributeError\u001b[0m                            Traceback (most recent call last)",
      "Cell \u001b[1;32mIn[68], line 2\u001b[0m\n\u001b[0;32m      1\u001b[0m model_manager\u001b[38;5;241m.\u001b[39mtrainer\u001b[38;5;241m.\u001b[39mfit_loop\u001b[38;5;241m.\u001b[39mmax_epochs\u001b[38;5;241m=\u001b[39m\u001b[38;5;241m100\u001b[39m\n\u001b[1;32m----> 2\u001b[0m \u001b[43mmodel_manager\u001b[49m\u001b[38;5;241;43m.\u001b[39;49m\u001b[43mtrainer\u001b[49m\u001b[38;5;241;43m.\u001b[39;49m\u001b[43mfit_loop\u001b[49m\u001b[38;5;241;43m.\u001b[39;49m\u001b[43mmax_steps\u001b[49m\u001b[38;5;241m=\u001b[39m\u001b[38;5;241m-\u001b[39m\u001b[38;5;241m1\u001b[39m\n\u001b[0;32m      4\u001b[0m model_manager\u001b[38;5;241m.\u001b[39mfit(datamodule\u001b[38;5;241m=\u001b[39mdata_manager)\n",
      "\u001b[1;31mAttributeError\u001b[0m: property 'max_steps' of '_FitLoop' object has no setter"
     ]
    }
   ],
   "source": [
    "model_manager.trainer.fit_loop.max_epochs=100\n",
    "model_manager.trainer.fit_loop.max_steps=-1\n",
    "\n",
    "model_manager.fit(datamodule=data_manager)"
   ]
  },
  {
   "cell_type": "code",
   "execution_count": null,
   "metadata": {
    "colab": {
     "base_uri": "https://localhost:8080/",
     "height": 304
    },
    "executionInfo": {
     "elapsed": 17,
     "status": "error",
     "timestamp": 1716225177870,
     "user": {
      "displayName": "Razieh Askarizade",
      "userId": "02786395411903411644"
     },
     "user_tz": -210
    },
    "id": "tGngZjGRmYZy",
    "outputId": "301945cb-2ae2-45d0-c18b-76689e4b8c1f"
   },
   "outputs": [],
   "source": [
    "\n",
    "# model_manager.trainer.model.eval()\n",
    "# model_manager.trainer.model(X3)"
   ]
  },
  {
   "cell_type": "code",
   "execution_count": null,
   "metadata": {
    "id": "mcc5x0vwmYZz"
   },
   "outputs": [],
   "source": [
    "# t_dataloader = data_manager.train_dataloader()\n",
    "\n",
    "for X1, y1 in val_dataloader:\n",
    "    model_manager.trainer.model.eval()\n",
    "    with torch.no_grad():\n",
    "        y1_pred = model_manager.trainer.model(X1.to(device))\n",
    "    acc = model_manager.lightning_model.train_acc(torch.argmax(y1_pred[0], dim=1), torch.argmax(y1.to(device), dim=1))\n",
    "    print(acc)"
   ]
  },
  {
   "cell_type": "code",
   "execution_count": null,
   "metadata": {
    "colab": {
     "base_uri": "https://localhost:8080/"
    },
    "executionInfo": {
     "elapsed": 6,
     "status": "ok",
     "timestamp": 1716225178554,
     "user": {
      "displayName": "Razieh Askarizade",
      "userId": "02786395411903411644"
     },
     "user_tz": -210
    },
    "id": "mvWxU9xfmYZz",
    "outputId": "78993ae8-c1ea-4e2b-a27c-975e66a6345b"
   },
   "outputs": [
    {
     "data": {
      "text/plain": [
       "MulticlassAccuracy()"
      ]
     },
     "execution_count": 78,
     "metadata": {},
     "output_type": "execute_result"
    }
   ],
   "source": [
    "# X1, y1 = next(iter(t_dataloader))\n",
    "model_manager.lightning_model.train_acc"
   ]
  },
  {
   "cell_type": "code",
   "execution_count": null,
   "metadata": {
    "colab": {
     "base_uri": "https://localhost:8080/",
     "height": 356
    },
    "executionInfo": {
     "elapsed": 15,
     "status": "error",
     "timestamp": 1716225180368,
     "user": {
      "displayName": "Razieh Askarizade",
      "userId": "02786395411903411644"
     },
     "user_tz": -210
    },
    "id": "HvlL3T2ZmYZz",
    "outputId": "c1e8403d-54c7-4c6b-e564-2d32547bf152"
   },
   "outputs": [],
   "source": [
    "# model_manager.save_plot_csv_logger(loss_names=['train_loss_epoch', 'val_loss'], eval_names=['train_acc_epoch', 'val_acc'], name_prepend=f'tests_{k}')\n",
    "# model_manager.torch_model = model_manager.torch_model.to(device)\n",
    "# save_evaluation(model_manager, data_manager.test_dataloader(), f'{k}',True, True, True, True, True, True, True, multi_class=True)"
   ]
  },
  {
   "cell_type": "code",
   "execution_count": null,
   "metadata": {
    "colab": {
     "base_uri": "https://localhost:8080/",
     "height": 356
    },
    "executionInfo": {
     "elapsed": 15,
     "status": "error",
     "timestamp": 1716225181243,
     "user": {
      "displayName": "Razieh Askarizade",
      "userId": "02786395411903411644"
     },
     "user_tz": -210
    },
    "id": "qRQu1GOZmYZz",
    "outputId": "a2f0e6df-a59b-4f24-e033-7684fb0ffe22"
   },
   "outputs": [],
   "source": [
    "# model_manager.save_plot_csv_logger(loss_names=['train_loss_epoch', 'val_loss'], eval_names=['train_acc_epoch', 'val_acc'], name_prepend=f'tests_{k}')\n",
    "# model_manager.torch_model = model_manager.torch_model.to(device)\n",
    "# save_evaluation(model_manager, data_manager.val_dataloader(), f'{k}',True, True, True, True, True, True, True, multi_class=True)"
   ]
  },
  {
   "cell_type": "code",
   "execution_count": null,
   "metadata": {
    "colab": {
     "base_uri": "https://localhost:8080/",
     "height": 356
    },
    "executionInfo": {
     "elapsed": 18,
     "status": "error",
     "timestamp": 1716225182043,
     "user": {
      "displayName": "Razieh Askarizade",
      "userId": "02786395411903411644"
     },
     "user_tz": -210
    },
    "id": "TmIdj5f6mYZz",
    "outputId": "ec19d85c-f0d0-4258-8356-a1eabf97c81e"
   },
   "outputs": [],
   "source": [
    "# model_manager.save_plot_csv_logger(loss_names=['train_loss_epoch', 'val_loss'], eval_names=['train_acc_epoch', 'val_acc'], name_prepend=f'tests_{k}')\n",
    "# model_manager.torch_model = model_manager.torch_model.to(device)\n",
    "# save_evaluation(model_manager, data_manager.train_dataloader(), f'{k}',True, True, True, True, True, True, True, multi_class=True)"
   ]
  },
  {
   "cell_type": "code",
   "execution_count": null,
   "metadata": {
    "id": "1QOGsmVV_gE6"
   },
   "outputs": [],
   "source": []
  },
  {
   "cell_type": "markdown",
   "metadata": {
    "id": "dnUC8jr5gMad"
   },
   "source": [
    "# Text to Graph Tasks"
   ]
  },
  {
   "cell_type": "markdown",
   "metadata": {
    "id": "uOKL6FBH_zQn"
   },
   "source": [
    "# Test \\Practices\\Tasks\\TextToGraph\\TextToTagsGraph.ipynb"
   ]
  },
  {
   "cell_type": "code",
   "execution_count": null,
   "metadata": {
    "executionInfo": {
     "elapsed": 4,
     "status": "ok",
     "timestamp": 1716468033643,
     "user": {
      "displayName": "Razieh Askarizade",
      "userId": "02786395411903411644"
     },
     "user_tz": -210
    },
    "id": "tIt1mYPzAB0Z"
   },
   "outputs": [],
   "source": [
    "import pandas as pd\n",
    "train_df = pd.read_csv(r'/content/Beyond-Words/data/DigiKala/train_sm.csv')\n",
    "test_df = pd.read_csv(r'/content/Beyond-Words/data/DigiKala/test_sm.csv')"
   ]
  },
  {
   "cell_type": "code",
   "execution_count": null,
   "metadata": {
    "executionInfo": {
     "elapsed": 3,
     "status": "ok",
     "timestamp": 1716468033643,
     "user": {
      "displayName": "Razieh Askarizade",
      "userId": "02786395411903411644"
     },
     "user_tz": -210
    },
    "id": "rkfKroRbAC_f"
   },
   "outputs": [],
   "source": [
    "train_df.columns = ['comment', 'label', 'label_id']\n",
    "test_df.columns = ['comment', 'label', 'label_id']"
   ]
  },
  {
   "cell_type": "code",
   "execution_count": null,
   "metadata": {
    "executionInfo": {
     "elapsed": 4,
     "status": "ok",
     "timestamp": 1716468034349,
     "user": {
      "displayName": "Razieh Askarizade",
      "userId": "02786395411903411644"
     },
     "user_tz": -210
    },
    "id": "PsawqJzyA-12"
   },
   "outputs": [],
   "source": [
    "train_df = train_df[['label', 'comment']]\n",
    "test_df = test_df[['label', 'comment']]"
   ]
  },
  {
   "cell_type": "code",
   "execution_count": null,
   "metadata": {
    "executionInfo": {
     "elapsed": 3,
     "status": "ok",
     "timestamp": 1716468034349,
     "user": {
      "displayName": "Razieh Askarizade",
      "userId": "02786395411903411644"
     },
     "user_tz": -210
    },
    "id": "tDzE3SKZBRK_"
   },
   "outputs": [],
   "source": [
    "from Scripts.DataManager.GraphConstructor.TagsGraphConstructor import TagsGraphConstructor"
   ]
  },
  {
   "cell_type": "code",
   "execution_count": null,
   "metadata": {
    "colab": {
     "base_uri": "https://localhost:8080/",
     "height": 1000,
     "referenced_widgets": [
      "be07496d154f46fda5f3876ce44e3cfb",
      "c070b77c1ec642a1a2351df3115ad01d",
      "dece932760e34c9a9e7366b4b35c9c1c",
      "59ee63fa27774ef68052feb93d87c9a6",
      "beeec285c73d49f2bbad35e0668b9517",
      "c6ecaaca24154ba7877f2e682080799c",
      "30eca086cd0748c6ba6eda9544badcad",
      "d2ec7502301946989584af66c71e2e12",
      "e946a27972df41ef888d35429d556f58",
      "2a3a52f67bc74d37af032585f12eed85",
      "aec6078fa450455ea8a75c6c1570d7bf"
     ]
    },
    "executionInfo": {
     "elapsed": 92749,
     "status": "ok",
     "timestamp": 1716225770334,
     "user": {
      "displayName": "Razieh Askarizade",
      "userId": "02786395411903411644"
     },
     "user_tz": -210
    },
    "id": "WKuQH4DsBICv",
    "outputId": "945916f7-5fa4-4734-a969-637e2d33e99f"
   },
   "outputs": [
    {
     "name": "stderr",
     "output_type": "stream",
     "text": [
      "INFO:stanza:Checking for updates to resources.json in case models have been updated.  Note: this behavior can be turned off with download_method=None or download_method=DownloadMethod.REUSE_RESOURCES\n"
     ]
    },
    {
     "data": {
      "application/vnd.jupyter.widget-view+json": {
       "model_id": "be07496d154f46fda5f3876ce44e3cfb",
       "version_major": 2,
       "version_minor": 0
      },
      "text/plain": [
       "Downloading https://raw.githubusercontent.com/stanfordnlp/stanza-resources/main/resources_1.8.0.json:   0%|   …"
      ]
     },
     "metadata": {},
     "output_type": "display_data"
    },
    {
     "name": "stderr",
     "output_type": "stream",
     "text": [
      "INFO:stanza:Downloaded file to /root/stanza_resources/resources.json\n",
      "INFO:stanza:Loading these models for language: fa (Persian):\n",
      "==============================\n",
      "| Processor | Package        |\n",
      "------------------------------\n",
      "| tokenize  | perdt          |\n",
      "| mwt       | perdt          |\n",
      "| pos       | perdt_charlm   |\n",
      "| lemma     | perdt_nocharlm |\n",
      "| depparse  | perdt_charlm   |\n",
      "| ner       | arman          |\n",
      "==============================\n",
      "\n",
      "INFO:stanza:Using device: cuda\n",
      "INFO:stanza:Loading: tokenize\n",
      "INFO:stanza:Loading: mwt\n",
      "INFO:stanza:Loading: pos\n",
      "INFO:stanza:Loading: lemma\n",
      "INFO:stanza:Loading: depparse\n",
      "INFO:stanza:Loading: ner\n",
      "INFO:stanza:Done loading processors!\n",
      " Creating Graphs : 100%|██████████| 10/10 [00:00<00:00, 80815.11it/s]\n"
     ]
    },
    {
     "name": "stdout",
     "output_type": "stream",
     "text": [
      "غذا\n",
      "خیلی\n",
      "سرد\n",
      "بود\n",
      "در\n",
      "صورتیکه\n",
      "فاصله\n",
      "ما\n",
      "خیلی\n",
      "کم\n",
      "است\n",
      "بهتره\n",
      "تونید\n",
      "ران\n",
      "یا\n",
      "سینه\n",
      "رو\n",
      "خود\n",
      "مون\n",
      "انتخاب\n",
      "کرد\n",
      "غذا\n",
      "بد\n",
      "بود\n",
      "حالم\n",
      "خیییییلی\n",
      "داد\n",
      ".\n",
      "دل\n",
      "دردو\n",
      "دل\n",
      "پیچید\n",
      ".\n",
      "معلوم\n",
      "هست\n",
      "چه\n",
      "توش\n",
      "ریختن\n",
      ".\n",
      "افتضاااااااااح\n",
      "بود\n",
      ".\n",
      "دوساعته\n",
      "ک\n",
      "حالم\n",
      "داد\n",
      ".\n",
      "با\n",
      "سلام\n",
      "سابق\n",
      "بر\n",
      "این\n",
      "بسته\n",
      "بند\n",
      "از\n",
      "کیفیت\n",
      "به\n",
      "برخوردار\n",
      "بود\n",
      ".\n",
      "ولی\n",
      "در\n",
      "حال\n",
      "حاضر\n",
      "ایراد\n",
      "وجود\n",
      "داشت\n",
      ".\n",
      "به\n",
      "طور\n",
      "نمونه\n",
      "نوشابه\n",
      "قوطی\n",
      "فاقد\n",
      "نی\n",
      "هست\n",
      "،\n",
      "چنگال\n",
      "برای\n",
      "سرو\n",
      "سیب\n",
      "زمینی\n",
      "داشت\n",
      "،\n",
      "دستمال\n",
      "کاغذی\n",
      "هم\n",
      "در\n",
      "بسته\n",
      "بند\n",
      "هست\n",
      ".\n",
      "سلام\n",
      "،\n",
      "خیلی\n",
      "ممنون\n",
      "و\n",
      "متشکرم\n",
      "خیلی\n",
      "زود\n",
      "رسید\n",
      "و\n",
      "ممنون\n",
      "من\n",
      "ازشون\n",
      "ماده\n",
      "پیتزا\n",
      "بسیااار\n",
      "کم\n",
      "بود\n",
      "با\n",
      "اینکه\n",
      "قیمت\n",
      "اصلا\n",
      "پایین\n",
      "هست\n",
      ".\n",
      "ولی\n",
      "کلا\n",
      "طعم\n",
      "پیتزا\n",
      "خوب\n",
      "و\n",
      "تازه\n",
      "بود\n",
      "کیفیت\n",
      "زیاد\n",
      "خوب\n",
      "بود\n",
      "،\n",
      "مرغ\n",
      "که\n",
      "واسه\n",
      "ما\n",
      "آوردن\n",
      "بو\n",
      "داد\n",
      "انگار\n",
      "که\n",
      "موند\n",
      "بود\n",
      "!\n",
      "همه\n",
      "چه\n",
      "خوب\n",
      "بود\n",
      ".\n",
      "ولی\n",
      "اگه\n",
      "تخفیف\n",
      "داشت\n",
      "اصلا\n",
      "خرید\n",
      "کرد\n",
      "چون\n",
      "گرونه\n",
      "رفت\n",
      ":\n",
      ")\n",
      "filename: /content/Beyond-Words/data\\GraphData\\Tag/graph_var.txt\n",
      "self.start_data_load: 0\n",
      "self.end_data_load: 10\n",
      "self.saving_batch_size: 1000\n"
     ]
    },
    {
     "name": "stderr",
     "output_type": "stream",
     "text": [
      "\r\n",
      " Loding Graphs From File :   0%|          | 0/1 [00:00<?, ?it/s]"
     ]
    },
    {
     "name": "stdout",
     "output_type": "stream",
     "text": [
      "data path: /content/Beyond-Words/data\\GraphData\\Tag/0_10_compressed.pt\n",
      "first step after loading data\n"
     ]
    },
    {
     "name": "stderr",
     "output_type": "stream",
     "text": [
      "\n",
      "Prepare loaded data:   0%|          | 0/10 [00:00<?, ?it/s]\u001b[A\n",
      "Prepare loaded data:  10%|█         | 1/10 [00:03<00:32,  3.65s/it]\u001b[A\n",
      "Prepare loaded data:  20%|██        | 2/10 [00:09<00:40,  5.08s/it]\u001b[A\n",
      "Prepare loaded data:  30%|███       | 3/10 [00:14<00:33,  4.84s/it]\u001b[A\n",
      "Prepare loaded data:  40%|████      | 4/10 [00:17<00:24,  4.05s/it]\u001b[A\n",
      "Prepare loaded data:  50%|█████     | 5/10 [00:19<00:17,  3.60s/it]\u001b[A\n",
      "Prepare loaded data:  60%|██████    | 6/10 [00:24<00:15,  3.83s/it]\u001b[A\n",
      "Prepare loaded data:  70%|███████   | 7/10 [00:31<00:15,  5.07s/it]\u001b[A\n",
      "Prepare loaded data:  80%|████████  | 8/10 [00:35<00:09,  4.52s/it]\u001b[A\n",
      "Prepare loaded data:  90%|█████████ | 9/10 [00:37<00:03,  3.99s/it]\u001b[A\n",
      "Prepare loaded data: 100%|██████████| 10/10 [00:42<00:00,  4.22s/it]\n"
     ]
    },
    {
     "name": "stdout",
     "output_type": "stream",
     "text": [
      "before pass\n"
     ]
    },
    {
     "name": "stderr",
     "output_type": "stream",
     "text": [
      " Loding Graphs From File : 100%|██████████| 1/1 [01:12<00:00, 72.27s/it]"
     ]
    },
    {
     "name": "stdout",
     "output_type": "stream",
     "text": [
      "after loading data and pass\n"
     ]
    },
    {
     "name": "stderr",
     "output_type": "stream",
     "text": [
      "\n"
     ]
    }
   ],
   "source": [
    "graph_const = TagsGraphConstructor(train_df['comment'][:10], r'data\\GraphData\\Tag', config, naming_prepend='graph', load_preprocessed_data=False, use_compression=True)\n",
    "graph_const.setup(load_preprocessed_data=False)\n"
   ]
  },
  {
   "cell_type": "code",
   "execution_count": null,
   "metadata": {
    "colab": {
     "base_uri": "https://localhost:8080/"
    },
    "executionInfo": {
     "elapsed": 1380,
     "status": "ok",
     "timestamp": 1716225779762,
     "user": {
      "displayName": "Razieh Askarizade",
      "userId": "02786395411903411644"
     },
     "user_tz": -210
    },
    "id": "dRrvfEGuBRqd",
    "outputId": "b2fa049d-1fc4-4b26-f5bd-41c177e9414e"
   },
   "outputs": [
    {
     "name": "stdout",
     "output_type": "stream",
     "text": [
      "غذا\n",
      "خیلی\n",
      "سرد\n",
      "بود\n",
      "در\n",
      "صورتیکه\n",
      "فاصله\n",
      "ما\n",
      "خیلی\n",
      "کم\n",
      "است\n",
      "بهتره\n",
      "تونید\n",
      "ران\n",
      "یا\n",
      "سینه\n",
      "رو\n",
      "خود\n",
      "مون\n",
      "انتخاب\n",
      "کرد\n",
      "غذا\n",
      "بد\n",
      "بود\n",
      "حالم\n",
      "خیییییلی\n",
      "داد\n",
      ".\n",
      "دل\n",
      "دردو\n",
      "دل\n",
      "پیچید\n",
      ".\n",
      "معلوم\n",
      "هست\n",
      "چه\n",
      "توش\n",
      "ریختن\n",
      ".\n",
      "افتضاااااااااح\n",
      "بود\n",
      ".\n",
      "دوساعته\n",
      "ک\n",
      "حالم\n",
      "داد\n",
      ".\n",
      "با\n",
      "سلام\n",
      "سابق\n",
      "بر\n",
      "این\n",
      "بسته\n",
      "بند\n",
      "از\n",
      "کیفیت\n",
      "به\n",
      "برخوردار\n",
      "بود\n",
      ".\n",
      "ولی\n",
      "در\n",
      "حال\n",
      "حاضر\n",
      "ایراد\n",
      "وجود\n",
      "داشت\n",
      ".\n",
      "به\n",
      "طور\n",
      "نمونه\n",
      "نوشابه\n",
      "قوطی\n",
      "فاقد\n",
      "نی\n",
      "هست\n",
      "،\n",
      "چنگال\n",
      "برای\n",
      "سرو\n",
      "سیب\n",
      "زمینی\n",
      "داشت\n",
      "،\n",
      "دستمال\n",
      "کاغذی\n",
      "هم\n",
      "در\n",
      "بسته\n",
      "بند\n",
      "هست\n",
      ".\n",
      "سلام\n",
      "،\n",
      "خیلی\n",
      "ممنون\n",
      "و\n",
      "متشکرم\n",
      "خیلی\n",
      "زود\n",
      "رسید\n",
      "و\n",
      "ممنون\n",
      "من\n",
      "ازشون\n",
      "ماده\n",
      "پیتزا\n",
      "بسیااار\n",
      "کم\n",
      "بود\n",
      "با\n",
      "اینکه\n",
      "قیمت\n",
      "اصلا\n",
      "پایین\n",
      "هست\n",
      ".\n",
      "ولی\n",
      "کلا\n",
      "طعم\n",
      "پیتزا\n",
      "خوب\n",
      "و\n",
      "تازه\n",
      "بود\n",
      "کیفیت\n",
      "زیاد\n",
      "خوب\n",
      "بود\n",
      "،\n",
      "مرغ\n",
      "که\n",
      "واسه\n",
      "ما\n",
      "آوردن\n",
      "بو\n",
      "داد\n",
      "انگار\n",
      "که\n",
      "موند\n",
      "بود\n",
      "!\n",
      "همه\n",
      "چه\n",
      "خوب\n",
      "بود\n",
      ".\n",
      "ولی\n",
      "اگه\n",
      "تخفیف\n",
      "داشت\n",
      "اصلا\n",
      "خرید\n",
      "کرد\n",
      "چون\n",
      "گرونه\n",
      "رفت\n",
      ":\n",
      ")\n"
     ]
    }
   ],
   "source": [
    "graph_const.save_all_data_compressed()"
   ]
  },
  {
   "cell_type": "code",
   "execution_count": null,
   "metadata": {
    "colab": {
     "base_uri": "https://localhost:8080/"
    },
    "executionInfo": {
     "elapsed": 34074,
     "status": "ok",
     "timestamp": 1716225813828,
     "user": {
      "displayName": "Razieh Askarizade",
      "userId": "02786395411903411644"
     },
     "user_tz": -210
    },
    "id": "hDfCTaVjBj-r",
    "outputId": "413e32cc-eef9-4bc3-d0c7-9ec74ef12748"
   },
   "outputs": [
    {
     "name": "stdout",
     "output_type": "stream",
     "text": [
      "filename: /content/Beyond-Words/data\\GraphData\\Tag/graph_var.txt\n",
      "data loading 0\n"
     ]
    }
   ],
   "source": [
    "graph_const.load_all_data_comppressed()"
   ]
  },
  {
   "cell_type": "code",
   "execution_count": null,
   "metadata": {
    "colab": {
     "base_uri": "https://localhost:8080/",
     "height": 479,
     "referenced_widgets": [
      "19c11b106f0e41a2b7fe645054006992",
      "9374c159397845f097d7f48a5c985dcc",
      "ddab99b615cf44a9bbee11ec13025641",
      "4f67baed18854a27a9a504435c6269cb",
      "6e18c667fee740fc9596f63aa2943901",
      "6a94700d24a04515861280520c8fa01b",
      "e90e1795edb5496998fe4005e39f6604",
      "85a4af05a8624644863664dbdcc9cca3",
      "950886ff45414df2a90967bcd6921c81",
      "8b28f92e50f244fa949703e902fde977",
      "bea02085c8344dc3a438947f47a7e607"
     ]
    },
    "executionInfo": {
     "elapsed": 8294,
     "status": "ok",
     "timestamp": 1716225979842,
     "user": {
      "displayName": "Razieh Askarizade",
      "userId": "02786395411903411644"
     },
     "user_tz": -210
    },
    "id": "1vblkdtGBoWX",
    "outputId": "9bafd347-9c24-48d4-bd71-a0c7119f8c91"
   },
   "outputs": [
    {
     "name": "stderr",
     "output_type": "stream",
     "text": [
      "INFO:stanza:Checking for updates to resources.json in case models have been updated.  Note: this behavior can be turned off with download_method=None or download_method=DownloadMethod.REUSE_RESOURCES\n"
     ]
    },
    {
     "data": {
      "application/vnd.jupyter.widget-view+json": {
       "model_id": "19c11b106f0e41a2b7fe645054006992",
       "version_major": 2,
       "version_minor": 0
      },
      "text/plain": [
       "Downloading https://raw.githubusercontent.com/stanfordnlp/stanza-resources/main/resources_1.8.0.json:   0%|   …"
      ]
     },
     "metadata": {},
     "output_type": "display_data"
    },
    {
     "name": "stderr",
     "output_type": "stream",
     "text": [
      "INFO:stanza:Downloaded file to /root/stanza_resources/resources.json\n",
      "INFO:stanza:Loading these models for language: fa (Persian):\n",
      "==============================\n",
      "| Processor | Package        |\n",
      "------------------------------\n",
      "| tokenize  | perdt          |\n",
      "| mwt       | perdt          |\n",
      "| pos       | perdt_charlm   |\n",
      "| lemma     | perdt_nocharlm |\n",
      "| depparse  | perdt_charlm   |\n",
      "| ner       | arman          |\n",
      "==============================\n",
      "\n",
      "INFO:stanza:Using device: cuda\n",
      "INFO:stanza:Loading: tokenize\n",
      "INFO:stanza:Loading: mwt\n",
      "INFO:stanza:Loading: pos\n",
      "INFO:stanza:Loading: lemma\n",
      "INFO:stanza:Loading: depparse\n",
      "INFO:stanza:Loading: ner\n",
      "INFO:stanza:Done loading processors!\n"
     ]
    }
   ],
   "source": [
    "graph_const = TagsGraphConstructor(train_df['comment'][:10], r'data\\GraphData\\Tag', config, naming_prepend='graph', load_preprocessed_data=False, use_compression=True)"
   ]
  },
  {
   "cell_type": "code",
   "execution_count": null,
   "metadata": {
    "colab": {
     "base_uri": "https://localhost:8080/",
     "height": 321
    },
    "executionInfo": {
     "elapsed": 647,
     "status": "error",
     "timestamp": 1716226098331,
     "user": {
      "displayName": "Razieh Askarizade",
      "userId": "02786395411903411644"
     },
     "user_tz": -210
    },
    "id": "Mcvy3AlOByIW",
    "outputId": "e50d165c-d762-4ebc-ecd6-6d1d5ef9fc06"
   },
   "outputs": [
    {
     "ename": "IndexError",
     "evalue": "list index out of range",
     "output_type": "error",
     "traceback": [
      "\u001b[0;31m---------------------------------------------------------------------------\u001b[0m",
      "\u001b[0;31mIndexError\u001b[0m                                Traceback (most recent call last)",
      "\u001b[0;32m<ipython-input-100-6e4251b62f6c>\u001b[0m in \u001b[0;36m<cell line: 1>\u001b[0;34m()\u001b[0m\n\u001b[0;32m----> 1\u001b[0;31m \u001b[0mprint\u001b[0m\u001b[0;34m(\u001b[0m\u001b[0mgraph_const\u001b[0m\u001b[0;34m.\u001b[0m\u001b[0mget_first\u001b[0m\u001b[0;34m(\u001b[0m\u001b[0;34m)\u001b[0m\u001b[0;34m)\u001b[0m\u001b[0;34m\u001b[0m\u001b[0;34m\u001b[0m\u001b[0m\n\u001b[0m\u001b[1;32m      2\u001b[0m \u001b[0mprint\u001b[0m\u001b[0;34m(\u001b[0m\u001b[0mgraph_const\u001b[0m\u001b[0;34m.\u001b[0m\u001b[0mget_first\u001b[0m\u001b[0;34m(\u001b[0m\u001b[0;34m)\u001b[0m\u001b[0;34m[\u001b[0m\u001b[0;34m\"word\"\u001b[0m\u001b[0;34m]\u001b[0m\u001b[0;34m.\u001b[0m\u001b[0mx\u001b[0m\u001b[0;34m)\u001b[0m\u001b[0;34m\u001b[0m\u001b[0;34m\u001b[0m\u001b[0m\n\u001b[1;32m      3\u001b[0m \u001b[0mprint\u001b[0m\u001b[0;34m(\u001b[0m\u001b[0mgraph_const\u001b[0m\u001b[0;34m.\u001b[0m\u001b[0mget_first\u001b[0m\u001b[0;34m(\u001b[0m\u001b[0;34m)\u001b[0m\u001b[0;34m[\u001b[0m\u001b[0;34m\"tag\"\u001b[0m\u001b[0;34m]\u001b[0m\u001b[0;34m.\u001b[0m\u001b[0mx\u001b[0m\u001b[0;34m)\u001b[0m\u001b[0;34m\u001b[0m\u001b[0;34m\u001b[0m\u001b[0m\n",
      "\u001b[0;32m/content/Beyond-Words/Scripts/DataManager/GraphConstructor/GraphConstructor.py\u001b[0m in \u001b[0;36mget_first\u001b[0;34m(self)\u001b[0m\n\u001b[1;32m    142\u001b[0m \u001b[0;34m\u001b[0m\u001b[0m\n\u001b[1;32m    143\u001b[0m     \u001b[0;32mdef\u001b[0m \u001b[0mget_first\u001b[0m\u001b[0;34m(\u001b[0m\u001b[0mself\u001b[0m\u001b[0;34m)\u001b[0m\u001b[0;34m:\u001b[0m\u001b[0;34m\u001b[0m\u001b[0;34m\u001b[0m\u001b[0m\n\u001b[0;32m--> 144\u001b[0;31m         \u001b[0;32mreturn\u001b[0m \u001b[0mself\u001b[0m\u001b[0;34m.\u001b[0m\u001b[0mget_graph\u001b[0m\u001b[0;34m(\u001b[0m\u001b[0;36m0\u001b[0m\u001b[0;34m)\u001b[0m\u001b[0;34m\u001b[0m\u001b[0;34m\u001b[0m\u001b[0m\n\u001b[0m\u001b[1;32m    145\u001b[0m \u001b[0;34m\u001b[0m\u001b[0m\n\u001b[1;32m    146\u001b[0m     \u001b[0;32mdef\u001b[0m \u001b[0msave_all_data\u001b[0m\u001b[0;34m(\u001b[0m\u001b[0mself\u001b[0m\u001b[0;34m)\u001b[0m\u001b[0;34m:\u001b[0m\u001b[0;34m\u001b[0m\u001b[0;34m\u001b[0m\u001b[0m\n",
      "\u001b[0;32m/content/Beyond-Words/Scripts/DataManager/GraphConstructor/GraphConstructor.py\u001b[0m in \u001b[0;36mget_graph\u001b[0;34m(self, idx)\u001b[0m\n\u001b[1;32m    118\u001b[0m \u001b[0;34m\u001b[0m\u001b[0m\n\u001b[1;32m    119\u001b[0m     \u001b[0;32mdef\u001b[0m \u001b[0mget_graph\u001b[0m\u001b[0;34m(\u001b[0m\u001b[0mself\u001b[0m\u001b[0;34m,\u001b[0m \u001b[0midx\u001b[0m\u001b[0;34m:\u001b[0m \u001b[0mint\u001b[0m\u001b[0;34m)\u001b[0m\u001b[0;34m:\u001b[0m\u001b[0;34m\u001b[0m\u001b[0;34m\u001b[0m\u001b[0m\n\u001b[0;32m--> 120\u001b[0;31m         \u001b[0;32mif\u001b[0m \u001b[0mself\u001b[0m\u001b[0;34m.\u001b[0m\u001b[0m_graphs\u001b[0m\u001b[0;34m[\u001b[0m\u001b[0midx\u001b[0m\u001b[0;34m]\u001b[0m \u001b[0;32mis\u001b[0m \u001b[0;32mNone\u001b[0m\u001b[0;34m:\u001b[0m\u001b[0;34m\u001b[0m\u001b[0;34m\u001b[0m\u001b[0m\n\u001b[0m\u001b[1;32m    121\u001b[0m             \u001b[0mself\u001b[0m\u001b[0;34m.\u001b[0m\u001b[0m_graphs\u001b[0m\u001b[0;34m[\u001b[0m\u001b[0midx\u001b[0m\u001b[0;34m]\u001b[0m \u001b[0;34m=\u001b[0m \u001b[0mself\u001b[0m\u001b[0;34m.\u001b[0m\u001b[0mto_graph\u001b[0m\u001b[0;34m(\u001b[0m\u001b[0mself\u001b[0m\u001b[0;34m.\u001b[0m\u001b[0mraw_data\u001b[0m\u001b[0;34m[\u001b[0m\u001b[0midx\u001b[0m\u001b[0;34m]\u001b[0m\u001b[0;34m)\u001b[0m\u001b[0;34m\u001b[0m\u001b[0;34m\u001b[0m\u001b[0m\n\u001b[1;32m    122\u001b[0m             \u001b[0mself\u001b[0m\u001b[0;34m.\u001b[0m\u001b[0mvar\u001b[0m\u001b[0;34m.\u001b[0m\u001b[0mgraphs_name\u001b[0m\u001b[0;34m[\u001b[0m\u001b[0midx\u001b[0m\u001b[0;34m]\u001b[0m \u001b[0;34m=\u001b[0m \u001b[0;34mf'{self.naming_prepend}_{idx}'\u001b[0m\u001b[0;34m\u001b[0m\u001b[0;34m\u001b[0m\u001b[0m\n",
      "\u001b[0;31mIndexError\u001b[0m: list index out of range"
     ]
    }
   ],
   "source": [
    "print(graph_const.get_first())\n",
    "print(graph_const.get_first()[\"word\"].x)\n",
    "print(graph_const.get_first()[\"tag\"].x)"
   ]
  },
  {
   "cell_type": "markdown",
   "metadata": {
    "id": "VROa90yRGrBO"
   },
   "source": [
    "# Test \\Practices\\Tasks\\TextToGraph\\TextToSequentialGraph.ipynb"
   ]
  },
  {
   "cell_type": "code",
   "execution_count": null,
   "metadata": {
    "executionInfo": {
     "elapsed": 672,
     "status": "ok",
     "timestamp": 1716468054909,
     "user": {
      "displayName": "Razieh Askarizade",
      "userId": "02786395411903411644"
     },
     "user_tz": -210
    },
    "id": "GfzNucWsGwGy"
   },
   "outputs": [],
   "source": [
    "from Scripts.DataManager.GraphConstructor.SequentialGraphConstructor import SequentialGraphConstructor"
   ]
  },
  {
   "cell_type": "code",
   "execution_count": null,
   "metadata": {
    "colab": {
     "base_uri": "https://localhost:8080/",
     "height": 1000,
     "referenced_widgets": [
      "2e875679acfe4545a332c33179cede23",
      "60f8ed6203fb4c48b7929d80867178aa",
      "b09c621fda58449980e5505852705fcf",
      "3f532d07f3ab4d6a8f216134e9c691ff",
      "3ef570403e7d4b88bcb9bafb7a0096c4",
      "48946dc4d6da46bc9b027218e75297f7",
      "0a726291b52f40cfa3d4e194b586f882",
      "a25a955fd35348e8920324f13deaa628",
      "d4d435bbfa8f4f1da00fa7033c42d49e",
      "42f68f7d32c34b04a45d72d3f547fcee",
      "08adc9f019df46db8b48d657e39dab86",
      "c4ca1111c14c48879a8d855e016f1de1",
      "91decba4b3604720ba09bf06eae9901e",
      "634ef7c3793744de821b4102a5c9be7e",
      "b22dc51845c44b25898f7f3b6e74896f",
      "e588d36ea8c74b79a6323fec85df3333",
      "2c61f9279def49b18f1d4fbcc878afe1",
      "f6ef49e20e3a4b5ca4cdd9cbfcc4a941",
      "0b0bb85bb6a4470a90f2ed2158090189",
      "81f51c9bbe264e0d9b900be4cebe90d8",
      "36cd4c90283b41deaccdd690514be752",
      "67b321b9f9e347b78e6558885e373d1b",
      "31058fb3566f4451bf0430ddf35e0e9a",
      "f680ed67b2204a48b4c554b285c3d072",
      "0bad68cbfc1841f5885702c04a2304fe",
      "63da03d66cf04886ad8d23ca99b2f152",
      "c9eb5aecdd2f4fd5b79774585d79186c",
      "6ebf4197888e4a75b411de95224496e1",
      "aecafc0c737246019628dc34527d9cf6",
      "1a5a1093eb9c46aca9b181849fa2cd7a",
      "5f9b1b9a00f04425a8f6791ef6dc9b7e",
      "55311c09b1c24a609db9b8519abe6936",
      "f052f91e7617448585c0cbc3a85ee982",
      "4413b34ebb3b4ff1a617386a9dec9649",
      "a2f3e4f5ba354435b9c523e0e6d5e24c",
      "afc579630afa488093f9caf7c3431890",
      "482f10bc00274b36b37a68fd5ee604a0",
      "79620aaa9bf64fd7be0438d63513f293",
      "50ca85129d5d4301aa764eb427a69db5",
      "7afb2999724e41428d2779a676fab3f9",
      "3dd29f1389394fcab1d73a051cbfe635",
      "68bb6dabed6f4324b635d3f5ac05c5d6",
      "0663a136ab2a475f8dbf1901961f531c",
      "bb4be7c9cbec4d3ba0ad60b849967ab2",
      "8546d4323b64492f902c12f9cebefa2b",
      "edde62d8216042278f0edf9189e0cfa3",
      "db17f326e13046bd9209e4a8fb6fa141",
      "88340ff070aa47ec85fcacf40fb29239",
      "ea8518516aca42d3a9e7ace60d12fd7e",
      "8d4f0c62f6a048c59397b4412b2d6eb0",
      "3ca27fb6754b44ae83b9669d4d1530f8",
      "6dbd0a1ee9b04595a562af3bd60e12f7",
      "40ecc9ea79814681890c13222fbfef1a",
      "770080f6154b4054a3ae1115d391d220",
      "8e6a7dc3ac43428d956b1e9f02ddffac",
      "6c2eef4fba144ae99bb53be7acd7d35a",
      "4026f57db9584a5e9e1b67cf68d16e83",
      "6f8636f8608a41db8a221c78be8b147b",
      "4910c3e9ad964bdca5af81b09a91397a",
      "2cf4c946ea654b9d92d7175179e45df5",
      "c876fe4b5311478b982721db73dd2a29",
      "bb429f9f44694b18a5efe783927e81f5",
      "80220ac03a3043bdbaeb12c1ab27f48a",
      "52dec2eb9cc341679a2b2b2450664016",
      "b3815639ad5f4074810c2a09df8d8541",
      "f33a14efa95142688174f3cc8fe510f6",
      "0dfd8c49491a41c9982948969619368a",
      "19603109bd86419faf0ec7ed0d9e96b3",
      "f352193e85414d9b98a7adef3a09edef",
      "769579f81e7b4a29bf4bb11c683d623f",
      "7b6a4eeaa1354be7bfe7fbadba4c9d39",
      "4c0efa207dcb45d7a148f84aa5539e6a",
      "1ddc97a6b8fb4acd93b5b74e1ec9d541",
      "4976be17cd3d4f65a7eb3f8676eea21f",
      "e81b5d7539434625b0f12eaa5961a552",
      "091a91ab95b849cc9f1e43ef08700b45",
      "839be1b5b0a54487bccccabdf531a723",
      "e5a43d8fc56d469dabe9b6b6dd29fc4e",
      "8895b1fb875a497a8df705fdfae4c80d",
      "ffc052344fb44884b025c68b8b48f2ba",
      "58ed9f1aa86f48eb8fdfc071f90931fc",
      "8bee0c50284944f5a18a4d5497cbfa8b",
      "077562ad5d2b42b8b20ca9ba5652752f",
      "69074abbf98743b4a46b36b72c097fa1",
      "d10ccfee686b4c8d9a1be2b59264919b",
      "e172f0115b064d6eb550b95e9ccfb7db",
      "e7198e1dbd254064b34634760a762d69",
      "1633f524075d467997b2b42f3e1399c5",
      "ba1c98265967439c97e274adef607b96",
      "4886e816b74d41cb9be77ec38c6568dd",
      "2c958e03813a42ebaeddfb62f8fd2bf0",
      "64acf37a070d4c8896232126026efec6",
      "f4a80a91cf2f4418a38cfda61002cc3a",
      "2b087efaf0f74d048774e2068b8a18ac",
      "9fd10da1ce7d4b0fb38d5313dfe1911a",
      "42e748623f21441aa4354083ebdf4291",
      "f8ed9b059db34b009fd45917749c99c4",
      "b85a7e62a4e54433bb63b7375367bfbb",
      "020e633b201b4149926032aa47622277",
      "e9ca52915b8c480cbb4a8075ad3d7998",
      "63c9eb0f97fa4be58179b4d876991f96",
      "b3c2b9c850164a9ab37770927889caeb",
      "009dcaa33d9d491488b78dbb10c8adb0",
      "e8d77cea43c0434ca401b8f7d40d43e7",
      "95b2b762853947c7890f81f7bc98db65",
      "915db94631f840a094c860a4cf1a4118",
      "14a1b65faa0f4956b3c0904672b48f60",
      "314853deab32421998cd888b08d770a9",
      "41733c612fb14ad0b916d9f7e32c7f45",
      "a9237a8c1e294d75880fe1a2a2909de4"
     ]
    },
    "executionInfo": {
     "elapsed": 135274,
     "status": "ok",
     "timestamp": 1716232851653,
     "user": {
      "displayName": "Razieh Askarizade",
      "userId": "02786395411903411644"
     },
     "user_tz": -210
    },
    "id": "O4DppKB-GyzE",
    "outputId": "6bf8c424-3117-4e21-e053-98149828ef42"
   },
   "outputs": [
    {
     "name": "stdout",
     "output_type": "stream",
     "text": [
      "AAAA\n",
      "BBBB\n"
     ]
    },
    {
     "name": "stderr",
     "output_type": "stream",
     "text": [
      "INFO:stanza:Checking for updates to resources.json in case models have been updated.  Note: this behavior can be turned off with download_method=None or download_method=DownloadMethod.REUSE_RESOURCES\n"
     ]
    },
    {
     "data": {
      "application/vnd.jupyter.widget-view+json": {
       "model_id": "2e875679acfe4545a332c33179cede23",
       "version_major": 2,
       "version_minor": 0
      },
      "text/plain": [
       "Downloading https://raw.githubusercontent.com/stanfordnlp/stanza-resources/main/resources_1.8.0.json:   0%|   …"
      ]
     },
     "metadata": {},
     "output_type": "display_data"
    },
    {
     "name": "stderr",
     "output_type": "stream",
     "text": [
      "INFO:stanza:Downloaded file to /root/stanza_resources/resources.json\n"
     ]
    },
    {
     "data": {
      "application/vnd.jupyter.widget-view+json": {
       "model_id": "c4ca1111c14c48879a8d855e016f1de1",
       "version_major": 2,
       "version_minor": 0
      },
      "text/plain": [
       "Downloading https://huggingface.co/stanfordnlp/stanza-fa/resolve/v1.8.0/models/tokenize/perdt.pt:   0%|       …"
      ]
     },
     "metadata": {},
     "output_type": "display_data"
    },
    {
     "data": {
      "application/vnd.jupyter.widget-view+json": {
       "model_id": "31058fb3566f4451bf0430ddf35e0e9a",
       "version_major": 2,
       "version_minor": 0
      },
      "text/plain": [
       "Downloading https://huggingface.co/stanfordnlp/stanza-fa/resolve/v1.8.0/models/mwt/perdt.pt:   0%|          | …"
      ]
     },
     "metadata": {},
     "output_type": "display_data"
    },
    {
     "data": {
      "application/vnd.jupyter.widget-view+json": {
       "model_id": "4413b34ebb3b4ff1a617386a9dec9649",
       "version_major": 2,
       "version_minor": 0
      },
      "text/plain": [
       "Downloading https://huggingface.co/stanfordnlp/stanza-fa/resolve/v1.8.0/models/pos/perdt_charlm.pt:   0%|     …"
      ]
     },
     "metadata": {},
     "output_type": "display_data"
    },
    {
     "data": {
      "application/vnd.jupyter.widget-view+json": {
       "model_id": "8546d4323b64492f902c12f9cebefa2b",
       "version_major": 2,
       "version_minor": 0
      },
      "text/plain": [
       "Downloading https://huggingface.co/stanfordnlp/stanza-fa/resolve/v1.8.0/models/lemma/perdt_nocharlm.pt:   0%| …"
      ]
     },
     "metadata": {},
     "output_type": "display_data"
    },
    {
     "data": {
      "application/vnd.jupyter.widget-view+json": {
       "model_id": "6c2eef4fba144ae99bb53be7acd7d35a",
       "version_major": 2,
       "version_minor": 0
      },
      "text/plain": [
       "Downloading https://huggingface.co/stanfordnlp/stanza-fa/resolve/v1.8.0/models/depparse/perdt_charlm.pt:   0%|…"
      ]
     },
     "metadata": {},
     "output_type": "display_data"
    },
    {
     "data": {
      "application/vnd.jupyter.widget-view+json": {
       "model_id": "0dfd8c49491a41c9982948969619368a",
       "version_major": 2,
       "version_minor": 0
      },
      "text/plain": [
       "Downloading https://huggingface.co/stanfordnlp/stanza-fa/resolve/v1.8.0/models/ner/arman.pt:   0%|          | …"
      ]
     },
     "metadata": {},
     "output_type": "display_data"
    },
    {
     "data": {
      "application/vnd.jupyter.widget-view+json": {
       "model_id": "e5a43d8fc56d469dabe9b6b6dd29fc4e",
       "version_major": 2,
       "version_minor": 0
      },
      "text/plain": [
       "Downloading https://huggingface.co/stanfordnlp/stanza-fa/resolve/v1.8.0/models/pretrain/conll17.pt:   0%|     …"
      ]
     },
     "metadata": {},
     "output_type": "display_data"
    },
    {
     "data": {
      "application/vnd.jupyter.widget-view+json": {
       "model_id": "ba1c98265967439c97e274adef607b96",
       "version_major": 2,
       "version_minor": 0
      },
      "text/plain": [
       "Downloading https://huggingface.co/stanfordnlp/stanza-fa/resolve/v1.8.0/models/forward_charlm/conll17.pt:   0%…"
      ]
     },
     "metadata": {},
     "output_type": "display_data"
    },
    {
     "data": {
      "application/vnd.jupyter.widget-view+json": {
       "model_id": "e9ca52915b8c480cbb4a8075ad3d7998",
       "version_major": 2,
       "version_minor": 0
      },
      "text/plain": [
       "Downloading https://huggingface.co/stanfordnlp/stanza-fa/resolve/v1.8.0/models/backward_charlm/conll17.pt:   0…"
      ]
     },
     "metadata": {},
     "output_type": "display_data"
    },
    {
     "name": "stderr",
     "output_type": "stream",
     "text": [
      "INFO:stanza:Loading these models for language: fa (Persian):\n",
      "==============================\n",
      "| Processor | Package        |\n",
      "------------------------------\n",
      "| tokenize  | perdt          |\n",
      "| mwt       | perdt          |\n",
      "| pos       | perdt_charlm   |\n",
      "| lemma     | perdt_nocharlm |\n",
      "| depparse  | perdt_charlm   |\n",
      "| ner       | arman          |\n",
      "==============================\n",
      "\n",
      "INFO:stanza:Using device: cpu\n",
      "INFO:stanza:Loading: tokenize\n",
      "INFO:stanza:Loading: mwt\n",
      "INFO:stanza:Loading: pos\n",
      "INFO:stanza:Loading: lemma\n",
      "INFO:stanza:Loading: depparse\n",
      "INFO:stanza:Loading: ner\n",
      "INFO:stanza:Done loading processors!\n",
      " Creating Graphs : 100%|██████████| 10/10 [00:00<00:00, 13702.40it/s]\n"
     ]
    },
    {
     "name": "stdout",
     "output_type": "stream",
     "text": [
      "filename: /content/Beyond-Words/data\\GraphData\\Sequential/graph_var.txt\n",
      "self.start_data_load: 0\n",
      "self.end_data_load: 10\n",
      "self.saving_batch_size: 1000\n"
     ]
    },
    {
     "name": "stderr",
     "output_type": "stream",
     "text": [
      "\r\n",
      " Loding Graphs From File :   0%|          | 0/1 [00:00<?, ?it/s]"
     ]
    },
    {
     "name": "stdout",
     "output_type": "stream",
     "text": [
      "data path: /content/Beyond-Words/data\\GraphData\\Sequential/0_10_compressed.pt\n",
      "first step after loading data\n"
     ]
    },
    {
     "name": "stderr",
     "output_type": "stream",
     "text": [
      "\n",
      "Prepare loaded data:   0%|          | 0/10 [00:00<?, ?it/s]\u001b[A/content/Beyond-Words/Scripts/DataManager/GraphConstructor/SequentialGraphConstructor.py:210: UserWarning: To copy construct from a tensor, it is recommended to use sourceTensor.clone().detach() or sourceTensor.clone().detach().requires_grad_(True), rather than torch.tensor(sourceTensor).\n",
      "  general_word_edge_index = torch.transpose(torch.tensor(\n",
      "/content/Beyond-Words/Scripts/DataManager/GraphConstructor/SequentialGraphConstructor.py:212: UserWarning: To copy construct from a tensor, it is recommended to use sourceTensor.clone().detach() or sourceTensor.clone().detach().requires_grad_(True), rather than torch.tensor(sourceTensor).\n",
      "  word_general_edge_index = torch.transpose(torch.tensor(\n",
      "\n",
      "Prepare loaded data:  10%|█         | 1/10 [00:03<00:30,  3.43s/it]\u001b[A\n",
      "Prepare loaded data:  20%|██        | 2/10 [00:06<00:25,  3.24s/it]\u001b[A\n",
      "Prepare loaded data:  30%|███       | 3/10 [00:09<00:22,  3.26s/it]\u001b[A\n",
      "Prepare loaded data:  40%|████      | 4/10 [00:14<00:22,  3.83s/it]\u001b[A\n",
      "Prepare loaded data:  50%|█████     | 5/10 [00:17<00:17,  3.57s/it]\u001b[A\n",
      "Prepare loaded data:  60%|██████    | 6/10 [00:20<00:13,  3.40s/it]\u001b[A\n",
      "Prepare loaded data:  70%|███████   | 7/10 [00:23<00:09,  3.31s/it]\u001b[A\n",
      "Prepare loaded data:  80%|████████  | 8/10 [00:28<00:07,  3.75s/it]\u001b[A\n",
      "Prepare loaded data:  90%|█████████ | 9/10 [00:31<00:03,  3.55s/it]\u001b[A\n",
      "Prepare loaded data: 100%|██████████| 10/10 [00:34<00:00,  3.47s/it]\n"
     ]
    },
    {
     "name": "stdout",
     "output_type": "stream",
     "text": [
      "before pass\n"
     ]
    },
    {
     "name": "stderr",
     "output_type": "stream",
     "text": [
      " Loding Graphs From File : 100%|██████████| 1/1 [01:04<00:00, 64.77s/it]"
     ]
    },
    {
     "name": "stdout",
     "output_type": "stream",
     "text": [
      "after loading data and pass\n"
     ]
    },
    {
     "name": "stderr",
     "output_type": "stream",
     "text": [
      "\n"
     ]
    }
   ],
   "source": [
    "graph_const = SequentialGraphConstructor(train_df['comment'][:10], r'data\\GraphData\\Sequential', config, naming_prepend='graph', load_preprocessed_data=False , use_general_node=True,use_compression=True , num_general_nodes=8)\n",
    "# graph = graph_const.to_graph(train_df['Review'][0])\n",
    "graph_const.setup(load_preprocessed_data=False)"
   ]
  },
  {
   "cell_type": "code",
   "execution_count": null,
   "metadata": {
    "colab": {
     "base_uri": "https://localhost:8080/"
    },
    "executionInfo": {
     "elapsed": 41095,
     "status": "ok",
     "timestamp": 1716232903866,
     "user": {
      "displayName": "Razieh Askarizade",
      "userId": "02786395411903411644"
     },
     "user_tz": -210
    },
    "id": "XoEZyAsnG3MN",
    "outputId": "f3b1cb4f-39ab-4f0d-8413-538e81b374fb"
   },
   "outputs": [
    {
     "name": "stdout",
     "output_type": "stream",
     "text": [
      "filename: /content/Beyond-Words/data\\GraphData\\Sequential/graph_var.txt\n",
      "data loading 0\n"
     ]
    }
   ],
   "source": [
    "graph_const.save_all_data_compressed()\n",
    "graph_const.load_all_data_comppressed()"
   ]
  },
  {
   "cell_type": "code",
   "execution_count": null,
   "metadata": {
    "colab": {
     "base_uri": "https://localhost:8080/"
    },
    "executionInfo": {
     "elapsed": 1112,
     "status": "ok",
     "timestamp": 1716232911237,
     "user": {
      "displayName": "Razieh Askarizade",
      "userId": "02786395411903411644"
     },
     "user_tz": -210
    },
    "id": "R2sO7c5oG9ti",
    "outputId": "94bd64cb-aa94-4b31-f26d-5e1f85de9ac1"
   },
   "outputs": [
    {
     "name": "stdout",
     "output_type": "stream",
     "text": [
      "tensor([2., 2., 2., 2., 2., 2., 2., 2., 2., 2., 2., 2., 2., 2., 2., 2., 2., 2.,\n",
      "        2., 2., 2., 2., 2., 2., 2., 2., 2., 2., 2., 2., 2., 2., 2., 2., 2., 2.,\n",
      "        2., 2., 2., 2., 2., 2., 2., 2., 2., 2., 2., 2., 2., 2., 2., 2., 2., 2.,\n",
      "        2., 2., 2., 2., 2., 2., 2., 2., 2., 2., 2., 2., 2., 2., 2., 2., 2., 2.,\n",
      "        2., 2., 2., 2., 2., 2., 2., 2., 2., 2., 2., 2., 2., 2., 2., 2.])\n"
     ]
    }
   ],
   "source": [
    "print(graph_const.get_first()[\"word\", \"word_general\", \"general\"].edge_attr)"
   ]
  },
  {
   "cell_type": "code",
   "execution_count": null,
   "metadata": {
    "colab": {
     "base_uri": "https://localhost:8080/"
    },
    "executionInfo": {
     "elapsed": 10,
     "status": "ok",
     "timestamp": 1716232911237,
     "user": {
      "displayName": "Razieh Askarizade",
      "userId": "02786395411903411644"
     },
     "user_tz": -210
    },
    "id": "zG2JssNpHCmt",
    "outputId": "1b04bee5-e3ae-4417-c09b-49376345c8c9"
   },
   "outputs": [
    {
     "name": "stdout",
     "output_type": "stream",
     "text": [
      "{}\n"
     ]
    }
   ],
   "source": [
    "print(graph_const.get_first()[\"word\", \"word_general\", \"generasl\"])"
   ]
  },
  {
   "cell_type": "code",
   "execution_count": null,
   "metadata": {
    "colab": {
     "base_uri": "https://localhost:8080/",
     "height": 516
    },
    "executionInfo": {
     "elapsed": 2211,
     "status": "ok",
     "timestamp": 1716232995313,
     "user": {
      "displayName": "Razieh Askarizade",
      "userId": "02786395411903411644"
     },
     "user_tz": -210
    },
    "id": "d6v0_2vfUNm2",
    "outputId": "cb19f48c-096c-499c-af63-6c9417746c3d"
   },
   "outputs": [
    {
     "data": {
      "image/png": "[encoded data removed]",
      "text/plain": [
       "<Figure size 640x480 with 1 Axes>"
      ]
     },
     "metadata": {},
     "output_type": "display_data"
    }
   ],
   "source": [
    "graph_const.draw_graph(1)"
   ]
  },
  {
   "cell_type": "markdown",
   "metadata": {
    "id": "jsDixMRydexK"
   },
   "source": [
    "# Test \\Practices\\Tasks\\TextToGraph\\TagDepTokenGraphConstructionTest.ipynb"
   ]
  },
  {
   "cell_type": "code",
   "execution_count": null,
   "metadata": {
    "executionInfo": {
     "elapsed": 2,
     "status": "ok",
     "timestamp": 1716468061483,
     "user": {
      "displayName": "Razieh Askarizade",
      "userId": "02786395411903411644"
     },
     "user_tz": -210
    },
    "id": "0IvEeLNEdOLI"
   },
   "outputs": [],
   "source": [
    "from Scripts.DataManager.GraphConstructor.TagDepTokenGraphConstructor import TagDepTokenGraphConstructor"
   ]
  },
  {
   "cell_type": "code",
   "execution_count": null,
   "metadata": {
    "colab": {
     "base_uri": "https://localhost:8080/",
     "height": 860,
     "referenced_widgets": [
      "46352c11916f46f7b362b289a8ab41d5",
      "b5553c944897409baa47984a5c9f69ea",
      "0e112876f98748af9aef641e33fd8ffe",
      "9d511f3f02ac4278bea0424e52e566c8",
      "95ca713d390042f8b2331f4d08217988",
      "5a8e42255d62435f9b6aa2dff14e1875",
      "a55e4083201643ff8b47f55b875db919",
      "2fc901ddf2bb431cb49d659062a7b666",
      "5588acc4d8a7491daecaa80a22af3a29",
      "f5f6edba8b094d5e8dc92b04aa2c2d46",
      "099e419e35fa490fbf988d0b1637a671"
     ]
    },
    "executionInfo": {
     "elapsed": 91967,
     "status": "ok",
     "timestamp": 1716233196148,
     "user": {
      "displayName": "Razieh Askarizade",
      "userId": "02786395411903411644"
     },
     "user_tz": -210
    },
    "id": "KuXs2GTZdgSV",
    "outputId": "1aad2330-aa53-4510-8824-169a06467836"
   },
   "outputs": [
    {
     "name": "stderr",
     "output_type": "stream",
     "text": [
      "INFO:stanza:Checking for updates to resources.json in case models have been updated.  Note: this behavior can be turned off with download_method=None or download_method=DownloadMethod.REUSE_RESOURCES\n"
     ]
    },
    {
     "data": {
      "application/vnd.jupyter.widget-view+json": {
       "model_id": "46352c11916f46f7b362b289a8ab41d5",
       "version_major": 2,
       "version_minor": 0
      },
      "text/plain": [
       "Downloading https://raw.githubusercontent.com/stanfordnlp/stanza-resources/main/resources_1.8.0.json:   0%|   …"
      ]
     },
     "metadata": {},
     "output_type": "display_data"
    },
    {
     "name": "stderr",
     "output_type": "stream",
     "text": [
      "INFO:stanza:Downloaded file to /root/stanza_resources/resources.json\n",
      "INFO:stanza:Loading these models for language: fa (Persian):\n",
      "==============================\n",
      "| Processor | Package        |\n",
      "------------------------------\n",
      "| tokenize  | perdt          |\n",
      "| mwt       | perdt          |\n",
      "| pos       | perdt_charlm   |\n",
      "| lemma     | perdt_nocharlm |\n",
      "| depparse  | perdt_charlm   |\n",
      "| ner       | arman          |\n",
      "==============================\n",
      "\n",
      "INFO:stanza:Using device: cpu\n",
      "INFO:stanza:Loading: tokenize\n",
      "INFO:stanza:Loading: mwt\n",
      "INFO:stanza:Loading: pos\n",
      "INFO:stanza:Loading: lemma\n",
      "INFO:stanza:Loading: depparse\n",
      "INFO:stanza:Loading: ner\n",
      "INFO:stanza:Done loading processors!\n",
      " Creating Graphs : 100%|██████████| 10/10 [00:00<00:00, 15586.41it/s]\n"
     ]
    },
    {
     "name": "stdout",
     "output_type": "stream",
     "text": [
      "filename: /content/Beyond-Words/data\\GraphData\\Full-WSentence-WGeneral/graph_var.txt\n",
      "self.start_data_load: 0\n",
      "self.end_data_load: 10\n",
      "self.saving_batch_size: 1000\n"
     ]
    },
    {
     "name": "stderr",
     "output_type": "stream",
     "text": [
      "\r\n",
      " Loding Graphs From File :   0%|          | 0/1 [00:00<?, ?it/s]"
     ]
    },
    {
     "name": "stdout",
     "output_type": "stream",
     "text": [
      "data path: /content/Beyond-Words/data\\GraphData\\Full-WSentence-WGeneral/0_10_compressed.pt\n",
      "first step after loading data\n"
     ]
    },
    {
     "name": "stderr",
     "output_type": "stream",
     "text": [
      "\n",
      "Prepare loaded data:   0%|          | 0/10 [00:00<?, ?it/s]\u001b[A\n",
      "Prepare loaded data:  10%|█         | 1/10 [00:04<00:40,  4.49s/it]\u001b[A\n",
      "Prepare loaded data:  20%|██        | 2/10 [00:09<00:38,  4.75s/it]\u001b[A\n",
      "Prepare loaded data:  30%|███       | 3/10 [00:14<00:32,  4.68s/it]\u001b[A\n",
      "Prepare loaded data:  40%|████      | 4/10 [00:17<00:24,  4.15s/it]\u001b[A\n",
      "Prepare loaded data:  50%|█████     | 5/10 [00:20<00:18,  3.76s/it]\u001b[A\n",
      "Prepare loaded data:  60%|██████    | 6/10 [00:23<00:14,  3.54s/it]\u001b[A\n",
      "Prepare loaded data:  70%|███████   | 7/10 [00:27<00:11,  3.78s/it]\u001b[A\n",
      "Prepare loaded data:  80%|████████  | 8/10 [00:31<00:07,  3.70s/it]\u001b[A\n",
      "Prepare loaded data:  90%|█████████ | 9/10 [00:34<00:03,  3.51s/it]\u001b[A\n",
      "Prepare loaded data: 100%|██████████| 10/10 [00:37<00:00,  3.75s/it]\n"
     ]
    },
    {
     "name": "stdout",
     "output_type": "stream",
     "text": [
      "before pass\n"
     ]
    },
    {
     "name": "stderr",
     "output_type": "stream",
     "text": [
      " Loding Graphs From File : 100%|██████████| 1/1 [01:07<00:00, 67.60s/it]"
     ]
    },
    {
     "name": "stdout",
     "output_type": "stream",
     "text": [
      "after loading data and pass\n"
     ]
    },
    {
     "name": "stderr",
     "output_type": "stream",
     "text": [
      "\n"
     ]
    }
   ],
   "source": [
    "graph_const = TagDepTokenGraphConstructor(train_df['comment'][:10], r'data\\GraphData\\Full-WSentence-WGeneral', config, naming_prepend='graph', load_preprocessed_data=True, use_sentence_nodes=True, use_general_node=True , use_compression=True)\n",
    "graph_const.setup(load_preprocessed_data=False)"
   ]
  },
  {
   "cell_type": "code",
   "execution_count": null,
   "metadata": {
    "colab": {
     "base_uri": "https://localhost:8080/"
    },
    "executionInfo": {
     "elapsed": 10,
     "status": "ok",
     "timestamp": 1716233202332,
     "user": {
      "displayName": "Razieh Askarizade",
      "userId": "02786395411903411644"
     },
     "user_tz": -210
    },
    "id": "sAsIxxnNdkZU",
    "outputId": "c07d55e1-c26d-4df0-e23a-39dd885e9a8c"
   },
   "outputs": [
    {
     "name": "stdout",
     "output_type": "stream",
     "text": [
      "tensor([1., 1., 1., 1., 1., 1., 1., 1., 1., 1., 1.])\n"
     ]
    }
   ],
   "source": [
    "print(graph_const.get_graph(0).edge_attr_dict[('sentence' , 'sentence_word' , 'word')])"
   ]
  },
  {
   "cell_type": "code",
   "execution_count": null,
   "metadata": {
    "id": "edeHsWajd6eq"
   },
   "outputs": [],
   "source": [
    "graph_const.draw_graph(0)"
   ]
  },
  {
   "cell_type": "markdown",
   "metadata": {
    "id": "EMR7jD1ceUp_"
   },
   "source": [
    "# Test \\Practices\\Tasks\\TextToGraph\\SentenceGraphConstructorTest.ipynb"
   ]
  },
  {
   "cell_type": "code",
   "execution_count": null,
   "metadata": {
    "executionInfo": {
     "elapsed": 20,
     "status": "ok",
     "timestamp": 1716468204863,
     "user": {
      "displayName": "Razieh Askarizade",
      "userId": "02786395411903411644"
     },
     "user_tz": -210
    },
    "id": "aet3o3RKeGRr"
   },
   "outputs": [],
   "source": [
    "from Scripts.DataManager.GraphConstructor.SentenceGraphConstructor import SentenceGraphConstructor"
   ]
  },
  {
   "cell_type": "code",
   "execution_count": null,
   "metadata": {
    "colab": {
     "base_uri": "https://localhost:8080/",
     "height": 1000,
     "referenced_widgets": [
      "e4eb3037d1744d10a0724063779f0761",
      "831f7fb332f04e7a9edc13fb86bf5a16",
      "d44bdd063e5c4c92bf01dbe27ce87e5b",
      "e7af93f5fa1141d4b9a86528aa6f4b12",
      "e715b9acb57e49f0912361e7d57bc889",
      "43b91645343a4fc5b3328fd0f75eabad",
      "8241c523718847e7a2e4b1ff47808ad9",
      "a0c984be4fae434db38089b7a5e4156f",
      "82602524cdd84e7dbe20fc7c0991fea9",
      "591c05ea0f2947b5a56e4318289d7974",
      "7656129ec9924271b2ea6e4c7388900a",
      "642896f0cd184c8c811b96aaef36127e",
      "23329e2d1c0343b4bcc37235becfa795",
      "60280973eec9499ab5da5d8e5393d780",
      "892b648549754044aef99d79e161dbf4",
      "caed4a92df8a4a9e8441439ed7d7fd39",
      "6ae282f339a34dae9dbd5979da2364f5",
      "a6ed245ea7d24711a5b85b8721b30a12",
      "472b3b3fac6648239a5d960cb4fc6d37",
      "a6fd14fa9c3e45b1a438ad7f657dce95",
      "6f01db8577784e608da737837d6c05b8",
      "af4be4ac63674f2ead3f4c370a2391da",
      "88771c956706461bab20e1f68ec2dab0",
      "eb33622aa84e41dca729d204723b9c40",
      "869a2e22aff645acb0050a27631a30ac",
      "0fe28f2d47a544eaa0991f9e669fe293",
      "a8f7e9bdc0414c8988cb9e463f8f5811",
      "e15d261c020e4c6f8132347e80f35ed6",
      "a41b02d5743e4d278dde7124fae0e92e",
      "0f3c6689c7d04cdda80950f0e92b15e1",
      "3a4c9c4ec34b44d894650347918490f4",
      "a5f669017a994e4e9a0ec76fb6a2be90",
      "83549406416d4e9da2dccaab089e6aa5",
      "51481678e20444b3859b6d549fa1a6f7",
      "08ca4c425eb743afbc553d529fff1a86",
      "264eac79c7c04ac0be0d0fa098233809",
      "a791bae4d7d142f7832ad3e11e547460",
      "9b50dd4eed79458cae5d0c50ed854efd",
      "a57123bce873481095706e5f32722101",
      "e9df5ca43fd243bb82f36e6f07b5ac6b",
      "a974fc7848504ac2b602b3b637a007df",
      "186d48fae1884c8fa6ae7122be7d19c5",
      "163842ca40404a96a69856471a2c2130",
      "5b5cb6a11b2f457b949eb9d66ccab3ad",
      "7457d1e1258e4b238917c9a50659f80f",
      "3cc7d2d7f2eb4bfbb4bc2c757f920b18",
      "364c6407124a44b589fae0029c370035",
      "108cb5c499524199af346eba62fcc1f6",
      "aff2a4da256d4d7c8faf5471f393ed49",
      "50d9487428ec421abf5917ad0fe3d410",
      "a4c50abd1be94428bad9ed40f360061a",
      "52b03ab1b90847afaa66d2b335508ed0",
      "cc77d3c0520c4a62b00a4d1eb0a5802b",
      "4386bce06789484b8ee0849af537b4f0",
      "ddbd395f6cbf4c28af82e78b3a9c5ece",
      "bfca108ec7464ce9aa955e05dcbec7f1",
      "02fa002502d84a77a5b013cf106d8ef1",
      "1f58bea59299430e860db577c5ef936f",
      "f6eef125e2cf4863b2c7fdc872713200",
      "89dc27bc04614d3c9239f09ab4e6f4c0",
      "8543906884494683b7743beb57a03889",
      "ab48fa548c554fca8b2f75d3742f747e",
      "faa02c0e0173494db28e01ff14fabe62",
      "2d2c7d5137c64bc2a438dea20df7a7ef",
      "2db11163d19a474c9ce10364eda997e0",
      "891ccaa8a010464a83db19107d4f2be7",
      "03fbe882f1574ff4a457a10e780ee5ae",
      "71909c45ea2f4d8bab4c7cb351f4326d",
      "e72d713f37884591985e49cf0c8216f8",
      "448098b114b9438a949133d454a0ef65",
      "63e4de26287d41bab56c9bc450d335c4",
      "f75e5453b06d49b48540de330b015145",
      "fd49fe92e75d4764ad667c0772f0b947",
      "db95b822523b4732aab275f7b807f9d6",
      "005b1f31f901459fbceaadc51996952e",
      "22e08a34a30a4704bcd6ee0654e090d9",
      "45c51f5d0cfc45389ab2346c2ecc296a",
      "795fa92a5f244a3f8065ce106ea82ca6",
      "771a0996508d42abb937111a2454d5b7",
      "1db30c3983c44f2e835ba0ea3c71a50c",
      "74263aa637114076b92beedf7bc5a686",
      "cfb3c5a245a14995937240f4f77e976a",
      "8a61bff6e139453cab901cf2bff26ae0",
      "45303a3e878a4df3a65b0cb19f63146a",
      "aa2cf4a6e77b4a26973b47b9b6428b4c",
      "0e4026eebf5f4492b05abed3a0381b8b",
      "a57782b058574d118bf823e6de5ab6c8",
      "d4c4fd810bc84fc99dde3e63d9260522",
      "8b34c053945c47159f3a8b35fef9eec1",
      "701a3c72164b441a9afd68577b7229a9",
      "6ceb4c6a992a41b98a3d35bbf14e4037",
      "a55d2867fb964f7fac8aa4e984cd58cc",
      "23cd62641f9c462185aeb03af552d13f",
      "fa027a59df234de087895e977cfca5df",
      "08a110acb39244c181906269b836d782",
      "6221ac70f3e145faa3dbd441bccb9ddc",
      "2dfb8e1c0ee9425a850cac6a13d5c2ea",
      "75914e57e68641d4b5e55910b99c2ecf",
      "0eb77c79c61048d89643d623d87bca0a",
      "7153b18253a44bf3afc299ad7e4bdb61",
      "a10a097e4a4a4d6481abc1aa6891f25a",
      "6cdfea967b7c40639eced00d390188a1",
      "87fabbeb567c4e388be473a6ee4d5f5b",
      "d00b8b2bc2ff46c184470d54da47fe44",
      "975fda2972014842956b983118566c99",
      "6296bb5941ea48679183006b32ea34fd",
      "22dcefb8c0f34d30aee9f83d12152fb1",
      "30a0d8571f66484c959fa3786ab69592",
      "94300a6c89ab40aebb0af41b7074b7e5",
      "a2989ae260334af080a93d400f359517",
      "84ae6e961cf44ed995f344cd066e6dbf",
      "ddc924a471584cfd9ca0a5d39a70796a",
      "6bbc78cd9469477894ce23651ef02036",
      "d5a771b08dad4e49afe7ba1db13ce7a0",
      "39661265732242a8be92c5b8306f7377",
      "ea7b7de9ba8646fe9469879b8381e1ff",
      "75cb63478609461da957b7f3b435daf9",
      "1e24dd9a50c54da198a2c7dba2681762",
      "4f76f7409c6a4a088150495b71fed97f",
      "fe8efd85a5124cc79f97d03deb7e7d5b",
      "09b8ad3e798748fd864d7a922d783290"
     ]
    },
    "executionInfo": {
     "elapsed": 215046,
     "status": "ok",
     "timestamp": 1716468419890,
     "user": {
      "displayName": "Razieh Askarizade",
      "userId": "02786395411903411644"
     },
     "user_tz": -210
    },
    "id": "aam78EjjeYbi",
    "outputId": "d549c786-cfd5-4bd3-a8b5-b768c103ebad"
   },
   "outputs": [
    {
     "name": "stdout",
     "output_type": "stream",
     "text": [
      "AAAA\n",
      "BBBB\n"
     ]
    },
    {
     "name": "stderr",
     "output_type": "stream",
     "text": [
      "INFO:stanza:Checking for updates to resources.json in case models have been updated.  Note: this behavior can be turned off with download_method=None or download_method=DownloadMethod.REUSE_RESOURCES\n"
     ]
    },
    {
     "data": {
      "application/vnd.jupyter.widget-view+json": {
       "model_id": "e4eb3037d1744d10a0724063779f0761",
       "version_major": 2,
       "version_minor": 0
      },
      "text/plain": [
       "Downloading https://raw.githubusercontent.com/stanfordnlp/stanza-resources/main/resources_1.8.0.json:   0%|   …"
      ]
     },
     "metadata": {},
     "output_type": "display_data"
    },
    {
     "name": "stderr",
     "output_type": "stream",
     "text": [
      "INFO:stanza:Downloaded file to /root/stanza_resources/resources.json\n"
     ]
    },
    {
     "data": {
      "application/vnd.jupyter.widget-view+json": {
       "model_id": "642896f0cd184c8c811b96aaef36127e",
       "version_major": 2,
       "version_minor": 0
      },
      "text/plain": [
       "Downloading https://huggingface.co/stanfordnlp/stanza-fa/resolve/v1.8.0/models/tokenize/perdt.pt:   0%|       …"
      ]
     },
     "metadata": {},
     "output_type": "display_data"
    },
    {
     "data": {
      "application/vnd.jupyter.widget-view+json": {
       "model_id": "88771c956706461bab20e1f68ec2dab0",
       "version_major": 2,
       "version_minor": 0
      },
      "text/plain": [
       "Downloading https://huggingface.co/stanfordnlp/stanza-fa/resolve/v1.8.0/models/mwt/perdt.pt:   0%|          | …"
      ]
     },
     "metadata": {},
     "output_type": "display_data"
    },
    {
     "data": {
      "application/vnd.jupyter.widget-view+json": {
       "model_id": "51481678e20444b3859b6d549fa1a6f7",
       "version_major": 2,
       "version_minor": 0
      },
      "text/plain": [
       "Downloading https://huggingface.co/stanfordnlp/stanza-fa/resolve/v1.8.0/models/pos/perdt_charlm.pt:   0%|     …"
      ]
     },
     "metadata": {},
     "output_type": "display_data"
    },
    {
     "data": {
      "application/vnd.jupyter.widget-view+json": {
       "model_id": "7457d1e1258e4b238917c9a50659f80f",
       "version_major": 2,
       "version_minor": 0
      },
      "text/plain": [
       "Downloading https://huggingface.co/stanfordnlp/stanza-fa/resolve/v1.8.0/models/lemma/perdt_nocharlm.pt:   0%| …"
      ]
     },
     "metadata": {},
     "output_type": "display_data"
    },
    {
     "data": {
      "application/vnd.jupyter.widget-view+json": {
       "model_id": "bfca108ec7464ce9aa955e05dcbec7f1",
       "version_major": 2,
       "version_minor": 0
      },
      "text/plain": [
       "Downloading https://huggingface.co/stanfordnlp/stanza-fa/resolve/v1.8.0/models/depparse/perdt_charlm.pt:   0%|…"
      ]
     },
     "metadata": {},
     "output_type": "display_data"
    },
    {
     "data": {
      "application/vnd.jupyter.widget-view+json": {
       "model_id": "03fbe882f1574ff4a457a10e780ee5ae",
       "version_major": 2,
       "version_minor": 0
      },
      "text/plain": [
       "Downloading https://huggingface.co/stanfordnlp/stanza-fa/resolve/v1.8.0/models/ner/arman.pt:   0%|          | …"
      ]
     },
     "metadata": {},
     "output_type": "display_data"
    },
    {
     "data": {
      "application/vnd.jupyter.widget-view+json": {
       "model_id": "795fa92a5f244a3f8065ce106ea82ca6",
       "version_major": 2,
       "version_minor": 0
      },
      "text/plain": [
       "Downloading https://huggingface.co/stanfordnlp/stanza-fa/resolve/v1.8.0/models/backward_charlm/conll17.pt:   0…"
      ]
     },
     "metadata": {},
     "output_type": "display_data"
    },
    {
     "data": {
      "application/vnd.jupyter.widget-view+json": {
       "model_id": "8b34c053945c47159f3a8b35fef9eec1",
       "version_major": 2,
       "version_minor": 0
      },
      "text/plain": [
       "Downloading https://huggingface.co/stanfordnlp/stanza-fa/resolve/v1.8.0/models/pretrain/conll17.pt:   0%|     …"
      ]
     },
     "metadata": {},
     "output_type": "display_data"
    },
    {
     "data": {
      "application/vnd.jupyter.widget-view+json": {
       "model_id": "7153b18253a44bf3afc299ad7e4bdb61",
       "version_major": 2,
       "version_minor": 0
      },
      "text/plain": [
       "Downloading https://huggingface.co/stanfordnlp/stanza-fa/resolve/v1.8.0/models/forward_charlm/conll17.pt:   0%…"
      ]
     },
     "metadata": {},
     "output_type": "display_data"
    },
    {
     "name": "stderr",
     "output_type": "stream",
     "text": [
      "INFO:stanza:Loading these models for language: fa (Persian):\n",
      "==============================\n",
      "| Processor | Package        |\n",
      "------------------------------\n",
      "| tokenize  | perdt          |\n",
      "| mwt       | perdt          |\n",
      "| pos       | perdt_charlm   |\n",
      "| lemma     | perdt_nocharlm |\n",
      "| depparse  | perdt_charlm   |\n",
      "| ner       | arman          |\n",
      "==============================\n",
      "\n",
      "INFO:stanza:Using device: cuda\n",
      "INFO:stanza:Loading: tokenize\n",
      "INFO:stanza:Loading: mwt\n",
      "INFO:stanza:Loading: pos\n",
      "INFO:stanza:Loading: lemma\n",
      "INFO:stanza:Loading: depparse\n",
      "INFO:stanza:Loading: ner\n",
      "INFO:stanza:Done loading processors!\n",
      "INFO:stanza:Checking for updates to resources.json in case models have been updated.  Note: this behavior can be turned off with download_method=None or download_method=DownloadMethod.REUSE_RESOURCES\n"
     ]
    },
    {
     "data": {
      "application/vnd.jupyter.widget-view+json": {
       "model_id": "84ae6e961cf44ed995f344cd066e6dbf",
       "version_major": 2,
       "version_minor": 0
      },
      "text/plain": [
       "Downloading https://raw.githubusercontent.com/stanfordnlp/stanza-resources/main/resources_1.8.0.json:   0%|   …"
      ]
     },
     "metadata": {},
     "output_type": "display_data"
    },
    {
     "name": "stderr",
     "output_type": "stream",
     "text": [
      "INFO:stanza:Downloaded file to /root/stanza_resources/resources.json\n",
      "INFO:stanza:Loading these models for language: fa (Persian):\n",
      "==============================\n",
      "| Processor | Package        |\n",
      "------------------------------\n",
      "| tokenize  | perdt          |\n",
      "| mwt       | perdt          |\n",
      "| pos       | perdt_charlm   |\n",
      "| lemma     | perdt_nocharlm |\n",
      "| depparse  | perdt_charlm   |\n",
      "| ner       | arman          |\n",
      "==============================\n",
      "\n",
      "INFO:stanza:Using device: cuda\n",
      "INFO:stanza:Loading: tokenize\n",
      "INFO:stanza:Loading: mwt\n",
      "INFO:stanza:Loading: pos\n",
      "INFO:stanza:Loading: lemma\n",
      "INFO:stanza:Loading: depparse\n",
      "INFO:stanza:Loading: ner\n",
      "INFO:stanza:Done loading processors!\n",
      " Creating Graphs : 100%|██████████| 10/10 [00:00<00:00, 84562.58it/s]\n"
     ]
    },
    {
     "name": "stdout",
     "output_type": "stream",
     "text": [
      "filename: /content/Beyond-Words/data\\GraphData\\Sequential/graph_var.txt\n",
      "self.start_data_load: 0\n",
      "self.end_data_load: 10\n",
      "self.saving_batch_size: 1000\n"
     ]
    },
    {
     "name": "stderr",
     "output_type": "stream",
     "text": [
      "\r\n",
      " Loding Graphs From File :   0%|          | 0/1 [00:00<?, ?it/s]"
     ]
    },
    {
     "name": "stdout",
     "output_type": "stream",
     "text": [
      "data path: /content/Beyond-Words/data\\GraphData\\Sequential/0_10_compressed.pt\n",
      "first step after loading data\n"
     ]
    },
    {
     "name": "stderr",
     "output_type": "stream",
     "text": [
      "\n",
      "Prepare loaded data:   0%|          | 0/10 [00:00<?, ?it/s]\u001b[A/content/Beyond-Words/Scripts/DataManager/GraphConstructor/SequentialGraphConstructor.py:253: UserWarning: To copy construct from a tensor, it is recommended to use sourceTensor.clone().detach() or sourceTensor.clone().detach().requires_grad_(True), rather than torch.tensor(sourceTensor).\n",
      "  general_sentence_edge_index = torch.transpose(torch.tensor(\n",
      "/content/Beyond-Words/Scripts/DataManager/GraphConstructor/SequentialGraphConstructor.py:255: UserWarning: To copy construct from a tensor, it is recommended to use sourceTensor.clone().detach() or sourceTensor.clone().detach().requires_grad_(True), rather than torch.tensor(sourceTensor).\n",
      "  sentence_general_edge_index = torch.transpose(torch.tensor(\n",
      "\n",
      "Prepare loaded data:  10%|█         | 1/10 [00:02<00:25,  2.86s/it]\u001b[A\n",
      "Prepare loaded data:  20%|██        | 2/10 [00:05<00:22,  2.81s/it]\u001b[A\n",
      "Prepare loaded data:  30%|███       | 3/10 [00:09<00:23,  3.32s/it]\u001b[A\n",
      "Prepare loaded data:  40%|████      | 4/10 [00:12<00:19,  3.21s/it]\u001b[A\n",
      "Prepare loaded data:  50%|█████     | 5/10 [00:15<00:15,  3.04s/it]\u001b[A\n",
      "Prepare loaded data:  60%|██████    | 6/10 [00:18<00:11,  2.94s/it]\u001b[A\n",
      "Prepare loaded data:  70%|███████   | 7/10 [00:21<00:08,  2.94s/it]\u001b[A\n",
      "Prepare loaded data:  80%|████████  | 8/10 [00:24<00:06,  3.26s/it]\u001b[A\n",
      "Prepare loaded data:  90%|█████████ | 9/10 [00:27<00:03,  3.10s/it]\u001b[A\n",
      "Prepare loaded data: 100%|██████████| 10/10 [00:30<00:00,  3.05s/it]\n"
     ]
    },
    {
     "name": "stdout",
     "output_type": "stream",
     "text": [
      "before pass\n"
     ]
    },
    {
     "name": "stderr",
     "output_type": "stream",
     "text": [
      " Loding Graphs From File : 100%|██████████| 1/1 [01:00<00:00, 60.50s/it]"
     ]
    },
    {
     "name": "stdout",
     "output_type": "stream",
     "text": [
      "after loading data and pass\n"
     ]
    },
    {
     "name": "stderr",
     "output_type": "stream",
     "text": [
      "\n"
     ]
    }
   ],
   "source": [
    "graph_const = SentenceGraphConstructor(train_df['comment'][:10], r'data\\GraphData\\Sequential', config, naming_prepend='graph', load_preprocessed_data=False , use_general_node=True,use_compression=True , num_general_nodes=8)\n",
    "# graph = graph_const.to_graph(train_df['Review'][0])\n",
    "graph_const.setup(load_preprocessed_data=False)"
   ]
  },
  {
   "cell_type": "code",
   "execution_count": null,
   "metadata": {
    "colab": {
     "base_uri": "https://localhost:8080/"
    },
    "executionInfo": {
     "elapsed": 30999,
     "status": "ok",
     "timestamp": 1716468466476,
     "user": {
      "displayName": "Razieh Askarizade",
      "userId": "02786395411903411644"
     },
     "user_tz": -210
    },
    "id": "QDrT7ErreeZb",
    "outputId": "037b86c6-eeb0-427b-88cb-885ee4847b9c"
   },
   "outputs": [
    {
     "name": "stdout",
     "output_type": "stream",
     "text": [
      "filename: /content/Beyond-Words/data\\GraphData\\Sequential/graph_var.txt\n",
      "data loading 0\n"
     ]
    }
   ],
   "source": [
    "graph_const.save_all_data_compressed()\n",
    "graph_const.load_all_data_comppressed()"
   ]
  },
  {
   "cell_type": "code",
   "execution_count": null,
   "metadata": {
    "colab": {
     "base_uri": "https://localhost:8080/"
    },
    "executionInfo": {
     "elapsed": 648,
     "status": "ok",
     "timestamp": 1716468470051,
     "user": {
      "displayName": "Razieh Askarizade",
      "userId": "02786395411903411644"
     },
     "user_tz": -210
    },
    "id": "zWeZw06_ei0h",
    "outputId": "b278daeb-bc31-400a-cbba-df240815485f"
   },
   "outputs": [
    {
     "name": "stdout",
     "output_type": "stream",
     "text": [
      "tensor([[ 0,  0,  0,  0,  0,  0,  0,  0,  0,  0,  0,  1,  2,  3,  4,  5,  6,  7],\n",
      "        [ 0,  1,  2,  3,  4,  5,  6,  7,  8,  9, 10,  0,  0,  0,  0,  0,  0,  0]],\n",
      "       dtype=torch.int32)\n",
      "torch.Size([8, 300])\n"
     ]
    }
   ],
   "source": [
    "print(graph_const.get_first()['general', 'general_sentence', 'sentence'].edge_index)\n",
    "print(graph_const.get_first()['general'].x.shape)"
   ]
  },
  {
   "cell_type": "code",
   "execution_count": null,
   "metadata": {
    "colab": {
     "base_uri": "https://localhost:8080/",
     "height": 803
    },
    "executionInfo": {
     "elapsed": 1329,
     "status": "error",
     "timestamp": 1716468512309,
     "user": {
      "displayName": "Razieh Askarizade",
      "userId": "02786395411903411644"
     },
     "user_tz": -210
    },
    "id": "PNRCqN8Aekcn",
    "outputId": "9ca51bec-4712-49b0-f5a7-9c31728e6d3b"
   },
   "outputs": [
    {
     "ename": "KeyError",
     "evalue": "20",
     "output_type": "error",
     "traceback": [
      "\u001b[0;31m---------------------------------------------------------------------------\u001b[0m",
      "\u001b[0;31mKeyError\u001b[0m                                  Traceback (most recent call last)",
      "\u001b[0;32m<ipython-input-29-758c21b04193>\u001b[0m in \u001b[0;36m<cell line: 1>\u001b[0;34m()\u001b[0m\n\u001b[0;32m----> 1\u001b[0;31m \u001b[0mgraph_const\u001b[0m\u001b[0;34m.\u001b[0m\u001b[0mdraw_graph\u001b[0m\u001b[0;34m(\u001b[0m\u001b[0;36m2\u001b[0m\u001b[0;34m)\u001b[0m\u001b[0;34m\u001b[0m\u001b[0;34m\u001b[0m\u001b[0m\n\u001b[0m",
      "\u001b[0;32m/content/Beyond-Words/Scripts/DataManager/GraphConstructor/SequentialGraphConstructor.py\u001b[0m in \u001b[0;36mdraw_graph\u001b[0;34m(self, idx)\u001b[0m\n\u001b[1;32m    167\u001b[0m         \u001b[0mnx\u001b[0m\u001b[0;34m.\u001b[0m\u001b[0mdraw\u001b[0m\u001b[0;34m(\u001b[0m\u001b[0mg\u001b[0m\u001b[0;34m,\u001b[0m \u001b[0mpos\u001b[0m\u001b[0;34m=\u001b[0m\u001b[0mlayout\u001b[0m\u001b[0;34m)\u001b[0m\u001b[0;34m\u001b[0m\u001b[0;34m\u001b[0m\u001b[0m\n\u001b[1;32m    168\u001b[0m         \u001b[0mwords_dict\u001b[0m \u001b[0;34m=\u001b[0m \u001b[0;34m{\u001b[0m\u001b[0mi\u001b[0m\u001b[0;34m:\u001b[0m \u001b[0mnode_tokens\u001b[0m\u001b[0;34m[\u001b[0m\u001b[0mi\u001b[0m\u001b[0;34m]\u001b[0m \u001b[0;32mfor\u001b[0m \u001b[0mi\u001b[0m \u001b[0;32min\u001b[0m \u001b[0mrange\u001b[0m\u001b[0;34m(\u001b[0m\u001b[0mlen\u001b[0m\u001b[0;34m(\u001b[0m\u001b[0mnode_tokens\u001b[0m\u001b[0;34m)\u001b[0m\u001b[0;34m)\u001b[0m\u001b[0;34m}\u001b[0m\u001b[0;34m\u001b[0m\u001b[0;34m\u001b[0m\u001b[0m\n\u001b[0;32m--> 169\u001b[0;31m         \u001b[0mnx\u001b[0m\u001b[0;34m.\u001b[0m\u001b[0mdraw_networkx_labels\u001b[0m\u001b[0;34m(\u001b[0m\u001b[0mg\u001b[0m\u001b[0;34m,\u001b[0m \u001b[0mpos\u001b[0m\u001b[0;34m=\u001b[0m\u001b[0mlayout\u001b[0m\u001b[0;34m,\u001b[0m \u001b[0mlabels\u001b[0m\u001b[0;34m=\u001b[0m\u001b[0mwords_dict\u001b[0m\u001b[0;34m)\u001b[0m\u001b[0;34m\u001b[0m\u001b[0;34m\u001b[0m\u001b[0m\n\u001b[0m\u001b[1;32m    170\u001b[0m \u001b[0;34m\u001b[0m\u001b[0m\n\u001b[1;32m    171\u001b[0m     \u001b[0;32mdef\u001b[0m \u001b[0mto_graph_indexed\u001b[0m\u001b[0;34m(\u001b[0m\u001b[0mself\u001b[0m\u001b[0;34m,\u001b[0m \u001b[0mtext\u001b[0m\u001b[0;34m:\u001b[0m \u001b[0mstr\u001b[0m\u001b[0;34m)\u001b[0m\u001b[0;34m:\u001b[0m\u001b[0;34m\u001b[0m\u001b[0;34m\u001b[0m\u001b[0m\n",
      "\u001b[0;32m/usr/local/lib/python3.10/dist-packages/networkx/drawing/nx_pylab.py\u001b[0m in \u001b[0;36mdraw_networkx_labels\u001b[0;34m(G, pos, labels, font_size, font_color, font_family, font_weight, alpha, bbox, horizontalalignment, verticalalignment, ax, clip_on, hide_ticks)\u001b[0m\n\u001b[1;32m   1145\u001b[0m     \u001b[0mtext_items\u001b[0m \u001b[0;34m=\u001b[0m \u001b[0;34m{\u001b[0m\u001b[0;34m}\u001b[0m  \u001b[0;31m# there is no text collection so we'll fake one\u001b[0m\u001b[0;34m\u001b[0m\u001b[0;34m\u001b[0m\u001b[0m\n\u001b[1;32m   1146\u001b[0m     \u001b[0;32mfor\u001b[0m \u001b[0mn\u001b[0m\u001b[0;34m,\u001b[0m \u001b[0mlabel\u001b[0m \u001b[0;32min\u001b[0m \u001b[0mlabels\u001b[0m\u001b[0;34m.\u001b[0m\u001b[0mitems\u001b[0m\u001b[0;34m(\u001b[0m\u001b[0;34m)\u001b[0m\u001b[0;34m:\u001b[0m\u001b[0;34m\u001b[0m\u001b[0;34m\u001b[0m\u001b[0m\n\u001b[0;32m-> 1147\u001b[0;31m         \u001b[0;34m(\u001b[0m\u001b[0mx\u001b[0m\u001b[0;34m,\u001b[0m \u001b[0my\u001b[0m\u001b[0;34m)\u001b[0m \u001b[0;34m=\u001b[0m \u001b[0mpos\u001b[0m\u001b[0;34m[\u001b[0m\u001b[0mn\u001b[0m\u001b[0;34m]\u001b[0m\u001b[0;34m\u001b[0m\u001b[0;34m\u001b[0m\u001b[0m\n\u001b[0m\u001b[1;32m   1148\u001b[0m         \u001b[0;32mif\u001b[0m \u001b[0;32mnot\u001b[0m \u001b[0misinstance\u001b[0m\u001b[0;34m(\u001b[0m\u001b[0mlabel\u001b[0m\u001b[0;34m,\u001b[0m \u001b[0mstr\u001b[0m\u001b[0;34m)\u001b[0m\u001b[0;34m:\u001b[0m\u001b[0;34m\u001b[0m\u001b[0;34m\u001b[0m\u001b[0m\n\u001b[1;32m   1149\u001b[0m             \u001b[0mlabel\u001b[0m \u001b[0;34m=\u001b[0m \u001b[0mstr\u001b[0m\u001b[0;34m(\u001b[0m\u001b[0mlabel\u001b[0m\u001b[0;34m)\u001b[0m  \u001b[0;31m# this makes \"1\" and 1 labeled the same\u001b[0m\u001b[0;34m\u001b[0m\u001b[0;34m\u001b[0m\u001b[0m\n",
      "\u001b[0;31mKeyError\u001b[0m: 20"
     ]
    },
    {
     "data": {
      "image/png": "[encoded data removed]",
      "text/plain": [
       "<Figure size 640x480 with 1 Axes>"
      ]
     },
     "metadata": {},
     "output_type": "display_data"
    }
   ],
   "source": [
    "graph_const.draw_graph(2)"
   ]
  },
  {
   "cell_type": "markdown",
   "metadata": {
    "id": "jRkw8v3yfL5p"
   },
   "source": [
    "# Test \\Practices\\Tasks\\TextToGraph\\DependencyGraphConstructionTest.ipynb"
   ]
  },
  {
   "cell_type": "code",
   "execution_count": null,
   "metadata": {
    "id": "dn3-TdVVfNUR"
   },
   "outputs": [],
   "source": [
    "from Scripts.DataManager.GraphConstructor.DependencyGraphConstructor import DependencyGraphConstructor"
   ]
  },
  {
   "cell_type": "code",
   "execution_count": null,
   "metadata": {
    "colab": {
     "base_uri": "https://localhost:8080/",
     "height": 860,
     "referenced_widgets": [
      "683fec4943fb421d9e3fe557dc31e72c",
      "0538b04b31ee4481ae5e2d7cd9827ddd",
      "0df5607959d6411e8205e4875725dc8f",
      "2220f42bd9ce4bd1a7df673f92e89e5d",
      "e7ced1329f384b7eb15e9a6b72f6c552",
      "4782efb5f8694de19ad4b2d0766b33bf",
      "19a3ddf2e7a541c3845ceff135c90cb1",
      "dc903d1b907e4a8f8de461c1438bed76",
      "1556748b226c4125be1b9b2c2d875107",
      "2c3d0ee1f7264e408596d8a76ffd4485",
      "e6b066a696d44966a14316fd29e95b01"
     ]
    },
    "executionInfo": {
     "elapsed": 98421,
     "status": "ok",
     "timestamp": 1716233616943,
     "user": {
      "displayName": "Razieh Askarizade",
      "userId": "02786395411903411644"
     },
     "user_tz": -210
    },
    "id": "w7LEwogzfPTn",
    "outputId": "825afa9f-cc94-4b05-f0b1-8e9e6baf18c8"
   },
   "outputs": [
    {
     "name": "stderr",
     "output_type": "stream",
     "text": [
      "INFO:stanza:Checking for updates to resources.json in case models have been updated.  Note: this behavior can be turned off with download_method=None or download_method=DownloadMethod.REUSE_RESOURCES\n"
     ]
    },
    {
     "data": {
      "application/vnd.jupyter.widget-view+json": {
       "model_id": "683fec4943fb421d9e3fe557dc31e72c",
       "version_major": 2,
       "version_minor": 0
      },
      "text/plain": [
       "Downloading https://raw.githubusercontent.com/stanfordnlp/stanza-resources/main/resources_1.8.0.json:   0%|   …"
      ]
     },
     "metadata": {},
     "output_type": "display_data"
    },
    {
     "name": "stderr",
     "output_type": "stream",
     "text": [
      "INFO:stanza:Downloaded file to /root/stanza_resources/resources.json\n",
      "INFO:stanza:Loading these models for language: fa (Persian):\n",
      "==============================\n",
      "| Processor | Package        |\n",
      "------------------------------\n",
      "| tokenize  | perdt          |\n",
      "| mwt       | perdt          |\n",
      "| pos       | perdt_charlm   |\n",
      "| lemma     | perdt_nocharlm |\n",
      "| depparse  | perdt_charlm   |\n",
      "| ner       | arman          |\n",
      "==============================\n",
      "\n",
      "INFO:stanza:Using device: cpu\n",
      "INFO:stanza:Loading: tokenize\n",
      "INFO:stanza:Loading: mwt\n",
      "INFO:stanza:Loading: pos\n",
      "INFO:stanza:Loading: lemma\n",
      "INFO:stanza:Loading: depparse\n",
      "INFO:stanza:Loading: ner\n",
      "INFO:stanza:Done loading processors!\n",
      " Creating Graphs : 100%|██████████| 10/10 [00:00<00:00, 15893.54it/s]\n"
     ]
    },
    {
     "name": "stdout",
     "output_type": "stream",
     "text": [
      "filename: /content/Beyond-Words/data\\GraphData\\Dependency/graph_var.txt\n",
      "self.start_data_load: 0\n",
      "self.end_data_load: 10\n",
      "self.saving_batch_size: 1000\n"
     ]
    },
    {
     "name": "stderr",
     "output_type": "stream",
     "text": [
      "\r\n",
      " Loding Graphs From File :   0%|          | 0/1 [00:00<?, ?it/s]"
     ]
    },
    {
     "name": "stdout",
     "output_type": "stream",
     "text": [
      "data path: /content/Beyond-Words/data\\GraphData\\Dependency/0_10_compressed.pt\n",
      "first step after loading data\n"
     ]
    },
    {
     "name": "stderr",
     "output_type": "stream",
     "text": [
      "\n",
      "Prepare loaded data:   0%|          | 0/10 [00:00<?, ?it/s]\u001b[A\n",
      "Prepare loaded data:  10%|█         | 1/10 [00:05<00:45,  5.10s/it]\u001b[A\n",
      "Prepare loaded data:  20%|██        | 2/10 [00:09<00:37,  4.71s/it]\u001b[A\n",
      "Prepare loaded data:  30%|███       | 3/10 [00:13<00:31,  4.53s/it]\u001b[A\n",
      "Prepare loaded data:  40%|████      | 4/10 [00:21<00:33,  5.58s/it]\u001b[A\n",
      "Prepare loaded data:  50%|█████     | 5/10 [00:25<00:26,  5.21s/it]\u001b[A\n",
      "Prepare loaded data:  60%|██████    | 6/10 [00:28<00:17,  4.45s/it]\u001b[A\n",
      "Prepare loaded data:  70%|███████   | 7/10 [00:32<00:13,  4.38s/it]\u001b[A\n",
      "Prepare loaded data:  80%|████████  | 8/10 [00:36<00:08,  4.05s/it]\u001b[A\n",
      "Prepare loaded data:  90%|█████████ | 9/10 [00:39<00:03,  3.73s/it]\u001b[A\n",
      "Prepare loaded data: 100%|██████████| 10/10 [00:42<00:00,  4.22s/it]\n"
     ]
    },
    {
     "name": "stdout",
     "output_type": "stream",
     "text": [
      "before pass\n"
     ]
    },
    {
     "name": "stderr",
     "output_type": "stream",
     "text": [
      " Loding Graphs From File : 100%|██████████| 1/1 [01:12<00:00, 72.21s/it]"
     ]
    },
    {
     "name": "stdout",
     "output_type": "stream",
     "text": [
      "after loading data and pass\n"
     ]
    },
    {
     "name": "stderr",
     "output_type": "stream",
     "text": [
      "\n"
     ]
    }
   ],
   "source": [
    "graph_const = DependencyGraphConstructor(train_df['comment'][:10], r'data\\GraphData\\Dependency', config, naming_prepend='graph', load_preprocessed_data=False, use_node_dependencies=True , use_compression=True)\n",
    "graph_const.setup(load_preprocessed_data=False)"
   ]
  },
  {
   "cell_type": "code",
   "execution_count": null,
   "metadata": {
    "id": "O0uNaVoKfZfV"
   },
   "outputs": [],
   "source": [
    "graph_const.save_all_data_compressed()"
   ]
  },
  {
   "cell_type": "code",
   "execution_count": null,
   "metadata": {
    "id": "eXPKeiCVfTWB"
   },
   "outputs": [],
   "source": [
    "graph_const.save_all_data_compressed()"
   ]
  },
  {
   "cell_type": "code",
   "execution_count": null,
   "metadata": {
    "colab": {
     "base_uri": "https://localhost:8080/"
    },
    "executionInfo": {
     "elapsed": 37,
     "status": "ok",
     "timestamp": 1716233628905,
     "user": {
      "displayName": "Razieh Askarizade",
      "userId": "02786395411903411644"
     },
     "user_tz": -210
    },
    "id": "LXyG8NMEfa7H",
    "outputId": "65f7aa0c-2668-4804-d238-c628b085bd64"
   },
   "outputs": [
    {
     "name": "stdout",
     "output_type": "stream",
     "text": [
      "tensor([[ 5.3703e-02, -3.1285e-02,  7.4596e-02,  ..., -1.2119e-02,\n",
      "          9.7071e-02,  4.9264e-02],\n",
      "        [-2.4939e-01, -2.8878e-02, -1.7061e-02,  ...,  3.3775e-02,\n",
      "         -1.6614e-02,  1.5811e-02],\n",
      "        [-1.2056e-01,  4.8654e-02,  8.9177e-05,  ...,  1.4781e-02,\n",
      "         -4.6186e-02,  2.0110e-02],\n",
      "        ...,\n",
      "        [-2.4939e-01, -2.8878e-02, -1.7061e-02,  ...,  3.3775e-02,\n",
      "         -1.6614e-02,  1.5811e-02],\n",
      "        [-8.3295e-02,  4.4717e-03,  5.5533e-02,  ...,  2.6068e-01,\n",
      "         -4.4478e-02,  2.3992e-01],\n",
      "        [-1.0800e-01, -1.1538e-01, -9.0927e-04,  ..., -2.9233e-02,\n",
      "         -3.7353e-02, -3.8090e-02]])\n",
      "torch.Size([66])\n",
      "tensor([[ 3,  3,  3,  6,  3, 10,  7, 10,  6, 10],\n",
      "        [48,  4, 22, 11, 54, 48, 45,  4,  0, 22]], dtype=torch.int32)\n",
      "tensor([1., 1., 1., 1., 1., 1., 1., 1., 1., 1.])\n"
     ]
    }
   ],
   "source": [
    "print(graph_const.get_first()['word'].x)\n",
    "print(graph_const.get_first()['dep'].x.shape)\n",
    "print(graph_const.get_first()['word', 'word_dep' , 'dep'].edge_index)\n",
    "print(graph_const.get_first()['word', 'word_dep' , 'dep'].edge_attr)"
   ]
  },
  {
   "cell_type": "code",
   "execution_count": null,
   "metadata": {
    "colab": {
     "base_uri": "https://localhost:8080/",
     "height": 956,
     "referenced_widgets": [
      "158bf895f9ab4931b2afe2918aa55f43",
      "e8d718d52d0a43b8a042f2d2d0d7534a",
      "03e4a22711c94497a347339ce9d1b994",
      "d159a2deb6694e5a8e40efd95108ce36",
      "026e541541414f35b00b5be9aad8a675",
      "b21bd367e9c942d7be8d395cd43fe4b1",
      "0ab8fdee6b09462282a65a7cca4ffdf0",
      "0114b4dac26a443a981973feb6b3c99a",
      "3b4c65bb794044be9f396756b4b39b9e",
      "86bc426be66142609fc4714894d06875",
      "621b4ab396f04d71a5dce3dfc5002697"
     ]
    },
    "executionInfo": {
     "elapsed": 52524,
     "status": "error",
     "timestamp": 1716233731090,
     "user": {
      "displayName": "Razieh Askarizade",
      "userId": "02786395411903411644"
     },
     "user_tz": -210
    },
    "id": "HOgxzSeNfdBU",
    "outputId": "b9abe365-c835-435e-9911-f8059b3bcb8e"
   },
   "outputs": [
    {
     "name": "stderr",
     "output_type": "stream",
     "text": [
      "INFO:stanza:Checking for updates to resources.json in case models have been updated.  Note: this behavior can be turned off with download_method=None or download_method=DownloadMethod.REUSE_RESOURCES\n"
     ]
    },
    {
     "data": {
      "application/vnd.jupyter.widget-view+json": {
       "model_id": "158bf895f9ab4931b2afe2918aa55f43",
       "version_major": 2,
       "version_minor": 0
      },
      "text/plain": [
       "Downloading https://raw.githubusercontent.com/stanfordnlp/stanza-resources/main/resources_1.8.0.json:   0%|   …"
      ]
     },
     "metadata": {},
     "output_type": "display_data"
    },
    {
     "name": "stderr",
     "output_type": "stream",
     "text": [
      "INFO:stanza:Downloaded file to /root/stanza_resources/resources.json\n",
      "INFO:stanza:Loading these models for language: fa (Persian):\n",
      "==============================\n",
      "| Processor | Package        |\n",
      "------------------------------\n",
      "| tokenize  | perdt          |\n",
      "| mwt       | perdt          |\n",
      "| pos       | perdt_charlm   |\n",
      "| lemma     | perdt_nocharlm |\n",
      "| depparse  | perdt_charlm   |\n",
      "| ner       | arman          |\n",
      "==============================\n",
      "\n",
      "INFO:stanza:Using device: cpu\n",
      "INFO:stanza:Loading: tokenize\n",
      "INFO:stanza:Loading: mwt\n",
      "INFO:stanza:Loading: pos\n",
      "INFO:stanza:Loading: lemma\n",
      "INFO:stanza:Loading: depparse\n",
      "INFO:stanza:Loading: ner\n",
      "INFO:stanza:Done loading processors!\n",
      " Creating Graphs : 100%|██████████| 10/10 [00:00<00:00, 77816.40it/s]\n"
     ]
    },
    {
     "name": "stdout",
     "output_type": "stream",
     "text": [
      "filename: /content/Beyond-Words/data\\GraphData\\Dependency/graph_var.txt\n",
      "self.start_data_load: 0\n",
      "self.end_data_load: 10\n",
      "self.saving_batch_size: 1000\n"
     ]
    },
    {
     "name": "stderr",
     "output_type": "stream",
     "text": [
      "\r\n",
      " Loding Graphs From File :   0%|          | 0/1 [00:00<?, ?it/s]"
     ]
    },
    {
     "name": "stdout",
     "output_type": "stream",
     "text": [
      "data path: /content/Beyond-Words/data\\GraphData\\Dependency/0_10_compressed.pt\n",
      "first step after loading data\n"
     ]
    },
    {
     "name": "stderr",
     "output_type": "stream",
     "text": [
      "\n",
      "Prepare loaded data:   0%|          | 0/10 [00:08<?, ?it/s]\n",
      " Loding Graphs From File :   0%|          | 0/1 [00:28<?, ?it/s]\n"
     ]
    },
    {
     "ename": "AttributeError",
     "evalue": "'GlobalStorage' object has no attribute 'edge_types'",
     "output_type": "error",
     "traceback": [
      "\u001b[0;31m---------------------------------------------------------------------------\u001b[0m",
      "\u001b[0;31mAttributeError\u001b[0m                            Traceback (most recent call last)",
      "\u001b[0;32m<ipython-input-41-3a57e5f80612>\u001b[0m in \u001b[0;36m<cell line: 2>\u001b[0;34m()\u001b[0m\n\u001b[1;32m      1\u001b[0m \u001b[0mgraph_const\u001b[0m \u001b[0;34m=\u001b[0m \u001b[0mDependencyGraphConstructor\u001b[0m\u001b[0;34m(\u001b[0m\u001b[0mtrain_df\u001b[0m\u001b[0;34m[\u001b[0m\u001b[0;34m'comment'\u001b[0m\u001b[0;34m]\u001b[0m\u001b[0;34m[\u001b[0m\u001b[0;34m:\u001b[0m\u001b[0;36m10\u001b[0m\u001b[0;34m]\u001b[0m\u001b[0;34m,\u001b[0m \u001b[0;34mr'data\\GraphData\\Dependency'\u001b[0m\u001b[0;34m,\u001b[0m \u001b[0mconfig\u001b[0m\u001b[0;34m,\u001b[0m \u001b[0mnaming_prepend\u001b[0m\u001b[0;34m=\u001b[0m\u001b[0;34m'graph'\u001b[0m\u001b[0;34m,\u001b[0m \u001b[0mload_preprocessed_data\u001b[0m\u001b[0;34m=\u001b[0m\u001b[0;32mFalse\u001b[0m\u001b[0;34m,\u001b[0m \u001b[0muse_node_dependencies\u001b[0m\u001b[0;34m=\u001b[0m\u001b[0;32mFalse\u001b[0m \u001b[0;34m,\u001b[0m \u001b[0muse_compression\u001b[0m\u001b[0;34m=\u001b[0m\u001b[0;32mTrue\u001b[0m\u001b[0;34m)\u001b[0m\u001b[0;34m\u001b[0m\u001b[0;34m\u001b[0m\u001b[0m\n\u001b[0;32m----> 2\u001b[0;31m \u001b[0mgraph_const\u001b[0m\u001b[0;34m.\u001b[0m\u001b[0msetup\u001b[0m\u001b[0;34m(\u001b[0m\u001b[0mload_preprocessed_data\u001b[0m\u001b[0;34m=\u001b[0m\u001b[0;32mFalse\u001b[0m\u001b[0;34m)\u001b[0m\u001b[0;34m\u001b[0m\u001b[0;34m\u001b[0m\u001b[0m\n\u001b[0m",
      "\u001b[0;32m/content/Beyond-Words/Scripts/DataManager/GraphConstructor/GraphConstructor.py\u001b[0m in \u001b[0;36msetup\u001b[0;34m(self, load_preprocessed_data)\u001b[0m\n\u001b[1;32m    101\u001b[0m             \u001b[0;31m# Load the content\u001b[0m\u001b[0;34m\u001b[0m\u001b[0;34m\u001b[0m\u001b[0m\n\u001b[1;32m    102\u001b[0m             \u001b[0mself\u001b[0m\u001b[0;34m.\u001b[0m\u001b[0m_graphs\u001b[0m\u001b[0;34m:\u001b[0m \u001b[0mList\u001b[0m \u001b[0;34m=\u001b[0m \u001b[0;34m[\u001b[0m\u001b[0;32mNone\u001b[0m \u001b[0;32mfor\u001b[0m \u001b[0mr\u001b[0m \u001b[0;32min\u001b[0m \u001b[0mrange\u001b[0m\u001b[0;34m(\u001b[0m\u001b[0mself\u001b[0m\u001b[0;34m.\u001b[0m\u001b[0mend_data_load\u001b[0m\u001b[0;34m)\u001b[0m\u001b[0;34m]\u001b[0m\u001b[0;34m\u001b[0m\u001b[0;34m\u001b[0m\u001b[0m\n\u001b[0;32m--> 103\u001b[0;31m             \u001b[0mself\u001b[0m\u001b[0;34m.\u001b[0m\u001b[0msetup\u001b[0m\u001b[0;34m(\u001b[0m\u001b[0mload_preprocessed_data\u001b[0m\u001b[0;34m=\u001b[0m\u001b[0;32mTrue\u001b[0m\u001b[0;34m)\u001b[0m\u001b[0;34m\u001b[0m\u001b[0;34m\u001b[0m\u001b[0m\n\u001b[0m\u001b[1;32m    104\u001b[0m \u001b[0;34m\u001b[0m\u001b[0m\n\u001b[1;32m    105\u001b[0m     \u001b[0;34m@\u001b[0m\u001b[0mabstractmethod\u001b[0m\u001b[0;34m\u001b[0m\u001b[0;34m\u001b[0m\u001b[0m\n",
      "\u001b[0;32m/content/Beyond-Words/Scripts/DataManager/GraphConstructor/GraphConstructor.py\u001b[0m in \u001b[0;36msetup\u001b[0;34m(self, load_preprocessed_data)\u001b[0m\n\u001b[1;32m     83\u001b[0m             \u001b[0mtime\u001b[0m\u001b[0;34m.\u001b[0m\u001b[0msleep\u001b[0m\u001b[0;34m(\u001b[0m\u001b[0;36m10\u001b[0m\u001b[0;34m)\u001b[0m\u001b[0;34m\u001b[0m\u001b[0;34m\u001b[0m\u001b[0m\n\u001b[1;32m     84\u001b[0m             \u001b[0;32mfor\u001b[0m \u001b[0mi\u001b[0m \u001b[0;32min\u001b[0m \u001b[0mtqdm\u001b[0m\u001b[0;34m(\u001b[0m\u001b[0mrange\u001b[0m\u001b[0;34m(\u001b[0m\u001b[0mself\u001b[0m\u001b[0;34m.\u001b[0m\u001b[0mstart_data_load\u001b[0m\u001b[0;34m,\u001b[0m \u001b[0mself\u001b[0m\u001b[0;34m.\u001b[0m\u001b[0mend_data_load\u001b[0m\u001b[0;34m,\u001b[0m \u001b[0mself\u001b[0m\u001b[0;34m.\u001b[0m\u001b[0msaving_batch_size\u001b[0m\u001b[0;34m)\u001b[0m\u001b[0;34m,\u001b[0m \u001b[0mdesc\u001b[0m\u001b[0;34m=\u001b[0m\u001b[0;34m\" Loding Graphs From File \"\u001b[0m\u001b[0;34m)\u001b[0m\u001b[0;34m:\u001b[0m\u001b[0;34m\u001b[0m\u001b[0;34m\u001b[0m\u001b[0m\n\u001b[0;32m---> 85\u001b[0;31m                 \u001b[0mself\u001b[0m\u001b[0;34m.\u001b[0m\u001b[0mload_data_range\u001b[0m\u001b[0;34m(\u001b[0m\u001b[0mi\u001b[0m\u001b[0;34m,\u001b[0m \u001b[0mmin\u001b[0m\u001b[0;34m(\u001b[0m\u001b[0mi\u001b[0m \u001b[0;34m+\u001b[0m \u001b[0mself\u001b[0m\u001b[0;34m.\u001b[0m\u001b[0msaving_batch_size\u001b[0m\u001b[0;34m,\u001b[0m \u001b[0mself\u001b[0m\u001b[0;34m.\u001b[0m\u001b[0mend_data_load\u001b[0m\u001b[0;34m)\u001b[0m\u001b[0;34m)\u001b[0m\u001b[0;34m\u001b[0m\u001b[0;34m\u001b[0m\u001b[0m\n\u001b[0m\u001b[1;32m     86\u001b[0m                 \u001b[0mprint\u001b[0m\u001b[0;34m(\u001b[0m\u001b[0;34m\"after loading data and pass\"\u001b[0m\u001b[0;34m)\u001b[0m\u001b[0;34m\u001b[0m\u001b[0;34m\u001b[0m\u001b[0m\n\u001b[1;32m     87\u001b[0m         \u001b[0;32melse\u001b[0m\u001b[0;34m:\u001b[0m\u001b[0;34m\u001b[0m\u001b[0;34m\u001b[0m\u001b[0m\n",
      "\u001b[0;32m/content/Beyond-Words/Scripts/DataManager/GraphConstructor/GraphConstructor.py\u001b[0m in \u001b[0;36mload_data_range\u001b[0;34m(self, start, end)\u001b[0m\n\u001b[1;32m    217\u001b[0m         \u001b[0mtime\u001b[0m\u001b[0;34m.\u001b[0m\u001b[0msleep\u001b[0m\u001b[0;34m(\u001b[0m\u001b[0;36m10\u001b[0m\u001b[0;34m)\u001b[0m\u001b[0;34m\u001b[0m\u001b[0;34m\u001b[0m\u001b[0m\n\u001b[1;32m    218\u001b[0m         \u001b[0;32mfor\u001b[0m \u001b[0mi\u001b[0m \u001b[0;32min\u001b[0m \u001b[0mtqdm\u001b[0m\u001b[0;34m(\u001b[0m\u001b[0mrange\u001b[0m\u001b[0;34m(\u001b[0m\u001b[0mstart\u001b[0m\u001b[0;34m,\u001b[0m \u001b[0mend\u001b[0m\u001b[0;34m)\u001b[0m\u001b[0;34m,\u001b[0m \u001b[0mdesc\u001b[0m\u001b[0;34m=\u001b[0m\u001b[0;34m\"Prepare loaded data\"\u001b[0m\u001b[0;34m)\u001b[0m\u001b[0;34m:\u001b[0m\u001b[0;34m\u001b[0m\u001b[0;34m\u001b[0m\u001b[0m\n\u001b[0;32m--> 219\u001b[0;31m             \u001b[0mself\u001b[0m\u001b[0;34m.\u001b[0m\u001b[0m_graphs\u001b[0m\u001b[0;34m[\u001b[0m\u001b[0mi\u001b[0m \u001b[0;34m-\u001b[0m \u001b[0mself\u001b[0m\u001b[0;34m.\u001b[0m\u001b[0mstart_data_load\u001b[0m\u001b[0;34m]\u001b[0m \u001b[0;34m=\u001b[0m \u001b[0mself\u001b[0m\u001b[0;34m.\u001b[0m\u001b[0mprepare_loaded_data\u001b[0m\u001b[0;34m(\u001b[0m\u001b[0mdata_list\u001b[0m\u001b[0;34m[\u001b[0m\u001b[0mindex\u001b[0m\u001b[0;34m]\u001b[0m\u001b[0;34m)\u001b[0m\u001b[0;34m\u001b[0m\u001b[0;34m\u001b[0m\u001b[0m\n\u001b[0m\u001b[1;32m    220\u001b[0m             \u001b[0mindex\u001b[0m \u001b[0;34m+=\u001b[0m \u001b[0;36m1\u001b[0m\u001b[0;34m\u001b[0m\u001b[0;34m\u001b[0m\u001b[0m\n\u001b[1;32m    221\u001b[0m         \u001b[0mprint\u001b[0m\u001b[0;34m(\u001b[0m\u001b[0;34m\"before pass\"\u001b[0m\u001b[0;34m)\u001b[0m\u001b[0;34m\u001b[0m\u001b[0;34m\u001b[0m\u001b[0m\n",
      "\u001b[0;32m/content/Beyond-Words/Scripts/DataManager/GraphConstructor/DependencyGraphConstructor.py\u001b[0m in \u001b[0;36mprepare_loaded_data\u001b[0;34m(self, graph)\u001b[0m\n\u001b[1;32m    213\u001b[0m                         self.nlp.get_word_vector(graph.x[i]))\n\u001b[1;32m    214\u001b[0m             \u001b[0mgraph\u001b[0m\u001b[0;34m.\u001b[0m\u001b[0mx\u001b[0m \u001b[0;34m=\u001b[0m \u001b[0mwords\u001b[0m\u001b[0;34m\u001b[0m\u001b[0;34m\u001b[0m\u001b[0m\n\u001b[0;32m--> 215\u001b[0;31m         \u001b[0;32mfor\u001b[0m \u001b[0mt\u001b[0m \u001b[0;32min\u001b[0m \u001b[0mgraph\u001b[0m\u001b[0;34m.\u001b[0m\u001b[0medge_types\u001b[0m\u001b[0;34m:\u001b[0m\u001b[0;34m\u001b[0m\u001b[0;34m\u001b[0m\u001b[0m\n\u001b[0m\u001b[1;32m    216\u001b[0m             \u001b[0;32mif\u001b[0m \u001b[0mlen\u001b[0m\u001b[0;34m(\u001b[0m\u001b[0mgraph\u001b[0m\u001b[0;34m[\u001b[0m\u001b[0mt\u001b[0m\u001b[0;34m]\u001b[0m\u001b[0;34m.\u001b[0m\u001b[0medge_index\u001b[0m\u001b[0;34m)\u001b[0m \u001b[0;34m==\u001b[0m \u001b[0;36m0\u001b[0m\u001b[0;34m:\u001b[0m\u001b[0;34m\u001b[0m\u001b[0;34m\u001b[0m\u001b[0m\n\u001b[1;32m    217\u001b[0m                 \u001b[0mgraph\u001b[0m\u001b[0;34m[\u001b[0m\u001b[0mi\u001b[0m\u001b[0;34m]\u001b[0m\u001b[0;34m.\u001b[0m\u001b[0medge_index\u001b[0m \u001b[0;34m=\u001b[0m \u001b[0mtorch\u001b[0m\u001b[0;34m.\u001b[0m\u001b[0mempty\u001b[0m\u001b[0;34m(\u001b[0m\u001b[0;36m2\u001b[0m\u001b[0;34m,\u001b[0m \u001b[0;36m0\u001b[0m\u001b[0;34m,\u001b[0m \u001b[0mdtype\u001b[0m\u001b[0;34m=\u001b[0m\u001b[0mtorch\u001b[0m\u001b[0;34m.\u001b[0m\u001b[0mint32\u001b[0m\u001b[0;34m)\u001b[0m\u001b[0;34m\u001b[0m\u001b[0;34m\u001b[0m\u001b[0m\n",
      "\u001b[0;32m/usr/local/lib/python3.10/dist-packages/torch_geometric/data/data.py\u001b[0m in \u001b[0;36m__getattr__\u001b[0;34m(self, key)\u001b[0m\n\u001b[1;32m    557\u001b[0m                 \u001b[0;34m\"dataset, remove the 'processed/' directory in the dataset's \"\u001b[0m\u001b[0;34m\u001b[0m\u001b[0;34m\u001b[0m\u001b[0m\n\u001b[1;32m    558\u001b[0m                 \"root folder and try again.\")\n\u001b[0;32m--> 559\u001b[0;31m         \u001b[0;32mreturn\u001b[0m \u001b[0mgetattr\u001b[0m\u001b[0;34m(\u001b[0m\u001b[0mself\u001b[0m\u001b[0;34m.\u001b[0m\u001b[0m_store\u001b[0m\u001b[0;34m,\u001b[0m \u001b[0mkey\u001b[0m\u001b[0;34m)\u001b[0m\u001b[0;34m\u001b[0m\u001b[0;34m\u001b[0m\u001b[0m\n\u001b[0m\u001b[1;32m    560\u001b[0m \u001b[0;34m\u001b[0m\u001b[0m\n\u001b[1;32m    561\u001b[0m     \u001b[0;32mdef\u001b[0m \u001b[0m__setattr__\u001b[0m\u001b[0;34m(\u001b[0m\u001b[0mself\u001b[0m\u001b[0;34m,\u001b[0m \u001b[0mkey\u001b[0m\u001b[0;34m:\u001b[0m \u001b[0mstr\u001b[0m\u001b[0;34m,\u001b[0m \u001b[0mvalue\u001b[0m\u001b[0;34m:\u001b[0m \u001b[0mAny\u001b[0m\u001b[0;34m)\u001b[0m\u001b[0;34m:\u001b[0m\u001b[0;34m\u001b[0m\u001b[0;34m\u001b[0m\u001b[0m\n",
      "\u001b[0;32m/usr/local/lib/python3.10/dist-packages/torch_geometric/data/storage.py\u001b[0m in \u001b[0;36m__getattr__\u001b[0;34m(self, key)\u001b[0m\n\u001b[1;32m     94\u001b[0m             \u001b[0;32mreturn\u001b[0m \u001b[0mself\u001b[0m\u001b[0;34m[\u001b[0m\u001b[0mkey\u001b[0m\u001b[0;34m]\u001b[0m\u001b[0;34m\u001b[0m\u001b[0;34m\u001b[0m\u001b[0m\n\u001b[1;32m     95\u001b[0m         \u001b[0;32mexcept\u001b[0m \u001b[0mKeyError\u001b[0m\u001b[0;34m:\u001b[0m\u001b[0;34m\u001b[0m\u001b[0;34m\u001b[0m\u001b[0m\n\u001b[0;32m---> 96\u001b[0;31m             raise AttributeError(\n\u001b[0m\u001b[1;32m     97\u001b[0m                 \u001b[0;34mf\"'{self.__class__.__name__}' object has no attribute '{key}'\"\u001b[0m\u001b[0;34m\u001b[0m\u001b[0;34m\u001b[0m\u001b[0m\n\u001b[1;32m     98\u001b[0m             ) from None\n",
      "\u001b[0;31mAttributeError\u001b[0m: 'GlobalStorage' object has no attribute 'edge_types'"
     ]
    }
   ],
   "source": [
    "graph_const = DependencyGraphConstructor(train_df['comment'][:10], r'data\\GraphData\\Dependency', config, naming_prepend='graph', load_preprocessed_data=False, use_node_dependencies=False , use_compression=True)\n",
    "graph_const.setup(load_preprocessed_data=False)"
   ]
  },
  {
   "cell_type": "code",
   "execution_count": null,
   "metadata": {
    "colab": {
     "base_uri": "https://localhost:8080/",
     "height": 339
    },
    "executionInfo": {
     "elapsed": 13190,
     "status": "error",
     "timestamp": 1716233795615,
     "user": {
      "displayName": "Razieh Askarizade",
      "userId": "02786395411903411644"
     },
     "user_tz": -210
    },
    "id": "Hd_Mpa6hfgGU",
    "outputId": "8e00abaf-0ee4-4ad4-d977-4aca5ae67978"
   },
   "outputs": [
    {
     "name": "stdout",
     "output_type": "stream",
     "text": [
      "filename: /content/Beyond-Words/data\\GraphData\\Dependency/graph_var.txt\n",
      "data loading 0\n"
     ]
    },
    {
     "ename": "AttributeError",
     "evalue": "'GlobalStorage' object has no attribute 'edge_types'",
     "output_type": "error",
     "traceback": [
      "\u001b[0;31m---------------------------------------------------------------------------\u001b[0m",
      "\u001b[0;31mAttributeError\u001b[0m                            Traceback (most recent call last)",
      "\u001b[0;32m<ipython-input-42-68cf7bf8c3a8>\u001b[0m in \u001b[0;36m<cell line: 2>\u001b[0;34m()\u001b[0m\n\u001b[1;32m      1\u001b[0m \u001b[0mgraph_const\u001b[0m\u001b[0;34m.\u001b[0m\u001b[0msave_all_data_compressed\u001b[0m\u001b[0;34m(\u001b[0m\u001b[0;34m)\u001b[0m\u001b[0;34m\u001b[0m\u001b[0;34m\u001b[0m\u001b[0m\n\u001b[0;32m----> 2\u001b[0;31m \u001b[0mgraph_const\u001b[0m\u001b[0;34m.\u001b[0m\u001b[0mload_all_data_comppressed\u001b[0m\u001b[0;34m(\u001b[0m\u001b[0;34m)\u001b[0m\u001b[0;34m\u001b[0m\u001b[0;34m\u001b[0m\u001b[0m\n\u001b[0m",
      "\u001b[0;32m/content/Beyond-Words/Scripts/DataManager/GraphConstructor/GraphConstructor.py\u001b[0m in \u001b[0;36mload_all_data_comppressed\u001b[0;34m(self)\u001b[0m\n\u001b[1;32m    205\u001b[0m             \u001b[0;32mif\u001b[0m \u001b[0mi\u001b[0m \u001b[0;34m%\u001b[0m \u001b[0;36m100\u001b[0m \u001b[0;34m==\u001b[0m \u001b[0;36m0\u001b[0m\u001b[0;34m:\u001b[0m\u001b[0;34m\u001b[0m\u001b[0;34m\u001b[0m\u001b[0m\n\u001b[1;32m    206\u001b[0m                 \u001b[0mprint\u001b[0m\u001b[0;34m(\u001b[0m\u001b[0;34mf'data loading {i}'\u001b[0m\u001b[0;34m)\u001b[0m\u001b[0;34m\u001b[0m\u001b[0;34m\u001b[0m\u001b[0m\n\u001b[0;32m--> 207\u001b[0;31m             self._graphs[i] = self.prepare_loaded_data(torch.load(\n\u001b[0m\u001b[1;32m    208\u001b[0m                 path.join(self.save_path, f'{self.var.graphs_name[i]}_compressed.pt')))\n\u001b[1;32m    209\u001b[0m \u001b[0;34m\u001b[0m\u001b[0m\n",
      "\u001b[0;32m/content/Beyond-Words/Scripts/DataManager/GraphConstructor/DependencyGraphConstructor.py\u001b[0m in \u001b[0;36mprepare_loaded_data\u001b[0;34m(self, graph)\u001b[0m\n\u001b[1;32m    213\u001b[0m                         self.nlp.get_word_vector(graph.x[i]))\n\u001b[1;32m    214\u001b[0m             \u001b[0mgraph\u001b[0m\u001b[0;34m.\u001b[0m\u001b[0mx\u001b[0m \u001b[0;34m=\u001b[0m \u001b[0mwords\u001b[0m\u001b[0;34m\u001b[0m\u001b[0;34m\u001b[0m\u001b[0m\n\u001b[0;32m--> 215\u001b[0;31m         \u001b[0;32mfor\u001b[0m \u001b[0mt\u001b[0m \u001b[0;32min\u001b[0m \u001b[0mgraph\u001b[0m\u001b[0;34m.\u001b[0m\u001b[0medge_types\u001b[0m\u001b[0;34m:\u001b[0m\u001b[0;34m\u001b[0m\u001b[0;34m\u001b[0m\u001b[0m\n\u001b[0m\u001b[1;32m    216\u001b[0m             \u001b[0;32mif\u001b[0m \u001b[0mlen\u001b[0m\u001b[0;34m(\u001b[0m\u001b[0mgraph\u001b[0m\u001b[0;34m[\u001b[0m\u001b[0mt\u001b[0m\u001b[0;34m]\u001b[0m\u001b[0;34m.\u001b[0m\u001b[0medge_index\u001b[0m\u001b[0;34m)\u001b[0m \u001b[0;34m==\u001b[0m \u001b[0;36m0\u001b[0m\u001b[0;34m:\u001b[0m\u001b[0;34m\u001b[0m\u001b[0;34m\u001b[0m\u001b[0m\n\u001b[1;32m    217\u001b[0m                 \u001b[0mgraph\u001b[0m\u001b[0;34m[\u001b[0m\u001b[0mi\u001b[0m\u001b[0;34m]\u001b[0m\u001b[0;34m.\u001b[0m\u001b[0medge_index\u001b[0m \u001b[0;34m=\u001b[0m \u001b[0mtorch\u001b[0m\u001b[0;34m.\u001b[0m\u001b[0mempty\u001b[0m\u001b[0;34m(\u001b[0m\u001b[0;36m2\u001b[0m\u001b[0;34m,\u001b[0m \u001b[0;36m0\u001b[0m\u001b[0;34m,\u001b[0m \u001b[0mdtype\u001b[0m\u001b[0;34m=\u001b[0m\u001b[0mtorch\u001b[0m\u001b[0;34m.\u001b[0m\u001b[0mint32\u001b[0m\u001b[0;34m)\u001b[0m\u001b[0;34m\u001b[0m\u001b[0;34m\u001b[0m\u001b[0m\n",
      "\u001b[0;32m/usr/local/lib/python3.10/dist-packages/torch_geometric/data/data.py\u001b[0m in \u001b[0;36m__getattr__\u001b[0;34m(self, key)\u001b[0m\n\u001b[1;32m    557\u001b[0m                 \u001b[0;34m\"dataset, remove the 'processed/' directory in the dataset's \"\u001b[0m\u001b[0;34m\u001b[0m\u001b[0;34m\u001b[0m\u001b[0m\n\u001b[1;32m    558\u001b[0m                 \"root folder and try again.\")\n\u001b[0;32m--> 559\u001b[0;31m         \u001b[0;32mreturn\u001b[0m \u001b[0mgetattr\u001b[0m\u001b[0;34m(\u001b[0m\u001b[0mself\u001b[0m\u001b[0;34m.\u001b[0m\u001b[0m_store\u001b[0m\u001b[0;34m,\u001b[0m \u001b[0mkey\u001b[0m\u001b[0;34m)\u001b[0m\u001b[0;34m\u001b[0m\u001b[0;34m\u001b[0m\u001b[0m\n\u001b[0m\u001b[1;32m    560\u001b[0m \u001b[0;34m\u001b[0m\u001b[0m\n\u001b[1;32m    561\u001b[0m     \u001b[0;32mdef\u001b[0m \u001b[0m__setattr__\u001b[0m\u001b[0;34m(\u001b[0m\u001b[0mself\u001b[0m\u001b[0;34m,\u001b[0m \u001b[0mkey\u001b[0m\u001b[0;34m:\u001b[0m \u001b[0mstr\u001b[0m\u001b[0;34m,\u001b[0m \u001b[0mvalue\u001b[0m\u001b[0;34m:\u001b[0m \u001b[0mAny\u001b[0m\u001b[0;34m)\u001b[0m\u001b[0;34m:\u001b[0m\u001b[0;34m\u001b[0m\u001b[0;34m\u001b[0m\u001b[0m\n",
      "\u001b[0;32m/usr/local/lib/python3.10/dist-packages/torch_geometric/data/storage.py\u001b[0m in \u001b[0;36m__getattr__\u001b[0;34m(self, key)\u001b[0m\n\u001b[1;32m     94\u001b[0m             \u001b[0;32mreturn\u001b[0m \u001b[0mself\u001b[0m\u001b[0;34m[\u001b[0m\u001b[0mkey\u001b[0m\u001b[0;34m]\u001b[0m\u001b[0;34m\u001b[0m\u001b[0;34m\u001b[0m\u001b[0m\n\u001b[1;32m     95\u001b[0m         \u001b[0;32mexcept\u001b[0m \u001b[0mKeyError\u001b[0m\u001b[0;34m:\u001b[0m\u001b[0;34m\u001b[0m\u001b[0;34m\u001b[0m\u001b[0m\n\u001b[0;32m---> 96\u001b[0;31m             raise AttributeError(\n\u001b[0m\u001b[1;32m     97\u001b[0m                 \u001b[0;34mf\"'{self.__class__.__name__}' object has no attribute '{key}'\"\u001b[0m\u001b[0;34m\u001b[0m\u001b[0;34m\u001b[0m\u001b[0m\n\u001b[1;32m     98\u001b[0m             ) from None\n",
      "\u001b[0;31mAttributeError\u001b[0m: 'GlobalStorage' object has no attribute 'edge_types'"
     ]
    }
   ],
   "source": [
    "graph_const.save_all_data_compressed()\n",
    "graph_const.load_all_data_comppressed()"
   ]
  },
  {
   "cell_type": "code",
   "execution_count": null,
   "metadata": {
    "id": "bknLQojofh_o"
   },
   "outputs": [],
   "source": [
    "print(graph_const.get_first().x)\n",
    "print(graph_const.get_first().edge_index)\n",
    "print(graph_const.get_first().edge_attr)"
   ]
  },
  {
   "cell_type": "markdown",
   "metadata": {
    "id": "buZuY4TDhJqB"
   },
   "source": []
  },
  {
   "cell_type": "markdown",
   "metadata": {},
   "source": []
  },
  {
   "cell_type": "markdown",
   "metadata": {},
   "source": []
  },
  {
   "cell_type": "markdown",
   "metadata": {},
   "source": []
  },
  {
   "cell_type": "markdown",
   "metadata": {},
   "source": []
  },
  {
   "cell_type": "markdown",
   "metadata": {},
   "source": []
  },
  {
   "cell_type": "markdown",
   "metadata": {},
   "source": []
  },
  {
   "cell_type": "code",
   "execution_count": null,
   "metadata": {},
   "outputs": [],
   "source": [
    "!pip uninstall pandas"
   ]
  },
  {
   "cell_type": "code",
   "execution_count": 34,
   "metadata": {},
   "outputs": [],
   "source": [
    "import pandas as pd\n",
    "\n",
    "df = pd.read_csv(\"data.csv\")"
   ]
  },
  {
   "cell_type": "code",
   "execution_count": 35,
   "metadata": {},
   "outputs": [
    {
     "data": {
      "text/html": [
       "<div>\n",
       "<style scoped>\n",
       "    .dataframe tbody tr th:only-of-type {\n",
       "        vertical-align: middle;\n",
       "    }\n",
       "\n",
       "    .dataframe tbody tr th {\n",
       "        vertical-align: top;\n",
       "    }\n",
       "\n",
       "    .dataframe thead th {\n",
       "        text-align: right;\n",
       "    }\n",
       "</style>\n",
       "<table border=\"1\" class=\"dataframe\">\n",
       "  <thead>\n",
       "    <tr style=\"text-align: right;\">\n",
       "      <th></th>\n",
       "      <th>Text</th>\n",
       "      <th>Score</th>\n",
       "      <th>Suggestion</th>\n",
       "    </tr>\n",
       "  </thead>\n",
       "  <tbody>\n",
       "    <tr>\n",
       "      <th>0</th>\n",
       "      <td>این اولین تجربه من برای خرید ایفون هست   امروز...</td>\n",
       "      <td>100</td>\n",
       "      <td>1</td>\n",
       "    </tr>\n",
       "    <tr>\n",
       "      <th>1</th>\n",
       "      <td>خرید این محصول رو توصیه میکنم</td>\n",
       "      <td>84</td>\n",
       "      <td>1</td>\n",
       "    </tr>\n",
       "    <tr>\n",
       "      <th>2</th>\n",
       "      <td>1 ساله این گوشی رو دارم   هیچ نقطه ضعفی ازش ند...</td>\n",
       "      <td>60</td>\n",
       "      <td>1</td>\n",
       "    </tr>\n",
       "    <tr>\n",
       "      <th>3</th>\n",
       "      <td>سلام خدمت دوستان این گوشی از همه نظر عالی  کیف...</td>\n",
       "      <td>96</td>\n",
       "      <td>1</td>\n",
       "    </tr>\n",
       "    <tr>\n",
       "      <th>4</th>\n",
       "      <td>سلام دوستانی که نگران شکستن صفحه نمایش هستند ا...</td>\n",
       "      <td>92</td>\n",
       "      <td>1</td>\n",
       "    </tr>\n",
       "  </tbody>\n",
       "</table>\n",
       "</div>"
      ],
      "text/plain": [
       "                                                Text  Score  Suggestion\n",
       "0  این اولین تجربه من برای خرید ایفون هست   امروز...    100           1\n",
       "1                     خرید این محصول رو توصیه میکنم      84           1\n",
       "2  1 ساله این گوشی رو دارم   هیچ نقطه ضعفی ازش ند...     60           1\n",
       "3  سلام خدمت دوستان این گوشی از همه نظر عالی  کیف...     96           1\n",
       "4  سلام دوستانی که نگران شکستن صفحه نمایش هستند ا...     92           1"
      ]
     },
     "execution_count": 35,
     "metadata": {},
     "output_type": "execute_result"
    }
   ],
   "source": [
    "df.head()"
   ]
  },
  {
   "cell_type": "code",
   "execution_count": 36,
   "metadata": {},
   "outputs": [
    {
     "data": {
      "text/plain": [
       "<bound method DataFrame.__len__ of                                                    Text  Score  Suggestion\n",
       "0     این اولین تجربه من برای خرید ایفون هست   امروز...    100           1\n",
       "1                        خرید این محصول رو توصیه میکنم      84           1\n",
       "2     1 ساله این گوشی رو دارم   هیچ نقطه ضعفی ازش ند...     60           1\n",
       "3     سلام خدمت دوستان این گوشی از همه نظر عالی  کیف...     96           1\n",
       "4     سلام دوستانی که نگران شکستن صفحه نمایش هستند ا...     92           1\n",
       "...                                                 ...    ...         ...\n",
       "3256  کیفت ساختش خوبه تنوعش هم خوبه   فقط مشکلش اینه...     84           2\n",
       "3257           خیلی خوب و به درد بخوره و اندازشم عالیه     100           1\n",
       "3258  عالیه خیلی دوسش دارم قیمتش یه کم زیاده ولی به ...    100           1\n",
       "3259  من این مینی فرز رو از دیحیکالا سفارش دادم و به...     84           1\n",
       "3260  بعد از چند دقیقه که باهاش کار کنی سریع داغ میش...     48           3\n",
       "\n",
       "[3261 rows x 3 columns]>"
      ]
     },
     "execution_count": 36,
     "metadata": {},
     "output_type": "execute_result"
    }
   ],
   "source": [
    "df.__len__"
   ]
  },
  {
   "cell_type": "code",
   "execution_count": 60,
   "metadata": {},
   "outputs": [],
   "source": [
    "from sklearn.utils import shuffle, resample\n",
    "\n",
    "test1 = shuffle(df)\n",
    "test2 = resample(df)"
   ]
  },
  {
   "cell_type": "code",
   "execution_count": 61,
   "metadata": {},
   "outputs": [
    {
     "data": {
      "text/html": [
       "<div>\n",
       "<style scoped>\n",
       "    .dataframe tbody tr th:only-of-type {\n",
       "        vertical-align: middle;\n",
       "    }\n",
       "\n",
       "    .dataframe tbody tr th {\n",
       "        vertical-align: top;\n",
       "    }\n",
       "\n",
       "    .dataframe thead th {\n",
       "        text-align: right;\n",
       "    }\n",
       "</style>\n",
       "<table border=\"1\" class=\"dataframe\">\n",
       "  <thead>\n",
       "    <tr style=\"text-align: right;\">\n",
       "      <th></th>\n",
       "      <th>Text</th>\n",
       "      <th>Score</th>\n",
       "      <th>Suggestion</th>\n",
       "    </tr>\n",
       "  </thead>\n",
       "  <tbody>\n",
       "    <tr>\n",
       "      <th>2934</th>\n",
       "      <td>جهت پخت سالم مواد غذایی وسیله بسیار مناسبی است...</td>\n",
       "      <td>76</td>\n",
       "      <td>2</td>\n",
       "    </tr>\n",
       "    <tr>\n",
       "      <th>157</th>\n",
       "      <td>لب تاب خوبیه با بازده ی بالا برای یه کاربر معم...</td>\n",
       "      <td>92</td>\n",
       "      <td>1</td>\n",
       "    </tr>\n",
       "    <tr>\n",
       "      <th>2928</th>\n",
       "      <td>درکل همه چیش خوبه</td>\n",
       "      <td>80</td>\n",
       "      <td>1</td>\n",
       "    </tr>\n",
       "    <tr>\n",
       "      <th>870</th>\n",
       "      <td>کیفیت تصویر خیلی خوبه داره اما الان که یک سال ...</td>\n",
       "      <td>80</td>\n",
       "      <td>1</td>\n",
       "    </tr>\n",
       "    <tr>\n",
       "      <th>2020</th>\n",
       "      <td>اگر فقط برای مکالمه با موبایل و گهگاهی گوش داد...</td>\n",
       "      <td>48</td>\n",
       "      <td>3</td>\n",
       "    </tr>\n",
       "  </tbody>\n",
       "</table>\n",
       "</div>"
      ],
      "text/plain": [
       "                                                   Text  Score  Suggestion\n",
       "2934  جهت پخت سالم مواد غذایی وسیله بسیار مناسبی است...     76           2\n",
       "157   لب تاب خوبیه با بازده ی بالا برای یه کاربر معم...     92           1\n",
       "2928                                 درکل همه چیش خوبه      80           1\n",
       "870   کیفیت تصویر خیلی خوبه داره اما الان که یک سال ...     80           1\n",
       "2020  اگر فقط برای مکالمه با موبایل و گهگاهی گوش داد...     48           3"
      ]
     },
     "execution_count": 61,
     "metadata": {},
     "output_type": "execute_result"
    }
   ],
   "source": [
    "test1.head(5)"
   ]
  },
  {
   "cell_type": "code",
   "execution_count": 62,
   "metadata": {},
   "outputs": [
    {
     "data": {
      "text/html": [
       "<div>\n",
       "<style scoped>\n",
       "    .dataframe tbody tr th:only-of-type {\n",
       "        vertical-align: middle;\n",
       "    }\n",
       "\n",
       "    .dataframe tbody tr th {\n",
       "        vertical-align: top;\n",
       "    }\n",
       "\n",
       "    .dataframe thead th {\n",
       "        text-align: right;\n",
       "    }\n",
       "</style>\n",
       "<table border=\"1\" class=\"dataframe\">\n",
       "  <thead>\n",
       "    <tr style=\"text-align: right;\">\n",
       "      <th></th>\n",
       "      <th>Text</th>\n",
       "      <th>Score</th>\n",
       "      <th>Suggestion</th>\n",
       "    </tr>\n",
       "  </thead>\n",
       "  <tbody>\n",
       "    <tr>\n",
       "      <th>643</th>\n",
       "      <td>خیلی لپ تاپ خوب و شیکی هستش و از لحاظ سخت افزا...</td>\n",
       "      <td>60</td>\n",
       "      <td>1</td>\n",
       "    </tr>\n",
       "    <tr>\n",
       "      <th>837</th>\n",
       "      <td>نمی دونم چی باید بنویسم حرف اخر اول مینویسم نس...</td>\n",
       "      <td>88</td>\n",
       "      <td>1</td>\n",
       "    </tr>\n",
       "    <tr>\n",
       "      <th>62</th>\n",
       "      <td>فوق العاده گوشی بی کیفیت هستش میکروفون و اسپیک...</td>\n",
       "      <td>48</td>\n",
       "      <td>3</td>\n",
       "    </tr>\n",
       "    <tr>\n",
       "      <th>2103</th>\n",
       "      <td>قسمت خورد کن به سرعت خراب شد   محل اتصال شفت م...</td>\n",
       "      <td>28</td>\n",
       "      <td>3</td>\n",
       "    </tr>\n",
       "    <tr>\n",
       "      <th>1789</th>\n",
       "      <td>تازه امروز رسید به دستم و بعد برسسیش حیفم اومد...</td>\n",
       "      <td>76</td>\n",
       "      <td>2</td>\n",
       "    </tr>\n",
       "  </tbody>\n",
       "</table>\n",
       "</div>"
      ],
      "text/plain": [
       "                                                   Text  Score  Suggestion\n",
       "643   خیلی لپ تاپ خوب و شیکی هستش و از لحاظ سخت افزا...     60           1\n",
       "837   نمی دونم چی باید بنویسم حرف اخر اول مینویسم نس...     88           1\n",
       "62    فوق العاده گوشی بی کیفیت هستش میکروفون و اسپیک...     48           3\n",
       "2103  قسمت خورد کن به سرعت خراب شد   محل اتصال شفت م...     28           3\n",
       "1789  تازه امروز رسید به دستم و بعد برسسیش حیفم اومد...     76           2"
      ]
     },
     "execution_count": 62,
     "metadata": {},
     "output_type": "execute_result"
    }
   ],
   "source": [
    "test2.head(5)"
   ]
  },
  {
   "cell_type": "code",
   "execution_count": 64,
   "metadata": {},
   "outputs": [],
   "source": [
    "test3 = df.sample(frac=1)"
   ]
  },
  {
   "cell_type": "code",
   "execution_count": 65,
   "metadata": {},
   "outputs": [
    {
     "data": {
      "text/html": [
       "<div>\n",
       "<style scoped>\n",
       "    .dataframe tbody tr th:only-of-type {\n",
       "        vertical-align: middle;\n",
       "    }\n",
       "\n",
       "    .dataframe tbody tr th {\n",
       "        vertical-align: top;\n",
       "    }\n",
       "\n",
       "    .dataframe thead th {\n",
       "        text-align: right;\n",
       "    }\n",
       "</style>\n",
       "<table border=\"1\" class=\"dataframe\">\n",
       "  <thead>\n",
       "    <tr style=\"text-align: right;\">\n",
       "      <th></th>\n",
       "      <th>Text</th>\n",
       "      <th>Score</th>\n",
       "      <th>Suggestion</th>\n",
       "    </tr>\n",
       "  </thead>\n",
       "  <tbody>\n",
       "    <tr>\n",
       "      <th>1184</th>\n",
       "      <td>خیلی بزرگن برای قابلمه و ماهیتابه های کوچیک اص...</td>\n",
       "      <td>52</td>\n",
       "      <td>2</td>\n",
       "    </tr>\n",
       "    <tr>\n",
       "      <th>2996</th>\n",
       "      <td>عاااالیه و اینکه چراغ ال ای دی و نمایشگر میزان...</td>\n",
       "      <td>96</td>\n",
       "      <td>1</td>\n",
       "    </tr>\n",
       "    <tr>\n",
       "      <th>1028</th>\n",
       "      <td>من پوستم تقریبا سفیده ولی این کرمو که زدم شبیه...</td>\n",
       "      <td>60</td>\n",
       "      <td>2</td>\n",
       "    </tr>\n",
       "    <tr>\n",
       "      <th>1779</th>\n",
       "      <td>قابلیت تعقیبش خیلی خوبه ولی کیفیتش خیلی نا امی...</td>\n",
       "      <td>40</td>\n",
       "      <td>3</td>\n",
       "    </tr>\n",
       "    <tr>\n",
       "      <th>1209</th>\n",
       "      <td>عالیه من خیلی راضیم</td>\n",
       "      <td>100</td>\n",
       "      <td>1</td>\n",
       "    </tr>\n",
       "  </tbody>\n",
       "</table>\n",
       "</div>"
      ],
      "text/plain": [
       "                                                   Text  Score  Suggestion\n",
       "1184  خیلی بزرگن برای قابلمه و ماهیتابه های کوچیک اص...     52           2\n",
       "2996  عاااالیه و اینکه چراغ ال ای دی و نمایشگر میزان...     96           1\n",
       "1028  من پوستم تقریبا سفیده ولی این کرمو که زدم شبیه...     60           2\n",
       "1779  قابلیت تعقیبش خیلی خوبه ولی کیفیتش خیلی نا امی...     40           3\n",
       "1209                            عالیه من خیلی راضیم        100           1"
      ]
     },
     "execution_count": 65,
     "metadata": {},
     "output_type": "execute_result"
    }
   ],
   "source": [
    "test3.head(5)"
   ]
  },
  {
   "cell_type": "code",
   "execution_count": 66,
   "metadata": {},
   "outputs": [],
   "source": [
    "for i in range(2000):\n",
    "    test3 = test3.sample(frac=1)\n",
    "    test3 = shuffle(test3)"
   ]
  },
  {
   "cell_type": "code",
   "execution_count": 76,
   "metadata": {},
   "outputs": [
    {
     "data": {
      "text/html": [
       "<div>\n",
       "<style scoped>\n",
       "    .dataframe tbody tr th:only-of-type {\n",
       "        vertical-align: middle;\n",
       "    }\n",
       "\n",
       "    .dataframe tbody tr th {\n",
       "        vertical-align: top;\n",
       "    }\n",
       "\n",
       "    .dataframe thead th {\n",
       "        text-align: right;\n",
       "    }\n",
       "</style>\n",
       "<table border=\"1\" class=\"dataframe\">\n",
       "  <thead>\n",
       "    <tr style=\"text-align: right;\">\n",
       "      <th></th>\n",
       "      <th>Text</th>\n",
       "      <th>Score</th>\n",
       "      <th>Suggestion</th>\n",
       "    </tr>\n",
       "  </thead>\n",
       "  <tbody>\n",
       "    <tr>\n",
       "      <th>1360</th>\n",
       "      <td>سه هفتس که دارمش خیلی عالیه واقعا با وجود این ...</td>\n",
       "      <td>80</td>\n",
       "      <td>1</td>\n",
       "    </tr>\n",
       "    <tr>\n",
       "      <th>388</th>\n",
       "      <td>با کیفیت و مناسب هست  اما باتری تا پنج ساعت بی...</td>\n",
       "      <td>64</td>\n",
       "      <td>1</td>\n",
       "    </tr>\n",
       "    <tr>\n",
       "      <th>141</th>\n",
       "      <td>دستگاه خیلی شیک و عالی و خوش دستی هست ولی حیف ...</td>\n",
       "      <td>80</td>\n",
       "      <td>1</td>\n",
       "    </tr>\n",
       "    <tr>\n",
       "      <th>417</th>\n",
       "      <td>با سلام با توجه به اینکه بیش از ده سال است که ...</td>\n",
       "      <td>60</td>\n",
       "      <td>2</td>\n",
       "    </tr>\n",
       "    <tr>\n",
       "      <th>2001</th>\n",
       "      <td>بسیار قوی و با کیفیته و فقط باید مستقیم به پخش...</td>\n",
       "      <td>96</td>\n",
       "      <td>1</td>\n",
       "    </tr>\n",
       "    <tr>\n",
       "      <th>65</th>\n",
       "      <td>خیلی راضی بودم متاسفانه ازم دزدیدن</td>\n",
       "      <td>100</td>\n",
       "      <td>1</td>\n",
       "    </tr>\n",
       "  </tbody>\n",
       "</table>\n",
       "</div>"
      ],
      "text/plain": [
       "                                                   Text  Score  Suggestion\n",
       "1360  سه هفتس که دارمش خیلی عالیه واقعا با وجود این ...     80           1\n",
       "388   با کیفیت و مناسب هست  اما باتری تا پنج ساعت بی...     64           1\n",
       "141   دستگاه خیلی شیک و عالی و خوش دستی هست ولی حیف ...     80           1\n",
       "417   با سلام با توجه به اینکه بیش از ده سال است که ...     60           2\n",
       "2001  بسیار قوی و با کیفیته و فقط باید مستقیم به پخش...     96           1\n",
       "65                  خیلی راضی بودم متاسفانه ازم دزدیدن     100           1"
      ]
     },
     "execution_count": 76,
     "metadata": {},
     "output_type": "execute_result"
    }
   ],
   "source": [
    "test3.head(6)"
   ]
  },
  {
   "cell_type": "code",
   "execution_count": 77,
   "metadata": {},
   "outputs": [],
   "source": [
    "from sklearn.model_selection import train_test_split\n",
    "\n",
    "train, test = train_test_split(test3, test_size=0.2, random_state=0, shuffle=True)\n",
    "\n",
    "train.to_csv(r\"C:\\Users\\razieh\\Downloads\\Beyond-Words\\data\\DigiKala\\train_sm.csv\", index=False, header=False)\n",
    "test.to_csv(r\"C:\\Users\\razieh\\Downloads\\Beyond-Words\\data\\DigiKala\\test_sm.csv\", index=False, header=False)"
   ]
  },
  {
   "cell_type": "code",
   "execution_count": 78,
   "metadata": {},
   "outputs": [
    {
     "data": {
      "text/plain": [
       "Suggestion\n",
       "1    2382\n",
       "3     460\n",
       "2     419\n",
       "Name: count, dtype: int64"
      ]
     },
     "execution_count": 78,
     "metadata": {},
     "output_type": "execute_result"
    }
   ],
   "source": [
    "df['Suggestion'].value_counts()"
   ]
  },
  {
   "cell_type": "code",
   "execution_count": 79,
   "metadata": {},
   "outputs": [],
   "source": [
    "pd_train = pd.read_csv(r\"C:\\Users\\razieh\\Downloads\\Beyond-Words\\data\\DigiKala\\train_sm.csv\")\n",
    "pd_test = pd.read_csv(r\"C:\\Users\\razieh\\Downloads\\Beyond-Words\\data\\DigiKala\\test_sm.csv\")"
   ]
  },
  {
   "cell_type": "code",
   "execution_count": 80,
   "metadata": {},
   "outputs": [
    {
     "data": {
      "text/html": [
       "<div>\n",
       "<style scoped>\n",
       "    .dataframe tbody tr th:only-of-type {\n",
       "        vertical-align: middle;\n",
       "    }\n",
       "\n",
       "    .dataframe tbody tr th {\n",
       "        vertical-align: top;\n",
       "    }\n",
       "\n",
       "    .dataframe thead th {\n",
       "        text-align: right;\n",
       "    }\n",
       "</style>\n",
       "<table border=\"1\" class=\"dataframe\">\n",
       "  <thead>\n",
       "    <tr style=\"text-align: right;\">\n",
       "      <th></th>\n",
       "      <th>کیفیت ساخت و متریال بسیار عالی</th>\n",
       "      <th>100</th>\n",
       "      <th>1</th>\n",
       "    </tr>\n",
       "  </thead>\n",
       "  <tbody>\n",
       "    <tr>\n",
       "      <th>0</th>\n",
       "      <td>بسیار زیبا</td>\n",
       "      <td>68</td>\n",
       "      <td>2</td>\n",
       "    </tr>\n",
       "    <tr>\n",
       "      <th>1</th>\n",
       "      <td>دوستان دقت کنید به همراه این هدفون یک مبدل جک ...</td>\n",
       "      <td>24</td>\n",
       "      <td>3</td>\n",
       "    </tr>\n",
       "    <tr>\n",
       "      <th>2</th>\n",
       "      <td>خیلی شیک و قشنگه واسه گرم کردن نون سنگک یا هر ...</td>\n",
       "      <td>60</td>\n",
       "      <td>1</td>\n",
       "    </tr>\n",
       "    <tr>\n",
       "      <th>3</th>\n",
       "      <td>عالیه   واقعا راضی ام   واقعا می ارزه</td>\n",
       "      <td>100</td>\n",
       "      <td>1</td>\n",
       "    </tr>\n",
       "    <tr>\n",
       "      <th>4</th>\n",
       "      <td>کلا لنوو ها کیفیت بدنه پایینی دارند این دستگاه...</td>\n",
       "      <td>60</td>\n",
       "      <td>2</td>\n",
       "    </tr>\n",
       "  </tbody>\n",
       "</table>\n",
       "</div>"
      ],
      "text/plain": [
       "                     کیفیت ساخت و متریال بسیار عالی   100  1\n",
       "0                                        بسیار زیبا    68  2\n",
       "1  دوستان دقت کنید به همراه این هدفون یک مبدل جک ...   24  3\n",
       "2  خیلی شیک و قشنگه واسه گرم کردن نون سنگک یا هر ...   60  1\n",
       "3           عالیه   واقعا راضی ام   واقعا می ارزه     100  1\n",
       "4  کلا لنوو ها کیفیت بدنه پایینی دارند این دستگاه...   60  2"
      ]
     },
     "execution_count": 80,
     "metadata": {},
     "output_type": "execute_result"
    }
   ],
   "source": [
    "pd_train.head(5)"
   ]
  },
  {
   "cell_type": "code",
   "execution_count": 81,
   "metadata": {},
   "outputs": [
    {
     "data": {
      "text/html": [
       "<div>\n",
       "<style scoped>\n",
       "    .dataframe tbody tr th:only-of-type {\n",
       "        vertical-align: middle;\n",
       "    }\n",
       "\n",
       "    .dataframe tbody tr th {\n",
       "        vertical-align: top;\n",
       "    }\n",
       "\n",
       "    .dataframe thead th {\n",
       "        text-align: right;\n",
       "    }\n",
       "</style>\n",
       "<table border=\"1\" class=\"dataframe\">\n",
       "  <thead>\n",
       "    <tr style=\"text-align: right;\">\n",
       "      <th></th>\n",
       "      <th>نه تبلته که صفحه بزرگی داشته باشه نه موبایله که راحت حمل بشه به جای هیچ کدوم نمیشه استفاده کرد مجبوری برای تماس ها از هندزفری استفاده کنی چون نمیفهمی طرف مقابل داره چی میگه بعد از یک سال وقتی با دکمه صدا رو میخوام زیاد کنم یهو صدا خیلی زیاد میشه بعضی وقتها صفحه رمز که نشون داده میشه هنگه باید یه بار صفحه خاموش و روشن بشه   همزمانی صدا و تصویر ویدوئوها بعد از یه مدت به هم خورد توی بالا و پایین کردن صفحات گاهی پرش می بینم</th>\n",
       "      <th>44</th>\n",
       "      <th>3</th>\n",
       "    </tr>\n",
       "  </thead>\n",
       "  <tbody>\n",
       "    <tr>\n",
       "      <th>0</th>\n",
       "      <td>خیلی عالیه همه کاری باهاش کردم ولی فقط واسه با...</td>\n",
       "      <td>88</td>\n",
       "      <td>1</td>\n",
       "    </tr>\n",
       "    <tr>\n",
       "      <th>1</th>\n",
       "      <td>من سه ساله اینو دارم و فقط میتونم بگم تا الان ...</td>\n",
       "      <td>100</td>\n",
       "      <td>1</td>\n",
       "    </tr>\n",
       "    <tr>\n",
       "      <th>2</th>\n",
       "      <td>این اولین موبایلی بود که داشتم و کلی هم کارمو ...</td>\n",
       "      <td>80</td>\n",
       "      <td>1</td>\n",
       "    </tr>\n",
       "    <tr>\n",
       "      <th>3</th>\n",
       "      <td>یه هندسفری کاملا معمولی هست فقط ارگونومی خوب د...</td>\n",
       "      <td>36</td>\n",
       "      <td>3</td>\n",
       "    </tr>\n",
       "    <tr>\n",
       "      <th>4</th>\n",
       "      <td>دستگاه خیلی خوبی هست روی تمام کاغذها میزنه  گل...</td>\n",
       "      <td>60</td>\n",
       "      <td>1</td>\n",
       "    </tr>\n",
       "  </tbody>\n",
       "</table>\n",
       "</div>"
      ],
      "text/plain": [
       "  نه تبلته که صفحه بزرگی داشته باشه نه موبایله که راحت حمل بشه به جای هیچ کدوم نمیشه استفاده کرد مجبوری برای تماس ها از هندزفری استفاده کنی چون نمیفهمی طرف مقابل داره چی میگه بعد از یک سال وقتی با دکمه صدا رو میخوام زیاد کنم یهو صدا خیلی زیاد میشه بعضی وقتها صفحه رمز که نشون داده میشه هنگه باید یه بار صفحه خاموش و روشن بشه   همزمانی صدا و تصویر ویدوئوها بعد از یه مدت به هم خورد توی بالا و پایین کردن صفحات گاهی پرش می بینم   \\\n",
       "0  خیلی عالیه همه کاری باهاش کردم ولی فقط واسه با...                                                                                                                                                                                                                                                                                                                                                                                         \n",
       "1  من سه ساله اینو دارم و فقط میتونم بگم تا الان ...                                                                                                                                                                                                                                                                                                                                                                                         \n",
       "2  این اولین موبایلی بود که داشتم و کلی هم کارمو ...                                                                                                                                                                                                                                                                                                                                                                                         \n",
       "3  یه هندسفری کاملا معمولی هست فقط ارگونومی خوب د...                                                                                                                                                                                                                                                                                                                                                                                         \n",
       "4  دستگاه خیلی خوبی هست روی تمام کاغذها میزنه  گل...                                                                                                                                                                                                                                                                                                                                                                                         \n",
       "\n",
       "    44  3  \n",
       "0   88  1  \n",
       "1  100  1  \n",
       "2   80  1  \n",
       "3   36  3  \n",
       "4   60  1  "
      ]
     },
     "execution_count": 81,
     "metadata": {},
     "output_type": "execute_result"
    }
   ],
   "source": [
    "pd_test.head(5)"
   ]
  },
  {
   "cell_type": "code",
   "execution_count": 83,
   "metadata": {},
   "outputs": [
    {
     "name": "stdout",
     "output_type": "stream",
     "text": [
      "0 3\n",
      "1 6\n"
     ]
    }
   ],
   "source": [
    "doc = [(1,2,3), (4,5,6)]\n",
    "for idx, token in enumerate(doc):\n",
    "    print(idx, token[2])"
   ]
  },
  {
   "cell_type": "code",
   "execution_count": 85,
   "metadata": {},
   "outputs": [
    {
     "name": "stderr",
     "output_type": "stream",
     "text": [
      "c:\\Users\\razieh\\AppData\\Local\\Programs\\Python\\Python312\\Lib\\site-packages\\tqdm\\auto.py:21: TqdmWarning: IProgress not found. Please update jupyter and ipywidgets. See https://ipywidgets.readthedocs.io/en/stable/user_install.html\n",
      "  from .autonotebook import tqdm as notebook_tqdm\n",
      "c:\\Users\\razieh\\AppData\\Local\\Programs\\Python\\Python312\\Lib\\site-packages\\transformers\\utils\\generic.py:441: UserWarning: torch.utils._pytree._register_pytree_node is deprecated. Please use torch.utils._pytree.register_pytree_node instead.\n",
      "  _torch_pytree._register_pytree_node(\n",
      "c:\\Users\\razieh\\AppData\\Local\\Programs\\Python\\Python312\\Lib\\site-packages\\transformers\\utils\\generic.py:309: UserWarning: torch.utils._pytree._register_pytree_node is deprecated. Please use torch.utils._pytree.register_pytree_node instead.\n",
      "  _torch_pytree._register_pytree_node(\n"
     ]
    }
   ],
   "source": [
    "import spacy\n",
    "\n",
    "doc = spacy.load('en_core_web_lg')"
   ]
  },
  {
   "cell_type": "code",
   "execution_count": 86,
   "metadata": {},
   "outputs": [],
   "source": [
    "doc = doc('hi, it is sentence one. and it is sentence 2')"
   ]
  },
  {
   "cell_type": "code",
   "execution_count": 87,
   "metadata": {},
   "outputs": [
    {
     "name": "stdout",
     "output_type": "stream",
     "text": [
      "hi\n",
      ",\n",
      "it\n",
      "is\n",
      "sentence\n",
      "one\n",
      ".\n",
      "and\n",
      "it\n",
      "is\n",
      "sentence\n",
      "2\n"
     ]
    }
   ],
   "source": [
    "for token in doc:\n",
    "    print(token)"
   ]
  },
  {
   "cell_type": "code",
   "execution_count": null,
   "metadata": {},
   "outputs": [],
   "source": []
  }
 ],
 "metadata": {
  "accelerator": "GPU",
  "colab": {
   "gpuType": "T4",
   "provenance": []
  },
  "kernelspec": {
   "display_name": "Python 3",
   "language": "python",
   "name": "python3"
  },
  "language_info": {
   "codemirror_mode": {
    "name": "ipython",
    "version": 3
   },
   "file_extension": ".py",
   "mimetype": "text/x-python",
   "name": "python",
   "nbconvert_exporter": "python",
   "pygments_lexer": "ipython3",
   "version": "3.8.8"
  },
  "widgets": {
   "application/vnd.jupyter.widget-state+json": {
    "005b1f31f901459fbceaadc51996952e": {
     "model_module": "@jupyter-widgets/controls",
     "model_module_version": "1.5.0",
     "model_name": "ProgressStyleModel",
     "state": {
      "_model_module": "@jupyter-widgets/controls",
      "_model_module_version": "1.5.0",
      "_model_name": "ProgressStyleModel",
      "_view_count": null,
      "_view_module": "@jupyter-widgets/base",
      "_view_module_version": "1.2.0",
      "_view_name": "StyleView",
      "bar_color": null,
      "description_width": ""
     }
    },
    "009dcaa33d9d491488b78dbb10c8adb0": {
     "model_module": "@jupyter-widgets/controls",
     "model_module_version": "1.5.0",
     "model_name": "HTMLModel",
     "state": {
      "_dom_classes": [],
      "_model_module": "@jupyter-widgets/controls",
      "_model_module_version": "1.5.0",
      "_model_name": "HTMLModel",
      "_view_count": null,
      "_view_module": "@jupyter-widgets/controls",
      "_view_module_version": "1.5.0",
      "_view_name": "HTMLView",
      "description": "",
      "description_tooltip": null,
      "layout": "IPY_MODEL_41733c612fb14ad0b916d9f7e32c7f45",
      "placeholder": "​",
      "style": "IPY_MODEL_a9237a8c1e294d75880fe1a2a2909de4",
      "value": " 20.5M/20.5M [00:00&lt;00:00, 39.6MB/s]"
     }
    },
    "0114b4dac26a443a981973feb6b3c99a": {
     "model_module": "@jupyter-widgets/base",
     "model_module_version": "1.2.0",
     "model_name": "LayoutModel",
     "state": {
      "_model_module": "@jupyter-widgets/base",
      "_model_module_version": "1.2.0",
      "_model_name": "LayoutModel",
      "_view_count": null,
      "_view_module": "@jupyter-widgets/base",
      "_view_module_version": "1.2.0",
      "_view_name": "LayoutView",
      "align_content": null,
      "align_items": null,
      "align_self": null,
      "border": null,
      "bottom": null,
      "display": null,
      "flex": null,
      "flex_flow": null,
      "grid_area": null,
      "grid_auto_columns": null,
      "grid_auto_flow": null,
      "grid_auto_rows": null,
      "grid_column": null,
      "grid_gap": null,
      "grid_row": null,
      "grid_template_areas": null,
      "grid_template_columns": null,
      "grid_template_rows": null,
      "height": null,
      "justify_content": null,
      "justify_items": null,
      "left": null,
      "margin": null,
      "max_height": null,
      "max_width": null,
      "min_height": null,
      "min_width": null,
      "object_fit": null,
      "object_position": null,
      "order": null,
      "overflow": null,
      "overflow_x": null,
      "overflow_y": null,
      "padding": null,
      "right": null,
      "top": null,
      "visibility": null,
      "width": null
     }
    },
    "020e633b201b4149926032aa47622277": {
     "model_module": "@jupyter-widgets/controls",
     "model_module_version": "1.5.0",
     "model_name": "DescriptionStyleModel",
     "state": {
      "_model_module": "@jupyter-widgets/controls",
      "_model_module_version": "1.5.0",
      "_model_name": "DescriptionStyleModel",
      "_view_count": null,
      "_view_module": "@jupyter-widgets/base",
      "_view_module_version": "1.2.0",
      "_view_name": "StyleView",
      "description_width": ""
     }
    },
    "026e541541414f35b00b5be9aad8a675": {
     "model_module": "@jupyter-widgets/base",
     "model_module_version": "1.2.0",
     "model_name": "LayoutModel",
     "state": {
      "_model_module": "@jupyter-widgets/base",
      "_model_module_version": "1.2.0",
      "_model_name": "LayoutModel",
      "_view_count": null,
      "_view_module": "@jupyter-widgets/base",
      "_view_module_version": "1.2.0",
      "_view_name": "LayoutView",
      "align_content": null,
      "align_items": null,
      "align_self": null,
      "border": null,
      "bottom": null,
      "display": null,
      "flex": null,
      "flex_flow": null,
      "grid_area": null,
      "grid_auto_columns": null,
      "grid_auto_flow": null,
      "grid_auto_rows": null,
      "grid_column": null,
      "grid_gap": null,
      "grid_row": null,
      "grid_template_areas": null,
      "grid_template_columns": null,
      "grid_template_rows": null,
      "height": null,
      "justify_content": null,
      "justify_items": null,
      "left": null,
      "margin": null,
      "max_height": null,
      "max_width": null,
      "min_height": null,
      "min_width": null,
      "object_fit": null,
      "object_position": null,
      "order": null,
      "overflow": null,
      "overflow_x": null,
      "overflow_y": null,
      "padding": null,
      "right": null,
      "top": null,
      "visibility": null,
      "width": null
     }
    },
    "02fa002502d84a77a5b013cf106d8ef1": {
     "model_module": "@jupyter-widgets/controls",
     "model_module_version": "1.5.0",
     "model_name": "HTMLModel",
     "state": {
      "_dom_classes": [],
      "_model_module": "@jupyter-widgets/controls",
      "_model_module_version": "1.5.0",
      "_model_name": "HTMLModel",
      "_view_count": null,
      "_view_module": "@jupyter-widgets/controls",
      "_view_module_version": "1.5.0",
      "_view_name": "HTMLView",
      "description": "",
      "description_tooltip": null,
      "layout": "IPY_MODEL_8543906884494683b7743beb57a03889",
      "placeholder": "​",
      "style": "IPY_MODEL_ab48fa548c554fca8b2f75d3742f747e",
      "value": "Downloading https://huggingface.co/stanfordnlp/stanza-fa/resolve/v1.8.0/models/depparse/perdt_charlm.pt: 100%"
     }
    },
    "03e4a22711c94497a347339ce9d1b994": {
     "model_module": "@jupyter-widgets/controls",
     "model_module_version": "1.5.0",
     "model_name": "FloatProgressModel",
     "state": {
      "_dom_classes": [],
      "_model_module": "@jupyter-widgets/controls",
      "_model_module_version": "1.5.0",
      "_model_name": "FloatProgressModel",
      "_view_count": null,
      "_view_module": "@jupyter-widgets/controls",
      "_view_module_version": "1.5.0",
      "_view_name": "ProgressView",
      "bar_style": "success",
      "description": "",
      "description_tooltip": null,
      "layout": "IPY_MODEL_0114b4dac26a443a981973feb6b3c99a",
      "max": 47208,
      "min": 0,
      "orientation": "horizontal",
      "style": "IPY_MODEL_3b4c65bb794044be9f396756b4b39b9e",
      "value": 47208
     }
    },
    "03fbe882f1574ff4a457a10e780ee5ae": {
     "model_module": "@jupyter-widgets/controls",
     "model_module_version": "1.5.0",
     "model_name": "HBoxModel",
     "state": {
      "_dom_classes": [],
      "_model_module": "@jupyter-widgets/controls",
      "_model_module_version": "1.5.0",
      "_model_name": "HBoxModel",
      "_view_count": null,
      "_view_module": "@jupyter-widgets/controls",
      "_view_module_version": "1.5.0",
      "_view_name": "HBoxView",
      "box_style": "",
      "children": [
       "IPY_MODEL_71909c45ea2f4d8bab4c7cb351f4326d",
       "IPY_MODEL_e72d713f37884591985e49cf0c8216f8",
       "IPY_MODEL_448098b114b9438a949133d454a0ef65"
      ],
      "layout": "IPY_MODEL_63e4de26287d41bab56c9bc450d335c4"
     }
    },
    "0538b04b31ee4481ae5e2d7cd9827ddd": {
     "model_module": "@jupyter-widgets/controls",
     "model_module_version": "1.5.0",
     "model_name": "HTMLModel",
     "state": {
      "_dom_classes": [],
      "_model_module": "@jupyter-widgets/controls",
      "_model_module_version": "1.5.0",
      "_model_name": "HTMLModel",
      "_view_count": null,
      "_view_module": "@jupyter-widgets/controls",
      "_view_module_version": "1.5.0",
      "_view_name": "HTMLView",
      "description": "",
      "description_tooltip": null,
      "layout": "IPY_MODEL_4782efb5f8694de19ad4b2d0766b33bf",
      "placeholder": "​",
      "style": "IPY_MODEL_19a3ddf2e7a541c3845ceff135c90cb1",
      "value": "Downloading https://raw.githubusercontent.com/stanfordnlp/stanza-resources/main/resources_1.8.0.json: "
     }
    },
    "0663a136ab2a475f8dbf1901961f531c": {
     "model_module": "@jupyter-widgets/base",
     "model_module_version": "1.2.0",
     "model_name": "LayoutModel",
     "state": {
      "_model_module": "@jupyter-widgets/base",
      "_model_module_version": "1.2.0",
      "_model_name": "LayoutModel",
      "_view_count": null,
      "_view_module": "@jupyter-widgets/base",
      "_view_module_version": "1.2.0",
      "_view_name": "LayoutView",
      "align_content": null,
      "align_items": null,
      "align_self": null,
      "border": null,
      "bottom": null,
      "display": null,
      "flex": null,
      "flex_flow": null,
      "grid_area": null,
      "grid_auto_columns": null,
      "grid_auto_flow": null,
      "grid_auto_rows": null,
      "grid_column": null,
      "grid_gap": null,
      "grid_row": null,
      "grid_template_areas": null,
      "grid_template_columns": null,
      "grid_template_rows": null,
      "height": null,
      "justify_content": null,
      "justify_items": null,
      "left": null,
      "margin": null,
      "max_height": null,
      "max_width": null,
      "min_height": null,
      "min_width": null,
      "object_fit": null,
      "object_position": null,
      "order": null,
      "overflow": null,
      "overflow_x": null,
      "overflow_y": null,
      "padding": null,
      "right": null,
      "top": null,
      "visibility": null,
      "width": null
     }
    },
    "077562ad5d2b42b8b20ca9ba5652752f": {
     "model_module": "@jupyter-widgets/base",
     "model_module_version": "1.2.0",
     "model_name": "LayoutModel",
     "state": {
      "_model_module": "@jupyter-widgets/base",
      "_model_module_version": "1.2.0",
      "_model_name": "LayoutModel",
      "_view_count": null,
      "_view_module": "@jupyter-widgets/base",
      "_view_module_version": "1.2.0",
      "_view_name": "LayoutView",
      "align_content": null,
      "align_items": null,
      "align_self": null,
      "border": null,
      "bottom": null,
      "display": null,
      "flex": null,
      "flex_flow": null,
      "grid_area": null,
      "grid_auto_columns": null,
      "grid_auto_flow": null,
      "grid_auto_rows": null,
      "grid_column": null,
      "grid_gap": null,
      "grid_row": null,
      "grid_template_areas": null,
      "grid_template_columns": null,
      "grid_template_rows": null,
      "height": null,
      "justify_content": null,
      "justify_items": null,
      "left": null,
      "margin": null,
      "max_height": null,
      "max_width": null,
      "min_height": null,
      "min_width": null,
      "object_fit": null,
      "object_position": null,
      "order": null,
      "overflow": null,
      "overflow_x": null,
      "overflow_y": null,
      "padding": null,
      "right": null,
      "top": null,
      "visibility": null,
      "width": null
     }
    },
    "08a110acb39244c181906269b836d782": {
     "model_module": "@jupyter-widgets/controls",
     "model_module_version": "1.5.0",
     "model_name": "DescriptionStyleModel",
     "state": {
      "_model_module": "@jupyter-widgets/controls",
      "_model_module_version": "1.5.0",
      "_model_name": "DescriptionStyleModel",
      "_view_count": null,
      "_view_module": "@jupyter-widgets/base",
      "_view_module_version": "1.2.0",
      "_view_name": "StyleView",
      "description_width": ""
     }
    },
    "08adc9f019df46db8b48d657e39dab86": {
     "model_module": "@jupyter-widgets/controls",
     "model_module_version": "1.5.0",
     "model_name": "DescriptionStyleModel",
     "state": {
      "_model_module": "@jupyter-widgets/controls",
      "_model_module_version": "1.5.0",
      "_model_name": "DescriptionStyleModel",
      "_view_count": null,
      "_view_module": "@jupyter-widgets/base",
      "_view_module_version": "1.2.0",
      "_view_name": "StyleView",
      "description_width": ""
     }
    },
    "08ca4c425eb743afbc553d529fff1a86": {
     "model_module": "@jupyter-widgets/controls",
     "model_module_version": "1.5.0",
     "model_name": "HTMLModel",
     "state": {
      "_dom_classes": [],
      "_model_module": "@jupyter-widgets/controls",
      "_model_module_version": "1.5.0",
      "_model_name": "HTMLModel",
      "_view_count": null,
      "_view_module": "@jupyter-widgets/controls",
      "_view_module_version": "1.5.0",
      "_view_name": "HTMLView",
      "description": "",
      "description_tooltip": null,
      "layout": "IPY_MODEL_a57123bce873481095706e5f32722101",
      "placeholder": "​",
      "style": "IPY_MODEL_e9df5ca43fd243bb82f36e6f07b5ac6b",
      "value": "Downloading https://huggingface.co/stanfordnlp/stanza-fa/resolve/v1.8.0/models/pos/perdt_charlm.pt: 100%"
     }
    },
    "091a91ab95b849cc9f1e43ef08700b45": {
     "model_module": "@jupyter-widgets/base",
     "model_module_version": "1.2.0",
     "model_name": "LayoutModel",
     "state": {
      "_model_module": "@jupyter-widgets/base",
      "_model_module_version": "1.2.0",
      "_model_name": "LayoutModel",
      "_view_count": null,
      "_view_module": "@jupyter-widgets/base",
      "_view_module_version": "1.2.0",
      "_view_name": "LayoutView",
      "align_content": null,
      "align_items": null,
      "align_self": null,
      "border": null,
      "bottom": null,
      "display": null,
      "flex": null,
      "flex_flow": null,
      "grid_area": null,
      "grid_auto_columns": null,
      "grid_auto_flow": null,
      "grid_auto_rows": null,
      "grid_column": null,
      "grid_gap": null,
      "grid_row": null,
      "grid_template_areas": null,
      "grid_template_columns": null,
      "grid_template_rows": null,
      "height": null,
      "justify_content": null,
      "justify_items": null,
      "left": null,
      "margin": null,
      "max_height": null,
      "max_width": null,
      "min_height": null,
      "min_width": null,
      "object_fit": null,
      "object_position": null,
      "order": null,
      "overflow": null,
      "overflow_x": null,
      "overflow_y": null,
      "padding": null,
      "right": null,
      "top": null,
      "visibility": null,
      "width": null
     }
    },
    "099e419e35fa490fbf988d0b1637a671": {
     "model_module": "@jupyter-widgets/controls",
     "model_module_version": "1.5.0",
     "model_name": "DescriptionStyleModel",
     "state": {
      "_model_module": "@jupyter-widgets/controls",
      "_model_module_version": "1.5.0",
      "_model_name": "DescriptionStyleModel",
      "_view_count": null,
      "_view_module": "@jupyter-widgets/base",
      "_view_module_version": "1.2.0",
      "_view_name": "StyleView",
      "description_width": ""
     }
    },
    "09b8ad3e798748fd864d7a922d783290": {
     "model_module": "@jupyter-widgets/controls",
     "model_module_version": "1.5.0",
     "model_name": "DescriptionStyleModel",
     "state": {
      "_model_module": "@jupyter-widgets/controls",
      "_model_module_version": "1.5.0",
      "_model_name": "DescriptionStyleModel",
      "_view_count": null,
      "_view_module": "@jupyter-widgets/base",
      "_view_module_version": "1.2.0",
      "_view_name": "StyleView",
      "description_width": ""
     }
    },
    "0a726291b52f40cfa3d4e194b586f882": {
     "model_module": "@jupyter-widgets/controls",
     "model_module_version": "1.5.0",
     "model_name": "DescriptionStyleModel",
     "state": {
      "_model_module": "@jupyter-widgets/controls",
      "_model_module_version": "1.5.0",
      "_model_name": "DescriptionStyleModel",
      "_view_count": null,
      "_view_module": "@jupyter-widgets/base",
      "_view_module_version": "1.2.0",
      "_view_name": "StyleView",
      "description_width": ""
     }
    },
    "0ab8fdee6b09462282a65a7cca4ffdf0": {
     "model_module": "@jupyter-widgets/controls",
     "model_module_version": "1.5.0",
     "model_name": "DescriptionStyleModel",
     "state": {
      "_model_module": "@jupyter-widgets/controls",
      "_model_module_version": "1.5.0",
      "_model_name": "DescriptionStyleModel",
      "_view_count": null,
      "_view_module": "@jupyter-widgets/base",
      "_view_module_version": "1.2.0",
      "_view_name": "StyleView",
      "description_width": ""
     }
    },
    "0b0bb85bb6a4470a90f2ed2158090189": {
     "model_module": "@jupyter-widgets/base",
     "model_module_version": "1.2.0",
     "model_name": "LayoutModel",
     "state": {
      "_model_module": "@jupyter-widgets/base",
      "_model_module_version": "1.2.0",
      "_model_name": "LayoutModel",
      "_view_count": null,
      "_view_module": "@jupyter-widgets/base",
      "_view_module_version": "1.2.0",
      "_view_name": "LayoutView",
      "align_content": null,
      "align_items": null,
      "align_self": null,
      "border": null,
      "bottom": null,
      "display": null,
      "flex": null,
      "flex_flow": null,
      "grid_area": null,
      "grid_auto_columns": null,
      "grid_auto_flow": null,
      "grid_auto_rows": null,
      "grid_column": null,
      "grid_gap": null,
      "grid_row": null,
      "grid_template_areas": null,
      "grid_template_columns": null,
      "grid_template_rows": null,
      "height": null,
      "justify_content": null,
      "justify_items": null,
      "left": null,
      "margin": null,
      "max_height": null,
      "max_width": null,
      "min_height": null,
      "min_width": null,
      "object_fit": null,
      "object_position": null,
      "order": null,
      "overflow": null,
      "overflow_x": null,
      "overflow_y": null,
      "padding": null,
      "right": null,
      "top": null,
      "visibility": null,
      "width": null
     }
    },
    "0bad68cbfc1841f5885702c04a2304fe": {
     "model_module": "@jupyter-widgets/controls",
     "model_module_version": "1.5.0",
     "model_name": "FloatProgressModel",
     "state": {
      "_dom_classes": [],
      "_model_module": "@jupyter-widgets/controls",
      "_model_module_version": "1.5.0",
      "_model_name": "FloatProgressModel",
      "_view_count": null,
      "_view_module": "@jupyter-widgets/controls",
      "_view_module_version": "1.5.0",
      "_view_name": "ProgressView",
      "bar_style": "success",
      "description": "",
      "description_tooltip": null,
      "layout": "IPY_MODEL_1a5a1093eb9c46aca9b181849fa2cd7a",
      "max": 718378,
      "min": 0,
      "orientation": "horizontal",
      "style": "IPY_MODEL_5f9b1b9a00f04425a8f6791ef6dc9b7e",
      "value": 718378
     }
    },
    "0df5607959d6411e8205e4875725dc8f": {
     "model_module": "@jupyter-widgets/controls",
     "model_module_version": "1.5.0",
     "model_name": "FloatProgressModel",
     "state": {
      "_dom_classes": [],
      "_model_module": "@jupyter-widgets/controls",
      "_model_module_version": "1.5.0",
      "_model_name": "FloatProgressModel",
      "_view_count": null,
      "_view_module": "@jupyter-widgets/controls",
      "_view_module_version": "1.5.0",
      "_view_name": "ProgressView",
      "bar_style": "success",
      "description": "",
      "description_tooltip": null,
      "layout": "IPY_MODEL_dc903d1b907e4a8f8de461c1438bed76",
      "max": 47208,
      "min": 0,
      "orientation": "horizontal",
      "style": "IPY_MODEL_1556748b226c4125be1b9b2c2d875107",
      "value": 47208
     }
    },
    "0dfd8c49491a41c9982948969619368a": {
     "model_module": "@jupyter-widgets/controls",
     "model_module_version": "1.5.0",
     "model_name": "HBoxModel",
     "state": {
      "_dom_classes": [],
      "_model_module": "@jupyter-widgets/controls",
      "_model_module_version": "1.5.0",
      "_model_name": "HBoxModel",
      "_view_count": null,
      "_view_module": "@jupyter-widgets/controls",
      "_view_module_version": "1.5.0",
      "_view_name": "HBoxView",
      "box_style": "",
      "children": [
       "IPY_MODEL_19603109bd86419faf0ec7ed0d9e96b3",
       "IPY_MODEL_f352193e85414d9b98a7adef3a09edef",
       "IPY_MODEL_769579f81e7b4a29bf4bb11c683d623f"
      ],
      "layout": "IPY_MODEL_7b6a4eeaa1354be7bfe7fbadba4c9d39"
     }
    },
    "0e112876f98748af9aef641e33fd8ffe": {
     "model_module": "@jupyter-widgets/controls",
     "model_module_version": "1.5.0",
     "model_name": "FloatProgressModel",
     "state": {
      "_dom_classes": [],
      "_model_module": "@jupyter-widgets/controls",
      "_model_module_version": "1.5.0",
      "_model_name": "FloatProgressModel",
      "_view_count": null,
      "_view_module": "@jupyter-widgets/controls",
      "_view_module_version": "1.5.0",
      "_view_name": "ProgressView",
      "bar_style": "success",
      "description": "",
      "description_tooltip": null,
      "layout": "IPY_MODEL_2fc901ddf2bb431cb49d659062a7b666",
      "max": 47208,
      "min": 0,
      "orientation": "horizontal",
      "style": "IPY_MODEL_5588acc4d8a7491daecaa80a22af3a29",
      "value": 47208
     }
    },
    "0e4026eebf5f4492b05abed3a0381b8b": {
     "model_module": "@jupyter-widgets/controls",
     "model_module_version": "1.5.0",
     "model_name": "ProgressStyleModel",
     "state": {
      "_model_module": "@jupyter-widgets/controls",
      "_model_module_version": "1.5.0",
      "_model_name": "ProgressStyleModel",
      "_view_count": null,
      "_view_module": "@jupyter-widgets/base",
      "_view_module_version": "1.2.0",
      "_view_name": "StyleView",
      "bar_color": null,
      "description_width": ""
     }
    },
    "0eb77c79c61048d89643d623d87bca0a": {
     "model_module": "@jupyter-widgets/controls",
     "model_module_version": "1.5.0",
     "model_name": "DescriptionStyleModel",
     "state": {
      "_model_module": "@jupyter-widgets/controls",
      "_model_module_version": "1.5.0",
      "_model_name": "DescriptionStyleModel",
      "_view_count": null,
      "_view_module": "@jupyter-widgets/base",
      "_view_module_version": "1.2.0",
      "_view_name": "StyleView",
      "description_width": ""
     }
    },
    "0f3c6689c7d04cdda80950f0e92b15e1": {
     "model_module": "@jupyter-widgets/base",
     "model_module_version": "1.2.0",
     "model_name": "LayoutModel",
     "state": {
      "_model_module": "@jupyter-widgets/base",
      "_model_module_version": "1.2.0",
      "_model_name": "LayoutModel",
      "_view_count": null,
      "_view_module": "@jupyter-widgets/base",
      "_view_module_version": "1.2.0",
      "_view_name": "LayoutView",
      "align_content": null,
      "align_items": null,
      "align_self": null,
      "border": null,
      "bottom": null,
      "display": null,
      "flex": null,
      "flex_flow": null,
      "grid_area": null,
      "grid_auto_columns": null,
      "grid_auto_flow": null,
      "grid_auto_rows": null,
      "grid_column": null,
      "grid_gap": null,
      "grid_row": null,
      "grid_template_areas": null,
      "grid_template_columns": null,
      "grid_template_rows": null,
      "height": null,
      "justify_content": null,
      "justify_items": null,
      "left": null,
      "margin": null,
      "max_height": null,
      "max_width": null,
      "min_height": null,
      "min_width": null,
      "object_fit": null,
      "object_position": null,
      "order": null,
      "overflow": null,
      "overflow_x": null,
      "overflow_y": null,
      "padding": null,
      "right": null,
      "top": null,
      "visibility": null,
      "width": null
     }
    },
    "0fe28f2d47a544eaa0991f9e669fe293": {
     "model_module": "@jupyter-widgets/controls",
     "model_module_version": "1.5.0",
     "model_name": "HTMLModel",
     "state": {
      "_dom_classes": [],
      "_model_module": "@jupyter-widgets/controls",
      "_model_module_version": "1.5.0",
      "_model_name": "HTMLModel",
      "_view_count": null,
      "_view_module": "@jupyter-widgets/controls",
      "_view_module_version": "1.5.0",
      "_view_name": "HTMLView",
      "description": "",
      "description_tooltip": null,
      "layout": "IPY_MODEL_a5f669017a994e4e9a0ec76fb6a2be90",
      "placeholder": "​",
      "style": "IPY_MODEL_83549406416d4e9da2dccaab089e6aa5",
      "value": " 718k/718k [00:01&lt;00:00, 701kB/s]"
     }
    },
    "108cb5c499524199af346eba62fcc1f6": {
     "model_module": "@jupyter-widgets/controls",
     "model_module_version": "1.5.0",
     "model_name": "HTMLModel",
     "state": {
      "_dom_classes": [],
      "_model_module": "@jupyter-widgets/controls",
      "_model_module_version": "1.5.0",
      "_model_name": "HTMLModel",
      "_view_count": null,
      "_view_module": "@jupyter-widgets/controls",
      "_view_module_version": "1.5.0",
      "_view_name": "HTMLView",
      "description": "",
      "description_tooltip": null,
      "layout": "IPY_MODEL_4386bce06789484b8ee0849af537b4f0",
      "placeholder": "​",
      "style": "IPY_MODEL_ddbd395f6cbf4c28af82e78b3a9c5ece",
      "value": " 4.64M/4.64M [00:03&lt;00:00, 1.55MB/s]"
     }
    },
    "14a1b65faa0f4956b3c0904672b48f60": {
     "model_module": "@jupyter-widgets/base",
     "model_module_version": "1.2.0",
     "model_name": "LayoutModel",
     "state": {
      "_model_module": "@jupyter-widgets/base",
      "_model_module_version": "1.2.0",
      "_model_name": "LayoutModel",
      "_view_count": null,
      "_view_module": "@jupyter-widgets/base",
      "_view_module_version": "1.2.0",
      "_view_name": "LayoutView",
      "align_content": null,
      "align_items": null,
      "align_self": null,
      "border": null,
      "bottom": null,
      "display": null,
      "flex": null,
      "flex_flow": null,
      "grid_area": null,
      "grid_auto_columns": null,
      "grid_auto_flow": null,
      "grid_auto_rows": null,
      "grid_column": null,
      "grid_gap": null,
      "grid_row": null,
      "grid_template_areas": null,
      "grid_template_columns": null,
      "grid_template_rows": null,
      "height": null,
      "justify_content": null,
      "justify_items": null,
      "left": null,
      "margin": null,
      "max_height": null,
      "max_width": null,
      "min_height": null,
      "min_width": null,
      "object_fit": null,
      "object_position": null,
      "order": null,
      "overflow": null,
      "overflow_x": null,
      "overflow_y": null,
      "padding": null,
      "right": null,
      "top": null,
      "visibility": null,
      "width": null
     }
    },
    "1556748b226c4125be1b9b2c2d875107": {
     "model_module": "@jupyter-widgets/controls",
     "model_module_version": "1.5.0",
     "model_name": "ProgressStyleModel",
     "state": {
      "_model_module": "@jupyter-widgets/controls",
      "_model_module_version": "1.5.0",
      "_model_name": "ProgressStyleModel",
      "_view_count": null,
      "_view_module": "@jupyter-widgets/base",
      "_view_module_version": "1.2.0",
      "_view_name": "StyleView",
      "bar_color": null,
      "description_width": ""
     }
    },
    "158bf895f9ab4931b2afe2918aa55f43": {
     "model_module": "@jupyter-widgets/controls",
     "model_module_version": "1.5.0",
     "model_name": "HBoxModel",
     "state": {
      "_dom_classes": [],
      "_model_module": "@jupyter-widgets/controls",
      "_model_module_version": "1.5.0",
      "_model_name": "HBoxModel",
      "_view_count": null,
      "_view_module": "@jupyter-widgets/controls",
      "_view_module_version": "1.5.0",
      "_view_name": "HBoxView",
      "box_style": "",
      "children": [
       "IPY_MODEL_e8d718d52d0a43b8a042f2d2d0d7534a",
       "IPY_MODEL_03e4a22711c94497a347339ce9d1b994",
       "IPY_MODEL_d159a2deb6694e5a8e40efd95108ce36"
      ],
      "layout": "IPY_MODEL_026e541541414f35b00b5be9aad8a675"
     }
    },
    "1633f524075d467997b2b42f3e1399c5": {
     "model_module": "@jupyter-widgets/controls",
     "model_module_version": "1.5.0",
     "model_name": "DescriptionStyleModel",
     "state": {
      "_model_module": "@jupyter-widgets/controls",
      "_model_module_version": "1.5.0",
      "_model_name": "DescriptionStyleModel",
      "_view_count": null,
      "_view_module": "@jupyter-widgets/base",
      "_view_module_version": "1.2.0",
      "_view_name": "StyleView",
      "description_width": ""
     }
    },
    "163842ca40404a96a69856471a2c2130": {
     "model_module": "@jupyter-widgets/base",
     "model_module_version": "1.2.0",
     "model_name": "LayoutModel",
     "state": {
      "_model_module": "@jupyter-widgets/base",
      "_model_module_version": "1.2.0",
      "_model_name": "LayoutModel",
      "_view_count": null,
      "_view_module": "@jupyter-widgets/base",
      "_view_module_version": "1.2.0",
      "_view_name": "LayoutView",
      "align_content": null,
      "align_items": null,
      "align_self": null,
      "border": null,
      "bottom": null,
      "display": null,
      "flex": null,
      "flex_flow": null,
      "grid_area": null,
      "grid_auto_columns": null,
      "grid_auto_flow": null,
      "grid_auto_rows": null,
      "grid_column": null,
      "grid_gap": null,
      "grid_row": null,
      "grid_template_areas": null,
      "grid_template_columns": null,
      "grid_template_rows": null,
      "height": null,
      "justify_content": null,
      "justify_items": null,
      "left": null,
      "margin": null,
      "max_height": null,
      "max_width": null,
      "min_height": null,
      "min_width": null,
      "object_fit": null,
      "object_position": null,
      "order": null,
      "overflow": null,
      "overflow_x": null,
      "overflow_y": null,
      "padding": null,
      "right": null,
      "top": null,
      "visibility": null,
      "width": null
     }
    },
    "186d48fae1884c8fa6ae7122be7d19c5": {
     "model_module": "@jupyter-widgets/controls",
     "model_module_version": "1.5.0",
     "model_name": "ProgressStyleModel",
     "state": {
      "_model_module": "@jupyter-widgets/controls",
      "_model_module_version": "1.5.0",
      "_model_name": "ProgressStyleModel",
      "_view_count": null,
      "_view_module": "@jupyter-widgets/base",
      "_view_module_version": "1.2.0",
      "_view_name": "StyleView",
      "bar_color": null,
      "description_width": ""
     }
    },
    "19603109bd86419faf0ec7ed0d9e96b3": {
     "model_module": "@jupyter-widgets/controls",
     "model_module_version": "1.5.0",
     "model_name": "HTMLModel",
     "state": {
      "_dom_classes": [],
      "_model_module": "@jupyter-widgets/controls",
      "_model_module_version": "1.5.0",
      "_model_name": "HTMLModel",
      "_view_count": null,
      "_view_module": "@jupyter-widgets/controls",
      "_view_module_version": "1.5.0",
      "_view_name": "HTMLView",
      "description": "",
      "description_tooltip": null,
      "layout": "IPY_MODEL_4c0efa207dcb45d7a148f84aa5539e6a",
      "placeholder": "​",
      "style": "IPY_MODEL_1ddc97a6b8fb4acd93b5b74e1ec9d541",
      "value": "Downloading https://huggingface.co/stanfordnlp/stanza-fa/resolve/v1.8.0/models/ner/arman.pt: 100%"
     }
    },
    "19a3ddf2e7a541c3845ceff135c90cb1": {
     "model_module": "@jupyter-widgets/controls",
     "model_module_version": "1.5.0",
     "model_name": "DescriptionStyleModel",
     "state": {
      "_model_module": "@jupyter-widgets/controls",
      "_model_module_version": "1.5.0",
      "_model_name": "DescriptionStyleModel",
      "_view_count": null,
      "_view_module": "@jupyter-widgets/base",
      "_view_module_version": "1.2.0",
      "_view_name": "StyleView",
      "description_width": ""
     }
    },
    "19c11b106f0e41a2b7fe645054006992": {
     "model_module": "@jupyter-widgets/controls",
     "model_module_version": "1.5.0",
     "model_name": "HBoxModel",
     "state": {
      "_dom_classes": [],
      "_model_module": "@jupyter-widgets/controls",
      "_model_module_version": "1.5.0",
      "_model_name": "HBoxModel",
      "_view_count": null,
      "_view_module": "@jupyter-widgets/controls",
      "_view_module_version": "1.5.0",
      "_view_name": "HBoxView",
      "box_style": "",
      "children": [
       "IPY_MODEL_9374c159397845f097d7f48a5c985dcc",
       "IPY_MODEL_ddab99b615cf44a9bbee11ec13025641",
       "IPY_MODEL_4f67baed18854a27a9a504435c6269cb"
      ],
      "layout": "IPY_MODEL_6e18c667fee740fc9596f63aa2943901"
     }
    },
    "1a5a1093eb9c46aca9b181849fa2cd7a": {
     "model_module": "@jupyter-widgets/base",
     "model_module_version": "1.2.0",
     "model_name": "LayoutModel",
     "state": {
      "_model_module": "@jupyter-widgets/base",
      "_model_module_version": "1.2.0",
      "_model_name": "LayoutModel",
      "_view_count": null,
      "_view_module": "@jupyter-widgets/base",
      "_view_module_version": "1.2.0",
      "_view_name": "LayoutView",
      "align_content": null,
      "align_items": null,
      "align_self": null,
      "border": null,
      "bottom": null,
      "display": null,
      "flex": null,
      "flex_flow": null,
      "grid_area": null,
      "grid_auto_columns": null,
      "grid_auto_flow": null,
      "grid_auto_rows": null,
      "grid_column": null,
      "grid_gap": null,
      "grid_row": null,
      "grid_template_areas": null,
      "grid_template_columns": null,
      "grid_template_rows": null,
      "height": null,
      "justify_content": null,
      "justify_items": null,
      "left": null,
      "margin": null,
      "max_height": null,
      "max_width": null,
      "min_height": null,
      "min_width": null,
      "object_fit": null,
      "object_position": null,
      "order": null,
      "overflow": null,
      "overflow_x": null,
      "overflow_y": null,
      "padding": null,
      "right": null,
      "top": null,
      "visibility": null,
      "width": null
     }
    },
    "1db30c3983c44f2e835ba0ea3c71a50c": {
     "model_module": "@jupyter-widgets/controls",
     "model_module_version": "1.5.0",
     "model_name": "FloatProgressModel",
     "state": {
      "_dom_classes": [],
      "_model_module": "@jupyter-widgets/controls",
      "_model_module_version": "1.5.0",
      "_model_name": "FloatProgressModel",
      "_view_count": null,
      "_view_module": "@jupyter-widgets/controls",
      "_view_module_version": "1.5.0",
      "_view_name": "ProgressView",
      "bar_style": "success",
      "description": "",
      "description_tooltip": null,
      "layout": "IPY_MODEL_aa2cf4a6e77b4a26973b47b9b6428b4c",
      "max": 20519090,
      "min": 0,
      "orientation": "horizontal",
      "style": "IPY_MODEL_0e4026eebf5f4492b05abed3a0381b8b",
      "value": 20519090
     }
    },
    "1ddc97a6b8fb4acd93b5b74e1ec9d541": {
     "model_module": "@jupyter-widgets/controls",
     "model_module_version": "1.5.0",
     "model_name": "DescriptionStyleModel",
     "state": {
      "_model_module": "@jupyter-widgets/controls",
      "_model_module_version": "1.5.0",
      "_model_name": "DescriptionStyleModel",
      "_view_count": null,
      "_view_module": "@jupyter-widgets/base",
      "_view_module_version": "1.2.0",
      "_view_name": "StyleView",
      "description_width": ""
     }
    },
    "1e24dd9a50c54da198a2c7dba2681762": {
     "model_module": "@jupyter-widgets/base",
     "model_module_version": "1.2.0",
     "model_name": "LayoutModel",
     "state": {
      "_model_module": "@jupyter-widgets/base",
      "_model_module_version": "1.2.0",
      "_model_name": "LayoutModel",
      "_view_count": null,
      "_view_module": "@jupyter-widgets/base",
      "_view_module_version": "1.2.0",
      "_view_name": "LayoutView",
      "align_content": null,
      "align_items": null,
      "align_self": null,
      "border": null,
      "bottom": null,
      "display": null,
      "flex": null,
      "flex_flow": null,
      "grid_area": null,
      "grid_auto_columns": null,
      "grid_auto_flow": null,
      "grid_auto_rows": null,
      "grid_column": null,
      "grid_gap": null,
      "grid_row": null,
      "grid_template_areas": null,
      "grid_template_columns": null,
      "grid_template_rows": null,
      "height": null,
      "justify_content": null,
      "justify_items": null,
      "left": null,
      "margin": null,
      "max_height": null,
      "max_width": null,
      "min_height": null,
      "min_width": null,
      "object_fit": null,
      "object_position": null,
      "order": null,
      "overflow": null,
      "overflow_x": null,
      "overflow_y": null,
      "padding": null,
      "right": null,
      "top": null,
      "visibility": null,
      "width": null
     }
    },
    "1f58bea59299430e860db577c5ef936f": {
     "model_module": "@jupyter-widgets/controls",
     "model_module_version": "1.5.0",
     "model_name": "FloatProgressModel",
     "state": {
      "_dom_classes": [],
      "_model_module": "@jupyter-widgets/controls",
      "_model_module_version": "1.5.0",
      "_model_name": "FloatProgressModel",
      "_view_count": null,
      "_view_module": "@jupyter-widgets/controls",
      "_view_module_version": "1.5.0",
      "_view_name": "ProgressView",
      "bar_style": "success",
      "description": "",
      "description_tooltip": null,
      "layout": "IPY_MODEL_faa02c0e0173494db28e01ff14fabe62",
      "max": 133879882,
      "min": 0,
      "orientation": "horizontal",
      "style": "IPY_MODEL_2d2c7d5137c64bc2a438dea20df7a7ef",
      "value": 133879882
     }
    },
    "2055509a02994400887e83c9bf4b040d": {
     "model_module": "@jupyter-widgets/base",
     "model_module_version": "1.2.0",
     "model_name": "LayoutModel",
     "state": {
      "_model_module": "@jupyter-widgets/base",
      "_model_module_version": "1.2.0",
      "_model_name": "LayoutModel",
      "_view_count": null,
      "_view_module": "@jupyter-widgets/base",
      "_view_module_version": "1.2.0",
      "_view_name": "LayoutView",
      "align_content": null,
      "align_items": null,
      "align_self": null,
      "border": null,
      "bottom": null,
      "display": null,
      "flex": null,
      "flex_flow": null,
      "grid_area": null,
      "grid_auto_columns": null,
      "grid_auto_flow": null,
      "grid_auto_rows": null,
      "grid_column": null,
      "grid_gap": null,
      "grid_row": null,
      "grid_template_areas": null,
      "grid_template_columns": null,
      "grid_template_rows": null,
      "height": null,
      "justify_content": null,
      "justify_items": null,
      "left": null,
      "margin": null,
      "max_height": null,
      "max_width": null,
      "min_height": null,
      "min_width": null,
      "object_fit": null,
      "object_position": null,
      "order": null,
      "overflow": null,
      "overflow_x": null,
      "overflow_y": null,
      "padding": null,
      "right": null,
      "top": null,
      "visibility": null,
      "width": null
     }
    },
    "2220f42bd9ce4bd1a7df673f92e89e5d": {
     "model_module": "@jupyter-widgets/controls",
     "model_module_version": "1.5.0",
     "model_name": "HTMLModel",
     "state": {
      "_dom_classes": [],
      "_model_module": "@jupyter-widgets/controls",
      "_model_module_version": "1.5.0",
      "_model_name": "HTMLModel",
      "_view_count": null,
      "_view_module": "@jupyter-widgets/controls",
      "_view_module_version": "1.5.0",
      "_view_name": "HTMLView",
      "description": "",
      "description_tooltip": null,
      "layout": "IPY_MODEL_2c3d0ee1f7264e408596d8a76ffd4485",
      "placeholder": "​",
      "style": "IPY_MODEL_e6b066a696d44966a14316fd29e95b01",
      "value": " 379k/? [00:00&lt;00:00, 14.6MB/s]"
     }
    },
    "22dcefb8c0f34d30aee9f83d12152fb1": {
     "model_module": "@jupyter-widgets/base",
     "model_module_version": "1.2.0",
     "model_name": "LayoutModel",
     "state": {
      "_model_module": "@jupyter-widgets/base",
      "_model_module_version": "1.2.0",
      "_model_name": "LayoutModel",
      "_view_count": null,
      "_view_module": "@jupyter-widgets/base",
      "_view_module_version": "1.2.0",
      "_view_name": "LayoutView",
      "align_content": null,
      "align_items": null,
      "align_self": null,
      "border": null,
      "bottom": null,
      "display": null,
      "flex": null,
      "flex_flow": null,
      "grid_area": null,
      "grid_auto_columns": null,
      "grid_auto_flow": null,
      "grid_auto_rows": null,
      "grid_column": null,
      "grid_gap": null,
      "grid_row": null,
      "grid_template_areas": null,
      "grid_template_columns": null,
      "grid_template_rows": null,
      "height": null,
      "justify_content": null,
      "justify_items": null,
      "left": null,
      "margin": null,
      "max_height": null,
      "max_width": null,
      "min_height": null,
      "min_width": null,
      "object_fit": null,
      "object_position": null,
      "order": null,
      "overflow": null,
      "overflow_x": null,
      "overflow_y": null,
      "padding": null,
      "right": null,
      "top": null,
      "visibility": null,
      "width": null
     }
    },
    "22e08a34a30a4704bcd6ee0654e090d9": {
     "model_module": "@jupyter-widgets/base",
     "model_module_version": "1.2.0",
     "model_name": "LayoutModel",
     "state": {
      "_model_module": "@jupyter-widgets/base",
      "_model_module_version": "1.2.0",
      "_model_name": "LayoutModel",
      "_view_count": null,
      "_view_module": "@jupyter-widgets/base",
      "_view_module_version": "1.2.0",
      "_view_name": "LayoutView",
      "align_content": null,
      "align_items": null,
      "align_self": null,
      "border": null,
      "bottom": null,
      "display": null,
      "flex": null,
      "flex_flow": null,
      "grid_area": null,
      "grid_auto_columns": null,
      "grid_auto_flow": null,
      "grid_auto_rows": null,
      "grid_column": null,
      "grid_gap": null,
      "grid_row": null,
      "grid_template_areas": null,
      "grid_template_columns": null,
      "grid_template_rows": null,
      "height": null,
      "justify_content": null,
      "justify_items": null,
      "left": null,
      "margin": null,
      "max_height": null,
      "max_width": null,
      "min_height": null,
      "min_width": null,
      "object_fit": null,
      "object_position": null,
      "order": null,
      "overflow": null,
      "overflow_x": null,
      "overflow_y": null,
      "padding": null,
      "right": null,
      "top": null,
      "visibility": null,
      "width": null
     }
    },
    "23329e2d1c0343b4bcc37235becfa795": {
     "model_module": "@jupyter-widgets/controls",
     "model_module_version": "1.5.0",
     "model_name": "HTMLModel",
     "state": {
      "_dom_classes": [],
      "_model_module": "@jupyter-widgets/controls",
      "_model_module_version": "1.5.0",
      "_model_name": "HTMLModel",
      "_view_count": null,
      "_view_module": "@jupyter-widgets/controls",
      "_view_module_version": "1.5.0",
      "_view_name": "HTMLView",
      "description": "",
      "description_tooltip": null,
      "layout": "IPY_MODEL_6ae282f339a34dae9dbd5979da2364f5",
      "placeholder": "​",
      "style": "IPY_MODEL_a6ed245ea7d24711a5b85b8721b30a12",
      "value": "Downloading https://huggingface.co/stanfordnlp/stanza-fa/resolve/v1.8.0/models/tokenize/perdt.pt: 100%"
     }
    },
    "23cd62641f9c462185aeb03af552d13f": {
     "model_module": "@jupyter-widgets/base",
     "model_module_version": "1.2.0",
     "model_name": "LayoutModel",
     "state": {
      "_model_module": "@jupyter-widgets/base",
      "_model_module_version": "1.2.0",
      "_model_name": "LayoutModel",
      "_view_count": null,
      "_view_module": "@jupyter-widgets/base",
      "_view_module_version": "1.2.0",
      "_view_name": "LayoutView",
      "align_content": null,
      "align_items": null,
      "align_self": null,
      "border": null,
      "bottom": null,
      "display": null,
      "flex": null,
      "flex_flow": null,
      "grid_area": null,
      "grid_auto_columns": null,
      "grid_auto_flow": null,
      "grid_auto_rows": null,
      "grid_column": null,
      "grid_gap": null,
      "grid_row": null,
      "grid_template_areas": null,
      "grid_template_columns": null,
      "grid_template_rows": null,
      "height": null,
      "justify_content": null,
      "justify_items": null,
      "left": null,
      "margin": null,
      "max_height": null,
      "max_width": null,
      "min_height": null,
      "min_width": null,
      "object_fit": null,
      "object_position": null,
      "order": null,
      "overflow": null,
      "overflow_x": null,
      "overflow_y": null,
      "padding": null,
      "right": null,
      "top": null,
      "visibility": null,
      "width": null
     }
    },
    "264eac79c7c04ac0be0d0fa098233809": {
     "model_module": "@jupyter-widgets/controls",
     "model_module_version": "1.5.0",
     "model_name": "FloatProgressModel",
     "state": {
      "_dom_classes": [],
      "_model_module": "@jupyter-widgets/controls",
      "_model_module_version": "1.5.0",
      "_model_name": "FloatProgressModel",
      "_view_count": null,
      "_view_module": "@jupyter-widgets/controls",
      "_view_module_version": "1.5.0",
      "_view_name": "ProgressView",
      "bar_style": "success",
      "description": "",
      "description_tooltip": null,
      "layout": "IPY_MODEL_a974fc7848504ac2b602b3b637a007df",
      "max": 36102640,
      "min": 0,
      "orientation": "horizontal",
      "style": "IPY_MODEL_186d48fae1884c8fa6ae7122be7d19c5",
      "value": 36102640
     }
    },
    "2a3a52f67bc74d37af032585f12eed85": {
     "model_module": "@jupyter-widgets/base",
     "model_module_version": "1.2.0",
     "model_name": "LayoutModel",
     "state": {
      "_model_module": "@jupyter-widgets/base",
      "_model_module_version": "1.2.0",
      "_model_name": "LayoutModel",
      "_view_count": null,
      "_view_module": "@jupyter-widgets/base",
      "_view_module_version": "1.2.0",
      "_view_name": "LayoutView",
      "align_content": null,
      "align_items": null,
      "align_self": null,
      "border": null,
      "bottom": null,
      "display": null,
      "flex": null,
      "flex_flow": null,
      "grid_area": null,
      "grid_auto_columns": null,
      "grid_auto_flow": null,
      "grid_auto_rows": null,
      "grid_column": null,
      "grid_gap": null,
      "grid_row": null,
      "grid_template_areas": null,
      "grid_template_columns": null,
      "grid_template_rows": null,
      "height": null,
      "justify_content": null,
      "justify_items": null,
      "left": null,
      "margin": null,
      "max_height": null,
      "max_width": null,
      "min_height": null,
      "min_width": null,
      "object_fit": null,
      "object_position": null,
      "order": null,
      "overflow": null,
      "overflow_x": null,
      "overflow_y": null,
      "padding": null,
      "right": null,
      "top": null,
      "visibility": null,
      "width": null
     }
    },
    "2b087efaf0f74d048774e2068b8a18ac": {
     "model_module": "@jupyter-widgets/base",
     "model_module_version": "1.2.0",
     "model_name": "LayoutModel",
     "state": {
      "_model_module": "@jupyter-widgets/base",
      "_model_module_version": "1.2.0",
      "_model_name": "LayoutModel",
      "_view_count": null,
      "_view_module": "@jupyter-widgets/base",
      "_view_module_version": "1.2.0",
      "_view_name": "LayoutView",
      "align_content": null,
      "align_items": null,
      "align_self": null,
      "border": null,
      "bottom": null,
      "display": null,
      "flex": null,
      "flex_flow": null,
      "grid_area": null,
      "grid_auto_columns": null,
      "grid_auto_flow": null,
      "grid_auto_rows": null,
      "grid_column": null,
      "grid_gap": null,
      "grid_row": null,
      "grid_template_areas": null,
      "grid_template_columns": null,
      "grid_template_rows": null,
      "height": null,
      "justify_content": null,
      "justify_items": null,
      "left": null,
      "margin": null,
      "max_height": null,
      "max_width": null,
      "min_height": null,
      "min_width": null,
      "object_fit": null,
      "object_position": null,
      "order": null,
      "overflow": null,
      "overflow_x": null,
      "overflow_y": null,
      "padding": null,
      "right": null,
      "top": null,
      "visibility": null,
      "width": null
     }
    },
    "2b7251835fd641eea0b47ed01083d20e": {
     "model_module": "@jupyter-widgets/controls",
     "model_module_version": "1.5.0",
     "model_name": "HTMLModel",
     "state": {
      "_dom_classes": [],
      "_model_module": "@jupyter-widgets/controls",
      "_model_module_version": "1.5.0",
      "_model_name": "HTMLModel",
      "_view_count": null,
      "_view_module": "@jupyter-widgets/controls",
      "_view_module_version": "1.5.0",
      "_view_name": "HTMLView",
      "description": "",
      "description_tooltip": null,
      "layout": "IPY_MODEL_7e10bca13c284cc1bfe1937d60757129",
      "placeholder": "​",
      "style": "IPY_MODEL_8014fc325cdc4b9cb2b9ee405ba30a1a",
      "value": "Downloading https://raw.githubusercontent.com/stanfordnlp/stanza-resources/main/resources_1.8.0.json: "
     }
    },
    "2c3d0ee1f7264e408596d8a76ffd4485": {
     "model_module": "@jupyter-widgets/base",
     "model_module_version": "1.2.0",
     "model_name": "LayoutModel",
     "state": {
      "_model_module": "@jupyter-widgets/base",
      "_model_module_version": "1.2.0",
      "_model_name": "LayoutModel",
      "_view_count": null,
      "_view_module": "@jupyter-widgets/base",
      "_view_module_version": "1.2.0",
      "_view_name": "LayoutView",
      "align_content": null,
      "align_items": null,
      "align_self": null,
      "border": null,
      "bottom": null,
      "display": null,
      "flex": null,
      "flex_flow": null,
      "grid_area": null,
      "grid_auto_columns": null,
      "grid_auto_flow": null,
      "grid_auto_rows": null,
      "grid_column": null,
      "grid_gap": null,
      "grid_row": null,
      "grid_template_areas": null,
      "grid_template_columns": null,
      "grid_template_rows": null,
      "height": null,
      "justify_content": null,
      "justify_items": null,
      "left": null,
      "margin": null,
      "max_height": null,
      "max_width": null,
      "min_height": null,
      "min_width": null,
      "object_fit": null,
      "object_position": null,
      "order": null,
      "overflow": null,
      "overflow_x": null,
      "overflow_y": null,
      "padding": null,
      "right": null,
      "top": null,
      "visibility": null,
      "width": null
     }
    },
    "2c61f9279def49b18f1d4fbcc878afe1": {
     "model_module": "@jupyter-widgets/base",
     "model_module_version": "1.2.0",
     "model_name": "LayoutModel",
     "state": {
      "_model_module": "@jupyter-widgets/base",
      "_model_module_version": "1.2.0",
      "_model_name": "LayoutModel",
      "_view_count": null,
      "_view_module": "@jupyter-widgets/base",
      "_view_module_version": "1.2.0",
      "_view_name": "LayoutView",
      "align_content": null,
      "align_items": null,
      "align_self": null,
      "border": null,
      "bottom": null,
      "display": null,
      "flex": null,
      "flex_flow": null,
      "grid_area": null,
      "grid_auto_columns": null,
      "grid_auto_flow": null,
      "grid_auto_rows": null,
      "grid_column": null,
      "grid_gap": null,
      "grid_row": null,
      "grid_template_areas": null,
      "grid_template_columns": null,
      "grid_template_rows": null,
      "height": null,
      "justify_content": null,
      "justify_items": null,
      "left": null,
      "margin": null,
      "max_height": null,
      "max_width": null,
      "min_height": null,
      "min_width": null,
      "object_fit": null,
      "object_position": null,
      "order": null,
      "overflow": null,
      "overflow_x": null,
      "overflow_y": null,
      "padding": null,
      "right": null,
      "top": null,
      "visibility": null,
      "width": null
     }
    },
    "2c958e03813a42ebaeddfb62f8fd2bf0": {
     "model_module": "@jupyter-widgets/controls",
     "model_module_version": "1.5.0",
     "model_name": "FloatProgressModel",
     "state": {
      "_dom_classes": [],
      "_model_module": "@jupyter-widgets/controls",
      "_model_module_version": "1.5.0",
      "_model_name": "FloatProgressModel",
      "_view_count": null,
      "_view_module": "@jupyter-widgets/controls",
      "_view_module_version": "1.5.0",
      "_view_name": "ProgressView",
      "bar_style": "success",
      "description": "",
      "description_tooltip": null,
      "layout": "IPY_MODEL_42e748623f21441aa4354083ebdf4291",
      "max": 20519089,
      "min": 0,
      "orientation": "horizontal",
      "style": "IPY_MODEL_f8ed9b059db34b009fd45917749c99c4",
      "value": 20519089
     }
    },
    "2cf4c946ea654b9d92d7175179e45df5": {
     "model_module": "@jupyter-widgets/base",
     "model_module_version": "1.2.0",
     "model_name": "LayoutModel",
     "state": {
      "_model_module": "@jupyter-widgets/base",
      "_model_module_version": "1.2.0",
      "_model_name": "LayoutModel",
      "_view_count": null,
      "_view_module": "@jupyter-widgets/base",
      "_view_module_version": "1.2.0",
      "_view_name": "LayoutView",
      "align_content": null,
      "align_items": null,
      "align_self": null,
      "border": null,
      "bottom": null,
      "display": null,
      "flex": null,
      "flex_flow": null,
      "grid_area": null,
      "grid_auto_columns": null,
      "grid_auto_flow": null,
      "grid_auto_rows": null,
      "grid_column": null,
      "grid_gap": null,
      "grid_row": null,
      "grid_template_areas": null,
      "grid_template_columns": null,
      "grid_template_rows": null,
      "height": null,
      "justify_content": null,
      "justify_items": null,
      "left": null,
      "margin": null,
      "max_height": null,
      "max_width": null,
      "min_height": null,
      "min_width": null,
      "object_fit": null,
      "object_position": null,
      "order": null,
      "overflow": null,
      "overflow_x": null,
      "overflow_y": null,
      "padding": null,
      "right": null,
      "top": null,
      "visibility": null,
      "width": null
     }
    },
    "2d2c7d5137c64bc2a438dea20df7a7ef": {
     "model_module": "@jupyter-widgets/controls",
     "model_module_version": "1.5.0",
     "model_name": "ProgressStyleModel",
     "state": {
      "_model_module": "@jupyter-widgets/controls",
      "_model_module_version": "1.5.0",
      "_model_name": "ProgressStyleModel",
      "_view_count": null,
      "_view_module": "@jupyter-widgets/base",
      "_view_module_version": "1.2.0",
      "_view_name": "StyleView",
      "bar_color": null,
      "description_width": ""
     }
    },
    "2db11163d19a474c9ce10364eda997e0": {
     "model_module": "@jupyter-widgets/base",
     "model_module_version": "1.2.0",
     "model_name": "LayoutModel",
     "state": {
      "_model_module": "@jupyter-widgets/base",
      "_model_module_version": "1.2.0",
      "_model_name": "LayoutModel",
      "_view_count": null,
      "_view_module": "@jupyter-widgets/base",
      "_view_module_version": "1.2.0",
      "_view_name": "LayoutView",
      "align_content": null,
      "align_items": null,
      "align_self": null,
      "border": null,
      "bottom": null,
      "display": null,
      "flex": null,
      "flex_flow": null,
      "grid_area": null,
      "grid_auto_columns": null,
      "grid_auto_flow": null,
      "grid_auto_rows": null,
      "grid_column": null,
      "grid_gap": null,
      "grid_row": null,
      "grid_template_areas": null,
      "grid_template_columns": null,
      "grid_template_rows": null,
      "height": null,
      "justify_content": null,
      "justify_items": null,
      "left": null,
      "margin": null,
      "max_height": null,
      "max_width": null,
      "min_height": null,
      "min_width": null,
      "object_fit": null,
      "object_position": null,
      "order": null,
      "overflow": null,
      "overflow_x": null,
      "overflow_y": null,
      "padding": null,
      "right": null,
      "top": null,
      "visibility": null,
      "width": null
     }
    },
    "2dfb8e1c0ee9425a850cac6a13d5c2ea": {
     "model_module": "@jupyter-widgets/controls",
     "model_module_version": "1.5.0",
     "model_name": "ProgressStyleModel",
     "state": {
      "_model_module": "@jupyter-widgets/controls",
      "_model_module_version": "1.5.0",
      "_model_name": "ProgressStyleModel",
      "_view_count": null,
      "_view_module": "@jupyter-widgets/base",
      "_view_module_version": "1.2.0",
      "_view_name": "StyleView",
      "bar_color": null,
      "description_width": ""
     }
    },
    "2e875679acfe4545a332c33179cede23": {
     "model_module": "@jupyter-widgets/controls",
     "model_module_version": "1.5.0",
     "model_name": "HBoxModel",
     "state": {
      "_dom_classes": [],
      "_model_module": "@jupyter-widgets/controls",
      "_model_module_version": "1.5.0",
      "_model_name": "HBoxModel",
      "_view_count": null,
      "_view_module": "@jupyter-widgets/controls",
      "_view_module_version": "1.5.0",
      "_view_name": "HBoxView",
      "box_style": "",
      "children": [
       "IPY_MODEL_60f8ed6203fb4c48b7929d80867178aa",
       "IPY_MODEL_b09c621fda58449980e5505852705fcf",
       "IPY_MODEL_3f532d07f3ab4d6a8f216134e9c691ff"
      ],
      "layout": "IPY_MODEL_3ef570403e7d4b88bcb9bafb7a0096c4"
     }
    },
    "2fc901ddf2bb431cb49d659062a7b666": {
     "model_module": "@jupyter-widgets/base",
     "model_module_version": "1.2.0",
     "model_name": "LayoutModel",
     "state": {
      "_model_module": "@jupyter-widgets/base",
      "_model_module_version": "1.2.0",
      "_model_name": "LayoutModel",
      "_view_count": null,
      "_view_module": "@jupyter-widgets/base",
      "_view_module_version": "1.2.0",
      "_view_name": "LayoutView",
      "align_content": null,
      "align_items": null,
      "align_self": null,
      "border": null,
      "bottom": null,
      "display": null,
      "flex": null,
      "flex_flow": null,
      "grid_area": null,
      "grid_auto_columns": null,
      "grid_auto_flow": null,
      "grid_auto_rows": null,
      "grid_column": null,
      "grid_gap": null,
      "grid_row": null,
      "grid_template_areas": null,
      "grid_template_columns": null,
      "grid_template_rows": null,
      "height": null,
      "justify_content": null,
      "justify_items": null,
      "left": null,
      "margin": null,
      "max_height": null,
      "max_width": null,
      "min_height": null,
      "min_width": null,
      "object_fit": null,
      "object_position": null,
      "order": null,
      "overflow": null,
      "overflow_x": null,
      "overflow_y": null,
      "padding": null,
      "right": null,
      "top": null,
      "visibility": null,
      "width": null
     }
    },
    "30a0d8571f66484c959fa3786ab69592": {
     "model_module": "@jupyter-widgets/controls",
     "model_module_version": "1.5.0",
     "model_name": "ProgressStyleModel",
     "state": {
      "_model_module": "@jupyter-widgets/controls",
      "_model_module_version": "1.5.0",
      "_model_name": "ProgressStyleModel",
      "_view_count": null,
      "_view_module": "@jupyter-widgets/base",
      "_view_module_version": "1.2.0",
      "_view_name": "StyleView",
      "bar_color": null,
      "description_width": ""
     }
    },
    "30eca086cd0748c6ba6eda9544badcad": {
     "model_module": "@jupyter-widgets/controls",
     "model_module_version": "1.5.0",
     "model_name": "DescriptionStyleModel",
     "state": {
      "_model_module": "@jupyter-widgets/controls",
      "_model_module_version": "1.5.0",
      "_model_name": "DescriptionStyleModel",
      "_view_count": null,
      "_view_module": "@jupyter-widgets/base",
      "_view_module_version": "1.2.0",
      "_view_name": "StyleView",
      "description_width": ""
     }
    },
    "31058fb3566f4451bf0430ddf35e0e9a": {
     "model_module": "@jupyter-widgets/controls",
     "model_module_version": "1.5.0",
     "model_name": "HBoxModel",
     "state": {
      "_dom_classes": [],
      "_model_module": "@jupyter-widgets/controls",
      "_model_module_version": "1.5.0",
      "_model_name": "HBoxModel",
      "_view_count": null,
      "_view_module": "@jupyter-widgets/controls",
      "_view_module_version": "1.5.0",
      "_view_name": "HBoxView",
      "box_style": "",
      "children": [
       "IPY_MODEL_f680ed67b2204a48b4c554b285c3d072",
       "IPY_MODEL_0bad68cbfc1841f5885702c04a2304fe",
       "IPY_MODEL_63da03d66cf04886ad8d23ca99b2f152"
      ],
      "layout": "IPY_MODEL_c9eb5aecdd2f4fd5b79774585d79186c"
     }
    },
    "314853deab32421998cd888b08d770a9": {
     "model_module": "@jupyter-widgets/controls",
     "model_module_version": "1.5.0",
     "model_name": "ProgressStyleModel",
     "state": {
      "_model_module": "@jupyter-widgets/controls",
      "_model_module_version": "1.5.0",
      "_model_name": "ProgressStyleModel",
      "_view_count": null,
      "_view_module": "@jupyter-widgets/base",
      "_view_module_version": "1.2.0",
      "_view_name": "StyleView",
      "bar_color": null,
      "description_width": ""
     }
    },
    "35487315f9dc478a9cb1db90e9ada049": {
     "model_module": "@jupyter-widgets/controls",
     "model_module_version": "1.5.0",
     "model_name": "HTMLModel",
     "state": {
      "_dom_classes": [],
      "_model_module": "@jupyter-widgets/controls",
      "_model_module_version": "1.5.0",
      "_model_name": "HTMLModel",
      "_view_count": null,
      "_view_module": "@jupyter-widgets/controls",
      "_view_module_version": "1.5.0",
      "_view_name": "HTMLView",
      "description": "",
      "description_tooltip": null,
      "layout": "IPY_MODEL_d6d566868114467f9fb04527ae3ccb93",
      "placeholder": "​",
      "style": "IPY_MODEL_4c224c9e9e7d40269598aa55cec62a95",
      "value": "Downloading https://raw.githubusercontent.com/stanfordnlp/stanza-resources/main/resources_1.8.0.json: "
     }
    },
    "364c6407124a44b589fae0029c370035": {
     "model_module": "@jupyter-widgets/controls",
     "model_module_version": "1.5.0",
     "model_name": "FloatProgressModel",
     "state": {
      "_dom_classes": [],
      "_model_module": "@jupyter-widgets/controls",
      "_model_module_version": "1.5.0",
      "_model_name": "FloatProgressModel",
      "_view_count": null,
      "_view_module": "@jupyter-widgets/controls",
      "_view_module_version": "1.5.0",
      "_view_name": "ProgressView",
      "bar_style": "success",
      "description": "",
      "description_tooltip": null,
      "layout": "IPY_MODEL_52b03ab1b90847afaa66d2b335508ed0",
      "max": 4643326,
      "min": 0,
      "orientation": "horizontal",
      "style": "IPY_MODEL_cc77d3c0520c4a62b00a4d1eb0a5802b",
      "value": 4643326
     }
    },
    "36cd4c90283b41deaccdd690514be752": {
     "model_module": "@jupyter-widgets/base",
     "model_module_version": "1.2.0",
     "model_name": "LayoutModel",
     "state": {
      "_model_module": "@jupyter-widgets/base",
      "_model_module_version": "1.2.0",
      "_model_name": "LayoutModel",
      "_view_count": null,
      "_view_module": "@jupyter-widgets/base",
      "_view_module_version": "1.2.0",
      "_view_name": "LayoutView",
      "align_content": null,
      "align_items": null,
      "align_self": null,
      "border": null,
      "bottom": null,
      "display": null,
      "flex": null,
      "flex_flow": null,
      "grid_area": null,
      "grid_auto_columns": null,
      "grid_auto_flow": null,
      "grid_auto_rows": null,
      "grid_column": null,
      "grid_gap": null,
      "grid_row": null,
      "grid_template_areas": null,
      "grid_template_columns": null,
      "grid_template_rows": null,
      "height": null,
      "justify_content": null,
      "justify_items": null,
      "left": null,
      "margin": null,
      "max_height": null,
      "max_width": null,
      "min_height": null,
      "min_width": null,
      "object_fit": null,
      "object_position": null,
      "order": null,
      "overflow": null,
      "overflow_x": null,
      "overflow_y": null,
      "padding": null,
      "right": null,
      "top": null,
      "visibility": null,
      "width": null
     }
    },
    "39661265732242a8be92c5b8306f7377": {
     "model_module": "@jupyter-widgets/base",
     "model_module_version": "1.2.0",
     "model_name": "LayoutModel",
     "state": {
      "_model_module": "@jupyter-widgets/base",
      "_model_module_version": "1.2.0",
      "_model_name": "LayoutModel",
      "_view_count": null,
      "_view_module": "@jupyter-widgets/base",
      "_view_module_version": "1.2.0",
      "_view_name": "LayoutView",
      "align_content": null,
      "align_items": null,
      "align_self": null,
      "border": null,
      "bottom": null,
      "display": null,
      "flex": null,
      "flex_flow": null,
      "grid_area": null,
      "grid_auto_columns": null,
      "grid_auto_flow": null,
      "grid_auto_rows": null,
      "grid_column": null,
      "grid_gap": null,
      "grid_row": null,
      "grid_template_areas": null,
      "grid_template_columns": null,
      "grid_template_rows": null,
      "height": null,
      "justify_content": null,
      "justify_items": null,
      "left": null,
      "margin": null,
      "max_height": null,
      "max_width": null,
      "min_height": null,
      "min_width": null,
      "object_fit": null,
      "object_position": null,
      "order": null,
      "overflow": null,
      "overflow_x": null,
      "overflow_y": null,
      "padding": null,
      "right": null,
      "top": null,
      "visibility": null,
      "width": null
     }
    },
    "3a4c9c4ec34b44d894650347918490f4": {
     "model_module": "@jupyter-widgets/controls",
     "model_module_version": "1.5.0",
     "model_name": "ProgressStyleModel",
     "state": {
      "_model_module": "@jupyter-widgets/controls",
      "_model_module_version": "1.5.0",
      "_model_name": "ProgressStyleModel",
      "_view_count": null,
      "_view_module": "@jupyter-widgets/base",
      "_view_module_version": "1.2.0",
      "_view_name": "StyleView",
      "bar_color": null,
      "description_width": ""
     }
    },
    "3b4c65bb794044be9f396756b4b39b9e": {
     "model_module": "@jupyter-widgets/controls",
     "model_module_version": "1.5.0",
     "model_name": "ProgressStyleModel",
     "state": {
      "_model_module": "@jupyter-widgets/controls",
      "_model_module_version": "1.5.0",
      "_model_name": "ProgressStyleModel",
      "_view_count": null,
      "_view_module": "@jupyter-widgets/base",
      "_view_module_version": "1.2.0",
      "_view_name": "StyleView",
      "bar_color": null,
      "description_width": ""
     }
    },
    "3ca27fb6754b44ae83b9669d4d1530f8": {
     "model_module": "@jupyter-widgets/controls",
     "model_module_version": "1.5.0",
     "model_name": "DescriptionStyleModel",
     "state": {
      "_model_module": "@jupyter-widgets/controls",
      "_model_module_version": "1.5.0",
      "_model_name": "DescriptionStyleModel",
      "_view_count": null,
      "_view_module": "@jupyter-widgets/base",
      "_view_module_version": "1.2.0",
      "_view_name": "StyleView",
      "description_width": ""
     }
    },
    "3cc7d2d7f2eb4bfbb4bc2c757f920b18": {
     "model_module": "@jupyter-widgets/controls",
     "model_module_version": "1.5.0",
     "model_name": "HTMLModel",
     "state": {
      "_dom_classes": [],
      "_model_module": "@jupyter-widgets/controls",
      "_model_module_version": "1.5.0",
      "_model_name": "HTMLModel",
      "_view_count": null,
      "_view_module": "@jupyter-widgets/controls",
      "_view_module_version": "1.5.0",
      "_view_name": "HTMLView",
      "description": "",
      "description_tooltip": null,
      "layout": "IPY_MODEL_50d9487428ec421abf5917ad0fe3d410",
      "placeholder": "​",
      "style": "IPY_MODEL_a4c50abd1be94428bad9ed40f360061a",
      "value": "Downloading https://huggingface.co/stanfordnlp/stanza-fa/resolve/v1.8.0/models/lemma/perdt_nocharlm.pt: 100%"
     }
    },
    "3dd29f1389394fcab1d73a051cbfe635": {
     "model_module": "@jupyter-widgets/base",
     "model_module_version": "1.2.0",
     "model_name": "LayoutModel",
     "state": {
      "_model_module": "@jupyter-widgets/base",
      "_model_module_version": "1.2.0",
      "_model_name": "LayoutModel",
      "_view_count": null,
      "_view_module": "@jupyter-widgets/base",
      "_view_module_version": "1.2.0",
      "_view_name": "LayoutView",
      "align_content": null,
      "align_items": null,
      "align_self": null,
      "border": null,
      "bottom": null,
      "display": null,
      "flex": null,
      "flex_flow": null,
      "grid_area": null,
      "grid_auto_columns": null,
      "grid_auto_flow": null,
      "grid_auto_rows": null,
      "grid_column": null,
      "grid_gap": null,
      "grid_row": null,
      "grid_template_areas": null,
      "grid_template_columns": null,
      "grid_template_rows": null,
      "height": null,
      "justify_content": null,
      "justify_items": null,
      "left": null,
      "margin": null,
      "max_height": null,
      "max_width": null,
      "min_height": null,
      "min_width": null,
      "object_fit": null,
      "object_position": null,
      "order": null,
      "overflow": null,
      "overflow_x": null,
      "overflow_y": null,
      "padding": null,
      "right": null,
      "top": null,
      "visibility": null,
      "width": null
     }
    },
    "3ef570403e7d4b88bcb9bafb7a0096c4": {
     "model_module": "@jupyter-widgets/base",
     "model_module_version": "1.2.0",
     "model_name": "LayoutModel",
     "state": {
      "_model_module": "@jupyter-widgets/base",
      "_model_module_version": "1.2.0",
      "_model_name": "LayoutModel",
      "_view_count": null,
      "_view_module": "@jupyter-widgets/base",
      "_view_module_version": "1.2.0",
      "_view_name": "LayoutView",
      "align_content": null,
      "align_items": null,
      "align_self": null,
      "border": null,
      "bottom": null,
      "display": null,
      "flex": null,
      "flex_flow": null,
      "grid_area": null,
      "grid_auto_columns": null,
      "grid_auto_flow": null,
      "grid_auto_rows": null,
      "grid_column": null,
      "grid_gap": null,
      "grid_row": null,
      "grid_template_areas": null,
      "grid_template_columns": null,
      "grid_template_rows": null,
      "height": null,
      "justify_content": null,
      "justify_items": null,
      "left": null,
      "margin": null,
      "max_height": null,
      "max_width": null,
      "min_height": null,
      "min_width": null,
      "object_fit": null,
      "object_position": null,
      "order": null,
      "overflow": null,
      "overflow_x": null,
      "overflow_y": null,
      "padding": null,
      "right": null,
      "top": null,
      "visibility": null,
      "width": null
     }
    },
    "3f532d07f3ab4d6a8f216134e9c691ff": {
     "model_module": "@jupyter-widgets/controls",
     "model_module_version": "1.5.0",
     "model_name": "HTMLModel",
     "state": {
      "_dom_classes": [],
      "_model_module": "@jupyter-widgets/controls",
      "_model_module_version": "1.5.0",
      "_model_name": "HTMLModel",
      "_view_count": null,
      "_view_module": "@jupyter-widgets/controls",
      "_view_module_version": "1.5.0",
      "_view_name": "HTMLView",
      "description": "",
      "description_tooltip": null,
      "layout": "IPY_MODEL_42f68f7d32c34b04a45d72d3f547fcee",
      "placeholder": "​",
      "style": "IPY_MODEL_08adc9f019df46db8b48d657e39dab86",
      "value": " 379k/? [00:00&lt;00:00, 14.8MB/s]"
     }
    },
    "4026f57db9584a5e9e1b67cf68d16e83": {
     "model_module": "@jupyter-widgets/controls",
     "model_module_version": "1.5.0",
     "model_name": "HTMLModel",
     "state": {
      "_dom_classes": [],
      "_model_module": "@jupyter-widgets/controls",
      "_model_module_version": "1.5.0",
      "_model_name": "HTMLModel",
      "_view_count": null,
      "_view_module": "@jupyter-widgets/controls",
      "_view_module_version": "1.5.0",
      "_view_name": "HTMLView",
      "description": "",
      "description_tooltip": null,
      "layout": "IPY_MODEL_c876fe4b5311478b982721db73dd2a29",
      "placeholder": "​",
      "style": "IPY_MODEL_bb429f9f44694b18a5efe783927e81f5",
      "value": "Downloading https://huggingface.co/stanfordnlp/stanza-fa/resolve/v1.8.0/models/depparse/perdt_charlm.pt: 100%"
     }
    },
    "40b9f2ad8c1a4b5993d702b4f05ea73f": {
     "model_module": "@jupyter-widgets/controls",
     "model_module_version": "1.5.0",
     "model_name": "ProgressStyleModel",
     "state": {
      "_model_module": "@jupyter-widgets/controls",
      "_model_module_version": "1.5.0",
      "_model_name": "ProgressStyleModel",
      "_view_count": null,
      "_view_module": "@jupyter-widgets/base",
      "_view_module_version": "1.2.0",
      "_view_name": "StyleView",
      "bar_color": null,
      "description_width": ""
     }
    },
    "40ecc9ea79814681890c13222fbfef1a": {
     "model_module": "@jupyter-widgets/controls",
     "model_module_version": "1.5.0",
     "model_name": "ProgressStyleModel",
     "state": {
      "_model_module": "@jupyter-widgets/controls",
      "_model_module_version": "1.5.0",
      "_model_name": "ProgressStyleModel",
      "_view_count": null,
      "_view_module": "@jupyter-widgets/base",
      "_view_module_version": "1.2.0",
      "_view_name": "StyleView",
      "bar_color": null,
      "description_width": ""
     }
    },
    "41733c612fb14ad0b916d9f7e32c7f45": {
     "model_module": "@jupyter-widgets/base",
     "model_module_version": "1.2.0",
     "model_name": "LayoutModel",
     "state": {
      "_model_module": "@jupyter-widgets/base",
      "_model_module_version": "1.2.0",
      "_model_name": "LayoutModel",
      "_view_count": null,
      "_view_module": "@jupyter-widgets/base",
      "_view_module_version": "1.2.0",
      "_view_name": "LayoutView",
      "align_content": null,
      "align_items": null,
      "align_self": null,
      "border": null,
      "bottom": null,
      "display": null,
      "flex": null,
      "flex_flow": null,
      "grid_area": null,
      "grid_auto_columns": null,
      "grid_auto_flow": null,
      "grid_auto_rows": null,
      "grid_column": null,
      "grid_gap": null,
      "grid_row": null,
      "grid_template_areas": null,
      "grid_template_columns": null,
      "grid_template_rows": null,
      "height": null,
      "justify_content": null,
      "justify_items": null,
      "left": null,
      "margin": null,
      "max_height": null,
      "max_width": null,
      "min_height": null,
      "min_width": null,
      "object_fit": null,
      "object_position": null,
      "order": null,
      "overflow": null,
      "overflow_x": null,
      "overflow_y": null,
      "padding": null,
      "right": null,
      "top": null,
      "visibility": null,
      "width": null
     }
    },
    "42e748623f21441aa4354083ebdf4291": {
     "model_module": "@jupyter-widgets/base",
     "model_module_version": "1.2.0",
     "model_name": "LayoutModel",
     "state": {
      "_model_module": "@jupyter-widgets/base",
      "_model_module_version": "1.2.0",
      "_model_name": "LayoutModel",
      "_view_count": null,
      "_view_module": "@jupyter-widgets/base",
      "_view_module_version": "1.2.0",
      "_view_name": "LayoutView",
      "align_content": null,
      "align_items": null,
      "align_self": null,
      "border": null,
      "bottom": null,
      "display": null,
      "flex": null,
      "flex_flow": null,
      "grid_area": null,
      "grid_auto_columns": null,
      "grid_auto_flow": null,
      "grid_auto_rows": null,
      "grid_column": null,
      "grid_gap": null,
      "grid_row": null,
      "grid_template_areas": null,
      "grid_template_columns": null,
      "grid_template_rows": null,
      "height": null,
      "justify_content": null,
      "justify_items": null,
      "left": null,
      "margin": null,
      "max_height": null,
      "max_width": null,
      "min_height": null,
      "min_width": null,
      "object_fit": null,
      "object_position": null,
      "order": null,
      "overflow": null,
      "overflow_x": null,
      "overflow_y": null,
      "padding": null,
      "right": null,
      "top": null,
      "visibility": null,
      "width": null
     }
    },
    "42f68f7d32c34b04a45d72d3f547fcee": {
     "model_module": "@jupyter-widgets/base",
     "model_module_version": "1.2.0",
     "model_name": "LayoutModel",
     "state": {
      "_model_module": "@jupyter-widgets/base",
      "_model_module_version": "1.2.0",
      "_model_name": "LayoutModel",
      "_view_count": null,
      "_view_module": "@jupyter-widgets/base",
      "_view_module_version": "1.2.0",
      "_view_name": "LayoutView",
      "align_content": null,
      "align_items": null,
      "align_self": null,
      "border": null,
      "bottom": null,
      "display": null,
      "flex": null,
      "flex_flow": null,
      "grid_area": null,
      "grid_auto_columns": null,
      "grid_auto_flow": null,
      "grid_auto_rows": null,
      "grid_column": null,
      "grid_gap": null,
      "grid_row": null,
      "grid_template_areas": null,
      "grid_template_columns": null,
      "grid_template_rows": null,
      "height": null,
      "justify_content": null,
      "justify_items": null,
      "left": null,
      "margin": null,
      "max_height": null,
      "max_width": null,
      "min_height": null,
      "min_width": null,
      "object_fit": null,
      "object_position": null,
      "order": null,
      "overflow": null,
      "overflow_x": null,
      "overflow_y": null,
      "padding": null,
      "right": null,
      "top": null,
      "visibility": null,
      "width": null
     }
    },
    "432317ce60f74d1ab18bec244e32b0cd": {
     "model_module": "@jupyter-widgets/controls",
     "model_module_version": "1.5.0",
     "model_name": "ProgressStyleModel",
     "state": {
      "_model_module": "@jupyter-widgets/controls",
      "_model_module_version": "1.5.0",
      "_model_name": "ProgressStyleModel",
      "_view_count": null,
      "_view_module": "@jupyter-widgets/base",
      "_view_module_version": "1.2.0",
      "_view_name": "StyleView",
      "bar_color": null,
      "description_width": ""
     }
    },
    "4386bce06789484b8ee0849af537b4f0": {
     "model_module": "@jupyter-widgets/base",
     "model_module_version": "1.2.0",
     "model_name": "LayoutModel",
     "state": {
      "_model_module": "@jupyter-widgets/base",
      "_model_module_version": "1.2.0",
      "_model_name": "LayoutModel",
      "_view_count": null,
      "_view_module": "@jupyter-widgets/base",
      "_view_module_version": "1.2.0",
      "_view_name": "LayoutView",
      "align_content": null,
      "align_items": null,
      "align_self": null,
      "border": null,
      "bottom": null,
      "display": null,
      "flex": null,
      "flex_flow": null,
      "grid_area": null,
      "grid_auto_columns": null,
      "grid_auto_flow": null,
      "grid_auto_rows": null,
      "grid_column": null,
      "grid_gap": null,
      "grid_row": null,
      "grid_template_areas": null,
      "grid_template_columns": null,
      "grid_template_rows": null,
      "height": null,
      "justify_content": null,
      "justify_items": null,
      "left": null,
      "margin": null,
      "max_height": null,
      "max_width": null,
      "min_height": null,
      "min_width": null,
      "object_fit": null,
      "object_position": null,
      "order": null,
      "overflow": null,
      "overflow_x": null,
      "overflow_y": null,
      "padding": null,
      "right": null,
      "top": null,
      "visibility": null,
      "width": null
     }
    },
    "43b91645343a4fc5b3328fd0f75eabad": {
     "model_module": "@jupyter-widgets/base",
     "model_module_version": "1.2.0",
     "model_name": "LayoutModel",
     "state": {
      "_model_module": "@jupyter-widgets/base",
      "_model_module_version": "1.2.0",
      "_model_name": "LayoutModel",
      "_view_count": null,
      "_view_module": "@jupyter-widgets/base",
      "_view_module_version": "1.2.0",
      "_view_name": "LayoutView",
      "align_content": null,
      "align_items": null,
      "align_self": null,
      "border": null,
      "bottom": null,
      "display": null,
      "flex": null,
      "flex_flow": null,
      "grid_area": null,
      "grid_auto_columns": null,
      "grid_auto_flow": null,
      "grid_auto_rows": null,
      "grid_column": null,
      "grid_gap": null,
      "grid_row": null,
      "grid_template_areas": null,
      "grid_template_columns": null,
      "grid_template_rows": null,
      "height": null,
      "justify_content": null,
      "justify_items": null,
      "left": null,
      "margin": null,
      "max_height": null,
      "max_width": null,
      "min_height": null,
      "min_width": null,
      "object_fit": null,
      "object_position": null,
      "order": null,
      "overflow": null,
      "overflow_x": null,
      "overflow_y": null,
      "padding": null,
      "right": null,
      "top": null,
      "visibility": null,
      "width": null
     }
    },
    "43db010429884f04871d391f3805e9fb": {
     "model_module": "@jupyter-widgets/base",
     "model_module_version": "1.2.0",
     "model_name": "LayoutModel",
     "state": {
      "_model_module": "@jupyter-widgets/base",
      "_model_module_version": "1.2.0",
      "_model_name": "LayoutModel",
      "_view_count": null,
      "_view_module": "@jupyter-widgets/base",
      "_view_module_version": "1.2.0",
      "_view_name": "LayoutView",
      "align_content": null,
      "align_items": null,
      "align_self": null,
      "border": null,
      "bottom": null,
      "display": null,
      "flex": null,
      "flex_flow": null,
      "grid_area": null,
      "grid_auto_columns": null,
      "grid_auto_flow": null,
      "grid_auto_rows": null,
      "grid_column": null,
      "grid_gap": null,
      "grid_row": null,
      "grid_template_areas": null,
      "grid_template_columns": null,
      "grid_template_rows": null,
      "height": null,
      "justify_content": null,
      "justify_items": null,
      "left": null,
      "margin": null,
      "max_height": null,
      "max_width": null,
      "min_height": null,
      "min_width": null,
      "object_fit": null,
      "object_position": null,
      "order": null,
      "overflow": null,
      "overflow_x": null,
      "overflow_y": null,
      "padding": null,
      "right": null,
      "top": null,
      "visibility": null,
      "width": null
     }
    },
    "4413b34ebb3b4ff1a617386a9dec9649": {
     "model_module": "@jupyter-widgets/controls",
     "model_module_version": "1.5.0",
     "model_name": "HBoxModel",
     "state": {
      "_dom_classes": [],
      "_model_module": "@jupyter-widgets/controls",
      "_model_module_version": "1.5.0",
      "_model_name": "HBoxModel",
      "_view_count": null,
      "_view_module": "@jupyter-widgets/controls",
      "_view_module_version": "1.5.0",
      "_view_name": "HBoxView",
      "box_style": "",
      "children": [
       "IPY_MODEL_a2f3e4f5ba354435b9c523e0e6d5e24c",
       "IPY_MODEL_afc579630afa488093f9caf7c3431890",
       "IPY_MODEL_482f10bc00274b36b37a68fd5ee604a0"
      ],
      "layout": "IPY_MODEL_79620aaa9bf64fd7be0438d63513f293"
     }
    },
    "44383c45a6da4f628ea7b129de0cca5d": {
     "model_module": "@jupyter-widgets/controls",
     "model_module_version": "1.5.0",
     "model_name": "HTMLModel",
     "state": {
      "_dom_classes": [],
      "_model_module": "@jupyter-widgets/controls",
      "_model_module_version": "1.5.0",
      "_model_name": "HTMLModel",
      "_view_count": null,
      "_view_module": "@jupyter-widgets/controls",
      "_view_module_version": "1.5.0",
      "_view_name": "HTMLView",
      "description": "",
      "description_tooltip": null,
      "layout": "IPY_MODEL_43db010429884f04871d391f3805e9fb",
      "placeholder": "​",
      "style": "IPY_MODEL_9f8ef2b0bc2943ffb43af2d2ea647a83",
      "value": " 379k/? [00:00&lt;00:00, 16.1MB/s]"
     }
    },
    "448098b114b9438a949133d454a0ef65": {
     "model_module": "@jupyter-widgets/controls",
     "model_module_version": "1.5.0",
     "model_name": "HTMLModel",
     "state": {
      "_dom_classes": [],
      "_model_module": "@jupyter-widgets/controls",
      "_model_module_version": "1.5.0",
      "_model_name": "HTMLModel",
      "_view_count": null,
      "_view_module": "@jupyter-widgets/controls",
      "_view_module_version": "1.5.0",
      "_view_name": "HTMLView",
      "description": "",
      "description_tooltip": null,
      "layout": "IPY_MODEL_22e08a34a30a4704bcd6ee0654e090d9",
      "placeholder": "​",
      "style": "IPY_MODEL_45c51f5d0cfc45389ab2346c2ecc296a",
      "value": " 50.0M/50.0M [00:17&lt;00:00, 11.5MB/s]"
     }
    },
    "45303a3e878a4df3a65b0cb19f63146a": {
     "model_module": "@jupyter-widgets/controls",
     "model_module_version": "1.5.0",
     "model_name": "DescriptionStyleModel",
     "state": {
      "_model_module": "@jupyter-widgets/controls",
      "_model_module_version": "1.5.0",
      "_model_name": "DescriptionStyleModel",
      "_view_count": null,
      "_view_module": "@jupyter-widgets/base",
      "_view_module_version": "1.2.0",
      "_view_name": "StyleView",
      "description_width": ""
     }
    },
    "45c51f5d0cfc45389ab2346c2ecc296a": {
     "model_module": "@jupyter-widgets/controls",
     "model_module_version": "1.5.0",
     "model_name": "DescriptionStyleModel",
     "state": {
      "_model_module": "@jupyter-widgets/controls",
      "_model_module_version": "1.5.0",
      "_model_name": "DescriptionStyleModel",
      "_view_count": null,
      "_view_module": "@jupyter-widgets/base",
      "_view_module_version": "1.2.0",
      "_view_name": "StyleView",
      "description_width": ""
     }
    },
    "46352c11916f46f7b362b289a8ab41d5": {
     "model_module": "@jupyter-widgets/controls",
     "model_module_version": "1.5.0",
     "model_name": "HBoxModel",
     "state": {
      "_dom_classes": [],
      "_model_module": "@jupyter-widgets/controls",
      "_model_module_version": "1.5.0",
      "_model_name": "HBoxModel",
      "_view_count": null,
      "_view_module": "@jupyter-widgets/controls",
      "_view_module_version": "1.5.0",
      "_view_name": "HBoxView",
      "box_style": "",
      "children": [
       "IPY_MODEL_b5553c944897409baa47984a5c9f69ea",
       "IPY_MODEL_0e112876f98748af9aef641e33fd8ffe",
       "IPY_MODEL_9d511f3f02ac4278bea0424e52e566c8"
      ],
      "layout": "IPY_MODEL_95ca713d390042f8b2331f4d08217988"
     }
    },
    "472b3b3fac6648239a5d960cb4fc6d37": {
     "model_module": "@jupyter-widgets/base",
     "model_module_version": "1.2.0",
     "model_name": "LayoutModel",
     "state": {
      "_model_module": "@jupyter-widgets/base",
      "_model_module_version": "1.2.0",
      "_model_name": "LayoutModel",
      "_view_count": null,
      "_view_module": "@jupyter-widgets/base",
      "_view_module_version": "1.2.0",
      "_view_name": "LayoutView",
      "align_content": null,
      "align_items": null,
      "align_self": null,
      "border": null,
      "bottom": null,
      "display": null,
      "flex": null,
      "flex_flow": null,
      "grid_area": null,
      "grid_auto_columns": null,
      "grid_auto_flow": null,
      "grid_auto_rows": null,
      "grid_column": null,
      "grid_gap": null,
      "grid_row": null,
      "grid_template_areas": null,
      "grid_template_columns": null,
      "grid_template_rows": null,
      "height": null,
      "justify_content": null,
      "justify_items": null,
      "left": null,
      "margin": null,
      "max_height": null,
      "max_width": null,
      "min_height": null,
      "min_width": null,
      "object_fit": null,
      "object_position": null,
      "order": null,
      "overflow": null,
      "overflow_x": null,
      "overflow_y": null,
      "padding": null,
      "right": null,
      "top": null,
      "visibility": null,
      "width": null
     }
    },
    "4782efb5f8694de19ad4b2d0766b33bf": {
     "model_module": "@jupyter-widgets/base",
     "model_module_version": "1.2.0",
     "model_name": "LayoutModel",
     "state": {
      "_model_module": "@jupyter-widgets/base",
      "_model_module_version": "1.2.0",
      "_model_name": "LayoutModel",
      "_view_count": null,
      "_view_module": "@jupyter-widgets/base",
      "_view_module_version": "1.2.0",
      "_view_name": "LayoutView",
      "align_content": null,
      "align_items": null,
      "align_self": null,
      "border": null,
      "bottom": null,
      "display": null,
      "flex": null,
      "flex_flow": null,
      "grid_area": null,
      "grid_auto_columns": null,
      "grid_auto_flow": null,
      "grid_auto_rows": null,
      "grid_column": null,
      "grid_gap": null,
      "grid_row": null,
      "grid_template_areas": null,
      "grid_template_columns": null,
      "grid_template_rows": null,
      "height": null,
      "justify_content": null,
      "justify_items": null,
      "left": null,
      "margin": null,
      "max_height": null,
      "max_width": null,
      "min_height": null,
      "min_width": null,
      "object_fit": null,
      "object_position": null,
      "order": null,
      "overflow": null,
      "overflow_x": null,
      "overflow_y": null,
      "padding": null,
      "right": null,
      "top": null,
      "visibility": null,
      "width": null
     }
    },
    "482f10bc00274b36b37a68fd5ee604a0": {
     "model_module": "@jupyter-widgets/controls",
     "model_module_version": "1.5.0",
     "model_name": "HTMLModel",
     "state": {
      "_dom_classes": [],
      "_model_module": "@jupyter-widgets/controls",
      "_model_module_version": "1.5.0",
      "_model_name": "HTMLModel",
      "_view_count": null,
      "_view_module": "@jupyter-widgets/controls",
      "_view_module_version": "1.5.0",
      "_view_name": "HTMLView",
      "description": "",
      "description_tooltip": null,
      "layout": "IPY_MODEL_0663a136ab2a475f8dbf1901961f531c",
      "placeholder": "​",
      "style": "IPY_MODEL_bb4be7c9cbec4d3ba0ad60b849967ab2",
      "value": " 36.1M/36.1M [00:01&lt;00:00, 50.2MB/s]"
     }
    },
    "4886e816b74d41cb9be77ec38c6568dd": {
     "model_module": "@jupyter-widgets/controls",
     "model_module_version": "1.5.0",
     "model_name": "HTMLModel",
     "state": {
      "_dom_classes": [],
      "_model_module": "@jupyter-widgets/controls",
      "_model_module_version": "1.5.0",
      "_model_name": "HTMLModel",
      "_view_count": null,
      "_view_module": "@jupyter-widgets/controls",
      "_view_module_version": "1.5.0",
      "_view_name": "HTMLView",
      "description": "",
      "description_tooltip": null,
      "layout": "IPY_MODEL_2b087efaf0f74d048774e2068b8a18ac",
      "placeholder": "​",
      "style": "IPY_MODEL_9fd10da1ce7d4b0fb38d5313dfe1911a",
      "value": "Downloading https://huggingface.co/stanfordnlp/stanza-fa/resolve/v1.8.0/models/forward_charlm/conll17.pt: 100%"
     }
    },
    "48946dc4d6da46bc9b027218e75297f7": {
     "model_module": "@jupyter-widgets/base",
     "model_module_version": "1.2.0",
     "model_name": "LayoutModel",
     "state": {
      "_model_module": "@jupyter-widgets/base",
      "_model_module_version": "1.2.0",
      "_model_name": "LayoutModel",
      "_view_count": null,
      "_view_module": "@jupyter-widgets/base",
      "_view_module_version": "1.2.0",
      "_view_name": "LayoutView",
      "align_content": null,
      "align_items": null,
      "align_self": null,
      "border": null,
      "bottom": null,
      "display": null,
      "flex": null,
      "flex_flow": null,
      "grid_area": null,
      "grid_auto_columns": null,
      "grid_auto_flow": null,
      "grid_auto_rows": null,
      "grid_column": null,
      "grid_gap": null,
      "grid_row": null,
      "grid_template_areas": null,
      "grid_template_columns": null,
      "grid_template_rows": null,
      "height": null,
      "justify_content": null,
      "justify_items": null,
      "left": null,
      "margin": null,
      "max_height": null,
      "max_width": null,
      "min_height": null,
      "min_width": null,
      "object_fit": null,
      "object_position": null,
      "order": null,
      "overflow": null,
      "overflow_x": null,
      "overflow_y": null,
      "padding": null,
      "right": null,
      "top": null,
      "visibility": null,
      "width": null
     }
    },
    "4910c3e9ad964bdca5af81b09a91397a": {
     "model_module": "@jupyter-widgets/controls",
     "model_module_version": "1.5.0",
     "model_name": "HTMLModel",
     "state": {
      "_dom_classes": [],
      "_model_module": "@jupyter-widgets/controls",
      "_model_module_version": "1.5.0",
      "_model_name": "HTMLModel",
      "_view_count": null,
      "_view_module": "@jupyter-widgets/controls",
      "_view_module_version": "1.5.0",
      "_view_name": "HTMLView",
      "description": "",
      "description_tooltip": null,
      "layout": "IPY_MODEL_b3815639ad5f4074810c2a09df8d8541",
      "placeholder": "​",
      "style": "IPY_MODEL_f33a14efa95142688174f3cc8fe510f6",
      "value": " 134M/134M [00:02&lt;00:00, 60.2MB/s]"
     }
    },
    "4976be17cd3d4f65a7eb3f8676eea21f": {
     "model_module": "@jupyter-widgets/base",
     "model_module_version": "1.2.0",
     "model_name": "LayoutModel",
     "state": {
      "_model_module": "@jupyter-widgets/base",
      "_model_module_version": "1.2.0",
      "_model_name": "LayoutModel",
      "_view_count": null,
      "_view_module": "@jupyter-widgets/base",
      "_view_module_version": "1.2.0",
      "_view_name": "LayoutView",
      "align_content": null,
      "align_items": null,
      "align_self": null,
      "border": null,
      "bottom": null,
      "display": null,
      "flex": null,
      "flex_flow": null,
      "grid_area": null,
      "grid_auto_columns": null,
      "grid_auto_flow": null,
      "grid_auto_rows": null,
      "grid_column": null,
      "grid_gap": null,
      "grid_row": null,
      "grid_template_areas": null,
      "grid_template_columns": null,
      "grid_template_rows": null,
      "height": null,
      "justify_content": null,
      "justify_items": null,
      "left": null,
      "margin": null,
      "max_height": null,
      "max_width": null,
      "min_height": null,
      "min_width": null,
      "object_fit": null,
      "object_position": null,
      "order": null,
      "overflow": null,
      "overflow_x": null,
      "overflow_y": null,
      "padding": null,
      "right": null,
      "top": null,
      "visibility": null,
      "width": null
     }
    },
    "4c0efa207dcb45d7a148f84aa5539e6a": {
     "model_module": "@jupyter-widgets/base",
     "model_module_version": "1.2.0",
     "model_name": "LayoutModel",
     "state": {
      "_model_module": "@jupyter-widgets/base",
      "_model_module_version": "1.2.0",
      "_model_name": "LayoutModel",
      "_view_count": null,
      "_view_module": "@jupyter-widgets/base",
      "_view_module_version": "1.2.0",
      "_view_name": "LayoutView",
      "align_content": null,
      "align_items": null,
      "align_self": null,
      "border": null,
      "bottom": null,
      "display": null,
      "flex": null,
      "flex_flow": null,
      "grid_area": null,
      "grid_auto_columns": null,
      "grid_auto_flow": null,
      "grid_auto_rows": null,
      "grid_column": null,
      "grid_gap": null,
      "grid_row": null,
      "grid_template_areas": null,
      "grid_template_columns": null,
      "grid_template_rows": null,
      "height": null,
      "justify_content": null,
      "justify_items": null,
      "left": null,
      "margin": null,
      "max_height": null,
      "max_width": null,
      "min_height": null,
      "min_width": null,
      "object_fit": null,
      "object_position": null,
      "order": null,
      "overflow": null,
      "overflow_x": null,
      "overflow_y": null,
      "padding": null,
      "right": null,
      "top": null,
      "visibility": null,
      "width": null
     }
    },
    "4c224c9e9e7d40269598aa55cec62a95": {
     "model_module": "@jupyter-widgets/controls",
     "model_module_version": "1.5.0",
     "model_name": "DescriptionStyleModel",
     "state": {
      "_model_module": "@jupyter-widgets/controls",
      "_model_module_version": "1.5.0",
      "_model_name": "DescriptionStyleModel",
      "_view_count": null,
      "_view_module": "@jupyter-widgets/base",
      "_view_module_version": "1.2.0",
      "_view_name": "StyleView",
      "description_width": ""
     }
    },
    "4e732e670df1410f9203f5aaba78b185": {
     "model_module": "@jupyter-widgets/base",
     "model_module_version": "1.2.0",
     "model_name": "LayoutModel",
     "state": {
      "_model_module": "@jupyter-widgets/base",
      "_model_module_version": "1.2.0",
      "_model_name": "LayoutModel",
      "_view_count": null,
      "_view_module": "@jupyter-widgets/base",
      "_view_module_version": "1.2.0",
      "_view_name": "LayoutView",
      "align_content": null,
      "align_items": null,
      "align_self": null,
      "border": null,
      "bottom": null,
      "display": null,
      "flex": null,
      "flex_flow": null,
      "grid_area": null,
      "grid_auto_columns": null,
      "grid_auto_flow": null,
      "grid_auto_rows": null,
      "grid_column": null,
      "grid_gap": null,
      "grid_row": null,
      "grid_template_areas": null,
      "grid_template_columns": null,
      "grid_template_rows": null,
      "height": null,
      "justify_content": null,
      "justify_items": null,
      "left": null,
      "margin": null,
      "max_height": null,
      "max_width": null,
      "min_height": null,
      "min_width": null,
      "object_fit": null,
      "object_position": null,
      "order": null,
      "overflow": null,
      "overflow_x": null,
      "overflow_y": null,
      "padding": null,
      "right": null,
      "top": null,
      "visibility": null,
      "width": null
     }
    },
    "4f67baed18854a27a9a504435c6269cb": {
     "model_module": "@jupyter-widgets/controls",
     "model_module_version": "1.5.0",
     "model_name": "HTMLModel",
     "state": {
      "_dom_classes": [],
      "_model_module": "@jupyter-widgets/controls",
      "_model_module_version": "1.5.0",
      "_model_name": "HTMLModel",
      "_view_count": null,
      "_view_module": "@jupyter-widgets/controls",
      "_view_module_version": "1.5.0",
      "_view_name": "HTMLView",
      "description": "",
      "description_tooltip": null,
      "layout": "IPY_MODEL_8b28f92e50f244fa949703e902fde977",
      "placeholder": "​",
      "style": "IPY_MODEL_bea02085c8344dc3a438947f47a7e607",
      "value": " 379k/? [00:00&lt;00:00, 16.3MB/s]"
     }
    },
    "4f76f7409c6a4a088150495b71fed97f": {
     "model_module": "@jupyter-widgets/controls",
     "model_module_version": "1.5.0",
     "model_name": "ProgressStyleModel",
     "state": {
      "_model_module": "@jupyter-widgets/controls",
      "_model_module_version": "1.5.0",
      "_model_name": "ProgressStyleModel",
      "_view_count": null,
      "_view_module": "@jupyter-widgets/base",
      "_view_module_version": "1.2.0",
      "_view_name": "StyleView",
      "bar_color": null,
      "description_width": ""
     }
    },
    "50ca85129d5d4301aa764eb427a69db5": {
     "model_module": "@jupyter-widgets/base",
     "model_module_version": "1.2.0",
     "model_name": "LayoutModel",
     "state": {
      "_model_module": "@jupyter-widgets/base",
      "_model_module_version": "1.2.0",
      "_model_name": "LayoutModel",
      "_view_count": null,
      "_view_module": "@jupyter-widgets/base",
      "_view_module_version": "1.2.0",
      "_view_name": "LayoutView",
      "align_content": null,
      "align_items": null,
      "align_self": null,
      "border": null,
      "bottom": null,
      "display": null,
      "flex": null,
      "flex_flow": null,
      "grid_area": null,
      "grid_auto_columns": null,
      "grid_auto_flow": null,
      "grid_auto_rows": null,
      "grid_column": null,
      "grid_gap": null,
      "grid_row": null,
      "grid_template_areas": null,
      "grid_template_columns": null,
      "grid_template_rows": null,
      "height": null,
      "justify_content": null,
      "justify_items": null,
      "left": null,
      "margin": null,
      "max_height": null,
      "max_width": null,
      "min_height": null,
      "min_width": null,
      "object_fit": null,
      "object_position": null,
      "order": null,
      "overflow": null,
      "overflow_x": null,
      "overflow_y": null,
      "padding": null,
      "right": null,
      "top": null,
      "visibility": null,
      "width": null
     }
    },
    "50d9487428ec421abf5917ad0fe3d410": {
     "model_module": "@jupyter-widgets/base",
     "model_module_version": "1.2.0",
     "model_name": "LayoutModel",
     "state": {
      "_model_module": "@jupyter-widgets/base",
      "_model_module_version": "1.2.0",
      "_model_name": "LayoutModel",
      "_view_count": null,
      "_view_module": "@jupyter-widgets/base",
      "_view_module_version": "1.2.0",
      "_view_name": "LayoutView",
      "align_content": null,
      "align_items": null,
      "align_self": null,
      "border": null,
      "bottom": null,
      "display": null,
      "flex": null,
      "flex_flow": null,
      "grid_area": null,
      "grid_auto_columns": null,
      "grid_auto_flow": null,
      "grid_auto_rows": null,
      "grid_column": null,
      "grid_gap": null,
      "grid_row": null,
      "grid_template_areas": null,
      "grid_template_columns": null,
      "grid_template_rows": null,
      "height": null,
      "justify_content": null,
      "justify_items": null,
      "left": null,
      "margin": null,
      "max_height": null,
      "max_width": null,
      "min_height": null,
      "min_width": null,
      "object_fit": null,
      "object_position": null,
      "order": null,
      "overflow": null,
      "overflow_x": null,
      "overflow_y": null,
      "padding": null,
      "right": null,
      "top": null,
      "visibility": null,
      "width": null
     }
    },
    "51481678e20444b3859b6d549fa1a6f7": {
     "model_module": "@jupyter-widgets/controls",
     "model_module_version": "1.5.0",
     "model_name": "HBoxModel",
     "state": {
      "_dom_classes": [],
      "_model_module": "@jupyter-widgets/controls",
      "_model_module_version": "1.5.0",
      "_model_name": "HBoxModel",
      "_view_count": null,
      "_view_module": "@jupyter-widgets/controls",
      "_view_module_version": "1.5.0",
      "_view_name": "HBoxView",
      "box_style": "",
      "children": [
       "IPY_MODEL_08ca4c425eb743afbc553d529fff1a86",
       "IPY_MODEL_264eac79c7c04ac0be0d0fa098233809",
       "IPY_MODEL_a791bae4d7d142f7832ad3e11e547460"
      ],
      "layout": "IPY_MODEL_9b50dd4eed79458cae5d0c50ed854efd"
     }
    },
    "52b03ab1b90847afaa66d2b335508ed0": {
     "model_module": "@jupyter-widgets/base",
     "model_module_version": "1.2.0",
     "model_name": "LayoutModel",
     "state": {
      "_model_module": "@jupyter-widgets/base",
      "_model_module_version": "1.2.0",
      "_model_name": "LayoutModel",
      "_view_count": null,
      "_view_module": "@jupyter-widgets/base",
      "_view_module_version": "1.2.0",
      "_view_name": "LayoutView",
      "align_content": null,
      "align_items": null,
      "align_self": null,
      "border": null,
      "bottom": null,
      "display": null,
      "flex": null,
      "flex_flow": null,
      "grid_area": null,
      "grid_auto_columns": null,
      "grid_auto_flow": null,
      "grid_auto_rows": null,
      "grid_column": null,
      "grid_gap": null,
      "grid_row": null,
      "grid_template_areas": null,
      "grid_template_columns": null,
      "grid_template_rows": null,
      "height": null,
      "justify_content": null,
      "justify_items": null,
      "left": null,
      "margin": null,
      "max_height": null,
      "max_width": null,
      "min_height": null,
      "min_width": null,
      "object_fit": null,
      "object_position": null,
      "order": null,
      "overflow": null,
      "overflow_x": null,
      "overflow_y": null,
      "padding": null,
      "right": null,
      "top": null,
      "visibility": null,
      "width": null
     }
    },
    "52dec2eb9cc341679a2b2b2450664016": {
     "model_module": "@jupyter-widgets/controls",
     "model_module_version": "1.5.0",
     "model_name": "ProgressStyleModel",
     "state": {
      "_model_module": "@jupyter-widgets/controls",
      "_model_module_version": "1.5.0",
      "_model_name": "ProgressStyleModel",
      "_view_count": null,
      "_view_module": "@jupyter-widgets/base",
      "_view_module_version": "1.2.0",
      "_view_name": "StyleView",
      "bar_color": null,
      "description_width": ""
     }
    },
    "55311c09b1c24a609db9b8519abe6936": {
     "model_module": "@jupyter-widgets/base",
     "model_module_version": "1.2.0",
     "model_name": "LayoutModel",
     "state": {
      "_model_module": "@jupyter-widgets/base",
      "_model_module_version": "1.2.0",
      "_model_name": "LayoutModel",
      "_view_count": null,
      "_view_module": "@jupyter-widgets/base",
      "_view_module_version": "1.2.0",
      "_view_name": "LayoutView",
      "align_content": null,
      "align_items": null,
      "align_self": null,
      "border": null,
      "bottom": null,
      "display": null,
      "flex": null,
      "flex_flow": null,
      "grid_area": null,
      "grid_auto_columns": null,
      "grid_auto_flow": null,
      "grid_auto_rows": null,
      "grid_column": null,
      "grid_gap": null,
      "grid_row": null,
      "grid_template_areas": null,
      "grid_template_columns": null,
      "grid_template_rows": null,
      "height": null,
      "justify_content": null,
      "justify_items": null,
      "left": null,
      "margin": null,
      "max_height": null,
      "max_width": null,
      "min_height": null,
      "min_width": null,
      "object_fit": null,
      "object_position": null,
      "order": null,
      "overflow": null,
      "overflow_x": null,
      "overflow_y": null,
      "padding": null,
      "right": null,
      "top": null,
      "visibility": null,
      "width": null
     }
    },
    "5588acc4d8a7491daecaa80a22af3a29": {
     "model_module": "@jupyter-widgets/controls",
     "model_module_version": "1.5.0",
     "model_name": "ProgressStyleModel",
     "state": {
      "_model_module": "@jupyter-widgets/controls",
      "_model_module_version": "1.5.0",
      "_model_name": "ProgressStyleModel",
      "_view_count": null,
      "_view_module": "@jupyter-widgets/base",
      "_view_module_version": "1.2.0",
      "_view_name": "StyleView",
      "bar_color": null,
      "description_width": ""
     }
    },
    "58ed9f1aa86f48eb8fdfc071f90931fc": {
     "model_module": "@jupyter-widgets/controls",
     "model_module_version": "1.5.0",
     "model_name": "HTMLModel",
     "state": {
      "_dom_classes": [],
      "_model_module": "@jupyter-widgets/controls",
      "_model_module_version": "1.5.0",
      "_model_name": "HTMLModel",
      "_view_count": null,
      "_view_module": "@jupyter-widgets/controls",
      "_view_module_version": "1.5.0",
      "_view_name": "HTMLView",
      "description": "",
      "description_tooltip": null,
      "layout": "IPY_MODEL_e7198e1dbd254064b34634760a762d69",
      "placeholder": "​",
      "style": "IPY_MODEL_1633f524075d467997b2b42f3e1399c5",
      "value": " 108M/108M [00:02&lt;00:00, 50.9MB/s]"
     }
    },
    "591c05ea0f2947b5a56e4318289d7974": {
     "model_module": "@jupyter-widgets/base",
     "model_module_version": "1.2.0",
     "model_name": "LayoutModel",
     "state": {
      "_model_module": "@jupyter-widgets/base",
      "_model_module_version": "1.2.0",
      "_model_name": "LayoutModel",
      "_view_count": null,
      "_view_module": "@jupyter-widgets/base",
      "_view_module_version": "1.2.0",
      "_view_name": "LayoutView",
      "align_content": null,
      "align_items": null,
      "align_self": null,
      "border": null,
      "bottom": null,
      "display": null,
      "flex": null,
      "flex_flow": null,
      "grid_area": null,
      "grid_auto_columns": null,
      "grid_auto_flow": null,
      "grid_auto_rows": null,
      "grid_column": null,
      "grid_gap": null,
      "grid_row": null,
      "grid_template_areas": null,
      "grid_template_columns": null,
      "grid_template_rows": null,
      "height": null,
      "justify_content": null,
      "justify_items": null,
      "left": null,
      "margin": null,
      "max_height": null,
      "max_width": null,
      "min_height": null,
      "min_width": null,
      "object_fit": null,
      "object_position": null,
      "order": null,
      "overflow": null,
      "overflow_x": null,
      "overflow_y": null,
      "padding": null,
      "right": null,
      "top": null,
      "visibility": null,
      "width": null
     }
    },
    "59ee63fa27774ef68052feb93d87c9a6": {
     "model_module": "@jupyter-widgets/controls",
     "model_module_version": "1.5.0",
     "model_name": "HTMLModel",
     "state": {
      "_dom_classes": [],
      "_model_module": "@jupyter-widgets/controls",
      "_model_module_version": "1.5.0",
      "_model_name": "HTMLModel",
      "_view_count": null,
      "_view_module": "@jupyter-widgets/controls",
      "_view_module_version": "1.5.0",
      "_view_name": "HTMLView",
      "description": "",
      "description_tooltip": null,
      "layout": "IPY_MODEL_2a3a52f67bc74d37af032585f12eed85",
      "placeholder": "​",
      "style": "IPY_MODEL_aec6078fa450455ea8a75c6c1570d7bf",
      "value": " 379k/? [00:00&lt;00:00, 9.49MB/s]"
     }
    },
    "5a8e42255d62435f9b6aa2dff14e1875": {
     "model_module": "@jupyter-widgets/base",
     "model_module_version": "1.2.0",
     "model_name": "LayoutModel",
     "state": {
      "_model_module": "@jupyter-widgets/base",
      "_model_module_version": "1.2.0",
      "_model_name": "LayoutModel",
      "_view_count": null,
      "_view_module": "@jupyter-widgets/base",
      "_view_module_version": "1.2.0",
      "_view_name": "LayoutView",
      "align_content": null,
      "align_items": null,
      "align_self": null,
      "border": null,
      "bottom": null,
      "display": null,
      "flex": null,
      "flex_flow": null,
      "grid_area": null,
      "grid_auto_columns": null,
      "grid_auto_flow": null,
      "grid_auto_rows": null,
      "grid_column": null,
      "grid_gap": null,
      "grid_row": null,
      "grid_template_areas": null,
      "grid_template_columns": null,
      "grid_template_rows": null,
      "height": null,
      "justify_content": null,
      "justify_items": null,
      "left": null,
      "margin": null,
      "max_height": null,
      "max_width": null,
      "min_height": null,
      "min_width": null,
      "object_fit": null,
      "object_position": null,
      "order": null,
      "overflow": null,
      "overflow_x": null,
      "overflow_y": null,
      "padding": null,
      "right": null,
      "top": null,
      "visibility": null,
      "width": null
     }
    },
    "5b5cb6a11b2f457b949eb9d66ccab3ad": {
     "model_module": "@jupyter-widgets/controls",
     "model_module_version": "1.5.0",
     "model_name": "DescriptionStyleModel",
     "state": {
      "_model_module": "@jupyter-widgets/controls",
      "_model_module_version": "1.5.0",
      "_model_name": "DescriptionStyleModel",
      "_view_count": null,
      "_view_module": "@jupyter-widgets/base",
      "_view_module_version": "1.2.0",
      "_view_name": "StyleView",
      "description_width": ""
     }
    },
    "5f9b1b9a00f04425a8f6791ef6dc9b7e": {
     "model_module": "@jupyter-widgets/controls",
     "model_module_version": "1.5.0",
     "model_name": "ProgressStyleModel",
     "state": {
      "_model_module": "@jupyter-widgets/controls",
      "_model_module_version": "1.5.0",
      "_model_name": "ProgressStyleModel",
      "_view_count": null,
      "_view_module": "@jupyter-widgets/base",
      "_view_module_version": "1.2.0",
      "_view_name": "StyleView",
      "bar_color": null,
      "description_width": ""
     }
    },
    "60280973eec9499ab5da5d8e5393d780": {
     "model_module": "@jupyter-widgets/controls",
     "model_module_version": "1.5.0",
     "model_name": "FloatProgressModel",
     "state": {
      "_dom_classes": [],
      "_model_module": "@jupyter-widgets/controls",
      "_model_module_version": "1.5.0",
      "_model_name": "FloatProgressModel",
      "_view_count": null,
      "_view_module": "@jupyter-widgets/controls",
      "_view_module_version": "1.5.0",
      "_view_name": "ProgressView",
      "bar_style": "success",
      "description": "",
      "description_tooltip": null,
      "layout": "IPY_MODEL_472b3b3fac6648239a5d960cb4fc6d37",
      "max": 638319,
      "min": 0,
      "orientation": "horizontal",
      "style": "IPY_MODEL_a6fd14fa9c3e45b1a438ad7f657dce95",
      "value": 638319
     }
    },
    "60f8ed6203fb4c48b7929d80867178aa": {
     "model_module": "@jupyter-widgets/controls",
     "model_module_version": "1.5.0",
     "model_name": "HTMLModel",
     "state": {
      "_dom_classes": [],
      "_model_module": "@jupyter-widgets/controls",
      "_model_module_version": "1.5.0",
      "_model_name": "HTMLModel",
      "_view_count": null,
      "_view_module": "@jupyter-widgets/controls",
      "_view_module_version": "1.5.0",
      "_view_name": "HTMLView",
      "description": "",
      "description_tooltip": null,
      "layout": "IPY_MODEL_48946dc4d6da46bc9b027218e75297f7",
      "placeholder": "​",
      "style": "IPY_MODEL_0a726291b52f40cfa3d4e194b586f882",
      "value": "Downloading https://raw.githubusercontent.com/stanfordnlp/stanza-resources/main/resources_1.8.0.json: "
     }
    },
    "621b4ab396f04d71a5dce3dfc5002697": {
     "model_module": "@jupyter-widgets/controls",
     "model_module_version": "1.5.0",
     "model_name": "DescriptionStyleModel",
     "state": {
      "_model_module": "@jupyter-widgets/controls",
      "_model_module_version": "1.5.0",
      "_model_name": "DescriptionStyleModel",
      "_view_count": null,
      "_view_module": "@jupyter-widgets/base",
      "_view_module_version": "1.2.0",
      "_view_name": "StyleView",
      "description_width": ""
     }
    },
    "6221ac70f3e145faa3dbd441bccb9ddc": {
     "model_module": "@jupyter-widgets/base",
     "model_module_version": "1.2.0",
     "model_name": "LayoutModel",
     "state": {
      "_model_module": "@jupyter-widgets/base",
      "_model_module_version": "1.2.0",
      "_model_name": "LayoutModel",
      "_view_count": null,
      "_view_module": "@jupyter-widgets/base",
      "_view_module_version": "1.2.0",
      "_view_name": "LayoutView",
      "align_content": null,
      "align_items": null,
      "align_self": null,
      "border": null,
      "bottom": null,
      "display": null,
      "flex": null,
      "flex_flow": null,
      "grid_area": null,
      "grid_auto_columns": null,
      "grid_auto_flow": null,
      "grid_auto_rows": null,
      "grid_column": null,
      "grid_gap": null,
      "grid_row": null,
      "grid_template_areas": null,
      "grid_template_columns": null,
      "grid_template_rows": null,
      "height": null,
      "justify_content": null,
      "justify_items": null,
      "left": null,
      "margin": null,
      "max_height": null,
      "max_width": null,
      "min_height": null,
      "min_width": null,
      "object_fit": null,
      "object_position": null,
      "order": null,
      "overflow": null,
      "overflow_x": null,
      "overflow_y": null,
      "padding": null,
      "right": null,
      "top": null,
      "visibility": null,
      "width": null
     }
    },
    "6296bb5941ea48679183006b32ea34fd": {
     "model_module": "@jupyter-widgets/controls",
     "model_module_version": "1.5.0",
     "model_name": "DescriptionStyleModel",
     "state": {
      "_model_module": "@jupyter-widgets/controls",
      "_model_module_version": "1.5.0",
      "_model_name": "DescriptionStyleModel",
      "_view_count": null,
      "_view_module": "@jupyter-widgets/base",
      "_view_module_version": "1.2.0",
      "_view_name": "StyleView",
      "description_width": ""
     }
    },
    "634ef7c3793744de821b4102a5c9be7e": {
     "model_module": "@jupyter-widgets/controls",
     "model_module_version": "1.5.0",
     "model_name": "FloatProgressModel",
     "state": {
      "_dom_classes": [],
      "_model_module": "@jupyter-widgets/controls",
      "_model_module_version": "1.5.0",
      "_model_name": "FloatProgressModel",
      "_view_count": null,
      "_view_module": "@jupyter-widgets/controls",
      "_view_module_version": "1.5.0",
      "_view_name": "ProgressView",
      "bar_style": "success",
      "description": "",
      "description_tooltip": null,
      "layout": "IPY_MODEL_0b0bb85bb6a4470a90f2ed2158090189",
      "max": 638319,
      "min": 0,
      "orientation": "horizontal",
      "style": "IPY_MODEL_81f51c9bbe264e0d9b900be4cebe90d8",
      "value": 638319
     }
    },
    "63c9eb0f97fa4be58179b4d876991f96": {
     "model_module": "@jupyter-widgets/controls",
     "model_module_version": "1.5.0",
     "model_name": "HTMLModel",
     "state": {
      "_dom_classes": [],
      "_model_module": "@jupyter-widgets/controls",
      "_model_module_version": "1.5.0",
      "_model_name": "HTMLModel",
      "_view_count": null,
      "_view_module": "@jupyter-widgets/controls",
      "_view_module_version": "1.5.0",
      "_view_name": "HTMLView",
      "description": "",
      "description_tooltip": null,
      "layout": "IPY_MODEL_95b2b762853947c7890f81f7bc98db65",
      "placeholder": "​",
      "style": "IPY_MODEL_915db94631f840a094c860a4cf1a4118",
      "value": "Downloading https://huggingface.co/stanfordnlp/stanza-fa/resolve/v1.8.0/models/backward_charlm/conll17.pt: 100%"
     }
    },
    "63da03d66cf04886ad8d23ca99b2f152": {
     "model_module": "@jupyter-widgets/controls",
     "model_module_version": "1.5.0",
     "model_name": "HTMLModel",
     "state": {
      "_dom_classes": [],
      "_model_module": "@jupyter-widgets/controls",
      "_model_module_version": "1.5.0",
      "_model_name": "HTMLModel",
      "_view_count": null,
      "_view_module": "@jupyter-widgets/controls",
      "_view_module_version": "1.5.0",
      "_view_name": "HTMLView",
      "description": "",
      "description_tooltip": null,
      "layout": "IPY_MODEL_55311c09b1c24a609db9b8519abe6936",
      "placeholder": "​",
      "style": "IPY_MODEL_f052f91e7617448585c0cbc3a85ee982",
      "value": " 718k/718k [00:00&lt;00:00, 2.38MB/s]"
     }
    },
    "63e4de26287d41bab56c9bc450d335c4": {
     "model_module": "@jupyter-widgets/base",
     "model_module_version": "1.2.0",
     "model_name": "LayoutModel",
     "state": {
      "_model_module": "@jupyter-widgets/base",
      "_model_module_version": "1.2.0",
      "_model_name": "LayoutModel",
      "_view_count": null,
      "_view_module": "@jupyter-widgets/base",
      "_view_module_version": "1.2.0",
      "_view_name": "LayoutView",
      "align_content": null,
      "align_items": null,
      "align_self": null,
      "border": null,
      "bottom": null,
      "display": null,
      "flex": null,
      "flex_flow": null,
      "grid_area": null,
      "grid_auto_columns": null,
      "grid_auto_flow": null,
      "grid_auto_rows": null,
      "grid_column": null,
      "grid_gap": null,
      "grid_row": null,
      "grid_template_areas": null,
      "grid_template_columns": null,
      "grid_template_rows": null,
      "height": null,
      "justify_content": null,
      "justify_items": null,
      "left": null,
      "margin": null,
      "max_height": null,
      "max_width": null,
      "min_height": null,
      "min_width": null,
      "object_fit": null,
      "object_position": null,
      "order": null,
      "overflow": null,
      "overflow_x": null,
      "overflow_y": null,
      "padding": null,
      "right": null,
      "top": null,
      "visibility": null,
      "width": null
     }
    },
    "642896f0cd184c8c811b96aaef36127e": {
     "model_module": "@jupyter-widgets/controls",
     "model_module_version": "1.5.0",
     "model_name": "HBoxModel",
     "state": {
      "_dom_classes": [],
      "_model_module": "@jupyter-widgets/controls",
      "_model_module_version": "1.5.0",
      "_model_name": "HBoxModel",
      "_view_count": null,
      "_view_module": "@jupyter-widgets/controls",
      "_view_module_version": "1.5.0",
      "_view_name": "HBoxView",
      "box_style": "",
      "children": [
       "IPY_MODEL_23329e2d1c0343b4bcc37235becfa795",
       "IPY_MODEL_60280973eec9499ab5da5d8e5393d780",
       "IPY_MODEL_892b648549754044aef99d79e161dbf4"
      ],
      "layout": "IPY_MODEL_caed4a92df8a4a9e8441439ed7d7fd39"
     }
    },
    "64acf37a070d4c8896232126026efec6": {
     "model_module": "@jupyter-widgets/controls",
     "model_module_version": "1.5.0",
     "model_name": "HTMLModel",
     "state": {
      "_dom_classes": [],
      "_model_module": "@jupyter-widgets/controls",
      "_model_module_version": "1.5.0",
      "_model_name": "HTMLModel",
      "_view_count": null,
      "_view_module": "@jupyter-widgets/controls",
      "_view_module_version": "1.5.0",
      "_view_name": "HTMLView",
      "description": "",
      "description_tooltip": null,
      "layout": "IPY_MODEL_b85a7e62a4e54433bb63b7375367bfbb",
      "placeholder": "​",
      "style": "IPY_MODEL_020e633b201b4149926032aa47622277",
      "value": " 20.5M/20.5M [00:00&lt;00:00, 31.8MB/s]"
     }
    },
    "67b321b9f9e347b78e6558885e373d1b": {
     "model_module": "@jupyter-widgets/controls",
     "model_module_version": "1.5.0",
     "model_name": "DescriptionStyleModel",
     "state": {
      "_model_module": "@jupyter-widgets/controls",
      "_model_module_version": "1.5.0",
      "_model_name": "DescriptionStyleModel",
      "_view_count": null,
      "_view_module": "@jupyter-widgets/base",
      "_view_module_version": "1.2.0",
      "_view_name": "StyleView",
      "description_width": ""
     }
    },
    "683fec4943fb421d9e3fe557dc31e72c": {
     "model_module": "@jupyter-widgets/controls",
     "model_module_version": "1.5.0",
     "model_name": "HBoxModel",
     "state": {
      "_dom_classes": [],
      "_model_module": "@jupyter-widgets/controls",
      "_model_module_version": "1.5.0",
      "_model_name": "HBoxModel",
      "_view_count": null,
      "_view_module": "@jupyter-widgets/controls",
      "_view_module_version": "1.5.0",
      "_view_name": "HBoxView",
      "box_style": "",
      "children": [
       "IPY_MODEL_0538b04b31ee4481ae5e2d7cd9827ddd",
       "IPY_MODEL_0df5607959d6411e8205e4875725dc8f",
       "IPY_MODEL_2220f42bd9ce4bd1a7df673f92e89e5d"
      ],
      "layout": "IPY_MODEL_e7ced1329f384b7eb15e9a6b72f6c552"
     }
    },
    "68bb6dabed6f4324b635d3f5ac05c5d6": {
     "model_module": "@jupyter-widgets/controls",
     "model_module_version": "1.5.0",
     "model_name": "ProgressStyleModel",
     "state": {
      "_model_module": "@jupyter-widgets/controls",
      "_model_module_version": "1.5.0",
      "_model_name": "ProgressStyleModel",
      "_view_count": null,
      "_view_module": "@jupyter-widgets/base",
      "_view_module_version": "1.2.0",
      "_view_name": "StyleView",
      "bar_color": null,
      "description_width": ""
     }
    },
    "69074abbf98743b4a46b36b72c097fa1": {
     "model_module": "@jupyter-widgets/controls",
     "model_module_version": "1.5.0",
     "model_name": "DescriptionStyleModel",
     "state": {
      "_model_module": "@jupyter-widgets/controls",
      "_model_module_version": "1.5.0",
      "_model_name": "DescriptionStyleModel",
      "_view_count": null,
      "_view_module": "@jupyter-widgets/base",
      "_view_module_version": "1.2.0",
      "_view_name": "StyleView",
      "description_width": ""
     }
    },
    "6a2a631a73214e74b6eda5b5be798ebd": {
     "model_module": "@jupyter-widgets/base",
     "model_module_version": "1.2.0",
     "model_name": "LayoutModel",
     "state": {
      "_model_module": "@jupyter-widgets/base",
      "_model_module_version": "1.2.0",
      "_model_name": "LayoutModel",
      "_view_count": null,
      "_view_module": "@jupyter-widgets/base",
      "_view_module_version": "1.2.0",
      "_view_name": "LayoutView",
      "align_content": null,
      "align_items": null,
      "align_self": null,
      "border": null,
      "bottom": null,
      "display": null,
      "flex": null,
      "flex_flow": null,
      "grid_area": null,
      "grid_auto_columns": null,
      "grid_auto_flow": null,
      "grid_auto_rows": null,
      "grid_column": null,
      "grid_gap": null,
      "grid_row": null,
      "grid_template_areas": null,
      "grid_template_columns": null,
      "grid_template_rows": null,
      "height": null,
      "justify_content": null,
      "justify_items": null,
      "left": null,
      "margin": null,
      "max_height": null,
      "max_width": null,
      "min_height": null,
      "min_width": null,
      "object_fit": null,
      "object_position": null,
      "order": null,
      "overflow": null,
      "overflow_x": null,
      "overflow_y": null,
      "padding": null,
      "right": null,
      "top": null,
      "visibility": null,
      "width": null
     }
    },
    "6a94700d24a04515861280520c8fa01b": {
     "model_module": "@jupyter-widgets/base",
     "model_module_version": "1.2.0",
     "model_name": "LayoutModel",
     "state": {
      "_model_module": "@jupyter-widgets/base",
      "_model_module_version": "1.2.0",
      "_model_name": "LayoutModel",
      "_view_count": null,
      "_view_module": "@jupyter-widgets/base",
      "_view_module_version": "1.2.0",
      "_view_name": "LayoutView",
      "align_content": null,
      "align_items": null,
      "align_self": null,
      "border": null,
      "bottom": null,
      "display": null,
      "flex": null,
      "flex_flow": null,
      "grid_area": null,
      "grid_auto_columns": null,
      "grid_auto_flow": null,
      "grid_auto_rows": null,
      "grid_column": null,
      "grid_gap": null,
      "grid_row": null,
      "grid_template_areas": null,
      "grid_template_columns": null,
      "grid_template_rows": null,
      "height": null,
      "justify_content": null,
      "justify_items": null,
      "left": null,
      "margin": null,
      "max_height": null,
      "max_width": null,
      "min_height": null,
      "min_width": null,
      "object_fit": null,
      "object_position": null,
      "order": null,
      "overflow": null,
      "overflow_x": null,
      "overflow_y": null,
      "padding": null,
      "right": null,
      "top": null,
      "visibility": null,
      "width": null
     }
    },
    "6ae282f339a34dae9dbd5979da2364f5": {
     "model_module": "@jupyter-widgets/base",
     "model_module_version": "1.2.0",
     "model_name": "LayoutModel",
     "state": {
      "_model_module": "@jupyter-widgets/base",
      "_model_module_version": "1.2.0",
      "_model_name": "LayoutModel",
      "_view_count": null,
      "_view_module": "@jupyter-widgets/base",
      "_view_module_version": "1.2.0",
      "_view_name": "LayoutView",
      "align_content": null,
      "align_items": null,
      "align_self": null,
      "border": null,
      "bottom": null,
      "display": null,
      "flex": null,
      "flex_flow": null,
      "grid_area": null,
      "grid_auto_columns": null,
      "grid_auto_flow": null,
      "grid_auto_rows": null,
      "grid_column": null,
      "grid_gap": null,
      "grid_row": null,
      "grid_template_areas": null,
      "grid_template_columns": null,
      "grid_template_rows": null,
      "height": null,
      "justify_content": null,
      "justify_items": null,
      "left": null,
      "margin": null,
      "max_height": null,
      "max_width": null,
      "min_height": null,
      "min_width": null,
      "object_fit": null,
      "object_position": null,
      "order": null,
      "overflow": null,
      "overflow_x": null,
      "overflow_y": null,
      "padding": null,
      "right": null,
      "top": null,
      "visibility": null,
      "width": null
     }
    },
    "6bbc78cd9469477894ce23651ef02036": {
     "model_module": "@jupyter-widgets/controls",
     "model_module_version": "1.5.0",
     "model_name": "FloatProgressModel",
     "state": {
      "_dom_classes": [],
      "_model_module": "@jupyter-widgets/controls",
      "_model_module_version": "1.5.0",
      "_model_name": "FloatProgressModel",
      "_view_count": null,
      "_view_module": "@jupyter-widgets/controls",
      "_view_module_version": "1.5.0",
      "_view_name": "ProgressView",
      "bar_style": "success",
      "description": "",
      "description_tooltip": null,
      "layout": "IPY_MODEL_1e24dd9a50c54da198a2c7dba2681762",
      "max": 47208,
      "min": 0,
      "orientation": "horizontal",
      "style": "IPY_MODEL_4f76f7409c6a4a088150495b71fed97f",
      "value": 47208
     }
    },
    "6c2eef4fba144ae99bb53be7acd7d35a": {
     "model_module": "@jupyter-widgets/controls",
     "model_module_version": "1.5.0",
     "model_name": "HBoxModel",
     "state": {
      "_dom_classes": [],
      "_model_module": "@jupyter-widgets/controls",
      "_model_module_version": "1.5.0",
      "_model_name": "HBoxModel",
      "_view_count": null,
      "_view_module": "@jupyter-widgets/controls",
      "_view_module_version": "1.5.0",
      "_view_name": "HBoxView",
      "box_style": "",
      "children": [
       "IPY_MODEL_4026f57db9584a5e9e1b67cf68d16e83",
       "IPY_MODEL_6f8636f8608a41db8a221c78be8b147b",
       "IPY_MODEL_4910c3e9ad964bdca5af81b09a91397a"
      ],
      "layout": "IPY_MODEL_2cf4c946ea654b9d92d7175179e45df5"
     }
    },
    "6cdfea967b7c40639eced00d390188a1": {
     "model_module": "@jupyter-widgets/controls",
     "model_module_version": "1.5.0",
     "model_name": "FloatProgressModel",
     "state": {
      "_dom_classes": [],
      "_model_module": "@jupyter-widgets/controls",
      "_model_module_version": "1.5.0",
      "_model_name": "FloatProgressModel",
      "_view_count": null,
      "_view_module": "@jupyter-widgets/controls",
      "_view_module_version": "1.5.0",
      "_view_name": "ProgressView",
      "bar_style": "success",
      "description": "",
      "description_tooltip": null,
      "layout": "IPY_MODEL_22dcefb8c0f34d30aee9f83d12152fb1",
      "max": 20519089,
      "min": 0,
      "orientation": "horizontal",
      "style": "IPY_MODEL_30a0d8571f66484c959fa3786ab69592",
      "value": 20519089
     }
    },
    "6ceb4c6a992a41b98a3d35bbf14e4037": {
     "model_module": "@jupyter-widgets/controls",
     "model_module_version": "1.5.0",
     "model_name": "FloatProgressModel",
     "state": {
      "_dom_classes": [],
      "_model_module": "@jupyter-widgets/controls",
      "_model_module_version": "1.5.0",
      "_model_name": "FloatProgressModel",
      "_view_count": null,
      "_view_module": "@jupyter-widgets/controls",
      "_view_module_version": "1.5.0",
      "_view_name": "ProgressView",
      "bar_style": "success",
      "description": "",
      "description_tooltip": null,
      "layout": "IPY_MODEL_6221ac70f3e145faa3dbd441bccb9ddc",
      "max": 107536386,
      "min": 0,
      "orientation": "horizontal",
      "style": "IPY_MODEL_2dfb8e1c0ee9425a850cac6a13d5c2ea",
      "value": 107536386
     }
    },
    "6dbd0a1ee9b04595a562af3bd60e12f7": {
     "model_module": "@jupyter-widgets/base",
     "model_module_version": "1.2.0",
     "model_name": "LayoutModel",
     "state": {
      "_model_module": "@jupyter-widgets/base",
      "_model_module_version": "1.2.0",
      "_model_name": "LayoutModel",
      "_view_count": null,
      "_view_module": "@jupyter-widgets/base",
      "_view_module_version": "1.2.0",
      "_view_name": "LayoutView",
      "align_content": null,
      "align_items": null,
      "align_self": null,
      "border": null,
      "bottom": null,
      "display": null,
      "flex": null,
      "flex_flow": null,
      "grid_area": null,
      "grid_auto_columns": null,
      "grid_auto_flow": null,
      "grid_auto_rows": null,
      "grid_column": null,
      "grid_gap": null,
      "grid_row": null,
      "grid_template_areas": null,
      "grid_template_columns": null,
      "grid_template_rows": null,
      "height": null,
      "justify_content": null,
      "justify_items": null,
      "left": null,
      "margin": null,
      "max_height": null,
      "max_width": null,
      "min_height": null,
      "min_width": null,
      "object_fit": null,
      "object_position": null,
      "order": null,
      "overflow": null,
      "overflow_x": null,
      "overflow_y": null,
      "padding": null,
      "right": null,
      "top": null,
      "visibility": null,
      "width": null
     }
    },
    "6e18c667fee740fc9596f63aa2943901": {
     "model_module": "@jupyter-widgets/base",
     "model_module_version": "1.2.0",
     "model_name": "LayoutModel",
     "state": {
      "_model_module": "@jupyter-widgets/base",
      "_model_module_version": "1.2.0",
      "_model_name": "LayoutModel",
      "_view_count": null,
      "_view_module": "@jupyter-widgets/base",
      "_view_module_version": "1.2.0",
      "_view_name": "LayoutView",
      "align_content": null,
      "align_items": null,
      "align_self": null,
      "border": null,
      "bottom": null,
      "display": null,
      "flex": null,
      "flex_flow": null,
      "grid_area": null,
      "grid_auto_columns": null,
      "grid_auto_flow": null,
      "grid_auto_rows": null,
      "grid_column": null,
      "grid_gap": null,
      "grid_row": null,
      "grid_template_areas": null,
      "grid_template_columns": null,
      "grid_template_rows": null,
      "height": null,
      "justify_content": null,
      "justify_items": null,
      "left": null,
      "margin": null,
      "max_height": null,
      "max_width": null,
      "min_height": null,
      "min_width": null,
      "object_fit": null,
      "object_position": null,
      "order": null,
      "overflow": null,
      "overflow_x": null,
      "overflow_y": null,
      "padding": null,
      "right": null,
      "top": null,
      "visibility": null,
      "width": null
     }
    },
    "6ebf4197888e4a75b411de95224496e1": {
     "model_module": "@jupyter-widgets/base",
     "model_module_version": "1.2.0",
     "model_name": "LayoutModel",
     "state": {
      "_model_module": "@jupyter-widgets/base",
      "_model_module_version": "1.2.0",
      "_model_name": "LayoutModel",
      "_view_count": null,
      "_view_module": "@jupyter-widgets/base",
      "_view_module_version": "1.2.0",
      "_view_name": "LayoutView",
      "align_content": null,
      "align_items": null,
      "align_self": null,
      "border": null,
      "bottom": null,
      "display": null,
      "flex": null,
      "flex_flow": null,
      "grid_area": null,
      "grid_auto_columns": null,
      "grid_auto_flow": null,
      "grid_auto_rows": null,
      "grid_column": null,
      "grid_gap": null,
      "grid_row": null,
      "grid_template_areas": null,
      "grid_template_columns": null,
      "grid_template_rows": null,
      "height": null,
      "justify_content": null,
      "justify_items": null,
      "left": null,
      "margin": null,
      "max_height": null,
      "max_width": null,
      "min_height": null,
      "min_width": null,
      "object_fit": null,
      "object_position": null,
      "order": null,
      "overflow": null,
      "overflow_x": null,
      "overflow_y": null,
      "padding": null,
      "right": null,
      "top": null,
      "visibility": null,
      "width": null
     }
    },
    "6f01db8577784e608da737837d6c05b8": {
     "model_module": "@jupyter-widgets/base",
     "model_module_version": "1.2.0",
     "model_name": "LayoutModel",
     "state": {
      "_model_module": "@jupyter-widgets/base",
      "_model_module_version": "1.2.0",
      "_model_name": "LayoutModel",
      "_view_count": null,
      "_view_module": "@jupyter-widgets/base",
      "_view_module_version": "1.2.0",
      "_view_name": "LayoutView",
      "align_content": null,
      "align_items": null,
      "align_self": null,
      "border": null,
      "bottom": null,
      "display": null,
      "flex": null,
      "flex_flow": null,
      "grid_area": null,
      "grid_auto_columns": null,
      "grid_auto_flow": null,
      "grid_auto_rows": null,
      "grid_column": null,
      "grid_gap": null,
      "grid_row": null,
      "grid_template_areas": null,
      "grid_template_columns": null,
      "grid_template_rows": null,
      "height": null,
      "justify_content": null,
      "justify_items": null,
      "left": null,
      "margin": null,
      "max_height": null,
      "max_width": null,
      "min_height": null,
      "min_width": null,
      "object_fit": null,
      "object_position": null,
      "order": null,
      "overflow": null,
      "overflow_x": null,
      "overflow_y": null,
      "padding": null,
      "right": null,
      "top": null,
      "visibility": null,
      "width": null
     }
    },
    "6f8636f8608a41db8a221c78be8b147b": {
     "model_module": "@jupyter-widgets/controls",
     "model_module_version": "1.5.0",
     "model_name": "FloatProgressModel",
     "state": {
      "_dom_classes": [],
      "_model_module": "@jupyter-widgets/controls",
      "_model_module_version": "1.5.0",
      "_model_name": "FloatProgressModel",
      "_view_count": null,
      "_view_module": "@jupyter-widgets/controls",
      "_view_module_version": "1.5.0",
      "_view_name": "ProgressView",
      "bar_style": "success",
      "description": "",
      "description_tooltip": null,
      "layout": "IPY_MODEL_80220ac03a3043bdbaeb12c1ab27f48a",
      "max": 133879882,
      "min": 0,
      "orientation": "horizontal",
      "style": "IPY_MODEL_52dec2eb9cc341679a2b2b2450664016",
      "value": 133879882
     }
    },
    "701a3c72164b441a9afd68577b7229a9": {
     "model_module": "@jupyter-widgets/controls",
     "model_module_version": "1.5.0",
     "model_name": "HTMLModel",
     "state": {
      "_dom_classes": [],
      "_model_module": "@jupyter-widgets/controls",
      "_model_module_version": "1.5.0",
      "_model_name": "HTMLModel",
      "_view_count": null,
      "_view_module": "@jupyter-widgets/controls",
      "_view_module_version": "1.5.0",
      "_view_name": "HTMLView",
      "description": "",
      "description_tooltip": null,
      "layout": "IPY_MODEL_fa027a59df234de087895e977cfca5df",
      "placeholder": "​",
      "style": "IPY_MODEL_08a110acb39244c181906269b836d782",
      "value": "Downloading https://huggingface.co/stanfordnlp/stanza-fa/resolve/v1.8.0/models/pretrain/conll17.pt: 100%"
     }
    },
    "7153b18253a44bf3afc299ad7e4bdb61": {
     "model_module": "@jupyter-widgets/controls",
     "model_module_version": "1.5.0",
     "model_name": "HBoxModel",
     "state": {
      "_dom_classes": [],
      "_model_module": "@jupyter-widgets/controls",
      "_model_module_version": "1.5.0",
      "_model_name": "HBoxModel",
      "_view_count": null,
      "_view_module": "@jupyter-widgets/controls",
      "_view_module_version": "1.5.0",
      "_view_name": "HBoxView",
      "box_style": "",
      "children": [
       "IPY_MODEL_a10a097e4a4a4d6481abc1aa6891f25a",
       "IPY_MODEL_6cdfea967b7c40639eced00d390188a1",
       "IPY_MODEL_87fabbeb567c4e388be473a6ee4d5f5b"
      ],
      "layout": "IPY_MODEL_d00b8b2bc2ff46c184470d54da47fe44"
     }
    },
    "71909c45ea2f4d8bab4c7cb351f4326d": {
     "model_module": "@jupyter-widgets/controls",
     "model_module_version": "1.5.0",
     "model_name": "HTMLModel",
     "state": {
      "_dom_classes": [],
      "_model_module": "@jupyter-widgets/controls",
      "_model_module_version": "1.5.0",
      "_model_name": "HTMLModel",
      "_view_count": null,
      "_view_module": "@jupyter-widgets/controls",
      "_view_module_version": "1.5.0",
      "_view_name": "HTMLView",
      "description": "",
      "description_tooltip": null,
      "layout": "IPY_MODEL_f75e5453b06d49b48540de330b015145",
      "placeholder": "​",
      "style": "IPY_MODEL_fd49fe92e75d4764ad667c0772f0b947",
      "value": "Downloading https://huggingface.co/stanfordnlp/stanza-fa/resolve/v1.8.0/models/ner/arman.pt: 100%"
     }
    },
    "74263aa637114076b92beedf7bc5a686": {
     "model_module": "@jupyter-widgets/controls",
     "model_module_version": "1.5.0",
     "model_name": "HTMLModel",
     "state": {
      "_dom_classes": [],
      "_model_module": "@jupyter-widgets/controls",
      "_model_module_version": "1.5.0",
      "_model_name": "HTMLModel",
      "_view_count": null,
      "_view_module": "@jupyter-widgets/controls",
      "_view_module_version": "1.5.0",
      "_view_name": "HTMLView",
      "description": "",
      "description_tooltip": null,
      "layout": "IPY_MODEL_a57782b058574d118bf823e6de5ab6c8",
      "placeholder": "​",
      "style": "IPY_MODEL_d4c4fd810bc84fc99dde3e63d9260522",
      "value": " 20.5M/20.5M [00:03&lt;00:00, 12.0MB/s]"
     }
    },
    "7457d1e1258e4b238917c9a50659f80f": {
     "model_module": "@jupyter-widgets/controls",
     "model_module_version": "1.5.0",
     "model_name": "HBoxModel",
     "state": {
      "_dom_classes": [],
      "_model_module": "@jupyter-widgets/controls",
      "_model_module_version": "1.5.0",
      "_model_name": "HBoxModel",
      "_view_count": null,
      "_view_module": "@jupyter-widgets/controls",
      "_view_module_version": "1.5.0",
      "_view_name": "HBoxView",
      "box_style": "",
      "children": [
       "IPY_MODEL_3cc7d2d7f2eb4bfbb4bc2c757f920b18",
       "IPY_MODEL_364c6407124a44b589fae0029c370035",
       "IPY_MODEL_108cb5c499524199af346eba62fcc1f6"
      ],
      "layout": "IPY_MODEL_aff2a4da256d4d7c8faf5471f393ed49"
     }
    },
    "75914e57e68641d4b5e55910b99c2ecf": {
     "model_module": "@jupyter-widgets/base",
     "model_module_version": "1.2.0",
     "model_name": "LayoutModel",
     "state": {
      "_model_module": "@jupyter-widgets/base",
      "_model_module_version": "1.2.0",
      "_model_name": "LayoutModel",
      "_view_count": null,
      "_view_module": "@jupyter-widgets/base",
      "_view_module_version": "1.2.0",
      "_view_name": "LayoutView",
      "align_content": null,
      "align_items": null,
      "align_self": null,
      "border": null,
      "bottom": null,
      "display": null,
      "flex": null,
      "flex_flow": null,
      "grid_area": null,
      "grid_auto_columns": null,
      "grid_auto_flow": null,
      "grid_auto_rows": null,
      "grid_column": null,
      "grid_gap": null,
      "grid_row": null,
      "grid_template_areas": null,
      "grid_template_columns": null,
      "grid_template_rows": null,
      "height": null,
      "justify_content": null,
      "justify_items": null,
      "left": null,
      "margin": null,
      "max_height": null,
      "max_width": null,
      "min_height": null,
      "min_width": null,
      "object_fit": null,
      "object_position": null,
      "order": null,
      "overflow": null,
      "overflow_x": null,
      "overflow_y": null,
      "padding": null,
      "right": null,
      "top": null,
      "visibility": null,
      "width": null
     }
    },
    "75cb63478609461da957b7f3b435daf9": {
     "model_module": "@jupyter-widgets/controls",
     "model_module_version": "1.5.0",
     "model_name": "DescriptionStyleModel",
     "state": {
      "_model_module": "@jupyter-widgets/controls",
      "_model_module_version": "1.5.0",
      "_model_name": "DescriptionStyleModel",
      "_view_count": null,
      "_view_module": "@jupyter-widgets/base",
      "_view_module_version": "1.2.0",
      "_view_name": "StyleView",
      "description_width": ""
     }
    },
    "7656129ec9924271b2ea6e4c7388900a": {
     "model_module": "@jupyter-widgets/controls",
     "model_module_version": "1.5.0",
     "model_name": "DescriptionStyleModel",
     "state": {
      "_model_module": "@jupyter-widgets/controls",
      "_model_module_version": "1.5.0",
      "_model_name": "DescriptionStyleModel",
      "_view_count": null,
      "_view_module": "@jupyter-widgets/base",
      "_view_module_version": "1.2.0",
      "_view_name": "StyleView",
      "description_width": ""
     }
    },
    "769579f81e7b4a29bf4bb11c683d623f": {
     "model_module": "@jupyter-widgets/controls",
     "model_module_version": "1.5.0",
     "model_name": "HTMLModel",
     "state": {
      "_dom_classes": [],
      "_model_module": "@jupyter-widgets/controls",
      "_model_module_version": "1.5.0",
      "_model_name": "HTMLModel",
      "_view_count": null,
      "_view_module": "@jupyter-widgets/controls",
      "_view_module_version": "1.5.0",
      "_view_name": "HTMLView",
      "description": "",
      "description_tooltip": null,
      "layout": "IPY_MODEL_091a91ab95b849cc9f1e43ef08700b45",
      "placeholder": "​",
      "style": "IPY_MODEL_839be1b5b0a54487bccccabdf531a723",
      "value": " 50.0M/50.0M [00:01&lt;00:00, 52.2MB/s]"
     }
    },
    "770080f6154b4054a3ae1115d391d220": {
     "model_module": "@jupyter-widgets/base",
     "model_module_version": "1.2.0",
     "model_name": "LayoutModel",
     "state": {
      "_model_module": "@jupyter-widgets/base",
      "_model_module_version": "1.2.0",
      "_model_name": "LayoutModel",
      "_view_count": null,
      "_view_module": "@jupyter-widgets/base",
      "_view_module_version": "1.2.0",
      "_view_name": "LayoutView",
      "align_content": null,
      "align_items": null,
      "align_self": null,
      "border": null,
      "bottom": null,
      "display": null,
      "flex": null,
      "flex_flow": null,
      "grid_area": null,
      "grid_auto_columns": null,
      "grid_auto_flow": null,
      "grid_auto_rows": null,
      "grid_column": null,
      "grid_gap": null,
      "grid_row": null,
      "grid_template_areas": null,
      "grid_template_columns": null,
      "grid_template_rows": null,
      "height": null,
      "justify_content": null,
      "justify_items": null,
      "left": null,
      "margin": null,
      "max_height": null,
      "max_width": null,
      "min_height": null,
      "min_width": null,
      "object_fit": null,
      "object_position": null,
      "order": null,
      "overflow": null,
      "overflow_x": null,
      "overflow_y": null,
      "padding": null,
      "right": null,
      "top": null,
      "visibility": null,
      "width": null
     }
    },
    "771a0996508d42abb937111a2454d5b7": {
     "model_module": "@jupyter-widgets/controls",
     "model_module_version": "1.5.0",
     "model_name": "HTMLModel",
     "state": {
      "_dom_classes": [],
      "_model_module": "@jupyter-widgets/controls",
      "_model_module_version": "1.5.0",
      "_model_name": "HTMLModel",
      "_view_count": null,
      "_view_module": "@jupyter-widgets/controls",
      "_view_module_version": "1.5.0",
      "_view_name": "HTMLView",
      "description": "",
      "description_tooltip": null,
      "layout": "IPY_MODEL_8a61bff6e139453cab901cf2bff26ae0",
      "placeholder": "​",
      "style": "IPY_MODEL_45303a3e878a4df3a65b0cb19f63146a",
      "value": "Downloading https://huggingface.co/stanfordnlp/stanza-fa/resolve/v1.8.0/models/backward_charlm/conll17.pt: 100%"
     }
    },
    "795fa92a5f244a3f8065ce106ea82ca6": {
     "model_module": "@jupyter-widgets/controls",
     "model_module_version": "1.5.0",
     "model_name": "HBoxModel",
     "state": {
      "_dom_classes": [],
      "_model_module": "@jupyter-widgets/controls",
      "_model_module_version": "1.5.0",
      "_model_name": "HBoxModel",
      "_view_count": null,
      "_view_module": "@jupyter-widgets/controls",
      "_view_module_version": "1.5.0",
      "_view_name": "HBoxView",
      "box_style": "",
      "children": [
       "IPY_MODEL_771a0996508d42abb937111a2454d5b7",
       "IPY_MODEL_1db30c3983c44f2e835ba0ea3c71a50c",
       "IPY_MODEL_74263aa637114076b92beedf7bc5a686"
      ],
      "layout": "IPY_MODEL_cfb3c5a245a14995937240f4f77e976a"
     }
    },
    "79620aaa9bf64fd7be0438d63513f293": {
     "model_module": "@jupyter-widgets/base",
     "model_module_version": "1.2.0",
     "model_name": "LayoutModel",
     "state": {
      "_model_module": "@jupyter-widgets/base",
      "_model_module_version": "1.2.0",
      "_model_name": "LayoutModel",
      "_view_count": null,
      "_view_module": "@jupyter-widgets/base",
      "_view_module_version": "1.2.0",
      "_view_name": "LayoutView",
      "align_content": null,
      "align_items": null,
      "align_self": null,
      "border": null,
      "bottom": null,
      "display": null,
      "flex": null,
      "flex_flow": null,
      "grid_area": null,
      "grid_auto_columns": null,
      "grid_auto_flow": null,
      "grid_auto_rows": null,
      "grid_column": null,
      "grid_gap": null,
      "grid_row": null,
      "grid_template_areas": null,
      "grid_template_columns": null,
      "grid_template_rows": null,
      "height": null,
      "justify_content": null,
      "justify_items": null,
      "left": null,
      "margin": null,
      "max_height": null,
      "max_width": null,
      "min_height": null,
      "min_width": null,
      "object_fit": null,
      "object_position": null,
      "order": null,
      "overflow": null,
      "overflow_x": null,
      "overflow_y": null,
      "padding": null,
      "right": null,
      "top": null,
      "visibility": null,
      "width": null
     }
    },
    "7afb2999724e41428d2779a676fab3f9": {
     "model_module": "@jupyter-widgets/controls",
     "model_module_version": "1.5.0",
     "model_name": "DescriptionStyleModel",
     "state": {
      "_model_module": "@jupyter-widgets/controls",
      "_model_module_version": "1.5.0",
      "_model_name": "DescriptionStyleModel",
      "_view_count": null,
      "_view_module": "@jupyter-widgets/base",
      "_view_module_version": "1.2.0",
      "_view_name": "StyleView",
      "description_width": ""
     }
    },
    "7b6a4eeaa1354be7bfe7fbadba4c9d39": {
     "model_module": "@jupyter-widgets/base",
     "model_module_version": "1.2.0",
     "model_name": "LayoutModel",
     "state": {
      "_model_module": "@jupyter-widgets/base",
      "_model_module_version": "1.2.0",
      "_model_name": "LayoutModel",
      "_view_count": null,
      "_view_module": "@jupyter-widgets/base",
      "_view_module_version": "1.2.0",
      "_view_name": "LayoutView",
      "align_content": null,
      "align_items": null,
      "align_self": null,
      "border": null,
      "bottom": null,
      "display": null,
      "flex": null,
      "flex_flow": null,
      "grid_area": null,
      "grid_auto_columns": null,
      "grid_auto_flow": null,
      "grid_auto_rows": null,
      "grid_column": null,
      "grid_gap": null,
      "grid_row": null,
      "grid_template_areas": null,
      "grid_template_columns": null,
      "grid_template_rows": null,
      "height": null,
      "justify_content": null,
      "justify_items": null,
      "left": null,
      "margin": null,
      "max_height": null,
      "max_width": null,
      "min_height": null,
      "min_width": null,
      "object_fit": null,
      "object_position": null,
      "order": null,
      "overflow": null,
      "overflow_x": null,
      "overflow_y": null,
      "padding": null,
      "right": null,
      "top": null,
      "visibility": null,
      "width": null
     }
    },
    "7e10bca13c284cc1bfe1937d60757129": {
     "model_module": "@jupyter-widgets/base",
     "model_module_version": "1.2.0",
     "model_name": "LayoutModel",
     "state": {
      "_model_module": "@jupyter-widgets/base",
      "_model_module_version": "1.2.0",
      "_model_name": "LayoutModel",
      "_view_count": null,
      "_view_module": "@jupyter-widgets/base",
      "_view_module_version": "1.2.0",
      "_view_name": "LayoutView",
      "align_content": null,
      "align_items": null,
      "align_self": null,
      "border": null,
      "bottom": null,
      "display": null,
      "flex": null,
      "flex_flow": null,
      "grid_area": null,
      "grid_auto_columns": null,
      "grid_auto_flow": null,
      "grid_auto_rows": null,
      "grid_column": null,
      "grid_gap": null,
      "grid_row": null,
      "grid_template_areas": null,
      "grid_template_columns": null,
      "grid_template_rows": null,
      "height": null,
      "justify_content": null,
      "justify_items": null,
      "left": null,
      "margin": null,
      "max_height": null,
      "max_width": null,
      "min_height": null,
      "min_width": null,
      "object_fit": null,
      "object_position": null,
      "order": null,
      "overflow": null,
      "overflow_x": null,
      "overflow_y": null,
      "padding": null,
      "right": null,
      "top": null,
      "visibility": null,
      "width": null
     }
    },
    "7ec1446c32ed4ad5b2130688e9e85c0f": {
     "model_module": "@jupyter-widgets/controls",
     "model_module_version": "1.5.0",
     "model_name": "HBoxModel",
     "state": {
      "_dom_classes": [],
      "_model_module": "@jupyter-widgets/controls",
      "_model_module_version": "1.5.0",
      "_model_name": "HBoxModel",
      "_view_count": null,
      "_view_module": "@jupyter-widgets/controls",
      "_view_module_version": "1.5.0",
      "_view_name": "HBoxView",
      "box_style": "",
      "children": [
       "IPY_MODEL_35487315f9dc478a9cb1db90e9ada049",
       "IPY_MODEL_efc6d650203c4870b4de550b32505fda",
       "IPY_MODEL_44383c45a6da4f628ea7b129de0cca5d"
      ],
      "layout": "IPY_MODEL_a015300f3769443cb7b4868797751723"
     }
    },
    "8014fc325cdc4b9cb2b9ee405ba30a1a": {
     "model_module": "@jupyter-widgets/controls",
     "model_module_version": "1.5.0",
     "model_name": "DescriptionStyleModel",
     "state": {
      "_model_module": "@jupyter-widgets/controls",
      "_model_module_version": "1.5.0",
      "_model_name": "DescriptionStyleModel",
      "_view_count": null,
      "_view_module": "@jupyter-widgets/base",
      "_view_module_version": "1.2.0",
      "_view_name": "StyleView",
      "description_width": ""
     }
    },
    "80220ac03a3043bdbaeb12c1ab27f48a": {
     "model_module": "@jupyter-widgets/base",
     "model_module_version": "1.2.0",
     "model_name": "LayoutModel",
     "state": {
      "_model_module": "@jupyter-widgets/base",
      "_model_module_version": "1.2.0",
      "_model_name": "LayoutModel",
      "_view_count": null,
      "_view_module": "@jupyter-widgets/base",
      "_view_module_version": "1.2.0",
      "_view_name": "LayoutView",
      "align_content": null,
      "align_items": null,
      "align_self": null,
      "border": null,
      "bottom": null,
      "display": null,
      "flex": null,
      "flex_flow": null,
      "grid_area": null,
      "grid_auto_columns": null,
      "grid_auto_flow": null,
      "grid_auto_rows": null,
      "grid_column": null,
      "grid_gap": null,
      "grid_row": null,
      "grid_template_areas": null,
      "grid_template_columns": null,
      "grid_template_rows": null,
      "height": null,
      "justify_content": null,
      "justify_items": null,
      "left": null,
      "margin": null,
      "max_height": null,
      "max_width": null,
      "min_height": null,
      "min_width": null,
      "object_fit": null,
      "object_position": null,
      "order": null,
      "overflow": null,
      "overflow_x": null,
      "overflow_y": null,
      "padding": null,
      "right": null,
      "top": null,
      "visibility": null,
      "width": null
     }
    },
    "803f3bfc05804f1abb4569acd4e1fc34": {
     "model_module": "@jupyter-widgets/controls",
     "model_module_version": "1.5.0",
     "model_name": "FloatProgressModel",
     "state": {
      "_dom_classes": [],
      "_model_module": "@jupyter-widgets/controls",
      "_model_module_version": "1.5.0",
      "_model_name": "FloatProgressModel",
      "_view_count": null,
      "_view_module": "@jupyter-widgets/controls",
      "_view_module_version": "1.5.0",
      "_view_name": "ProgressView",
      "bar_style": "success",
      "description": "",
      "description_tooltip": null,
      "layout": "IPY_MODEL_4e732e670df1410f9203f5aaba78b185",
      "max": 47208,
      "min": 0,
      "orientation": "horizontal",
      "style": "IPY_MODEL_432317ce60f74d1ab18bec244e32b0cd",
      "value": 47208
     }
    },
    "81f51c9bbe264e0d9b900be4cebe90d8": {
     "model_module": "@jupyter-widgets/controls",
     "model_module_version": "1.5.0",
     "model_name": "ProgressStyleModel",
     "state": {
      "_model_module": "@jupyter-widgets/controls",
      "_model_module_version": "1.5.0",
      "_model_name": "ProgressStyleModel",
      "_view_count": null,
      "_view_module": "@jupyter-widgets/base",
      "_view_module_version": "1.2.0",
      "_view_name": "StyleView",
      "bar_color": null,
      "description_width": ""
     }
    },
    "8241c523718847e7a2e4b1ff47808ad9": {
     "model_module": "@jupyter-widgets/controls",
     "model_module_version": "1.5.0",
     "model_name": "DescriptionStyleModel",
     "state": {
      "_model_module": "@jupyter-widgets/controls",
      "_model_module_version": "1.5.0",
      "_model_name": "DescriptionStyleModel",
      "_view_count": null,
      "_view_module": "@jupyter-widgets/base",
      "_view_module_version": "1.2.0",
      "_view_name": "StyleView",
      "description_width": ""
     }
    },
    "82602524cdd84e7dbe20fc7c0991fea9": {
     "model_module": "@jupyter-widgets/controls",
     "model_module_version": "1.5.0",
     "model_name": "ProgressStyleModel",
     "state": {
      "_model_module": "@jupyter-widgets/controls",
      "_model_module_version": "1.5.0",
      "_model_name": "ProgressStyleModel",
      "_view_count": null,
      "_view_module": "@jupyter-widgets/base",
      "_view_module_version": "1.2.0",
      "_view_name": "StyleView",
      "bar_color": null,
      "description_width": ""
     }
    },
    "831f7fb332f04e7a9edc13fb86bf5a16": {
     "model_module": "@jupyter-widgets/controls",
     "model_module_version": "1.5.0",
     "model_name": "HTMLModel",
     "state": {
      "_dom_classes": [],
      "_model_module": "@jupyter-widgets/controls",
      "_model_module_version": "1.5.0",
      "_model_name": "HTMLModel",
      "_view_count": null,
      "_view_module": "@jupyter-widgets/controls",
      "_view_module_version": "1.5.0",
      "_view_name": "HTMLView",
      "description": "",
      "description_tooltip": null,
      "layout": "IPY_MODEL_43b91645343a4fc5b3328fd0f75eabad",
      "placeholder": "​",
      "style": "IPY_MODEL_8241c523718847e7a2e4b1ff47808ad9",
      "value": "Downloading https://raw.githubusercontent.com/stanfordnlp/stanza-resources/main/resources_1.8.0.json: "
     }
    },
    "83549406416d4e9da2dccaab089e6aa5": {
     "model_module": "@jupyter-widgets/controls",
     "model_module_version": "1.5.0",
     "model_name": "DescriptionStyleModel",
     "state": {
      "_model_module": "@jupyter-widgets/controls",
      "_model_module_version": "1.5.0",
      "_model_name": "DescriptionStyleModel",
      "_view_count": null,
      "_view_module": "@jupyter-widgets/base",
      "_view_module_version": "1.2.0",
      "_view_name": "StyleView",
      "description_width": ""
     }
    },
    "839be1b5b0a54487bccccabdf531a723": {
     "model_module": "@jupyter-widgets/controls",
     "model_module_version": "1.5.0",
     "model_name": "DescriptionStyleModel",
     "state": {
      "_model_module": "@jupyter-widgets/controls",
      "_model_module_version": "1.5.0",
      "_model_name": "DescriptionStyleModel",
      "_view_count": null,
      "_view_module": "@jupyter-widgets/base",
      "_view_module_version": "1.2.0",
      "_view_name": "StyleView",
      "description_width": ""
     }
    },
    "84ae6e961cf44ed995f344cd066e6dbf": {
     "model_module": "@jupyter-widgets/controls",
     "model_module_version": "1.5.0",
     "model_name": "HBoxModel",
     "state": {
      "_dom_classes": [],
      "_model_module": "@jupyter-widgets/controls",
      "_model_module_version": "1.5.0",
      "_model_name": "HBoxModel",
      "_view_count": null,
      "_view_module": "@jupyter-widgets/controls",
      "_view_module_version": "1.5.0",
      "_view_name": "HBoxView",
      "box_style": "",
      "children": [
       "IPY_MODEL_ddc924a471584cfd9ca0a5d39a70796a",
       "IPY_MODEL_6bbc78cd9469477894ce23651ef02036",
       "IPY_MODEL_d5a771b08dad4e49afe7ba1db13ce7a0"
      ],
      "layout": "IPY_MODEL_39661265732242a8be92c5b8306f7377"
     }
    },
    "8543906884494683b7743beb57a03889": {
     "model_module": "@jupyter-widgets/base",
     "model_module_version": "1.2.0",
     "model_name": "LayoutModel",
     "state": {
      "_model_module": "@jupyter-widgets/base",
      "_model_module_version": "1.2.0",
      "_model_name": "LayoutModel",
      "_view_count": null,
      "_view_module": "@jupyter-widgets/base",
      "_view_module_version": "1.2.0",
      "_view_name": "LayoutView",
      "align_content": null,
      "align_items": null,
      "align_self": null,
      "border": null,
      "bottom": null,
      "display": null,
      "flex": null,
      "flex_flow": null,
      "grid_area": null,
      "grid_auto_columns": null,
      "grid_auto_flow": null,
      "grid_auto_rows": null,
      "grid_column": null,
      "grid_gap": null,
      "grid_row": null,
      "grid_template_areas": null,
      "grid_template_columns": null,
      "grid_template_rows": null,
      "height": null,
      "justify_content": null,
      "justify_items": null,
      "left": null,
      "margin": null,
      "max_height": null,
      "max_width": null,
      "min_height": null,
      "min_width": null,
      "object_fit": null,
      "object_position": null,
      "order": null,
      "overflow": null,
      "overflow_x": null,
      "overflow_y": null,
      "padding": null,
      "right": null,
      "top": null,
      "visibility": null,
      "width": null
     }
    },
    "8546d4323b64492f902c12f9cebefa2b": {
     "model_module": "@jupyter-widgets/controls",
     "model_module_version": "1.5.0",
     "model_name": "HBoxModel",
     "state": {
      "_dom_classes": [],
      "_model_module": "@jupyter-widgets/controls",
      "_model_module_version": "1.5.0",
      "_model_name": "HBoxModel",
      "_view_count": null,
      "_view_module": "@jupyter-widgets/controls",
      "_view_module_version": "1.5.0",
      "_view_name": "HBoxView",
      "box_style": "",
      "children": [
       "IPY_MODEL_edde62d8216042278f0edf9189e0cfa3",
       "IPY_MODEL_db17f326e13046bd9209e4a8fb6fa141",
       "IPY_MODEL_88340ff070aa47ec85fcacf40fb29239"
      ],
      "layout": "IPY_MODEL_ea8518516aca42d3a9e7ace60d12fd7e"
     }
    },
    "85a4af05a8624644863664dbdcc9cca3": {
     "model_module": "@jupyter-widgets/base",
     "model_module_version": "1.2.0",
     "model_name": "LayoutModel",
     "state": {
      "_model_module": "@jupyter-widgets/base",
      "_model_module_version": "1.2.0",
      "_model_name": "LayoutModel",
      "_view_count": null,
      "_view_module": "@jupyter-widgets/base",
      "_view_module_version": "1.2.0",
      "_view_name": "LayoutView",
      "align_content": null,
      "align_items": null,
      "align_self": null,
      "border": null,
      "bottom": null,
      "display": null,
      "flex": null,
      "flex_flow": null,
      "grid_area": null,
      "grid_auto_columns": null,
      "grid_auto_flow": null,
      "grid_auto_rows": null,
      "grid_column": null,
      "grid_gap": null,
      "grid_row": null,
      "grid_template_areas": null,
      "grid_template_columns": null,
      "grid_template_rows": null,
      "height": null,
      "justify_content": null,
      "justify_items": null,
      "left": null,
      "margin": null,
      "max_height": null,
      "max_width": null,
      "min_height": null,
      "min_width": null,
      "object_fit": null,
      "object_position": null,
      "order": null,
      "overflow": null,
      "overflow_x": null,
      "overflow_y": null,
      "padding": null,
      "right": null,
      "top": null,
      "visibility": null,
      "width": null
     }
    },
    "869a2e22aff645acb0050a27631a30ac": {
     "model_module": "@jupyter-widgets/controls",
     "model_module_version": "1.5.0",
     "model_name": "FloatProgressModel",
     "state": {
      "_dom_classes": [],
      "_model_module": "@jupyter-widgets/controls",
      "_model_module_version": "1.5.0",
      "_model_name": "FloatProgressModel",
      "_view_count": null,
      "_view_module": "@jupyter-widgets/controls",
      "_view_module_version": "1.5.0",
      "_view_name": "ProgressView",
      "bar_style": "success",
      "description": "",
      "description_tooltip": null,
      "layout": "IPY_MODEL_0f3c6689c7d04cdda80950f0e92b15e1",
      "max": 718378,
      "min": 0,
      "orientation": "horizontal",
      "style": "IPY_MODEL_3a4c9c4ec34b44d894650347918490f4",
      "value": 718378
     }
    },
    "86bc426be66142609fc4714894d06875": {
     "model_module": "@jupyter-widgets/base",
     "model_module_version": "1.2.0",
     "model_name": "LayoutModel",
     "state": {
      "_model_module": "@jupyter-widgets/base",
      "_model_module_version": "1.2.0",
      "_model_name": "LayoutModel",
      "_view_count": null,
      "_view_module": "@jupyter-widgets/base",
      "_view_module_version": "1.2.0",
      "_view_name": "LayoutView",
      "align_content": null,
      "align_items": null,
      "align_self": null,
      "border": null,
      "bottom": null,
      "display": null,
      "flex": null,
      "flex_flow": null,
      "grid_area": null,
      "grid_auto_columns": null,
      "grid_auto_flow": null,
      "grid_auto_rows": null,
      "grid_column": null,
      "grid_gap": null,
      "grid_row": null,
      "grid_template_areas": null,
      "grid_template_columns": null,
      "grid_template_rows": null,
      "height": null,
      "justify_content": null,
      "justify_items": null,
      "left": null,
      "margin": null,
      "max_height": null,
      "max_width": null,
      "min_height": null,
      "min_width": null,
      "object_fit": null,
      "object_position": null,
      "order": null,
      "overflow": null,
      "overflow_x": null,
      "overflow_y": null,
      "padding": null,
      "right": null,
      "top": null,
      "visibility": null,
      "width": null
     }
    },
    "87fabbeb567c4e388be473a6ee4d5f5b": {
     "model_module": "@jupyter-widgets/controls",
     "model_module_version": "1.5.0",
     "model_name": "HTMLModel",
     "state": {
      "_dom_classes": [],
      "_model_module": "@jupyter-widgets/controls",
      "_model_module_version": "1.5.0",
      "_model_name": "HTMLModel",
      "_view_count": null,
      "_view_module": "@jupyter-widgets/controls",
      "_view_module_version": "1.5.0",
      "_view_name": "HTMLView",
      "description": "",
      "description_tooltip": null,
      "layout": "IPY_MODEL_94300a6c89ab40aebb0af41b7074b7e5",
      "placeholder": "​",
      "style": "IPY_MODEL_a2989ae260334af080a93d400f359517",
      "value": " 20.5M/20.5M [00:00&lt;00:00, 86.7MB/s]"
     }
    },
    "88340ff070aa47ec85fcacf40fb29239": {
     "model_module": "@jupyter-widgets/controls",
     "model_module_version": "1.5.0",
     "model_name": "HTMLModel",
     "state": {
      "_dom_classes": [],
      "_model_module": "@jupyter-widgets/controls",
      "_model_module_version": "1.5.0",
      "_model_name": "HTMLModel",
      "_view_count": null,
      "_view_module": "@jupyter-widgets/controls",
      "_view_module_version": "1.5.0",
      "_view_name": "HTMLView",
      "description": "",
      "description_tooltip": null,
      "layout": "IPY_MODEL_770080f6154b4054a3ae1115d391d220",
      "placeholder": "​",
      "style": "IPY_MODEL_8e6a7dc3ac43428d956b1e9f02ddffac",
      "value": " 4.64M/4.64M [00:02&lt;00:00, 3.29MB/s]"
     }
    },
    "88771c956706461bab20e1f68ec2dab0": {
     "model_module": "@jupyter-widgets/controls",
     "model_module_version": "1.5.0",
     "model_name": "HBoxModel",
     "state": {
      "_dom_classes": [],
      "_model_module": "@jupyter-widgets/controls",
      "_model_module_version": "1.5.0",
      "_model_name": "HBoxModel",
      "_view_count": null,
      "_view_module": "@jupyter-widgets/controls",
      "_view_module_version": "1.5.0",
      "_view_name": "HBoxView",
      "box_style": "",
      "children": [
       "IPY_MODEL_eb33622aa84e41dca729d204723b9c40",
       "IPY_MODEL_869a2e22aff645acb0050a27631a30ac",
       "IPY_MODEL_0fe28f2d47a544eaa0991f9e669fe293"
      ],
      "layout": "IPY_MODEL_a8f7e9bdc0414c8988cb9e463f8f5811"
     }
    },
    "8895b1fb875a497a8df705fdfae4c80d": {
     "model_module": "@jupyter-widgets/controls",
     "model_module_version": "1.5.0",
     "model_name": "HTMLModel",
     "state": {
      "_dom_classes": [],
      "_model_module": "@jupyter-widgets/controls",
      "_model_module_version": "1.5.0",
      "_model_name": "HTMLModel",
      "_view_count": null,
      "_view_module": "@jupyter-widgets/controls",
      "_view_module_version": "1.5.0",
      "_view_name": "HTMLView",
      "description": "",
      "description_tooltip": null,
      "layout": "IPY_MODEL_077562ad5d2b42b8b20ca9ba5652752f",
      "placeholder": "​",
      "style": "IPY_MODEL_69074abbf98743b4a46b36b72c097fa1",
      "value": "Downloading https://huggingface.co/stanfordnlp/stanza-fa/resolve/v1.8.0/models/pretrain/conll17.pt: 100%"
     }
    },
    "891ccaa8a010464a83db19107d4f2be7": {
     "model_module": "@jupyter-widgets/controls",
     "model_module_version": "1.5.0",
     "model_name": "DescriptionStyleModel",
     "state": {
      "_model_module": "@jupyter-widgets/controls",
      "_model_module_version": "1.5.0",
      "_model_name": "DescriptionStyleModel",
      "_view_count": null,
      "_view_module": "@jupyter-widgets/base",
      "_view_module_version": "1.2.0",
      "_view_name": "StyleView",
      "description_width": ""
     }
    },
    "892b648549754044aef99d79e161dbf4": {
     "model_module": "@jupyter-widgets/controls",
     "model_module_version": "1.5.0",
     "model_name": "HTMLModel",
     "state": {
      "_dom_classes": [],
      "_model_module": "@jupyter-widgets/controls",
      "_model_module_version": "1.5.0",
      "_model_name": "HTMLModel",
      "_view_count": null,
      "_view_module": "@jupyter-widgets/controls",
      "_view_module_version": "1.5.0",
      "_view_name": "HTMLView",
      "description": "",
      "description_tooltip": null,
      "layout": "IPY_MODEL_6f01db8577784e608da737837d6c05b8",
      "placeholder": "​",
      "style": "IPY_MODEL_af4be4ac63674f2ead3f4c370a2391da",
      "value": " 638k/638k [00:05&lt;00:00, 169kB/s]"
     }
    },
    "89dc27bc04614d3c9239f09ab4e6f4c0": {
     "model_module": "@jupyter-widgets/base",
     "model_module_version": "1.2.0",
     "model_name": "LayoutModel",
     "state": {
      "_model_module": "@jupyter-widgets/base",
      "_model_module_version": "1.2.0",
      "_model_name": "LayoutModel",
      "_view_count": null,
      "_view_module": "@jupyter-widgets/base",
      "_view_module_version": "1.2.0",
      "_view_name": "LayoutView",
      "align_content": null,
      "align_items": null,
      "align_self": null,
      "border": null,
      "bottom": null,
      "display": null,
      "flex": null,
      "flex_flow": null,
      "grid_area": null,
      "grid_auto_columns": null,
      "grid_auto_flow": null,
      "grid_auto_rows": null,
      "grid_column": null,
      "grid_gap": null,
      "grid_row": null,
      "grid_template_areas": null,
      "grid_template_columns": null,
      "grid_template_rows": null,
      "height": null,
      "justify_content": null,
      "justify_items": null,
      "left": null,
      "margin": null,
      "max_height": null,
      "max_width": null,
      "min_height": null,
      "min_width": null,
      "object_fit": null,
      "object_position": null,
      "order": null,
      "overflow": null,
      "overflow_x": null,
      "overflow_y": null,
      "padding": null,
      "right": null,
      "top": null,
      "visibility": null,
      "width": null
     }
    },
    "8a61bff6e139453cab901cf2bff26ae0": {
     "model_module": "@jupyter-widgets/base",
     "model_module_version": "1.2.0",
     "model_name": "LayoutModel",
     "state": {
      "_model_module": "@jupyter-widgets/base",
      "_model_module_version": "1.2.0",
      "_model_name": "LayoutModel",
      "_view_count": null,
      "_view_module": "@jupyter-widgets/base",
      "_view_module_version": "1.2.0",
      "_view_name": "LayoutView",
      "align_content": null,
      "align_items": null,
      "align_self": null,
      "border": null,
      "bottom": null,
      "display": null,
      "flex": null,
      "flex_flow": null,
      "grid_area": null,
      "grid_auto_columns": null,
      "grid_auto_flow": null,
      "grid_auto_rows": null,
      "grid_column": null,
      "grid_gap": null,
      "grid_row": null,
      "grid_template_areas": null,
      "grid_template_columns": null,
      "grid_template_rows": null,
      "height": null,
      "justify_content": null,
      "justify_items": null,
      "left": null,
      "margin": null,
      "max_height": null,
      "max_width": null,
      "min_height": null,
      "min_width": null,
      "object_fit": null,
      "object_position": null,
      "order": null,
      "overflow": null,
      "overflow_x": null,
      "overflow_y": null,
      "padding": null,
      "right": null,
      "top": null,
      "visibility": null,
      "width": null
     }
    },
    "8b28f92e50f244fa949703e902fde977": {
     "model_module": "@jupyter-widgets/base",
     "model_module_version": "1.2.0",
     "model_name": "LayoutModel",
     "state": {
      "_model_module": "@jupyter-widgets/base",
      "_model_module_version": "1.2.0",
      "_model_name": "LayoutModel",
      "_view_count": null,
      "_view_module": "@jupyter-widgets/base",
      "_view_module_version": "1.2.0",
      "_view_name": "LayoutView",
      "align_content": null,
      "align_items": null,
      "align_self": null,
      "border": null,
      "bottom": null,
      "display": null,
      "flex": null,
      "flex_flow": null,
      "grid_area": null,
      "grid_auto_columns": null,
      "grid_auto_flow": null,
      "grid_auto_rows": null,
      "grid_column": null,
      "grid_gap": null,
      "grid_row": null,
      "grid_template_areas": null,
      "grid_template_columns": null,
      "grid_template_rows": null,
      "height": null,
      "justify_content": null,
      "justify_items": null,
      "left": null,
      "margin": null,
      "max_height": null,
      "max_width": null,
      "min_height": null,
      "min_width": null,
      "object_fit": null,
      "object_position": null,
      "order": null,
      "overflow": null,
      "overflow_x": null,
      "overflow_y": null,
      "padding": null,
      "right": null,
      "top": null,
      "visibility": null,
      "width": null
     }
    },
    "8b34c053945c47159f3a8b35fef9eec1": {
     "model_module": "@jupyter-widgets/controls",
     "model_module_version": "1.5.0",
     "model_name": "HBoxModel",
     "state": {
      "_dom_classes": [],
      "_model_module": "@jupyter-widgets/controls",
      "_model_module_version": "1.5.0",
      "_model_name": "HBoxModel",
      "_view_count": null,
      "_view_module": "@jupyter-widgets/controls",
      "_view_module_version": "1.5.0",
      "_view_name": "HBoxView",
      "box_style": "",
      "children": [
       "IPY_MODEL_701a3c72164b441a9afd68577b7229a9",
       "IPY_MODEL_6ceb4c6a992a41b98a3d35bbf14e4037",
       "IPY_MODEL_a55d2867fb964f7fac8aa4e984cd58cc"
      ],
      "layout": "IPY_MODEL_23cd62641f9c462185aeb03af552d13f"
     }
    },
    "8bee0c50284944f5a18a4d5497cbfa8b": {
     "model_module": "@jupyter-widgets/base",
     "model_module_version": "1.2.0",
     "model_name": "LayoutModel",
     "state": {
      "_model_module": "@jupyter-widgets/base",
      "_model_module_version": "1.2.0",
      "_model_name": "LayoutModel",
      "_view_count": null,
      "_view_module": "@jupyter-widgets/base",
      "_view_module_version": "1.2.0",
      "_view_name": "LayoutView",
      "align_content": null,
      "align_items": null,
      "align_self": null,
      "border": null,
      "bottom": null,
      "display": null,
      "flex": null,
      "flex_flow": null,
      "grid_area": null,
      "grid_auto_columns": null,
      "grid_auto_flow": null,
      "grid_auto_rows": null,
      "grid_column": null,
      "grid_gap": null,
      "grid_row": null,
      "grid_template_areas": null,
      "grid_template_columns": null,
      "grid_template_rows": null,
      "height": null,
      "justify_content": null,
      "justify_items": null,
      "left": null,
      "margin": null,
      "max_height": null,
      "max_width": null,
      "min_height": null,
      "min_width": null,
      "object_fit": null,
      "object_position": null,
      "order": null,
      "overflow": null,
      "overflow_x": null,
      "overflow_y": null,
      "padding": null,
      "right": null,
      "top": null,
      "visibility": null,
      "width": null
     }
    },
    "8d4f0c62f6a048c59397b4412b2d6eb0": {
     "model_module": "@jupyter-widgets/base",
     "model_module_version": "1.2.0",
     "model_name": "LayoutModel",
     "state": {
      "_model_module": "@jupyter-widgets/base",
      "_model_module_version": "1.2.0",
      "_model_name": "LayoutModel",
      "_view_count": null,
      "_view_module": "@jupyter-widgets/base",
      "_view_module_version": "1.2.0",
      "_view_name": "LayoutView",
      "align_content": null,
      "align_items": null,
      "align_self": null,
      "border": null,
      "bottom": null,
      "display": null,
      "flex": null,
      "flex_flow": null,
      "grid_area": null,
      "grid_auto_columns": null,
      "grid_auto_flow": null,
      "grid_auto_rows": null,
      "grid_column": null,
      "grid_gap": null,
      "grid_row": null,
      "grid_template_areas": null,
      "grid_template_columns": null,
      "grid_template_rows": null,
      "height": null,
      "justify_content": null,
      "justify_items": null,
      "left": null,
      "margin": null,
      "max_height": null,
      "max_width": null,
      "min_height": null,
      "min_width": null,
      "object_fit": null,
      "object_position": null,
      "order": null,
      "overflow": null,
      "overflow_x": null,
      "overflow_y": null,
      "padding": null,
      "right": null,
      "top": null,
      "visibility": null,
      "width": null
     }
    },
    "8e6a7dc3ac43428d956b1e9f02ddffac": {
     "model_module": "@jupyter-widgets/controls",
     "model_module_version": "1.5.0",
     "model_name": "DescriptionStyleModel",
     "state": {
      "_model_module": "@jupyter-widgets/controls",
      "_model_module_version": "1.5.0",
      "_model_name": "DescriptionStyleModel",
      "_view_count": null,
      "_view_module": "@jupyter-widgets/base",
      "_view_module_version": "1.2.0",
      "_view_name": "StyleView",
      "description_width": ""
     }
    },
    "915db94631f840a094c860a4cf1a4118": {
     "model_module": "@jupyter-widgets/controls",
     "model_module_version": "1.5.0",
     "model_name": "DescriptionStyleModel",
     "state": {
      "_model_module": "@jupyter-widgets/controls",
      "_model_module_version": "1.5.0",
      "_model_name": "DescriptionStyleModel",
      "_view_count": null,
      "_view_module": "@jupyter-widgets/base",
      "_view_module_version": "1.2.0",
      "_view_name": "StyleView",
      "description_width": ""
     }
    },
    "91decba4b3604720ba09bf06eae9901e": {
     "model_module": "@jupyter-widgets/controls",
     "model_module_version": "1.5.0",
     "model_name": "HTMLModel",
     "state": {
      "_dom_classes": [],
      "_model_module": "@jupyter-widgets/controls",
      "_model_module_version": "1.5.0",
      "_model_name": "HTMLModel",
      "_view_count": null,
      "_view_module": "@jupyter-widgets/controls",
      "_view_module_version": "1.5.0",
      "_view_name": "HTMLView",
      "description": "",
      "description_tooltip": null,
      "layout": "IPY_MODEL_2c61f9279def49b18f1d4fbcc878afe1",
      "placeholder": "​",
      "style": "IPY_MODEL_f6ef49e20e3a4b5ca4cdd9cbfcc4a941",
      "value": "Downloading https://huggingface.co/stanfordnlp/stanza-fa/resolve/v1.8.0/models/tokenize/perdt.pt: 100%"
     }
    },
    "9374c159397845f097d7f48a5c985dcc": {
     "model_module": "@jupyter-widgets/controls",
     "model_module_version": "1.5.0",
     "model_name": "HTMLModel",
     "state": {
      "_dom_classes": [],
      "_model_module": "@jupyter-widgets/controls",
      "_model_module_version": "1.5.0",
      "_model_name": "HTMLModel",
      "_view_count": null,
      "_view_module": "@jupyter-widgets/controls",
      "_view_module_version": "1.5.0",
      "_view_name": "HTMLView",
      "description": "",
      "description_tooltip": null,
      "layout": "IPY_MODEL_6a94700d24a04515861280520c8fa01b",
      "placeholder": "​",
      "style": "IPY_MODEL_e90e1795edb5496998fe4005e39f6604",
      "value": "Downloading https://raw.githubusercontent.com/stanfordnlp/stanza-resources/main/resources_1.8.0.json: "
     }
    },
    "94300a6c89ab40aebb0af41b7074b7e5": {
     "model_module": "@jupyter-widgets/base",
     "model_module_version": "1.2.0",
     "model_name": "LayoutModel",
     "state": {
      "_model_module": "@jupyter-widgets/base",
      "_model_module_version": "1.2.0",
      "_model_name": "LayoutModel",
      "_view_count": null,
      "_view_module": "@jupyter-widgets/base",
      "_view_module_version": "1.2.0",
      "_view_name": "LayoutView",
      "align_content": null,
      "align_items": null,
      "align_self": null,
      "border": null,
      "bottom": null,
      "display": null,
      "flex": null,
      "flex_flow": null,
      "grid_area": null,
      "grid_auto_columns": null,
      "grid_auto_flow": null,
      "grid_auto_rows": null,
      "grid_column": null,
      "grid_gap": null,
      "grid_row": null,
      "grid_template_areas": null,
      "grid_template_columns": null,
      "grid_template_rows": null,
      "height": null,
      "justify_content": null,
      "justify_items": null,
      "left": null,
      "margin": null,
      "max_height": null,
      "max_width": null,
      "min_height": null,
      "min_width": null,
      "object_fit": null,
      "object_position": null,
      "order": null,
      "overflow": null,
      "overflow_x": null,
      "overflow_y": null,
      "padding": null,
      "right": null,
      "top": null,
      "visibility": null,
      "width": null
     }
    },
    "950886ff45414df2a90967bcd6921c81": {
     "model_module": "@jupyter-widgets/controls",
     "model_module_version": "1.5.0",
     "model_name": "ProgressStyleModel",
     "state": {
      "_model_module": "@jupyter-widgets/controls",
      "_model_module_version": "1.5.0",
      "_model_name": "ProgressStyleModel",
      "_view_count": null,
      "_view_module": "@jupyter-widgets/base",
      "_view_module_version": "1.2.0",
      "_view_name": "StyleView",
      "bar_color": null,
      "description_width": ""
     }
    },
    "95b2b762853947c7890f81f7bc98db65": {
     "model_module": "@jupyter-widgets/base",
     "model_module_version": "1.2.0",
     "model_name": "LayoutModel",
     "state": {
      "_model_module": "@jupyter-widgets/base",
      "_model_module_version": "1.2.0",
      "_model_name": "LayoutModel",
      "_view_count": null,
      "_view_module": "@jupyter-widgets/base",
      "_view_module_version": "1.2.0",
      "_view_name": "LayoutView",
      "align_content": null,
      "align_items": null,
      "align_self": null,
      "border": null,
      "bottom": null,
      "display": null,
      "flex": null,
      "flex_flow": null,
      "grid_area": null,
      "grid_auto_columns": null,
      "grid_auto_flow": null,
      "grid_auto_rows": null,
      "grid_column": null,
      "grid_gap": null,
      "grid_row": null,
      "grid_template_areas": null,
      "grid_template_columns": null,
      "grid_template_rows": null,
      "height": null,
      "justify_content": null,
      "justify_items": null,
      "left": null,
      "margin": null,
      "max_height": null,
      "max_width": null,
      "min_height": null,
      "min_width": null,
      "object_fit": null,
      "object_position": null,
      "order": null,
      "overflow": null,
      "overflow_x": null,
      "overflow_y": null,
      "padding": null,
      "right": null,
      "top": null,
      "visibility": null,
      "width": null
     }
    },
    "95ca713d390042f8b2331f4d08217988": {
     "model_module": "@jupyter-widgets/base",
     "model_module_version": "1.2.0",
     "model_name": "LayoutModel",
     "state": {
      "_model_module": "@jupyter-widgets/base",
      "_model_module_version": "1.2.0",
      "_model_name": "LayoutModel",
      "_view_count": null,
      "_view_module": "@jupyter-widgets/base",
      "_view_module_version": "1.2.0",
      "_view_name": "LayoutView",
      "align_content": null,
      "align_items": null,
      "align_self": null,
      "border": null,
      "bottom": null,
      "display": null,
      "flex": null,
      "flex_flow": null,
      "grid_area": null,
      "grid_auto_columns": null,
      "grid_auto_flow": null,
      "grid_auto_rows": null,
      "grid_column": null,
      "grid_gap": null,
      "grid_row": null,
      "grid_template_areas": null,
      "grid_template_columns": null,
      "grid_template_rows": null,
      "height": null,
      "justify_content": null,
      "justify_items": null,
      "left": null,
      "margin": null,
      "max_height": null,
      "max_width": null,
      "min_height": null,
      "min_width": null,
      "object_fit": null,
      "object_position": null,
      "order": null,
      "overflow": null,
      "overflow_x": null,
      "overflow_y": null,
      "padding": null,
      "right": null,
      "top": null,
      "visibility": null,
      "width": null
     }
    },
    "975fda2972014842956b983118566c99": {
     "model_module": "@jupyter-widgets/base",
     "model_module_version": "1.2.0",
     "model_name": "LayoutModel",
     "state": {
      "_model_module": "@jupyter-widgets/base",
      "_model_module_version": "1.2.0",
      "_model_name": "LayoutModel",
      "_view_count": null,
      "_view_module": "@jupyter-widgets/base",
      "_view_module_version": "1.2.0",
      "_view_name": "LayoutView",
      "align_content": null,
      "align_items": null,
      "align_self": null,
      "border": null,
      "bottom": null,
      "display": null,
      "flex": null,
      "flex_flow": null,
      "grid_area": null,
      "grid_auto_columns": null,
      "grid_auto_flow": null,
      "grid_auto_rows": null,
      "grid_column": null,
      "grid_gap": null,
      "grid_row": null,
      "grid_template_areas": null,
      "grid_template_columns": null,
      "grid_template_rows": null,
      "height": null,
      "justify_content": null,
      "justify_items": null,
      "left": null,
      "margin": null,
      "max_height": null,
      "max_width": null,
      "min_height": null,
      "min_width": null,
      "object_fit": null,
      "object_position": null,
      "order": null,
      "overflow": null,
      "overflow_x": null,
      "overflow_y": null,
      "padding": null,
      "right": null,
      "top": null,
      "visibility": null,
      "width": null
     }
    },
    "9b50dd4eed79458cae5d0c50ed854efd": {
     "model_module": "@jupyter-widgets/base",
     "model_module_version": "1.2.0",
     "model_name": "LayoutModel",
     "state": {
      "_model_module": "@jupyter-widgets/base",
      "_model_module_version": "1.2.0",
      "_model_name": "LayoutModel",
      "_view_count": null,
      "_view_module": "@jupyter-widgets/base",
      "_view_module_version": "1.2.0",
      "_view_name": "LayoutView",
      "align_content": null,
      "align_items": null,
      "align_self": null,
      "border": null,
      "bottom": null,
      "display": null,
      "flex": null,
      "flex_flow": null,
      "grid_area": null,
      "grid_auto_columns": null,
      "grid_auto_flow": null,
      "grid_auto_rows": null,
      "grid_column": null,
      "grid_gap": null,
      "grid_row": null,
      "grid_template_areas": null,
      "grid_template_columns": null,
      "grid_template_rows": null,
      "height": null,
      "justify_content": null,
      "justify_items": null,
      "left": null,
      "margin": null,
      "max_height": null,
      "max_width": null,
      "min_height": null,
      "min_width": null,
      "object_fit": null,
      "object_position": null,
      "order": null,
      "overflow": null,
      "overflow_x": null,
      "overflow_y": null,
      "padding": null,
      "right": null,
      "top": null,
      "visibility": null,
      "width": null
     }
    },
    "9d511f3f02ac4278bea0424e52e566c8": {
     "model_module": "@jupyter-widgets/controls",
     "model_module_version": "1.5.0",
     "model_name": "HTMLModel",
     "state": {
      "_dom_classes": [],
      "_model_module": "@jupyter-widgets/controls",
      "_model_module_version": "1.5.0",
      "_model_name": "HTMLModel",
      "_view_count": null,
      "_view_module": "@jupyter-widgets/controls",
      "_view_module_version": "1.5.0",
      "_view_name": "HTMLView",
      "description": "",
      "description_tooltip": null,
      "layout": "IPY_MODEL_f5f6edba8b094d5e8dc92b04aa2c2d46",
      "placeholder": "​",
      "style": "IPY_MODEL_099e419e35fa490fbf988d0b1637a671",
      "value": " 379k/? [00:00&lt;00:00, 10.8MB/s]"
     }
    },
    "9f8ef2b0bc2943ffb43af2d2ea647a83": {
     "model_module": "@jupyter-widgets/controls",
     "model_module_version": "1.5.0",
     "model_name": "DescriptionStyleModel",
     "state": {
      "_model_module": "@jupyter-widgets/controls",
      "_model_module_version": "1.5.0",
      "_model_name": "DescriptionStyleModel",
      "_view_count": null,
      "_view_module": "@jupyter-widgets/base",
      "_view_module_version": "1.2.0",
      "_view_name": "StyleView",
      "description_width": ""
     }
    },
    "9fd10da1ce7d4b0fb38d5313dfe1911a": {
     "model_module": "@jupyter-widgets/controls",
     "model_module_version": "1.5.0",
     "model_name": "DescriptionStyleModel",
     "state": {
      "_model_module": "@jupyter-widgets/controls",
      "_model_module_version": "1.5.0",
      "_model_name": "DescriptionStyleModel",
      "_view_count": null,
      "_view_module": "@jupyter-widgets/base",
      "_view_module_version": "1.2.0",
      "_view_name": "StyleView",
      "description_width": ""
     }
    },
    "a015300f3769443cb7b4868797751723": {
     "model_module": "@jupyter-widgets/base",
     "model_module_version": "1.2.0",
     "model_name": "LayoutModel",
     "state": {
      "_model_module": "@jupyter-widgets/base",
      "_model_module_version": "1.2.0",
      "_model_name": "LayoutModel",
      "_view_count": null,
      "_view_module": "@jupyter-widgets/base",
      "_view_module_version": "1.2.0",
      "_view_name": "LayoutView",
      "align_content": null,
      "align_items": null,
      "align_self": null,
      "border": null,
      "bottom": null,
      "display": null,
      "flex": null,
      "flex_flow": null,
      "grid_area": null,
      "grid_auto_columns": null,
      "grid_auto_flow": null,
      "grid_auto_rows": null,
      "grid_column": null,
      "grid_gap": null,
      "grid_row": null,
      "grid_template_areas": null,
      "grid_template_columns": null,
      "grid_template_rows": null,
      "height": null,
      "justify_content": null,
      "justify_items": null,
      "left": null,
      "margin": null,
      "max_height": null,
      "max_width": null,
      "min_height": null,
      "min_width": null,
      "object_fit": null,
      "object_position": null,
      "order": null,
      "overflow": null,
      "overflow_x": null,
      "overflow_y": null,
      "padding": null,
      "right": null,
      "top": null,
      "visibility": null,
      "width": null
     }
    },
    "a0c984be4fae434db38089b7a5e4156f": {
     "model_module": "@jupyter-widgets/base",
     "model_module_version": "1.2.0",
     "model_name": "LayoutModel",
     "state": {
      "_model_module": "@jupyter-widgets/base",
      "_model_module_version": "1.2.0",
      "_model_name": "LayoutModel",
      "_view_count": null,
      "_view_module": "@jupyter-widgets/base",
      "_view_module_version": "1.2.0",
      "_view_name": "LayoutView",
      "align_content": null,
      "align_items": null,
      "align_self": null,
      "border": null,
      "bottom": null,
      "display": null,
      "flex": null,
      "flex_flow": null,
      "grid_area": null,
      "grid_auto_columns": null,
      "grid_auto_flow": null,
      "grid_auto_rows": null,
      "grid_column": null,
      "grid_gap": null,
      "grid_row": null,
      "grid_template_areas": null,
      "grid_template_columns": null,
      "grid_template_rows": null,
      "height": null,
      "justify_content": null,
      "justify_items": null,
      "left": null,
      "margin": null,
      "max_height": null,
      "max_width": null,
      "min_height": null,
      "min_width": null,
      "object_fit": null,
      "object_position": null,
      "order": null,
      "overflow": null,
      "overflow_x": null,
      "overflow_y": null,
      "padding": null,
      "right": null,
      "top": null,
      "visibility": null,
      "width": null
     }
    },
    "a10a097e4a4a4d6481abc1aa6891f25a": {
     "model_module": "@jupyter-widgets/controls",
     "model_module_version": "1.5.0",
     "model_name": "HTMLModel",
     "state": {
      "_dom_classes": [],
      "_model_module": "@jupyter-widgets/controls",
      "_model_module_version": "1.5.0",
      "_model_name": "HTMLModel",
      "_view_count": null,
      "_view_module": "@jupyter-widgets/controls",
      "_view_module_version": "1.5.0",
      "_view_name": "HTMLView",
      "description": "",
      "description_tooltip": null,
      "layout": "IPY_MODEL_975fda2972014842956b983118566c99",
      "placeholder": "​",
      "style": "IPY_MODEL_6296bb5941ea48679183006b32ea34fd",
      "value": "Downloading https://huggingface.co/stanfordnlp/stanza-fa/resolve/v1.8.0/models/forward_charlm/conll17.pt: 100%"
     }
    },
    "a25a955fd35348e8920324f13deaa628": {
     "model_module": "@jupyter-widgets/base",
     "model_module_version": "1.2.0",
     "model_name": "LayoutModel",
     "state": {
      "_model_module": "@jupyter-widgets/base",
      "_model_module_version": "1.2.0",
      "_model_name": "LayoutModel",
      "_view_count": null,
      "_view_module": "@jupyter-widgets/base",
      "_view_module_version": "1.2.0",
      "_view_name": "LayoutView",
      "align_content": null,
      "align_items": null,
      "align_self": null,
      "border": null,
      "bottom": null,
      "display": null,
      "flex": null,
      "flex_flow": null,
      "grid_area": null,
      "grid_auto_columns": null,
      "grid_auto_flow": null,
      "grid_auto_rows": null,
      "grid_column": null,
      "grid_gap": null,
      "grid_row": null,
      "grid_template_areas": null,
      "grid_template_columns": null,
      "grid_template_rows": null,
      "height": null,
      "justify_content": null,
      "justify_items": null,
      "left": null,
      "margin": null,
      "max_height": null,
      "max_width": null,
      "min_height": null,
      "min_width": null,
      "object_fit": null,
      "object_position": null,
      "order": null,
      "overflow": null,
      "overflow_x": null,
      "overflow_y": null,
      "padding": null,
      "right": null,
      "top": null,
      "visibility": null,
      "width": null
     }
    },
    "a2989ae260334af080a93d400f359517": {
     "model_module": "@jupyter-widgets/controls",
     "model_module_version": "1.5.0",
     "model_name": "DescriptionStyleModel",
     "state": {
      "_model_module": "@jupyter-widgets/controls",
      "_model_module_version": "1.5.0",
      "_model_name": "DescriptionStyleModel",
      "_view_count": null,
      "_view_module": "@jupyter-widgets/base",
      "_view_module_version": "1.2.0",
      "_view_name": "StyleView",
      "description_width": ""
     }
    },
    "a2f3e4f5ba354435b9c523e0e6d5e24c": {
     "model_module": "@jupyter-widgets/controls",
     "model_module_version": "1.5.0",
     "model_name": "HTMLModel",
     "state": {
      "_dom_classes": [],
      "_model_module": "@jupyter-widgets/controls",
      "_model_module_version": "1.5.0",
      "_model_name": "HTMLModel",
      "_view_count": null,
      "_view_module": "@jupyter-widgets/controls",
      "_view_module_version": "1.5.0",
      "_view_name": "HTMLView",
      "description": "",
      "description_tooltip": null,
      "layout": "IPY_MODEL_50ca85129d5d4301aa764eb427a69db5",
      "placeholder": "​",
      "style": "IPY_MODEL_7afb2999724e41428d2779a676fab3f9",
      "value": "Downloading https://huggingface.co/stanfordnlp/stanza-fa/resolve/v1.8.0/models/pos/perdt_charlm.pt: 100%"
     }
    },
    "a41b02d5743e4d278dde7124fae0e92e": {
     "model_module": "@jupyter-widgets/controls",
     "model_module_version": "1.5.0",
     "model_name": "DescriptionStyleModel",
     "state": {
      "_model_module": "@jupyter-widgets/controls",
      "_model_module_version": "1.5.0",
      "_model_name": "DescriptionStyleModel",
      "_view_count": null,
      "_view_module": "@jupyter-widgets/base",
      "_view_module_version": "1.2.0",
      "_view_name": "StyleView",
      "description_width": ""
     }
    },
    "a4c50abd1be94428bad9ed40f360061a": {
     "model_module": "@jupyter-widgets/controls",
     "model_module_version": "1.5.0",
     "model_name": "DescriptionStyleModel",
     "state": {
      "_model_module": "@jupyter-widgets/controls",
      "_model_module_version": "1.5.0",
      "_model_name": "DescriptionStyleModel",
      "_view_count": null,
      "_view_module": "@jupyter-widgets/base",
      "_view_module_version": "1.2.0",
      "_view_name": "StyleView",
      "description_width": ""
     }
    },
    "a55d2867fb964f7fac8aa4e984cd58cc": {
     "model_module": "@jupyter-widgets/controls",
     "model_module_version": "1.5.0",
     "model_name": "HTMLModel",
     "state": {
      "_dom_classes": [],
      "_model_module": "@jupyter-widgets/controls",
      "_model_module_version": "1.5.0",
      "_model_name": "HTMLModel",
      "_view_count": null,
      "_view_module": "@jupyter-widgets/controls",
      "_view_module_version": "1.5.0",
      "_view_name": "HTMLView",
      "description": "",
      "description_tooltip": null,
      "layout": "IPY_MODEL_75914e57e68641d4b5e55910b99c2ecf",
      "placeholder": "​",
      "style": "IPY_MODEL_0eb77c79c61048d89643d623d87bca0a",
      "value": " 108M/108M [00:20&lt;00:00, 16.8MB/s]"
     }
    },
    "a55e4083201643ff8b47f55b875db919": {
     "model_module": "@jupyter-widgets/controls",
     "model_module_version": "1.5.0",
     "model_name": "DescriptionStyleModel",
     "state": {
      "_model_module": "@jupyter-widgets/controls",
      "_model_module_version": "1.5.0",
      "_model_name": "DescriptionStyleModel",
      "_view_count": null,
      "_view_module": "@jupyter-widgets/base",
      "_view_module_version": "1.2.0",
      "_view_name": "StyleView",
      "description_width": ""
     }
    },
    "a57123bce873481095706e5f32722101": {
     "model_module": "@jupyter-widgets/base",
     "model_module_version": "1.2.0",
     "model_name": "LayoutModel",
     "state": {
      "_model_module": "@jupyter-widgets/base",
      "_model_module_version": "1.2.0",
      "_model_name": "LayoutModel",
      "_view_count": null,
      "_view_module": "@jupyter-widgets/base",
      "_view_module_version": "1.2.0",
      "_view_name": "LayoutView",
      "align_content": null,
      "align_items": null,
      "align_self": null,
      "border": null,
      "bottom": null,
      "display": null,
      "flex": null,
      "flex_flow": null,
      "grid_area": null,
      "grid_auto_columns": null,
      "grid_auto_flow": null,
      "grid_auto_rows": null,
      "grid_column": null,
      "grid_gap": null,
      "grid_row": null,
      "grid_template_areas": null,
      "grid_template_columns": null,
      "grid_template_rows": null,
      "height": null,
      "justify_content": null,
      "justify_items": null,
      "left": null,
      "margin": null,
      "max_height": null,
      "max_width": null,
      "min_height": null,
      "min_width": null,
      "object_fit": null,
      "object_position": null,
      "order": null,
      "overflow": null,
      "overflow_x": null,
      "overflow_y": null,
      "padding": null,
      "right": null,
      "top": null,
      "visibility": null,
      "width": null
     }
    },
    "a57782b058574d118bf823e6de5ab6c8": {
     "model_module": "@jupyter-widgets/base",
     "model_module_version": "1.2.0",
     "model_name": "LayoutModel",
     "state": {
      "_model_module": "@jupyter-widgets/base",
      "_model_module_version": "1.2.0",
      "_model_name": "LayoutModel",
      "_view_count": null,
      "_view_module": "@jupyter-widgets/base",
      "_view_module_version": "1.2.0",
      "_view_name": "LayoutView",
      "align_content": null,
      "align_items": null,
      "align_self": null,
      "border": null,
      "bottom": null,
      "display": null,
      "flex": null,
      "flex_flow": null,
      "grid_area": null,
      "grid_auto_columns": null,
      "grid_auto_flow": null,
      "grid_auto_rows": null,
      "grid_column": null,
      "grid_gap": null,
      "grid_row": null,
      "grid_template_areas": null,
      "grid_template_columns": null,
      "grid_template_rows": null,
      "height": null,
      "justify_content": null,
      "justify_items": null,
      "left": null,
      "margin": null,
      "max_height": null,
      "max_width": null,
      "min_height": null,
      "min_width": null,
      "object_fit": null,
      "object_position": null,
      "order": null,
      "overflow": null,
      "overflow_x": null,
      "overflow_y": null,
      "padding": null,
      "right": null,
      "top": null,
      "visibility": null,
      "width": null
     }
    },
    "a5f669017a994e4e9a0ec76fb6a2be90": {
     "model_module": "@jupyter-widgets/base",
     "model_module_version": "1.2.0",
     "model_name": "LayoutModel",
     "state": {
      "_model_module": "@jupyter-widgets/base",
      "_model_module_version": "1.2.0",
      "_model_name": "LayoutModel",
      "_view_count": null,
      "_view_module": "@jupyter-widgets/base",
      "_view_module_version": "1.2.0",
      "_view_name": "LayoutView",
      "align_content": null,
      "align_items": null,
      "align_self": null,
      "border": null,
      "bottom": null,
      "display": null,
      "flex": null,
      "flex_flow": null,
      "grid_area": null,
      "grid_auto_columns": null,
      "grid_auto_flow": null,
      "grid_auto_rows": null,
      "grid_column": null,
      "grid_gap": null,
      "grid_row": null,
      "grid_template_areas": null,
      "grid_template_columns": null,
      "grid_template_rows": null,
      "height": null,
      "justify_content": null,
      "justify_items": null,
      "left": null,
      "margin": null,
      "max_height": null,
      "max_width": null,
      "min_height": null,
      "min_width": null,
      "object_fit": null,
      "object_position": null,
      "order": null,
      "overflow": null,
      "overflow_x": null,
      "overflow_y": null,
      "padding": null,
      "right": null,
      "top": null,
      "visibility": null,
      "width": null
     }
    },
    "a6ed245ea7d24711a5b85b8721b30a12": {
     "model_module": "@jupyter-widgets/controls",
     "model_module_version": "1.5.0",
     "model_name": "DescriptionStyleModel",
     "state": {
      "_model_module": "@jupyter-widgets/controls",
      "_model_module_version": "1.5.0",
      "_model_name": "DescriptionStyleModel",
      "_view_count": null,
      "_view_module": "@jupyter-widgets/base",
      "_view_module_version": "1.2.0",
      "_view_name": "StyleView",
      "description_width": ""
     }
    },
    "a6fd14fa9c3e45b1a438ad7f657dce95": {
     "model_module": "@jupyter-widgets/controls",
     "model_module_version": "1.5.0",
     "model_name": "ProgressStyleModel",
     "state": {
      "_model_module": "@jupyter-widgets/controls",
      "_model_module_version": "1.5.0",
      "_model_name": "ProgressStyleModel",
      "_view_count": null,
      "_view_module": "@jupyter-widgets/base",
      "_view_module_version": "1.2.0",
      "_view_name": "StyleView",
      "bar_color": null,
      "description_width": ""
     }
    },
    "a791bae4d7d142f7832ad3e11e547460": {
     "model_module": "@jupyter-widgets/controls",
     "model_module_version": "1.5.0",
     "model_name": "HTMLModel",
     "state": {
      "_dom_classes": [],
      "_model_module": "@jupyter-widgets/controls",
      "_model_module_version": "1.5.0",
      "_model_name": "HTMLModel",
      "_view_count": null,
      "_view_module": "@jupyter-widgets/controls",
      "_view_module_version": "1.5.0",
      "_view_name": "HTMLView",
      "description": "",
      "description_tooltip": null,
      "layout": "IPY_MODEL_163842ca40404a96a69856471a2c2130",
      "placeholder": "​",
      "style": "IPY_MODEL_5b5cb6a11b2f457b949eb9d66ccab3ad",
      "value": " 36.1M/36.1M [00:00&lt;00:00, 160MB/s]"
     }
    },
    "a8f7e9bdc0414c8988cb9e463f8f5811": {
     "model_module": "@jupyter-widgets/base",
     "model_module_version": "1.2.0",
     "model_name": "LayoutModel",
     "state": {
      "_model_module": "@jupyter-widgets/base",
      "_model_module_version": "1.2.0",
      "_model_name": "LayoutModel",
      "_view_count": null,
      "_view_module": "@jupyter-widgets/base",
      "_view_module_version": "1.2.0",
      "_view_name": "LayoutView",
      "align_content": null,
      "align_items": null,
      "align_self": null,
      "border": null,
      "bottom": null,
      "display": null,
      "flex": null,
      "flex_flow": null,
      "grid_area": null,
      "grid_auto_columns": null,
      "grid_auto_flow": null,
      "grid_auto_rows": null,
      "grid_column": null,
      "grid_gap": null,
      "grid_row": null,
      "grid_template_areas": null,
      "grid_template_columns": null,
      "grid_template_rows": null,
      "height": null,
      "justify_content": null,
      "justify_items": null,
      "left": null,
      "margin": null,
      "max_height": null,
      "max_width": null,
      "min_height": null,
      "min_width": null,
      "object_fit": null,
      "object_position": null,
      "order": null,
      "overflow": null,
      "overflow_x": null,
      "overflow_y": null,
      "padding": null,
      "right": null,
      "top": null,
      "visibility": null,
      "width": null
     }
    },
    "a9237a8c1e294d75880fe1a2a2909de4": {
     "model_module": "@jupyter-widgets/controls",
     "model_module_version": "1.5.0",
     "model_name": "DescriptionStyleModel",
     "state": {
      "_model_module": "@jupyter-widgets/controls",
      "_model_module_version": "1.5.0",
      "_model_name": "DescriptionStyleModel",
      "_view_count": null,
      "_view_module": "@jupyter-widgets/base",
      "_view_module_version": "1.2.0",
      "_view_name": "StyleView",
      "description_width": ""
     }
    },
    "a974fc7848504ac2b602b3b637a007df": {
     "model_module": "@jupyter-widgets/base",
     "model_module_version": "1.2.0",
     "model_name": "LayoutModel",
     "state": {
      "_model_module": "@jupyter-widgets/base",
      "_model_module_version": "1.2.0",
      "_model_name": "LayoutModel",
      "_view_count": null,
      "_view_module": "@jupyter-widgets/base",
      "_view_module_version": "1.2.0",
      "_view_name": "LayoutView",
      "align_content": null,
      "align_items": null,
      "align_self": null,
      "border": null,
      "bottom": null,
      "display": null,
      "flex": null,
      "flex_flow": null,
      "grid_area": null,
      "grid_auto_columns": null,
      "grid_auto_flow": null,
      "grid_auto_rows": null,
      "grid_column": null,
      "grid_gap": null,
      "grid_row": null,
      "grid_template_areas": null,
      "grid_template_columns": null,
      "grid_template_rows": null,
      "height": null,
      "justify_content": null,
      "justify_items": null,
      "left": null,
      "margin": null,
      "max_height": null,
      "max_width": null,
      "min_height": null,
      "min_width": null,
      "object_fit": null,
      "object_position": null,
      "order": null,
      "overflow": null,
      "overflow_x": null,
      "overflow_y": null,
      "padding": null,
      "right": null,
      "top": null,
      "visibility": null,
      "width": null
     }
    },
    "aa2cf4a6e77b4a26973b47b9b6428b4c": {
     "model_module": "@jupyter-widgets/base",
     "model_module_version": "1.2.0",
     "model_name": "LayoutModel",
     "state": {
      "_model_module": "@jupyter-widgets/base",
      "_model_module_version": "1.2.0",
      "_model_name": "LayoutModel",
      "_view_count": null,
      "_view_module": "@jupyter-widgets/base",
      "_view_module_version": "1.2.0",
      "_view_name": "LayoutView",
      "align_content": null,
      "align_items": null,
      "align_self": null,
      "border": null,
      "bottom": null,
      "display": null,
      "flex": null,
      "flex_flow": null,
      "grid_area": null,
      "grid_auto_columns": null,
      "grid_auto_flow": null,
      "grid_auto_rows": null,
      "grid_column": null,
      "grid_gap": null,
      "grid_row": null,
      "grid_template_areas": null,
      "grid_template_columns": null,
      "grid_template_rows": null,
      "height": null,
      "justify_content": null,
      "justify_items": null,
      "left": null,
      "margin": null,
      "max_height": null,
      "max_width": null,
      "min_height": null,
      "min_width": null,
      "object_fit": null,
      "object_position": null,
      "order": null,
      "overflow": null,
      "overflow_x": null,
      "overflow_y": null,
      "padding": null,
      "right": null,
      "top": null,
      "visibility": null,
      "width": null
     }
    },
    "ab48fa548c554fca8b2f75d3742f747e": {
     "model_module": "@jupyter-widgets/controls",
     "model_module_version": "1.5.0",
     "model_name": "DescriptionStyleModel",
     "state": {
      "_model_module": "@jupyter-widgets/controls",
      "_model_module_version": "1.5.0",
      "_model_name": "DescriptionStyleModel",
      "_view_count": null,
      "_view_module": "@jupyter-widgets/base",
      "_view_module_version": "1.2.0",
      "_view_name": "StyleView",
      "description_width": ""
     }
    },
    "aec6078fa450455ea8a75c6c1570d7bf": {
     "model_module": "@jupyter-widgets/controls",
     "model_module_version": "1.5.0",
     "model_name": "DescriptionStyleModel",
     "state": {
      "_model_module": "@jupyter-widgets/controls",
      "_model_module_version": "1.5.0",
      "_model_name": "DescriptionStyleModel",
      "_view_count": null,
      "_view_module": "@jupyter-widgets/base",
      "_view_module_version": "1.2.0",
      "_view_name": "StyleView",
      "description_width": ""
     }
    },
    "aecafc0c737246019628dc34527d9cf6": {
     "model_module": "@jupyter-widgets/controls",
     "model_module_version": "1.5.0",
     "model_name": "DescriptionStyleModel",
     "state": {
      "_model_module": "@jupyter-widgets/controls",
      "_model_module_version": "1.5.0",
      "_model_name": "DescriptionStyleModel",
      "_view_count": null,
      "_view_module": "@jupyter-widgets/base",
      "_view_module_version": "1.2.0",
      "_view_name": "StyleView",
      "description_width": ""
     }
    },
    "af4be4ac63674f2ead3f4c370a2391da": {
     "model_module": "@jupyter-widgets/controls",
     "model_module_version": "1.5.0",
     "model_name": "DescriptionStyleModel",
     "state": {
      "_model_module": "@jupyter-widgets/controls",
      "_model_module_version": "1.5.0",
      "_model_name": "DescriptionStyleModel",
      "_view_count": null,
      "_view_module": "@jupyter-widgets/base",
      "_view_module_version": "1.2.0",
      "_view_name": "StyleView",
      "description_width": ""
     }
    },
    "afc579630afa488093f9caf7c3431890": {
     "model_module": "@jupyter-widgets/controls",
     "model_module_version": "1.5.0",
     "model_name": "FloatProgressModel",
     "state": {
      "_dom_classes": [],
      "_model_module": "@jupyter-widgets/controls",
      "_model_module_version": "1.5.0",
      "_model_name": "FloatProgressModel",
      "_view_count": null,
      "_view_module": "@jupyter-widgets/controls",
      "_view_module_version": "1.5.0",
      "_view_name": "ProgressView",
      "bar_style": "success",
      "description": "",
      "description_tooltip": null,
      "layout": "IPY_MODEL_3dd29f1389394fcab1d73a051cbfe635",
      "max": 36102640,
      "min": 0,
      "orientation": "horizontal",
      "style": "IPY_MODEL_68bb6dabed6f4324b635d3f5ac05c5d6",
      "value": 36102640
     }
    },
    "aff2a4da256d4d7c8faf5471f393ed49": {
     "model_module": "@jupyter-widgets/base",
     "model_module_version": "1.2.0",
     "model_name": "LayoutModel",
     "state": {
      "_model_module": "@jupyter-widgets/base",
      "_model_module_version": "1.2.0",
      "_model_name": "LayoutModel",
      "_view_count": null,
      "_view_module": "@jupyter-widgets/base",
      "_view_module_version": "1.2.0",
      "_view_name": "LayoutView",
      "align_content": null,
      "align_items": null,
      "align_self": null,
      "border": null,
      "bottom": null,
      "display": null,
      "flex": null,
      "flex_flow": null,
      "grid_area": null,
      "grid_auto_columns": null,
      "grid_auto_flow": null,
      "grid_auto_rows": null,
      "grid_column": null,
      "grid_gap": null,
      "grid_row": null,
      "grid_template_areas": null,
      "grid_template_columns": null,
      "grid_template_rows": null,
      "height": null,
      "justify_content": null,
      "justify_items": null,
      "left": null,
      "margin": null,
      "max_height": null,
      "max_width": null,
      "min_height": null,
      "min_width": null,
      "object_fit": null,
      "object_position": null,
      "order": null,
      "overflow": null,
      "overflow_x": null,
      "overflow_y": null,
      "padding": null,
      "right": null,
      "top": null,
      "visibility": null,
      "width": null
     }
    },
    "b09c621fda58449980e5505852705fcf": {
     "model_module": "@jupyter-widgets/controls",
     "model_module_version": "1.5.0",
     "model_name": "FloatProgressModel",
     "state": {
      "_dom_classes": [],
      "_model_module": "@jupyter-widgets/controls",
      "_model_module_version": "1.5.0",
      "_model_name": "FloatProgressModel",
      "_view_count": null,
      "_view_module": "@jupyter-widgets/controls",
      "_view_module_version": "1.5.0",
      "_view_name": "ProgressView",
      "bar_style": "success",
      "description": "",
      "description_tooltip": null,
      "layout": "IPY_MODEL_a25a955fd35348e8920324f13deaa628",
      "max": 47208,
      "min": 0,
      "orientation": "horizontal",
      "style": "IPY_MODEL_d4d435bbfa8f4f1da00fa7033c42d49e",
      "value": 47208
     }
    },
    "b21bd367e9c942d7be8d395cd43fe4b1": {
     "model_module": "@jupyter-widgets/base",
     "model_module_version": "1.2.0",
     "model_name": "LayoutModel",
     "state": {
      "_model_module": "@jupyter-widgets/base",
      "_model_module_version": "1.2.0",
      "_model_name": "LayoutModel",
      "_view_count": null,
      "_view_module": "@jupyter-widgets/base",
      "_view_module_version": "1.2.0",
      "_view_name": "LayoutView",
      "align_content": null,
      "align_items": null,
      "align_self": null,
      "border": null,
      "bottom": null,
      "display": null,
      "flex": null,
      "flex_flow": null,
      "grid_area": null,
      "grid_auto_columns": null,
      "grid_auto_flow": null,
      "grid_auto_rows": null,
      "grid_column": null,
      "grid_gap": null,
      "grid_row": null,
      "grid_template_areas": null,
      "grid_template_columns": null,
      "grid_template_rows": null,
      "height": null,
      "justify_content": null,
      "justify_items": null,
      "left": null,
      "margin": null,
      "max_height": null,
      "max_width": null,
      "min_height": null,
      "min_width": null,
      "object_fit": null,
      "object_position": null,
      "order": null,
      "overflow": null,
      "overflow_x": null,
      "overflow_y": null,
      "padding": null,
      "right": null,
      "top": null,
      "visibility": null,
      "width": null
     }
    },
    "b22dc51845c44b25898f7f3b6e74896f": {
     "model_module": "@jupyter-widgets/controls",
     "model_module_version": "1.5.0",
     "model_name": "HTMLModel",
     "state": {
      "_dom_classes": [],
      "_model_module": "@jupyter-widgets/controls",
      "_model_module_version": "1.5.0",
      "_model_name": "HTMLModel",
      "_view_count": null,
      "_view_module": "@jupyter-widgets/controls",
      "_view_module_version": "1.5.0",
      "_view_name": "HTMLView",
      "description": "",
      "description_tooltip": null,
      "layout": "IPY_MODEL_36cd4c90283b41deaccdd690514be752",
      "placeholder": "​",
      "style": "IPY_MODEL_67b321b9f9e347b78e6558885e373d1b",
      "value": " 638k/638k [00:00&lt;00:00, 2.26MB/s]"
     }
    },
    "b3815639ad5f4074810c2a09df8d8541": {
     "model_module": "@jupyter-widgets/base",
     "model_module_version": "1.2.0",
     "model_name": "LayoutModel",
     "state": {
      "_model_module": "@jupyter-widgets/base",
      "_model_module_version": "1.2.0",
      "_model_name": "LayoutModel",
      "_view_count": null,
      "_view_module": "@jupyter-widgets/base",
      "_view_module_version": "1.2.0",
      "_view_name": "LayoutView",
      "align_content": null,
      "align_items": null,
      "align_self": null,
      "border": null,
      "bottom": null,
      "display": null,
      "flex": null,
      "flex_flow": null,
      "grid_area": null,
      "grid_auto_columns": null,
      "grid_auto_flow": null,
      "grid_auto_rows": null,
      "grid_column": null,
      "grid_gap": null,
      "grid_row": null,
      "grid_template_areas": null,
      "grid_template_columns": null,
      "grid_template_rows": null,
      "height": null,
      "justify_content": null,
      "justify_items": null,
      "left": null,
      "margin": null,
      "max_height": null,
      "max_width": null,
      "min_height": null,
      "min_width": null,
      "object_fit": null,
      "object_position": null,
      "order": null,
      "overflow": null,
      "overflow_x": null,
      "overflow_y": null,
      "padding": null,
      "right": null,
      "top": null,
      "visibility": null,
      "width": null
     }
    },
    "b3c2b9c850164a9ab37770927889caeb": {
     "model_module": "@jupyter-widgets/controls",
     "model_module_version": "1.5.0",
     "model_name": "FloatProgressModel",
     "state": {
      "_dom_classes": [],
      "_model_module": "@jupyter-widgets/controls",
      "_model_module_version": "1.5.0",
      "_model_name": "FloatProgressModel",
      "_view_count": null,
      "_view_module": "@jupyter-widgets/controls",
      "_view_module_version": "1.5.0",
      "_view_name": "ProgressView",
      "bar_style": "success",
      "description": "",
      "description_tooltip": null,
      "layout": "IPY_MODEL_14a1b65faa0f4956b3c0904672b48f60",
      "max": 20519090,
      "min": 0,
      "orientation": "horizontal",
      "style": "IPY_MODEL_314853deab32421998cd888b08d770a9",
      "value": 20519090
     }
    },
    "b5553c944897409baa47984a5c9f69ea": {
     "model_module": "@jupyter-widgets/controls",
     "model_module_version": "1.5.0",
     "model_name": "HTMLModel",
     "state": {
      "_dom_classes": [],
      "_model_module": "@jupyter-widgets/controls",
      "_model_module_version": "1.5.0",
      "_model_name": "HTMLModel",
      "_view_count": null,
      "_view_module": "@jupyter-widgets/controls",
      "_view_module_version": "1.5.0",
      "_view_name": "HTMLView",
      "description": "",
      "description_tooltip": null,
      "layout": "IPY_MODEL_5a8e42255d62435f9b6aa2dff14e1875",
      "placeholder": "​",
      "style": "IPY_MODEL_a55e4083201643ff8b47f55b875db919",
      "value": "Downloading https://raw.githubusercontent.com/stanfordnlp/stanza-resources/main/resources_1.8.0.json: "
     }
    },
    "b85a7e62a4e54433bb63b7375367bfbb": {
     "model_module": "@jupyter-widgets/base",
     "model_module_version": "1.2.0",
     "model_name": "LayoutModel",
     "state": {
      "_model_module": "@jupyter-widgets/base",
      "_model_module_version": "1.2.0",
      "_model_name": "LayoutModel",
      "_view_count": null,
      "_view_module": "@jupyter-widgets/base",
      "_view_module_version": "1.2.0",
      "_view_name": "LayoutView",
      "align_content": null,
      "align_items": null,
      "align_self": null,
      "border": null,
      "bottom": null,
      "display": null,
      "flex": null,
      "flex_flow": null,
      "grid_area": null,
      "grid_auto_columns": null,
      "grid_auto_flow": null,
      "grid_auto_rows": null,
      "grid_column": null,
      "grid_gap": null,
      "grid_row": null,
      "grid_template_areas": null,
      "grid_template_columns": null,
      "grid_template_rows": null,
      "height": null,
      "justify_content": null,
      "justify_items": null,
      "left": null,
      "margin": null,
      "max_height": null,
      "max_width": null,
      "min_height": null,
      "min_width": null,
      "object_fit": null,
      "object_position": null,
      "order": null,
      "overflow": null,
      "overflow_x": null,
      "overflow_y": null,
      "padding": null,
      "right": null,
      "top": null,
      "visibility": null,
      "width": null
     }
    },
    "ba1c98265967439c97e274adef607b96": {
     "model_module": "@jupyter-widgets/controls",
     "model_module_version": "1.5.0",
     "model_name": "HBoxModel",
     "state": {
      "_dom_classes": [],
      "_model_module": "@jupyter-widgets/controls",
      "_model_module_version": "1.5.0",
      "_model_name": "HBoxModel",
      "_view_count": null,
      "_view_module": "@jupyter-widgets/controls",
      "_view_module_version": "1.5.0",
      "_view_name": "HBoxView",
      "box_style": "",
      "children": [
       "IPY_MODEL_4886e816b74d41cb9be77ec38c6568dd",
       "IPY_MODEL_2c958e03813a42ebaeddfb62f8fd2bf0",
       "IPY_MODEL_64acf37a070d4c8896232126026efec6"
      ],
      "layout": "IPY_MODEL_f4a80a91cf2f4418a38cfda61002cc3a"
     }
    },
    "bb429f9f44694b18a5efe783927e81f5": {
     "model_module": "@jupyter-widgets/controls",
     "model_module_version": "1.5.0",
     "model_name": "DescriptionStyleModel",
     "state": {
      "_model_module": "@jupyter-widgets/controls",
      "_model_module_version": "1.5.0",
      "_model_name": "DescriptionStyleModel",
      "_view_count": null,
      "_view_module": "@jupyter-widgets/base",
      "_view_module_version": "1.2.0",
      "_view_name": "StyleView",
      "description_width": ""
     }
    },
    "bb4be7c9cbec4d3ba0ad60b849967ab2": {
     "model_module": "@jupyter-widgets/controls",
     "model_module_version": "1.5.0",
     "model_name": "DescriptionStyleModel",
     "state": {
      "_model_module": "@jupyter-widgets/controls",
      "_model_module_version": "1.5.0",
      "_model_name": "DescriptionStyleModel",
      "_view_count": null,
      "_view_module": "@jupyter-widgets/base",
      "_view_module_version": "1.2.0",
      "_view_name": "StyleView",
      "description_width": ""
     }
    },
    "be07496d154f46fda5f3876ce44e3cfb": {
     "model_module": "@jupyter-widgets/controls",
     "model_module_version": "1.5.0",
     "model_name": "HBoxModel",
     "state": {
      "_dom_classes": [],
      "_model_module": "@jupyter-widgets/controls",
      "_model_module_version": "1.5.0",
      "_model_name": "HBoxModel",
      "_view_count": null,
      "_view_module": "@jupyter-widgets/controls",
      "_view_module_version": "1.5.0",
      "_view_name": "HBoxView",
      "box_style": "",
      "children": [
       "IPY_MODEL_c070b77c1ec642a1a2351df3115ad01d",
       "IPY_MODEL_dece932760e34c9a9e7366b4b35c9c1c",
       "IPY_MODEL_59ee63fa27774ef68052feb93d87c9a6"
      ],
      "layout": "IPY_MODEL_beeec285c73d49f2bbad35e0668b9517"
     }
    },
    "bea02085c8344dc3a438947f47a7e607": {
     "model_module": "@jupyter-widgets/controls",
     "model_module_version": "1.5.0",
     "model_name": "DescriptionStyleModel",
     "state": {
      "_model_module": "@jupyter-widgets/controls",
      "_model_module_version": "1.5.0",
      "_model_name": "DescriptionStyleModel",
      "_view_count": null,
      "_view_module": "@jupyter-widgets/base",
      "_view_module_version": "1.2.0",
      "_view_name": "StyleView",
      "description_width": ""
     }
    },
    "beeec285c73d49f2bbad35e0668b9517": {
     "model_module": "@jupyter-widgets/base",
     "model_module_version": "1.2.0",
     "model_name": "LayoutModel",
     "state": {
      "_model_module": "@jupyter-widgets/base",
      "_model_module_version": "1.2.0",
      "_model_name": "LayoutModel",
      "_view_count": null,
      "_view_module": "@jupyter-widgets/base",
      "_view_module_version": "1.2.0",
      "_view_name": "LayoutView",
      "align_content": null,
      "align_items": null,
      "align_self": null,
      "border": null,
      "bottom": null,
      "display": null,
      "flex": null,
      "flex_flow": null,
      "grid_area": null,
      "grid_auto_columns": null,
      "grid_auto_flow": null,
      "grid_auto_rows": null,
      "grid_column": null,
      "grid_gap": null,
      "grid_row": null,
      "grid_template_areas": null,
      "grid_template_columns": null,
      "grid_template_rows": null,
      "height": null,
      "justify_content": null,
      "justify_items": null,
      "left": null,
      "margin": null,
      "max_height": null,
      "max_width": null,
      "min_height": null,
      "min_width": null,
      "object_fit": null,
      "object_position": null,
      "order": null,
      "overflow": null,
      "overflow_x": null,
      "overflow_y": null,
      "padding": null,
      "right": null,
      "top": null,
      "visibility": null,
      "width": null
     }
    },
    "bfca108ec7464ce9aa955e05dcbec7f1": {
     "model_module": "@jupyter-widgets/controls",
     "model_module_version": "1.5.0",
     "model_name": "HBoxModel",
     "state": {
      "_dom_classes": [],
      "_model_module": "@jupyter-widgets/controls",
      "_model_module_version": "1.5.0",
      "_model_name": "HBoxModel",
      "_view_count": null,
      "_view_module": "@jupyter-widgets/controls",
      "_view_module_version": "1.5.0",
      "_view_name": "HBoxView",
      "box_style": "",
      "children": [
       "IPY_MODEL_02fa002502d84a77a5b013cf106d8ef1",
       "IPY_MODEL_1f58bea59299430e860db577c5ef936f",
       "IPY_MODEL_f6eef125e2cf4863b2c7fdc872713200"
      ],
      "layout": "IPY_MODEL_89dc27bc04614d3c9239f09ab4e6f4c0"
     }
    },
    "c070b77c1ec642a1a2351df3115ad01d": {
     "model_module": "@jupyter-widgets/controls",
     "model_module_version": "1.5.0",
     "model_name": "HTMLModel",
     "state": {
      "_dom_classes": [],
      "_model_module": "@jupyter-widgets/controls",
      "_model_module_version": "1.5.0",
      "_model_name": "HTMLModel",
      "_view_count": null,
      "_view_module": "@jupyter-widgets/controls",
      "_view_module_version": "1.5.0",
      "_view_name": "HTMLView",
      "description": "",
      "description_tooltip": null,
      "layout": "IPY_MODEL_c6ecaaca24154ba7877f2e682080799c",
      "placeholder": "​",
      "style": "IPY_MODEL_30eca086cd0748c6ba6eda9544badcad",
      "value": "Downloading https://raw.githubusercontent.com/stanfordnlp/stanza-resources/main/resources_1.8.0.json: "
     }
    },
    "c24a596ab1684064add720b1934b449e": {
     "model_module": "@jupyter-widgets/controls",
     "model_module_version": "1.5.0",
     "model_name": "HBoxModel",
     "state": {
      "_dom_classes": [],
      "_model_module": "@jupyter-widgets/controls",
      "_model_module_version": "1.5.0",
      "_model_name": "HBoxModel",
      "_view_count": null,
      "_view_module": "@jupyter-widgets/controls",
      "_view_module_version": "1.5.0",
      "_view_name": "HBoxView",
      "box_style": "",
      "children": [
       "IPY_MODEL_2b7251835fd641eea0b47ed01083d20e",
       "IPY_MODEL_803f3bfc05804f1abb4569acd4e1fc34",
       "IPY_MODEL_f97ee59c2d234f748f533faa4e592a00"
      ],
      "layout": "IPY_MODEL_2055509a02994400887e83c9bf4b040d"
     }
    },
    "c4ca1111c14c48879a8d855e016f1de1": {
     "model_module": "@jupyter-widgets/controls",
     "model_module_version": "1.5.0",
     "model_name": "HBoxModel",
     "state": {
      "_dom_classes": [],
      "_model_module": "@jupyter-widgets/controls",
      "_model_module_version": "1.5.0",
      "_model_name": "HBoxModel",
      "_view_count": null,
      "_view_module": "@jupyter-widgets/controls",
      "_view_module_version": "1.5.0",
      "_view_name": "HBoxView",
      "box_style": "",
      "children": [
       "IPY_MODEL_91decba4b3604720ba09bf06eae9901e",
       "IPY_MODEL_634ef7c3793744de821b4102a5c9be7e",
       "IPY_MODEL_b22dc51845c44b25898f7f3b6e74896f"
      ],
      "layout": "IPY_MODEL_e588d36ea8c74b79a6323fec85df3333"
     }
    },
    "c6ecaaca24154ba7877f2e682080799c": {
     "model_module": "@jupyter-widgets/base",
     "model_module_version": "1.2.0",
     "model_name": "LayoutModel",
     "state": {
      "_model_module": "@jupyter-widgets/base",
      "_model_module_version": "1.2.0",
      "_model_name": "LayoutModel",
      "_view_count": null,
      "_view_module": "@jupyter-widgets/base",
      "_view_module_version": "1.2.0",
      "_view_name": "LayoutView",
      "align_content": null,
      "align_items": null,
      "align_self": null,
      "border": null,
      "bottom": null,
      "display": null,
      "flex": null,
      "flex_flow": null,
      "grid_area": null,
      "grid_auto_columns": null,
      "grid_auto_flow": null,
      "grid_auto_rows": null,
      "grid_column": null,
      "grid_gap": null,
      "grid_row": null,
      "grid_template_areas": null,
      "grid_template_columns": null,
      "grid_template_rows": null,
      "height": null,
      "justify_content": null,
      "justify_items": null,
      "left": null,
      "margin": null,
      "max_height": null,
      "max_width": null,
      "min_height": null,
      "min_width": null,
      "object_fit": null,
      "object_position": null,
      "order": null,
      "overflow": null,
      "overflow_x": null,
      "overflow_y": null,
      "padding": null,
      "right": null,
      "top": null,
      "visibility": null,
      "width": null
     }
    },
    "c876fe4b5311478b982721db73dd2a29": {
     "model_module": "@jupyter-widgets/base",
     "model_module_version": "1.2.0",
     "model_name": "LayoutModel",
     "state": {
      "_model_module": "@jupyter-widgets/base",
      "_model_module_version": "1.2.0",
      "_model_name": "LayoutModel",
      "_view_count": null,
      "_view_module": "@jupyter-widgets/base",
      "_view_module_version": "1.2.0",
      "_view_name": "LayoutView",
      "align_content": null,
      "align_items": null,
      "align_self": null,
      "border": null,
      "bottom": null,
      "display": null,
      "flex": null,
      "flex_flow": null,
      "grid_area": null,
      "grid_auto_columns": null,
      "grid_auto_flow": null,
      "grid_auto_rows": null,
      "grid_column": null,
      "grid_gap": null,
      "grid_row": null,
      "grid_template_areas": null,
      "grid_template_columns": null,
      "grid_template_rows": null,
      "height": null,
      "justify_content": null,
      "justify_items": null,
      "left": null,
      "margin": null,
      "max_height": null,
      "max_width": null,
      "min_height": null,
      "min_width": null,
      "object_fit": null,
      "object_position": null,
      "order": null,
      "overflow": null,
      "overflow_x": null,
      "overflow_y": null,
      "padding": null,
      "right": null,
      "top": null,
      "visibility": null,
      "width": null
     }
    },
    "c9eb5aecdd2f4fd5b79774585d79186c": {
     "model_module": "@jupyter-widgets/base",
     "model_module_version": "1.2.0",
     "model_name": "LayoutModel",
     "state": {
      "_model_module": "@jupyter-widgets/base",
      "_model_module_version": "1.2.0",
      "_model_name": "LayoutModel",
      "_view_count": null,
      "_view_module": "@jupyter-widgets/base",
      "_view_module_version": "1.2.0",
      "_view_name": "LayoutView",
      "align_content": null,
      "align_items": null,
      "align_self": null,
      "border": null,
      "bottom": null,
      "display": null,
      "flex": null,
      "flex_flow": null,
      "grid_area": null,
      "grid_auto_columns": null,
      "grid_auto_flow": null,
      "grid_auto_rows": null,
      "grid_column": null,
      "grid_gap": null,
      "grid_row": null,
      "grid_template_areas": null,
      "grid_template_columns": null,
      "grid_template_rows": null,
      "height": null,
      "justify_content": null,
      "justify_items": null,
      "left": null,
      "margin": null,
      "max_height": null,
      "max_width": null,
      "min_height": null,
      "min_width": null,
      "object_fit": null,
      "object_position": null,
      "order": null,
      "overflow": null,
      "overflow_x": null,
      "overflow_y": null,
      "padding": null,
      "right": null,
      "top": null,
      "visibility": null,
      "width": null
     }
    },
    "caed4a92df8a4a9e8441439ed7d7fd39": {
     "model_module": "@jupyter-widgets/base",
     "model_module_version": "1.2.0",
     "model_name": "LayoutModel",
     "state": {
      "_model_module": "@jupyter-widgets/base",
      "_model_module_version": "1.2.0",
      "_model_name": "LayoutModel",
      "_view_count": null,
      "_view_module": "@jupyter-widgets/base",
      "_view_module_version": "1.2.0",
      "_view_name": "LayoutView",
      "align_content": null,
      "align_items": null,
      "align_self": null,
      "border": null,
      "bottom": null,
      "display": null,
      "flex": null,
      "flex_flow": null,
      "grid_area": null,
      "grid_auto_columns": null,
      "grid_auto_flow": null,
      "grid_auto_rows": null,
      "grid_column": null,
      "grid_gap": null,
      "grid_row": null,
      "grid_template_areas": null,
      "grid_template_columns": null,
      "grid_template_rows": null,
      "height": null,
      "justify_content": null,
      "justify_items": null,
      "left": null,
      "margin": null,
      "max_height": null,
      "max_width": null,
      "min_height": null,
      "min_width": null,
      "object_fit": null,
      "object_position": null,
      "order": null,
      "overflow": null,
      "overflow_x": null,
      "overflow_y": null,
      "padding": null,
      "right": null,
      "top": null,
      "visibility": null,
      "width": null
     }
    },
    "cc77d3c0520c4a62b00a4d1eb0a5802b": {
     "model_module": "@jupyter-widgets/controls",
     "model_module_version": "1.5.0",
     "model_name": "ProgressStyleModel",
     "state": {
      "_model_module": "@jupyter-widgets/controls",
      "_model_module_version": "1.5.0",
      "_model_name": "ProgressStyleModel",
      "_view_count": null,
      "_view_module": "@jupyter-widgets/base",
      "_view_module_version": "1.2.0",
      "_view_name": "StyleView",
      "bar_color": null,
      "description_width": ""
     }
    },
    "cfb3c5a245a14995937240f4f77e976a": {
     "model_module": "@jupyter-widgets/base",
     "model_module_version": "1.2.0",
     "model_name": "LayoutModel",
     "state": {
      "_model_module": "@jupyter-widgets/base",
      "_model_module_version": "1.2.0",
      "_model_name": "LayoutModel",
      "_view_count": null,
      "_view_module": "@jupyter-widgets/base",
      "_view_module_version": "1.2.0",
      "_view_name": "LayoutView",
      "align_content": null,
      "align_items": null,
      "align_self": null,
      "border": null,
      "bottom": null,
      "display": null,
      "flex": null,
      "flex_flow": null,
      "grid_area": null,
      "grid_auto_columns": null,
      "grid_auto_flow": null,
      "grid_auto_rows": null,
      "grid_column": null,
      "grid_gap": null,
      "grid_row": null,
      "grid_template_areas": null,
      "grid_template_columns": null,
      "grid_template_rows": null,
      "height": null,
      "justify_content": null,
      "justify_items": null,
      "left": null,
      "margin": null,
      "max_height": null,
      "max_width": null,
      "min_height": null,
      "min_width": null,
      "object_fit": null,
      "object_position": null,
      "order": null,
      "overflow": null,
      "overflow_x": null,
      "overflow_y": null,
      "padding": null,
      "right": null,
      "top": null,
      "visibility": null,
      "width": null
     }
    },
    "d00b8b2bc2ff46c184470d54da47fe44": {
     "model_module": "@jupyter-widgets/base",
     "model_module_version": "1.2.0",
     "model_name": "LayoutModel",
     "state": {
      "_model_module": "@jupyter-widgets/base",
      "_model_module_version": "1.2.0",
      "_model_name": "LayoutModel",
      "_view_count": null,
      "_view_module": "@jupyter-widgets/base",
      "_view_module_version": "1.2.0",
      "_view_name": "LayoutView",
      "align_content": null,
      "align_items": null,
      "align_self": null,
      "border": null,
      "bottom": null,
      "display": null,
      "flex": null,
      "flex_flow": null,
      "grid_area": null,
      "grid_auto_columns": null,
      "grid_auto_flow": null,
      "grid_auto_rows": null,
      "grid_column": null,
      "grid_gap": null,
      "grid_row": null,
      "grid_template_areas": null,
      "grid_template_columns": null,
      "grid_template_rows": null,
      "height": null,
      "justify_content": null,
      "justify_items": null,
      "left": null,
      "margin": null,
      "max_height": null,
      "max_width": null,
      "min_height": null,
      "min_width": null,
      "object_fit": null,
      "object_position": null,
      "order": null,
      "overflow": null,
      "overflow_x": null,
      "overflow_y": null,
      "padding": null,
      "right": null,
      "top": null,
      "visibility": null,
      "width": null
     }
    },
    "d10ccfee686b4c8d9a1be2b59264919b": {
     "model_module": "@jupyter-widgets/base",
     "model_module_version": "1.2.0",
     "model_name": "LayoutModel",
     "state": {
      "_model_module": "@jupyter-widgets/base",
      "_model_module_version": "1.2.0",
      "_model_name": "LayoutModel",
      "_view_count": null,
      "_view_module": "@jupyter-widgets/base",
      "_view_module_version": "1.2.0",
      "_view_name": "LayoutView",
      "align_content": null,
      "align_items": null,
      "align_self": null,
      "border": null,
      "bottom": null,
      "display": null,
      "flex": null,
      "flex_flow": null,
      "grid_area": null,
      "grid_auto_columns": null,
      "grid_auto_flow": null,
      "grid_auto_rows": null,
      "grid_column": null,
      "grid_gap": null,
      "grid_row": null,
      "grid_template_areas": null,
      "grid_template_columns": null,
      "grid_template_rows": null,
      "height": null,
      "justify_content": null,
      "justify_items": null,
      "left": null,
      "margin": null,
      "max_height": null,
      "max_width": null,
      "min_height": null,
      "min_width": null,
      "object_fit": null,
      "object_position": null,
      "order": null,
      "overflow": null,
      "overflow_x": null,
      "overflow_y": null,
      "padding": null,
      "right": null,
      "top": null,
      "visibility": null,
      "width": null
     }
    },
    "d159a2deb6694e5a8e40efd95108ce36": {
     "model_module": "@jupyter-widgets/controls",
     "model_module_version": "1.5.0",
     "model_name": "HTMLModel",
     "state": {
      "_dom_classes": [],
      "_model_module": "@jupyter-widgets/controls",
      "_model_module_version": "1.5.0",
      "_model_name": "HTMLModel",
      "_view_count": null,
      "_view_module": "@jupyter-widgets/controls",
      "_view_module_version": "1.5.0",
      "_view_name": "HTMLView",
      "description": "",
      "description_tooltip": null,
      "layout": "IPY_MODEL_86bc426be66142609fc4714894d06875",
      "placeholder": "​",
      "style": "IPY_MODEL_621b4ab396f04d71a5dce3dfc5002697",
      "value": " 379k/? [00:00&lt;00:00, 14.1MB/s]"
     }
    },
    "d2ec7502301946989584af66c71e2e12": {
     "model_module": "@jupyter-widgets/base",
     "model_module_version": "1.2.0",
     "model_name": "LayoutModel",
     "state": {
      "_model_module": "@jupyter-widgets/base",
      "_model_module_version": "1.2.0",
      "_model_name": "LayoutModel",
      "_view_count": null,
      "_view_module": "@jupyter-widgets/base",
      "_view_module_version": "1.2.0",
      "_view_name": "LayoutView",
      "align_content": null,
      "align_items": null,
      "align_self": null,
      "border": null,
      "bottom": null,
      "display": null,
      "flex": null,
      "flex_flow": null,
      "grid_area": null,
      "grid_auto_columns": null,
      "grid_auto_flow": null,
      "grid_auto_rows": null,
      "grid_column": null,
      "grid_gap": null,
      "grid_row": null,
      "grid_template_areas": null,
      "grid_template_columns": null,
      "grid_template_rows": null,
      "height": null,
      "justify_content": null,
      "justify_items": null,
      "left": null,
      "margin": null,
      "max_height": null,
      "max_width": null,
      "min_height": null,
      "min_width": null,
      "object_fit": null,
      "object_position": null,
      "order": null,
      "overflow": null,
      "overflow_x": null,
      "overflow_y": null,
      "padding": null,
      "right": null,
      "top": null,
      "visibility": null,
      "width": null
     }
    },
    "d44bdd063e5c4c92bf01dbe27ce87e5b": {
     "model_module": "@jupyter-widgets/controls",
     "model_module_version": "1.5.0",
     "model_name": "FloatProgressModel",
     "state": {
      "_dom_classes": [],
      "_model_module": "@jupyter-widgets/controls",
      "_model_module_version": "1.5.0",
      "_model_name": "FloatProgressModel",
      "_view_count": null,
      "_view_module": "@jupyter-widgets/controls",
      "_view_module_version": "1.5.0",
      "_view_name": "ProgressView",
      "bar_style": "success",
      "description": "",
      "description_tooltip": null,
      "layout": "IPY_MODEL_a0c984be4fae434db38089b7a5e4156f",
      "max": 47208,
      "min": 0,
      "orientation": "horizontal",
      "style": "IPY_MODEL_82602524cdd84e7dbe20fc7c0991fea9",
      "value": 47208
     }
    },
    "d4c4fd810bc84fc99dde3e63d9260522": {
     "model_module": "@jupyter-widgets/controls",
     "model_module_version": "1.5.0",
     "model_name": "DescriptionStyleModel",
     "state": {
      "_model_module": "@jupyter-widgets/controls",
      "_model_module_version": "1.5.0",
      "_model_name": "DescriptionStyleModel",
      "_view_count": null,
      "_view_module": "@jupyter-widgets/base",
      "_view_module_version": "1.2.0",
      "_view_name": "StyleView",
      "description_width": ""
     }
    },
    "d4d435bbfa8f4f1da00fa7033c42d49e": {
     "model_module": "@jupyter-widgets/controls",
     "model_module_version": "1.5.0",
     "model_name": "ProgressStyleModel",
     "state": {
      "_model_module": "@jupyter-widgets/controls",
      "_model_module_version": "1.5.0",
      "_model_name": "ProgressStyleModel",
      "_view_count": null,
      "_view_module": "@jupyter-widgets/base",
      "_view_module_version": "1.2.0",
      "_view_name": "StyleView",
      "bar_color": null,
      "description_width": ""
     }
    },
    "d5a771b08dad4e49afe7ba1db13ce7a0": {
     "model_module": "@jupyter-widgets/controls",
     "model_module_version": "1.5.0",
     "model_name": "HTMLModel",
     "state": {
      "_dom_classes": [],
      "_model_module": "@jupyter-widgets/controls",
      "_model_module_version": "1.5.0",
      "_model_name": "HTMLModel",
      "_view_count": null,
      "_view_module": "@jupyter-widgets/controls",
      "_view_module_version": "1.5.0",
      "_view_name": "HTMLView",
      "description": "",
      "description_tooltip": null,
      "layout": "IPY_MODEL_fe8efd85a5124cc79f97d03deb7e7d5b",
      "placeholder": "​",
      "style": "IPY_MODEL_09b8ad3e798748fd864d7a922d783290",
      "value": " 379k/? [00:00&lt;00:00, 17.1MB/s]"
     }
    },
    "d6d566868114467f9fb04527ae3ccb93": {
     "model_module": "@jupyter-widgets/base",
     "model_module_version": "1.2.0",
     "model_name": "LayoutModel",
     "state": {
      "_model_module": "@jupyter-widgets/base",
      "_model_module_version": "1.2.0",
      "_model_name": "LayoutModel",
      "_view_count": null,
      "_view_module": "@jupyter-widgets/base",
      "_view_module_version": "1.2.0",
      "_view_name": "LayoutView",
      "align_content": null,
      "align_items": null,
      "align_self": null,
      "border": null,
      "bottom": null,
      "display": null,
      "flex": null,
      "flex_flow": null,
      "grid_area": null,
      "grid_auto_columns": null,
      "grid_auto_flow": null,
      "grid_auto_rows": null,
      "grid_column": null,
      "grid_gap": null,
      "grid_row": null,
      "grid_template_areas": null,
      "grid_template_columns": null,
      "grid_template_rows": null,
      "height": null,
      "justify_content": null,
      "justify_items": null,
      "left": null,
      "margin": null,
      "max_height": null,
      "max_width": null,
      "min_height": null,
      "min_width": null,
      "object_fit": null,
      "object_position": null,
      "order": null,
      "overflow": null,
      "overflow_x": null,
      "overflow_y": null,
      "padding": null,
      "right": null,
      "top": null,
      "visibility": null,
      "width": null
     }
    },
    "db17f326e13046bd9209e4a8fb6fa141": {
     "model_module": "@jupyter-widgets/controls",
     "model_module_version": "1.5.0",
     "model_name": "FloatProgressModel",
     "state": {
      "_dom_classes": [],
      "_model_module": "@jupyter-widgets/controls",
      "_model_module_version": "1.5.0",
      "_model_name": "FloatProgressModel",
      "_view_count": null,
      "_view_module": "@jupyter-widgets/controls",
      "_view_module_version": "1.5.0",
      "_view_name": "ProgressView",
      "bar_style": "success",
      "description": "",
      "description_tooltip": null,
      "layout": "IPY_MODEL_6dbd0a1ee9b04595a562af3bd60e12f7",
      "max": 4643326,
      "min": 0,
      "orientation": "horizontal",
      "style": "IPY_MODEL_40ecc9ea79814681890c13222fbfef1a",
      "value": 4643326
     }
    },
    "db95b822523b4732aab275f7b807f9d6": {
     "model_module": "@jupyter-widgets/base",
     "model_module_version": "1.2.0",
     "model_name": "LayoutModel",
     "state": {
      "_model_module": "@jupyter-widgets/base",
      "_model_module_version": "1.2.0",
      "_model_name": "LayoutModel",
      "_view_count": null,
      "_view_module": "@jupyter-widgets/base",
      "_view_module_version": "1.2.0",
      "_view_name": "LayoutView",
      "align_content": null,
      "align_items": null,
      "align_self": null,
      "border": null,
      "bottom": null,
      "display": null,
      "flex": null,
      "flex_flow": null,
      "grid_area": null,
      "grid_auto_columns": null,
      "grid_auto_flow": null,
      "grid_auto_rows": null,
      "grid_column": null,
      "grid_gap": null,
      "grid_row": null,
      "grid_template_areas": null,
      "grid_template_columns": null,
      "grid_template_rows": null,
      "height": null,
      "justify_content": null,
      "justify_items": null,
      "left": null,
      "margin": null,
      "max_height": null,
      "max_width": null,
      "min_height": null,
      "min_width": null,
      "object_fit": null,
      "object_position": null,
      "order": null,
      "overflow": null,
      "overflow_x": null,
      "overflow_y": null,
      "padding": null,
      "right": null,
      "top": null,
      "visibility": null,
      "width": null
     }
    },
    "dc903d1b907e4a8f8de461c1438bed76": {
     "model_module": "@jupyter-widgets/base",
     "model_module_version": "1.2.0",
     "model_name": "LayoutModel",
     "state": {
      "_model_module": "@jupyter-widgets/base",
      "_model_module_version": "1.2.0",
      "_model_name": "LayoutModel",
      "_view_count": null,
      "_view_module": "@jupyter-widgets/base",
      "_view_module_version": "1.2.0",
      "_view_name": "LayoutView",
      "align_content": null,
      "align_items": null,
      "align_self": null,
      "border": null,
      "bottom": null,
      "display": null,
      "flex": null,
      "flex_flow": null,
      "grid_area": null,
      "grid_auto_columns": null,
      "grid_auto_flow": null,
      "grid_auto_rows": null,
      "grid_column": null,
      "grid_gap": null,
      "grid_row": null,
      "grid_template_areas": null,
      "grid_template_columns": null,
      "grid_template_rows": null,
      "height": null,
      "justify_content": null,
      "justify_items": null,
      "left": null,
      "margin": null,
      "max_height": null,
      "max_width": null,
      "min_height": null,
      "min_width": null,
      "object_fit": null,
      "object_position": null,
      "order": null,
      "overflow": null,
      "overflow_x": null,
      "overflow_y": null,
      "padding": null,
      "right": null,
      "top": null,
      "visibility": null,
      "width": null
     }
    },
    "ddab99b615cf44a9bbee11ec13025641": {
     "model_module": "@jupyter-widgets/controls",
     "model_module_version": "1.5.0",
     "model_name": "FloatProgressModel",
     "state": {
      "_dom_classes": [],
      "_model_module": "@jupyter-widgets/controls",
      "_model_module_version": "1.5.0",
      "_model_name": "FloatProgressModel",
      "_view_count": null,
      "_view_module": "@jupyter-widgets/controls",
      "_view_module_version": "1.5.0",
      "_view_name": "ProgressView",
      "bar_style": "success",
      "description": "",
      "description_tooltip": null,
      "layout": "IPY_MODEL_85a4af05a8624644863664dbdcc9cca3",
      "max": 47208,
      "min": 0,
      "orientation": "horizontal",
      "style": "IPY_MODEL_950886ff45414df2a90967bcd6921c81",
      "value": 47208
     }
    },
    "ddbd395f6cbf4c28af82e78b3a9c5ece": {
     "model_module": "@jupyter-widgets/controls",
     "model_module_version": "1.5.0",
     "model_name": "DescriptionStyleModel",
     "state": {
      "_model_module": "@jupyter-widgets/controls",
      "_model_module_version": "1.5.0",
      "_model_name": "DescriptionStyleModel",
      "_view_count": null,
      "_view_module": "@jupyter-widgets/base",
      "_view_module_version": "1.2.0",
      "_view_name": "StyleView",
      "description_width": ""
     }
    },
    "ddc924a471584cfd9ca0a5d39a70796a": {
     "model_module": "@jupyter-widgets/controls",
     "model_module_version": "1.5.0",
     "model_name": "HTMLModel",
     "state": {
      "_dom_classes": [],
      "_model_module": "@jupyter-widgets/controls",
      "_model_module_version": "1.5.0",
      "_model_name": "HTMLModel",
      "_view_count": null,
      "_view_module": "@jupyter-widgets/controls",
      "_view_module_version": "1.5.0",
      "_view_name": "HTMLView",
      "description": "",
      "description_tooltip": null,
      "layout": "IPY_MODEL_ea7b7de9ba8646fe9469879b8381e1ff",
      "placeholder": "​",
      "style": "IPY_MODEL_75cb63478609461da957b7f3b435daf9",
      "value": "Downloading https://raw.githubusercontent.com/stanfordnlp/stanza-resources/main/resources_1.8.0.json: "
     }
    },
    "dece932760e34c9a9e7366b4b35c9c1c": {
     "model_module": "@jupyter-widgets/controls",
     "model_module_version": "1.5.0",
     "model_name": "FloatProgressModel",
     "state": {
      "_dom_classes": [],
      "_model_module": "@jupyter-widgets/controls",
      "_model_module_version": "1.5.0",
      "_model_name": "FloatProgressModel",
      "_view_count": null,
      "_view_module": "@jupyter-widgets/controls",
      "_view_module_version": "1.5.0",
      "_view_name": "ProgressView",
      "bar_style": "success",
      "description": "",
      "description_tooltip": null,
      "layout": "IPY_MODEL_d2ec7502301946989584af66c71e2e12",
      "max": 47208,
      "min": 0,
      "orientation": "horizontal",
      "style": "IPY_MODEL_e946a27972df41ef888d35429d556f58",
      "value": 47208
     }
    },
    "e15d261c020e4c6f8132347e80f35ed6": {
     "model_module": "@jupyter-widgets/base",
     "model_module_version": "1.2.0",
     "model_name": "LayoutModel",
     "state": {
      "_model_module": "@jupyter-widgets/base",
      "_model_module_version": "1.2.0",
      "_model_name": "LayoutModel",
      "_view_count": null,
      "_view_module": "@jupyter-widgets/base",
      "_view_module_version": "1.2.0",
      "_view_name": "LayoutView",
      "align_content": null,
      "align_items": null,
      "align_self": null,
      "border": null,
      "bottom": null,
      "display": null,
      "flex": null,
      "flex_flow": null,
      "grid_area": null,
      "grid_auto_columns": null,
      "grid_auto_flow": null,
      "grid_auto_rows": null,
      "grid_column": null,
      "grid_gap": null,
      "grid_row": null,
      "grid_template_areas": null,
      "grid_template_columns": null,
      "grid_template_rows": null,
      "height": null,
      "justify_content": null,
      "justify_items": null,
      "left": null,
      "margin": null,
      "max_height": null,
      "max_width": null,
      "min_height": null,
      "min_width": null,
      "object_fit": null,
      "object_position": null,
      "order": null,
      "overflow": null,
      "overflow_x": null,
      "overflow_y": null,
      "padding": null,
      "right": null,
      "top": null,
      "visibility": null,
      "width": null
     }
    },
    "e172f0115b064d6eb550b95e9ccfb7db": {
     "model_module": "@jupyter-widgets/controls",
     "model_module_version": "1.5.0",
     "model_name": "ProgressStyleModel",
     "state": {
      "_model_module": "@jupyter-widgets/controls",
      "_model_module_version": "1.5.0",
      "_model_name": "ProgressStyleModel",
      "_view_count": null,
      "_view_module": "@jupyter-widgets/base",
      "_view_module_version": "1.2.0",
      "_view_name": "StyleView",
      "bar_color": null,
      "description_width": ""
     }
    },
    "e4eb3037d1744d10a0724063779f0761": {
     "model_module": "@jupyter-widgets/controls",
     "model_module_version": "1.5.0",
     "model_name": "HBoxModel",
     "state": {
      "_dom_classes": [],
      "_model_module": "@jupyter-widgets/controls",
      "_model_module_version": "1.5.0",
      "_model_name": "HBoxModel",
      "_view_count": null,
      "_view_module": "@jupyter-widgets/controls",
      "_view_module_version": "1.5.0",
      "_view_name": "HBoxView",
      "box_style": "",
      "children": [
       "IPY_MODEL_831f7fb332f04e7a9edc13fb86bf5a16",
       "IPY_MODEL_d44bdd063e5c4c92bf01dbe27ce87e5b",
       "IPY_MODEL_e7af93f5fa1141d4b9a86528aa6f4b12"
      ],
      "layout": "IPY_MODEL_e715b9acb57e49f0912361e7d57bc889"
     }
    },
    "e588d36ea8c74b79a6323fec85df3333": {
     "model_module": "@jupyter-widgets/base",
     "model_module_version": "1.2.0",
     "model_name": "LayoutModel",
     "state": {
      "_model_module": "@jupyter-widgets/base",
      "_model_module_version": "1.2.0",
      "_model_name": "LayoutModel",
      "_view_count": null,
      "_view_module": "@jupyter-widgets/base",
      "_view_module_version": "1.2.0",
      "_view_name": "LayoutView",
      "align_content": null,
      "align_items": null,
      "align_self": null,
      "border": null,
      "bottom": null,
      "display": null,
      "flex": null,
      "flex_flow": null,
      "grid_area": null,
      "grid_auto_columns": null,
      "grid_auto_flow": null,
      "grid_auto_rows": null,
      "grid_column": null,
      "grid_gap": null,
      "grid_row": null,
      "grid_template_areas": null,
      "grid_template_columns": null,
      "grid_template_rows": null,
      "height": null,
      "justify_content": null,
      "justify_items": null,
      "left": null,
      "margin": null,
      "max_height": null,
      "max_width": null,
      "min_height": null,
      "min_width": null,
      "object_fit": null,
      "object_position": null,
      "order": null,
      "overflow": null,
      "overflow_x": null,
      "overflow_y": null,
      "padding": null,
      "right": null,
      "top": null,
      "visibility": null,
      "width": null
     }
    },
    "e5a43d8fc56d469dabe9b6b6dd29fc4e": {
     "model_module": "@jupyter-widgets/controls",
     "model_module_version": "1.5.0",
     "model_name": "HBoxModel",
     "state": {
      "_dom_classes": [],
      "_model_module": "@jupyter-widgets/controls",
      "_model_module_version": "1.5.0",
      "_model_name": "HBoxModel",
      "_view_count": null,
      "_view_module": "@jupyter-widgets/controls",
      "_view_module_version": "1.5.0",
      "_view_name": "HBoxView",
      "box_style": "",
      "children": [
       "IPY_MODEL_8895b1fb875a497a8df705fdfae4c80d",
       "IPY_MODEL_ffc052344fb44884b025c68b8b48f2ba",
       "IPY_MODEL_58ed9f1aa86f48eb8fdfc071f90931fc"
      ],
      "layout": "IPY_MODEL_8bee0c50284944f5a18a4d5497cbfa8b"
     }
    },
    "e6b066a696d44966a14316fd29e95b01": {
     "model_module": "@jupyter-widgets/controls",
     "model_module_version": "1.5.0",
     "model_name": "DescriptionStyleModel",
     "state": {
      "_model_module": "@jupyter-widgets/controls",
      "_model_module_version": "1.5.0",
      "_model_name": "DescriptionStyleModel",
      "_view_count": null,
      "_view_module": "@jupyter-widgets/base",
      "_view_module_version": "1.2.0",
      "_view_name": "StyleView",
      "description_width": ""
     }
    },
    "e715b9acb57e49f0912361e7d57bc889": {
     "model_module": "@jupyter-widgets/base",
     "model_module_version": "1.2.0",
     "model_name": "LayoutModel",
     "state": {
      "_model_module": "@jupyter-widgets/base",
      "_model_module_version": "1.2.0",
      "_model_name": "LayoutModel",
      "_view_count": null,
      "_view_module": "@jupyter-widgets/base",
      "_view_module_version": "1.2.0",
      "_view_name": "LayoutView",
      "align_content": null,
      "align_items": null,
      "align_self": null,
      "border": null,
      "bottom": null,
      "display": null,
      "flex": null,
      "flex_flow": null,
      "grid_area": null,
      "grid_auto_columns": null,
      "grid_auto_flow": null,
      "grid_auto_rows": null,
      "grid_column": null,
      "grid_gap": null,
      "grid_row": null,
      "grid_template_areas": null,
      "grid_template_columns": null,
      "grid_template_rows": null,
      "height": null,
      "justify_content": null,
      "justify_items": null,
      "left": null,
      "margin": null,
      "max_height": null,
      "max_width": null,
      "min_height": null,
      "min_width": null,
      "object_fit": null,
      "object_position": null,
      "order": null,
      "overflow": null,
      "overflow_x": null,
      "overflow_y": null,
      "padding": null,
      "right": null,
      "top": null,
      "visibility": null,
      "width": null
     }
    },
    "e7198e1dbd254064b34634760a762d69": {
     "model_module": "@jupyter-widgets/base",
     "model_module_version": "1.2.0",
     "model_name": "LayoutModel",
     "state": {
      "_model_module": "@jupyter-widgets/base",
      "_model_module_version": "1.2.0",
      "_model_name": "LayoutModel",
      "_view_count": null,
      "_view_module": "@jupyter-widgets/base",
      "_view_module_version": "1.2.0",
      "_view_name": "LayoutView",
      "align_content": null,
      "align_items": null,
      "align_self": null,
      "border": null,
      "bottom": null,
      "display": null,
      "flex": null,
      "flex_flow": null,
      "grid_area": null,
      "grid_auto_columns": null,
      "grid_auto_flow": null,
      "grid_auto_rows": null,
      "grid_column": null,
      "grid_gap": null,
      "grid_row": null,
      "grid_template_areas": null,
      "grid_template_columns": null,
      "grid_template_rows": null,
      "height": null,
      "justify_content": null,
      "justify_items": null,
      "left": null,
      "margin": null,
      "max_height": null,
      "max_width": null,
      "min_height": null,
      "min_width": null,
      "object_fit": null,
      "object_position": null,
      "order": null,
      "overflow": null,
      "overflow_x": null,
      "overflow_y": null,
      "padding": null,
      "right": null,
      "top": null,
      "visibility": null,
      "width": null
     }
    },
    "e72d713f37884591985e49cf0c8216f8": {
     "model_module": "@jupyter-widgets/controls",
     "model_module_version": "1.5.0",
     "model_name": "FloatProgressModel",
     "state": {
      "_dom_classes": [],
      "_model_module": "@jupyter-widgets/controls",
      "_model_module_version": "1.5.0",
      "_model_name": "FloatProgressModel",
      "_view_count": null,
      "_view_module": "@jupyter-widgets/controls",
      "_view_module_version": "1.5.0",
      "_view_name": "ProgressView",
      "bar_style": "success",
      "description": "",
      "description_tooltip": null,
      "layout": "IPY_MODEL_db95b822523b4732aab275f7b807f9d6",
      "max": 49985402,
      "min": 0,
      "orientation": "horizontal",
      "style": "IPY_MODEL_005b1f31f901459fbceaadc51996952e",
      "value": 49985402
     }
    },
    "e7af93f5fa1141d4b9a86528aa6f4b12": {
     "model_module": "@jupyter-widgets/controls",
     "model_module_version": "1.5.0",
     "model_name": "HTMLModel",
     "state": {
      "_dom_classes": [],
      "_model_module": "@jupyter-widgets/controls",
      "_model_module_version": "1.5.0",
      "_model_name": "HTMLModel",
      "_view_count": null,
      "_view_module": "@jupyter-widgets/controls",
      "_view_module_version": "1.5.0",
      "_view_name": "HTMLView",
      "description": "",
      "description_tooltip": null,
      "layout": "IPY_MODEL_591c05ea0f2947b5a56e4318289d7974",
      "placeholder": "​",
      "style": "IPY_MODEL_7656129ec9924271b2ea6e4c7388900a",
      "value": " 379k/? [00:00&lt;00:00, 11.6MB/s]"
     }
    },
    "e7ced1329f384b7eb15e9a6b72f6c552": {
     "model_module": "@jupyter-widgets/base",
     "model_module_version": "1.2.0",
     "model_name": "LayoutModel",
     "state": {
      "_model_module": "@jupyter-widgets/base",
      "_model_module_version": "1.2.0",
      "_model_name": "LayoutModel",
      "_view_count": null,
      "_view_module": "@jupyter-widgets/base",
      "_view_module_version": "1.2.0",
      "_view_name": "LayoutView",
      "align_content": null,
      "align_items": null,
      "align_self": null,
      "border": null,
      "bottom": null,
      "display": null,
      "flex": null,
      "flex_flow": null,
      "grid_area": null,
      "grid_auto_columns": null,
      "grid_auto_flow": null,
      "grid_auto_rows": null,
      "grid_column": null,
      "grid_gap": null,
      "grid_row": null,
      "grid_template_areas": null,
      "grid_template_columns": null,
      "grid_template_rows": null,
      "height": null,
      "justify_content": null,
      "justify_items": null,
      "left": null,
      "margin": null,
      "max_height": null,
      "max_width": null,
      "min_height": null,
      "min_width": null,
      "object_fit": null,
      "object_position": null,
      "order": null,
      "overflow": null,
      "overflow_x": null,
      "overflow_y": null,
      "padding": null,
      "right": null,
      "top": null,
      "visibility": null,
      "width": null
     }
    },
    "e81b5d7539434625b0f12eaa5961a552": {
     "model_module": "@jupyter-widgets/controls",
     "model_module_version": "1.5.0",
     "model_name": "ProgressStyleModel",
     "state": {
      "_model_module": "@jupyter-widgets/controls",
      "_model_module_version": "1.5.0",
      "_model_name": "ProgressStyleModel",
      "_view_count": null,
      "_view_module": "@jupyter-widgets/base",
      "_view_module_version": "1.2.0",
      "_view_name": "StyleView",
      "bar_color": null,
      "description_width": ""
     }
    },
    "e8d718d52d0a43b8a042f2d2d0d7534a": {
     "model_module": "@jupyter-widgets/controls",
     "model_module_version": "1.5.0",
     "model_name": "HTMLModel",
     "state": {
      "_dom_classes": [],
      "_model_module": "@jupyter-widgets/controls",
      "_model_module_version": "1.5.0",
      "_model_name": "HTMLModel",
      "_view_count": null,
      "_view_module": "@jupyter-widgets/controls",
      "_view_module_version": "1.5.0",
      "_view_name": "HTMLView",
      "description": "",
      "description_tooltip": null,
      "layout": "IPY_MODEL_b21bd367e9c942d7be8d395cd43fe4b1",
      "placeholder": "​",
      "style": "IPY_MODEL_0ab8fdee6b09462282a65a7cca4ffdf0",
      "value": "Downloading https://raw.githubusercontent.com/stanfordnlp/stanza-resources/main/resources_1.8.0.json: "
     }
    },
    "e8d77cea43c0434ca401b8f7d40d43e7": {
     "model_module": "@jupyter-widgets/base",
     "model_module_version": "1.2.0",
     "model_name": "LayoutModel",
     "state": {
      "_model_module": "@jupyter-widgets/base",
      "_model_module_version": "1.2.0",
      "_model_name": "LayoutModel",
      "_view_count": null,
      "_view_module": "@jupyter-widgets/base",
      "_view_module_version": "1.2.0",
      "_view_name": "LayoutView",
      "align_content": null,
      "align_items": null,
      "align_self": null,
      "border": null,
      "bottom": null,
      "display": null,
      "flex": null,
      "flex_flow": null,
      "grid_area": null,
      "grid_auto_columns": null,
      "grid_auto_flow": null,
      "grid_auto_rows": null,
      "grid_column": null,
      "grid_gap": null,
      "grid_row": null,
      "grid_template_areas": null,
      "grid_template_columns": null,
      "grid_template_rows": null,
      "height": null,
      "justify_content": null,
      "justify_items": null,
      "left": null,
      "margin": null,
      "max_height": null,
      "max_width": null,
      "min_height": null,
      "min_width": null,
      "object_fit": null,
      "object_position": null,
      "order": null,
      "overflow": null,
      "overflow_x": null,
      "overflow_y": null,
      "padding": null,
      "right": null,
      "top": null,
      "visibility": null,
      "width": null
     }
    },
    "e90e1795edb5496998fe4005e39f6604": {
     "model_module": "@jupyter-widgets/controls",
     "model_module_version": "1.5.0",
     "model_name": "DescriptionStyleModel",
     "state": {
      "_model_module": "@jupyter-widgets/controls",
      "_model_module_version": "1.5.0",
      "_model_name": "DescriptionStyleModel",
      "_view_count": null,
      "_view_module": "@jupyter-widgets/base",
      "_view_module_version": "1.2.0",
      "_view_name": "StyleView",
      "description_width": ""
     }
    },
    "e946a27972df41ef888d35429d556f58": {
     "model_module": "@jupyter-widgets/controls",
     "model_module_version": "1.5.0",
     "model_name": "ProgressStyleModel",
     "state": {
      "_model_module": "@jupyter-widgets/controls",
      "_model_module_version": "1.5.0",
      "_model_name": "ProgressStyleModel",
      "_view_count": null,
      "_view_module": "@jupyter-widgets/base",
      "_view_module_version": "1.2.0",
      "_view_name": "StyleView",
      "bar_color": null,
      "description_width": ""
     }
    },
    "e9ca52915b8c480cbb4a8075ad3d7998": {
     "model_module": "@jupyter-widgets/controls",
     "model_module_version": "1.5.0",
     "model_name": "HBoxModel",
     "state": {
      "_dom_classes": [],
      "_model_module": "@jupyter-widgets/controls",
      "_model_module_version": "1.5.0",
      "_model_name": "HBoxModel",
      "_view_count": null,
      "_view_module": "@jupyter-widgets/controls",
      "_view_module_version": "1.5.0",
      "_view_name": "HBoxView",
      "box_style": "",
      "children": [
       "IPY_MODEL_63c9eb0f97fa4be58179b4d876991f96",
       "IPY_MODEL_b3c2b9c850164a9ab37770927889caeb",
       "IPY_MODEL_009dcaa33d9d491488b78dbb10c8adb0"
      ],
      "layout": "IPY_MODEL_e8d77cea43c0434ca401b8f7d40d43e7"
     }
    },
    "e9df5ca43fd243bb82f36e6f07b5ac6b": {
     "model_module": "@jupyter-widgets/controls",
     "model_module_version": "1.5.0",
     "model_name": "DescriptionStyleModel",
     "state": {
      "_model_module": "@jupyter-widgets/controls",
      "_model_module_version": "1.5.0",
      "_model_name": "DescriptionStyleModel",
      "_view_count": null,
      "_view_module": "@jupyter-widgets/base",
      "_view_module_version": "1.2.0",
      "_view_name": "StyleView",
      "description_width": ""
     }
    },
    "ea7b7de9ba8646fe9469879b8381e1ff": {
     "model_module": "@jupyter-widgets/base",
     "model_module_version": "1.2.0",
     "model_name": "LayoutModel",
     "state": {
      "_model_module": "@jupyter-widgets/base",
      "_model_module_version": "1.2.0",
      "_model_name": "LayoutModel",
      "_view_count": null,
      "_view_module": "@jupyter-widgets/base",
      "_view_module_version": "1.2.0",
      "_view_name": "LayoutView",
      "align_content": null,
      "align_items": null,
      "align_self": null,
      "border": null,
      "bottom": null,
      "display": null,
      "flex": null,
      "flex_flow": null,
      "grid_area": null,
      "grid_auto_columns": null,
      "grid_auto_flow": null,
      "grid_auto_rows": null,
      "grid_column": null,
      "grid_gap": null,
      "grid_row": null,
      "grid_template_areas": null,
      "grid_template_columns": null,
      "grid_template_rows": null,
      "height": null,
      "justify_content": null,
      "justify_items": null,
      "left": null,
      "margin": null,
      "max_height": null,
      "max_width": null,
      "min_height": null,
      "min_width": null,
      "object_fit": null,
      "object_position": null,
      "order": null,
      "overflow": null,
      "overflow_x": null,
      "overflow_y": null,
      "padding": null,
      "right": null,
      "top": null,
      "visibility": null,
      "width": null
     }
    },
    "ea8518516aca42d3a9e7ace60d12fd7e": {
     "model_module": "@jupyter-widgets/base",
     "model_module_version": "1.2.0",
     "model_name": "LayoutModel",
     "state": {
      "_model_module": "@jupyter-widgets/base",
      "_model_module_version": "1.2.0",
      "_model_name": "LayoutModel",
      "_view_count": null,
      "_view_module": "@jupyter-widgets/base",
      "_view_module_version": "1.2.0",
      "_view_name": "LayoutView",
      "align_content": null,
      "align_items": null,
      "align_self": null,
      "border": null,
      "bottom": null,
      "display": null,
      "flex": null,
      "flex_flow": null,
      "grid_area": null,
      "grid_auto_columns": null,
      "grid_auto_flow": null,
      "grid_auto_rows": null,
      "grid_column": null,
      "grid_gap": null,
      "grid_row": null,
      "grid_template_areas": null,
      "grid_template_columns": null,
      "grid_template_rows": null,
      "height": null,
      "justify_content": null,
      "justify_items": null,
      "left": null,
      "margin": null,
      "max_height": null,
      "max_width": null,
      "min_height": null,
      "min_width": null,
      "object_fit": null,
      "object_position": null,
      "order": null,
      "overflow": null,
      "overflow_x": null,
      "overflow_y": null,
      "padding": null,
      "right": null,
      "top": null,
      "visibility": null,
      "width": null
     }
    },
    "eb33622aa84e41dca729d204723b9c40": {
     "model_module": "@jupyter-widgets/controls",
     "model_module_version": "1.5.0",
     "model_name": "HTMLModel",
     "state": {
      "_dom_classes": [],
      "_model_module": "@jupyter-widgets/controls",
      "_model_module_version": "1.5.0",
      "_model_name": "HTMLModel",
      "_view_count": null,
      "_view_module": "@jupyter-widgets/controls",
      "_view_module_version": "1.5.0",
      "_view_name": "HTMLView",
      "description": "",
      "description_tooltip": null,
      "layout": "IPY_MODEL_e15d261c020e4c6f8132347e80f35ed6",
      "placeholder": "​",
      "style": "IPY_MODEL_a41b02d5743e4d278dde7124fae0e92e",
      "value": "Downloading https://huggingface.co/stanfordnlp/stanza-fa/resolve/v1.8.0/models/mwt/perdt.pt: 100%"
     }
    },
    "edde62d8216042278f0edf9189e0cfa3": {
     "model_module": "@jupyter-widgets/controls",
     "model_module_version": "1.5.0",
     "model_name": "HTMLModel",
     "state": {
      "_dom_classes": [],
      "_model_module": "@jupyter-widgets/controls",
      "_model_module_version": "1.5.0",
      "_model_name": "HTMLModel",
      "_view_count": null,
      "_view_module": "@jupyter-widgets/controls",
      "_view_module_version": "1.5.0",
      "_view_name": "HTMLView",
      "description": "",
      "description_tooltip": null,
      "layout": "IPY_MODEL_8d4f0c62f6a048c59397b4412b2d6eb0",
      "placeholder": "​",
      "style": "IPY_MODEL_3ca27fb6754b44ae83b9669d4d1530f8",
      "value": "Downloading https://huggingface.co/stanfordnlp/stanza-fa/resolve/v1.8.0/models/lemma/perdt_nocharlm.pt: 100%"
     }
    },
    "efc6d650203c4870b4de550b32505fda": {
     "model_module": "@jupyter-widgets/controls",
     "model_module_version": "1.5.0",
     "model_name": "FloatProgressModel",
     "state": {
      "_dom_classes": [],
      "_model_module": "@jupyter-widgets/controls",
      "_model_module_version": "1.5.0",
      "_model_name": "FloatProgressModel",
      "_view_count": null,
      "_view_module": "@jupyter-widgets/controls",
      "_view_module_version": "1.5.0",
      "_view_name": "ProgressView",
      "bar_style": "success",
      "description": "",
      "description_tooltip": null,
      "layout": "IPY_MODEL_fd422c8fb2c74e1297877ab9e5500b3e",
      "max": 47208,
      "min": 0,
      "orientation": "horizontal",
      "style": "IPY_MODEL_40b9f2ad8c1a4b5993d702b4f05ea73f",
      "value": 47208
     }
    },
    "f052f91e7617448585c0cbc3a85ee982": {
     "model_module": "@jupyter-widgets/controls",
     "model_module_version": "1.5.0",
     "model_name": "DescriptionStyleModel",
     "state": {
      "_model_module": "@jupyter-widgets/controls",
      "_model_module_version": "1.5.0",
      "_model_name": "DescriptionStyleModel",
      "_view_count": null,
      "_view_module": "@jupyter-widgets/base",
      "_view_module_version": "1.2.0",
      "_view_name": "StyleView",
      "description_width": ""
     }
    },
    "f33a14efa95142688174f3cc8fe510f6": {
     "model_module": "@jupyter-widgets/controls",
     "model_module_version": "1.5.0",
     "model_name": "DescriptionStyleModel",
     "state": {
      "_model_module": "@jupyter-widgets/controls",
      "_model_module_version": "1.5.0",
      "_model_name": "DescriptionStyleModel",
      "_view_count": null,
      "_view_module": "@jupyter-widgets/base",
      "_view_module_version": "1.2.0",
      "_view_name": "StyleView",
      "description_width": ""
     }
    },
    "f352193e85414d9b98a7adef3a09edef": {
     "model_module": "@jupyter-widgets/controls",
     "model_module_version": "1.5.0",
     "model_name": "FloatProgressModel",
     "state": {
      "_dom_classes": [],
      "_model_module": "@jupyter-widgets/controls",
      "_model_module_version": "1.5.0",
      "_model_name": "FloatProgressModel",
      "_view_count": null,
      "_view_module": "@jupyter-widgets/controls",
      "_view_module_version": "1.5.0",
      "_view_name": "ProgressView",
      "bar_style": "success",
      "description": "",
      "description_tooltip": null,
      "layout": "IPY_MODEL_4976be17cd3d4f65a7eb3f8676eea21f",
      "max": 49985402,
      "min": 0,
      "orientation": "horizontal",
      "style": "IPY_MODEL_e81b5d7539434625b0f12eaa5961a552",
      "value": 49985402
     }
    },
    "f4a80a91cf2f4418a38cfda61002cc3a": {
     "model_module": "@jupyter-widgets/base",
     "model_module_version": "1.2.0",
     "model_name": "LayoutModel",
     "state": {
      "_model_module": "@jupyter-widgets/base",
      "_model_module_version": "1.2.0",
      "_model_name": "LayoutModel",
      "_view_count": null,
      "_view_module": "@jupyter-widgets/base",
      "_view_module_version": "1.2.0",
      "_view_name": "LayoutView",
      "align_content": null,
      "align_items": null,
      "align_self": null,
      "border": null,
      "bottom": null,
      "display": null,
      "flex": null,
      "flex_flow": null,
      "grid_area": null,
      "grid_auto_columns": null,
      "grid_auto_flow": null,
      "grid_auto_rows": null,
      "grid_column": null,
      "grid_gap": null,
      "grid_row": null,
      "grid_template_areas": null,
      "grid_template_columns": null,
      "grid_template_rows": null,
      "height": null,
      "justify_content": null,
      "justify_items": null,
      "left": null,
      "margin": null,
      "max_height": null,
      "max_width": null,
      "min_height": null,
      "min_width": null,
      "object_fit": null,
      "object_position": null,
      "order": null,
      "overflow": null,
      "overflow_x": null,
      "overflow_y": null,
      "padding": null,
      "right": null,
      "top": null,
      "visibility": null,
      "width": null
     }
    },
    "f5f6edba8b094d5e8dc92b04aa2c2d46": {
     "model_module": "@jupyter-widgets/base",
     "model_module_version": "1.2.0",
     "model_name": "LayoutModel",
     "state": {
      "_model_module": "@jupyter-widgets/base",
      "_model_module_version": "1.2.0",
      "_model_name": "LayoutModel",
      "_view_count": null,
      "_view_module": "@jupyter-widgets/base",
      "_view_module_version": "1.2.0",
      "_view_name": "LayoutView",
      "align_content": null,
      "align_items": null,
      "align_self": null,
      "border": null,
      "bottom": null,
      "display": null,
      "flex": null,
      "flex_flow": null,
      "grid_area": null,
      "grid_auto_columns": null,
      "grid_auto_flow": null,
      "grid_auto_rows": null,
      "grid_column": null,
      "grid_gap": null,
      "grid_row": null,
      "grid_template_areas": null,
      "grid_template_columns": null,
      "grid_template_rows": null,
      "height": null,
      "justify_content": null,
      "justify_items": null,
      "left": null,
      "margin": null,
      "max_height": null,
      "max_width": null,
      "min_height": null,
      "min_width": null,
      "object_fit": null,
      "object_position": null,
      "order": null,
      "overflow": null,
      "overflow_x": null,
      "overflow_y": null,
      "padding": null,
      "right": null,
      "top": null,
      "visibility": null,
      "width": null
     }
    },
    "f680ed67b2204a48b4c554b285c3d072": {
     "model_module": "@jupyter-widgets/controls",
     "model_module_version": "1.5.0",
     "model_name": "HTMLModel",
     "state": {
      "_dom_classes": [],
      "_model_module": "@jupyter-widgets/controls",
      "_model_module_version": "1.5.0",
      "_model_name": "HTMLModel",
      "_view_count": null,
      "_view_module": "@jupyter-widgets/controls",
      "_view_module_version": "1.5.0",
      "_view_name": "HTMLView",
      "description": "",
      "description_tooltip": null,
      "layout": "IPY_MODEL_6ebf4197888e4a75b411de95224496e1",
      "placeholder": "​",
      "style": "IPY_MODEL_aecafc0c737246019628dc34527d9cf6",
      "value": "Downloading https://huggingface.co/stanfordnlp/stanza-fa/resolve/v1.8.0/models/mwt/perdt.pt: 100%"
     }
    },
    "f6eef125e2cf4863b2c7fdc872713200": {
     "model_module": "@jupyter-widgets/controls",
     "model_module_version": "1.5.0",
     "model_name": "HTMLModel",
     "state": {
      "_dom_classes": [],
      "_model_module": "@jupyter-widgets/controls",
      "_model_module_version": "1.5.0",
      "_model_name": "HTMLModel",
      "_view_count": null,
      "_view_module": "@jupyter-widgets/controls",
      "_view_module_version": "1.5.0",
      "_view_name": "HTMLView",
      "description": "",
      "description_tooltip": null,
      "layout": "IPY_MODEL_2db11163d19a474c9ce10364eda997e0",
      "placeholder": "​",
      "style": "IPY_MODEL_891ccaa8a010464a83db19107d4f2be7",
      "value": " 134M/134M [00:09&lt;00:00, 15.9MB/s]"
     }
    },
    "f6ef49e20e3a4b5ca4cdd9cbfcc4a941": {
     "model_module": "@jupyter-widgets/controls",
     "model_module_version": "1.5.0",
     "model_name": "DescriptionStyleModel",
     "state": {
      "_model_module": "@jupyter-widgets/controls",
      "_model_module_version": "1.5.0",
      "_model_name": "DescriptionStyleModel",
      "_view_count": null,
      "_view_module": "@jupyter-widgets/base",
      "_view_module_version": "1.2.0",
      "_view_name": "StyleView",
      "description_width": ""
     }
    },
    "f75e5453b06d49b48540de330b015145": {
     "model_module": "@jupyter-widgets/base",
     "model_module_version": "1.2.0",
     "model_name": "LayoutModel",
     "state": {
      "_model_module": "@jupyter-widgets/base",
      "_model_module_version": "1.2.0",
      "_model_name": "LayoutModel",
      "_view_count": null,
      "_view_module": "@jupyter-widgets/base",
      "_view_module_version": "1.2.0",
      "_view_name": "LayoutView",
      "align_content": null,
      "align_items": null,
      "align_self": null,
      "border": null,
      "bottom": null,
      "display": null,
      "flex": null,
      "flex_flow": null,
      "grid_area": null,
      "grid_auto_columns": null,
      "grid_auto_flow": null,
      "grid_auto_rows": null,
      "grid_column": null,
      "grid_gap": null,
      "grid_row": null,
      "grid_template_areas": null,
      "grid_template_columns": null,
      "grid_template_rows": null,
      "height": null,
      "justify_content": null,
      "justify_items": null,
      "left": null,
      "margin": null,
      "max_height": null,
      "max_width": null,
      "min_height": null,
      "min_width": null,
      "object_fit": null,
      "object_position": null,
      "order": null,
      "overflow": null,
      "overflow_x": null,
      "overflow_y": null,
      "padding": null,
      "right": null,
      "top": null,
      "visibility": null,
      "width": null
     }
    },
    "f8ed9b059db34b009fd45917749c99c4": {
     "model_module": "@jupyter-widgets/controls",
     "model_module_version": "1.5.0",
     "model_name": "ProgressStyleModel",
     "state": {
      "_model_module": "@jupyter-widgets/controls",
      "_model_module_version": "1.5.0",
      "_model_name": "ProgressStyleModel",
      "_view_count": null,
      "_view_module": "@jupyter-widgets/base",
      "_view_module_version": "1.2.0",
      "_view_name": "StyleView",
      "bar_color": null,
      "description_width": ""
     }
    },
    "f97ee59c2d234f748f533faa4e592a00": {
     "model_module": "@jupyter-widgets/controls",
     "model_module_version": "1.5.0",
     "model_name": "HTMLModel",
     "state": {
      "_dom_classes": [],
      "_model_module": "@jupyter-widgets/controls",
      "_model_module_version": "1.5.0",
      "_model_name": "HTMLModel",
      "_view_count": null,
      "_view_module": "@jupyter-widgets/controls",
      "_view_module_version": "1.5.0",
      "_view_name": "HTMLView",
      "description": "",
      "description_tooltip": null,
      "layout": "IPY_MODEL_6a2a631a73214e74b6eda5b5be798ebd",
      "placeholder": "​",
      "style": "IPY_MODEL_f9fc2b16f87847e28fb8fae2ad2b5c2c",
      "value": " 379k/? [00:00&lt;00:00, 10.5MB/s]"
     }
    },
    "f9fc2b16f87847e28fb8fae2ad2b5c2c": {
     "model_module": "@jupyter-widgets/controls",
     "model_module_version": "1.5.0",
     "model_name": "DescriptionStyleModel",
     "state": {
      "_model_module": "@jupyter-widgets/controls",
      "_model_module_version": "1.5.0",
      "_model_name": "DescriptionStyleModel",
      "_view_count": null,
      "_view_module": "@jupyter-widgets/base",
      "_view_module_version": "1.2.0",
      "_view_name": "StyleView",
      "description_width": ""
     }
    },
    "fa027a59df234de087895e977cfca5df": {
     "model_module": "@jupyter-widgets/base",
     "model_module_version": "1.2.0",
     "model_name": "LayoutModel",
     "state": {
      "_model_module": "@jupyter-widgets/base",
      "_model_module_version": "1.2.0",
      "_model_name": "LayoutModel",
      "_view_count": null,
      "_view_module": "@jupyter-widgets/base",
      "_view_module_version": "1.2.0",
      "_view_name": "LayoutView",
      "align_content": null,
      "align_items": null,
      "align_self": null,
      "border": null,
      "bottom": null,
      "display": null,
      "flex": null,
      "flex_flow": null,
      "grid_area": null,
      "grid_auto_columns": null,
      "grid_auto_flow": null,
      "grid_auto_rows": null,
      "grid_column": null,
      "grid_gap": null,
      "grid_row": null,
      "grid_template_areas": null,
      "grid_template_columns": null,
      "grid_template_rows": null,
      "height": null,
      "justify_content": null,
      "justify_items": null,
      "left": null,
      "margin": null,
      "max_height": null,
      "max_width": null,
      "min_height": null,
      "min_width": null,
      "object_fit": null,
      "object_position": null,
      "order": null,
      "overflow": null,
      "overflow_x": null,
      "overflow_y": null,
      "padding": null,
      "right": null,
      "top": null,
      "visibility": null,
      "width": null
     }
    },
    "faa02c0e0173494db28e01ff14fabe62": {
     "model_module": "@jupyter-widgets/base",
     "model_module_version": "1.2.0",
     "model_name": "LayoutModel",
     "state": {
      "_model_module": "@jupyter-widgets/base",
      "_model_module_version": "1.2.0",
      "_model_name": "LayoutModel",
      "_view_count": null,
      "_view_module": "@jupyter-widgets/base",
      "_view_module_version": "1.2.0",
      "_view_name": "LayoutView",
      "align_content": null,
      "align_items": null,
      "align_self": null,
      "border": null,
      "bottom": null,
      "display": null,
      "flex": null,
      "flex_flow": null,
      "grid_area": null,
      "grid_auto_columns": null,
      "grid_auto_flow": null,
      "grid_auto_rows": null,
      "grid_column": null,
      "grid_gap": null,
      "grid_row": null,
      "grid_template_areas": null,
      "grid_template_columns": null,
      "grid_template_rows": null,
      "height": null,
      "justify_content": null,
      "justify_items": null,
      "left": null,
      "margin": null,
      "max_height": null,
      "max_width": null,
      "min_height": null,
      "min_width": null,
      "object_fit": null,
      "object_position": null,
      "order": null,
      "overflow": null,
      "overflow_x": null,
      "overflow_y": null,
      "padding": null,
      "right": null,
      "top": null,
      "visibility": null,
      "width": null
     }
    },
    "fd422c8fb2c74e1297877ab9e5500b3e": {
     "model_module": "@jupyter-widgets/base",
     "model_module_version": "1.2.0",
     "model_name": "LayoutModel",
     "state": {
      "_model_module": "@jupyter-widgets/base",
      "_model_module_version": "1.2.0",
      "_model_name": "LayoutModel",
      "_view_count": null,
      "_view_module": "@jupyter-widgets/base",
      "_view_module_version": "1.2.0",
      "_view_name": "LayoutView",
      "align_content": null,
      "align_items": null,
      "align_self": null,
      "border": null,
      "bottom": null,
      "display": null,
      "flex": null,
      "flex_flow": null,
      "grid_area": null,
      "grid_auto_columns": null,
      "grid_auto_flow": null,
      "grid_auto_rows": null,
      "grid_column": null,
      "grid_gap": null,
      "grid_row": null,
      "grid_template_areas": null,
      "grid_template_columns": null,
      "grid_template_rows": null,
      "height": null,
      "justify_content": null,
      "justify_items": null,
      "left": null,
      "margin": null,
      "max_height": null,
      "max_width": null,
      "min_height": null,
      "min_width": null,
      "object_fit": null,
      "object_position": null,
      "order": null,
      "overflow": null,
      "overflow_x": null,
      "overflow_y": null,
      "padding": null,
      "right": null,
      "top": null,
      "visibility": null,
      "width": null
     }
    },
    "fd49fe92e75d4764ad667c0772f0b947": {
     "model_module": "@jupyter-widgets/controls",
     "model_module_version": "1.5.0",
     "model_name": "DescriptionStyleModel",
     "state": {
      "_model_module": "@jupyter-widgets/controls",
      "_model_module_version": "1.5.0",
      "_model_name": "DescriptionStyleModel",
      "_view_count": null,
      "_view_module": "@jupyter-widgets/base",
      "_view_module_version": "1.2.0",
      "_view_name": "StyleView",
      "description_width": ""
     }
    },
    "fe8efd85a5124cc79f97d03deb7e7d5b": {
     "model_module": "@jupyter-widgets/base",
     "model_module_version": "1.2.0",
     "model_name": "LayoutModel",
     "state": {
      "_model_module": "@jupyter-widgets/base",
      "_model_module_version": "1.2.0",
      "_model_name": "LayoutModel",
      "_view_count": null,
      "_view_module": "@jupyter-widgets/base",
      "_view_module_version": "1.2.0",
      "_view_name": "LayoutView",
      "align_content": null,
      "align_items": null,
      "align_self": null,
      "border": null,
      "bottom": null,
      "display": null,
      "flex": null,
      "flex_flow": null,
      "grid_area": null,
      "grid_auto_columns": null,
      "grid_auto_flow": null,
      "grid_auto_rows": null,
      "grid_column": null,
      "grid_gap": null,
      "grid_row": null,
      "grid_template_areas": null,
      "grid_template_columns": null,
      "grid_template_rows": null,
      "height": null,
      "justify_content": null,
      "justify_items": null,
      "left": null,
      "margin": null,
      "max_height": null,
      "max_width": null,
      "min_height": null,
      "min_width": null,
      "object_fit": null,
      "object_position": null,
      "order": null,
      "overflow": null,
      "overflow_x": null,
      "overflow_y": null,
      "padding": null,
      "right": null,
      "top": null,
      "visibility": null,
      "width": null
     }
    },
    "ffc052344fb44884b025c68b8b48f2ba": {
     "model_module": "@jupyter-widgets/controls",
     "model_module_version": "1.5.0",
     "model_name": "FloatProgressModel",
     "state": {
      "_dom_classes": [],
      "_model_module": "@jupyter-widgets/controls",
      "_model_module_version": "1.5.0",
      "_model_name": "FloatProgressModel",
      "_view_count": null,
      "_view_module": "@jupyter-widgets/controls",
      "_view_module_version": "1.5.0",
      "_view_name": "ProgressView",
      "bar_style": "success",
      "description": "",
      "description_tooltip": null,
      "layout": "IPY_MODEL_d10ccfee686b4c8d9a1be2b59264919b",
      "max": 107536386,
      "min": 0,
      "orientation": "horizontal",
      "style": "IPY_MODEL_e172f0115b064d6eb550b95e9ccfb7db",
      "value": 107536386
     }
    }
   }
  }
 },
 "nbformat": 4,
 "nbformat_minor": 1
}
